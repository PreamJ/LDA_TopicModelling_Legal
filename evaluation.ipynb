{
 "cells": [
  {
   "cell_type": "code",
   "execution_count": 40,
   "metadata": {},
   "outputs": [],
   "source": [
    "from sklearn import metrics\n",
    "import numpy as np\n",
    "import pandas as pd\n",
    "import pickle\n",
    "import re\n",
    "import mymodule"
   ]
  },
  {
   "cell_type": "code",
   "execution_count": 29,
   "metadata": {},
   "outputs": [],
   "source": [
    "with open('model/lda_model.pkl', 'rb') as f:\n",
    "  lda_model = pickle.load(f) #import lda model\n",
    "  \n",
    "data = pd.read_csv('dataset/DatasetLegal.csv') #read data\n",
    "question_data = data['question']\n",
    "train_question_data = question_data[:6031]\n",
    "test_question_data = question_data[6031:]\n",
    "\n",
    "with open('model/topic_dict.pkl', 'rb') as f:\n",
    "  topic_dict = pickle.load(f)\n",
    "\n",
    "with open('model/question_lda.pkl', 'rb') as f:\n",
    "   question_lda = pickle.load(f)"
   ]
  },
  {
   "cell_type": "code",
   "execution_count": 9,
   "metadata": {},
   "outputs": [],
   "source": [
    "str_answer = train_question_data.astype(str)\n",
    "str_answer = str_answer.map(lambda x: re.sub('[,\\.!?#]', '', x))\n",
    "corpus = [mymodule.preprocess(text) for text in str_answer]\n",
    "pred_score = [lda_model[text] for text in corpus]"
   ]
  },
  {
   "cell_type": "code",
   "execution_count": 30,
   "metadata": {},
   "outputs": [
    {
     "name": "stdout",
     "output_type": "stream",
     "text": [
      "[1, 3, 0, 6, 0, 4, 0, 4, 6, 4]\n",
      "['family', 'children', 'contract', 'succession', 'contract', 'sentence', 'contract', 'sentence', 'succession', 'sentence']\n"
     ]
    }
   ],
   "source": [
    "pred_score"
   ]
  },
  {
   "cell_type": "code",
   "execution_count": 31,
   "metadata": {},
   "outputs": [
    {
     "data": {
      "text/plain": [
       "0         family\n",
       "1         family\n",
       "2       contract\n",
       "3         family\n",
       "4       contract\n",
       "          ...   \n",
       "7026    contract\n",
       "7027    contract\n",
       "7028    criminal\n",
       "7029    criminal\n",
       "7030    contract\n",
       "Name: Classes, Length: 7031, dtype: object"
      ]
     },
     "execution_count": 31,
     "metadata": {},
     "output_type": "execute_result"
    }
   ],
   "source": [
    "# for each_doc in pred_score:\n",
    "#     i = 0\n",
    "#     for each_topic in each_doc:\n",
    "#         if(each_topic[0] == i): i+=1\n",
    "#         else: \n",
    "#             each_doc.insert(i, (i, 0))\n",
    "#             i+=1\n",
    "# จะติดว่า ถ้าตัวสุดท้ายหายไป มันจะไม่สน เช่น index 5 หาย\n",
    "# แต่ถ้าเราสร้าง if เช็คแค่ index สุดท้าย ก็จะมีปัญหาเรื่อง ถ้าหาย index 4 5 หรือว่ามากกว่า T^T"
   ]
  },
  {
   "cell_type": "code",
   "execution_count": 34,
   "metadata": {},
   "outputs": [],
   "source": [
    "# for each_doc in pred_score:\n",
    "#     for i in range(6):\n",
    "#         if(each_doc[i][0] != i): each_doc.insert(i, (i, 0))\n",
    "# list index out of range "
   ]
  },
  {
   "cell_type": "code",
   "execution_count": 35,
   "metadata": {},
   "outputs": [
    {
     "data": {
      "text/plain": [
       "0.4667899303086332"
      ]
     },
     "execution_count": 35,
     "metadata": {},
     "output_type": "execute_result"
    }
   ],
   "source": [
    "for each_doc in pred_score:\n",
    "    i = 0\n",
    "    for each_topic in each_doc:\n",
    "        if(each_topic[0] == i): i+=1\n",
    "        else: \n",
    "            each_doc.insert(i, (i, 0))\n",
    "            i+=1\n",
    "    while(i < 6):\n",
    "        each_doc.append((i, 0))\n",
    "        i+=1"
   ]
  },
  {
   "cell_type": "code",
   "execution_count": 38,
   "metadata": {},
   "outputs": [
    {
     "data": {
      "text/plain": [
       "array([[   0,    1,   19,    0,   32,    4,    5,  317,    4],\n",
       "       [   0,    0,    0,    0,    0,    0,    0,    0,    0],\n",
       "       [   0,   94, 2044,    0,    8,   33,  149,  158,   48],\n",
       "       [   0,    6,    8,    0,   14,    7,   32,  987,    2],\n",
       "       [   0,  538,   34,    0,  464,    5,   11,   67,  995],\n",
       "       [   0,    2,   14,    0,    4,  774,  145,    5,    1],\n",
       "       [   0,    0,    0,    0,    0,    0,    0,    0,    0],\n",
       "       [   0,    0,    0,    0,    0,    0,    0,    0,    0],\n",
       "       [   0,    0,    0,    0,    0,    0,    0,    0,    0]],\n",
       "      dtype=int64)"
      ]
     },
     "execution_count": 38,
     "metadata": {},
     "output_type": "execute_result"
    }
   ],
   "source": [
    "pred_score[6029:]"
   ]
  },
  {
   "cell_type": "code",
   "execution_count": 41,
   "metadata": {},
   "outputs": [
    {
     "name": "stderr",
     "output_type": "stream",
     "text": [
      "c:\\Users\\User\\anaconda3\\lib\\site-packages\\sklearn\\metrics\\_classification.py:1327: UndefinedMetricWarning: Precision and F-score are ill-defined and being set to 0.0 in labels with no predicted samples. Use `zero_division` parameter to control this behavior.\n",
      "  _warn_prf(average, modifier, msg_start, len(result))\n",
      "c:\\Users\\User\\anaconda3\\lib\\site-packages\\sklearn\\metrics\\_classification.py:1327: UndefinedMetricWarning: Recall and F-score are ill-defined and being set to 0.0 in labels with no true samples. Use `zero_division` parameter to control this behavior.\n",
      "  _warn_prf(average, modifier, msg_start, len(result))\n"
     ]
    },
    {
     "data": {
      "text/plain": [
       "(array([0.        , 0.        , 0.96460595, 0.        , 0.88888889,\n",
       "        0.94046173, 0.        , 0.        , 0.        ]),\n",
       " array([0.        , 0.        , 0.80662983, 0.        , 0.21948912,\n",
       "        0.81904762, 0.        , 0.        , 0.        ]),\n",
       " array([0.        , 0.        , 0.87857296, 0.        , 0.35204856,\n",
       "        0.87556561, 0.        , 0.        , 0.        ]),\n",
       " array([ 382,    0, 2534, 1056, 2114,  945,    0,    0,    0], dtype=int64))"
      ]
     },
     "execution_count": 41,
     "metadata": {},
     "output_type": "execute_result"
    }
   ],
   "source": [
    "y_predict=[]\n",
    "for each_topic in pred_score:\n",
    "  temp_pred = []\n",
    "  for topic in each_topic:\n",
    "    if(topic[1]>0.167): temp_pred.append(1)\n",
    "    else: temp_pred.append(0)\n",
    "  y_predict.append(temp_pred)\n",
    "# y_predict = np.array(y_predict)\n",
    "y_predict"
   ]
  },
  {
   "cell_type": "code",
   "execution_count": 49,
   "metadata": {},
   "outputs": [
    {
     "name": "stdout",
     "output_type": "stream",
     "text": [
      "Accuracy: 0.4667899303086332\n",
      "Precision: 0.7413111803844005\n",
      "Recall: 0.4667899303086332\n",
      "F1-score: 0.5401712480059311\n"
     ]
    },
    {
     "name": "stderr",
     "output_type": "stream",
     "text": [
      "c:\\Users\\User\\anaconda3\\lib\\site-packages\\sklearn\\metrics\\_classification.py:1327: UndefinedMetricWarning: Precision is ill-defined and being set to 0.0 in labels with no predicted samples. Use `zero_division` parameter to control this behavior.\n",
      "  _warn_prf(average, modifier, msg_start, len(result))\n",
      "c:\\Users\\User\\anaconda3\\lib\\site-packages\\sklearn\\metrics\\_classification.py:1327: UndefinedMetricWarning: Recall is ill-defined and being set to 0.0 in labels with no true samples. Use `zero_division` parameter to control this behavior.\n",
      "  _warn_prf(average, modifier, msg_start, len(result))\n"
     ]
    }
   ],
   "source": [
    "for each_doc in y_predict:\n",
    "    each_doc.pop(0)\n",
    "y_predict"
   ]
  },
  {
   "cell_type": "code",
   "execution_count": null,
   "metadata": {},
   "outputs": [],
   "source": [
    "test = data['Classes']\n",
    "test = test[:6031]\n",
    "y_test = []\n",
    "topics_of_interest = ['Violation', 'family', 'criminal', 'contract', 'labor']\n",
    "for sample in test:\n",
    "    temp_test = []\n",
    "    # Loop over each topic of interest\n",
    "    for topic in topics_of_interest:\n",
    "        if topic in sample:\n",
    "            temp_test.append(1)\n",
    "        else:\n",
    "            temp_test.append(0)\n",
    "    y_test.append(temp_test)"
   ]
  },
  {
   "cell_type": "code",
   "execution_count": null,
   "metadata": {},
   "outputs": [],
   "source": [
    "print(len(y_test))\n",
    "y_test\n"
   ]
  },
  {
   "cell_type": "code",
   "execution_count": null,
   "metadata": {},
   "outputs": [],
   "source": [
    "y_true = y_test\n",
    "y_pred = y_predict"
   ]
  },
  {
   "cell_type": "code",
   "execution_count": null,
   "metadata": {},
   "outputs": [],
   "source": [
    "metrics.accuracy_score(y_true, y_pred)"
   ]
  },
  {
   "cell_type": "code",
   "execution_count": null,
   "metadata": {},
   "outputs": [],
   "source": [
    "metrics.multilabel_confusion_matrix(y_true, y_pred)"
   ]
  },
  {
   "cell_type": "code",
   "execution_count": null,
   "metadata": {},
   "outputs": [],
   "source": [
    "label_names = ['violation', 'family', 'criminal', 'contract', 'labor']\n",
    "print(metrics.classification_report(y_true, y_pred,target_names=label_names))"
   ]
  },
  {
   "cell_type": "code",
   "execution_count": null,
   "metadata": {},
   "outputs": [],
   "source": []
  },
  {
   "cell_type": "code",
   "execution_count": null,
   "metadata": {},
   "outputs": [],
   "source": []
  }
 ],
 "metadata": {
  "kernelspec": {
   "display_name": "base",
   "language": "python",
   "name": "python3"
  },
  "language_info": {
   "codemirror_mode": {
    "name": "ipython",
    "version": 3
   },
   "file_extension": ".py",
   "mimetype": "text/x-python",
   "name": "python",
   "nbconvert_exporter": "python",
   "pygments_lexer": "ipython3",
   "version": "3.9.13"
  },
  "orig_nbformat": 4
 },
 "nbformat": 4,
 "nbformat_minor": 2
}
