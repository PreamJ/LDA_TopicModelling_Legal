{
 "cells": [
  {
   "cell_type": "code",
   "execution_count": 1,
   "metadata": {},
   "outputs": [],
   "source": [
    "import pandas as pd\n",
    "import numpy as np\n",
    "import re\n",
    "import gensim\n",
    "from pythainlp.tokenize import word_tokenize\n",
    "from pythainlp.corpus import thai_stopwords\n",
    "from wordcloud import WordCloud\n",
    "from gensim import corpora, models, similarities\n",
    "import pyLDAvis\n",
    "from pprint import pprint\n",
    "import pickle \n",
    "import os\n",
    "import matplotlib.pyplot as plt\n",
    "from gensim.models import CoherenceModel\n",
    "from gensim.test.utils import datapath\n",
    "import random\n",
    "from gensim.models.ldamodel import LdaModel\n",
    "import sklearn\n",
    "from sklearn.metrics.pairwise import cosine_similarity\n",
    "from sklearn.decomposition import LatentDirichletAllocation\n",
    "from sklearn.feature_extraction.text import CountVectorizer\n",
    "from gensim.corpora import MmCorpus\n",
    "import csv\n",
    "import pyLDAvis.gensim_models as gensimvis\n",
    "RANDOM_STATE = 1"
   ]
  },
  {
   "cell_type": "code",
   "execution_count": 2,
   "metadata": {},
   "outputs": [],
   "source": [
    "data = pd.read_csv('dataset/DatasetLegal.csv')\n",
    "with open('model/id2word.pkl', 'rb') as f:\n",
    "    id2word = pickle.load(f)\n",
    "with open(\"lda/topic_dict_5.pkl\", \"rb\") as f:\n",
    "   topic_dict = pickle.load(f)\n",
    "with open(\"lda/lda_model_5.pkl\", \"rb\") as f:\n",
    "    lda_model = pickle.load(f)\n",
    "corpus_question = corpora.MmCorpus('model/corpus_question.mm')\n",
    "\n",
    "str_answer = data['answer'].astype(str)\n",
    "str_answer = str_answer.map(lambda x: re.sub('[,.!?*#/]', '', x))\n",
    "str_question = data['question'].astype(str)\n",
    "str_question = str_question.map(lambda x: re.sub('[,.!?*#/]', '', x))\n",
    "\n",
    "train_answer = list(str_answer[:5625])\n",
    "test_answer = list(str_answer[5625:])\n",
    "train_question = list(str_question[:5625])\n",
    "test_question = list(str_question[5625:])"
   ]
  },
  {
   "cell_type": "code",
   "execution_count": 21,
   "metadata": {},
   "outputs": [],
   "source": [
    "label = data['Classes']\n",
    "label_train = label[:5625]\n",
    "label_test = label[5625:]\n",
    "label_train = label_train.values.tolist()\n",
    "label_test = label_test.values.tolist()\n",
    "se_topic = []\n",
    "family = []\n",
    "contract = []\n",
    "criminal = []\n",
    "Violation = []\n",
    "labor = []\n",
    "for i in range(len(label_train)):\n",
    "    if(label_train[i] == 'family'): \n",
    "        family.append(i)\n",
    "    elif(label_train[i] == 'contract'): \n",
    "        contract.append(i)\n",
    "    elif(label_train[i] == 'criminal'): \n",
    "        criminal.append(i)\n",
    "    elif(label_train[i] == 'Violation' or label_train[i] == 'violation'): \n",
    "        Violation.append(i)\n",
    "    elif(label_train[i] == 'labor'): \n",
    "        labor.append(i)\n",
    "se_topic.append(family)\n",
    "se_topic.append(contract)\n",
    "se_topic.append(criminal)\n",
    "se_topic.append(Violation)\n",
    "se_topic.append(labor)\n",
    "se_topic_test = []\n",
    "family_test = []\n",
    "contract_test = []\n",
    "criminal_test = []\n",
    "Violation_test = []\n",
    "labor_test = []\n",
    "for i in range(len(label_test)):\n",
    "    if(label_test[i] == 'family'): \n",
    "        family_test.append(i)\n",
    "    elif(label_test[i] == 'contract'): \n",
    "        contract_test.append(i)\n",
    "    elif(label_test[i] == 'criminal'): \n",
    "        criminal_test.append(i)\n",
    "    elif(label_test[i] == 'Violation' or label_test[i] == 'violation'): \n",
    "        Violation_test.append(i)\n",
    "    elif(label_test[i] == 'labor'): \n",
    "        labor_test.append(i)\n",
    "se_topic_test.append(family_test)\n",
    "se_topic_test.append(contract_test)\n",
    "se_topic_test.append(criminal_test)\n",
    "se_topic_test.append(Violation_test)\n",
    "se_topic_test.append(labor_test)\n",
    "# len(se_topic_test)"
   ]
  },
  {
   "cell_type": "code",
   "execution_count": 26,
   "metadata": {},
   "outputs": [
    {
     "data": {
      "text/plain": [
       "<gensim.corpora.mmcorpus.MmCorpus at 0x22dca9eab20>"
      ]
     },
     "execution_count": 26,
     "metadata": {},
     "output_type": "execute_result"
    }
   ],
   "source": [
    "corpus_question"
   ]
  },
  {
   "cell_type": "code",
   "execution_count": 4,
   "metadata": {},
   "outputs": [],
   "source": [
    "def preprocess(text):\n",
    "    stopwords = list(thai_stopwords())\n",
    "    read_stopwords = pd.read_csv('dataset/add_stopwords.csv')\n",
    "    add_stopwords = read_stopwords['stopword'].values.tolist()\n",
    "    result = []\n",
    "    str_text = str(text).replace(' ','')\n",
    "    word_token = word_tokenize(str_text, engine='newmm')\n",
    "    for word in word_token:\n",
    "        if(word not in stopwords + add_stopwords):\n",
    "            result.append(word)\n",
    "    return result"
   ]
  },
  {
   "cell_type": "code",
   "execution_count": 5,
   "metadata": {},
   "outputs": [],
   "source": [
    "corpus_lda = lda_model[corpus_question]\n",
    "index = similarities.MatrixSimilarity(corpus_lda, num_features=len(id2word))\n",
    "def lda_sim(new_doc_topics):\n",
    "    sims = index[new_doc_topics]\n",
    "    sims_sorted = sorted(enumerate(sims), key=lambda item: -item[1])\n",
    "    return sims_sorted[:100]"
   ]
  },
  {
   "cell_type": "code",
   "execution_count": 6,
   "metadata": {},
   "outputs": [],
   "source": [
    "similarity_index = similarities.MatrixSimilarity(corpus_question)\n",
    "def bow_sim(new_doc_topics):\n",
    "    similarities = similarity_index[new_doc_topics]\n",
    "    sorted_similarities = sorted(enumerate(similarities), key=lambda item: -item[1])\n",
    "    return sorted_similarities[:100]"
   ]
  },
  {
   "cell_type": "markdown",
   "metadata": {},
   "source": [
    "family"
   ]
  },
  {
   "cell_type": "code",
   "execution_count": 60,
   "metadata": {},
   "outputs": [
    {
     "data": {
      "text/plain": [
       "0.8534515366430272"
      ]
     },
     "execution_count": 60,
     "metadata": {},
     "output_type": "execute_result"
    }
   ],
   "source": [
    "bow_family_accuracy = []\n",
    "for i in se_topic_test[0]:\n",
    "    new_doc_topics = preprocess(test_question[i])\n",
    "    new_doc_topics = id2word.doc2bow(new_doc_topics)\n",
    "    topic = bow_sim(new_doc_topics)\n",
    "    count_true = 0\n",
    "    count_false = 0\n",
    "    for j in range (100):\n",
    "        if(topic[j][0] in se_topic[0]):\n",
    "            count_true += 1\n",
    "        else:\n",
    "            count_false += 1\n",
    "    bow_family_accuracy.append((count_true)/(count_true+count_false))\n",
    "bow_family_accuracy_result = sum(bow_family_accuracy)/len(bow_family_accuracy)\n",
    "bow_family_accuracy_result"
   ]
  },
  {
   "cell_type": "code",
   "execution_count": 19,
   "metadata": {},
   "outputs": [],
   "source": [
    "family_accuracy = []\n",
    "for i in se_topic_test[0]:\n",
    "    new_doc_topics = preprocess(test_question[i])\n",
    "    new_doc_topics = id2word.doc2bow(new_doc_topics)\n",
    "    new_doc_topics = lda_model.get_document_topics(new_doc_topics)\n",
    "    topic = lda_sim(new_doc_topics)\n",
    "    count_true = 0\n",
    "    count_false = 0\n",
    "    for j in range (100):\n",
    "        if(topic[j][0] in se_topic[0]):\n",
    "            count_true += 1\n",
    "        else:\n",
    "            count_false += 1\n",
    "    family_accuracy.append((count_true)/(count_true+count_false))\n",
    "family_accuracy_result = sum(family_accuracy)/len(family_accuracy)"
   ]
  },
  {
   "cell_type": "code",
   "execution_count": 46,
   "metadata": {},
   "outputs": [
    {
     "data": {
      "text/plain": [
       "0.9243498817966926"
      ]
     },
     "execution_count": 46,
     "metadata": {},
     "output_type": "execute_result"
    }
   ],
   "source": [
    "family_accuracy_result"
   ]
  },
  {
   "cell_type": "code",
   "execution_count": 7,
   "metadata": {},
   "outputs": [],
   "source": [
    "import random\n",
    "n = random.randint(1, 1406)\n",
    "\n",
    "random_family_accuracy = []\n",
    "for i in range(100):\n",
    "    new_doc_topics = preprocess(test_question[random.randint(1, 1406)])\n",
    "    new_doc_topics = id2word.doc2bow(new_doc_topics)\n",
    "    new_doc_topics = lda_model.get_document_topics(new_doc_topics)\n",
    "    topic = lda_sim(new_doc_topics)\n",
    "    count_true = 0\n",
    "    count_false = 0\n",
    "    for j in range (100):\n",
    "        if(topic[j][0] in se_topic[0]):\n",
    "            count_true += 1\n",
    "        else:\n",
    "            count_false += 1\n",
    "    random_family_accuracy.append((count_true)/(count_true+count_false))\n",
    "random_family_accuracy_result = sum(random_family_accuracy)/len(random_family_accuracy)\n"
   ]
  },
  {
   "cell_type": "code",
   "execution_count": 66,
   "metadata": {},
   "outputs": [
    {
     "data": {
      "text/plain": [
       "0.35010000000000013"
      ]
     },
     "execution_count": 66,
     "metadata": {},
     "output_type": "execute_result"
    }
   ],
   "source": [
    "random_family_accuracy_result"
   ]
  },
  {
   "cell_type": "code",
   "execution_count": null,
   "metadata": {},
   "outputs": [],
   "source": [
    "random_family_accuracy_result"
   ]
  },
  {
   "cell_type": "markdown",
   "metadata": {},
   "source": [
    "contract"
   ]
  },
  {
   "cell_type": "code",
   "execution_count": 8,
   "metadata": {},
   "outputs": [
    {
     "data": {
      "text/plain": [
       "0.6789161554192236"
      ]
     },
     "execution_count": 8,
     "metadata": {},
     "output_type": "execute_result"
    }
   ],
   "source": [
    "bow_contract_accuracy = []\n",
    "for i in se_topic_test[1]:\n",
    "    new_doc_topics = preprocess(test_question[i])\n",
    "    new_doc_topics = id2word.doc2bow(new_doc_topics)\n",
    "    topic = bow_sim(new_doc_topics)\n",
    "    count_true = 0\n",
    "    count_false = 0\n",
    "    for j in range (100):\n",
    "        if(topic[j][0] in se_topic[1]):\n",
    "            count_true += 1\n",
    "        else:\n",
    "            count_false += 1\n",
    "    bow_contract_accuracy.append((count_true)/(count_true+count_false))\n",
    "bow_contract_accuracy_result = sum(bow_contract_accuracy)/len(bow_contract_accuracy)\n",
    "bow_contract_accuracy_result"
   ]
  },
  {
   "cell_type": "code",
   "execution_count": 22,
   "metadata": {},
   "outputs": [],
   "source": [
    "contract_accuracy = []\n",
    "for i in se_topic_test[1]:\n",
    "    new_doc_topics = preprocess(test_question[i])\n",
    "    new_doc_topics = id2word.doc2bow(new_doc_topics)\n",
    "    new_doc_topics = lda_model.get_document_topics(new_doc_topics)\n",
    "    topic = lda_sim(new_doc_topics)\n",
    "    count_true = 0\n",
    "    count_false = 0\n",
    "    for j in range (100):\n",
    "        if(topic[j][0] in se_topic[1]):\n",
    "            count_true += 1\n",
    "        else:\n",
    "            count_false += 1\n",
    "    contract_accuracy.append((count_true)/(count_true+count_false))\n",
    "contract_accuracy_result = sum(contract_accuracy)/len(contract_accuracy)"
   ]
  },
  {
   "cell_type": "code",
   "execution_count": 71,
   "metadata": {},
   "outputs": [
    {
     "data": {
      "text/plain": [
       "0.6870552147239257"
      ]
     },
     "execution_count": 71,
     "metadata": {},
     "output_type": "execute_result"
    }
   ],
   "source": [
    "contract_accuracy_result"
   ]
  },
  {
   "cell_type": "code",
   "execution_count": 72,
   "metadata": {},
   "outputs": [],
   "source": [
    "random_contract_accuracy = []\n",
    "for i in range(100):\n",
    "    new_doc_topics = preprocess(test_question[random.randint(1, 1406)])\n",
    "    new_doc_topics = id2word.doc2bow(new_doc_topics)\n",
    "    new_doc_topics = lda_model.get_document_topics(new_doc_topics)\n",
    "    topic = lda_sim(new_doc_topics)\n",
    "    count_true = 0\n",
    "    count_false = 0\n",
    "    for j in range (100):\n",
    "        if(topic[j][0] in se_topic[1]):\n",
    "            count_true += 1\n",
    "        else:\n",
    "            count_false += 1\n",
    "    random_contract_accuracy.append((count_true)/(count_true+count_false))\n",
    "random_contract_accuracy_result = sum(random_contract_accuracy)/len(random_contract_accuracy)"
   ]
  },
  {
   "cell_type": "code",
   "execution_count": 73,
   "metadata": {},
   "outputs": [
    {
     "data": {
      "text/plain": [
       "0.3760000000000001"
      ]
     },
     "execution_count": 73,
     "metadata": {},
     "output_type": "execute_result"
    }
   ],
   "source": [
    "random_contract_accuracy_result"
   ]
  },
  {
   "cell_type": "markdown",
   "metadata": {},
   "source": [
    "criminal"
   ]
  },
  {
   "cell_type": "code",
   "execution_count": 14,
   "metadata": {},
   "outputs": [
    {
     "data": {
      "text/plain": [
       "0.6011009174311929"
      ]
     },
     "execution_count": 14,
     "metadata": {},
     "output_type": "execute_result"
    }
   ],
   "source": [
    "bow_criminal_accuracy = []\n",
    "for i in se_topic_test[2]:\n",
    "    new_doc_topics = preprocess(test_question[i])\n",
    "    new_doc_topics = id2word.doc2bow(new_doc_topics)\n",
    "    topic = bow_sim(new_doc_topics)\n",
    "    count_true = 0\n",
    "    count_false = 0\n",
    "    for j in range (100):\n",
    "        if(topic[j][0] in se_topic[2]):\n",
    "            count_true += 1\n",
    "        else:\n",
    "            count_false += 1\n",
    "    bow_criminal_accuracy.append((count_true)/(count_true+count_false))\n",
    "bow_criminal_accuracy_result = sum(bow_criminal_accuracy)/len(bow_criminal_accuracy)\n",
    "bow_criminal_accuracy_result"
   ]
  },
  {
   "cell_type": "code",
   "execution_count": 23,
   "metadata": {},
   "outputs": [],
   "source": [
    "criminal_accuracy = []\n",
    "for i in se_topic_test[2]:\n",
    "    new_doc_topics = preprocess(test_question[i])\n",
    "    new_doc_topics = id2word.doc2bow(new_doc_topics)\n",
    "    new_doc_topics = lda_model.get_document_topics(new_doc_topics)\n",
    "    topic = lda_sim(new_doc_topics)\n",
    "    count_true = 0\n",
    "    count_false = 0\n",
    "    for j in range (100):\n",
    "        if(topic[j][0] in se_topic[2]):\n",
    "            count_true += 1\n",
    "        else:\n",
    "            count_false += 1\n",
    "    criminal_accuracy.append((count_true)/(count_true+count_false))\n",
    "criminal_accuracy_result = sum(criminal_accuracy)/len(criminal_accuracy)"
   ]
  },
  {
   "cell_type": "code",
   "execution_count": 56,
   "metadata": {},
   "outputs": [
    {
     "data": {
      "text/plain": [
       "0.541880733944954"
      ]
     },
     "execution_count": 56,
     "metadata": {},
     "output_type": "execute_result"
    }
   ],
   "source": [
    "criminal_accuracy_result"
   ]
  },
  {
   "cell_type": "code",
   "execution_count": 24,
   "metadata": {},
   "outputs": [],
   "source": [
    "random_criminal_accuracy = []\n",
    "for i in range(100):\n",
    "    new_doc_topics = preprocess(test_question[random.randint(1, 1406)])\n",
    "    new_doc_topics = id2word.doc2bow(new_doc_topics)\n",
    "    new_doc_topics = lda_model.get_document_topics(new_doc_topics)\n",
    "    topic = lda_sim(new_doc_topics)\n",
    "    count_true = 0\n",
    "    count_false = 0\n",
    "    for j in range (100):\n",
    "        if(topic[j][0] in se_topic[2]):\n",
    "            count_true += 1\n",
    "        else:\n",
    "            count_false += 1\n",
    "    random_criminal_accuracy.append((count_true)/(count_true+count_false))\n",
    "random_criminal_accuracy_result = sum(random_criminal_accuracy)/len(random_criminal_accuracy)"
   ]
  },
  {
   "cell_type": "code",
   "execution_count": 75,
   "metadata": {},
   "outputs": [
    {
     "data": {
      "text/plain": [
       "0.16179999999999997"
      ]
     },
     "execution_count": 75,
     "metadata": {},
     "output_type": "execute_result"
    }
   ],
   "source": [
    "random_criminal_accuracy_result"
   ]
  },
  {
   "cell_type": "markdown",
   "metadata": {},
   "source": [
    "Violation"
   ]
  },
  {
   "cell_type": "code",
   "execution_count": 22,
   "metadata": {},
   "outputs": [
    {
     "data": {
      "text/plain": [
       "0.12173469387755104"
      ]
     },
     "execution_count": 22,
     "metadata": {},
     "output_type": "execute_result"
    }
   ],
   "source": [
    "bow_violation_accuracy = []\n",
    "for i in se_topic_test[3]:\n",
    "    new_doc_topics = preprocess(test_question[i])\n",
    "    new_doc_topics = id2word.doc2bow(new_doc_topics)\n",
    "    topic = bow_sim(new_doc_topics)\n",
    "    count_true = 0\n",
    "    count_false = 0\n",
    "    for j in range (100):\n",
    "        if(topic[j][0] in se_topic[3]):\n",
    "            count_true += 1\n",
    "        else:\n",
    "            count_false += 1\n",
    "    bow_violation_accuracy.append((count_true)/(count_true+count_false))\n",
    "bow_violation_accuracy_result = sum(bow_violation_accuracy)/len(bow_violation_accuracy)\n",
    "bow_violation_accuracy_result"
   ]
  },
  {
   "cell_type": "code",
   "execution_count": 18,
   "metadata": {},
   "outputs": [
    {
     "data": {
      "text/plain": [
       "0.14326530612244903"
      ]
     },
     "execution_count": 18,
     "metadata": {},
     "output_type": "execute_result"
    }
   ],
   "source": [
    "Violation_accuracy = []\n",
    "for i in se_topic_test[3]:\n",
    "    new_doc_topics = preprocess(test_question[i])\n",
    "    new_doc_topics = id2word.doc2bow(new_doc_topics)\n",
    "    new_doc_topics = lda_model.get_document_topics(new_doc_topics)\n",
    "    topic = lda_sim(new_doc_topics)\n",
    "    count_true = 0\n",
    "    count_false = 0\n",
    "    for j in range (100):\n",
    "        if(topic[j][0] in se_topic[3]):\n",
    "            count_true += 1\n",
    "        else:\n",
    "            count_false += 1\n",
    "    Violation_accuracy.append((count_true)/(count_true+count_false))\n",
    "Violation_accuracy_result = sum(Violation_accuracy)/len(Violation_accuracy)\n",
    "Violation_accuracy_result"
   ]
  },
  {
   "cell_type": "code",
   "execution_count": 12,
   "metadata": {},
   "outputs": [],
   "source": [
    "random_Violation_accuracy = []\n",
    "for i in range(100):\n",
    "    new_doc_topics = preprocess(test_question[random.randint(1, 1406)])\n",
    "    new_doc_topics = id2word.doc2bow(new_doc_topics)\n",
    "    new_doc_topics = lda_model.get_document_topics(new_doc_topics)\n",
    "    topic = lda_sim(new_doc_topics)\n",
    "    count_true = 0\n",
    "    count_false = 0\n",
    "    for j in range (100):\n",
    "        if(topic[j][0] in se_topic[3]):\n",
    "            count_true += 1\n",
    "        else:\n",
    "            count_false += 1\n",
    "    random_Violation_accuracy.append((count_true)/(count_true+count_false))\n",
    "random_Violation_accuracy_result = sum(random_Violation_accuracy)/len(random_Violation_accuracy)"
   ]
  },
  {
   "cell_type": "code",
   "execution_count": 13,
   "metadata": {},
   "outputs": [
    {
     "data": {
      "text/plain": [
       "0.04419999999999996"
      ]
     },
     "execution_count": 13,
     "metadata": {},
     "output_type": "execute_result"
    }
   ],
   "source": [
    "random_Violation_accuracy_result"
   ]
  },
  {
   "cell_type": "markdown",
   "metadata": {},
   "source": [
    "labor"
   ]
  },
  {
   "cell_type": "code",
   "execution_count": 27,
   "metadata": {},
   "outputs": [
    {
     "data": {
      "text/plain": [
       "0.7725280898876408"
      ]
     },
     "execution_count": 27,
     "metadata": {},
     "output_type": "execute_result"
    }
   ],
   "source": [
    "bow_labor_accuracy = []\n",
    "for i in se_topic_test[4]:\n",
    "    new_doc_topics = preprocess(test_question[i])\n",
    "    new_doc_topics = id2word.doc2bow(new_doc_topics)\n",
    "    topic = bow_sim(new_doc_topics)\n",
    "    count_true = 0\n",
    "    count_false = 0\n",
    "    for j in range (100):\n",
    "        if(topic[j][0] in se_topic[4]):\n",
    "            count_true += 1\n",
    "        else:\n",
    "            count_false += 1\n",
    "    bow_labor_accuracy.append((count_true)/(count_true+count_false))\n",
    "bow_labor_accuracy_result = sum(bow_labor_accuracy)/len(bow_labor_accuracy)\n",
    "bow_labor_accuracy_result"
   ]
  },
  {
   "cell_type": "code",
   "execution_count": 28,
   "metadata": {},
   "outputs": [],
   "source": [
    "labor_accuracy = []\n",
    "for i in se_topic_test[4]:\n",
    "    new_doc_topics = preprocess(test_question[i])\n",
    "    new_doc_topics = id2word.doc2bow(new_doc_topics)\n",
    "    new_doc_topics = lda_model.get_document_topics(new_doc_topics)\n",
    "    topic = lda_sim(new_doc_topics)\n",
    "    count_true = 0\n",
    "    count_false = 0\n",
    "    for j in range (100):\n",
    "        if(topic[j][0] in se_topic[4]):\n",
    "            count_true += 1\n",
    "        else:\n",
    "            count_false += 1\n",
    "    labor_accuracy.append((count_true)/(count_true+count_false))\n",
    "labor_accuracy_result = sum(labor_accuracy)/len(labor_accuracy)"
   ]
  },
  {
   "cell_type": "code",
   "execution_count": 61,
   "metadata": {},
   "outputs": [
    {
     "data": {
      "text/plain": [
       "0.807752808988764"
      ]
     },
     "execution_count": 61,
     "metadata": {},
     "output_type": "execute_result"
    }
   ],
   "source": [
    "labor_accuracy_result"
   ]
  },
  {
   "cell_type": "code",
   "execution_count": 78,
   "metadata": {},
   "outputs": [],
   "source": [
    "random_labor_accuracy = []\n",
    "for i in range(100):\n",
    "    new_doc_topics = preprocess(test_question[random.randint(1, 1406)])\n",
    "    new_doc_topics = id2word.doc2bow(new_doc_topics)\n",
    "    new_doc_topics = lda_model.get_document_topics(new_doc_topics)\n",
    "    topic = lda_sim(new_doc_topics)\n",
    "    count_true = 0\n",
    "    count_false = 0\n",
    "    for j in range (100):\n",
    "        if(topic[j][0] in se_topic[4]):\n",
    "            count_true += 1\n",
    "        else:\n",
    "            count_false += 1\n",
    "    random_labor_accuracy.append((count_true)/(count_true+count_false))\n",
    "random_labor_accuracy_result = sum(random_labor_accuracy)/len(random_labor_accuracy)"
   ]
  },
  {
   "cell_type": "code",
   "execution_count": 79,
   "metadata": {},
   "outputs": [
    {
     "data": {
      "text/plain": [
       "0.15249999999999997"
      ]
     },
     "execution_count": 79,
     "metadata": {},
     "output_type": "execute_result"
    }
   ],
   "source": [
    "random_labor_accuracy_result"
   ]
  },
  {
   "cell_type": "markdown",
   "metadata": {},
   "source": [
    "average"
   ]
  },
  {
   "cell_type": "code",
   "execution_count": 16,
   "metadata": {},
   "outputs": [
    {
     "data": {
      "text/plain": [
       "0.605546278651727"
      ]
     },
     "execution_count": 16,
     "metadata": {},
     "output_type": "execute_result"
    }
   ],
   "source": [
    "bow_average = average = (bow_labor_accuracy_result+bow_criminal_accuracy_result+bow_contract_accuracy_result+bow_family_accuracy_result+bow_Violation_accuracy_result)/5\n",
    "bow_average"
   ]
  },
  {
   "cell_type": "code",
   "execution_count": 63,
   "metadata": {},
   "outputs": [
    {
     "data": {
      "text/plain": [
       "0.6206200228702088"
      ]
     },
     "execution_count": 63,
     "metadata": {},
     "output_type": "execute_result"
    }
   ],
   "source": [
    "average = (labor_accuracy_result+criminal_accuracy_result+contract_accuracy_result+family_accuracy_result+Violation_accuracy_result)/5\n",
    "average"
   ]
  },
  {
   "cell_type": "code",
   "execution_count": 18,
   "metadata": {},
   "outputs": [
    {
     "data": {
      "text/plain": [
       "0.0"
      ]
     },
     "execution_count": 18,
     "metadata": {},
     "output_type": "execute_result"
    }
   ],
   "source": [
    "10*average - 10*bow_average"
   ]
  },
  {
   "cell_type": "code",
   "execution_count": 81,
   "metadata": {},
   "outputs": [
    {
     "data": {
      "text/plain": [
       "0.21682000000000007"
      ]
     },
     "execution_count": 81,
     "metadata": {},
     "output_type": "execute_result"
    }
   ],
   "source": [
    "random_average = (random_labor_accuracy_result+random_criminal_accuracy_result+random_contract_accuracy_result+random_family_accuracy_result+random_Violation_accuracy_result)/5\n",
    "random_average"
   ]
  },
  {
   "cell_type": "code",
   "execution_count": 82,
   "metadata": {},
   "outputs": [
    {
     "data": {
      "text/plain": [
       "0.4038000228702087"
      ]
     },
     "execution_count": 82,
     "metadata": {},
     "output_type": "execute_result"
    }
   ],
   "source": [
    "average - random_average"
   ]
  },
  {
   "cell_type": "markdown",
   "metadata": {},
   "source": [
    "apply keyword based + topic based"
   ]
  },
  {
   "cell_type": "code",
   "execution_count": 82,
   "metadata": {},
   "outputs": [
    {
     "data": {
      "text/plain": [
       "'#บิดาดิฉันมีลูกติดคนมารดามีลูกติดคน#บิดามารดาสมรสมีบุตรคือตัวดิฉัน#จดทะเบียนสมรสกันหลังจากดิฉันโต#มีโฉนดที่ดินชื่อบิดามารดาร่วมกัน#บิดาเสียชีวิตมารดายังมีชีวิตแต่มารดาแก่มากหลงๆลืม#ดิฉันอยากทำเป็นผู้จัดการมรดกเอาชื่อบิดามารดาออกเป็นชื่อดิฉันคนเดียว#คำถามลูกติดทั้งคนต้องเซ็นเอกสารอะไรไหมคะเพราะคนนึงอยู่ประจวบคนนึงอยู่หนองคายแต่ละคนไม่สะดวกมาคะชอบพระคุณล่วงหน้านะคะ'"
      ]
     },
     "execution_count": 82,
     "metadata": {},
     "output_type": "execute_result"
    }
   ],
   "source": [
    "new_doc = data['question'][1]\n",
    "new_doc"
   ]
  },
  {
   "cell_type": "code",
   "execution_count": 69,
   "metadata": {},
   "outputs": [],
   "source": [
    "corpus_lda = lda_model[corpus_question]\n",
    "index_lda = similarities.MatrixSimilarity(corpus_lda, num_features=len(id2word))\n",
    "index_bow = similarities.MatrixSimilarity(corpus_question)"
   ]
  },
  {
   "cell_type": "code",
   "execution_count": 107,
   "metadata": {},
   "outputs": [],
   "source": [
    "def topic_keyword_based(new_doc):\n",
    "    new_doc_topics = id2word.doc2bow(preprocess(new_doc))\n",
    "    lda_topics = lda_model.get_document_topics(new_doc_topics)\n",
    "    sims_lda = index_lda[lda_topics]\n",
    "    sims_bow = index_bow[new_doc_topics]\n",
    "    max_lda = max(sims_lda)\n",
    "    max_bow = max(sims_bow)\n",
    "    weight = max_lda/max_bow\n",
    "    sum = sims_lda+(sims_bow*weight)\n",
    "    sims_sorted = sorted(enumerate(sum), key=lambda item: -item[1])\n",
    "    return sims_sorted"
   ]
  },
  {
   "cell_type": "code",
   "execution_count": 108,
   "metadata": {},
   "outputs": [
    {
     "data": {
      "text/plain": [
       "0.9414657210401902"
      ]
     },
     "execution_count": 108,
     "metadata": {},
     "output_type": "execute_result"
    }
   ],
   "source": [
    "mix_family_accuracy = []\n",
    "for i in se_topic_test[0]:\n",
    "    topic = topic_keyword_based(test_question[i])\n",
    "    count_true = 0\n",
    "    count_false = 0\n",
    "    for j in range (100):\n",
    "        if(topic[j][0] in se_topic[0]):\n",
    "            count_true += 1\n",
    "        else:\n",
    "            count_false += 1\n",
    "    mix_family_accuracy.append((count_true)/(count_true+count_false))\n",
    "mix_family_accuracy_result = sum(mix_family_accuracy)/len(mix_family_accuracy)\n",
    "mix_family_accuracy_result"
   ]
  },
  {
   "cell_type": "code",
   "execution_count": 110,
   "metadata": {},
   "outputs": [
    {
     "data": {
      "text/plain": [
       "0.786646216768917"
      ]
     },
     "execution_count": 110,
     "metadata": {},
     "output_type": "execute_result"
    }
   ],
   "source": [
    "mix_contract_accuracy = []\n",
    "for i in se_topic_test[1]:\n",
    "    topic = topic_keyword_based(test_question[i])\n",
    "    count_true = 0\n",
    "    count_false = 0\n",
    "    for j in range (100):\n",
    "        if(topic[j][0] in se_topic[1]):\n",
    "            count_true += 1\n",
    "        else:\n",
    "            count_false += 1\n",
    "    mix_contract_accuracy.append((count_true)/(count_true+count_false))\n",
    "mix_contract_accuracy_result = sum(mix_contract_accuracy)/len(mix_contract_accuracy)\n",
    "mix_contract_accuracy_result"
   ]
  },
  {
   "cell_type": "code",
   "execution_count": 111,
   "metadata": {},
   "outputs": [
    {
     "data": {
      "text/plain": [
       "0.7541743119266053"
      ]
     },
     "execution_count": 111,
     "metadata": {},
     "output_type": "execute_result"
    }
   ],
   "source": [
    "mix_criminal_accuracy = []\n",
    "for i in se_topic_test[2]:\n",
    "    topic = topic_keyword_based(test_question[i])\n",
    "    count_true = 0\n",
    "    count_false = 0\n",
    "    for j in range (100):\n",
    "        if(topic[j][0] in se_topic[2]):\n",
    "            count_true += 1\n",
    "        else:\n",
    "            count_false += 1\n",
    "    mix_criminal_accuracy.append((count_true)/(count_true+count_false))\n",
    "mix_criminal_accuracy_result = sum(mix_criminal_accuracy)/len(mix_criminal_accuracy)\n",
    "mix_criminal_accuracy_result"
   ]
  },
  {
   "cell_type": "code",
   "execution_count": 112,
   "metadata": {},
   "outputs": [
    {
     "data": {
      "text/plain": [
       "0.19142857142857142"
      ]
     },
     "execution_count": 112,
     "metadata": {},
     "output_type": "execute_result"
    }
   ],
   "source": [
    "mix_Violation_accuracy = []\n",
    "for i in se_topic_test[3]:\n",
    "    topic = topic_keyword_based(test_question[i])\n",
    "    count_true = 0\n",
    "    count_false = 0\n",
    "    for j in range (100):\n",
    "        if(topic[j][0] in se_topic[3]):\n",
    "            count_true += 1\n",
    "        else:\n",
    "            count_false += 1\n",
    "    mix_Violation_accuracy.append((count_true)/(count_true+count_false))\n",
    "mix_Violation_accuracy_result = sum(mix_Violation_accuracy)/len(mix_Violation_accuracy)\n",
    "mix_Violation_accuracy_result"
   ]
  },
  {
   "cell_type": "code",
   "execution_count": 113,
   "metadata": {},
   "outputs": [
    {
     "data": {
      "text/plain": [
       "0.8919101123595502"
      ]
     },
     "execution_count": 113,
     "metadata": {},
     "output_type": "execute_result"
    }
   ],
   "source": [
    "mix_labor_accuracy = []\n",
    "for i in se_topic_test[4]:\n",
    "    topic = topic_keyword_based(test_question[i])\n",
    "    count_true = 0\n",
    "    count_false = 0\n",
    "    for j in range (100):\n",
    "        if(topic[j][0] in se_topic[4]):\n",
    "            count_true += 1\n",
    "        else:\n",
    "            count_false += 1\n",
    "    mix_labor_accuracy.append((count_true)/(count_true+count_false))\n",
    "mix_labor_accuracy_result = sum(mix_labor_accuracy)/len(mix_labor_accuracy)\n",
    "mix_labor_accuracy_result"
   ]
  },
  {
   "cell_type": "code",
   "execution_count": 115,
   "metadata": {},
   "outputs": [
    {
     "data": {
      "text/plain": [
       "0.7131249867047668"
      ]
     },
     "execution_count": 115,
     "metadata": {},
     "output_type": "execute_result"
    }
   ],
   "source": [
    "mix_average = mix_family_accuracy_result+mix_criminal_accuracy_result+mix_contract_accuracy_result+mix_labor_accuracy_result+mix_Violation_accuracy_result\n",
    "mix_average = mix_average/5\n",
    "mix_average\n",
    "# better than lda 9.252"
   ]
  }
 ],
 "metadata": {
  "kernelspec": {
   "display_name": "base",
   "language": "python",
   "name": "python3"
  },
  "language_info": {
   "codemirror_mode": {
    "name": "ipython",
    "version": 3
   },
   "file_extension": ".py",
   "mimetype": "text/x-python",
   "name": "python",
   "nbconvert_exporter": "python",
   "pygments_lexer": "ipython3",
   "version": "3.9.13"
  },
  "orig_nbformat": 4
 },
 "nbformat": 4,
 "nbformat_minor": 2
}
