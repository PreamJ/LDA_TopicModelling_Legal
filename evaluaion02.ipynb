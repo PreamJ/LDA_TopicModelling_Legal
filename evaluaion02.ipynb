{
 "cells": [
  {
   "cell_type": "code",
   "execution_count": null,
   "metadata": {},
   "outputs": [],
   "source": [
    "from sklearn import metrics\n",
    "import numpy as np\n",
    "import pandas as pd\n",
    "import pickle\n",
    "import re\n",
    "import mymodule"
   ]
  },
  {
   "cell_type": "code",
   "execution_count": null,
   "metadata": {},
   "outputs": [],
   "source": [
    "with open('model/lda_model.pkl', 'rb') as f:\n",
    "  lda_model = pickle.load(f) #import lda model\n",
    "  \n",
    "data = pd.read_csv('dataset/DatasetLegal.csv')\n",
    "question_data = data['question']\n",
    "answer_data = data['answer']\n",
    "\n",
    "with open('model/topic_dict.pkl', 'rb') as f:\n",
    "  topic_dict = pickle.load(f)\n",
    "\n",
    "with open('model/question_lda.pkl', 'rb') as f:\n",
    "   question_lda = pickle.load(f)"
   ]
  },
  {
   "cell_type": "code",
   "execution_count": null,
   "metadata": {},
   "outputs": [],
   "source": [
    "#answer\n",
    "str_answer = answer_data.astype(str)\n",
    "str_answer = str_answer.map(lambda x: re.sub('[,\\.!?#]', '', x))\n",
    "corpus = [mymodule.preprocess(text) for text in str_answer]\n",
    "pred_answer_score = [lda_model[text] for text in corpus]\n",
    "\n",
    "#question\n",
    "str_question = question_data.astype(str)\n",
    "str_question = str_question.map(lambda x: re.sub('[,\\.!?#]', '', x))\n",
    "corpus = [mymodule.preprocess(text) for text in str_question]\n",
    "pred_question_score = [lda_model[text] for text in corpus]"
   ]
  },
  {
   "cell_type": "code",
   "execution_count": null,
   "metadata": {},
   "outputs": [],
   "source": [
    "#answer\n",
    "for each_doc in pred_answer_score:\n",
    "    i = 0\n",
    "    for each_topic in each_doc:\n",
    "        if(each_topic[0] == i): i+=1\n",
    "        else: \n",
    "            each_doc.insert(i, (i, 0))\n",
    "            i+=1\n",
    "    while(i < 6):\n",
    "        each_doc.append((i, 0))\n",
    "        i+=1\n",
    "\n",
    "#question\n",
    "for each_doc in pred_question_score:\n",
    "    i = 0\n",
    "    for each_topic in each_doc:\n",
    "        if(each_topic[0] == i): i+=1\n",
    "        else: \n",
    "            each_doc.insert(i, (i, 0))\n",
    "            i+=1\n",
    "    while(i < 6):\n",
    "        each_doc.append((i, 0))\n",
    "        i+=1"
   ]
  },
  {
   "cell_type": "code",
   "execution_count": null,
   "metadata": {},
   "outputs": [],
   "source": [
    "y_predict=[]\n",
    "for each_topic in pred_question_score:\n",
    "  temp_pred = []\n",
    "  for topic in each_topic:\n",
    "    if(topic[1]>0.167): temp_pred.append(1)\n",
    "    else: temp_pred.append(0)\n",
    "  y_predict.append(temp_pred)\n",
    "# y_predict = np.array(y_predict)\n",
    "pd.DataFrame(y_predict)"
   ]
  }
 ],
 "metadata": {
  "language_info": {
   "name": "python"
  },
  "orig_nbformat": 4
 },
 "nbformat": 4,
 "nbformat_minor": 2
}
