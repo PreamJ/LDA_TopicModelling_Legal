{
  "cells": [
    {
      "attachments": {},
      "cell_type": "markdown",
      "metadata": {
        "colab_type": "text",
        "id": "view-in-github"
      },
      "source": [
        "<a href=\"https://colab.research.google.com/github/PreamJ/LDA_TopicModelling_Legal/blob/main/topicmodeling_answer03_coherence.ipynb\" target=\"_parent\"><img src=\"https://colab.research.google.com/assets/colab-badge.svg\" alt=\"Open In Colab\"/></a>"
      ]
    },
    {
      "cell_type": "code",
      "execution_count": 1,
      "metadata": {
        "colab": {
          "base_uri": "https://localhost:8080/"
        },
        "id": "4CPF0NVQnu26",
        "outputId": "e79c414f-cb2b-442e-e000-0cdd41881997"
      },
      "outputs": [],
      "source": [
        "import pandas as pd\n",
        "import re\n",
        "from pythainlp.tokenize import word_tokenize\n",
        "from pythainlp.corpus import thai_stopwords\n",
        "from wordcloud import WordCloud\n",
        "from sklearn.feature_extraction.text import CountVectorizer\n",
        "import gensim \n",
        "import gensim.corpora as corpora\n",
        "from gensim import models\n",
        "import pyLDAvis\n",
        "from pprint import pprint\n",
        "import pickle \n",
        "import os\n",
        "import matplotlib.pyplot as plt\n",
        "from gensim.models import CoherenceModel"
      ]
    },
    {
      "cell_type": "code",
      "execution_count": 2,
      "metadata": {
        "colab": {
          "base_uri": "https://localhost:8080/"
        },
        "id": "oTJaU0Lbnu5T",
        "outputId": "385f0464-2843-46f4-d3d5-12803ea1fcbc"
      },
      "outputs": [
        {
          "data": {
            "text/plain": [
              "0    ดอกเบี้ยของเงินฝากสินส่วนตัวของภริยาย่อมเป็นดอ...\n",
              "1    คุณสามารถร้องขอเป็นผู้จัดการมรดกของบิดาได้ส่วน...\n",
              "2    เช็คลงวันที่ไม่ตรงกับวันครบกำหนดสัญญา้จะฟ้องร้...\n",
              "3    คุณมีทางเลือกอยู่ประการประการแรกยื่นคำร้องเพื่...\n",
              "4    คดีที่มีการฟ้องร้องแล้วและศาลอ่านคำพิพากษาเกิน...\n",
              "Name: answer, dtype: object"
            ]
          },
          "execution_count": 2,
          "metadata": {},
          "output_type": "execute_result"
        }
      ],
      "source": [
        "data = pd.read_csv('dataset/DatasetLegal.csv')\n",
        "data.answer.head()"
      ]
    },
    {
      "cell_type": "code",
      "execution_count": 3,
      "metadata": {
        "colab": {
          "base_uri": "https://localhost:8080/"
        },
        "id": "pB6XRF04nu7-",
        "outputId": "a194a3ea-c6f7-4f45-bcf7-cfca2d4a675d"
      },
      "outputs": [],
      "source": [
        "str_answer = data['answer'].astype(str)\n",
        "str_answer = str_answer.map(lambda x: re.sub('[,.!?#/]', '', x))\n",
        "str_question = data['question'].astype(str)\n",
        "str_question = str_question.map(lambda x: re.sub('[,.!?*/]', '', x))"
      ]
    },
    {
      "cell_type": "code",
      "execution_count": 4,
      "metadata": {
        "colab": {
          "base_uri": "https://localhost:8080/"
        },
        "id": "1nROxYfWnu-g",
        "outputId": "51c64419-5a30-4a54-c51f-06a299047d19"
      },
      "outputs": [],
      "source": [
        "sentense_token = []\n",
        "for i in range(len(str_answer)):\n",
        "  sentense_token.append(str_question[i])\n",
        "  sentense_token.append(str_answer[i])\n",
        "\n",
        "train_data = sentense_token[:13061]\n",
        "test_data = sentense_token[13062:]"
      ]
    },
    {
      "cell_type": "code",
      "execution_count": 5,
      "metadata": {
        "colab": {
          "base_uri": "https://localhost:8080/"
        },
        "id": "ryLP1eX1nvBJ",
        "outputId": "7335f87c-81e0-4a85-ac3b-c99778450949"
      },
      "outputs": [
        {
          "name": "stdout",
          "output_type": "stream",
          "text": [
            "['ดิฉัน', 'มีเรื่อง', 'ปรึกษา', 'เกี่ยวกับ', 'คดี', 'ครอบครัว', 'คือ', 'ว่า', 'ดิฉัน', 'พอ']\n"
          ]
        }
      ],
      "source": [
        "word_token_answer = []\n",
        "for sentense in train_data:\n",
        "  word = word_tokenize(sentense, engine='newmm')\n",
        "  word_token_answer.append(word)\n",
        "\n",
        "print(word_token_answer[0][:10])"
      ]
    },
    {
      "cell_type": "code",
      "execution_count": 6,
      "metadata": {
        "colab": {
          "base_uri": "https://localhost:8080/"
        },
        "id": "Acui5N_qnvDB",
        "outputId": "47f7a77d-1c65-4afc-a06f-2fe387489c91"
      },
      "outputs": [
        {
          "name": "stdout",
          "output_type": "stream",
          "text": [
            "['มีเรื่อง', 'ปรึกษา', 'ครอบครัว', 'สินสมรส', 'สินส่วนตัว', 'การทราบ', 'ข้อเท็จจริง', 'วิธีการ']\n"
          ]
        }
      ],
      "source": [
        "stopwords = list(thai_stopwords())\n",
        "read_stopwords = pd.read_csv('dataset/add_stopwords.csv')\n",
        "add_stopwords = read_stopwords['stopword'].values.tolist()\n",
        "processed_answer = []\n",
        "for sentense in word_token_answer:\n",
        "  each_sentense = []\n",
        "  for word in sentense:\n",
        "    if(word not in stopwords + add_stopwords):\n",
        "      each_sentense.append(word)\n",
        "  processed_answer.append(each_sentense)\n",
        "print(processed_answer[0][:8])"
      ]
    },
    {
      "cell_type": "code",
      "execution_count": 8,
      "metadata": {
        "colab": {
          "base_uri": "https://localhost:8080/"
        },
        "id": "bzk7urm1nvE-",
        "outputId": "b9bef6ff-02f7-4e89-cd48-0836002db8aa"
      },
      "outputs": [],
      "source": [
        "id2word = corpora.Dictionary(processed_answer)\n",
        "corpus = []\n",
        "for text in processed_answer:\n",
        "  vec = id2word.doc2bow(text)\n",
        "  corpus.append(vec)"
      ]
    },
    {
      "cell_type": "code",
      "execution_count": 10,
      "metadata": {
        "colab": {
          "base_uri": "https://localhost:8080/"
        },
        "id": "DKZUQZg6HELd",
        "outputId": "1bb0e11b-258b-43f0-c409-53bf61ba35d3"
      },
      "outputs": [
        {
          "name": "stdout",
          "output_type": "stream",
          "text": [
            "Optimal number of topics: 8\n",
            "Optimal alpha value: 0.5\n",
            "Optimal beta value: 0.9\n",
            "Coherence score: 0.6792171949060689\n"
          ]
        }
      ],
      "source": [
        "num_topics = range(4, 10)\n",
        "\n",
        "alpha_values = [0.01, 0.05, 0.1, 0.5, 0.9]\n",
        "\n",
        "beta_values = [0.01, 0.05, 0.1, 0.5, 0.9]\n",
        "\n",
        "# Initialize lists to store coherence scores and model parameters\n",
        "coherence_scores = []\n",
        "topic_params = []\n",
        "alpha_params = []\n",
        "beta_params = []\n",
        "\n",
        "# Loop over different combinations of topic, alpha, and beta parameter values\n",
        "for t in num_topics:\n",
        "    for a in alpha_values:\n",
        "        for b in beta_values:\n",
        "            \n",
        "            # Train the LDA model with the given parameters\n",
        "            lda_model = gensim.models.ldamodel.LdaModel(corpus=corpus,\n",
        "                                                        id2word=id2word,\n",
        "                                                        num_topics=t,\n",
        "                                                        iterations=100,\n",
        "                                                        chunksize=2000,\n",
        "                                                        passes=10,\n",
        "                                                        alpha=a,\n",
        "                                                        eta=b)\n",
        "            \n",
        "            # Calculate coherence score using c_v coherence measure\n",
        "            coherence_model_lda = CoherenceModel(model=lda_model, texts=processed_answer, dictionary=id2word, coherence='c_v')\n",
        "            coherence_score = coherence_model_lda.get_coherence()\n",
        "            \n",
        "            # Append the coherence score and model parameters to the lists\n",
        "            coherence_scores.append(coherence_score)\n",
        "            topic_params.append(t)\n",
        "            alpha_params.append(a)\n",
        "            beta_params.append(b)\n",
        "\n",
        "# Find the combination of parameters that yields the highest coherence score\n",
        "max_score_index = coherence_scores.index(max(coherence_scores))\n",
        "optimal_topic_param = topic_params[max_score_index]\n",
        "optimal_alpha_param = alpha_params[max_score_index]\n",
        "optimal_beta_param = beta_params[max_score_index]\n",
        "\n",
        "print(f\"Optimal number of topics: {optimal_topic_param}\")\n",
        "print(f\"Optimal alpha value: {optimal_alpha_param}\")\n",
        "print(f\"Optimal beta value: {optimal_beta_param}\")\n",
        "print(f\"Coherence score: {max(coherence_scores)}\")"
      ]
    },
    {
      "cell_type": "code",
      "execution_count": null,
      "metadata": {},
      "outputs": [],
      "source": []
    },
    {
      "cell_type": "code",
      "execution_count": 11,
      "metadata": {
        "colab": {
          "base_uri": "https://localhost:8080/"
        },
        "id": "pmxmMLOcbqPY",
        "outputId": "ebade9de-6ef2-42a0-e4b4-028f744b8b8f"
      },
      "outputs": [
        {
          "data": {
            "text/plain": [
              "-7.4842501179549"
            ]
          },
          "execution_count": 11,
          "metadata": {},
          "output_type": "execute_result"
        }
      ],
      "source": [
        "lda_model.log_perplexity(corpus)"
      ]
    }
  ],
  "metadata": {
    "colab": {
      "authorship_tag": "ABX9TyMocFdrNJnsDhWsYYDBoNTM",
      "include_colab_link": true,
      "mount_file_id": "19XoE5afKQHbbujCQRuvOAsl77XouBQOG",
      "provenance": []
    },
    "gpuClass": "standard",
    "kernelspec": {
      "display_name": "Python 3",
      "name": "python3"
    },
    "language_info": {
      "codemirror_mode": {
        "name": "ipython",
        "version": 3
      },
      "file_extension": ".py",
      "mimetype": "text/x-python",
      "name": "python",
      "nbconvert_exporter": "python",
      "pygments_lexer": "ipython3",
      "version": "3.9.13"
    }
  },
  "nbformat": 4,
  "nbformat_minor": 0
}
