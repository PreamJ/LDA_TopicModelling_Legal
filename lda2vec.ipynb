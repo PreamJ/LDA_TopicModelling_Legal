{
 "cells": [
  {
   "cell_type": "code",
   "execution_count": 1,
   "metadata": {},
   "outputs": [],
   "source": [
    "import pandas as pd\n",
    "import numpy as np\n",
    "import re\n",
    "from pprint import pprint\n",
    "import pickle\n",
    "import os\n",
    "import matplotlib.pyplot as plt\n",
    "import random\n",
    "import csv\n",
    "from lda2vec import Lda2vec, preprocess, Corpus"
   ]
  },
  {
   "cell_type": "code",
   "execution_count": null,
   "metadata": {},
   "outputs": [],
   "source": [
    "data = pd.read_csv('dataset/DatasetLegal.csv')\n",
    "train_data = pd.read_csv('model/train_data.csv')\n",
    "test_data = pd.read_csv('model/test_data.csv')\n",
    "with open(\"model/train_data.csv\", 'r') as f:\n",
    "  train_data_csv = csv.reader(f)\n",
    "  train_data = [i for i in train_data_csv]\n",
    "with open(\"model/test_data.csv\", 'r') as f:\n",
    "  test_data_csv = csv.reader(f)\n",
    "  test_data = [i for i in test_data_csv]\n",
    "with open('model/id2word.pkl', 'rb') as f:\n",
    "   id2word = pickle.load(f)\n",
    "corpus = []\n",
    "for text in train_data:\n",
    "  vec = id2word.doc2bow(text)\n",
    "  corpus.append(vec)\n",
    "pd.Series(corpus)\n",
    "with open(\"model/topic_dict.pkl\", \"rb\") as f:\n",
    "   topic_dict = pickle.load(f)\n",
    "with open(\"model/lda_model.pkl\", \"rb\") as f:\n",
    "   lda_model = pickle.load(f)\n",
    "\n",
    "import logging\n",
    "logging.basicConfig(filename='model_callbacks.log',\n",
    "                    format=\"%(asctime)s:%(levelname)s:%(message)s\",\n",
    "                    level=logging.NOTSET)\n",
    "\n",
    "from gensim.models.callbacks import PerplexityMetric, CoherenceMetric\n",
    "perplexity_logger = PerplexityMetric(corpus=corpus, logger='shell')\n",
    "coherence_cv_logger = CoherenceMetric(corpus=corpus, logger='shell', coherence = 'c_v', texts = train_data)\n",
    "\n",
    "with open(\"model/corpus_question.pkl\", \"rb\") as f:\n",
    "   corpus_question = pickle.load(f)\n",
    "with open(\"model/corpus_answer.pkl\", \"rb\") as f:\n",
    "   corpus_answer = pickle.load(f)\n",
    "\n",
    "corpus_question_train = corpus_question[:5625]\n",
    "corpus_question_test = corpus_question[5625:]\n",
    "corpus_answer_train = corpus_answer[:5625]\n",
    "corpus_answer_test = corpus_answer[5625:]"
   ]
  },
  {
   "cell_type": "code",
   "execution_count": 4,
   "metadata": {},
   "outputs": [
    {
     "ename": "TypeError",
     "evalue": "'module' object is not callable",
     "output_type": "error",
     "traceback": [
      "\u001b[1;31m---------------------------------------------------------------------------\u001b[0m",
      "\u001b[1;31mTypeError\u001b[0m                                 Traceback (most recent call last)",
      "Cell \u001b[1;32mIn[4], line 1\u001b[0m\n\u001b[1;32m----> 1\u001b[0m model \u001b[39m=\u001b[39m Lda2vec(num_topics\u001b[39m=\u001b[39;49m\u001b[39m5\u001b[39;49m)\n",
      "\u001b[1;31mTypeError\u001b[0m: 'module' object is not callable"
     ]
    }
   ],
   "source": [
    "model = Lda2vec(num_topics=5)\n",
    "# model.add_component(n_docs, n_topics, name='document id')\n",
    "# model.fit(clean, components=[doc_ids])"
   ]
  }
 ],
 "metadata": {
  "kernelspec": {
   "display_name": "base",
   "language": "python",
   "name": "python3"
  },
  "language_info": {
   "codemirror_mode": {
    "name": "ipython",
    "version": 3
   },
   "file_extension": ".py",
   "mimetype": "text/x-python",
   "name": "python",
   "nbconvert_exporter": "python",
   "pygments_lexer": "ipython3",
   "version": "3.9.13"
  },
  "orig_nbformat": 4
 },
 "nbformat": 4,
 "nbformat_minor": 2
}
