{
 "cells": [
  {
   "cell_type": "code",
   "execution_count": 1,
   "metadata": {},
   "outputs": [],
   "source": [
    "import pandas as pd\n",
    "import numpy as np\n",
    "import re\n",
    "import gensim\n",
    "from pythainlp.tokenize import word_tokenize\n",
    "from pythainlp.corpus import thai_stopwords\n",
    "from wordcloud import WordCloud\n",
    "from gensim import corpora, models, similarities\n",
    "import pyLDAvis\n",
    "from pprint import pprint\n",
    "import pickle \n",
    "import os\n",
    "import matplotlib.pyplot as plt\n",
    "from gensim.models import CoherenceModel\n",
    "from gensim.test.utils import datapath\n",
    "import random\n",
    "from gensim.models.ldamodel import LdaModel\n",
    "import sklearn\n",
    "from sklearn.metrics.pairwise import cosine_similarity\n",
    "from sklearn.decomposition import LatentDirichletAllocation\n",
    "from sklearn.feature_extraction.text import CountVectorizer\n",
    "from gensim.corpora import MmCorpus\n",
    "import csv\n",
    "import pyLDAvis.gensim_models as gensimvis\n",
    "RANDOM_STATE = 1"
   ]
  },
  {
   "cell_type": "code",
   "execution_count": 2,
   "metadata": {},
   "outputs": [],
   "source": [
    "data = pd.read_csv('dataset/DatasetLegal.csv')\n",
    "# train_data = pd.read_csv('model/train_data.csv')\n",
    "# test_data = pd.read_csv('model/test_data.csv')\n",
    "with open(\"model/train_data.csv\", 'r') as f:\n",
    "  train_data_csv = csv.reader(f)\n",
    "  train_data = [i for i in train_data_csv]\n",
    "with open(\"model/test_data.csv\", 'r') as f:\n",
    "  test_data_csv = csv.reader(f)\n",
    "  test_data = [i for i in test_data_csv]\n",
    "with open('model/id2word.pkl', 'rb') as f:\n",
    "    id2word = pickle.load(f)\n",
    "corpus = []\n",
    "for text in train_data:\n",
    "  vec = id2word.doc2bow(text)\n",
    "  corpus.append(vec)\n",
    "pd.Series(corpus)\n",
    "with open(\"lda/topic_dict_5.pkl\", \"rb\") as f:\n",
    "   topic_dict = pickle.load(f)"
   ]
  },
  {
   "cell_type": "code",
   "execution_count": 3,
   "metadata": {},
   "outputs": [],
   "source": [
    "import logging\n",
    "logging.basicConfig(filename='model_callbacks.log',\n",
    "                    format=\"%(asctime)s:%(levelname)s:%(message)s\",\n",
    "                    level=logging.NOTSET)\n",
    "\n",
    "from gensim.models.callbacks import PerplexityMetric, CoherenceMetric\n",
    "perplexity_logger = PerplexityMetric(corpus=corpus, logger='shell')\n",
    "coherence_cv_logger = CoherenceMetric(corpus=corpus, logger='shell', coherence = 'c_v', texts = train_data)"
   ]
  },
  {
   "cell_type": "code",
   "execution_count": 4,
   "metadata": {},
   "outputs": [],
   "source": [
    "data = pd.read_csv('dataset/DatasetLegal.csv')\n",
    "str_answer = data['answer'].astype(str)\n",
    "str_answer = str_answer.map(lambda x: re.sub('[,.!?*#/]', '', x))\n",
    "str_question = data['question'].astype(str)\n",
    "str_question = str_question.map(lambda x: re.sub('[,.!?*#/]', '', x))"
   ]
  },
  {
   "cell_type": "code",
   "execution_count": 5,
   "metadata": {},
   "outputs": [],
   "source": [
    "sentense_token = []\n",
    "for i in range(len(str_answer)):\n",
    "  sentense_token.append(str_question[i])\n",
    "  sentense_token.append(str_answer[i])\n",
    "word_token_data = []\n",
    "for sentense in sentense_token:\n",
    "  words = word_tokenize(sentense, engine='newmm')\n",
    "  word_token_data.append(words)"
   ]
  },
  {
   "cell_type": "code",
   "execution_count": 6,
   "metadata": {},
   "outputs": [],
   "source": [
    "stopwords = list(thai_stopwords())\n",
    "read_stopwords = pd.read_csv('dataset/add_stopwords.csv')\n",
    "add_stopwords = read_stopwords['stopword'].values.tolist()\n",
    "processed_data = []\n",
    "for sentense in word_token_data:\n",
    "  each_sentense = []\n",
    "  for word in sentense:\n",
    "    if(word not in stopwords + add_stopwords):\n",
    "      each_sentense.append(word)\n",
    "  processed_data.append(each_sentense)"
   ]
  },
  {
   "cell_type": "code",
   "execution_count": 7,
   "metadata": {},
   "outputs": [],
   "source": [
    "train_data = processed_data[:11250] # 5625 document 80% of all data\n",
    "test_data = processed_data[11250:] # 1406 document 20% of all data\n",
    "with open('model/train_data.csv', 'w', newline='') as f:\n",
    "    writer = csv.writer(f)\n",
    "    writer.writerows(train_data)\n",
    "with open('model/test_data.csv', 'w', newline='') as f:\n",
    "    writer = csv.writer(f)\n",
    "    writer.writerows(test_data)"
   ]
  },
  {
   "cell_type": "code",
   "execution_count": 8,
   "metadata": {},
   "outputs": [],
   "source": [
    "id2word = corpora.Dictionary(train_data)\n",
    "# id2word.filter_extremes(no_below=20, no_above=0.5)\n",
    "# print(id2word)\n",
    "with open('model/id2word.pkl', 'wb') as f:\n",
    "    pickle.dump(id2word, f)"
   ]
  },
  {
   "cell_type": "code",
   "execution_count": 9,
   "metadata": {},
   "outputs": [
    {
     "data": {
      "text/plain": [
       "0        [(0, 1), (1, 1), (2, 1), (3, 1), (4, 1), (5, 1...\n",
       "1        [(0, 1), (4, 1), (9, 4), (14, 1), (15, 2), (20...\n",
       "2        [(57, 1), (84, 1), (85, 1), (86, 1), (87, 2), ...\n",
       "3        [(5, 1), (49, 3), (66, 1), (84, 1), (92, 1), (...\n",
       "4        [(6, 1), (9, 1), (11, 2), (13, 1), (22, 1), (4...\n",
       "                               ...                        \n",
       "11245    [(5, 1), (28, 2), (40, 1), (41, 1), (116, 1), ...\n",
       "11246    [(7, 1), (23, 1), (51, 1), (57, 1), (75, 1), (...\n",
       "11247    [(33, 2), (82, 1), (125, 2), (192, 1), (200, 1...\n",
       "11248    [(56, 1), (81, 1), (116, 1), (121, 1), (176, 1...\n",
       "11249    [(16, 1), (20, 2), (28, 1), (34, 2), (44, 2), ...\n",
       "Length: 11250, dtype: object"
      ]
     },
     "execution_count": 9,
     "metadata": {},
     "output_type": "execute_result"
    }
   ],
   "source": [
    "corpus = []\n",
    "for text in train_data:\n",
    "  vec = id2word.doc2bow(text)\n",
    "  corpus.append(vec)\n",
    "pd.Series(corpus)"
   ]
  },
  {
   "cell_type": "code",
   "execution_count": 10,
   "metadata": {},
   "outputs": [
    {
     "data": {
      "text/plain": [
       "[(0,\n",
       "  '0.030*\"บริษัท\" + 0.028*\"นายจ้าง\" + 0.022*\"ลูกจ้าง\" + 0.017*\"จ่าย\" + 0.016*\"ทำงาน\" + 0.012*\"สัญญา\" + 0.011*\"สิทธิ\" + 0.010*\"พนักงาน\" + 0.010*\"มาตรา\" + 0.010*\"งาน\" + 0.010*\"เลิกจ้าง\" + 0.009*\"เงิน\" + 0.008*\"แจ้ง\" + 0.008*\"กรณี\" + 0.008*\"ค่าจ้าง\" + 0.007*\"วันที่\" + 0.006*\"คุ้มครอง\" + 0.006*\"แรงงาน\" + 0.006*\"ค่าชดเชย\" + 0.005*\"การทำงาน\"'),\n",
       " (1,\n",
       "  '0.023*\"ศาล\" + 0.014*\"บาท\" + 0.013*\"เงิน\" + 0.012*\"จำเลย\" + 0.011*\"มาตรา\" + 0.011*\"ฟ้อง\" + 0.009*\"รถ\" + 0.008*\"สัญญา\" + 0.008*\"จ่าย\" + 0.007*\"จำคุก\" + 0.006*\"เช่าซื้อ\" + 0.006*\"ความผิด\" + 0.006*\"คืน\" + 0.006*\"เช็ค\" + 0.005*\"ค่า\" + 0.005*\"บ้าน\" + 0.005*\"จำนวน\" + 0.005*\"โจทก์\" + 0.005*\"กรณี\" + 0.005*\"สิทธิ\"'),\n",
       " (2,\n",
       "  '0.030*\"ที่ดิน\" + 0.020*\"บุตร\" + 0.019*\"สามี\" + 0.013*\"บ้าน\" + 0.013*\"มาตรา\" + 0.013*\"พ่อ\" + 0.013*\"สิทธิ\" + 0.012*\"แม่\" + 0.011*\"ลูก\" + 0.009*\"ภรรยา\" + 0.009*\"โอน\" + 0.008*\"บิดา\" + 0.008*\"ปพพ\" + 0.008*\"แบ่ง\" + 0.008*\"มรดก\" + 0.008*\"จดทะเบียน\" + 0.008*\"ผู้จัดการมรดก\" + 0.007*\"ทรัพย์สิน\" + 0.007*\"ศาล\" + 0.007*\"ทายาท\"'),\n",
       " (3,\n",
       "  '0.014*\"ธนาคาร\" + 0.014*\"เจ้าหนี้\" + 0.012*\"ชำระหนี้\" + 0.011*\"ลูกหนี้\" + 0.010*\"หนี้\" + 0.010*\"บ้าน\" + 0.009*\"เงิน\" + 0.009*\"ฟ้อง\" + 0.008*\"รถ\" + 0.007*\"บาท\" + 0.006*\"กู้\" + 0.006*\"ยึด\" + 0.005*\"โดน\" + 0.005*\"สัญญา\" + 0.005*\"บังคับ\" + 0.005*\"แฟน\" + 0.005*\"ค้ำประกัน\" + 0.005*\"ผ่อน\" + 0.005*\"ทราบ\" + 0.005*\"จ่าย\"'),\n",
       " (4,\n",
       "  '0.014*\"ตำรวจ\" + 0.012*\"โดน\" + 0.009*\"รถ\" + 0.009*\"ศาล\" + 0.008*\"แฟน\" + 0.008*\"ทราบ\" + 0.007*\"เพื่อน\" + 0.006*\"จ่าย\" + 0.006*\"แจ้ง\" + 0.006*\"ซื้อ\" + 0.006*\"ถาม\" + 0.006*\"เงิน\" + 0.006*\"แจ้งความ\" + 0.005*\"โทร\" + 0.005*\"วันที่\" + 0.005*\"ข้อหา\" + 0.005*\"จำหน่าย\" + 0.005*\"บริษัท\" + 0.005*\"ทนาย\" + 0.004*\"ยา\"')]"
      ]
     },
     "execution_count": 10,
     "metadata": {},
     "output_type": "execute_result"
    }
   ],
   "source": [
    "num_topics = 5\n",
    "lda_model = gensim.models.ldamodel.LdaModel(corpus=corpus,\n",
    "                                            id2word=id2word,\n",
    "                                            num_topics=num_topics,\n",
    "                                            iterations=1000, # number of iterations performed within each pass\n",
    "                                            chunksize=len(corpus),\n",
    "                                            passes=10, # number of times the model goes through the entire training corpus\n",
    "                                            alpha='auto', # how sparse of topic distribution\n",
    "                                            eta='auto', # how sparse of word distribution\n",
    "                                            random_state=RANDOM_STATE, \n",
    "                                            update_every=0, # frequency of parameter updates during training.\n",
    "                                            minimum_probability=0, \n",
    "                                            eval_every=1,\n",
    "                                            callbacks=[perplexity_logger, coherence_cv_logger]\n",
    "                                            )\n",
    "with open('model/lda_model.pkl', 'wb') as f:\n",
    "    pickle.dump(lda_model, f)\n",
    "lda_model.show_topics(num_topics=num_topics, num_words=20)"
   ]
  },
  {
   "cell_type": "code",
   "execution_count": null,
   "metadata": {},
   "outputs": [],
   "source": [
    "lda_model.show_topics(num_topics=num_topics, num_words=20)"
   ]
  },
  {
   "cell_type": "code",
   "execution_count": 2,
   "metadata": {},
   "outputs": [],
   "source": [
    "topic_dict = {\n",
    "    0 : \"labor\",\n",
    "    1 : \"personal rights/court\",\n",
    "    2 : \"family/succession\",\n",
    "    3 : \"contract\",\n",
    "    4 : \"criminal\",\n",
    "}\n",
    "\n",
    "with open('model/topic_dict.pkl', 'wb') as f:\n",
    "    pickle.dump(topic_dict, f)"
   ]
  },
  {
   "cell_type": "code",
   "execution_count": 10,
   "metadata": {},
   "outputs": [
    {
     "data": {
      "text/plain": [
       "-7.240857795521262"
      ]
     },
     "execution_count": 10,
     "metadata": {},
     "output_type": "execute_result"
    }
   ],
   "source": [
    "lda_model.log_perplexity(corpus)"
   ]
  },
  {
   "cell_type": "code",
   "execution_count": 11,
   "metadata": {},
   "outputs": [
    {
     "name": "stdout",
     "output_type": "stream",
     "text": [
      "[0.6902106667352188, 0.3002604063798093, 0.5651976364474212, 0.5182573821129128, 0.424610467420778]\n"
     ]
    },
    {
     "data": {
      "text/plain": [
       "0.499707311819228"
      ]
     },
     "execution_count": 11,
     "metadata": {},
     "output_type": "execute_result"
    }
   ],
   "source": [
    "lda_model.log_perplexity(corpus)\n",
    "coherence_lda = CoherenceModel(model=lda_model, corpus=corpus, texts=test_data, dictionary=id2word, coherence='c_v')\n",
    "print(coherence_lda.get_coherence_per_topic())\n",
    "coherence_lda.get_coherence()"
   ]
  },
  {
   "cell_type": "code",
   "execution_count": null,
   "metadata": {},
   "outputs": [],
   "source": []
  },
  {
   "cell_type": "code",
   "execution_count": 21,
   "metadata": {},
   "outputs": [
    {
     "data": {
      "text/plain": [
       "[(0, 0.0021656551),\n",
       " (1, 0.0020896585),\n",
       " (2, 0.0011915067),\n",
       " (3, 0.28720552),\n",
       " (4, 0.0015049616),\n",
       " (5, 0.70584273)]"
      ]
     },
     "execution_count": 21,
     "metadata": {},
     "output_type": "execute_result"
    }
   ],
   "source": [
    "lda_model.get_document_topics(corpus[33])"
   ]
  },
  {
   "cell_type": "code",
   "execution_count": 6,
   "metadata": {},
   "outputs": [
    {
     "data": {
      "text/plain": [
       "array([0.06184261, 0.06974824, 0.07769059, 0.05495739, 0.04842547,\n",
       "       0.041978  ], dtype=float32)"
      ]
     },
     "execution_count": 6,
     "metadata": {},
     "output_type": "execute_result"
    }
   ],
   "source": [
    "lda_model.alpha"
   ]
  },
  {
   "cell_type": "code",
   "execution_count": 7,
   "metadata": {},
   "outputs": [
    {
     "data": {
      "text/plain": [
       "array([8.965644  , 0.4998627 , 0.2424116 , ..., 0.12762997, 0.1276299 ,\n",
       "       0.12763008], dtype=float32)"
      ]
     },
     "execution_count": 7,
     "metadata": {},
     "output_type": "execute_result"
    }
   ],
   "source": [
    "lda_model.eta"
   ]
  },
  {
   "cell_type": "code",
   "execution_count": null,
   "metadata": {},
   "outputs": [],
   "source": [
    "lda_model.show_topics(num_topics=num_topics, num_words=10)"
   ]
  },
  {
   "cell_type": "code",
   "execution_count": 12,
   "metadata": {},
   "outputs": [
    {
     "name": "stderr",
     "output_type": "stream",
     "text": [
      "c:\\Users\\User\\anaconda3\\lib\\site-packages\\pyLDAvis\\_prepare.py:243: FutureWarning: In a future version of pandas all arguments of DataFrame.drop except for the argument 'labels' will be keyword-only.\n",
      "  default_term_info = default_term_info.sort_values(\n"
     ]
    },
    {
     "data": {
      "text/html": [
       "\n",
       "<link rel=\"stylesheet\" type=\"text/css\" href=\"https://cdn.jsdelivr.net/gh/bmabey/pyLDAvis@3.4.0/pyLDAvis/js/ldavis.v1.0.0.css\">\n",
       "\n",
       "\n",
       "<div id=\"ldavis_el110681513154594960627289444\" style=\"background-color:white;\"></div>\n",
       "<script type=\"text/javascript\">\n",
       "\n",
       "var ldavis_el110681513154594960627289444_data = {\"mdsDat\": {\"x\": [-0.22168521426746293, 0.0372540065184513, 0.075454312504258, 0.018121257503339847, 0.09085563774141375], \"y\": [0.014741808438742187, -0.051658887567113766, 0.17526982879019373, -0.062388712895338885, -0.0759640367664833], \"topics\": [1, 2, 3, 4, 5], \"cluster\": [1, 1, 1, 1, 1], \"Freq\": [26.917089628396774, 23.006382517033398, 20.016064786414212, 16.765185476190712, 13.295277591964913]}, \"tinfo\": {\"Term\": [\"\\u0e19\\u0e32\\u0e22\\u0e08\\u0e49\\u0e32\\u0e07\", \"\\u0e17\\u0e35\\u0e48\\u0e14\\u0e34\\u0e19\", \"\\u0e25\\u0e39\\u0e01\\u0e08\\u0e49\\u0e32\\u0e07\", \"\\u0e1a\\u0e38\\u0e15\\u0e23\", \"\\u0e1a\\u0e23\\u0e34\\u0e29\\u0e31\\u0e17\", \"\\u0e2a\\u0e32\\u0e21\\u0e35\", \"\\u0e08\\u0e33\\u0e40\\u0e25\\u0e22\", \"\\u0e17\\u0e33\\u0e07\\u0e32\\u0e19\", \"\\u0e40\\u0e08\\u0e49\\u0e32\\u0e2b\\u0e19\\u0e35\\u0e49\", \"\\u0e15\\u0e33\\u0e23\\u0e27\\u0e08\", \"\\u0e18\\u0e19\\u0e32\\u0e04\\u0e32\\u0e23\", \"\\u0e1e\\u0e48\\u0e2d\", \"\\u0e28\\u0e32\\u0e25\", \"\\u0e40\\u0e25\\u0e34\\u0e01\\u0e08\\u0e49\\u0e32\\u0e07\", \"\\u0e0a\\u0e33\\u0e23\\u0e30\\u0e2b\\u0e19\\u0e35\\u0e49\", \"\\u0e42\\u0e14\\u0e19\", \"\\u0e1a\\u0e34\\u0e14\\u0e32\", \"\\u0e25\\u0e39\\u0e01\", \"\\u0e25\\u0e39\\u0e01\\u0e2b\\u0e19\\u0e35\\u0e49\", \"\\u0e21\\u0e23\\u0e14\\u0e01\", \"\\u0e1c\\u0e39\\u0e49\\u0e08\\u0e31\\u0e14\\u0e01\\u0e32\\u0e23\\u0e21\\u0e23\\u0e14\\u0e01\", \"\\u0e2b\\u0e19\\u0e35\\u0e49\", \"\\u0e04\\u0e48\\u0e32\\u0e08\\u0e49\\u0e32\\u0e07\", \"\\u0e23\\u0e16\", \"\\u0e08\\u0e48\\u0e32\\u0e22\", \"\\u0e20\\u0e23\\u0e23\\u0e22\\u0e32\", \"\\u0e17\\u0e32\\u0e22\\u0e32\\u0e17\", \"\\u0e41\\u0e21\\u0e48\", \"\\u0e1e\\u0e34\\u0e19\\u0e31\\u0e22\\u0e01\\u0e23\\u0e23\\u0e21\", \"\\u0e07\\u0e32\\u0e19\", \"\\u0e1a\\u0e38\\u0e15\\u0e23\\u0e1a\\u0e38\\u0e0d\\u0e18\\u0e23\\u0e23\\u0e21\", \"\\u0e01\\u0e32\\u0e23\\u0e2a\\u0e21\\u0e23\\u0e2a\", \"\\u0e1c\\u0e39\\u0e49\\u0e43\\u0e0a\\u0e49\\u0e2d\\u0e33\\u0e19\\u0e32\\u0e08\\u0e1b\\u0e01\\u0e04\\u0e23\\u0e2d\\u0e07\", \"\\u0e23\\u0e31\\u0e1a\\u0e21\\u0e23\\u0e14\\u0e01\", \"\\u0e1c\\u0e39\\u0e49\\u0e2a\\u0e37\\u0e1a\\u0e2a\\u0e31\\u0e19\\u0e14\\u0e32\\u0e19\", \"\\u0e21\\u0e23\\u0e14\\u0e01\", \"\\u0e20\\u0e23\\u0e23\\u0e22\\u0e32\\u0e40\\u0e01\\u0e48\\u0e32\", \"\\u0e2a\\u0e21\\u0e23\\u0e2a\", \"\\u0e1a\\u0e38\\u0e15\\u0e23\", \"\\u0e15\\u0e01\\u0e17\\u0e2d\\u0e14\", \"\\u0e17\\u0e23\\u0e31\\u0e1e\\u0e22\\u0e4c\\u0e21\\u0e23\\u0e14\\u0e01\", \"\\u0e1e\\u0e34\\u0e19\\u0e31\\u0e22\\u0e01\\u0e23\\u0e23\\u0e21\", \"\\u0e1a\\u0e34\\u0e14\\u0e32\", \"\\u0e04\\u0e38\\u0e13\\u0e1b\\u0e39\\u0e48\", \"\\u0e04\\u0e23\\u0e2d\\u0e1a\\u0e04\\u0e23\\u0e2d\\u0e07\\u0e1b\\u0e23\\u0e1b\\u0e31\\u0e01\\u0e29\\u0e4c\", \"\\u0e40\\u0e19\\u0e23\\u0e04\\u0e38\\u0e13\", \"\\u0e40\\u0e08\\u0e49\\u0e32\\u0e21\\u0e23\\u0e14\\u0e01\", \"\\u0e2d\\u0e38\\u0e1b\\u0e01\\u0e32\\u0e23\\u0e30\", \"\\u0e2a\\u0e39\\u0e15\\u0e34\\u0e1a\\u0e31\\u0e15\\u0e23\", \"\\u0e2a\\u0e34\\u0e19\\u0e2a\\u0e21\\u0e23\\u0e2a\", \"\\u0e01\\u0e23\\u0e23\\u0e21\\u0e2a\\u0e34\\u0e17\\u0e18\\u0e34\\u0e4c\\u0e23\\u0e27\\u0e21\", \"\\u0e17\\u0e32\\u0e22\\u0e32\\u0e17\", \"\\u0e41\\u0e1a\\u0e48\\u0e07\\u0e1b\\u0e31\\u0e19\", \"\\u0e1b\\u0e01\\u0e04\\u0e23\\u0e2d\\u0e07\", \"\\u0e17\\u0e33\\u0e1b\\u0e23\\u0e30\\u0e42\\u0e22\\u0e0a\\u0e19\\u0e4c\", \"\\u0e2a\\u0e34\\u0e19\\u0e2a\\u0e48\\u0e27\\u0e19\\u0e15\\u0e31\\u0e27\", \"\\u0e1c\\u0e39\\u0e49\\u0e08\\u0e31\\u0e14\\u0e01\\u0e32\\u0e23\\u0e21\\u0e23\\u0e14\\u0e01\", \"\\u0e40\\u0e2d\\u0e01\\u0e2a\\u0e32\\u0e23\\u0e2a\\u0e34\\u0e17\\u0e18\\u0e34\\u0e4c\", \"\\u0e1b\\u0e39\\u0e48\", \"\\u0e21\\u0e23\\u0e14\\u0e01\\u0e15\\u0e01\\u0e17\\u0e2d\\u0e14\", \"\\u0e17\\u0e35\\u0e48\\u0e14\\u0e34\\u0e19\", \"\\u0e20\\u0e23\\u0e34\\u0e22\\u0e32\", \"\\u0e21\\u0e32\\u0e23\\u0e14\\u0e32\", \"\\u0e41\\u0e1b\\u0e25\\u0e07\", \"\\u0e08\\u0e14\\u0e17\\u0e30\\u0e40\\u0e1a\\u0e35\\u0e22\\u0e19\\u0e2a\\u0e21\\u0e23\\u0e2a\", \"\\u0e22\\u0e32\\u0e22\", \"\\u0e17\\u0e32\\u0e22\\u0e32\\u0e17\\u0e42\\u0e14\\u0e22\\u0e18\\u0e23\\u0e23\\u0e21\", \"\\u0e22\\u0e48\\u0e32\", \"\\u0e2a\\u0e32\\u0e21\\u0e35\", \"\\u0e1f\\u0e49\\u0e2d\\u0e07\\u0e2b\\u0e22\\u0e48\\u0e32\", \"\\u0e40\\u0e2a\\u0e35\\u0e22\\u0e0a\\u0e35\\u0e27\\u0e34\\u0e15\", \"\\u0e41\\u0e1a\\u0e48\\u0e07\", \"\\u0e1e\\u0e48\\u0e2d\", \"\\u0e01\\u0e23\\u0e23\\u0e21\\u0e2a\\u0e34\\u0e17\\u0e18\\u0e34\\u0e4c\", \"\\u0e20\\u0e23\\u0e23\\u0e22\\u0e32\", \"\\u0e08\\u0e14\\u0e17\\u0e30\\u0e40\\u0e1a\\u0e35\\u0e22\\u0e19\", \"\\u0e40\\u0e25\\u0e35\\u0e49\\u0e22\\u0e07\\u0e14\\u0e39\", \"\\u0e40\\u0e14\\u0e47\\u0e01\", \"\\u0e25\\u0e39\\u0e01\", \"\\u0e41\\u0e21\\u0e48\", \"\\u0e2b\\u0e22\\u0e48\\u0e32\", \"\\u0e2b\\u0e0d\\u0e34\\u0e07\", \"\\u0e42\\u0e09\\u0e19\\u0e14\", \"\\u0e1b\\u0e1e\\u0e1e\", \"\\u0e1a\\u0e49\\u0e32\\u0e19\", \"\\u0e42\\u0e2d\\u0e19\", \"\\u0e2a\\u0e34\\u0e17\\u0e18\\u0e34\", \"\\u0e17\\u0e23\\u0e31\\u0e1e\\u0e22\\u0e4c\\u0e2a\\u0e34\\u0e19\", \"\\u0e21\\u0e32\\u0e15\\u0e23\\u0e32\", \"\\u0e0a\\u0e37\\u0e48\\u0e2d\", \"\\u0e28\\u0e32\\u0e25\", \"\\u0e1f\\u0e49\\u0e2d\\u0e07\", \"\\u0e01\\u0e23\\u0e13\\u0e35\", \"\\u0e2d\\u0e38\\u0e17\\u0e18\\u0e23\\u0e13\\u0e4c\", \"\\u0e17\\u0e2d\\u0e07\\u0e04\\u0e33\", \"\\u0e1b\\u0e25\\u0e48\\u0e2d\\u0e22\\u0e0a\\u0e31\\u0e48\\u0e27\\u0e04\\u0e23\\u0e32\\u0e27\", \"\\u0e1b\\u0e23\\u0e30\\u0e40\\u0e21\\u0e34\\u0e19\\u0e20\\u0e32\\u0e29\\u0e35\", \"\\u0e08\\u0e33\\u0e40\\u0e25\\u0e22\", \"\\u0e1c\\u0e39\\u0e49\\u0e2a\\u0e31\\u0e48\\u0e07\\u0e08\\u0e48\\u0e32\\u0e22\", \"\\u0e28\\u0e32\\u0e25\\u0e2d\\u0e38\\u0e17\\u0e18\\u0e23\\u0e13\\u0e4c\", \"\\u0e42\\u0e08\\u0e17\\u0e01\\u0e4c\", \"\\u0e2a\\u0e23\\u0e49\\u0e2d\\u0e22\\u0e04\\u0e2d\", \"\\u0e1b\\u0e2d\\u0e21\", \"\\u0e40\\u0e15\\u0e49\\u0e19\\u0e17\\u0e4c\", \"\\u0e43\\u0e0a\\u0e49\\u0e01\\u0e33\\u0e25\\u0e31\\u0e07\\u0e1b\\u0e23\\u0e30\\u0e17\\u0e38\\u0e29\\u0e23\\u0e49\\u0e32\\u0e22\", \"\\u0e1c\\u0e25\\u0e23\\u0e49\\u0e32\\u0e22\", \"\\u0e40\\u0e2b\\u0e47\\u0e19\\u0e1e\\u0e49\\u0e2d\\u0e07\", \"\\u0e19\\u0e17\", \"\\u0e40\\u0e04\\u0e2b\\u0e2a\\u0e16\\u0e32\\u0e19\", \"\\u0e19\\u0e34\\u0e20\\u0e32\", \"\\u0e20\\u0e32\\u0e29\\u0e35\\u0e21\\u0e39\\u0e25\\u0e04\\u0e48\\u0e32\\u0e40\\u0e1e\\u0e34\\u0e48\\u0e21\", \"\\u0e01\\u0e23\\u0e21\\u0e28\\u0e38\\u0e25\\u0e01\\u0e32\\u0e01\\u0e23\", \"\\u0e23\\u0e33\\u0e1e\\u0e36\\u0e07\", \"\\u0e01\\u0e32\\u0e23\\u0e22\\u0e37\\u0e21\", \"\\u0e23\\u0e32\\u0e07\\u0e27\\u0e31\\u0e25\", \"\\u0e17\\u0e38\\u0e40\\u0e25\\u0e32\", \"\\u0e28\\u0e32\\u0e25\\u0e0a\\u0e31\\u0e49\\u0e19\\u0e15\\u0e49\\u0e19\", \"\\u0e04\\u0e48\\u0e32\\u0e18\\u0e23\\u0e23\\u0e21\\u0e40\\u0e19\\u0e35\\u0e22\\u0e21\\u0e28\\u0e32\\u0e25\", \"\\u0e40\\u0e2a\\u0e19\", \"\\u0e17\\u0e34\\u0e2a\\u0e42\\u0e01\\u0e49\", \"\\u0e04\\u0e27\\u0e32\\u0e21\\u0e1c\\u0e34\\u0e14\\u0e2d\\u0e31\\u0e19\\u0e22\\u0e2d\\u0e21\\u0e04\\u0e27\\u0e32\\u0e21\\u0e44\\u0e14\\u0e49\", \"\\u0e23\\u0e31\\u0e0a\", \"\\u0e44\\u0e1f\\u0e25\\u0e4c\", \"\\u0e40\\u0e0a\\u0e47\\u0e04\", \"\\u0e1b\\u0e2d\", \"\\u0e25\\u0e07\\u0e42\\u0e17\\u0e29\", \"\\u0e18\\u0e2d\\u0e2a\", \"\\u0e04\\u0e14\\u0e35\\u0e2d\\u0e32\\u0e0d\\u0e32\", \"\\u0e1e\\u0e19\\u0e31\\u0e01\\u0e07\\u0e32\\u0e19\\u0e2a\\u0e2d\\u0e1a\\u0e2a\\u0e27\\u0e19\", \"\\u0e1c\\u0e39\\u0e49\\u0e40\\u0e2a\\u0e35\\u0e22\\u0e2b\\u0e32\\u0e22\", \"\\u0e1b\\u0e23\\u0e32\\u0e19\\u0e35\", \"\\u0e27\\u0e34\", \"\\u0e1c\\u0e39\\u0e49\\u0e17\\u0e23\\u0e07\", \"\\u0e01\\u0e23\\u0e30\\u0e17\\u0e33\\u0e04\\u0e27\\u0e32\\u0e21\\u0e1c\\u0e34\\u0e14\", \"\\u0e04\\u0e27\\u0e32\\u0e21\\u0e1c\\u0e34\\u0e14\", \"\\u0e2d\\u0e32\\u0e0d\\u0e32\", \"\\u0e08\\u0e33\\u0e04\\u0e38\\u0e01\", \"\\u0e42\\u0e08\\u0e17\\u0e22\\u0e4c\", \"\\u0e40\\u0e0a\\u0e48\\u0e32\\u0e0b\\u0e37\\u0e49\\u0e2d\", \"\\u0e1b\", \"\\u0e04\\u0e14\\u0e35\\u0e41\\u0e1e\\u0e48\\u0e07\", \"\\u0e04\\u0e33\\u0e1e\\u0e34\\u0e1e\\u0e32\\u0e01\\u0e29\\u0e32\", \"\\u0e1e\\u0e22\\u0e32\\u0e19\\u0e2b\\u0e25\\u0e31\\u0e01\\u0e10\\u0e32\\u0e19\", \"\\u0e23\\u0e49\\u0e2d\\u0e07\\u0e17\\u0e38\\u0e01\\u0e02\\u0e4c\", \"\\u0e14\\u0e2d\\u0e01\\u0e40\\u0e1a\\u0e35\\u0e49\\u0e22\", \"\\u0e41\\u0e1e\\u0e48\\u0e07\", \"\\u0e28\\u0e32\\u0e25\", \"\\u0e23\\u0e30\\u0e27\\u0e32\\u0e07\\u0e42\\u0e17\\u0e29\", \"\\u0e44\\u0e1f\\u0e41\\u0e19\\u0e19\\u0e0b\\u0e4c\", \"\\u0e1e\\u0e34\\u0e1e\\u0e32\\u0e01\\u0e29\\u0e32\", \"\\u0e1a\\u0e32\\u0e17\", \"\\u0e2d\", \"\\u0e10\\u0e32\\u0e19\", \"\\u0e42\\u0e17\\u0e29\", \"\\u0e1e\\u0e34\\u0e08\\u0e32\\u0e23\\u0e13\\u0e32\", \"\\u0e40\\u0e07\\u0e34\\u0e19\", \"\\u0e23\\u0e16\", \"\\u0e1f\\u0e49\\u0e2d\\u0e07\", \"\\u0e21\\u0e32\\u0e15\\u0e23\\u0e32\", \"\\u0e2a\\u0e31\\u0e0d\\u0e0d\\u0e32\", \"\\u0e04\\u0e37\\u0e19\", \"\\u0e22\\u0e37\\u0e48\\u0e19\", \"\\u0e08\\u0e33\\u0e19\\u0e27\\u0e19\", \"\\u0e08\\u0e48\\u0e32\\u0e22\", \"\\u0e23\\u0e2d\", \"\\u0e04\\u0e48\\u0e32\", \"\\u0e14\\u0e33\\u0e40\\u0e19\\u0e34\\u0e19\\u0e04\\u0e14\\u0e35\", \"\\u0e17\\u0e19\\u0e32\\u0e22\", \"\\u0e0a\\u0e33\\u0e23\\u0e30\", \"\\u0e0b\\u0e37\\u0e49\\u0e2d\", \"\\u0e02\\u0e32\\u0e22\", \"\\u0e01\\u0e23\\u0e13\\u0e35\", \"\\u0e1a\\u0e49\\u0e32\\u0e19\", \"\\u0e2a\\u0e34\\u0e17\\u0e18\\u0e34\", \"\\u0e17\\u0e23\\u0e32\\u0e1a\", \"\\u0e19\\u0e32\\u0e22\\u0e08\\u0e49\\u0e32\\u0e07\", \"\\u0e28\\u0e32\\u0e25\\u0e41\\u0e23\\u0e07\\u0e07\\u0e32\\u0e19\", \"\\u0e40\\u0e25\\u0e34\\u0e01\\u0e08\\u0e49\\u0e32\\u0e07\", \"\\u0e08\\u0e49\\u0e32\\u0e07\\u0e41\\u0e23\\u0e07\\u0e07\\u0e32\\u0e19\", \"\\u0e25\\u0e39\\u0e01\\u0e08\\u0e49\\u0e32\\u0e07\", \"\\u0e04\\u0e48\\u0e32\\u0e25\\u0e48\\u0e27\\u0e07\\u0e40\\u0e27\\u0e25\\u0e32\", \"\\u0e2a\\u0e31\\u0e0d\\u0e0d\\u0e32\\u0e08\\u0e49\\u0e32\\u0e07\", \"\\u0e2a\\u0e20\\u0e32\\u0e1e\\u0e01\\u0e32\\u0e23\\u0e08\\u0e49\\u0e32\\u0e07\", \"\\u0e28\", \"\\u0e2d\\u0e31\\u0e15\\u0e23\\u0e32\\u0e04\\u0e48\\u0e32\\u0e08\\u0e49\\u0e32\\u0e07\", \"\\u0e04\\u0e48\\u0e32\\u0e0a\\u0e14\\u0e40\\u0e0a\\u0e22\", \"\\u0e2d\\u0e32\\u0e22\\u0e38\\u0e07\\u0e32\\u0e19\", \"\\u0e25\\u0e32\\u0e1e\\u0e31\\u0e01\\u0e23\\u0e49\\u0e2d\\u0e19\", \"\\u0e41\\u0e23\\u0e07\\u0e07\\u0e32\\u0e19\", \"\\u0e40\\u0e07\\u0e34\\u0e19\\u0e2a\\u0e21\\u0e17\\u0e1a\", \"\\u0e07\\u0e32\", \"\\u0e19\\u0e1e\", \"\\u0e01\\u0e32\\u0e23\\u0e25\\u0e32\", \"\\u0e27\\u0e31\\u0e19\\u0e17\\u0e33\\u0e07\\u0e32\\u0e19\", \"\\u0e04\\u0e48\\u0e32\\u0e08\\u0e49\\u0e32\\u0e07\", \"\\u0e51\\u0e51\\u0e58\", \"\\u0e52\\u0e55\\u0e54\\u0e51\", \"\\u0e02\\u0e49\\u0e2d\\u0e1a\\u0e31\\u0e07\\u0e04\\u0e31\\u0e1a\", \"\\u0e25\\u0e48\\u0e27\\u0e07\\u0e40\\u0e27\\u0e25\\u0e32\", \"\\u0e27\\u0e31\\u0e19\\u0e2b\\u0e22\\u0e38\\u0e14\", \"\\u0e08\\u0e48\\u0e32\\u0e22\\u0e40\\u0e07\\u0e34\\u0e19\\u0e40\\u0e14\\u0e37\\u0e2d\\u0e19\", \"\\u0e01\\u0e32\\u0e23\\u0e17\\u0e14\\u0e25\\u0e2d\\u0e07\", \"\\u0e2a\\u0e34\\u0e19\\u0e08\\u0e49\\u0e32\\u0e07\", \"\\u0e41\\u0e23\\u0e07\\u0e07\\u0e32\\u0e19\\u0e2a\\u0e31\\u0e21\\u0e1e\\u0e31\\u0e19\\u0e18\\u0e4c\", \"\\u0e41\\u0e15\\u0e48\\u0e25\\u0e30\\u0e27\\u0e31\\u0e19\", \"\\u0e04\\u0e38\\u0e49\\u0e21\\u0e04\\u0e23\\u0e2d\\u0e07\", \"\\u0e01\\u0e32\\u0e23\\u0e17\\u0e33\\u0e07\\u0e32\\u0e19\", \"\\u0e25\\u0e32\\u0e2d\\u0e2d\\u0e01\", \"\\u0e41\\u0e23\\u0e07\", \"\\u0e43\\u0e1a\\u0e25\\u0e32\\u0e2d\\u0e2d\\u0e01\", \"\\u0e40\\u0e07\\u0e34\\u0e19\\u0e0a\\u0e14\\u0e40\\u0e0a\\u0e22\", \"\\u0e40\\u0e27\\u0e25\\u0e32\\u0e17\\u0e33\\u0e07\\u0e32\\u0e19\", \"\\u0e40\\u0e1b\\u0e47\\u0e19\\u0e18\\u0e23\\u0e23\\u0e21\", \"\\u0e1b\\u0e23\\u0e30\\u0e01\\u0e31\\u0e19\\u0e2a\\u0e31\\u0e07\\u0e04\\u0e21\", \"\\u0e1a\\u0e23\\u0e34\\u0e29\\u0e31\\u0e17\", \"\\u0e0a\\u0e31\\u0e48\\u0e27\\u0e42\\u0e21\\u0e07\", \"\\u0e17\\u0e33\\u0e07\\u0e32\\u0e19\", \"\\u0e07\\u0e32\\u0e19\", \"\\u0e1e\\u0e19\\u0e31\\u0e01\\u0e07\\u0e32\\u0e19\", \"\\u0e25\\u0e32\", \"\\u0e08\\u0e48\\u0e32\\u0e22\", \"\\u0e2b\\u0e31\\u0e01\", \"\\u0e25\\u0e48\\u0e27\\u0e07\\u0e2b\\u0e19\\u0e49\\u0e32\", \"\\u0e2a\\u0e31\\u0e0d\\u0e0d\\u0e32\", \"\\u0e40\\u0e07\\u0e34\\u0e19\\u0e40\\u0e14\\u0e37\\u0e2d\\u0e19\", \"\\u0e27\\u0e31\\u0e19\\u0e17\\u0e35\\u0e48\", \"\\u0e2a\\u0e34\\u0e17\\u0e18\\u0e34\", \"\\u0e41\\u0e08\\u0e49\\u0e07\", \"\\u0e01\\u0e23\\u0e13\\u0e35\", \"\\u0e21\\u0e32\\u0e15\\u0e23\\u0e32\", \"\\u0e40\\u0e07\\u0e34\\u0e19\", \"\\u0e23\\u0e30\\u0e22\\u0e30\\u0e40\\u0e27\\u0e25\\u0e32\", \"\\u0e04\\u0e48\\u0e32\", \"\\u0e01\\u0e0e\\u0e2b\\u0e21\\u0e32\\u0e22\", \"\\u0e1f\\u0e49\\u0e2d\\u0e07\", \"\\u0e17\\u0e23\\u0e32\\u0e1a\", \"\\u0e25\\u0e39\\u0e01\\u0e2b\\u0e19\\u0e35\\u0e49\\u0e23\\u0e48\\u0e27\\u0e21\", \"\\u0e1c\\u0e39\\u0e49\\u0e23\\u0e31\\u0e1a\\u0e08\\u0e33\\u0e19\\u0e33\", \"\\u0e41\\u0e19\\u0e19\\u0e2a\\u0e4c\", \"\\u0e40\\u0e01\\u0e35\\u0e48\\u0e22\\u0e07\", \"\\u0e17\\u0e27\\u0e19\", \"\\u0e0b\\u0e49\\u0e2d\\u0e19\\u0e17\\u0e49\\u0e32\\u0e22\", \"\\u0e1a\\u0e2d\\u0e2a\", \"\\u0e40\\u0e04\\u0e49\\u0e01\", \"\\u0e01\\u0e32\\u0e23\\u0e1b\\u0e23\\u0e31\\u0e1a\\u0e42\\u0e04\\u0e23\\u0e07\\u0e2a\\u0e23\\u0e49\\u0e32\\u0e07\", \"\\u0e02\\u0e36\\u0e49\\u0e19\\u0e1a\\u0e31\\u0e0d\\u0e0a\\u0e35\", \"\\u0e1c\\u0e39\\u0e49\\u0e08\\u0e33\\u0e19\\u0e33\", \"\\u0e2a\\u0e33\\u0e40\\u0e19\\u0e35\\u0e22\\u0e07\", \"\\u0e2a\\u0e2d\\u0e1a\\u0e2a\\u0e31\\u0e21\\u0e20\\u0e32\\u0e29\\u0e13\\u0e4c\", \"\\u0e40\\u0e14\\u0e48\\u0e19\", \"\\u0e23\\u0e39\\u0e14\", \"\\u0e40\\u0e1b\\u0e35\\u0e22\", \"\\u0e56\\u0e58\\u0e50\", \"\\u0e25\\u0e39\\u0e01\\u0e41\\u0e0a\\u0e23\\u0e4c\", \"\\u0e1a\\u0e2a\\u0e01\", \"\\u0e25\\u0e39\\u0e01\\u0e2b\\u0e19\\u0e35\\u0e49\\u0e0a\\u0e31\\u0e49\\u0e19\\u0e15\\u0e49\\u0e19\", \"\\u0e41\\u0e04\\u0e1b\\u0e1b\\u0e34\\u0e15\\u0e2d\\u0e25\", \"\\u0e15\\u0e37\\u0e48\\u0e19\", \"\\u0e17\\u0e23\\u0e32\\u0e22\", \"\\u0e1b\\u0e23\\u0e30\\u0e17\\u0e31\\u0e1a\", \"\\u0e2a\\u0e1b\\u0e2d\\u0e15\", \"\\u0e2a\\u0e34\\u0e49\\u0e19\\u0e40\\u0e0a\\u0e34\\u0e07\", \"\\u0e19\\u0e39\\u0e48\", \"\\u0e19\\u0e49\\u0e33\\u0e21\\u0e31\\u0e19\\u0e40\\u0e04\\u0e23\\u0e37\\u0e48\\u0e2d\\u0e07\", \"\\u0e44\\u0e2e\\u0e42\\u0e0b\", \"\\u0e16\\u0e32\\u0e21\\u0e15\\u0e34\\u0e07\", \"\\u0e1a\\u0e31\\u0e15\\u0e23\\u0e40\\u0e04\\u0e23\\u0e14\\u0e34\\u0e15\", \"\\u0e40\\u0e2e\\u0e35\\u0e22\", \"\\u0e25\\u0e39\\u0e01\\u0e2b\\u0e19\\u0e35\\u0e49\", \"\\u0e0a\\u0e33\\u0e23\\u0e38\\u0e14\", \"\\u0e1b\\u0e23\\u0e31\\u0e1a\\u0e42\\u0e04\\u0e23\\u0e07\\u0e2a\\u0e23\\u0e49\\u0e32\\u0e07\", \"\\u0e40\\u0e08\\u0e49\\u0e32\\u0e2b\\u0e19\\u0e35\\u0e49\", \"\\u0e2d\\u0e32\\u0e22\\u0e31\\u0e14\", \"\\u0e25\\u0e49\\u0e21\\u0e25\\u0e30\\u0e25\\u0e32\\u0e22\", \"\\u0e1c\\u0e39\\u0e49\\u0e04\\u0e49\\u0e33\\u0e1b\\u0e23\\u0e30\\u0e01\\u0e31\\u0e19\", \"\\u0e2d\\u0e39\\u0e48\", \"\\u0e44\\u0e25\\u0e48\\u0e40\\u0e1a\\u0e35\\u0e49\\u0e22\", \"\\u0e1c\\u0e39\\u0e49\\u0e23\\u0e31\\u0e1a\\u0e08\\u0e33\\u0e19\\u0e2d\\u0e07\", \"\\u0e40\\u0e1b\\u0e47\\u0e19\\u0e2b\\u0e19\\u0e35\\u0e49\", \"\\u0e04\\u0e49\\u0e33\", \"\\u0e2b\\u0e19\\u0e35\\u0e49\", \"\\u0e0a\\u0e33\\u0e23\\u0e30\\u0e2b\\u0e19\\u0e35\\u0e49\", \"\\u0e18\\u0e19\\u0e32\\u0e04\\u0e32\\u0e23\", \"\\u0e04\\u0e49\\u0e33\\u0e1b\\u0e23\\u0e30\\u0e01\\u0e31\\u0e19\", \"\\u0e04\\u0e31\\u0e1a\", \"\\u0e1a\\u0e31\\u0e0d\\u0e0a\\u0e35\\u0e14\\u0e33\", \"\\u0e22\\u0e36\\u0e14\\u0e17\\u0e23\\u0e31\\u0e1e\\u0e22\\u0e4c\", \"\\u0e2b\\u0e19\\u0e35\\u0e49\\u0e2a\\u0e34\\u0e19\", \"\\u0e17\\u0e49\\u0e32\\u0e27\", \"\\u0e1a\\u0e38\\u0e04\\u0e04\\u0e25\\u0e25\\u0e49\\u0e21\\u0e25\\u0e30\\u0e25\\u0e32\\u0e22\", \"\\u0e01\\u0e39\\u0e49\", \"\\u0e01\\u0e32\\u0e23\\u0e0a\\u0e33\\u0e23\\u0e30\\u0e2b\\u0e19\\u0e35\\u0e49\", \"\\u0e14\\u0e48\\u0e32\", \"\\u0e1b\\u0e23\\u0e30\\u0e19\\u0e2d\\u0e21\\u0e2b\\u0e19\\u0e35\\u0e49\", \"\\u0e02\\u0e32\\u0e22\\u0e17\\u0e2d\\u0e14\\u0e15\\u0e25\\u0e32\\u0e14\", \"\\u0e23\\u0e31\\u0e1a\\u0e2a\\u0e20\\u0e32\\u0e1e\", \"\\u0e22\\u0e36\\u0e14\", \"\\u0e43\\u0e0a\\u0e49\\u0e2b\\u0e19\\u0e35\\u0e49\", \"\\u0e1c\\u0e48\\u0e2d\\u0e19\", \"\\u0e23\\u0e31\\u0e1a\\u0e1c\\u0e34\\u0e14\\u0e0a\\u0e2d\\u0e1a\", \"\\u0e08\\u0e33\\u0e19\\u0e2d\\u0e07\", \"\\u0e42\\u0e17\\u0e23\", \"\\u0e23\\u0e39\\u0e49\", \"\\u0e1a\\u0e49\\u0e32\\u0e19\", \"\\u0e1a\\u0e31\\u0e07\\u0e04\\u0e31\\u0e1a\", \"\\u0e23\\u0e16\", \"\\u0e42\\u0e14\\u0e19\", \"\\u0e1f\\u0e49\\u0e2d\\u0e07\", \"\\u0e40\\u0e07\\u0e34\\u0e19\", \"\\u0e41\\u0e1f\\u0e19\", \"\\u0e1a\\u0e32\\u0e17\", \"\\u0e40\\u0e1e\\u0e37\\u0e48\\u0e2d\\u0e19\", \"\\u0e0a\\u0e33\\u0e23\\u0e30\", \"\\u0e2a\\u0e31\\u0e0d\\u0e0d\\u0e32\", \"\\u0e17\\u0e23\\u0e32\\u0e1a\", \"\\u0e17\\u0e23\\u0e31\\u0e1e\\u0e22\\u0e4c\\u0e2a\\u0e34\\u0e19\", \"\\u0e08\\u0e48\\u0e32\\u0e22\", \"\\u0e23\\u0e1a\\u0e01\\u0e27\\u0e19\", \"\\u0e41\\u0e21\\u0e48\", \"\\u0e25\\u0e39\\u0e01\", \"\\u0e16\\u0e32\\u0e21\", \"\\u0e01\\u0e23\\u0e13\\u0e35\", \"\\u0e1c\\u0e39\\u0e49\\u0e08\\u0e31\\u0e14\\u0e01\\u0e32\\u0e23\\u0e17\\u0e31\\u0e48\\u0e27\\u0e44\\u0e1b\", \"\\u0e40\\u0e21\\u0e47\\u0e14\", \"\\u0e0a\\u0e33\\u0e23\\u0e30\\u0e1a\\u0e31\\u0e0d\\u0e0a\\u0e35\", \"\\u0e15\\u0e23\\u0e27\\u0e08\\u0e04\\u0e49\\u0e19\", \"\\u0e44\\u0e2d\\u0e0b\\u0e4c\", \"\\u0e01\\u0e32\\u0e23\\u0e2a\\u0e31\\u0e48\\u0e07\\u0e0b\\u0e37\\u0e49\\u0e2d\", \"\\u0e41\\u0e2d\\u0e21\\u0e40\\u0e1f\\u0e15\\u0e32\\u0e21\\u0e35\\u0e19\", \"\\u0e22\\u0e31\\u0e14\", \"\\u0e16\\u0e38\\u0e07\", \"\\u0e01\\u0e23\\u0e31\\u0e21\", \"\\u0e17\\u0e23\\u0e39\\u0e1f\\u0e34\\u0e15\\u0e40\\u0e19\\u0e2a\", \"\\u0e21\\u0e34\\u0e25\\u0e25\\u0e34\\u0e01\\u0e23\\u0e31\\u0e21\", \"\\u0e25\\u0e48\\u0e2d\", \"\\u0e2b\\u0e49\\u0e2d\\u0e07\\u0e02\\u0e31\\u0e07\", \"\\u0e22\\u0e32\\u0e1a\\u0e49\\u0e32\", \"\\u0e2b\\u0e21\\u0e32\\u0e22\\u0e04\\u0e49\\u0e19\", \"\\u0e2d\\u0e2d\\u0e01\\u0e01\\u0e33\\u0e25\\u0e31\\u0e07\\u0e01\\u0e32\\u0e22\", \"\\u0e44\\u0e15\\u0e23\\u0e21\\u0e32\\u0e2a\", \"\\u0e02\\u0e27\\u0e14\", \"\\u0e04\\u0e19\\u0e40\\u0e08\\u0e47\\u0e1a\", \"\\u0e18\\u0e19\\u0e1a\\u0e31\\u0e15\\u0e23\", \"\\u0e1c\\u0e2a\\u0e21\", \"\\u0e15\\u0e48\\u0e2d\\u0e22\", \"\\u0e41\\u0e27\\u0e48\\u0e19\\u0e15\\u0e32\", \"\\u0e17\\u0e14\\u0e2a\\u0e2d\\u0e1a\", \"\\u0e0b\\u0e35\\u0e25\", \"\\u0e2a\\u0e21\\u0e38\\u0e2b\\u0e4c\\u0e1a\\u0e31\\u0e0d\\u0e0a\\u0e35\", \"\\u0e1a\\u0e32\\u0e07\\u0e2a\\u0e34\\u0e48\\u0e07\", \"\\u0e1a\\u0e31\\u0e19\\u0e17\\u0e36\\u0e01\\u0e20\\u0e32\\u0e1e\", \"\\u0e17\\u0e32\\u0e07\\u0e2d\\u0e34\\u0e40\\u0e25\\u0e47\\u0e01\\u0e17\\u0e23\\u0e2d\\u0e19\\u0e34\\u0e01\\u0e2a\\u0e4c\", \"\\u0e2a\\u0e32\\u0e23\\u0e40\\u0e2a\\u0e1e\\u0e15\\u0e34\\u0e14\", \"\\u0e2a\\u0e32\\u0e23\", \"\\u0e40\\u0e2a\\u0e1e\", \"\\u0e1a\\u0e23\\u0e34\\u0e2a\\u0e38\\u0e17\\u0e18\\u0e34\\u0e4c\", \"\\u0e40\\u0e21\\u0e17\", \"\\u0e42\\u0e23\\u0e07\\u0e1e\\u0e31\\u0e01\", \"\\u0e22\\u0e32\", \"\\u0e15\\u0e33\\u0e23\\u0e27\\u0e08\", \"\\u0e08\\u0e31\\u0e1a\\u0e01\\u0e38\\u0e21\", \"\\u0e23\\u0e49\\u0e2d\\u0e22\\u0e40\\u0e27\\u0e23\", \"\\u0e08\\u0e33\\u0e2b\\u0e19\\u0e48\\u0e32\\u0e22\", \"\\u0e1b\\u0e23\\u0e34\\u0e21\\u0e32\\u0e13\", \"\\u0e15\\u0e31\\u0e49\\u0e07\\u0e02\\u0e49\\u0e2d\\u0e2b\\u0e32\", \"\\u0e16\\u0e39\\u0e01\\u0e08\\u0e31\\u0e1a\", \"\\u0e04\\u0e49\\u0e19\", \"\\u0e22\\u0e32\\u0e40\\u0e2a\\u0e1e\\u0e15\\u0e34\\u0e14\", \"\\u0e04\\u0e2d\\u0e21\\u0e1e\\u0e34\\u0e27\\u0e40\\u0e15\\u0e2d\\u0e23\\u0e4c\", \"\\u0e42\\u0e14\\u0e19\", \"\\u0e23\\u0e49\\u0e32\\u0e19\", \"\\u0e1b\\u0e37\\u0e19\", \"\\u0e1a\\u0e35\", \"\\u0e1b\\u0e23\\u0e30\\u0e01\\u0e31\\u0e19\\u0e15\\u0e31\\u0e27\", \"\\u0e02\\u0e42\\u0e21\\u0e22\", \"\\u0e23\\u0e32\\u0e22\\u0e07\\u0e32\\u0e19\\u0e15\\u0e31\\u0e27\", \"\\u0e15\\u0e34\\u0e14\\u0e04\\u0e38\\u0e01\", \"\\u0e02\\u0e49\\u0e2d\\u0e2b\\u0e32\", \"\\u0e02\\u0e2d\\u0e07\\u0e01\\u0e25\\u0e32\\u0e07\", \"\\u0e41\\u0e1f\\u0e19\", \"\\u0e25\\u0e39\\u0e01\\u0e04\\u0e49\\u0e32\", \"\\u0e41\\u0e08\\u0e49\\u0e07\\u0e04\\u0e27\\u0e32\\u0e21\", \"\\u0e40\\u0e1e\\u0e37\\u0e48\\u0e2d\\u0e19\", \"\\u0e01\\u0e35\\u0e48\", \"\\u0e42\\u0e17\\u0e23\", \"\\u0e23\\u0e16\", \"\\u0e15\\u0e23\\u0e27\\u0e08\", \"\\u0e17\\u0e23\\u0e32\\u0e1a\", \"\\u0e16\\u0e32\\u0e21\", \"\\u0e15\\u0e31\\u0e14\\u0e2a\\u0e34\\u0e19\", \"\\u0e04\\u0e23\\u0e2d\\u0e1a\\u0e04\\u0e23\\u0e2d\\u0e07\", \"\\u0e0b\\u0e37\\u0e49\\u0e2d\", \"\\u0e28\\u0e32\\u0e25\", \"\\u0e41\\u0e08\\u0e49\\u0e07\", \"\\u0e27\\u0e31\\u0e19\\u0e17\\u0e35\\u0e48\", \"\\u0e19\\u0e49\\u0e2d\\u0e07\", \"\\u0e17\\u0e19\\u0e32\\u0e22\", \"\\u0e08\\u0e48\\u0e32\\u0e22\", \"\\u0e15\\u0e2d\\u0e1a\", \"\\u0e40\\u0e07\\u0e34\\u0e19\", \"\\u0e02\\u0e32\\u0e22\", \"\\u0e1a\\u0e23\\u0e34\\u0e29\\u0e31\\u0e17\", \"\\u0e1a\\u0e32\\u0e17\", \"\\u0e04\\u0e37\\u0e19\", \"\\u0e1a\\u0e49\\u0e32\\u0e19\", \"\\u0e40\\u0e2d\\u0e01\\u0e2a\\u0e32\\u0e23\", \"\\u0e23\\u0e2d\"], \"Freq\": [3173.0, 4682.0, 2505.0, 3037.0, 4159.0, 3017.0, 1624.0, 2344.0, 1562.0, 1350.0, 1921.0, 2232.0, 5127.0, 1078.0, 1561.0, 1649.0, 1270.0, 2065.0, 1149.0, 1143.0, 1148.0, 1358.0, 864.0, 2707.0, 3879.0, 1502.0, 1036.0, 2493.0, 994.0, 1344.0, 315.53463518363503, 167.37501319163826, 140.29124459578296, 558.8089194224018, 185.2989305240603, 1131.75391421805, 156.24389171215077, 271.3379896241377, 3003.0371708056814, 145.39407577322604, 455.09318911524, 978.7157660046125, 1250.9397006118568, 74.39486276176116, 135.4172248308137, 60.073796480380224, 311.67815241063425, 289.7289950800425, 76.23237473794677, 493.4915041485919, 62.7461730165576, 1016.7280569326342, 305.9829657994081, 304.2316419781739, 78.737138062519, 160.20028210314513, 1122.503672833496, 75.76207641670719, 220.78609207615813, 58.68050105612519, 4484.424040593343, 648.2505967508331, 946.4279623546057, 618.2268785908642, 819.3476993958305, 331.0053524492215, 314.56576444167143, 250.61279631091955, 2795.9333765553524, 438.5630195926648, 813.3560262275491, 1226.0479142024926, 1979.8954693443375, 530.9841432272586, 1338.9974608173388, 1126.662488377353, 479.48442826677774, 978.6051055290919, 1648.8047552138416, 1852.346256521375, 686.7889773231694, 720.7785859715594, 577.51342809339, 1228.0251872273604, 2005.4876878452985, 1305.2723237456646, 1945.2908946822997, 1102.9379959902726, 2005.0699619496543, 993.0685688751993, 1072.7450160212056, 854.0737221898075, 796.2624626487858, 517.5588093504409, 47.244939886748696, 42.52294654584694, 36.84866965154743, 1580.959758193563, 31.257163975465176, 203.74464582672653, 609.2131196232059, 25.639248321005958, 93.00692797857687, 37.15316051085547, 27.133970931938514, 21.665385887249098, 18.94474542946414, 25.2098087253984, 16.11957298715795, 16.112845478764466, 14.31848012731089, 12.4478331215532, 12.434103910931462, 22.116948742704917, 14.134754457013202, 15.01707954477787, 234.08545214744342, 11.41943521856407, 10.535783776215608, 11.395650994706534, 31.60799080443775, 10.533826311076526, 17.394449769782433, 710.7006640045574, 259.84227292585825, 504.8772608398934, 35.797174403493635, 354.3414474056191, 336.28071777098893, 325.62621828849404, 44.647028589407554, 362.22838489416984, 44.441202896027264, 586.4232731847936, 730.1262134353822, 229.4170558007392, 833.1001374993242, 94.70001449270141, 754.713611450555, 394.66253752377537, 161.20743004782395, 572.2677775907536, 256.4048079905649, 172.48996911465744, 555.2897250847499, 338.5398518965574, 2966.8504899005816, 196.0641251748744, 402.9821175637121, 358.29308061987626, 1770.6781271506063, 242.37091689751077, 492.6185099278575, 377.09631600542065, 400.32796585771206, 1701.388099613158, 1127.6493492449163, 1344.472092930214, 1411.9625463628188, 1049.1699058765728, 714.8801588018043, 555.5285023707753, 638.500040097418, 1002.5752608188399, 513.2921079011479, 647.0962008526949, 428.05822379845205, 578.2874160267428, 486.2394266112483, 564.0853428006752, 568.7113404152881, 596.9019911824342, 645.4629499396119, 586.5423643972059, 527.9046353558092, 3147.1837064658835, 284.09464701036893, 1066.801625730496, 155.82260945406406, 2476.7351598679593, 143.45444388540074, 491.2917450403498, 86.92014085348445, 382.1903479422705, 75.59186692686232, 647.0310430931945, 69.01009802922434, 45.94772570712678, 653.7823330311767, 48.684014865680645, 435.49119433315036, 386.4021863012299, 72.46437710924366, 187.04628386298447, 844.7311848037733, 38.4466558006538, 45.7483651079905, 208.2094499426393, 101.27529433900776, 375.4862837558725, 94.57440010031884, 28.138907723282845, 54.47764742754803, 29.047618519057092, 28.11657576513645, 710.8155146704103, 573.9919803414193, 572.4707159665521, 403.8383736972313, 210.09461137594647, 212.2477045527621, 134.91129248525485, 353.26616654007677, 173.36758428001613, 3320.3894422728677, 281.64400572144865, 1803.1964706118542, 1073.70243369185, 1094.0171147475626, 280.66918857737807, 1853.5877190397878, 422.2071726478053, 430.97729230392105, 1280.7176672932644, 510.8908201046597, 811.4844109512336, 1246.8982326831583, 867.9013030015743, 850.4993510408309, 1085.1967417163364, 1040.2117420670183, 440.13520654263465, 505.38944701764774, 440.39170059726627, 482.44797908888677, 428.0466303619119, 54.63848702886192, 23.572331709850364, 15.187935634489522, 13.101341147853141, 10.968131951412241, 13.871049424166454, 10.934573993240946, 10.906549085030319, 18.828594456645103, 9.90165401255556, 12.77798453340549, 8.820606182928417, 8.824953917987486, 8.81773433425254, 10.750527777839729, 10.72647333588806, 11.685907179288257, 8.736097971703952, 7.725451751326632, 8.67529944512549, 7.691452178689141, 9.588915787657843, 9.565525799373873, 7.662451925645198, 7.657602294390652, 18.177395996162147, 7.576820035894015, 6.678486127718689, 6.673807181809974, 6.666263160453392, 250.52664039907643, 13.302875837973962, 983.7479709137342, 36.47061690057183, 43.39516153272944, 1259.3250212224368, 234.75685332175274, 320.20826634869405, 444.36732280228097, 44.5277888482918, 85.13073048291163, 24.083388018887362, 268.87333187468147, 324.8273044103142, 971.8164258474663, 1106.7305447550452, 1301.8136430812579, 484.40397109880365, 343.9417656643763, 29.03858409589244, 189.5638603321007, 212.1570731659879, 25.420005997046662, 91.35737524746325, 595.3835179347295, 180.35431846381732, 92.7893765317385, 128.9622829683965, 225.198083817318, 79.75429922814439, 571.1554754398966, 308.43234296916427, 480.56228286933674, 267.62877019304005, 319.196356921293, 411.7898516990071, 436.76769595303455, 966.0908482352839, 495.03761395821243, 708.9105787779596, 508.72647032216094, 822.0923242015363, 863.8416780253626, 486.54487468226296, 625.7319142816123, 438.64408601769844, 355.0730511320728, 502.08506558582394, 465.4476024050573, 409.7471328287684, 444.79361351742915, 353.5091398776739, 391.88761526024007, 367.3859993768266, 359.58259048040594, 358.9608840093204, 27.552376570913978, 230.89857333728378, 22.61050073623965, 27.249803229310135, 110.65477103625292, 25.225674869420004, 44.75184058700067, 23.299255953429967, 25.923062945980785, 141.667336438945, 14.729896871342454, 17.443542108115988, 77.13700054994705, 17.432356775641466, 239.6075943799632, 20.110325399710533, 12.7170000376741, 11.823952436118146, 10.916194811744901, 10.891400586474829, 10.854822658562322, 11.720167977317612, 18.969097056805253, 11.718113966974615, 18.073952473978625, 8.98775572501741, 8.982512734704127, 8.982464929547085, 11.651693804063092, 8.941185445010035, 42.060846400479285, 142.12696207557192, 274.4239978658044, 90.50648511903185, 29.000447417087884, 84.2435067867395, 318.27995477002236, 1010.6462424619249, 115.24245899954326, 34.56175132278361, 356.2163054308355, 115.591451685771, 40.31138821030544, 127.16254277224253, 72.16191248527058, 256.6865958459444, 92.40652203397413, 896.082174091816, 217.35702457959167, 104.5520656700131, 76.95162396794517, 258.0436521187504, 86.71551253162946, 85.87580903969268, 162.1059683202992, 362.49360167623007, 96.57539814774587, 621.1649043530131, 221.7420014886549, 416.5229428965304, 529.880009473284, 242.75989006929092, 376.52158133523454, 681.7574188063626, 230.1556059977352, 576.9973910347602, 421.4161283730531, 204.00399787580744, 230.16136410204402, 424.95459519523536, 642.8324961717658, 442.38989440514956, 374.2096766726864, 231.1143217709683, 339.2939759671674, 448.74639466443983, 298.0894628076362, 420.9923318959238, 301.54026893735585, 348.04368188417214, 313.7766015493924, 282.21882101632485, 280.44735311699446, 260.5003516192016, 252.70092198523406], \"Total\": [3173.0, 4682.0, 2505.0, 3037.0, 4159.0, 3017.0, 1624.0, 2344.0, 1562.0, 1350.0, 1921.0, 2232.0, 5127.0, 1078.0, 1561.0, 1649.0, 1270.0, 2065.0, 1149.0, 1143.0, 1148.0, 1358.0, 864.0, 2707.0, 3879.0, 1502.0, 1036.0, 2493.0, 994.0, 1344.0, 317.9013321531836, 168.65937186349626, 141.52602288039486, 564.0385684872049, 187.05358018025572, 1143.6441237503557, 157.9796885016231, 274.411531356794, 3037.303935868459, 147.31486492863058, 461.3320914340816, 994.188806290372, 1270.8167569088105, 75.5878116229558, 137.5981647796183, 61.05388757563126, 316.89583250886, 294.61862818858407, 77.54707545244969, 502.2785735883649, 63.96214218852951, 1036.7865529404455, 312.0671419075449, 310.3729420940926, 80.41810842779009, 163.8713205703253, 1148.2458842837684, 77.5185600083932, 225.9835915235184, 60.09326931915373, 4682.02417923158, 663.924594512324, 974.1682938835094, 634.6278795363612, 846.0106854733805, 340.5195339679149, 323.5015740074605, 257.1620825689732, 3017.1092414766545, 457.59292265890787, 875.7301897452709, 1344.8810855716802, 2232.523699362012, 564.7115064825504, 1502.6327342252991, 1252.9870714935491, 509.99227334372154, 1126.7824440568702, 2065.058721754566, 2493.3894121893377, 793.7603484772126, 843.4519738735055, 665.0610369542111, 1653.8156630804847, 3947.2494135298393, 2150.5211159646547, 4108.520406015452, 1836.135214522947, 4818.143297592129, 1717.976880874642, 5127.696401797635, 3726.3126623201406, 2787.7819644567608, 527.3231112986572, 48.17386294036524, 43.45973448403776, 37.80703324268505, 1624.489045112819, 32.12504712066729, 209.7237313189122, 628.4117644956228, 26.458391998260087, 96.40406551100848, 38.77939007693669, 28.348579754117274, 22.68238553087514, 19.849117104697736, 26.437073737072495, 17.020501888619528, 17.014053162474323, 15.127348010881123, 13.240573554680129, 13.240365694831338, 23.615368313497658, 15.118531868523382, 16.103221694423272, 251.7729171482154, 12.287170183769534, 11.342808117622933, 12.278808749864272, 34.05888669115541, 11.352212826162138, 18.845739104762973, 772.8752517638524, 286.0280287290581, 563.2283494863723, 38.929440216283794, 396.14928322071097, 381.3033937531291, 372.80405381931484, 49.15984560668418, 435.07270705443625, 49.20486813080474, 726.827105626778, 919.8486840472355, 273.9781473995713, 1066.4407466639539, 109.653403379785, 1004.6922070331416, 507.6915612816882, 194.0204751541813, 758.6589327756968, 324.86328086304644, 212.6016607787126, 774.8848836926002, 450.48256735126614, 5127.696401797635, 248.13280398781234, 564.5555117928824, 494.8468070061518, 3147.065992913097, 318.6039053894068, 774.364736495259, 558.185107106433, 612.4003862803548, 4553.968902680538, 2707.8932416796397, 3726.3126623201406, 4818.143297592129, 3251.932491248387, 1703.2458688214613, 1108.9940849100951, 1531.119277325258, 3879.353384041852, 1031.3994593140865, 1758.3638576734115, 719.5119170450193, 1659.897729619944, 1040.7222106284296, 1860.3634829281332, 1929.040917431961, 2787.7819644567608, 3947.2494135298393, 4108.520406015452, 2582.6845442752056, 3173.610529028935, 287.0178778527893, 1078.7601639428558, 157.58111578052427, 2505.2826976102956, 145.39436773600855, 498.12457049125345, 88.18566757415512, 388.3940670800923, 76.92057207705778, 658.8017011528915, 70.36957949207749, 46.91111165150282, 667.5271345810472, 49.723762696534436, 444.8142437301415, 395.17955681371086, 74.12969140356556, 191.42848571988702, 864.7769290060927, 39.4171581962884, 46.92111016071518, 213.9729302916453, 104.32932119134858, 387.98515415326176, 97.72573892460687, 29.08444397874132, 56.31570872600132, 30.03878582580798, 29.099416056293933, 745.6766921853106, 600.8952433067068, 600.0129163166185, 424.0650297454754, 220.03275321946737, 222.6369563403034, 141.01977669243772, 385.77328785003647, 184.40396886737412, 4159.932027160524, 313.0694922297767, 2344.4275306671557, 1344.7320058663456, 1474.7238474808116, 353.8895225806031, 3879.353384041852, 601.2653978938372, 663.3932779098907, 3251.932491248387, 854.6030132164526, 1780.9350261415523, 4108.520406015452, 2379.7494387311826, 2787.7819644567608, 4818.143297592129, 4553.968902680538, 765.798579820413, 1758.3638576734115, 1362.4845613857738, 3726.3126623201406, 2582.6845442752056, 56.8613388039172, 24.647023881224857, 16.057732645386967, 13.91005503640081, 11.755446011610244, 14.892834426745317, 11.745241765784481, 11.74513661003496, 20.284097560628968, 10.67706363254943, 13.853794260784229, 9.589657486335998, 9.600067112291924, 9.594861529696106, 11.72181895369702, 11.722129869052482, 12.781159337774723, 9.585219682067272, 8.515654019050551, 9.575128572128722, 8.514943112999033, 10.626601974077591, 10.610279763980252, 8.500986298998063, 8.501074725437496, 20.186081893476928, 8.43831728803063, 7.444292394421538, 7.4411157293672705, 7.434672420727442, 287.42122625707304, 14.86570122388046, 1149.6620056054066, 41.41723011758072, 49.77134314294189, 1562.9175993260383, 282.4630534162893, 399.50376569634614, 569.1157949364571, 52.0183809471104, 102.1823102702038, 27.506391440428786, 341.8024234171058, 420.8105227833332, 1358.0166565485915, 1561.1451340803987, 1921.1610061880065, 672.430708253793, 477.47066564053443, 33.935737004660844, 268.2434830547595, 304.00303811156937, 29.603937994138008, 121.87217718589768, 980.593866253357, 261.64683146125196, 124.70342224599207, 186.55762091638223, 359.8001522265048, 109.11734614541761, 1080.606128910029, 531.5601032957122, 962.104146874827, 520.2649002288674, 687.8609914860734, 1014.2623665179017, 1170.9559743195875, 3947.2494135298393, 1488.5077046807853, 2707.8932416796397, 1649.99106125854, 3726.3126623201406, 4553.968902680538, 1689.8079329488535, 3147.065992913097, 1532.4637243148372, 1040.7222106284296, 3251.932491248387, 2582.6845442752056, 1836.135214522947, 3879.353384041852, 1181.6129090769825, 2493.3894121893377, 2065.058721754566, 1582.4678065015173, 2787.7819644567608, 28.351144352437753, 238.66388508884006, 23.44836378221675, 28.37088509381843, 115.60339911639562, 26.3776135419998, 46.89803762200746, 24.43517817611159, 27.3626382605726, 149.83201795133033, 15.633668864517997, 18.5651729020034, 82.12640679001103, 18.59677187744302, 255.99209551291108, 21.488237080434963, 13.65671675028348, 12.701194984407211, 11.728409854709287, 11.716646108449714, 11.724973422441678, 12.694466355220136, 20.546065977963604, 12.696335911716762, 19.59087609803747, 9.773766166472218, 9.769833137310135, 9.769785659503647, 12.698173523079072, 9.754097773603684, 46.06677864720067, 160.07643845786788, 327.1089063572372, 104.32203711680279, 32.34193653070464, 97.8496051695002, 391.5036579550165, 1350.2357113051412, 139.19196428094247, 39.26575765726999, 471.2129018491379, 143.79401447179805, 46.74983272381328, 164.3902424359702, 89.42327434138761, 379.07322162256554, 121.64618367140237, 1649.99106125854, 331.3140393073719, 143.16739043737488, 100.43665169792939, 428.37473127354724, 116.86623374110343, 115.77384161696737, 252.11492510631305, 696.7585917020303, 143.40171871967024, 1689.8079329488535, 428.94313668520385, 1011.0527697952866, 1532.4637243148372, 515.6138106945996, 1014.2623665179017, 2707.8932416796397, 532.564709861747, 2582.6845442752056, 1582.4678065015173, 452.80661168175857, 581.3884162539497, 1860.3634829281332, 5127.696401797635, 2379.7494387311826, 1780.9350261415523, 598.5369781950197, 1659.897729619944, 3879.353384041852, 1366.4014346992421, 4553.968902680538, 1929.040917431961, 4159.932027160524, 3147.065992913097, 1703.2458688214613, 3947.2494135298393, 1396.2704516961523, 1031.3994593140865], \"Category\": [\"Default\", \"Default\", \"Default\", \"Default\", \"Default\", \"Default\", \"Default\", \"Default\", \"Default\", \"Default\", \"Default\", \"Default\", \"Default\", \"Default\", \"Default\", \"Default\", \"Default\", \"Default\", \"Default\", \"Default\", \"Default\", \"Default\", \"Default\", \"Default\", \"Default\", \"Default\", \"Default\", \"Default\", \"Default\", \"Default\", \"Topic1\", \"Topic1\", \"Topic1\", \"Topic1\", \"Topic1\", \"Topic1\", \"Topic1\", \"Topic1\", \"Topic1\", \"Topic1\", \"Topic1\", \"Topic1\", \"Topic1\", \"Topic1\", \"Topic1\", \"Topic1\", \"Topic1\", \"Topic1\", \"Topic1\", \"Topic1\", \"Topic1\", \"Topic1\", \"Topic1\", \"Topic1\", \"Topic1\", \"Topic1\", \"Topic1\", \"Topic1\", \"Topic1\", \"Topic1\", \"Topic1\", \"Topic1\", \"Topic1\", \"Topic1\", \"Topic1\", \"Topic1\", \"Topic1\", \"Topic1\", \"Topic1\", \"Topic1\", \"Topic1\", \"Topic1\", \"Topic1\", \"Topic1\", \"Topic1\", \"Topic1\", \"Topic1\", \"Topic1\", \"Topic1\", \"Topic1\", \"Topic1\", \"Topic1\", \"Topic1\", \"Topic1\", \"Topic1\", \"Topic1\", \"Topic1\", \"Topic1\", \"Topic1\", \"Topic1\", \"Topic1\", \"Topic1\", \"Topic1\", \"Topic2\", \"Topic2\", \"Topic2\", \"Topic2\", \"Topic2\", \"Topic2\", \"Topic2\", \"Topic2\", \"Topic2\", \"Topic2\", \"Topic2\", \"Topic2\", \"Topic2\", \"Topic2\", \"Topic2\", \"Topic2\", \"Topic2\", \"Topic2\", \"Topic2\", \"Topic2\", \"Topic2\", \"Topic2\", \"Topic2\", \"Topic2\", \"Topic2\", \"Topic2\", \"Topic2\", \"Topic2\", \"Topic2\", \"Topic2\", \"Topic2\", \"Topic2\", \"Topic2\", \"Topic2\", \"Topic2\", \"Topic2\", \"Topic2\", \"Topic2\", \"Topic2\", \"Topic2\", \"Topic2\", \"Topic2\", \"Topic2\", \"Topic2\", \"Topic2\", \"Topic2\", \"Topic2\", \"Topic2\", \"Topic2\", \"Topic2\", \"Topic2\", \"Topic2\", \"Topic2\", \"Topic2\", \"Topic2\", \"Topic2\", \"Topic2\", \"Topic2\", \"Topic2\", \"Topic2\", \"Topic2\", \"Topic2\", \"Topic2\", \"Topic2\", \"Topic2\", \"Topic2\", \"Topic2\", \"Topic2\", \"Topic2\", \"Topic2\", \"Topic2\", \"Topic2\", \"Topic2\", \"Topic2\", \"Topic2\", \"Topic2\", \"Topic2\", \"Topic2\", \"Topic2\", \"Topic2\", \"Topic2\", \"Topic2\", \"Topic3\", \"Topic3\", \"Topic3\", \"Topic3\", \"Topic3\", \"Topic3\", \"Topic3\", \"Topic3\", \"Topic3\", \"Topic3\", \"Topic3\", \"Topic3\", \"Topic3\", \"Topic3\", \"Topic3\", \"Topic3\", \"Topic3\", \"Topic3\", \"Topic3\", \"Topic3\", \"Topic3\", \"Topic3\", \"Topic3\", \"Topic3\", \"Topic3\", \"Topic3\", \"Topic3\", \"Topic3\", \"Topic3\", \"Topic3\", \"Topic3\", \"Topic3\", \"Topic3\", \"Topic3\", \"Topic3\", \"Topic3\", \"Topic3\", \"Topic3\", \"Topic3\", \"Topic3\", \"Topic3\", \"Topic3\", \"Topic3\", \"Topic3\", \"Topic3\", \"Topic3\", \"Topic3\", \"Topic3\", \"Topic3\", \"Topic3\", \"Topic3\", \"Topic3\", \"Topic3\", \"Topic3\", \"Topic3\", \"Topic3\", \"Topic3\", \"Topic3\", \"Topic3\", \"Topic3\", \"Topic3\", \"Topic4\", \"Topic4\", \"Topic4\", \"Topic4\", \"Topic4\", \"Topic4\", \"Topic4\", \"Topic4\", \"Topic4\", \"Topic4\", \"Topic4\", \"Topic4\", \"Topic4\", \"Topic4\", \"Topic4\", \"Topic4\", \"Topic4\", \"Topic4\", \"Topic4\", \"Topic4\", \"Topic4\", \"Topic4\", \"Topic4\", \"Topic4\", \"Topic4\", \"Topic4\", \"Topic4\", \"Topic4\", \"Topic4\", \"Topic4\", \"Topic4\", \"Topic4\", \"Topic4\", \"Topic4\", \"Topic4\", \"Topic4\", \"Topic4\", \"Topic4\", \"Topic4\", \"Topic4\", \"Topic4\", \"Topic4\", \"Topic4\", \"Topic4\", \"Topic4\", \"Topic4\", \"Topic4\", \"Topic4\", \"Topic4\", \"Topic4\", \"Topic4\", \"Topic4\", \"Topic4\", \"Topic4\", \"Topic4\", \"Topic4\", \"Topic4\", \"Topic4\", \"Topic4\", \"Topic4\", \"Topic4\", \"Topic4\", \"Topic4\", \"Topic4\", \"Topic4\", \"Topic4\", \"Topic4\", \"Topic4\", \"Topic4\", \"Topic4\", \"Topic4\", \"Topic4\", \"Topic4\", \"Topic4\", \"Topic4\", \"Topic4\", \"Topic4\", \"Topic4\", \"Topic4\", \"Topic4\", \"Topic4\", \"Topic4\", \"Topic4\", \"Topic4\", \"Topic4\", \"Topic4\", \"Topic5\", \"Topic5\", \"Topic5\", \"Topic5\", \"Topic5\", \"Topic5\", \"Topic5\", \"Topic5\", \"Topic5\", \"Topic5\", \"Topic5\", \"Topic5\", \"Topic5\", \"Topic5\", \"Topic5\", \"Topic5\", \"Topic5\", \"Topic5\", \"Topic5\", \"Topic5\", \"Topic5\", \"Topic5\", \"Topic5\", \"Topic5\", \"Topic5\", \"Topic5\", \"Topic5\", \"Topic5\", \"Topic5\", \"Topic5\", \"Topic5\", \"Topic5\", \"Topic5\", \"Topic5\", \"Topic5\", \"Topic5\", \"Topic5\", \"Topic5\", \"Topic5\", \"Topic5\", \"Topic5\", \"Topic5\", \"Topic5\", \"Topic5\", \"Topic5\", \"Topic5\", \"Topic5\", \"Topic5\", \"Topic5\", \"Topic5\", \"Topic5\", \"Topic5\", \"Topic5\", \"Topic5\", \"Topic5\", \"Topic5\", \"Topic5\", \"Topic5\", \"Topic5\", \"Topic5\", \"Topic5\", \"Topic5\", \"Topic5\", \"Topic5\", \"Topic5\", \"Topic5\", \"Topic5\", \"Topic5\", \"Topic5\", \"Topic5\", \"Topic5\", \"Topic5\", \"Topic5\", \"Topic5\", \"Topic5\", \"Topic5\", \"Topic5\", \"Topic5\", \"Topic5\", \"Topic5\", \"Topic5\", \"Topic5\", \"Topic5\", \"Topic5\", \"Topic5\"], \"logprob\": [30.0, 29.0, 28.0, 27.0, 26.0, 25.0, 24.0, 23.0, 22.0, 21.0, 20.0, 19.0, 18.0, 17.0, 16.0, 15.0, 14.0, 13.0, 12.0, 11.0, 10.0, 9.0, 8.0, 7.0, 6.0, 5.0, 4.0, 3.0, 2.0, 1.0, -6.1605, -6.7945, -6.9711, -5.589, -6.6928, -4.8833, -6.8634, -6.3114, -3.9074, -6.9353, -5.7943, -5.0285, -4.7831, -7.6054, -7.0064, -7.8192, -6.1728, -6.2458, -7.581, -5.7133, -7.7757, -4.9904, -6.1913, -6.197, -7.5487, -6.8384, -4.8915, -7.5872, -6.5176, -7.8427, -3.5064, -5.4405, -5.0621, -5.4879, -5.2063, -6.1127, -6.1636, -6.3909, -3.9789, -5.8313, -5.2136, -4.8032, -4.324, -5.6401, -4.7151, -4.8878, -5.7421, -5.0287, -4.507, -4.3906, -5.3828, -5.3345, -5.5561, -4.8016, -4.3111, -4.7406, -4.3416, -4.9091, -4.3114, -5.014, -4.9368, -5.1648, -5.2349, -5.5087, -7.9024, -8.0078, -8.151, -4.392, -8.3155, -6.4409, -5.3456, -8.5137, -7.2251, -8.1427, -8.457, -8.6821, -8.8163, -8.5306, -8.9778, -8.9782, -9.0962, -9.2362, -9.2374, -8.6615, -9.1092, -9.0486, -6.3021, -9.3225, -9.403, -9.3246, -8.3044, -9.4032, -8.9016, -5.1915, -6.1977, -5.5335, -8.1799, -5.8875, -5.9398, -5.972, -7.959, -5.8655, -7.9636, -5.3838, -5.1646, -6.3223, -5.0326, -7.2071, -5.1315, -5.7798, -6.6751, -5.4082, -6.211, -6.6075, -5.4383, -5.9332, -3.7625, -6.4794, -5.7589, -5.8764, -4.2787, -6.2673, -5.5581, -5.8253, -5.7655, -4.3186, -4.7299, -4.554, -4.5051, -4.802, -5.1857, -5.4379, -5.2987, -4.8475, -5.5169, -5.2853, -5.6985, -5.3977, -5.5711, -5.4226, -5.4144, -5.366, -5.2878, -5.3836, -5.4889, -3.5643, -5.9693, -4.6461, -6.5698, -3.8039, -6.6525, -5.4215, -7.1536, -5.6726, -7.2932, -5.1462, -7.3843, -7.7911, -5.1358, -7.7332, -5.5421, -5.6617, -7.3355, -6.3872, -4.8795, -7.9693, -7.7954, -6.28, -7.0007, -5.6903, -7.0692, -8.2814, -7.6208, -8.2496, -8.2822, -5.0521, -5.2659, -5.2686, -5.6175, -6.271, -6.2608, -6.7139, -5.7513, -6.4631, -3.5107, -5.9779, -4.1212, -4.6397, -4.6209, -5.9814, -4.0937, -5.5731, -5.5525, -4.4634, -5.3824, -4.9197, -4.4901, -4.8525, -4.8727, -4.629, -4.6714, -5.5315, -5.3932, -5.5309, -5.4397, -5.5593, -7.4406, -8.2813, -8.7208, -8.8686, -9.0463, -8.8115, -9.0494, -9.052, -8.506, -9.1486, -8.8936, -9.2642, -9.2637, -9.2646, -9.0664, -9.0686, -8.9829, -9.2739, -9.3968, -9.2808, -9.4012, -9.1807, -9.1832, -9.405, -9.4056, -8.5411, -9.4162, -9.5424, -9.5431, -9.5443, -5.9178, -8.8533, -4.55, -7.8448, -7.671, -4.303, -5.9828, -5.6724, -5.3447, -7.6452, -6.9971, -8.2598, -5.8471, -5.658, -4.5622, -4.4322, -4.2698, -5.2584, -5.6009, -8.0727, -6.1966, -6.084, -8.2058, -6.9265, -5.0521, -6.2464, -6.911, -6.5818, -6.0243, -7.0624, -5.0937, -5.7098, -5.2664, -5.8517, -5.6755, -5.4208, -5.3619, -4.5681, -5.2367, -4.8776, -5.2094, -4.7295, -4.6799, -5.254, -5.0024, -5.3576, -5.569, -5.2226, -5.2983, -5.4258, -5.3437, -5.5734, -5.4704, -5.5349, -5.5564, -5.5581, -7.8933, -5.7675, -8.091, -7.9044, -6.503, -7.9816, -7.4083, -8.061, -7.9543, -6.256, -8.5196, -8.3505, -6.8638, -8.3511, -5.7304, -8.2082, -8.6665, -8.7393, -8.8192, -8.8215, -8.8248, -8.7481, -8.2666, -8.7483, -8.315, -9.0136, -9.0142, -9.0142, -8.754, -9.0188, -7.4703, -6.2527, -5.5948, -6.704, -7.8421, -6.7757, -5.4465, -4.2911, -6.4624, -7.6667, -5.3339, -6.4594, -7.5128, -6.364, -6.9305, -5.6616, -6.6832, -4.4114, -5.8279, -6.5597, -6.8663, -5.6563, -6.7468, -6.7565, -6.1212, -5.3164, -6.6391, -4.7778, -5.8079, -5.1775, -4.9368, -5.7174, -5.2785, -4.6848, -5.7707, -4.8516, -5.1658, -5.8913, -5.7707, -5.1574, -4.7435, -5.1172, -5.2846, -5.7665, -5.3826, -5.103, -5.512, -5.1668, -5.5005, -5.3571, -5.4608, -5.5667, -5.573, -5.6468, -5.6772], \"loglift\": [30.0, 29.0, 28.0, 27.0, 26.0, 25.0, 24.0, 23.0, 22.0, 21.0, 20.0, 19.0, 18.0, 17.0, 16.0, 15.0, 14.0, 13.0, 12.0, 11.0, 10.0, 9.0, 8.0, 7.0, 6.0, 5.0, 4.0, 3.0, 2.0, 1.0, 1.3049, 1.3048, 1.3036, 1.3031, 1.303, 1.302, 1.3014, 1.3011, 1.3011, 1.2993, 1.2988, 1.2967, 1.2966, 1.2965, 1.2964, 1.2962, 1.2958, 1.2957, 1.2953, 1.2948, 1.2932, 1.2929, 1.2927, 1.2924, 1.2913, 1.2898, 1.2897, 1.2895, 1.2891, 1.2886, 1.2693, 1.2885, 1.2835, 1.2862, 1.2804, 1.2841, 1.2844, 1.2866, 1.2363, 1.2699, 1.2385, 1.2199, 1.1923, 1.2508, 1.1971, 1.2061, 1.2507, 1.1714, 1.0873, 1.0152, 1.1677, 1.1552, 1.1713, 1.0147, 0.6353, 0.8131, 0.5648, 0.8027, 0.4357, 0.7643, -0.252, -0.1607, 0.0593, 1.4507, 1.4499, 1.4476, 1.4437, 1.4422, 1.442, 1.4405, 1.4384, 1.4379, 1.4335, 1.4266, 1.4256, 1.4235, 1.4228, 1.4219, 1.415, 1.415, 1.4144, 1.4077, 1.4066, 1.4038, 1.4021, 1.3996, 1.3966, 1.3962, 1.3956, 1.3948, 1.3947, 1.3946, 1.3893, 1.3855, 1.3734, 1.36, 1.3855, 1.3579, 1.3437, 1.3341, 1.3731, 1.2862, 1.3676, 1.2548, 1.2384, 1.2919, 1.2225, 1.3228, 1.1833, 1.2176, 1.2841, 1.1875, 1.2328, 1.2603, 1.1362, 1.1837, 0.9222, 1.2339, 1.1323, 1.1465, 0.8943, 1.1959, 1.0171, 1.0772, 1.0443, 0.4848, 0.5934, 0.45, 0.242, 0.3381, 0.6012, 0.7781, 0.5948, 0.1163, 0.7716, 0.4698, 0.9501, 0.415, 0.7084, 0.2761, 0.248, -0.0719, -0.3414, -0.4772, -0.1183, 1.6003, 1.5984, 1.5975, 1.5974, 1.5972, 1.5952, 1.5948, 1.5942, 1.5925, 1.5912, 1.5906, 1.5891, 1.5879, 1.5878, 1.5875, 1.5875, 1.5862, 1.5859, 1.5855, 1.5852, 1.5837, 1.5833, 1.5813, 1.5789, 1.5759, 1.5759, 1.5756, 1.5755, 1.5751, 1.5743, 1.5608, 1.5628, 1.5616, 1.5598, 1.5624, 1.5608, 1.5644, 1.5206, 1.5469, 1.3832, 1.5029, 1.3462, 1.3836, 1.31, 1.3768, 0.8701, 1.2551, 1.1773, 0.6768, 1.0942, 0.8226, 0.4162, 0.6, 0.4215, 0.118, 0.1321, 1.0548, 0.3618, 0.4792, -0.4357, -0.1887, 1.746, 1.7413, 1.7302, 1.726, 1.7165, 1.7148, 1.7143, 1.7118, 1.7114, 1.7105, 1.705, 1.7023, 1.7017, 1.7014, 1.6994, 1.6971, 1.6963, 1.6931, 1.6885, 1.6872, 1.6842, 1.6831, 1.6822, 1.682, 1.6814, 1.6811, 1.6782, 1.6773, 1.677, 1.6768, 1.6485, 1.6748, 1.63, 1.6587, 1.6488, 1.5699, 1.6009, 1.5646, 1.5384, 1.6304, 1.6033, 1.653, 1.5459, 1.527, 1.4513, 1.4419, 1.3967, 1.4579, 1.4578, 1.63, 1.4387, 1.4262, 1.6335, 1.4977, 1.2869, 1.4138, 1.4903, 1.4166, 1.3173, 1.4724, 1.1482, 1.2416, 1.0917, 1.1211, 1.0181, 0.8845, 0.7997, 0.3783, 0.685, 0.4457, 0.6093, 0.2745, 0.1235, 0.5408, 0.1706, 0.5349, 0.7105, -0.0824, 0.0723, 0.286, -0.3799, 0.5791, -0.0646, 0.0594, 0.3041, -0.2639, 1.9892, 1.9847, 1.9814, 1.9774, 1.974, 1.9731, 1.9709, 1.9702, 1.9637, 1.9617, 1.9582, 1.9554, 1.9551, 1.9531, 1.9516, 1.9515, 1.9465, 1.9462, 1.946, 1.9447, 1.9406, 1.9379, 1.9379, 1.9376, 1.9372, 1.9339, 1.9337, 1.9337, 1.9318, 1.9307, 1.9268, 1.8988, 1.8421, 1.8757, 1.9087, 1.868, 1.8107, 1.7281, 1.8289, 1.8902, 1.738, 1.7994, 1.8696, 1.761, 1.8033, 1.6279, 1.7428, 1.4073, 1.5962, 1.7034, 1.7514, 1.5109, 1.7194, 1.719, 1.5761, 1.3643, 1.6224, 1.017, 1.358, 1.131, 0.9558, 1.2645, 1.0268, 0.6385, 1.1788, 0.519, 0.6946, 1.2204, 1.0911, 0.5412, -0.0588, 0.3352, 0.4577, 1.0662, 0.4301, -0.1392, 0.4952, -0.3634, 0.1619, -0.4632, -0.2878, 0.2202, -0.6266, 0.3388, 0.6113]}, \"token.table\": {\"Topic\": [1, 2, 3, 4, 5, 1, 2, 3, 4, 5, 2, 1, 2, 3, 4, 5, 1, 1, 2, 3, 4, 5, 2, 3, 4, 5, 1, 2, 3, 4, 5, 3, 1, 2, 3, 4, 5, 2, 4, 2, 3, 1, 3, 1, 2, 5, 1, 2, 3, 4, 5, 1, 2, 3, 4, 5, 5, 2, 3, 4, 5, 1, 2, 3, 4, 5, 1, 2, 3, 4, 5, 4, 1, 2, 3, 4, 5, 1, 2, 3, 4, 5, 1, 2, 3, 4, 5, 1, 2, 3, 4, 5, 1, 2, 3, 4, 5, 5, 1, 2, 3, 4, 5, 1, 3, 1, 2, 3, 4, 5, 2, 5, 1, 2, 3, 4, 5, 1, 2, 3, 4, 5, 1, 2, 3, 4, 5, 1, 2, 3, 4, 5, 1, 1, 2, 3, 4, 5, 1, 2, 3, 4, 5, 1, 2, 3, 4, 5, 1, 3, 4, 5, 2, 1, 3, 5, 1, 2, 3, 4, 5, 1, 2, 3, 4, 5, 1, 2, 3, 4, 5, 1, 3, 4, 5, 1, 2, 3, 4, 5, 1, 2, 3, 4, 5, 1, 2, 3, 4, 5, 2, 3, 4, 5, 1, 2, 3, 4, 5, 1, 2, 3, 4, 5, 1, 2, 3, 4, 5, 1, 2, 3, 4, 5, 1, 2, 3, 4, 5, 1, 2, 3, 4, 5, 3, 4, 5, 3, 5, 1, 2, 3, 4, 5, 1, 2, 3, 4, 5, 5, 1, 2, 3, 4, 5, 1, 2, 4, 1, 2, 3, 4, 5, 5, 1, 2, 3, 4, 5, 4, 1, 2, 3, 4, 5, 1, 2, 3, 4, 5, 1, 2, 3, 4, 5, 1, 2, 3, 4, 5, 1, 2, 3, 1, 2, 3, 4, 5, 5, 1, 2, 3, 4, 5, 1, 2, 3, 4, 5, 1, 2, 5, 1, 2, 3, 4, 5, 1, 2, 3, 4, 5, 4, 4, 5, 1, 2, 3, 4, 5, 4, 2, 5, 2, 3, 4, 5, 4, 5, 1, 2, 3, 4, 5, 1, 2, 3, 4, 5, 1, 2, 3, 4, 5, 1, 2, 3, 4, 5, 4, 5, 4, 2, 5, 1, 2, 3, 4, 5, 1, 2, 3, 1, 2, 3, 4, 5, 1, 3, 2, 1, 2, 3, 4, 5, 2, 2, 4, 5, 1, 2, 3, 4, 5, 2, 4, 2, 3, 1, 3, 4, 5, 1, 2, 3, 4, 5, 2, 4, 1, 2, 3, 4, 5, 4, 1, 2, 3, 4, 5, 2, 4, 5, 4, 4, 1, 2, 3, 4, 5, 2, 4, 5, 1, 2, 3, 4, 5, 5, 5, 1, 2, 3, 4, 5, 1, 2, 3, 4, 5, 1, 3, 4, 5, 2, 3, 4, 5, 1, 2, 3, 4, 5, 1, 2, 3, 1, 2, 3, 4, 5, 1, 2, 3, 4, 5, 1, 2, 3, 4, 5, 1, 2, 3, 4, 5, 1, 2, 3, 4, 5, 1, 2, 3, 4, 5, 4, 1, 2, 3, 4, 5, 2, 2, 3, 4, 5, 1, 2, 3, 5, 2, 3, 4, 5, 2, 1, 2, 3, 4, 5, 1, 2, 3, 5, 1, 2, 3, 4, 5, 1, 2, 3, 4, 2, 5, 1, 2, 3, 4, 5, 5, 1, 2, 3, 4, 5, 4, 1, 2, 3, 4, 4, 2, 1, 2, 1, 2, 3, 4, 5, 1, 1, 2, 3, 4, 5, 1, 2, 3, 4, 5, 1, 2, 3, 4, 5, 1, 2, 3, 4, 5, 1, 2, 3, 4, 5, 1, 2, 3, 4, 5, 1, 2, 3, 4, 5, 1, 2, 3, 4, 5, 1, 2, 3, 4, 5, 1, 2, 3, 4, 5, 1, 2, 3, 4, 5, 1, 2, 5, 1, 2, 3, 4, 5, 2, 1, 2, 3, 4, 5, 1, 1, 2, 3, 4, 5, 1, 2, 3, 4, 5, 5, 5, 1, 2, 3, 4, 5, 1, 2, 3, 4, 5, 1, 2, 3, 4, 5, 1, 2, 3, 4, 5, 1, 2, 3, 4, 5, 1, 2, 3, 4, 5, 1, 2, 3, 4, 5, 1, 2, 3, 4, 1, 2, 3, 4, 5, 1, 2, 3, 4, 5, 1, 2, 3, 4, 5, 1, 2, 3, 4, 5, 1, 2, 3, 4, 5, 2, 1, 2, 3, 4, 5, 1, 2, 3, 4, 1, 2, 3, 4, 5, 2, 2, 3, 4, 5, 2, 4, 1, 2, 3, 4, 5, 1, 2, 3, 4, 5, 2, 4, 5, 1, 2, 3, 4, 5, 1, 2, 3, 4, 5, 1, 2, 3, 4, 5, 3, 1, 2, 3, 4, 5, 1, 2, 3, 4, 5, 1, 2, 3, 4, 5, 1, 2, 3, 4, 5, 1, 2, 3, 4, 5, 4, 1, 3, 4, 4, 1, 2, 3, 4, 5, 3, 4, 2, 3, 4, 5, 1, 2, 3, 4, 5, 1, 3, 5, 1, 2, 3, 4, 5, 1, 3, 4, 5, 1, 2, 3, 4, 5, 1, 3, 4, 5, 1, 2, 3, 4, 5, 1, 2, 3, 4, 5, 2, 3, 4, 5, 1, 3, 4, 5, 4, 3, 1, 3, 4, 5, 2, 4, 1, 2, 3, 4, 5, 1, 3, 4, 5, 1, 2, 3, 4, 5, 1, 2, 3, 4, 5, 2, 4, 5, 4, 1, 2, 3, 4, 5, 1, 3, 5, 1, 2, 3, 4, 5, 1, 2, 3, 4, 3, 4, 1, 1, 2, 3, 4, 5, 1, 2, 3, 4, 5, 1, 2, 3, 4, 5, 2, 5, 1, 2, 3, 4, 5, 1, 2, 3, 4, 5, 4, 5, 1, 2, 3, 4, 5, 5, 1, 3, 1, 2, 3, 4, 5, 1, 2, 3, 4, 5, 3, 5, 2, 3, 4, 5, 1, 2, 3, 4, 1, 2, 4, 5, 4, 2, 4, 1, 2, 3, 4, 5, 1, 3, 4, 5, 3, 1, 2, 3, 4, 5, 1, 2, 3, 4, 1, 2, 3, 4, 5, 1, 2, 3, 4, 5, 1, 2, 3, 4, 5, 1, 2, 3, 4, 5, 4, 2, 3, 4, 1, 4, 1, 2, 3, 4, 5, 1, 2, 3, 4, 5, 1, 2, 3, 4, 5, 2, 4, 5, 2, 3, 4, 5, 1, 3, 4, 5, 1, 2, 3, 4, 1, 3, 4, 5, 2, 2, 3, 4, 5, 1, 2, 3, 4, 5, 2, 1, 2, 3, 4, 5, 1, 3, 2, 4, 4, 1, 2, 3, 4, 5, 1, 2, 3, 4, 5, 3, 4, 1, 2, 3, 4, 5, 1, 2, 3, 4, 5, 1, 2, 3, 4, 5, 1, 2, 3, 4, 5, 1, 2, 3, 4, 5, 1, 2, 3, 4, 5, 1, 2, 3, 4, 5, 1, 2, 3, 4, 5, 3, 5, 2, 5, 1, 2, 3, 4, 5, 1, 2, 4, 5, 1, 2, 3, 4, 5, 1, 2, 3, 4, 5, 1, 2, 3, 4, 5, 1, 2, 3, 4, 5, 1, 2, 3, 4, 5, 1, 2, 3, 4, 5, 2, 1, 2, 3, 4, 5, 3, 4, 5, 5, 2, 3, 1, 2, 3, 4, 5, 2, 3, 4, 5, 2, 3, 4, 5, 4, 3, 3, 5, 4], \"Freq\": [0.2979850278722132, 0.27009480358860705, 0.3229394390733345, 0.05284463548472747, 0.056514401837833544, 0.2855316556849567, 0.2141487417637175, 0.3049018936334337, 0.1287762115463561, 0.06636100037904144, 0.9063051498821496, 0.940303135148545, 0.03718712963864302, 0.012395709879547674, 0.0070832627883129565, 0.0017708156970782391, 0.9849576303167962, 0.019261802279549173, 0.8062440097011296, 0.0770472091181967, 0.004127529059903394, 0.09355732535781026, 0.020022422717249157, 0.006674140905749719, 0.026696563622998878, 0.9477280086164601, 0.030575566137458626, 0.2407825833324867, 0.02293167460309397, 0.6879502380928191, 0.015287783068729313, 0.962713951845393, 0.006656734338564791, 0.004992550753923593, 0.9552413775840475, 0.01664183584641198, 0.01664183584641198, 0.04929970372164746, 0.9366943707113017, 0.9315967342938126, 0.04234530610426421, 0.013489871346636971, 0.9712707369578619, 0.9901614013786363, 0.03791093528638397, 0.9477733821595994, 0.09115349322525869, 0.13963939387699204, 0.12994221374664536, 0.16873093426803204, 0.4712829543348481, 0.0356926564651354, 0.3140953768931915, 0.03773223683457171, 0.6067751599073018, 0.005098950923590771, 0.9378935538804682, 0.2998569360528992, 0.006973417117509284, 0.02092025135252785, 0.6764214603984006, 0.3328078705840328, 0.2949652310939481, 0.08397955612868119, 0.13219004205440557, 0.15655448117815873, 0.027793206695767892, 0.32518051834048434, 0.013896603347883946, 0.6253471506547775, 0.005558641339153579, 0.9365870939941412, 0.034227166153581165, 0.0941247069223482, 0.02567037461518587, 0.10268149846074348, 0.7444408638403902, 0.004673488364331876, 0.009346976728663752, 0.9720855797810303, 0.004673488364331876, 0.004673488364331876, 0.024398694472460944, 0.3645451997650047, 0.03157478108200828, 0.05884391019828816, 0.5195486705312272, 0.017670106438385284, 0.8936025255983415, 0.005048601839538653, 0.03281591195700124, 0.05048601839538652, 0.02061638080631098, 0.829809327454017, 0.02577047600788873, 0.08761961842682167, 0.04123276161262196, 0.9388352177051, 0.4953659067644753, 0.07396088191275152, 0.01376016407679098, 0.020640246115186472, 0.3956047172077407, 0.981117736680721, 0.0072675387902275635, 0.040224007102128985, 0.793608788771734, 0.05326963102714379, 0.009784217943761105, 0.10327785607303389, 0.9395492075291448, 0.05872182547057155, 0.024661686124932383, 0.1479701167495943, 0.04110281020822064, 0.03288224816657651, 0.7562917078312598, 0.043981759532448275, 0.02722680352008703, 0.09215225806798687, 0.7204631085315337, 0.11728469208652874, 0.07776880683937559, 0.7539619917308956, 0.054042730176515244, 0.09754053739175922, 0.014499269071747992, 0.16263066012405275, 0.4197867219808582, 0.1326878310037398, 0.11918420218477511, 0.16556623160643638, 0.9789938140969597, 0.022798084180664285, 0.0040231913259995795, 0.9534963442619003, 0.0026821275506663865, 0.01743382907933151, 0.1660634678799423, 0.3679556976654886, 0.28719880575127005, 0.093268523055858, 0.08530657596572379, 0.0034691027239220715, 0.0011563675746406904, 0.9771306005713835, 0.008094573022484834, 0.010407308171766215, 0.00303581486887486, 0.9820861100810172, 0.00455372230331229, 0.01062535204106201, 0.8952427479624403, 0.006877845514729239, 0.9835319086062813, 0.006877845514729239, 0.02236554202169651, 0.14537602314102732, 0.02236554202169651, 0.011182771010848256, 0.8051595127810744, 0.0023763664306343394, 0.1021837565172766, 0.06178552719649283, 0.7723190899561604, 0.06178552719649283, 0.013384278691512649, 0.18589275960434234, 0.06989567761123272, 0.7197767651880136, 0.010409994537843172, 0.0022481294475063546, 0.9779363096652642, 0.0022481294475063546, 0.01573690613254448, 0.02379656307755087, 0.00966735375025504, 0.7986721482903011, 0.06395326327091796, 0.1033663208681116, 0.8994506213512852, 0.019952320793063114, 0.044693198576461375, 0.02474087778339826, 0.011971392475837868, 0.9680728790579438, 0.004728072669391667, 0.0023640363346958335, 0.022458345179610418, 0.0011820181673479167, 0.1508707784137164, 0.007184322781605543, 0.014368645563211086, 0.8261971198846374, 0.012190081859368818, 0.7811029376041712, 0.015940876277636146, 0.01781627348676981, 0.17159884463573027, 0.10449871696443343, 0.417341750876706, 0.2174879546822271, 0.1312765131865695, 0.12997027922451407, 0.3968825146054633, 0.11048743996342568, 0.02762185999085642, 0.46375649142543146, 0.001453782104781917, 0.16128590643796067, 0.06154330640395868, 0.004244365958893702, 0.01697746383557481, 0.7554971406830789, 0.0024623126958188903, 0.9732290930224163, 0.0030778908697736127, 0.00738693808745667, 0.013542719827003896, 0.033510739324437246, 0.25854824263392734, 0.4779146977500512, 0.1147098384567275, 0.11574093812824864, 0.9721082802278966, 0.010232718739241017, 0.010232718739241017, 0.989966337192799, 0.006345938058928199, 0.0063883580151978024, 0.0031941790075989012, 0.9007584801428901, 0.022359253053192307, 0.06707775915957692, 0.03266962081982419, 0.4669834034833693, 0.10089147606122177, 0.3411092762069879, 0.058613143235566934, 0.9808786751015528, 0.014092219563531627, 0.24084884344944962, 0.022419440214709405, 0.7090948662195232, 0.014092219563531627, 0.07243362222638265, 0.0482890814842551, 0.8692034667165919, 0.5780054499304159, 0.08789408151006325, 0.05879008101004231, 0.1938326433301395, 0.08207328141005907, 0.9208323431016251, 0.2650019765083966, 0.3031665613605186, 0.029564115026291707, 0.17362198460894948, 0.22844997974861775, 0.9400493954903628, 0.11493291959911568, 0.6366508917119554, 0.08523115386001837, 0.021953479024550186, 0.14076054198093943, 0.010324114159870012, 0.716235419840982, 0.0825929132789601, 0.1703478836378552, 0.01935771404975627, 0.07644070750889133, 0.5948476875237361, 0.06115256600711306, 0.0708813833264265, 0.19735600847750123, 0.040095130590216806, 0.040095130590216806, 0.016038052236086724, 0.7457694289780327, 0.16038052236086722, 0.9842862773573321, 0.006788181223154014, 0.006788181223154014, 0.04882035838752733, 0.05445347666301125, 0.3717858061819389, 0.09200759849957074, 0.43187240112043407, 0.9516798616156983, 0.1946719267449753, 0.18735343325832207, 0.2524880252895356, 0.14783356843039477, 0.21809110590226555, 0.017667586544921208, 0.40856293885130296, 0.02429293149926666, 0.10158862263329695, 0.4505234568954908, 0.02139045086872842, 0.1069522543436421, 0.8556180347491368, 0.01036856000976864, 0.18293102302948955, 0.008887337151230261, 0.049620965761035626, 0.7487581549911496, 0.015865780252054734, 0.15469135745753365, 0.007932890126027367, 0.18245647289862946, 0.6425641002082167, 0.9410345870103993, 0.048671117919729064, 0.9247512404748522, 0.175043055449188, 0.12512102880483475, 0.2066392748443483, 0.22749277964515408, 0.2660401673072496, 0.9415344219449938, 0.036546183539652354, 0.9502007720309612, 0.2007418415533602, 0.006083086107677582, 0.024332344430710327, 0.7725519356750529, 0.05104416948970321, 0.9187950508146577, 0.08855967291048567, 0.34821422409701164, 0.2198930653899814, 0.13856275353341294, 0.20422944977316082, 0.9862743313295248, 0.004335271786063845, 0.004335271786063845, 0.0021676358930319225, 0.0021676358930319225, 0.6007182865814021, 0.1307093279959533, 0.021784887999325552, 0.22329510199308691, 0.02396337679925811, 0.22612130517236337, 0.20443844029282168, 0.16571903872221153, 0.18004521730333728, 0.22341094706242068, 0.942482217476298, 0.9594676802988858, 0.9357365079245713, 0.9756327836565988, 0.922689131162453, 0.9809155000281122, 0.0086806681418417, 0.0086806681418417, 0.0019290373648537115, 0.0009645186824268557, 0.973720146390186, 0.003091175067905352, 0.021638225475337468, 0.026019145058683548, 0.0081043238707375, 0.7690576809968269, 0.13009572529341776, 0.06611422105075328, 0.9823658072104064, 0.012435010217853246, 0.8958523765688258, 0.9577054343055358, 0.008970479090283787, 0.01644587833218694, 0.012174221622527997, 0.004485239545141894, 0.9314906224755428, 0.1013378693265079, 0.8444822443875659, 0.9381684378871108, 0.07651623134475302, 0.22017935958388116, 0.014054001675566882, 0.6777151919106696, 0.011451408772684126, 0.9247500041097833, 0.05137500022832129, 0.9456417245204677, 0.03782566898081871, 0.0050609905434526505, 0.9767711748863614, 0.0050609905434526505, 0.010121981086905301, 0.0028358867345810797, 0.0006301970521291288, 0.9916150615251842, 0.0006301970521291288, 0.004096280838839337, 0.9403990834640809, 0.9480563158424532, 0.4243680996385153, 0.08687850858741258, 0.018378146047337278, 0.08353702748789671, 0.3859410669940828, 0.9403177131040052, 0.000961554172972944, 0.04952003990810662, 0.7980899635675436, 0.06754918065134932, 0.08365521304864613, 0.11502842862016162, 0.019171404770026934, 0.8722989170362255, 0.9394463398939212, 0.9365494741917127, 0.14040908175535485, 0.30231620473641, 0.1954978123962118, 0.332547825210051, 0.028887992897034732, 0.029467460802830265, 0.8545563632820777, 0.0884023824084908, 0.006958428318064358, 0.06262585486257922, 0.02783371327225743, 0.8732827539170769, 0.03131292743128961, 0.9450177994646133, 0.9212075181245322, 0.03844851054044652, 0.5627463815465354, 0.10041098620480247, 0.19891543469685555, 0.099775473633886, 0.9844062829663864, 0.008655850609616508, 0.0023606865298954113, 0.0039344775498256854, 0.000786895509965137, 0.18917396865383262, 0.029869573997973572, 0.00995652466599119, 0.7666523992813217, 0.00820531825303039, 0.00820531825303039, 0.7466839610257654, 0.22974891108485088, 0.9887057941540347, 0.00296315422823387, 0.0036216329456191746, 0.0036216329456191746, 0.0009877180760779567, 0.9940191123443691, 0.0031456301023555983, 0.0031456301023555983, 0.5079486472599214, 0.1634049264252615, 0.012667048560097791, 0.2447273781810893, 0.07093547193654763, 0.09651529341219989, 0.7780314468942644, 0.025606098252216297, 0.07484859489109379, 0.025606098252216297, 0.9794668244883261, 0.006443860687423198, 0.003221930343711599, 0.009665791031134798, 0.003221930343711599, 0.742525317309344, 0.1251650982760865, 0.053814945635612066, 0.07497812650354939, 0.0036279738630749705, 0.0023344047325738037, 0.37117035247923474, 0.0023344047325738037, 0.023344047325738037, 0.6022764210040413, 0.005422876775061245, 0.01084575355012249, 0.9381576820855954, 0.02169150710024498, 0.02169150710024498, 0.9410672736812774, 0.005360274188145947, 0.2197712417139838, 0.005360274188145947, 0.6914753702708271, 0.08040411282218919, 0.9786538859713041, 0.06027564880827276, 0.040183765872181844, 0.8639509662519096, 0.020091882936090922, 0.040683610278223974, 0.9153812312600393, 0.020341805139111987, 0.020341805139111987, 0.1529966325845559, 0.03477196195103543, 0.0069543923902070865, 0.806709517264022, 0.9894215993379661, 0.04195393036591906, 0.9090018245949129, 0.0034961608638265883, 0.0069923217276531766, 0.03845776950209247, 0.010373006518960644, 0.9646896062633399, 0.010373006518960644, 0.010373006518960644, 0.020954492435987213, 0.18859043192388492, 0.020954492435987213, 0.041908984871974427, 0.7334072352595524, 0.9779471089475106, 0.004425100040486473, 0.008850200080972946, 0.008850200080972946, 0.9699156188864578, 0.9452937732246963, 0.0035142233229062004, 0.16868271949949762, 0.038656456551968206, 0.7801575776851766, 0.007028446645812401, 0.9876144557668425, 0.9780135207717153, 0.011321616892281656, 0.0078380424638873, 0.0026126808212957667, 0.0008708936070985889, 0.9383710884749419, 0.08129276943424622, 0.8942204637767085, 0.10906556050789751, 0.8725244840631801, 0.9737483971962337, 0.964979129324187, 0.9890214334402112, 0.0053460618023795205, 0.010729497061581474, 0.87445401051889, 0.010729497061581474, 0.010729497061581474, 0.0938830992888379, 0.9892173690086344, 0.057166368296670156, 0.3274073820627473, 0.025984712862122797, 0.4999458754672426, 0.08938741224570243, 0.021698977781273297, 0.13833098335561725, 0.7418338028972808, 0.050178886119194493, 0.048144606952200124, 0.010490334115908127, 0.8811880657362826, 0.005245167057954064, 0.007867750586931095, 0.09441300704317314, 0.08926832211679107, 0.7880238090309833, 0.0430950520563819, 0.015391090020136392, 0.06464257808457285, 0.06694966384497077, 0.6531674521460562, 0.20248191016527742, 0.02939253534657253, 0.047354640280589076, 0.9847224126903559, 0.0010058451610728866, 0.012070141932874638, 0.0010058451610728866, 0.002011690322145773, 0.11518716336648283, 0.7234562190386113, 0.04243737597712525, 0.05456234054201818, 0.0626456502519468, 0.8868886814351957, 0.018364866635779305, 0.0031354650353769544, 0.03628180969507619, 0.055094599907337914, 0.22918098329093725, 0.3606782687857373, 0.1293503910377421, 0.2205934054627054, 0.05984468299049064, 0.9593679846469847, 0.004370696968778974, 0.008741393937557948, 0.026224181812673844, 0.002185348484389487, 0.8911026423834284, 0.013975470866356981, 0.009982479190254986, 0.0778633376839889, 0.006654986126836657, 0.9874687149949486, 0.006329927660224029, 0.006329927660224029, 0.9760144530810443, 0.00451858543093076, 0.012049561149148695, 0.00451858543093076, 0.001506195143643587, 0.9254761634312756, 0.9898184028505554, 0.004371989411884079, 0.003497591529507263, 0.0008743978823768158, 0.0008743978823768158, 0.9818071252980529, 0.4161354024073963, 0.2930589467327898, 0.225190479606995, 0.04047202168051984, 0.025113408324835388, 0.9710847765623568, 0.019503816865417314, 0.001026516677127227, 0.006159100062763362, 0.001026516677127227, 0.9156930608583506, 0.9412659009167915, 0.048530836465857714, 0.03831381826251925, 0.028096800059180783, 0.06896487287253465, 0.8122529471654081, 0.0039063706166254045, 0.04687644739950486, 0.0039063706166254045, 0.011719111849876215, 0.9375289479900972, 0.9720440884639179, 0.0029366890890148577, 0.008810067267044574, 0.01174675635605943, 0.005873378178029715, 0.005276025543137293, 0.27435332824313924, 0.0026380127715686466, 0.042208204345098345, 0.6779692822931422, 0.037016262382619146, 0.3701626238261915, 0.03424004270392271, 0.5284071455118883, 0.030538416465660797, 0.007455912729822845, 0.26841285827362243, 0.01491182545964569, 0.7083117093331702, 0.0037279563649114224, 0.20469000068508267, 0.5013552439687488, 0.1415697361566431, 0.06041511033436361, 0.0928769606632754, 0.9760381370868684, 0.003888598155724575, 0.00777719631144915, 0.0155543926228983, 0.01883382964107032, 0.4165599967672024, 0.050962127264072635, 0.26182716108860504, 0.2518563101021561, 0.23188643073816384, 0.17433797347467792, 0.12440622379018279, 0.2995904981069708, 0.17095277010623758, 0.056234274195346046, 0.49738245969331935, 0.08241229838973128, 0.11925544355219939, 0.24529778226590604, 0.09793697974418836, 0.1553933411941122, 0.5745636144992383, 0.10316028533054507, 0.06790297262263727, 0.012090299838578992, 0.7898995894538274, 0.012090299838578992, 0.004030099946192997, 0.18135449757868488, 0.9689740818327125, 0.0768839104510102, 0.17491089627604822, 0.16914460299222245, 0.5151222000217683, 0.06535132388335867, 0.9910669788048028, 0.0035458568114662, 0.0035458568114662, 0.0017729284057331, 0.009164445757939605, 0.1924533609167317, 0.04582222878969803, 0.7331556606351685, 0.027493337273818814, 0.9260158408071254, 0.1382004758288603, 0.017275059478607538, 0.10365035687164523, 0.7428275575801241, 0.9063193779220508, 0.9384209091994753, 0.1767786360373475, 0.1682386053109056, 0.08198429497384233, 0.3731993427455114, 0.19983671899874067, 0.05644358541719133, 0.8090247243130756, 0.042332689062893496, 0.014110896354297832, 0.07996174600768771, 0.025467482602232475, 0.07640244780669743, 0.8913618910781367, 0.015091422055197971, 0.13280451408574215, 0.12374966085262337, 0.07243882586495026, 0.654967717195592, 0.0017754788105249588, 0.8966167993151042, 0.04616244907364893, 0.010652872863149752, 0.044386970263123965, 0.048037590590515496, 0.019780184360800496, 0.7940331150549914, 0.11020388429588848, 0.025431665606743495, 0.9805779138582056, 0.0016666307887817432, 0.0016666307887817432, 0.953312811183157, 0.014999677099035689, 0.02666609262050789, 0.7985245081064505, 0.00823221142377784, 0.008716459154588302, 0.17771891720743924, 0.006779468231346456, 0.002331311342868945, 0.0885898310290199, 0.3170583426301765, 0.07460196297180624, 0.5175511181169058, 0.0035924089559173484, 0.00039915655065748316, 0.9887107759785858, 0.0007983131013149663, 0.006785661361177213, 0.0060887460539446395, 0.09307083253886807, 0.01043785037819081, 0.8559037310116465, 0.03479283459396937, 0.9399351593248777, 0.017586641838463177, 0.017586641838463177, 0.9672653011154748, 0.9389456161174747, 0.06481826306030301, 0.1009958982567512, 0.6496900320695488, 0.06783306599334037, 0.11606991292193795, 0.9680883460820919, 0.019170066259051325, 0.02435270308506007, 0.012176351542530035, 0.012176351542530035, 0.9375790687748127, 0.0050062106336192964, 0.04505589570257367, 0.022527947851286836, 0.8009937013790874, 0.12515526584048242, 0.005223882935914133, 0.9768661090159427, 0.015671648807742397, 0.041551207042248565, 0.23414666671104936, 0.45537876907112956, 0.05839629097829528, 0.21000204640271572, 0.007732254618213925, 0.9665318272767407, 0.010309672824285234, 0.012887091030356542, 0.07584939129696096, 0.8320448378636323, 0.02988006323819674, 0.04826779446170243, 0.011492332014691053, 0.005149409245707072, 0.9835371659300507, 0.002574704622853536, 0.0077241138685606075, 0.20925575851640407, 0.5786224002965246, 0.039003869248164784, 0.04777973982900186, 0.12539743963284977, 0.003971833076118005, 0.9294089398116131, 0.011915499228354014, 0.00794366615223601, 0.047661996913416056, 0.9727082324784289, 0.01430453283056513, 0.004768177610188377, 0.009536355220376753, 0.003484103525122213, 0.9894854011347085, 0.003484103525122213, 0.003484103525122213, 0.9410574848920988, 0.9865548721603985, 0.9875678279993333, 0.003644161726934809, 0.003644161726934809, 0.9212030413937972, 0.9826749865112653, 0.9374934461110591, 0.06119438227440131, 0.32257742213993457, 0.39391961655029184, 0.15436974824999727, 0.06795959036503864, 0.0020075299618603315, 0.9856972112734227, 0.0020075299618603315, 0.010037649809301658, 0.9267148705002018, 0.02187524372425369, 0.004640203214235632, 0.0440819305352385, 0.002982987780580049, 0.01249403109706492, 0.08121120213092198, 0.00624701554853246, 0.01874104664559738, 0.8870762078916092, 0.0217076172757473, 0.0434152345514946, 0.9117199255813865, 0.9385111004041403, 0.47340643535620425, 0.14287381879387756, 0.3035155912026667, 0.06230953596462122, 0.01801135023977332, 0.017757034806494296, 0.958879879550692, 0.017757034806494296, 0.9815270368352025, 0.007963708209616248, 0.001990927052404062, 0.005972781157212185, 0.001990927052404062, 0.976375850534115, 0.006102349065838219, 0.006102349065838219, 0.006102349065838219, 0.04953908367542822, 0.8917035061577079, 0.9800498543185123, 0.8548204549084737, 0.030825702950929703, 0.022526475233371705, 0.07350744549837082, 0.018969663354418277, 0.03755476764888646, 0.19734662215493276, 0.01693646384165468, 0.715749689308189, 0.032400191697078515, 0.217103093475592, 0.03618384891259867, 0.02960496729212618, 0.6973614517700834, 0.019736644861417452, 0.046537088931809106, 0.9307417786361821, 0.8655005271023847, 0.008818782663343076, 0.002519652189526593, 0.12220313119203975, 0.0012598260947632965, 0.006652636280104485, 0.08814743071138442, 0.7018531275510231, 0.164652747932586, 0.03825265861060079, 0.05377277339262043, 0.9141371476745473, 0.06277386956558309, 0.7595638217435554, 0.04080301521762901, 0.11299296521804958, 0.021970854347954084, 0.9519125451386514, 0.013000423332762218, 0.9880321732899287, 0.07664844878804689, 0.8358330844029874, 0.043799113593169646, 0.010949778398292411, 0.03284933519487723, 0.017701430114582396, 0.1380711548937427, 0.010620858068749439, 0.8319672153853727, 0.007080572045832959, 0.9805373358493398, 0.014210686026802026, 0.9823199266277239, 0.005689111544176007, 0.005689111544176007, 0.007585482058901343, 0.9843233667301319, 0.010182655517897916, 0.003394218505965972, 0.003394218505965972, 0.01922397394522425, 0.01922397394522425, 0.8650788275350914, 0.11534384367134551, 0.9345757415035876, 0.9400427851483117, 0.9365578592420696, 0.11594282070947187, 0.3735203371719918, 0.2283722226095658, 0.18972461570640853, 0.09244683242175693, 0.004491617278811013, 0.9522228631079348, 0.004491617278811013, 0.035932938230488105, 0.9854443296869632, 0.010531205554877318, 0.03744428641734158, 0.5979384487269233, 0.32646737220119687, 0.02691308086246426, 0.9845506566934006, 0.009466833237436544, 0.00631122215829103, 0.003155611079145515, 0.02303384389268118, 0.14716066931435198, 0.00767794796422706, 0.8055447072468224, 0.016635553922491966, 0.0025877397360513344, 0.9199414761662494, 0.031052876832616014, 0.01940804802038501, 0.027171267228539013, 0.026873902087616527, 0.751473928746314, 0.021897253552872725, 0.08559835479759338, 0.11446291629910743, 0.8688456277994588, 0.013312241488245028, 0.0062123793611810136, 0.06478624190945914, 0.0470365865917991, 0.9380020724785857, 0.9541150576786676, 0.025786893450774798, 0.025786893450774798, 0.9827384034419472, 0.9383960187167886, 0.020737568545984655, 0.020737568545984655, 0.9150452120915729, 0.012960980341240408, 0.03110635281897698, 0.023405334344974785, 0.1521346732423361, 0.01462833396560924, 0.7870043673497772, 0.023405334344974785, 0.0104407039110525, 0.2962549734761147, 0.061339135477433436, 0.28646681355950293, 0.345848317053614, 0.030919608015760727, 0.061839216031521455, 0.8966686324570611, 0.01675997186801448, 0.00418999296700362, 0.01256997890101086, 0.9678883753778362, 0.001853980214369451, 0.9890984443661022, 0.001853980214369451, 0.006488930750293079, 0.9392299158955423, 0.011764884123952513, 0.001960814020658752, 0.0450987224751513, 0.014182407935320829, 0.957312535634156, 0.014182407935320829, 0.014182407935320829, 0.9697774912466055, 0.12228343289533002, 0.0030570858223832502, 0.03362794404621575, 0.8376415153330106, 0.9283681315548599, 0.009135233766837489, 0.019412371754529666, 0.036540935067349956, 0.0057095211042734306, 0.9572214169416747, 0.23347912261838946, 0.20339899025651106, 0.1905075049585632, 0.18621034319258056, 0.18692653682024432, 0.9804103687139083, 0.012900136430446163, 0.0672689424427276, 0.8744962517554589, 0.9395247735462949, 0.12564347957548785, 0.18489341475991522, 0.36474428184456004, 0.1386700610699364, 0.1857338393724603, 0.07516917244130407, 0.38969281502465525, 0.020770429227202437, 0.10286307807757399, 0.4124413803687341, 0.9622186213576565, 0.934129389949033, 0.9116047605642796, 0.014871203271847955, 0.024537485398549125, 0.03643444801602749, 0.012640522781070761, 0.9805582161888021, 0.009613315844988255, 0.0032044386149960853, 0.0032044386149960853, 0.006408877229992171, 0.973799008722231, 0.007878632756652355, 0.012605812410643768, 0.003151453102660942, 0.001575726551330471, 0.08213414387498164, 0.7525263452329399, 0.028857942442561117, 0.09323335250673591, 0.0443968345270171, 0.2136337467477889, 0.1171730799336903, 0.013611014335731702, 0.28819843397831907, 0.367497387064756, 0.7427640427709359, 0.046523017797747604, 0.006015907473846673, 0.1572157153165264, 0.04732513879426049, 0.004716257789991322, 0.002358128894995661, 0.952684073578247, 0.014148773369973966, 0.02593941784495227, 0.004494199328515473, 0.0014980664428384909, 0.979735453616373, 0.007490332214192454, 0.007490332214192454, 0.9654185148550344, 0.9451545771505501, 0.02132285380594983, 0.9595284212677423, 0.0031826266040790056, 0.9691098009420572, 0.014321819718355526, 0.004773939906118509, 0.007956566510197514, 0.018239287959654037, 0.8663661780835668, 0.06383750785878914, 0.05471786387896211, 0.8690931627074024, 0.030072427775342647, 0.024057942220274117, 0.07518106943835662, 0.0030072427775342647, 0.009697022229802815, 0.06909128338734506, 0.06969734727670773, 0.30848651968560203, 0.5430332448689577, 0.026620331081290742, 0.10648132432516297, 0.08972037512583175, 0.4062065335367328, 0.37169869694987445, 0.005374561165831982, 0.6754031865062191, 0.017915203886106606, 0.039413448549434536, 0.2633534971257671, 0.010219765304803712, 0.0817581224384297, 0.010219765304803712, 0.04087906121921485, 0.8584602856035118, 0.6068296611050104, 0.2106466179927737, 0.07626058576338827, 0.08649066434140378, 0.019530150012575045, 0.9524286660631945, 0.037625096157515414, 0.3235758269546326, 0.018812548078757707, 0.5794264808257374, 0.039506350965391186, 0.954403364623355, 0.013634333780333643, 0.027268667560667287, 0.9447929911108331, 0.9020606676924392, 0.05306239221720231, 0.005313914995662296, 0.7138359144173018, 0.037197404969636076, 0.1487896198785443, 0.09565046992192133, 0.10765072712598066, 0.048932148693627574, 0.8318465277916687, 0.009786429738725514, 0.008650264677712002, 0.008650264677712002, 0.025950794033136007, 0.9601793792260324, 0.9407191414015571, 0.9640471748564096, 0.9803689606328543, 0.021312368709409876, 0.9388819654672479], \"Term\": [\"\\u0e01\\u0e0e\\u0e2b\\u0e21\\u0e32\\u0e22\", \"\\u0e01\\u0e0e\\u0e2b\\u0e21\\u0e32\\u0e22\", \"\\u0e01\\u0e0e\\u0e2b\\u0e21\\u0e32\\u0e22\", \"\\u0e01\\u0e0e\\u0e2b\\u0e21\\u0e32\\u0e22\", \"\\u0e01\\u0e0e\\u0e2b\\u0e21\\u0e32\\u0e22\", \"\\u0e01\\u0e23\\u0e13\\u0e35\", \"\\u0e01\\u0e23\\u0e13\\u0e35\", \"\\u0e01\\u0e23\\u0e13\\u0e35\", \"\\u0e01\\u0e23\\u0e13\\u0e35\", \"\\u0e01\\u0e23\\u0e13\\u0e35\", \"\\u0e01\\u0e23\\u0e21\\u0e28\\u0e38\\u0e25\\u0e01\\u0e32\\u0e01\\u0e23\", \"\\u0e01\\u0e23\\u0e23\\u0e21\\u0e2a\\u0e34\\u0e17\\u0e18\\u0e34\\u0e4c\", \"\\u0e01\\u0e23\\u0e23\\u0e21\\u0e2a\\u0e34\\u0e17\\u0e18\\u0e34\\u0e4c\", \"\\u0e01\\u0e23\\u0e23\\u0e21\\u0e2a\\u0e34\\u0e17\\u0e18\\u0e34\\u0e4c\", \"\\u0e01\\u0e23\\u0e23\\u0e21\\u0e2a\\u0e34\\u0e17\\u0e18\\u0e34\\u0e4c\", \"\\u0e01\\u0e23\\u0e23\\u0e21\\u0e2a\\u0e34\\u0e17\\u0e18\\u0e34\\u0e4c\", \"\\u0e01\\u0e23\\u0e23\\u0e21\\u0e2a\\u0e34\\u0e17\\u0e18\\u0e34\\u0e4c\\u0e23\\u0e27\\u0e21\", \"\\u0e01\\u0e23\\u0e30\\u0e17\\u0e33\\u0e04\\u0e27\\u0e32\\u0e21\\u0e1c\\u0e34\\u0e14\", \"\\u0e01\\u0e23\\u0e30\\u0e17\\u0e33\\u0e04\\u0e27\\u0e32\\u0e21\\u0e1c\\u0e34\\u0e14\", \"\\u0e01\\u0e23\\u0e30\\u0e17\\u0e33\\u0e04\\u0e27\\u0e32\\u0e21\\u0e1c\\u0e34\\u0e14\", \"\\u0e01\\u0e23\\u0e30\\u0e17\\u0e33\\u0e04\\u0e27\\u0e32\\u0e21\\u0e1c\\u0e34\\u0e14\", \"\\u0e01\\u0e23\\u0e30\\u0e17\\u0e33\\u0e04\\u0e27\\u0e32\\u0e21\\u0e1c\\u0e34\\u0e14\", \"\\u0e01\\u0e23\\u0e31\\u0e21\", \"\\u0e01\\u0e23\\u0e31\\u0e21\", \"\\u0e01\\u0e23\\u0e31\\u0e21\", \"\\u0e01\\u0e23\\u0e31\\u0e21\", \"\\u0e01\\u0e32\\u0e23\\u0e0a\\u0e33\\u0e23\\u0e30\\u0e2b\\u0e19\\u0e35\\u0e49\", \"\\u0e01\\u0e32\\u0e23\\u0e0a\\u0e33\\u0e23\\u0e30\\u0e2b\\u0e19\\u0e35\\u0e49\", \"\\u0e01\\u0e32\\u0e23\\u0e0a\\u0e33\\u0e23\\u0e30\\u0e2b\\u0e19\\u0e35\\u0e49\", \"\\u0e01\\u0e32\\u0e23\\u0e0a\\u0e33\\u0e23\\u0e30\\u0e2b\\u0e19\\u0e35\\u0e49\", \"\\u0e01\\u0e32\\u0e23\\u0e0a\\u0e33\\u0e23\\u0e30\\u0e2b\\u0e19\\u0e35\\u0e49\", \"\\u0e01\\u0e32\\u0e23\\u0e17\\u0e14\\u0e25\\u0e2d\\u0e07\", \"\\u0e01\\u0e32\\u0e23\\u0e17\\u0e33\\u0e07\\u0e32\\u0e19\", \"\\u0e01\\u0e32\\u0e23\\u0e17\\u0e33\\u0e07\\u0e32\\u0e19\", \"\\u0e01\\u0e32\\u0e23\\u0e17\\u0e33\\u0e07\\u0e32\\u0e19\", \"\\u0e01\\u0e32\\u0e23\\u0e17\\u0e33\\u0e07\\u0e32\\u0e19\", \"\\u0e01\\u0e32\\u0e23\\u0e17\\u0e33\\u0e07\\u0e32\\u0e19\", \"\\u0e01\\u0e32\\u0e23\\u0e1b\\u0e23\\u0e31\\u0e1a\\u0e42\\u0e04\\u0e23\\u0e07\\u0e2a\\u0e23\\u0e49\\u0e32\\u0e07\", \"\\u0e01\\u0e32\\u0e23\\u0e1b\\u0e23\\u0e31\\u0e1a\\u0e42\\u0e04\\u0e23\\u0e07\\u0e2a\\u0e23\\u0e49\\u0e32\\u0e07\", \"\\u0e01\\u0e32\\u0e23\\u0e22\\u0e37\\u0e21\", \"\\u0e01\\u0e32\\u0e23\\u0e22\\u0e37\\u0e21\", \"\\u0e01\\u0e32\\u0e23\\u0e25\\u0e32\", \"\\u0e01\\u0e32\\u0e23\\u0e25\\u0e32\", \"\\u0e01\\u0e32\\u0e23\\u0e2a\\u0e21\\u0e23\\u0e2a\", \"\\u0e01\\u0e32\\u0e23\\u0e2a\\u0e31\\u0e48\\u0e07\\u0e0b\\u0e37\\u0e49\\u0e2d\", \"\\u0e01\\u0e32\\u0e23\\u0e2a\\u0e31\\u0e48\\u0e07\\u0e0b\\u0e37\\u0e49\\u0e2d\", \"\\u0e01\\u0e35\\u0e48\", \"\\u0e01\\u0e35\\u0e48\", \"\\u0e01\\u0e35\\u0e48\", \"\\u0e01\\u0e35\\u0e48\", \"\\u0e01\\u0e35\\u0e48\", \"\\u0e01\\u0e39\\u0e49\", \"\\u0e01\\u0e39\\u0e49\", \"\\u0e01\\u0e39\\u0e49\", \"\\u0e01\\u0e39\\u0e49\", \"\\u0e01\\u0e39\\u0e49\", \"\\u0e02\\u0e27\\u0e14\", \"\\u0e02\\u0e2d\\u0e07\\u0e01\\u0e25\\u0e32\\u0e07\", \"\\u0e02\\u0e2d\\u0e07\\u0e01\\u0e25\\u0e32\\u0e07\", \"\\u0e02\\u0e2d\\u0e07\\u0e01\\u0e25\\u0e32\\u0e07\", \"\\u0e02\\u0e2d\\u0e07\\u0e01\\u0e25\\u0e32\\u0e07\", \"\\u0e02\\u0e32\\u0e22\", \"\\u0e02\\u0e32\\u0e22\", \"\\u0e02\\u0e32\\u0e22\", \"\\u0e02\\u0e32\\u0e22\", \"\\u0e02\\u0e32\\u0e22\", \"\\u0e02\\u0e32\\u0e22\\u0e17\\u0e2d\\u0e14\\u0e15\\u0e25\\u0e32\\u0e14\", \"\\u0e02\\u0e32\\u0e22\\u0e17\\u0e2d\\u0e14\\u0e15\\u0e25\\u0e32\\u0e14\", \"\\u0e02\\u0e32\\u0e22\\u0e17\\u0e2d\\u0e14\\u0e15\\u0e25\\u0e32\\u0e14\", \"\\u0e02\\u0e32\\u0e22\\u0e17\\u0e2d\\u0e14\\u0e15\\u0e25\\u0e32\\u0e14\", \"\\u0e02\\u0e32\\u0e22\\u0e17\\u0e2d\\u0e14\\u0e15\\u0e25\\u0e32\\u0e14\", \"\\u0e02\\u0e36\\u0e49\\u0e19\\u0e1a\\u0e31\\u0e0d\\u0e0a\\u0e35\", \"\\u0e02\\u0e42\\u0e21\\u0e22\", \"\\u0e02\\u0e42\\u0e21\\u0e22\", \"\\u0e02\\u0e42\\u0e21\\u0e22\", \"\\u0e02\\u0e42\\u0e21\\u0e22\", \"\\u0e02\\u0e42\\u0e21\\u0e22\", \"\\u0e02\\u0e49\\u0e2d\\u0e1a\\u0e31\\u0e07\\u0e04\\u0e31\\u0e1a\", \"\\u0e02\\u0e49\\u0e2d\\u0e1a\\u0e31\\u0e07\\u0e04\\u0e31\\u0e1a\", \"\\u0e02\\u0e49\\u0e2d\\u0e1a\\u0e31\\u0e07\\u0e04\\u0e31\\u0e1a\", \"\\u0e02\\u0e49\\u0e2d\\u0e1a\\u0e31\\u0e07\\u0e04\\u0e31\\u0e1a\", \"\\u0e02\\u0e49\\u0e2d\\u0e1a\\u0e31\\u0e07\\u0e04\\u0e31\\u0e1a\", \"\\u0e02\\u0e49\\u0e2d\\u0e2b\\u0e32\", \"\\u0e02\\u0e49\\u0e2d\\u0e2b\\u0e32\", \"\\u0e02\\u0e49\\u0e2d\\u0e2b\\u0e32\", \"\\u0e02\\u0e49\\u0e2d\\u0e2b\\u0e32\", \"\\u0e02\\u0e49\\u0e2d\\u0e2b\\u0e32\", \"\\u0e04\\u0e14\\u0e35\\u0e2d\\u0e32\\u0e0d\\u0e32\", \"\\u0e04\\u0e14\\u0e35\\u0e2d\\u0e32\\u0e0d\\u0e32\", \"\\u0e04\\u0e14\\u0e35\\u0e2d\\u0e32\\u0e0d\\u0e32\", \"\\u0e04\\u0e14\\u0e35\\u0e2d\\u0e32\\u0e0d\\u0e32\", \"\\u0e04\\u0e14\\u0e35\\u0e2d\\u0e32\\u0e0d\\u0e32\", \"\\u0e04\\u0e14\\u0e35\\u0e41\\u0e1e\\u0e48\\u0e07\", \"\\u0e04\\u0e14\\u0e35\\u0e41\\u0e1e\\u0e48\\u0e07\", \"\\u0e04\\u0e14\\u0e35\\u0e41\\u0e1e\\u0e48\\u0e07\", \"\\u0e04\\u0e14\\u0e35\\u0e41\\u0e1e\\u0e48\\u0e07\", \"\\u0e04\\u0e14\\u0e35\\u0e41\\u0e1e\\u0e48\\u0e07\", \"\\u0e04\\u0e19\\u0e40\\u0e08\\u0e47\\u0e1a\", \"\\u0e04\\u0e23\\u0e2d\\u0e1a\\u0e04\\u0e23\\u0e2d\\u0e07\", \"\\u0e04\\u0e23\\u0e2d\\u0e1a\\u0e04\\u0e23\\u0e2d\\u0e07\", \"\\u0e04\\u0e23\\u0e2d\\u0e1a\\u0e04\\u0e23\\u0e2d\\u0e07\", \"\\u0e04\\u0e23\\u0e2d\\u0e1a\\u0e04\\u0e23\\u0e2d\\u0e07\", \"\\u0e04\\u0e23\\u0e2d\\u0e1a\\u0e04\\u0e23\\u0e2d\\u0e07\", \"\\u0e04\\u0e23\\u0e2d\\u0e1a\\u0e04\\u0e23\\u0e2d\\u0e07\\u0e1b\\u0e23\\u0e1b\\u0e31\\u0e01\\u0e29\\u0e4c\", \"\\u0e04\\u0e23\\u0e2d\\u0e1a\\u0e04\\u0e23\\u0e2d\\u0e07\\u0e1b\\u0e23\\u0e1b\\u0e31\\u0e01\\u0e29\\u0e4c\", \"\\u0e04\\u0e27\\u0e32\\u0e21\\u0e1c\\u0e34\\u0e14\", \"\\u0e04\\u0e27\\u0e32\\u0e21\\u0e1c\\u0e34\\u0e14\", \"\\u0e04\\u0e27\\u0e32\\u0e21\\u0e1c\\u0e34\\u0e14\", \"\\u0e04\\u0e27\\u0e32\\u0e21\\u0e1c\\u0e34\\u0e14\", \"\\u0e04\\u0e27\\u0e32\\u0e21\\u0e1c\\u0e34\\u0e14\", \"\\u0e04\\u0e27\\u0e32\\u0e21\\u0e1c\\u0e34\\u0e14\\u0e2d\\u0e31\\u0e19\\u0e22\\u0e2d\\u0e21\\u0e04\\u0e27\\u0e32\\u0e21\\u0e44\\u0e14\\u0e49\", \"\\u0e04\\u0e27\\u0e32\\u0e21\\u0e1c\\u0e34\\u0e14\\u0e2d\\u0e31\\u0e19\\u0e22\\u0e2d\\u0e21\\u0e04\\u0e27\\u0e32\\u0e21\\u0e44\\u0e14\\u0e49\", \"\\u0e04\\u0e2d\\u0e21\\u0e1e\\u0e34\\u0e27\\u0e40\\u0e15\\u0e2d\\u0e23\\u0e4c\", \"\\u0e04\\u0e2d\\u0e21\\u0e1e\\u0e34\\u0e27\\u0e40\\u0e15\\u0e2d\\u0e23\\u0e4c\", \"\\u0e04\\u0e2d\\u0e21\\u0e1e\\u0e34\\u0e27\\u0e40\\u0e15\\u0e2d\\u0e23\\u0e4c\", \"\\u0e04\\u0e2d\\u0e21\\u0e1e\\u0e34\\u0e27\\u0e40\\u0e15\\u0e2d\\u0e23\\u0e4c\", \"\\u0e04\\u0e2d\\u0e21\\u0e1e\\u0e34\\u0e27\\u0e40\\u0e15\\u0e2d\\u0e23\\u0e4c\", \"\\u0e04\\u0e31\\u0e1a\", \"\\u0e04\\u0e31\\u0e1a\", \"\\u0e04\\u0e31\\u0e1a\", \"\\u0e04\\u0e31\\u0e1a\", \"\\u0e04\\u0e31\\u0e1a\", \"\\u0e04\\u0e33\\u0e1e\\u0e34\\u0e1e\\u0e32\\u0e01\\u0e29\\u0e32\", \"\\u0e04\\u0e33\\u0e1e\\u0e34\\u0e1e\\u0e32\\u0e01\\u0e29\\u0e32\", \"\\u0e04\\u0e33\\u0e1e\\u0e34\\u0e1e\\u0e32\\u0e01\\u0e29\\u0e32\", \"\\u0e04\\u0e33\\u0e1e\\u0e34\\u0e1e\\u0e32\\u0e01\\u0e29\\u0e32\", \"\\u0e04\\u0e33\\u0e1e\\u0e34\\u0e1e\\u0e32\\u0e01\\u0e29\\u0e32\", \"\\u0e04\\u0e37\\u0e19\", \"\\u0e04\\u0e37\\u0e19\", \"\\u0e04\\u0e37\\u0e19\", \"\\u0e04\\u0e37\\u0e19\", \"\\u0e04\\u0e37\\u0e19\", \"\\u0e04\\u0e38\\u0e13\\u0e1b\\u0e39\\u0e48\", \"\\u0e04\\u0e38\\u0e49\\u0e21\\u0e04\\u0e23\\u0e2d\\u0e07\", \"\\u0e04\\u0e38\\u0e49\\u0e21\\u0e04\\u0e23\\u0e2d\\u0e07\", \"\\u0e04\\u0e38\\u0e49\\u0e21\\u0e04\\u0e23\\u0e2d\\u0e07\", \"\\u0e04\\u0e38\\u0e49\\u0e21\\u0e04\\u0e23\\u0e2d\\u0e07\", \"\\u0e04\\u0e38\\u0e49\\u0e21\\u0e04\\u0e23\\u0e2d\\u0e07\", \"\\u0e04\\u0e48\\u0e32\", \"\\u0e04\\u0e48\\u0e32\", \"\\u0e04\\u0e48\\u0e32\", \"\\u0e04\\u0e48\\u0e32\", \"\\u0e04\\u0e48\\u0e32\", \"\\u0e04\\u0e48\\u0e32\\u0e08\\u0e49\\u0e32\\u0e07\", \"\\u0e04\\u0e48\\u0e32\\u0e08\\u0e49\\u0e32\\u0e07\", \"\\u0e04\\u0e48\\u0e32\\u0e08\\u0e49\\u0e32\\u0e07\", \"\\u0e04\\u0e48\\u0e32\\u0e08\\u0e49\\u0e32\\u0e07\", \"\\u0e04\\u0e48\\u0e32\\u0e08\\u0e49\\u0e32\\u0e07\", \"\\u0e04\\u0e48\\u0e32\\u0e0a\\u0e14\\u0e40\\u0e0a\\u0e22\", \"\\u0e04\\u0e48\\u0e32\\u0e0a\\u0e14\\u0e40\\u0e0a\\u0e22\", \"\\u0e04\\u0e48\\u0e32\\u0e0a\\u0e14\\u0e40\\u0e0a\\u0e22\", \"\\u0e04\\u0e48\\u0e32\\u0e0a\\u0e14\\u0e40\\u0e0a\\u0e22\", \"\\u0e04\\u0e48\\u0e32\\u0e18\\u0e23\\u0e23\\u0e21\\u0e40\\u0e19\\u0e35\\u0e22\\u0e21\\u0e28\\u0e32\\u0e25\", \"\\u0e04\\u0e48\\u0e32\\u0e25\\u0e48\\u0e27\\u0e07\\u0e40\\u0e27\\u0e25\\u0e32\", \"\\u0e04\\u0e48\\u0e32\\u0e25\\u0e48\\u0e27\\u0e07\\u0e40\\u0e27\\u0e25\\u0e32\", \"\\u0e04\\u0e48\\u0e32\\u0e25\\u0e48\\u0e27\\u0e07\\u0e40\\u0e27\\u0e25\\u0e32\", \"\\u0e04\\u0e49\\u0e19\", \"\\u0e04\\u0e49\\u0e19\", \"\\u0e04\\u0e49\\u0e19\", \"\\u0e04\\u0e49\\u0e19\", \"\\u0e04\\u0e49\\u0e19\", \"\\u0e04\\u0e49\\u0e33\", \"\\u0e04\\u0e49\\u0e33\", \"\\u0e04\\u0e49\\u0e33\", \"\\u0e04\\u0e49\\u0e33\", \"\\u0e04\\u0e49\\u0e33\", \"\\u0e04\\u0e49\\u0e33\\u0e1b\\u0e23\\u0e30\\u0e01\\u0e31\\u0e19\", \"\\u0e04\\u0e49\\u0e33\\u0e1b\\u0e23\\u0e30\\u0e01\\u0e31\\u0e19\", \"\\u0e04\\u0e49\\u0e33\\u0e1b\\u0e23\\u0e30\\u0e01\\u0e31\\u0e19\", \"\\u0e04\\u0e49\\u0e33\\u0e1b\\u0e23\\u0e30\\u0e01\\u0e31\\u0e19\", \"\\u0e04\\u0e49\\u0e33\\u0e1b\\u0e23\\u0e30\\u0e01\\u0e31\\u0e19\", \"\\u0e07\\u0e32\", \"\\u0e07\\u0e32\", \"\\u0e07\\u0e32\", \"\\u0e07\\u0e32\", \"\\u0e07\\u0e32\\u0e19\", \"\\u0e07\\u0e32\\u0e19\", \"\\u0e07\\u0e32\\u0e19\", \"\\u0e07\\u0e32\\u0e19\", \"\\u0e07\\u0e32\\u0e19\", \"\\u0e08\\u0e14\\u0e17\\u0e30\\u0e40\\u0e1a\\u0e35\\u0e22\\u0e19\", \"\\u0e08\\u0e14\\u0e17\\u0e30\\u0e40\\u0e1a\\u0e35\\u0e22\\u0e19\", \"\\u0e08\\u0e14\\u0e17\\u0e30\\u0e40\\u0e1a\\u0e35\\u0e22\\u0e19\", \"\\u0e08\\u0e14\\u0e17\\u0e30\\u0e40\\u0e1a\\u0e35\\u0e22\\u0e19\", \"\\u0e08\\u0e14\\u0e17\\u0e30\\u0e40\\u0e1a\\u0e35\\u0e22\\u0e19\", \"\\u0e08\\u0e14\\u0e17\\u0e30\\u0e40\\u0e1a\\u0e35\\u0e22\\u0e19\\u0e2a\\u0e21\\u0e23\\u0e2a\", \"\\u0e08\\u0e14\\u0e17\\u0e30\\u0e40\\u0e1a\\u0e35\\u0e22\\u0e19\\u0e2a\\u0e21\\u0e23\\u0e2a\", \"\\u0e08\\u0e14\\u0e17\\u0e30\\u0e40\\u0e1a\\u0e35\\u0e22\\u0e19\\u0e2a\\u0e21\\u0e23\\u0e2a\", \"\\u0e08\\u0e14\\u0e17\\u0e30\\u0e40\\u0e1a\\u0e35\\u0e22\\u0e19\\u0e2a\\u0e21\\u0e23\\u0e2a\", \"\\u0e08\\u0e14\\u0e17\\u0e30\\u0e40\\u0e1a\\u0e35\\u0e22\\u0e19\\u0e2a\\u0e21\\u0e23\\u0e2a\", \"\\u0e08\\u0e31\\u0e1a\\u0e01\\u0e38\\u0e21\", \"\\u0e08\\u0e31\\u0e1a\\u0e01\\u0e38\\u0e21\", \"\\u0e08\\u0e31\\u0e1a\\u0e01\\u0e38\\u0e21\", \"\\u0e08\\u0e31\\u0e1a\\u0e01\\u0e38\\u0e21\", \"\\u0e08\\u0e33\\u0e04\\u0e38\\u0e01\", \"\\u0e08\\u0e33\\u0e04\\u0e38\\u0e01\", \"\\u0e08\\u0e33\\u0e04\\u0e38\\u0e01\", \"\\u0e08\\u0e33\\u0e04\\u0e38\\u0e01\", \"\\u0e08\\u0e33\\u0e04\\u0e38\\u0e01\", \"\\u0e08\\u0e33\\u0e19\\u0e27\\u0e19\", \"\\u0e08\\u0e33\\u0e19\\u0e27\\u0e19\", \"\\u0e08\\u0e33\\u0e19\\u0e27\\u0e19\", \"\\u0e08\\u0e33\\u0e19\\u0e27\\u0e19\", \"\\u0e08\\u0e33\\u0e19\\u0e27\\u0e19\", \"\\u0e08\\u0e33\\u0e19\\u0e2d\\u0e07\", \"\\u0e08\\u0e33\\u0e19\\u0e2d\\u0e07\", \"\\u0e08\\u0e33\\u0e19\\u0e2d\\u0e07\", \"\\u0e08\\u0e33\\u0e19\\u0e2d\\u0e07\", \"\\u0e08\\u0e33\\u0e19\\u0e2d\\u0e07\", \"\\u0e08\\u0e33\\u0e2b\\u0e19\\u0e48\\u0e32\\u0e22\", \"\\u0e08\\u0e33\\u0e2b\\u0e19\\u0e48\\u0e32\\u0e22\", \"\\u0e08\\u0e33\\u0e2b\\u0e19\\u0e48\\u0e32\\u0e22\", \"\\u0e08\\u0e33\\u0e2b\\u0e19\\u0e48\\u0e32\\u0e22\", \"\\u0e08\\u0e33\\u0e2b\\u0e19\\u0e48\\u0e32\\u0e22\", \"\\u0e08\\u0e33\\u0e40\\u0e25\\u0e22\", \"\\u0e08\\u0e33\\u0e40\\u0e25\\u0e22\", \"\\u0e08\\u0e33\\u0e40\\u0e25\\u0e22\", \"\\u0e08\\u0e33\\u0e40\\u0e25\\u0e22\", \"\\u0e08\\u0e33\\u0e40\\u0e25\\u0e22\", \"\\u0e08\\u0e48\\u0e32\\u0e22\", \"\\u0e08\\u0e48\\u0e32\\u0e22\", \"\\u0e08\\u0e48\\u0e32\\u0e22\", \"\\u0e08\\u0e48\\u0e32\\u0e22\", \"\\u0e08\\u0e48\\u0e32\\u0e22\", \"\\u0e08\\u0e48\\u0e32\\u0e22\\u0e40\\u0e07\\u0e34\\u0e19\\u0e40\\u0e14\\u0e37\\u0e2d\\u0e19\", \"\\u0e08\\u0e48\\u0e32\\u0e22\\u0e40\\u0e07\\u0e34\\u0e19\\u0e40\\u0e14\\u0e37\\u0e2d\\u0e19\", \"\\u0e08\\u0e48\\u0e32\\u0e22\\u0e40\\u0e07\\u0e34\\u0e19\\u0e40\\u0e14\\u0e37\\u0e2d\\u0e19\", \"\\u0e08\\u0e49\\u0e32\\u0e07\\u0e41\\u0e23\\u0e07\\u0e07\\u0e32\\u0e19\", \"\\u0e08\\u0e49\\u0e32\\u0e07\\u0e41\\u0e23\\u0e07\\u0e07\\u0e32\\u0e19\", \"\\u0e0a\\u0e31\\u0e48\\u0e27\\u0e42\\u0e21\\u0e07\", \"\\u0e0a\\u0e31\\u0e48\\u0e27\\u0e42\\u0e21\\u0e07\", \"\\u0e0a\\u0e31\\u0e48\\u0e27\\u0e42\\u0e21\\u0e07\", \"\\u0e0a\\u0e31\\u0e48\\u0e27\\u0e42\\u0e21\\u0e07\", \"\\u0e0a\\u0e31\\u0e48\\u0e27\\u0e42\\u0e21\\u0e07\", \"\\u0e0a\\u0e33\\u0e23\\u0e30\", \"\\u0e0a\\u0e33\\u0e23\\u0e30\", \"\\u0e0a\\u0e33\\u0e23\\u0e30\", \"\\u0e0a\\u0e33\\u0e23\\u0e30\", \"\\u0e0a\\u0e33\\u0e23\\u0e30\", \"\\u0e0a\\u0e33\\u0e23\\u0e30\\u0e1a\\u0e31\\u0e0d\\u0e0a\\u0e35\", \"\\u0e0a\\u0e33\\u0e23\\u0e30\\u0e2b\\u0e19\\u0e35\\u0e49\", \"\\u0e0a\\u0e33\\u0e23\\u0e30\\u0e2b\\u0e19\\u0e35\\u0e49\", \"\\u0e0a\\u0e33\\u0e23\\u0e30\\u0e2b\\u0e19\\u0e35\\u0e49\", \"\\u0e0a\\u0e33\\u0e23\\u0e30\\u0e2b\\u0e19\\u0e35\\u0e49\", \"\\u0e0a\\u0e33\\u0e23\\u0e30\\u0e2b\\u0e19\\u0e35\\u0e49\", \"\\u0e0a\\u0e33\\u0e23\\u0e38\\u0e14\", \"\\u0e0a\\u0e33\\u0e23\\u0e38\\u0e14\", \"\\u0e0a\\u0e33\\u0e23\\u0e38\\u0e14\", \"\\u0e0a\\u0e37\\u0e48\\u0e2d\", \"\\u0e0a\\u0e37\\u0e48\\u0e2d\", \"\\u0e0a\\u0e37\\u0e48\\u0e2d\", \"\\u0e0a\\u0e37\\u0e48\\u0e2d\", \"\\u0e0a\\u0e37\\u0e48\\u0e2d\", \"\\u0e0b\\u0e35\\u0e25\", \"\\u0e0b\\u0e37\\u0e49\\u0e2d\", \"\\u0e0b\\u0e37\\u0e49\\u0e2d\", \"\\u0e0b\\u0e37\\u0e49\\u0e2d\", \"\\u0e0b\\u0e37\\u0e49\\u0e2d\", \"\\u0e0b\\u0e37\\u0e49\\u0e2d\", \"\\u0e0b\\u0e49\\u0e2d\\u0e19\\u0e17\\u0e49\\u0e32\\u0e22\", \"\\u0e10\\u0e32\\u0e19\", \"\\u0e10\\u0e32\\u0e19\", \"\\u0e10\\u0e32\\u0e19\", \"\\u0e10\\u0e32\\u0e19\", \"\\u0e10\\u0e32\\u0e19\", \"\\u0e14\\u0e2d\\u0e01\\u0e40\\u0e1a\\u0e35\\u0e49\\u0e22\", \"\\u0e14\\u0e2d\\u0e01\\u0e40\\u0e1a\\u0e35\\u0e49\\u0e22\", \"\\u0e14\\u0e2d\\u0e01\\u0e40\\u0e1a\\u0e35\\u0e49\\u0e22\", \"\\u0e14\\u0e2d\\u0e01\\u0e40\\u0e1a\\u0e35\\u0e49\\u0e22\", \"\\u0e14\\u0e2d\\u0e01\\u0e40\\u0e1a\\u0e35\\u0e49\\u0e22\", \"\\u0e14\\u0e33\\u0e40\\u0e19\\u0e34\\u0e19\\u0e04\\u0e14\\u0e35\", \"\\u0e14\\u0e33\\u0e40\\u0e19\\u0e34\\u0e19\\u0e04\\u0e14\\u0e35\", \"\\u0e14\\u0e33\\u0e40\\u0e19\\u0e34\\u0e19\\u0e04\\u0e14\\u0e35\", \"\\u0e14\\u0e33\\u0e40\\u0e19\\u0e34\\u0e19\\u0e04\\u0e14\\u0e35\", \"\\u0e14\\u0e33\\u0e40\\u0e19\\u0e34\\u0e19\\u0e04\\u0e14\\u0e35\", \"\\u0e14\\u0e48\\u0e32\", \"\\u0e14\\u0e48\\u0e32\", \"\\u0e14\\u0e48\\u0e32\", \"\\u0e14\\u0e48\\u0e32\", \"\\u0e14\\u0e48\\u0e32\", \"\\u0e15\\u0e01\\u0e17\\u0e2d\\u0e14\", \"\\u0e15\\u0e01\\u0e17\\u0e2d\\u0e14\", \"\\u0e15\\u0e01\\u0e17\\u0e2d\\u0e14\", \"\\u0e15\\u0e23\\u0e27\\u0e08\", \"\\u0e15\\u0e23\\u0e27\\u0e08\", \"\\u0e15\\u0e23\\u0e27\\u0e08\", \"\\u0e15\\u0e23\\u0e27\\u0e08\", \"\\u0e15\\u0e23\\u0e27\\u0e08\", \"\\u0e15\\u0e23\\u0e27\\u0e08\\u0e04\\u0e49\\u0e19\", \"\\u0e15\\u0e2d\\u0e1a\", \"\\u0e15\\u0e2d\\u0e1a\", \"\\u0e15\\u0e2d\\u0e1a\", \"\\u0e15\\u0e2d\\u0e1a\", \"\\u0e15\\u0e2d\\u0e1a\", \"\\u0e15\\u0e31\\u0e14\\u0e2a\\u0e34\\u0e19\", \"\\u0e15\\u0e31\\u0e14\\u0e2a\\u0e34\\u0e19\", \"\\u0e15\\u0e31\\u0e14\\u0e2a\\u0e34\\u0e19\", \"\\u0e15\\u0e31\\u0e14\\u0e2a\\u0e34\\u0e19\", \"\\u0e15\\u0e31\\u0e14\\u0e2a\\u0e34\\u0e19\", \"\\u0e15\\u0e31\\u0e49\\u0e07\\u0e02\\u0e49\\u0e2d\\u0e2b\\u0e32\", \"\\u0e15\\u0e31\\u0e49\\u0e07\\u0e02\\u0e49\\u0e2d\\u0e2b\\u0e32\", \"\\u0e15\\u0e31\\u0e49\\u0e07\\u0e02\\u0e49\\u0e2d\\u0e2b\\u0e32\", \"\\u0e15\\u0e33\\u0e23\\u0e27\\u0e08\", \"\\u0e15\\u0e33\\u0e23\\u0e27\\u0e08\", \"\\u0e15\\u0e33\\u0e23\\u0e27\\u0e08\", \"\\u0e15\\u0e33\\u0e23\\u0e27\\u0e08\", \"\\u0e15\\u0e33\\u0e23\\u0e27\\u0e08\", \"\\u0e15\\u0e34\\u0e14\\u0e04\\u0e38\\u0e01\", \"\\u0e15\\u0e34\\u0e14\\u0e04\\u0e38\\u0e01\", \"\\u0e15\\u0e34\\u0e14\\u0e04\\u0e38\\u0e01\", \"\\u0e15\\u0e34\\u0e14\\u0e04\\u0e38\\u0e01\", \"\\u0e15\\u0e34\\u0e14\\u0e04\\u0e38\\u0e01\", \"\\u0e15\\u0e37\\u0e48\\u0e19\", \"\\u0e15\\u0e48\\u0e2d\\u0e22\", \"\\u0e15\\u0e48\\u0e2d\\u0e22\", \"\\u0e16\\u0e32\\u0e21\", \"\\u0e16\\u0e32\\u0e21\", \"\\u0e16\\u0e32\\u0e21\", \"\\u0e16\\u0e32\\u0e21\", \"\\u0e16\\u0e32\\u0e21\", \"\\u0e16\\u0e32\\u0e21\\u0e15\\u0e34\\u0e07\", \"\\u0e16\\u0e38\\u0e07\", \"\\u0e16\\u0e38\\u0e07\", \"\\u0e16\\u0e39\\u0e01\\u0e08\\u0e31\\u0e1a\", \"\\u0e16\\u0e39\\u0e01\\u0e08\\u0e31\\u0e1a\", \"\\u0e16\\u0e39\\u0e01\\u0e08\\u0e31\\u0e1a\", \"\\u0e16\\u0e39\\u0e01\\u0e08\\u0e31\\u0e1a\", \"\\u0e17\\u0e14\\u0e2a\\u0e2d\\u0e1a\", \"\\u0e17\\u0e14\\u0e2a\\u0e2d\\u0e1a\", \"\\u0e17\\u0e19\\u0e32\\u0e22\", \"\\u0e17\\u0e19\\u0e32\\u0e22\", \"\\u0e17\\u0e19\\u0e32\\u0e22\", \"\\u0e17\\u0e19\\u0e32\\u0e22\", \"\\u0e17\\u0e19\\u0e32\\u0e22\", \"\\u0e17\\u0e23\\u0e31\\u0e1e\\u0e22\\u0e4c\\u0e21\\u0e23\\u0e14\\u0e01\", \"\\u0e17\\u0e23\\u0e31\\u0e1e\\u0e22\\u0e4c\\u0e21\\u0e23\\u0e14\\u0e01\", \"\\u0e17\\u0e23\\u0e31\\u0e1e\\u0e22\\u0e4c\\u0e21\\u0e23\\u0e14\\u0e01\", \"\\u0e17\\u0e23\\u0e31\\u0e1e\\u0e22\\u0e4c\\u0e21\\u0e23\\u0e14\\u0e01\", \"\\u0e17\\u0e23\\u0e31\\u0e1e\\u0e22\\u0e4c\\u0e21\\u0e23\\u0e14\\u0e01\", \"\\u0e17\\u0e23\\u0e31\\u0e1e\\u0e22\\u0e4c\\u0e2a\\u0e34\\u0e19\", \"\\u0e17\\u0e23\\u0e31\\u0e1e\\u0e22\\u0e4c\\u0e2a\\u0e34\\u0e19\", \"\\u0e17\\u0e23\\u0e31\\u0e1e\\u0e22\\u0e4c\\u0e2a\\u0e34\\u0e19\", \"\\u0e17\\u0e23\\u0e31\\u0e1e\\u0e22\\u0e4c\\u0e2a\\u0e34\\u0e19\", \"\\u0e17\\u0e23\\u0e31\\u0e1e\\u0e22\\u0e4c\\u0e2a\\u0e34\\u0e19\", \"\\u0e17\\u0e23\\u0e32\\u0e1a\", \"\\u0e17\\u0e23\\u0e32\\u0e1a\", \"\\u0e17\\u0e23\\u0e32\\u0e1a\", \"\\u0e17\\u0e23\\u0e32\\u0e1a\", \"\\u0e17\\u0e23\\u0e32\\u0e1a\", \"\\u0e17\\u0e23\\u0e32\\u0e22\", \"\\u0e17\\u0e23\\u0e39\\u0e1f\\u0e34\\u0e15\\u0e40\\u0e19\\u0e2a\", \"\\u0e17\\u0e27\\u0e19\", \"\\u0e17\\u0e2d\\u0e07\\u0e04\\u0e33\", \"\\u0e17\\u0e32\\u0e07\\u0e2d\\u0e34\\u0e40\\u0e25\\u0e47\\u0e01\\u0e17\\u0e23\\u0e2d\\u0e19\\u0e34\\u0e01\\u0e2a\\u0e4c\", \"\\u0e17\\u0e32\\u0e22\\u0e32\\u0e17\", \"\\u0e17\\u0e32\\u0e22\\u0e32\\u0e17\", \"\\u0e17\\u0e32\\u0e22\\u0e32\\u0e17\", \"\\u0e17\\u0e32\\u0e22\\u0e32\\u0e17\", \"\\u0e17\\u0e32\\u0e22\\u0e32\\u0e17\", \"\\u0e17\\u0e32\\u0e22\\u0e32\\u0e17\\u0e42\\u0e14\\u0e22\\u0e18\\u0e23\\u0e23\\u0e21\", \"\\u0e17\\u0e32\\u0e22\\u0e32\\u0e17\\u0e42\\u0e14\\u0e22\\u0e18\\u0e23\\u0e23\\u0e21\", \"\\u0e17\\u0e32\\u0e22\\u0e32\\u0e17\\u0e42\\u0e14\\u0e22\\u0e18\\u0e23\\u0e23\\u0e21\", \"\\u0e17\\u0e33\\u0e07\\u0e32\\u0e19\", \"\\u0e17\\u0e33\\u0e07\\u0e32\\u0e19\", \"\\u0e17\\u0e33\\u0e07\\u0e32\\u0e19\", \"\\u0e17\\u0e33\\u0e07\\u0e32\\u0e19\", \"\\u0e17\\u0e33\\u0e07\\u0e32\\u0e19\", \"\\u0e17\\u0e33\\u0e1b\\u0e23\\u0e30\\u0e42\\u0e22\\u0e0a\\u0e19\\u0e4c\", \"\\u0e17\\u0e33\\u0e1b\\u0e23\\u0e30\\u0e42\\u0e22\\u0e0a\\u0e19\\u0e4c\", \"\\u0e17\\u0e34\\u0e2a\\u0e42\\u0e01\\u0e49\", \"\\u0e17\\u0e35\\u0e48\\u0e14\\u0e34\\u0e19\", \"\\u0e17\\u0e35\\u0e48\\u0e14\\u0e34\\u0e19\", \"\\u0e17\\u0e35\\u0e48\\u0e14\\u0e34\\u0e19\", \"\\u0e17\\u0e35\\u0e48\\u0e14\\u0e34\\u0e19\", \"\\u0e17\\u0e35\\u0e48\\u0e14\\u0e34\\u0e19\", \"\\u0e17\\u0e38\\u0e40\\u0e25\\u0e32\", \"\\u0e17\\u0e49\\u0e32\\u0e27\", \"\\u0e17\\u0e49\\u0e32\\u0e27\", \"\\u0e18\\u0e19\\u0e1a\\u0e31\\u0e15\\u0e23\", \"\\u0e18\\u0e19\\u0e32\\u0e04\\u0e32\\u0e23\", \"\\u0e18\\u0e19\\u0e32\\u0e04\\u0e32\\u0e23\", \"\\u0e18\\u0e19\\u0e32\\u0e04\\u0e32\\u0e23\", \"\\u0e18\\u0e19\\u0e32\\u0e04\\u0e32\\u0e23\", \"\\u0e18\\u0e19\\u0e32\\u0e04\\u0e32\\u0e23\", \"\\u0e18\\u0e2d\\u0e2a\", \"\\u0e18\\u0e2d\\u0e2a\", \"\\u0e19\\u0e17\", \"\\u0e19\\u0e17\", \"\\u0e19\\u0e1e\", \"\\u0e19\\u0e1e\", \"\\u0e19\\u0e1e\", \"\\u0e19\\u0e1e\", \"\\u0e19\\u0e32\\u0e22\\u0e08\\u0e49\\u0e32\\u0e07\", \"\\u0e19\\u0e32\\u0e22\\u0e08\\u0e49\\u0e32\\u0e07\", \"\\u0e19\\u0e32\\u0e22\\u0e08\\u0e49\\u0e32\\u0e07\", \"\\u0e19\\u0e32\\u0e22\\u0e08\\u0e49\\u0e32\\u0e07\", \"\\u0e19\\u0e32\\u0e22\\u0e08\\u0e49\\u0e32\\u0e07\", \"\\u0e19\\u0e34\\u0e20\\u0e32\", \"\\u0e19\\u0e39\\u0e48\", \"\\u0e19\\u0e49\\u0e2d\\u0e07\", \"\\u0e19\\u0e49\\u0e2d\\u0e07\", \"\\u0e19\\u0e49\\u0e2d\\u0e07\", \"\\u0e19\\u0e49\\u0e2d\\u0e07\", \"\\u0e19\\u0e49\\u0e2d\\u0e07\", \"\\u0e19\\u0e49\\u0e33\\u0e21\\u0e31\\u0e19\\u0e40\\u0e04\\u0e23\\u0e37\\u0e48\\u0e2d\\u0e07\", \"\\u0e1a\\u0e23\\u0e34\\u0e29\\u0e31\\u0e17\", \"\\u0e1a\\u0e23\\u0e34\\u0e29\\u0e31\\u0e17\", \"\\u0e1a\\u0e23\\u0e34\\u0e29\\u0e31\\u0e17\", \"\\u0e1a\\u0e23\\u0e34\\u0e29\\u0e31\\u0e17\", \"\\u0e1a\\u0e23\\u0e34\\u0e29\\u0e31\\u0e17\", \"\\u0e1a\\u0e23\\u0e34\\u0e2a\\u0e38\\u0e17\\u0e18\\u0e34\\u0e4c\", \"\\u0e1a\\u0e23\\u0e34\\u0e2a\\u0e38\\u0e17\\u0e18\\u0e34\\u0e4c\", \"\\u0e1a\\u0e23\\u0e34\\u0e2a\\u0e38\\u0e17\\u0e18\\u0e34\\u0e4c\", \"\\u0e1a\\u0e2a\\u0e01\", \"\\u0e1a\\u0e2d\\u0e2a\", \"\\u0e1a\\u0e31\\u0e07\\u0e04\\u0e31\\u0e1a\", \"\\u0e1a\\u0e31\\u0e07\\u0e04\\u0e31\\u0e1a\", \"\\u0e1a\\u0e31\\u0e07\\u0e04\\u0e31\\u0e1a\", \"\\u0e1a\\u0e31\\u0e07\\u0e04\\u0e31\\u0e1a\", \"\\u0e1a\\u0e31\\u0e07\\u0e04\\u0e31\\u0e1a\", \"\\u0e1a\\u0e31\\u0e0d\\u0e0a\\u0e35\\u0e14\\u0e33\", \"\\u0e1a\\u0e31\\u0e0d\\u0e0a\\u0e35\\u0e14\\u0e33\", \"\\u0e1a\\u0e31\\u0e0d\\u0e0a\\u0e35\\u0e14\\u0e33\", \"\\u0e1a\\u0e31\\u0e15\\u0e23\\u0e40\\u0e04\\u0e23\\u0e14\\u0e34\\u0e15\", \"\\u0e1a\\u0e31\\u0e15\\u0e23\\u0e40\\u0e04\\u0e23\\u0e14\\u0e34\\u0e15\", \"\\u0e1a\\u0e31\\u0e15\\u0e23\\u0e40\\u0e04\\u0e23\\u0e14\\u0e34\\u0e15\", \"\\u0e1a\\u0e31\\u0e15\\u0e23\\u0e40\\u0e04\\u0e23\\u0e14\\u0e34\\u0e15\", \"\\u0e1a\\u0e31\\u0e15\\u0e23\\u0e40\\u0e04\\u0e23\\u0e14\\u0e34\\u0e15\", \"\\u0e1a\\u0e31\\u0e19\\u0e17\\u0e36\\u0e01\\u0e20\\u0e32\\u0e1e\", \"\\u0e1a\\u0e32\\u0e07\\u0e2a\\u0e34\\u0e48\\u0e07\", \"\\u0e1a\\u0e32\\u0e17\", \"\\u0e1a\\u0e32\\u0e17\", \"\\u0e1a\\u0e32\\u0e17\", \"\\u0e1a\\u0e32\\u0e17\", \"\\u0e1a\\u0e32\\u0e17\", \"\\u0e1a\\u0e34\\u0e14\\u0e32\", \"\\u0e1a\\u0e34\\u0e14\\u0e32\", \"\\u0e1a\\u0e34\\u0e14\\u0e32\", \"\\u0e1a\\u0e34\\u0e14\\u0e32\", \"\\u0e1a\\u0e34\\u0e14\\u0e32\", \"\\u0e1a\\u0e35\", \"\\u0e1a\\u0e35\", \"\\u0e1a\\u0e35\", \"\\u0e1a\\u0e35\", \"\\u0e1a\\u0e38\\u0e04\\u0e04\\u0e25\\u0e25\\u0e49\\u0e21\\u0e25\\u0e30\\u0e25\\u0e32\\u0e22\", \"\\u0e1a\\u0e38\\u0e04\\u0e04\\u0e25\\u0e25\\u0e49\\u0e21\\u0e25\\u0e30\\u0e25\\u0e32\\u0e22\", \"\\u0e1a\\u0e38\\u0e04\\u0e04\\u0e25\\u0e25\\u0e49\\u0e21\\u0e25\\u0e30\\u0e25\\u0e32\\u0e22\", \"\\u0e1a\\u0e38\\u0e04\\u0e04\\u0e25\\u0e25\\u0e49\\u0e21\\u0e25\\u0e30\\u0e25\\u0e32\\u0e22\", \"\\u0e1a\\u0e38\\u0e15\\u0e23\", \"\\u0e1a\\u0e38\\u0e15\\u0e23\", \"\\u0e1a\\u0e38\\u0e15\\u0e23\", \"\\u0e1a\\u0e38\\u0e15\\u0e23\", \"\\u0e1a\\u0e38\\u0e15\\u0e23\", \"\\u0e1a\\u0e38\\u0e15\\u0e23\\u0e1a\\u0e38\\u0e0d\\u0e18\\u0e23\\u0e23\\u0e21\", \"\\u0e1a\\u0e38\\u0e15\\u0e23\\u0e1a\\u0e38\\u0e0d\\u0e18\\u0e23\\u0e23\\u0e21\", \"\\u0e1a\\u0e38\\u0e15\\u0e23\\u0e1a\\u0e38\\u0e0d\\u0e18\\u0e23\\u0e23\\u0e21\", \"\\u0e1a\\u0e49\\u0e32\\u0e19\", \"\\u0e1a\\u0e49\\u0e32\\u0e19\", \"\\u0e1a\\u0e49\\u0e32\\u0e19\", \"\\u0e1a\\u0e49\\u0e32\\u0e19\", \"\\u0e1a\\u0e49\\u0e32\\u0e19\", \"\\u0e1b\", \"\\u0e1b\", \"\\u0e1b\", \"\\u0e1b\", \"\\u0e1b\", \"\\u0e1b\\u0e01\\u0e04\\u0e23\\u0e2d\\u0e07\", \"\\u0e1b\\u0e01\\u0e04\\u0e23\\u0e2d\\u0e07\", \"\\u0e1b\\u0e01\\u0e04\\u0e23\\u0e2d\\u0e07\", \"\\u0e1b\\u0e01\\u0e04\\u0e23\\u0e2d\\u0e07\", \"\\u0e1b\\u0e01\\u0e04\\u0e23\\u0e2d\\u0e07\", \"\\u0e1b\\u0e1e\\u0e1e\", \"\\u0e1b\\u0e1e\\u0e1e\", \"\\u0e1b\\u0e1e\\u0e1e\", \"\\u0e1b\\u0e1e\\u0e1e\", \"\\u0e1b\\u0e1e\\u0e1e\", \"\\u0e1b\\u0e23\\u0e30\\u0e01\\u0e31\\u0e19\\u0e15\\u0e31\\u0e27\", \"\\u0e1b\\u0e23\\u0e30\\u0e01\\u0e31\\u0e19\\u0e15\\u0e31\\u0e27\", \"\\u0e1b\\u0e23\\u0e30\\u0e01\\u0e31\\u0e19\\u0e15\\u0e31\\u0e27\", \"\\u0e1b\\u0e23\\u0e30\\u0e01\\u0e31\\u0e19\\u0e15\\u0e31\\u0e27\", \"\\u0e1b\\u0e23\\u0e30\\u0e01\\u0e31\\u0e19\\u0e15\\u0e31\\u0e27\", \"\\u0e1b\\u0e23\\u0e30\\u0e01\\u0e31\\u0e19\\u0e2a\\u0e31\\u0e07\\u0e04\\u0e21\", \"\\u0e1b\\u0e23\\u0e30\\u0e01\\u0e31\\u0e19\\u0e2a\\u0e31\\u0e07\\u0e04\\u0e21\", \"\\u0e1b\\u0e23\\u0e30\\u0e01\\u0e31\\u0e19\\u0e2a\\u0e31\\u0e07\\u0e04\\u0e21\", \"\\u0e1b\\u0e23\\u0e30\\u0e01\\u0e31\\u0e19\\u0e2a\\u0e31\\u0e07\\u0e04\\u0e21\", \"\\u0e1b\\u0e23\\u0e30\\u0e01\\u0e31\\u0e19\\u0e2a\\u0e31\\u0e07\\u0e04\\u0e21\", \"\\u0e1b\\u0e23\\u0e30\\u0e17\\u0e31\\u0e1a\", \"\\u0e1b\\u0e23\\u0e30\\u0e19\\u0e2d\\u0e21\\u0e2b\\u0e19\\u0e35\\u0e49\", \"\\u0e1b\\u0e23\\u0e30\\u0e19\\u0e2d\\u0e21\\u0e2b\\u0e19\\u0e35\\u0e49\", \"\\u0e1b\\u0e23\\u0e30\\u0e19\\u0e2d\\u0e21\\u0e2b\\u0e19\\u0e35\\u0e49\", \"\\u0e1b\\u0e23\\u0e30\\u0e19\\u0e2d\\u0e21\\u0e2b\\u0e19\\u0e35\\u0e49\", \"\\u0e1b\\u0e23\\u0e30\\u0e19\\u0e2d\\u0e21\\u0e2b\\u0e19\\u0e35\\u0e49\", \"\\u0e1b\\u0e23\\u0e30\\u0e40\\u0e21\\u0e34\\u0e19\\u0e20\\u0e32\\u0e29\\u0e35\", \"\\u0e1b\\u0e23\\u0e31\\u0e1a\\u0e42\\u0e04\\u0e23\\u0e07\\u0e2a\\u0e23\\u0e49\\u0e32\\u0e07\", \"\\u0e1b\\u0e23\\u0e31\\u0e1a\\u0e42\\u0e04\\u0e23\\u0e07\\u0e2a\\u0e23\\u0e49\\u0e32\\u0e07\", \"\\u0e1b\\u0e23\\u0e31\\u0e1a\\u0e42\\u0e04\\u0e23\\u0e07\\u0e2a\\u0e23\\u0e49\\u0e32\\u0e07\", \"\\u0e1b\\u0e23\\u0e31\\u0e1a\\u0e42\\u0e04\\u0e23\\u0e07\\u0e2a\\u0e23\\u0e49\\u0e32\\u0e07\", \"\\u0e1b\\u0e23\\u0e32\\u0e19\\u0e35\", \"\\u0e1b\\u0e23\\u0e32\\u0e19\\u0e35\", \"\\u0e1b\\u0e23\\u0e32\\u0e19\\u0e35\", \"\\u0e1b\\u0e23\\u0e32\\u0e19\\u0e35\", \"\\u0e1b\\u0e23\\u0e34\\u0e21\\u0e32\\u0e13\", \"\\u0e1b\\u0e23\\u0e34\\u0e21\\u0e32\\u0e13\", \"\\u0e1b\\u0e23\\u0e34\\u0e21\\u0e32\\u0e13\", \"\\u0e1b\\u0e23\\u0e34\\u0e21\\u0e32\\u0e13\", \"\\u0e1b\\u0e25\\u0e48\\u0e2d\\u0e22\\u0e0a\\u0e31\\u0e48\\u0e27\\u0e04\\u0e23\\u0e32\\u0e27\", \"\\u0e1b\\u0e2d\", \"\\u0e1b\\u0e2d\", \"\\u0e1b\\u0e2d\", \"\\u0e1b\\u0e2d\", \"\\u0e1b\\u0e2d\", \"\\u0e1b\\u0e2d\\u0e21\", \"\\u0e1b\\u0e2d\\u0e21\", \"\\u0e1b\\u0e2d\\u0e21\", \"\\u0e1b\\u0e2d\\u0e21\", \"\\u0e1b\\u0e37\\u0e19\", \"\\u0e1b\\u0e37\\u0e19\", \"\\u0e1b\\u0e37\\u0e19\", \"\\u0e1b\\u0e37\\u0e19\", \"\\u0e1b\\u0e37\\u0e19\", \"\\u0e1b\\u0e39\\u0e48\", \"\\u0e1b\\u0e39\\u0e48\", \"\\u0e1b\\u0e39\\u0e48\", \"\\u0e1b\\u0e39\\u0e48\", \"\\u0e1c\\u0e25\\u0e23\\u0e49\\u0e32\\u0e22\", \"\\u0e1c\\u0e2a\\u0e21\", \"\\u0e1c\\u0e39\\u0e49\\u0e04\\u0e49\\u0e33\\u0e1b\\u0e23\\u0e30\\u0e01\\u0e31\\u0e19\", \"\\u0e1c\\u0e39\\u0e49\\u0e04\\u0e49\\u0e33\\u0e1b\\u0e23\\u0e30\\u0e01\\u0e31\\u0e19\", \"\\u0e1c\\u0e39\\u0e49\\u0e04\\u0e49\\u0e33\\u0e1b\\u0e23\\u0e30\\u0e01\\u0e31\\u0e19\", \"\\u0e1c\\u0e39\\u0e49\\u0e04\\u0e49\\u0e33\\u0e1b\\u0e23\\u0e30\\u0e01\\u0e31\\u0e19\", \"\\u0e1c\\u0e39\\u0e49\\u0e04\\u0e49\\u0e33\\u0e1b\\u0e23\\u0e30\\u0e01\\u0e31\\u0e19\", \"\\u0e1c\\u0e39\\u0e49\\u0e08\\u0e31\\u0e14\\u0e01\\u0e32\\u0e23\\u0e17\\u0e31\\u0e48\\u0e27\\u0e44\\u0e1b\", \"\\u0e1c\\u0e39\\u0e49\\u0e08\\u0e31\\u0e14\\u0e01\\u0e32\\u0e23\\u0e21\\u0e23\\u0e14\\u0e01\", \"\\u0e1c\\u0e39\\u0e49\\u0e08\\u0e31\\u0e14\\u0e01\\u0e32\\u0e23\\u0e21\\u0e23\\u0e14\\u0e01\", \"\\u0e1c\\u0e39\\u0e49\\u0e08\\u0e31\\u0e14\\u0e01\\u0e32\\u0e23\\u0e21\\u0e23\\u0e14\\u0e01\", \"\\u0e1c\\u0e39\\u0e49\\u0e08\\u0e31\\u0e14\\u0e01\\u0e32\\u0e23\\u0e21\\u0e23\\u0e14\\u0e01\", \"\\u0e1c\\u0e39\\u0e49\\u0e08\\u0e31\\u0e14\\u0e01\\u0e32\\u0e23\\u0e21\\u0e23\\u0e14\\u0e01\", \"\\u0e1c\\u0e39\\u0e49\\u0e08\\u0e33\\u0e19\\u0e33\", \"\\u0e1c\\u0e39\\u0e49\\u0e17\\u0e23\\u0e07\", \"\\u0e1c\\u0e39\\u0e49\\u0e17\\u0e23\\u0e07\", \"\\u0e1c\\u0e39\\u0e49\\u0e23\\u0e31\\u0e1a\\u0e08\\u0e33\\u0e19\\u0e2d\\u0e07\", \"\\u0e1c\\u0e39\\u0e49\\u0e23\\u0e31\\u0e1a\\u0e08\\u0e33\\u0e19\\u0e2d\\u0e07\", \"\\u0e1c\\u0e39\\u0e49\\u0e23\\u0e31\\u0e1a\\u0e08\\u0e33\\u0e19\\u0e33\", \"\\u0e1c\\u0e39\\u0e49\\u0e2a\\u0e31\\u0e48\\u0e07\\u0e08\\u0e48\\u0e32\\u0e22\", \"\\u0e1c\\u0e39\\u0e49\\u0e2a\\u0e37\\u0e1a\\u0e2a\\u0e31\\u0e19\\u0e14\\u0e32\\u0e19\", \"\\u0e1c\\u0e39\\u0e49\\u0e2a\\u0e37\\u0e1a\\u0e2a\\u0e31\\u0e19\\u0e14\\u0e32\\u0e19\", \"\\u0e1c\\u0e39\\u0e49\\u0e40\\u0e2a\\u0e35\\u0e22\\u0e2b\\u0e32\\u0e22\", \"\\u0e1c\\u0e39\\u0e49\\u0e40\\u0e2a\\u0e35\\u0e22\\u0e2b\\u0e32\\u0e22\", \"\\u0e1c\\u0e39\\u0e49\\u0e40\\u0e2a\\u0e35\\u0e22\\u0e2b\\u0e32\\u0e22\", \"\\u0e1c\\u0e39\\u0e49\\u0e40\\u0e2a\\u0e35\\u0e22\\u0e2b\\u0e32\\u0e22\", \"\\u0e1c\\u0e39\\u0e49\\u0e40\\u0e2a\\u0e35\\u0e22\\u0e2b\\u0e32\\u0e22\", \"\\u0e1c\\u0e39\\u0e49\\u0e43\\u0e0a\\u0e49\\u0e2d\\u0e33\\u0e19\\u0e32\\u0e08\\u0e1b\\u0e01\\u0e04\\u0e23\\u0e2d\\u0e07\", \"\\u0e1c\\u0e48\\u0e2d\\u0e19\", \"\\u0e1c\\u0e48\\u0e2d\\u0e19\", \"\\u0e1c\\u0e48\\u0e2d\\u0e19\", \"\\u0e1c\\u0e48\\u0e2d\\u0e19\", \"\\u0e1c\\u0e48\\u0e2d\\u0e19\", \"\\u0e1e\\u0e19\\u0e31\\u0e01\\u0e07\\u0e32\\u0e19\", \"\\u0e1e\\u0e19\\u0e31\\u0e01\\u0e07\\u0e32\\u0e19\", \"\\u0e1e\\u0e19\\u0e31\\u0e01\\u0e07\\u0e32\\u0e19\", \"\\u0e1e\\u0e19\\u0e31\\u0e01\\u0e07\\u0e32\\u0e19\", \"\\u0e1e\\u0e19\\u0e31\\u0e01\\u0e07\\u0e32\\u0e19\", \"\\u0e1e\\u0e19\\u0e31\\u0e01\\u0e07\\u0e32\\u0e19\\u0e2a\\u0e2d\\u0e1a\\u0e2a\\u0e27\\u0e19\", \"\\u0e1e\\u0e19\\u0e31\\u0e01\\u0e07\\u0e32\\u0e19\\u0e2a\\u0e2d\\u0e1a\\u0e2a\\u0e27\\u0e19\", \"\\u0e1e\\u0e19\\u0e31\\u0e01\\u0e07\\u0e32\\u0e19\\u0e2a\\u0e2d\\u0e1a\\u0e2a\\u0e27\\u0e19\", \"\\u0e1e\\u0e19\\u0e31\\u0e01\\u0e07\\u0e32\\u0e19\\u0e2a\\u0e2d\\u0e1a\\u0e2a\\u0e27\\u0e19\", \"\\u0e1e\\u0e19\\u0e31\\u0e01\\u0e07\\u0e32\\u0e19\\u0e2a\\u0e2d\\u0e1a\\u0e2a\\u0e27\\u0e19\", \"\\u0e1e\\u0e22\\u0e32\\u0e19\\u0e2b\\u0e25\\u0e31\\u0e01\\u0e10\\u0e32\\u0e19\", \"\\u0e1e\\u0e22\\u0e32\\u0e19\\u0e2b\\u0e25\\u0e31\\u0e01\\u0e10\\u0e32\\u0e19\", \"\\u0e1e\\u0e22\\u0e32\\u0e19\\u0e2b\\u0e25\\u0e31\\u0e01\\u0e10\\u0e32\\u0e19\", \"\\u0e1e\\u0e22\\u0e32\\u0e19\\u0e2b\\u0e25\\u0e31\\u0e01\\u0e10\\u0e32\\u0e19\", \"\\u0e1e\\u0e22\\u0e32\\u0e19\\u0e2b\\u0e25\\u0e31\\u0e01\\u0e10\\u0e32\\u0e19\", \"\\u0e1e\\u0e34\\u0e08\\u0e32\\u0e23\\u0e13\\u0e32\", \"\\u0e1e\\u0e34\\u0e08\\u0e32\\u0e23\\u0e13\\u0e32\", \"\\u0e1e\\u0e34\\u0e08\\u0e32\\u0e23\\u0e13\\u0e32\", \"\\u0e1e\\u0e34\\u0e08\\u0e32\\u0e23\\u0e13\\u0e32\", \"\\u0e1e\\u0e34\\u0e08\\u0e32\\u0e23\\u0e13\\u0e32\", \"\\u0e1e\\u0e34\\u0e19\\u0e31\\u0e22\\u0e01\\u0e23\\u0e23\\u0e21\", \"\\u0e1e\\u0e34\\u0e19\\u0e31\\u0e22\\u0e01\\u0e23\\u0e23\\u0e21\", \"\\u0e1e\\u0e34\\u0e19\\u0e31\\u0e22\\u0e01\\u0e23\\u0e23\\u0e21\", \"\\u0e1e\\u0e34\\u0e19\\u0e31\\u0e22\\u0e01\\u0e23\\u0e23\\u0e21\", \"\\u0e1e\\u0e34\\u0e19\\u0e31\\u0e22\\u0e01\\u0e23\\u0e23\\u0e21\", \"\\u0e1e\\u0e34\\u0e1e\\u0e32\\u0e01\\u0e29\\u0e32\", \"\\u0e1e\\u0e34\\u0e1e\\u0e32\\u0e01\\u0e29\\u0e32\", \"\\u0e1e\\u0e34\\u0e1e\\u0e32\\u0e01\\u0e29\\u0e32\", \"\\u0e1e\\u0e34\\u0e1e\\u0e32\\u0e01\\u0e29\\u0e32\", \"\\u0e1e\\u0e34\\u0e1e\\u0e32\\u0e01\\u0e29\\u0e32\", \"\\u0e1e\\u0e48\\u0e2d\", \"\\u0e1e\\u0e48\\u0e2d\", \"\\u0e1e\\u0e48\\u0e2d\", \"\\u0e1e\\u0e48\\u0e2d\", \"\\u0e1e\\u0e48\\u0e2d\", \"\\u0e1f\\u0e49\\u0e2d\\u0e07\", \"\\u0e1f\\u0e49\\u0e2d\\u0e07\", \"\\u0e1f\\u0e49\\u0e2d\\u0e07\", \"\\u0e1f\\u0e49\\u0e2d\\u0e07\", \"\\u0e1f\\u0e49\\u0e2d\\u0e07\", \"\\u0e1f\\u0e49\\u0e2d\\u0e07\\u0e2b\\u0e22\\u0e48\\u0e32\", \"\\u0e1f\\u0e49\\u0e2d\\u0e07\\u0e2b\\u0e22\\u0e48\\u0e32\", \"\\u0e1f\\u0e49\\u0e2d\\u0e07\\u0e2b\\u0e22\\u0e48\\u0e32\", \"\\u0e1f\\u0e49\\u0e2d\\u0e07\\u0e2b\\u0e22\\u0e48\\u0e32\", \"\\u0e1f\\u0e49\\u0e2d\\u0e07\\u0e2b\\u0e22\\u0e48\\u0e32\", \"\\u0e20\\u0e23\\u0e23\\u0e22\\u0e32\", \"\\u0e20\\u0e23\\u0e23\\u0e22\\u0e32\", \"\\u0e20\\u0e23\\u0e23\\u0e22\\u0e32\", \"\\u0e20\\u0e23\\u0e23\\u0e22\\u0e32\", \"\\u0e20\\u0e23\\u0e23\\u0e22\\u0e32\", \"\\u0e20\\u0e23\\u0e23\\u0e22\\u0e32\\u0e40\\u0e01\\u0e48\\u0e32\", \"\\u0e20\\u0e23\\u0e23\\u0e22\\u0e32\\u0e40\\u0e01\\u0e48\\u0e32\", \"\\u0e20\\u0e23\\u0e23\\u0e22\\u0e32\\u0e40\\u0e01\\u0e48\\u0e32\", \"\\u0e20\\u0e23\\u0e34\\u0e22\\u0e32\", \"\\u0e20\\u0e23\\u0e34\\u0e22\\u0e32\", \"\\u0e20\\u0e23\\u0e34\\u0e22\\u0e32\", \"\\u0e20\\u0e23\\u0e34\\u0e22\\u0e32\", \"\\u0e20\\u0e23\\u0e34\\u0e22\\u0e32\", \"\\u0e20\\u0e32\\u0e29\\u0e35\\u0e21\\u0e39\\u0e25\\u0e04\\u0e48\\u0e32\\u0e40\\u0e1e\\u0e34\\u0e48\\u0e21\", \"\\u0e21\\u0e23\\u0e14\\u0e01\", \"\\u0e21\\u0e23\\u0e14\\u0e01\", \"\\u0e21\\u0e23\\u0e14\\u0e01\", \"\\u0e21\\u0e23\\u0e14\\u0e01\", \"\\u0e21\\u0e23\\u0e14\\u0e01\", \"\\u0e21\\u0e23\\u0e14\\u0e01\\u0e15\\u0e01\\u0e17\\u0e2d\\u0e14\", \"\\u0e21\\u0e32\\u0e15\\u0e23\\u0e32\", \"\\u0e21\\u0e32\\u0e15\\u0e23\\u0e32\", \"\\u0e21\\u0e32\\u0e15\\u0e23\\u0e32\", \"\\u0e21\\u0e32\\u0e15\\u0e23\\u0e32\", \"\\u0e21\\u0e32\\u0e15\\u0e23\\u0e32\", \"\\u0e21\\u0e32\\u0e23\\u0e14\\u0e32\", \"\\u0e21\\u0e32\\u0e23\\u0e14\\u0e32\", \"\\u0e21\\u0e32\\u0e23\\u0e14\\u0e32\", \"\\u0e21\\u0e32\\u0e23\\u0e14\\u0e32\", \"\\u0e21\\u0e32\\u0e23\\u0e14\\u0e32\", \"\\u0e21\\u0e34\\u0e25\\u0e25\\u0e34\\u0e01\\u0e23\\u0e31\\u0e21\", \"\\u0e22\\u0e31\\u0e14\", \"\\u0e22\\u0e32\", \"\\u0e22\\u0e32\", \"\\u0e22\\u0e32\", \"\\u0e22\\u0e32\", \"\\u0e22\\u0e32\", \"\\u0e22\\u0e32\\u0e1a\\u0e49\\u0e32\", \"\\u0e22\\u0e32\\u0e1a\\u0e49\\u0e32\", \"\\u0e22\\u0e32\\u0e1a\\u0e49\\u0e32\", \"\\u0e22\\u0e32\\u0e1a\\u0e49\\u0e32\", \"\\u0e22\\u0e32\\u0e1a\\u0e49\\u0e32\", \"\\u0e22\\u0e32\\u0e22\", \"\\u0e22\\u0e32\\u0e22\", \"\\u0e22\\u0e32\\u0e22\", \"\\u0e22\\u0e32\\u0e22\", \"\\u0e22\\u0e32\\u0e22\", \"\\u0e22\\u0e32\\u0e40\\u0e2a\\u0e1e\\u0e15\\u0e34\\u0e14\", \"\\u0e22\\u0e32\\u0e40\\u0e2a\\u0e1e\\u0e15\\u0e34\\u0e14\", \"\\u0e22\\u0e32\\u0e40\\u0e2a\\u0e1e\\u0e15\\u0e34\\u0e14\", \"\\u0e22\\u0e32\\u0e40\\u0e2a\\u0e1e\\u0e15\\u0e34\\u0e14\", \"\\u0e22\\u0e32\\u0e40\\u0e2a\\u0e1e\\u0e15\\u0e34\\u0e14\", \"\\u0e22\\u0e36\\u0e14\", \"\\u0e22\\u0e36\\u0e14\", \"\\u0e22\\u0e36\\u0e14\", \"\\u0e22\\u0e36\\u0e14\", \"\\u0e22\\u0e36\\u0e14\", \"\\u0e22\\u0e36\\u0e14\\u0e17\\u0e23\\u0e31\\u0e1e\\u0e22\\u0e4c\", \"\\u0e22\\u0e36\\u0e14\\u0e17\\u0e23\\u0e31\\u0e1e\\u0e22\\u0e4c\", \"\\u0e22\\u0e36\\u0e14\\u0e17\\u0e23\\u0e31\\u0e1e\\u0e22\\u0e4c\", \"\\u0e22\\u0e36\\u0e14\\u0e17\\u0e23\\u0e31\\u0e1e\\u0e22\\u0e4c\", \"\\u0e22\\u0e36\\u0e14\\u0e17\\u0e23\\u0e31\\u0e1e\\u0e22\\u0e4c\", \"\\u0e22\\u0e37\\u0e48\\u0e19\", \"\\u0e22\\u0e37\\u0e48\\u0e19\", \"\\u0e22\\u0e37\\u0e48\\u0e19\", \"\\u0e22\\u0e37\\u0e48\\u0e19\", \"\\u0e22\\u0e37\\u0e48\\u0e19\", \"\\u0e22\\u0e48\\u0e32\", \"\\u0e22\\u0e48\\u0e32\", \"\\u0e22\\u0e48\\u0e32\", \"\\u0e22\\u0e48\\u0e32\", \"\\u0e23\\u0e16\", \"\\u0e23\\u0e16\", \"\\u0e23\\u0e16\", \"\\u0e23\\u0e16\", \"\\u0e23\\u0e16\", \"\\u0e23\\u0e1a\\u0e01\\u0e27\\u0e19\", \"\\u0e23\\u0e1a\\u0e01\\u0e27\\u0e19\", \"\\u0e23\\u0e1a\\u0e01\\u0e27\\u0e19\", \"\\u0e23\\u0e1a\\u0e01\\u0e27\\u0e19\", \"\\u0e23\\u0e1a\\u0e01\\u0e27\\u0e19\", \"\\u0e23\\u0e2d\", \"\\u0e23\\u0e2d\", \"\\u0e23\\u0e2d\", \"\\u0e23\\u0e2d\", \"\\u0e23\\u0e2d\", \"\\u0e23\\u0e30\\u0e22\\u0e30\\u0e40\\u0e27\\u0e25\\u0e32\", \"\\u0e23\\u0e30\\u0e22\\u0e30\\u0e40\\u0e27\\u0e25\\u0e32\", \"\\u0e23\\u0e30\\u0e22\\u0e30\\u0e40\\u0e27\\u0e25\\u0e32\", \"\\u0e23\\u0e30\\u0e22\\u0e30\\u0e40\\u0e27\\u0e25\\u0e32\", \"\\u0e23\\u0e30\\u0e22\\u0e30\\u0e40\\u0e27\\u0e25\\u0e32\", \"\\u0e23\\u0e30\\u0e27\\u0e32\\u0e07\\u0e42\\u0e17\\u0e29\", \"\\u0e23\\u0e30\\u0e27\\u0e32\\u0e07\\u0e42\\u0e17\\u0e29\", \"\\u0e23\\u0e30\\u0e27\\u0e32\\u0e07\\u0e42\\u0e17\\u0e29\", \"\\u0e23\\u0e30\\u0e27\\u0e32\\u0e07\\u0e42\\u0e17\\u0e29\", \"\\u0e23\\u0e30\\u0e27\\u0e32\\u0e07\\u0e42\\u0e17\\u0e29\", \"\\u0e23\\u0e31\\u0e0a\", \"\\u0e23\\u0e31\\u0e1a\\u0e1c\\u0e34\\u0e14\\u0e0a\\u0e2d\\u0e1a\", \"\\u0e23\\u0e31\\u0e1a\\u0e1c\\u0e34\\u0e14\\u0e0a\\u0e2d\\u0e1a\", \"\\u0e23\\u0e31\\u0e1a\\u0e1c\\u0e34\\u0e14\\u0e0a\\u0e2d\\u0e1a\", \"\\u0e23\\u0e31\\u0e1a\\u0e1c\\u0e34\\u0e14\\u0e0a\\u0e2d\\u0e1a\", \"\\u0e23\\u0e31\\u0e1a\\u0e1c\\u0e34\\u0e14\\u0e0a\\u0e2d\\u0e1a\", \"\\u0e23\\u0e31\\u0e1a\\u0e21\\u0e23\\u0e14\\u0e01\", \"\\u0e23\\u0e31\\u0e1a\\u0e21\\u0e23\\u0e14\\u0e01\", \"\\u0e23\\u0e31\\u0e1a\\u0e21\\u0e23\\u0e14\\u0e01\", \"\\u0e23\\u0e31\\u0e1a\\u0e21\\u0e23\\u0e14\\u0e01\", \"\\u0e23\\u0e31\\u0e1a\\u0e2a\\u0e20\\u0e32\\u0e1e\", \"\\u0e23\\u0e31\\u0e1a\\u0e2a\\u0e20\\u0e32\\u0e1e\", \"\\u0e23\\u0e31\\u0e1a\\u0e2a\\u0e20\\u0e32\\u0e1e\", \"\\u0e23\\u0e31\\u0e1a\\u0e2a\\u0e20\\u0e32\\u0e1e\", \"\\u0e23\\u0e31\\u0e1a\\u0e2a\\u0e20\\u0e32\\u0e1e\", \"\\u0e23\\u0e32\\u0e07\\u0e27\\u0e31\\u0e25\", \"\\u0e23\\u0e32\\u0e22\\u0e07\\u0e32\\u0e19\\u0e15\\u0e31\\u0e27\", \"\\u0e23\\u0e32\\u0e22\\u0e07\\u0e32\\u0e19\\u0e15\\u0e31\\u0e27\", \"\\u0e23\\u0e32\\u0e22\\u0e07\\u0e32\\u0e19\\u0e15\\u0e31\\u0e27\", \"\\u0e23\\u0e32\\u0e22\\u0e07\\u0e32\\u0e19\\u0e15\\u0e31\\u0e27\", \"\\u0e23\\u0e33\\u0e1e\\u0e36\\u0e07\", \"\\u0e23\\u0e39\\u0e14\", \"\\u0e23\\u0e39\\u0e49\", \"\\u0e23\\u0e39\\u0e49\", \"\\u0e23\\u0e39\\u0e49\", \"\\u0e23\\u0e39\\u0e49\", \"\\u0e23\\u0e39\\u0e49\", \"\\u0e23\\u0e49\\u0e2d\\u0e07\\u0e17\\u0e38\\u0e01\\u0e02\\u0e4c\", \"\\u0e23\\u0e49\\u0e2d\\u0e07\\u0e17\\u0e38\\u0e01\\u0e02\\u0e4c\", \"\\u0e23\\u0e49\\u0e2d\\u0e07\\u0e17\\u0e38\\u0e01\\u0e02\\u0e4c\", \"\\u0e23\\u0e49\\u0e2d\\u0e07\\u0e17\\u0e38\\u0e01\\u0e02\\u0e4c\", \"\\u0e23\\u0e49\\u0e2d\\u0e07\\u0e17\\u0e38\\u0e01\\u0e02\\u0e4c\", \"\\u0e23\\u0e49\\u0e2d\\u0e22\\u0e40\\u0e27\\u0e23\", \"\\u0e23\\u0e49\\u0e2d\\u0e22\\u0e40\\u0e27\\u0e23\", \"\\u0e23\\u0e49\\u0e2d\\u0e22\\u0e40\\u0e27\\u0e23\", \"\\u0e23\\u0e49\\u0e32\\u0e19\", \"\\u0e23\\u0e49\\u0e32\\u0e19\", \"\\u0e23\\u0e49\\u0e32\\u0e19\", \"\\u0e23\\u0e49\\u0e32\\u0e19\", \"\\u0e23\\u0e49\\u0e32\\u0e19\", \"\\u0e25\\u0e07\\u0e42\\u0e17\\u0e29\", \"\\u0e25\\u0e07\\u0e42\\u0e17\\u0e29\", \"\\u0e25\\u0e07\\u0e42\\u0e17\\u0e29\", \"\\u0e25\\u0e07\\u0e42\\u0e17\\u0e29\", \"\\u0e25\\u0e07\\u0e42\\u0e17\\u0e29\", \"\\u0e25\\u0e32\", \"\\u0e25\\u0e32\", \"\\u0e25\\u0e32\", \"\\u0e25\\u0e32\", \"\\u0e25\\u0e32\", \"\\u0e25\\u0e32\\u0e1e\\u0e31\\u0e01\\u0e23\\u0e49\\u0e2d\\u0e19\", \"\\u0e25\\u0e32\\u0e2d\\u0e2d\\u0e01\", \"\\u0e25\\u0e32\\u0e2d\\u0e2d\\u0e01\", \"\\u0e25\\u0e32\\u0e2d\\u0e2d\\u0e01\", \"\\u0e25\\u0e32\\u0e2d\\u0e2d\\u0e01\", \"\\u0e25\\u0e32\\u0e2d\\u0e2d\\u0e01\", \"\\u0e25\\u0e39\\u0e01\", \"\\u0e25\\u0e39\\u0e01\", \"\\u0e25\\u0e39\\u0e01\", \"\\u0e25\\u0e39\\u0e01\", \"\\u0e25\\u0e39\\u0e01\", \"\\u0e25\\u0e39\\u0e01\\u0e04\\u0e49\\u0e32\", \"\\u0e25\\u0e39\\u0e01\\u0e04\\u0e49\\u0e32\", \"\\u0e25\\u0e39\\u0e01\\u0e04\\u0e49\\u0e32\", \"\\u0e25\\u0e39\\u0e01\\u0e04\\u0e49\\u0e32\", \"\\u0e25\\u0e39\\u0e01\\u0e04\\u0e49\\u0e32\", \"\\u0e25\\u0e39\\u0e01\\u0e08\\u0e49\\u0e32\\u0e07\", \"\\u0e25\\u0e39\\u0e01\\u0e08\\u0e49\\u0e32\\u0e07\", \"\\u0e25\\u0e39\\u0e01\\u0e08\\u0e49\\u0e32\\u0e07\", \"\\u0e25\\u0e39\\u0e01\\u0e08\\u0e49\\u0e32\\u0e07\", \"\\u0e25\\u0e39\\u0e01\\u0e08\\u0e49\\u0e32\\u0e07\", \"\\u0e25\\u0e39\\u0e01\\u0e2b\\u0e19\\u0e35\\u0e49\", \"\\u0e25\\u0e39\\u0e01\\u0e2b\\u0e19\\u0e35\\u0e49\", \"\\u0e25\\u0e39\\u0e01\\u0e2b\\u0e19\\u0e35\\u0e49\", \"\\u0e25\\u0e39\\u0e01\\u0e2b\\u0e19\\u0e35\\u0e49\", \"\\u0e25\\u0e39\\u0e01\\u0e2b\\u0e19\\u0e35\\u0e49\", \"\\u0e25\\u0e39\\u0e01\\u0e2b\\u0e19\\u0e35\\u0e49\\u0e0a\\u0e31\\u0e49\\u0e19\\u0e15\\u0e49\\u0e19\", \"\\u0e25\\u0e39\\u0e01\\u0e2b\\u0e19\\u0e35\\u0e49\\u0e23\\u0e48\\u0e27\\u0e21\", \"\\u0e25\\u0e39\\u0e01\\u0e2b\\u0e19\\u0e35\\u0e49\\u0e23\\u0e48\\u0e27\\u0e21\", \"\\u0e25\\u0e39\\u0e01\\u0e2b\\u0e19\\u0e35\\u0e49\\u0e23\\u0e48\\u0e27\\u0e21\", \"\\u0e25\\u0e39\\u0e01\\u0e41\\u0e0a\\u0e23\\u0e4c\", \"\\u0e25\\u0e48\\u0e27\\u0e07\\u0e2b\\u0e19\\u0e49\\u0e32\", \"\\u0e25\\u0e48\\u0e27\\u0e07\\u0e2b\\u0e19\\u0e49\\u0e32\", \"\\u0e25\\u0e48\\u0e27\\u0e07\\u0e2b\\u0e19\\u0e49\\u0e32\", \"\\u0e25\\u0e48\\u0e27\\u0e07\\u0e2b\\u0e19\\u0e49\\u0e32\", \"\\u0e25\\u0e48\\u0e27\\u0e07\\u0e2b\\u0e19\\u0e49\\u0e32\", \"\\u0e25\\u0e48\\u0e27\\u0e07\\u0e40\\u0e27\\u0e25\\u0e32\", \"\\u0e25\\u0e48\\u0e27\\u0e07\\u0e40\\u0e27\\u0e25\\u0e32\", \"\\u0e25\\u0e48\\u0e2d\", \"\\u0e25\\u0e48\\u0e2d\", \"\\u0e25\\u0e48\\u0e2d\", \"\\u0e25\\u0e48\\u0e2d\", \"\\u0e25\\u0e49\\u0e21\\u0e25\\u0e30\\u0e25\\u0e32\\u0e22\", \"\\u0e25\\u0e49\\u0e21\\u0e25\\u0e30\\u0e25\\u0e32\\u0e22\", \"\\u0e25\\u0e49\\u0e21\\u0e25\\u0e30\\u0e25\\u0e32\\u0e22\", \"\\u0e25\\u0e49\\u0e21\\u0e25\\u0e30\\u0e25\\u0e32\\u0e22\", \"\\u0e25\\u0e49\\u0e21\\u0e25\\u0e30\\u0e25\\u0e32\\u0e22\", \"\\u0e27\\u0e31\\u0e19\\u0e17\\u0e33\\u0e07\\u0e32\\u0e19\", \"\\u0e27\\u0e31\\u0e19\\u0e17\\u0e33\\u0e07\\u0e32\\u0e19\", \"\\u0e27\\u0e31\\u0e19\\u0e17\\u0e33\\u0e07\\u0e32\\u0e19\", \"\\u0e27\\u0e31\\u0e19\\u0e17\\u0e35\\u0e48\", \"\\u0e27\\u0e31\\u0e19\\u0e17\\u0e35\\u0e48\", \"\\u0e27\\u0e31\\u0e19\\u0e17\\u0e35\\u0e48\", \"\\u0e27\\u0e31\\u0e19\\u0e17\\u0e35\\u0e48\", \"\\u0e27\\u0e31\\u0e19\\u0e17\\u0e35\\u0e48\", \"\\u0e27\\u0e31\\u0e19\\u0e2b\\u0e22\\u0e38\\u0e14\", \"\\u0e27\\u0e31\\u0e19\\u0e2b\\u0e22\\u0e38\\u0e14\", \"\\u0e27\\u0e31\\u0e19\\u0e2b\\u0e22\\u0e38\\u0e14\", \"\\u0e27\\u0e31\\u0e19\\u0e2b\\u0e22\\u0e38\\u0e14\", \"\\u0e27\\u0e34\", \"\\u0e27\\u0e34\", \"\\u0e27\\u0e34\", \"\\u0e27\\u0e34\", \"\\u0e27\\u0e34\", \"\\u0e28\", \"\\u0e28\", \"\\u0e28\", \"\\u0e28\", \"\\u0e28\\u0e32\\u0e25\", \"\\u0e28\\u0e32\\u0e25\", \"\\u0e28\\u0e32\\u0e25\", \"\\u0e28\\u0e32\\u0e25\", \"\\u0e28\\u0e32\\u0e25\", \"\\u0e28\\u0e32\\u0e25\\u0e0a\\u0e31\\u0e49\\u0e19\\u0e15\\u0e49\\u0e19\", \"\\u0e28\\u0e32\\u0e25\\u0e0a\\u0e31\\u0e49\\u0e19\\u0e15\\u0e49\\u0e19\", \"\\u0e28\\u0e32\\u0e25\\u0e0a\\u0e31\\u0e49\\u0e19\\u0e15\\u0e49\\u0e19\", \"\\u0e28\\u0e32\\u0e25\\u0e0a\\u0e31\\u0e49\\u0e19\\u0e15\\u0e49\\u0e19\", \"\\u0e28\\u0e32\\u0e25\\u0e0a\\u0e31\\u0e49\\u0e19\\u0e15\\u0e49\\u0e19\", \"\\u0e28\\u0e32\\u0e25\\u0e2d\\u0e38\\u0e17\\u0e18\\u0e23\\u0e13\\u0e4c\", \"\\u0e28\\u0e32\\u0e25\\u0e2d\\u0e38\\u0e17\\u0e18\\u0e23\\u0e13\\u0e4c\", \"\\u0e28\\u0e32\\u0e25\\u0e2d\\u0e38\\u0e17\\u0e18\\u0e23\\u0e13\\u0e4c\", \"\\u0e28\\u0e32\\u0e25\\u0e2d\\u0e38\\u0e17\\u0e18\\u0e23\\u0e13\\u0e4c\", \"\\u0e28\\u0e32\\u0e25\\u0e41\\u0e23\\u0e07\\u0e07\\u0e32\\u0e19\", \"\\u0e28\\u0e32\\u0e25\\u0e41\\u0e23\\u0e07\\u0e07\\u0e32\\u0e19\", \"\\u0e28\\u0e32\\u0e25\\u0e41\\u0e23\\u0e07\\u0e07\\u0e32\\u0e19\", \"\\u0e28\\u0e32\\u0e25\\u0e41\\u0e23\\u0e07\\u0e07\\u0e32\\u0e19\", \"\\u0e2a\\u0e1b\\u0e2d\\u0e15\", \"\\u0e2a\\u0e20\\u0e32\\u0e1e\\u0e01\\u0e32\\u0e23\\u0e08\\u0e49\\u0e32\\u0e07\", \"\\u0e2a\\u0e21\\u0e23\\u0e2a\", \"\\u0e2a\\u0e21\\u0e23\\u0e2a\", \"\\u0e2a\\u0e21\\u0e23\\u0e2a\", \"\\u0e2a\\u0e21\\u0e38\\u0e2b\\u0e4c\\u0e1a\\u0e31\\u0e0d\\u0e0a\\u0e35\", \"\\u0e2a\\u0e23\\u0e49\\u0e2d\\u0e22\\u0e04\\u0e2d\", \"\\u0e2a\\u0e2d\\u0e1a\\u0e2a\\u0e31\\u0e21\\u0e20\\u0e32\\u0e29\\u0e13\\u0e4c\", \"\\u0e2a\\u0e31\\u0e0d\\u0e0d\\u0e32\", \"\\u0e2a\\u0e31\\u0e0d\\u0e0d\\u0e32\", \"\\u0e2a\\u0e31\\u0e0d\\u0e0d\\u0e32\", \"\\u0e2a\\u0e31\\u0e0d\\u0e0d\\u0e32\", \"\\u0e2a\\u0e31\\u0e0d\\u0e0d\\u0e32\", \"\\u0e2a\\u0e31\\u0e0d\\u0e0d\\u0e32\\u0e08\\u0e49\\u0e32\\u0e07\", \"\\u0e2a\\u0e31\\u0e0d\\u0e0d\\u0e32\\u0e08\\u0e49\\u0e32\\u0e07\", \"\\u0e2a\\u0e31\\u0e0d\\u0e0d\\u0e32\\u0e08\\u0e49\\u0e32\\u0e07\", \"\\u0e2a\\u0e31\\u0e0d\\u0e0d\\u0e32\\u0e08\\u0e49\\u0e32\\u0e07\", \"\\u0e2a\\u0e32\\u0e21\\u0e35\", \"\\u0e2a\\u0e32\\u0e21\\u0e35\", \"\\u0e2a\\u0e32\\u0e21\\u0e35\", \"\\u0e2a\\u0e32\\u0e21\\u0e35\", \"\\u0e2a\\u0e32\\u0e21\\u0e35\", \"\\u0e2a\\u0e32\\u0e23\", \"\\u0e2a\\u0e32\\u0e23\", \"\\u0e2a\\u0e32\\u0e23\", \"\\u0e2a\\u0e32\\u0e23\", \"\\u0e2a\\u0e32\\u0e23\", \"\\u0e2a\\u0e32\\u0e23\\u0e40\\u0e2a\\u0e1e\\u0e15\\u0e34\\u0e14\", \"\\u0e2a\\u0e32\\u0e23\\u0e40\\u0e2a\\u0e1e\\u0e15\\u0e34\\u0e14\", \"\\u0e2a\\u0e32\\u0e23\\u0e40\\u0e2a\\u0e1e\\u0e15\\u0e34\\u0e14\", \"\\u0e2a\\u0e33\\u0e40\\u0e19\\u0e35\\u0e22\\u0e07\", \"\\u0e2a\\u0e34\\u0e17\\u0e18\\u0e34\", \"\\u0e2a\\u0e34\\u0e17\\u0e18\\u0e34\", \"\\u0e2a\\u0e34\\u0e17\\u0e18\\u0e34\", \"\\u0e2a\\u0e34\\u0e17\\u0e18\\u0e34\", \"\\u0e2a\\u0e34\\u0e17\\u0e18\\u0e34\", \"\\u0e2a\\u0e34\\u0e19\\u0e08\\u0e49\\u0e32\\u0e07\", \"\\u0e2a\\u0e34\\u0e19\\u0e08\\u0e49\\u0e32\\u0e07\", \"\\u0e2a\\u0e34\\u0e19\\u0e08\\u0e49\\u0e32\\u0e07\", \"\\u0e2a\\u0e34\\u0e19\\u0e2a\\u0e21\\u0e23\\u0e2a\", \"\\u0e2a\\u0e34\\u0e19\\u0e2a\\u0e21\\u0e23\\u0e2a\", \"\\u0e2a\\u0e34\\u0e19\\u0e2a\\u0e21\\u0e23\\u0e2a\", \"\\u0e2a\\u0e34\\u0e19\\u0e2a\\u0e21\\u0e23\\u0e2a\", \"\\u0e2a\\u0e34\\u0e19\\u0e2a\\u0e21\\u0e23\\u0e2a\", \"\\u0e2a\\u0e34\\u0e19\\u0e2a\\u0e48\\u0e27\\u0e19\\u0e15\\u0e31\\u0e27\", \"\\u0e2a\\u0e34\\u0e19\\u0e2a\\u0e48\\u0e27\\u0e19\\u0e15\\u0e31\\u0e27\", \"\\u0e2a\\u0e34\\u0e19\\u0e2a\\u0e48\\u0e27\\u0e19\\u0e15\\u0e31\\u0e27\", \"\\u0e2a\\u0e34\\u0e19\\u0e2a\\u0e48\\u0e27\\u0e19\\u0e15\\u0e31\\u0e27\", \"\\u0e2a\\u0e34\\u0e49\\u0e19\\u0e40\\u0e0a\\u0e34\\u0e07\", \"\\u0e2a\\u0e34\\u0e49\\u0e19\\u0e40\\u0e0a\\u0e34\\u0e07\", \"\\u0e2a\\u0e39\\u0e15\\u0e34\\u0e1a\\u0e31\\u0e15\\u0e23\", \"\\u0e2b\\u0e0d\\u0e34\\u0e07\", \"\\u0e2b\\u0e0d\\u0e34\\u0e07\", \"\\u0e2b\\u0e0d\\u0e34\\u0e07\", \"\\u0e2b\\u0e0d\\u0e34\\u0e07\", \"\\u0e2b\\u0e0d\\u0e34\\u0e07\", \"\\u0e2b\\u0e19\\u0e35\\u0e49\", \"\\u0e2b\\u0e19\\u0e35\\u0e49\", \"\\u0e2b\\u0e19\\u0e35\\u0e49\", \"\\u0e2b\\u0e19\\u0e35\\u0e49\", \"\\u0e2b\\u0e19\\u0e35\\u0e49\", \"\\u0e2b\\u0e19\\u0e35\\u0e49\\u0e2a\\u0e34\\u0e19\", \"\\u0e2b\\u0e19\\u0e35\\u0e49\\u0e2a\\u0e34\\u0e19\", \"\\u0e2b\\u0e19\\u0e35\\u0e49\\u0e2a\\u0e34\\u0e19\", \"\\u0e2b\\u0e19\\u0e35\\u0e49\\u0e2a\\u0e34\\u0e19\", \"\\u0e2b\\u0e19\\u0e35\\u0e49\\u0e2a\\u0e34\\u0e19\", \"\\u0e2b\\u0e21\\u0e32\\u0e22\\u0e04\\u0e49\\u0e19\", \"\\u0e2b\\u0e21\\u0e32\\u0e22\\u0e04\\u0e49\\u0e19\", \"\\u0e2b\\u0e22\\u0e48\\u0e32\", \"\\u0e2b\\u0e22\\u0e48\\u0e32\", \"\\u0e2b\\u0e22\\u0e48\\u0e32\", \"\\u0e2b\\u0e22\\u0e48\\u0e32\", \"\\u0e2b\\u0e22\\u0e48\\u0e32\", \"\\u0e2b\\u0e31\\u0e01\", \"\\u0e2b\\u0e31\\u0e01\", \"\\u0e2b\\u0e31\\u0e01\", \"\\u0e2b\\u0e31\\u0e01\", \"\\u0e2b\\u0e31\\u0e01\", \"\\u0e2b\\u0e49\\u0e2d\\u0e07\\u0e02\\u0e31\\u0e07\", \"\\u0e2b\\u0e49\\u0e2d\\u0e07\\u0e02\\u0e31\\u0e07\", \"\\u0e2d\", \"\\u0e2d\", \"\\u0e2d\", \"\\u0e2d\", \"\\u0e2d\", \"\\u0e2d\\u0e2d\\u0e01\\u0e01\\u0e33\\u0e25\\u0e31\\u0e07\\u0e01\\u0e32\\u0e22\", \"\\u0e2d\\u0e31\\u0e15\\u0e23\\u0e32\\u0e04\\u0e48\\u0e32\\u0e08\\u0e49\\u0e32\\u0e07\", \"\\u0e2d\\u0e31\\u0e15\\u0e23\\u0e32\\u0e04\\u0e48\\u0e32\\u0e08\\u0e49\\u0e32\\u0e07\", \"\\u0e2d\\u0e32\\u0e0d\\u0e32\", \"\\u0e2d\\u0e32\\u0e0d\\u0e32\", \"\\u0e2d\\u0e32\\u0e0d\\u0e32\", \"\\u0e2d\\u0e32\\u0e0d\\u0e32\", \"\\u0e2d\\u0e32\\u0e0d\\u0e32\", \"\\u0e2d\\u0e32\\u0e22\\u0e31\\u0e14\", \"\\u0e2d\\u0e32\\u0e22\\u0e31\\u0e14\", \"\\u0e2d\\u0e32\\u0e22\\u0e31\\u0e14\", \"\\u0e2d\\u0e32\\u0e22\\u0e31\\u0e14\", \"\\u0e2d\\u0e32\\u0e22\\u0e31\\u0e14\", \"\\u0e2d\\u0e32\\u0e22\\u0e38\\u0e07\\u0e32\\u0e19\", \"\\u0e2d\\u0e32\\u0e22\\u0e38\\u0e07\\u0e32\\u0e19\", \"\\u0e2d\\u0e38\\u0e17\\u0e18\\u0e23\\u0e13\\u0e4c\", \"\\u0e2d\\u0e38\\u0e17\\u0e18\\u0e23\\u0e13\\u0e4c\", \"\\u0e2d\\u0e38\\u0e17\\u0e18\\u0e23\\u0e13\\u0e4c\", \"\\u0e2d\\u0e38\\u0e17\\u0e18\\u0e23\\u0e13\\u0e4c\", \"\\u0e2d\\u0e38\\u0e1b\\u0e01\\u0e32\\u0e23\\u0e30\", \"\\u0e2d\\u0e38\\u0e1b\\u0e01\\u0e32\\u0e23\\u0e30\", \"\\u0e2d\\u0e38\\u0e1b\\u0e01\\u0e32\\u0e23\\u0e30\", \"\\u0e2d\\u0e38\\u0e1b\\u0e01\\u0e32\\u0e23\\u0e30\", \"\\u0e2d\\u0e39\\u0e48\", \"\\u0e2d\\u0e39\\u0e48\", \"\\u0e2d\\u0e39\\u0e48\", \"\\u0e2d\\u0e39\\u0e48\", \"\\u0e40\\u0e01\\u0e35\\u0e48\\u0e22\\u0e07\", \"\\u0e40\\u0e04\\u0e2b\\u0e2a\\u0e16\\u0e32\\u0e19\", \"\\u0e40\\u0e04\\u0e49\\u0e01\", \"\\u0e40\\u0e07\\u0e34\\u0e19\", \"\\u0e40\\u0e07\\u0e34\\u0e19\", \"\\u0e40\\u0e07\\u0e34\\u0e19\", \"\\u0e40\\u0e07\\u0e34\\u0e19\", \"\\u0e40\\u0e07\\u0e34\\u0e19\", \"\\u0e40\\u0e07\\u0e34\\u0e19\\u0e0a\\u0e14\\u0e40\\u0e0a\\u0e22\", \"\\u0e40\\u0e07\\u0e34\\u0e19\\u0e0a\\u0e14\\u0e40\\u0e0a\\u0e22\", \"\\u0e40\\u0e07\\u0e34\\u0e19\\u0e0a\\u0e14\\u0e40\\u0e0a\\u0e22\", \"\\u0e40\\u0e07\\u0e34\\u0e19\\u0e0a\\u0e14\\u0e40\\u0e0a\\u0e22\", \"\\u0e40\\u0e07\\u0e34\\u0e19\\u0e2a\\u0e21\\u0e17\\u0e1a\", \"\\u0e40\\u0e07\\u0e34\\u0e19\\u0e40\\u0e14\\u0e37\\u0e2d\\u0e19\", \"\\u0e40\\u0e07\\u0e34\\u0e19\\u0e40\\u0e14\\u0e37\\u0e2d\\u0e19\", \"\\u0e40\\u0e07\\u0e34\\u0e19\\u0e40\\u0e14\\u0e37\\u0e2d\\u0e19\", \"\\u0e40\\u0e07\\u0e34\\u0e19\\u0e40\\u0e14\\u0e37\\u0e2d\\u0e19\", \"\\u0e40\\u0e07\\u0e34\\u0e19\\u0e40\\u0e14\\u0e37\\u0e2d\\u0e19\", \"\\u0e40\\u0e08\\u0e49\\u0e32\\u0e21\\u0e23\\u0e14\\u0e01\", \"\\u0e40\\u0e08\\u0e49\\u0e32\\u0e21\\u0e23\\u0e14\\u0e01\", \"\\u0e40\\u0e08\\u0e49\\u0e32\\u0e21\\u0e23\\u0e14\\u0e01\", \"\\u0e40\\u0e08\\u0e49\\u0e32\\u0e21\\u0e23\\u0e14\\u0e01\", \"\\u0e40\\u0e08\\u0e49\\u0e32\\u0e2b\\u0e19\\u0e35\\u0e49\", \"\\u0e40\\u0e08\\u0e49\\u0e32\\u0e2b\\u0e19\\u0e35\\u0e49\", \"\\u0e40\\u0e08\\u0e49\\u0e32\\u0e2b\\u0e19\\u0e35\\u0e49\", \"\\u0e40\\u0e08\\u0e49\\u0e32\\u0e2b\\u0e19\\u0e35\\u0e49\", \"\\u0e40\\u0e08\\u0e49\\u0e32\\u0e2b\\u0e19\\u0e35\\u0e49\", \"\\u0e40\\u0e0a\\u0e47\\u0e04\", \"\\u0e40\\u0e0a\\u0e47\\u0e04\", \"\\u0e40\\u0e0a\\u0e47\\u0e04\", \"\\u0e40\\u0e0a\\u0e47\\u0e04\", \"\\u0e40\\u0e0a\\u0e47\\u0e04\", \"\\u0e40\\u0e0a\\u0e48\\u0e32\\u0e0b\\u0e37\\u0e49\\u0e2d\", \"\\u0e40\\u0e0a\\u0e48\\u0e32\\u0e0b\\u0e37\\u0e49\\u0e2d\", \"\\u0e40\\u0e0a\\u0e48\\u0e32\\u0e0b\\u0e37\\u0e49\\u0e2d\", \"\\u0e40\\u0e0a\\u0e48\\u0e32\\u0e0b\\u0e37\\u0e49\\u0e2d\", \"\\u0e40\\u0e0a\\u0e48\\u0e32\\u0e0b\\u0e37\\u0e49\\u0e2d\", \"\\u0e40\\u0e14\\u0e47\\u0e01\", \"\\u0e40\\u0e14\\u0e47\\u0e01\", \"\\u0e40\\u0e14\\u0e47\\u0e01\", \"\\u0e40\\u0e14\\u0e47\\u0e01\", \"\\u0e40\\u0e14\\u0e47\\u0e01\", \"\\u0e40\\u0e14\\u0e48\\u0e19\", \"\\u0e40\\u0e15\\u0e49\\u0e19\\u0e17\\u0e4c\", \"\\u0e40\\u0e15\\u0e49\\u0e19\\u0e17\\u0e4c\", \"\\u0e40\\u0e15\\u0e49\\u0e19\\u0e17\\u0e4c\", \"\\u0e40\\u0e19\\u0e23\\u0e04\\u0e38\\u0e13\", \"\\u0e40\\u0e1b\\u0e35\\u0e22\", \"\\u0e40\\u0e1b\\u0e47\\u0e19\\u0e18\\u0e23\\u0e23\\u0e21\", \"\\u0e40\\u0e1b\\u0e47\\u0e19\\u0e18\\u0e23\\u0e23\\u0e21\", \"\\u0e40\\u0e1b\\u0e47\\u0e19\\u0e18\\u0e23\\u0e23\\u0e21\", \"\\u0e40\\u0e1b\\u0e47\\u0e19\\u0e18\\u0e23\\u0e23\\u0e21\", \"\\u0e40\\u0e1b\\u0e47\\u0e19\\u0e18\\u0e23\\u0e23\\u0e21\", \"\\u0e40\\u0e1b\\u0e47\\u0e19\\u0e2b\\u0e19\\u0e35\\u0e49\", \"\\u0e40\\u0e1b\\u0e47\\u0e19\\u0e2b\\u0e19\\u0e35\\u0e49\", \"\\u0e40\\u0e1b\\u0e47\\u0e19\\u0e2b\\u0e19\\u0e35\\u0e49\", \"\\u0e40\\u0e1b\\u0e47\\u0e19\\u0e2b\\u0e19\\u0e35\\u0e49\", \"\\u0e40\\u0e1b\\u0e47\\u0e19\\u0e2b\\u0e19\\u0e35\\u0e49\", \"\\u0e40\\u0e1e\\u0e37\\u0e48\\u0e2d\\u0e19\", \"\\u0e40\\u0e1e\\u0e37\\u0e48\\u0e2d\\u0e19\", \"\\u0e40\\u0e1e\\u0e37\\u0e48\\u0e2d\\u0e19\", \"\\u0e40\\u0e1e\\u0e37\\u0e48\\u0e2d\\u0e19\", \"\\u0e40\\u0e1e\\u0e37\\u0e48\\u0e2d\\u0e19\", \"\\u0e40\\u0e21\\u0e17\", \"\\u0e40\\u0e21\\u0e17\", \"\\u0e40\\u0e21\\u0e17\", \"\\u0e40\\u0e21\\u0e47\\u0e14\", \"\\u0e40\\u0e21\\u0e47\\u0e14\", \"\\u0e40\\u0e21\\u0e47\\u0e14\", \"\\u0e40\\u0e21\\u0e47\\u0e14\", \"\\u0e40\\u0e25\\u0e34\\u0e01\\u0e08\\u0e49\\u0e32\\u0e07\", \"\\u0e40\\u0e25\\u0e34\\u0e01\\u0e08\\u0e49\\u0e32\\u0e07\", \"\\u0e40\\u0e25\\u0e34\\u0e01\\u0e08\\u0e49\\u0e32\\u0e07\", \"\\u0e40\\u0e25\\u0e34\\u0e01\\u0e08\\u0e49\\u0e32\\u0e07\", \"\\u0e40\\u0e25\\u0e35\\u0e49\\u0e22\\u0e07\\u0e14\\u0e39\", \"\\u0e40\\u0e25\\u0e35\\u0e49\\u0e22\\u0e07\\u0e14\\u0e39\", \"\\u0e40\\u0e25\\u0e35\\u0e49\\u0e22\\u0e07\\u0e14\\u0e39\", \"\\u0e40\\u0e25\\u0e35\\u0e49\\u0e22\\u0e07\\u0e14\\u0e39\", \"\\u0e40\\u0e27\\u0e25\\u0e32\\u0e17\\u0e33\\u0e07\\u0e32\\u0e19\", \"\\u0e40\\u0e27\\u0e25\\u0e32\\u0e17\\u0e33\\u0e07\\u0e32\\u0e19\", \"\\u0e40\\u0e27\\u0e25\\u0e32\\u0e17\\u0e33\\u0e07\\u0e32\\u0e19\", \"\\u0e40\\u0e27\\u0e25\\u0e32\\u0e17\\u0e33\\u0e07\\u0e32\\u0e19\", \"\\u0e40\\u0e2a\\u0e19\", \"\\u0e40\\u0e2a\\u0e1e\", \"\\u0e40\\u0e2a\\u0e1e\", \"\\u0e40\\u0e2a\\u0e1e\", \"\\u0e40\\u0e2a\\u0e1e\", \"\\u0e40\\u0e2a\\u0e35\\u0e22\\u0e0a\\u0e35\\u0e27\\u0e34\\u0e15\", \"\\u0e40\\u0e2a\\u0e35\\u0e22\\u0e0a\\u0e35\\u0e27\\u0e34\\u0e15\", \"\\u0e40\\u0e2a\\u0e35\\u0e22\\u0e0a\\u0e35\\u0e27\\u0e34\\u0e15\", \"\\u0e40\\u0e2a\\u0e35\\u0e22\\u0e0a\\u0e35\\u0e27\\u0e34\\u0e15\", \"\\u0e40\\u0e2a\\u0e35\\u0e22\\u0e0a\\u0e35\\u0e27\\u0e34\\u0e15\", \"\\u0e40\\u0e2b\\u0e47\\u0e19\\u0e1e\\u0e49\\u0e2d\\u0e07\", \"\\u0e40\\u0e2d\\u0e01\\u0e2a\\u0e32\\u0e23\", \"\\u0e40\\u0e2d\\u0e01\\u0e2a\\u0e32\\u0e23\", \"\\u0e40\\u0e2d\\u0e01\\u0e2a\\u0e32\\u0e23\", \"\\u0e40\\u0e2d\\u0e01\\u0e2a\\u0e32\\u0e23\", \"\\u0e40\\u0e2d\\u0e01\\u0e2a\\u0e32\\u0e23\", \"\\u0e40\\u0e2d\\u0e01\\u0e2a\\u0e32\\u0e23\\u0e2a\\u0e34\\u0e17\\u0e18\\u0e34\\u0e4c\", \"\\u0e40\\u0e2d\\u0e01\\u0e2a\\u0e32\\u0e23\\u0e2a\\u0e34\\u0e17\\u0e18\\u0e34\\u0e4c\", \"\\u0e40\\u0e2e\\u0e35\\u0e22\", \"\\u0e40\\u0e2e\\u0e35\\u0e22\", \"\\u0e41\\u0e04\\u0e1b\\u0e1b\\u0e34\\u0e15\\u0e2d\\u0e25\", \"\\u0e41\\u0e08\\u0e49\\u0e07\", \"\\u0e41\\u0e08\\u0e49\\u0e07\", \"\\u0e41\\u0e08\\u0e49\\u0e07\", \"\\u0e41\\u0e08\\u0e49\\u0e07\", \"\\u0e41\\u0e08\\u0e49\\u0e07\", \"\\u0e41\\u0e08\\u0e49\\u0e07\\u0e04\\u0e27\\u0e32\\u0e21\", \"\\u0e41\\u0e08\\u0e49\\u0e07\\u0e04\\u0e27\\u0e32\\u0e21\", \"\\u0e41\\u0e08\\u0e49\\u0e07\\u0e04\\u0e27\\u0e32\\u0e21\", \"\\u0e41\\u0e08\\u0e49\\u0e07\\u0e04\\u0e27\\u0e32\\u0e21\", \"\\u0e41\\u0e08\\u0e49\\u0e07\\u0e04\\u0e27\\u0e32\\u0e21\", \"\\u0e41\\u0e15\\u0e48\\u0e25\\u0e30\\u0e27\\u0e31\\u0e19\", \"\\u0e41\\u0e19\\u0e19\\u0e2a\\u0e4c\", \"\\u0e41\\u0e1a\\u0e48\\u0e07\", \"\\u0e41\\u0e1a\\u0e48\\u0e07\", \"\\u0e41\\u0e1a\\u0e48\\u0e07\", \"\\u0e41\\u0e1a\\u0e48\\u0e07\", \"\\u0e41\\u0e1a\\u0e48\\u0e07\", \"\\u0e41\\u0e1a\\u0e48\\u0e07\\u0e1b\\u0e31\\u0e19\", \"\\u0e41\\u0e1a\\u0e48\\u0e07\\u0e1b\\u0e31\\u0e19\", \"\\u0e41\\u0e1a\\u0e48\\u0e07\\u0e1b\\u0e31\\u0e19\", \"\\u0e41\\u0e1a\\u0e48\\u0e07\\u0e1b\\u0e31\\u0e19\", \"\\u0e41\\u0e1a\\u0e48\\u0e07\\u0e1b\\u0e31\\u0e19\", \"\\u0e41\\u0e1b\\u0e25\\u0e07\", \"\\u0e41\\u0e1b\\u0e25\\u0e07\", \"\\u0e41\\u0e1b\\u0e25\\u0e07\", \"\\u0e41\\u0e1b\\u0e25\\u0e07\", \"\\u0e41\\u0e1b\\u0e25\\u0e07\", \"\\u0e41\\u0e1e\\u0e48\\u0e07\", \"\\u0e41\\u0e1e\\u0e48\\u0e07\", \"\\u0e41\\u0e1e\\u0e48\\u0e07\", \"\\u0e41\\u0e1e\\u0e48\\u0e07\", \"\\u0e41\\u0e1e\\u0e48\\u0e07\", \"\\u0e41\\u0e1f\\u0e19\", \"\\u0e41\\u0e1f\\u0e19\", \"\\u0e41\\u0e1f\\u0e19\", \"\\u0e41\\u0e1f\\u0e19\", \"\\u0e41\\u0e1f\\u0e19\", \"\\u0e41\\u0e21\\u0e48\", \"\\u0e41\\u0e21\\u0e48\", \"\\u0e41\\u0e21\\u0e48\", \"\\u0e41\\u0e21\\u0e48\", \"\\u0e41\\u0e21\\u0e48\", \"\\u0e41\\u0e23\\u0e07\", \"\\u0e41\\u0e23\\u0e07\", \"\\u0e41\\u0e23\\u0e07\", \"\\u0e41\\u0e23\\u0e07\", \"\\u0e41\\u0e23\\u0e07\", \"\\u0e41\\u0e23\\u0e07\\u0e07\\u0e32\\u0e19\", \"\\u0e41\\u0e23\\u0e07\\u0e07\\u0e32\\u0e19\", \"\\u0e41\\u0e23\\u0e07\\u0e07\\u0e32\\u0e19\", \"\\u0e41\\u0e23\\u0e07\\u0e07\\u0e32\\u0e19\", \"\\u0e41\\u0e23\\u0e07\\u0e07\\u0e32\\u0e19\", \"\\u0e41\\u0e23\\u0e07\\u0e07\\u0e32\\u0e19\\u0e2a\\u0e31\\u0e21\\u0e1e\\u0e31\\u0e19\\u0e18\\u0e4c\", \"\\u0e41\\u0e27\\u0e48\\u0e19\\u0e15\\u0e32\", \"\\u0e41\\u0e2d\\u0e21\\u0e40\\u0e1f\\u0e15\\u0e32\\u0e21\\u0e35\\u0e19\", \"\\u0e41\\u0e2d\\u0e21\\u0e40\\u0e1f\\u0e15\\u0e32\\u0e21\\u0e35\\u0e19\", \"\\u0e42\\u0e08\\u0e17\\u0e01\\u0e4c\", \"\\u0e42\\u0e08\\u0e17\\u0e01\\u0e4c\", \"\\u0e42\\u0e08\\u0e17\\u0e01\\u0e4c\", \"\\u0e42\\u0e08\\u0e17\\u0e01\\u0e4c\", \"\\u0e42\\u0e08\\u0e17\\u0e01\\u0e4c\", \"\\u0e42\\u0e08\\u0e17\\u0e22\\u0e4c\", \"\\u0e42\\u0e08\\u0e17\\u0e22\\u0e4c\", \"\\u0e42\\u0e08\\u0e17\\u0e22\\u0e4c\", \"\\u0e42\\u0e08\\u0e17\\u0e22\\u0e4c\", \"\\u0e42\\u0e09\\u0e19\\u0e14\", \"\\u0e42\\u0e09\\u0e19\\u0e14\", \"\\u0e42\\u0e09\\u0e19\\u0e14\", \"\\u0e42\\u0e09\\u0e19\\u0e14\", \"\\u0e42\\u0e09\\u0e19\\u0e14\", \"\\u0e42\\u0e14\\u0e19\", \"\\u0e42\\u0e14\\u0e19\", \"\\u0e42\\u0e14\\u0e19\", \"\\u0e42\\u0e14\\u0e19\", \"\\u0e42\\u0e14\\u0e19\", \"\\u0e42\\u0e17\\u0e23\", \"\\u0e42\\u0e17\\u0e23\", \"\\u0e42\\u0e17\\u0e23\", \"\\u0e42\\u0e17\\u0e23\", \"\\u0e42\\u0e17\\u0e23\", \"\\u0e42\\u0e17\\u0e29\", \"\\u0e42\\u0e17\\u0e29\", \"\\u0e42\\u0e17\\u0e29\", \"\\u0e42\\u0e17\\u0e29\", \"\\u0e42\\u0e17\\u0e29\", \"\\u0e42\\u0e23\\u0e07\\u0e1e\\u0e31\\u0e01\", \"\\u0e42\\u0e23\\u0e07\\u0e1e\\u0e31\\u0e01\", \"\\u0e42\\u0e23\\u0e07\\u0e1e\\u0e31\\u0e01\", \"\\u0e42\\u0e23\\u0e07\\u0e1e\\u0e31\\u0e01\", \"\\u0e42\\u0e23\\u0e07\\u0e1e\\u0e31\\u0e01\", \"\\u0e42\\u0e2d\\u0e19\", \"\\u0e42\\u0e2d\\u0e19\", \"\\u0e42\\u0e2d\\u0e19\", \"\\u0e42\\u0e2d\\u0e19\", \"\\u0e42\\u0e2d\\u0e19\", \"\\u0e43\\u0e0a\\u0e49\\u0e01\\u0e33\\u0e25\\u0e31\\u0e07\\u0e1b\\u0e23\\u0e30\\u0e17\\u0e38\\u0e29\\u0e23\\u0e49\\u0e32\\u0e22\", \"\\u0e43\\u0e0a\\u0e49\\u0e2b\\u0e19\\u0e35\\u0e49\", \"\\u0e43\\u0e0a\\u0e49\\u0e2b\\u0e19\\u0e35\\u0e49\", \"\\u0e43\\u0e0a\\u0e49\\u0e2b\\u0e19\\u0e35\\u0e49\", \"\\u0e43\\u0e0a\\u0e49\\u0e2b\\u0e19\\u0e35\\u0e49\", \"\\u0e43\\u0e0a\\u0e49\\u0e2b\\u0e19\\u0e35\\u0e49\", \"\\u0e43\\u0e1a\\u0e25\\u0e32\\u0e2d\\u0e2d\\u0e01\", \"\\u0e43\\u0e1a\\u0e25\\u0e32\\u0e2d\\u0e2d\\u0e01\", \"\\u0e43\\u0e1a\\u0e25\\u0e32\\u0e2d\\u0e2d\\u0e01\", \"\\u0e44\\u0e15\\u0e23\\u0e21\\u0e32\\u0e2a\", \"\\u0e44\\u0e1f\\u0e25\\u0e4c\", \"\\u0e44\\u0e1f\\u0e25\\u0e4c\", \"\\u0e44\\u0e1f\\u0e41\\u0e19\\u0e19\\u0e0b\\u0e4c\", \"\\u0e44\\u0e1f\\u0e41\\u0e19\\u0e19\\u0e0b\\u0e4c\", \"\\u0e44\\u0e1f\\u0e41\\u0e19\\u0e19\\u0e0b\\u0e4c\", \"\\u0e44\\u0e1f\\u0e41\\u0e19\\u0e19\\u0e0b\\u0e4c\", \"\\u0e44\\u0e1f\\u0e41\\u0e19\\u0e19\\u0e0b\\u0e4c\", \"\\u0e44\\u0e25\\u0e48\\u0e40\\u0e1a\\u0e35\\u0e49\\u0e22\", \"\\u0e44\\u0e25\\u0e48\\u0e40\\u0e1a\\u0e35\\u0e49\\u0e22\", \"\\u0e44\\u0e25\\u0e48\\u0e40\\u0e1a\\u0e35\\u0e49\\u0e22\", \"\\u0e44\\u0e25\\u0e48\\u0e40\\u0e1a\\u0e35\\u0e49\\u0e22\", \"\\u0e44\\u0e2d\\u0e0b\\u0e4c\", \"\\u0e44\\u0e2d\\u0e0b\\u0e4c\", \"\\u0e44\\u0e2d\\u0e0b\\u0e4c\", \"\\u0e44\\u0e2d\\u0e0b\\u0e4c\", \"\\u0e44\\u0e2e\\u0e42\\u0e0b\", \"\\u0e51\\u0e51\\u0e58\", \"\\u0e52\\u0e55\\u0e54\\u0e51\", \"\\u0e52\\u0e55\\u0e54\\u0e51\", \"\\u0e56\\u0e58\\u0e50\"]}, \"R\": 30, \"lambda.step\": 0.01, \"plot.opts\": {\"xlab\": \"PC1\", \"ylab\": \"PC2\"}, \"topic.order\": [3, 2, 1, 4, 5]};\n",
       "\n",
       "function LDAvis_load_lib(url, callback){\n",
       "  var s = document.createElement('script');\n",
       "  s.src = url;\n",
       "  s.async = true;\n",
       "  s.onreadystatechange = s.onload = callback;\n",
       "  s.onerror = function(){console.warn(\"failed to load library \" + url);};\n",
       "  document.getElementsByTagName(\"head\")[0].appendChild(s);\n",
       "}\n",
       "\n",
       "if(typeof(LDAvis) !== \"undefined\"){\n",
       "   // already loaded: just create the visualization\n",
       "   !function(LDAvis){\n",
       "       new LDAvis(\"#\" + \"ldavis_el110681513154594960627289444\", ldavis_el110681513154594960627289444_data);\n",
       "   }(LDAvis);\n",
       "}else if(typeof define === \"function\" && define.amd){\n",
       "   // require.js is available: use it to load d3/LDAvis\n",
       "   require.config({paths: {d3: \"https://d3js.org/d3.v5\"}});\n",
       "   require([\"d3\"], function(d3){\n",
       "      window.d3 = d3;\n",
       "      LDAvis_load_lib(\"https://cdn.jsdelivr.net/gh/bmabey/pyLDAvis@3.4.0/pyLDAvis/js/ldavis.v3.0.0.js\", function(){\n",
       "        new LDAvis(\"#\" + \"ldavis_el110681513154594960627289444\", ldavis_el110681513154594960627289444_data);\n",
       "      });\n",
       "    });\n",
       "}else{\n",
       "    // require.js not available: dynamically load d3 & LDAvis\n",
       "    LDAvis_load_lib(\"https://d3js.org/d3.v5.js\", function(){\n",
       "         LDAvis_load_lib(\"https://cdn.jsdelivr.net/gh/bmabey/pyLDAvis@3.4.0/pyLDAvis/js/ldavis.v3.0.0.js\", function(){\n",
       "                 new LDAvis(\"#\" + \"ldavis_el110681513154594960627289444\", ldavis_el110681513154594960627289444_data);\n",
       "            })\n",
       "         });\n",
       "}\n",
       "</script>"
      ],
      "text/plain": [
       "PreparedData(topic_coordinates=              x         y  topics  cluster       Freq\n",
       "topic                                                \n",
       "2     -0.221685  0.014742       1        1  26.917090\n",
       "1      0.037254 -0.051659       2        1  23.006383\n",
       "0      0.075454  0.175270       3        1  20.016065\n",
       "3      0.018121 -0.062389       4        1  16.765185\n",
       "4      0.090856 -0.075964       5        1  13.295278, topic_info=        Term         Freq        Total Category  logprob  loglift\n",
       "651  นายจ้าง  3173.000000  3173.000000  Default  30.0000  30.0000\n",
       "232   ที่ดิน  4682.000000  4682.000000  Default  29.0000  29.0000\n",
       "653  ลูกจ้าง  2505.000000  2505.000000  Default  28.0000  28.0000\n",
       "93      บุตร  3037.000000  3037.000000  Default  27.0000  27.0000\n",
       "391   บริษัท  4159.000000  4159.000000  Default  26.0000  26.0000\n",
       "..       ...          ...          ...      ...      ...      ...\n",
       "17       บาท   313.776602  3147.065993   Topic5  -5.4608  -0.2878\n",
       "804      คืน   282.218821  1703.245869   Topic5  -5.5667   0.2202\n",
       "448     บ้าน   280.447353  3947.249414   Topic5  -5.5730  -0.6266\n",
       "109   เอกสาร   260.500352  1396.270452   Topic5  -5.6468   0.3388\n",
       "335       รอ   252.700922  1031.399459   Topic5  -5.6772   0.6113\n",
       "\n",
       "[407 rows x 6 columns], token_table=      Topic      Freq    Term\n",
       "term                         \n",
       "0         1  0.297985  กฎหมาย\n",
       "0         2  0.270095  กฎหมาย\n",
       "0         3  0.322939  กฎหมาย\n",
       "0         4  0.052845  กฎหมาย\n",
       "0         5  0.056514  กฎหมาย\n",
       "...     ...       ...     ...\n",
       "6166      4  0.940719    ไฮโซ\n",
       "3309      3  0.964047     ๑๑๘\n",
       "3310      3  0.980369    ๒๕๔๑\n",
       "3310      5  0.021312    ๒๕๔๑\n",
       "1120      4  0.938882     ๖๘๐\n",
       "\n",
       "[1174 rows x 3 columns], R=30, lambda_step=0.01, plot_opts={'xlab': 'PC1', 'ylab': 'PC2'}, topic_order=[3, 2, 1, 4, 5])"
      ]
     },
     "execution_count": 12,
     "metadata": {},
     "output_type": "execute_result"
    }
   ],
   "source": [
    "with open('model/id2word.pkl', 'rb') as f:\n",
    "  id2word = pickle.load(f)\n",
    "with open('model/lda_model.pkl', 'rb') as f:\n",
    "  lda_model = pickle.load(f)\n",
    "pyLDAvis.enable_notebook()\n",
    "LDAvis_data_filepath = os.path.join('model/ldavis_prepared_'+str(num_topics))\n",
    "\n",
    "LDAvis_data_filepath\n",
    "if 1 == 1:\n",
    "    LDAvis_prepared = gensimvis.prepare(lda_model, corpus, id2word)\n",
    "    with open(LDAvis_data_filepath, 'wb') as f:\n",
    "        pickle.dump(LDAvis_prepared, f)\n",
    "with open(LDAvis_data_filepath, 'rb') as f:\n",
    "    LDAvis_prepared = pickle.load(f)\n",
    "pyLDAvis.save_html(LDAvis_prepared, 'model/ldavis_prepared_'+ str(num_topics) +'.html')\n",
    "LDAvis_prepared"
   ]
  },
  {
   "cell_type": "code",
   "execution_count": 17,
   "metadata": {},
   "outputs": [
    {
     "data": {
      "text/plain": [
       "[(0,\n",
       "  '0.030*\"บริษัท\" + 0.028*\"นายจ้าง\" + 0.022*\"ลูกจ้าง\" + 0.017*\"จ่าย\" + 0.016*\"ทำงาน\" + 0.012*\"สัญญา\" + 0.011*\"สิทธิ\" + 0.010*\"พนักงาน\" + 0.010*\"มาตรา\" + 0.010*\"งาน\" + 0.010*\"เลิกจ้าง\" + 0.009*\"เงิน\" + 0.008*\"แจ้ง\" + 0.008*\"กรณี\" + 0.008*\"ค่าจ้าง\" + 0.007*\"วันที่\" + 0.006*\"คุ้มครอง\" + 0.006*\"แรงงาน\" + 0.006*\"ค่าชดเชย\" + 0.005*\"การทำงาน\"'),\n",
       " (1,\n",
       "  '0.023*\"ศาล\" + 0.014*\"บาท\" + 0.013*\"เงิน\" + 0.012*\"จำเลย\" + 0.011*\"มาตรา\" + 0.011*\"ฟ้อง\" + 0.009*\"รถ\" + 0.008*\"สัญญา\" + 0.008*\"จ่าย\" + 0.007*\"จำคุก\" + 0.006*\"เช่าซื้อ\" + 0.006*\"ความผิด\" + 0.006*\"คืน\" + 0.006*\"เช็ค\" + 0.005*\"ค่า\" + 0.005*\"บ้าน\" + 0.005*\"จำนวน\" + 0.005*\"โจทก์\" + 0.005*\"กรณี\" + 0.005*\"สิทธิ\"'),\n",
       " (2,\n",
       "  '0.030*\"ที่ดิน\" + 0.020*\"บุตร\" + 0.019*\"สามี\" + 0.013*\"บ้าน\" + 0.013*\"มาตรา\" + 0.013*\"พ่อ\" + 0.013*\"สิทธิ\" + 0.012*\"แม่\" + 0.011*\"ลูก\" + 0.009*\"ภรรยา\" + 0.009*\"โอน\" + 0.008*\"บิดา\" + 0.008*\"ปพพ\" + 0.008*\"แบ่ง\" + 0.008*\"มรดก\" + 0.008*\"จดทะเบียน\" + 0.008*\"ผู้จัดการมรดก\" + 0.007*\"ทรัพย์สิน\" + 0.007*\"ศาล\" + 0.007*\"ทายาท\"'),\n",
       " (3,\n",
       "  '0.014*\"ธนาคาร\" + 0.014*\"เจ้าหนี้\" + 0.012*\"ชำระหนี้\" + 0.011*\"ลูกหนี้\" + 0.010*\"หนี้\" + 0.010*\"บ้าน\" + 0.009*\"เงิน\" + 0.009*\"ฟ้อง\" + 0.008*\"รถ\" + 0.007*\"บาท\" + 0.006*\"กู้\" + 0.006*\"ยึด\" + 0.005*\"โดน\" + 0.005*\"สัญญา\" + 0.005*\"บังคับ\" + 0.005*\"แฟน\" + 0.005*\"ค้ำประกัน\" + 0.005*\"ผ่อน\" + 0.005*\"ทราบ\" + 0.005*\"จ่าย\"'),\n",
       " (4,\n",
       "  '0.014*\"ตำรวจ\" + 0.012*\"โดน\" + 0.009*\"รถ\" + 0.009*\"ศาล\" + 0.008*\"แฟน\" + 0.008*\"ทราบ\" + 0.007*\"เพื่อน\" + 0.006*\"จ่าย\" + 0.006*\"แจ้ง\" + 0.006*\"ซื้อ\" + 0.006*\"ถาม\" + 0.006*\"เงิน\" + 0.006*\"แจ้งความ\" + 0.005*\"โทร\" + 0.005*\"วันที่\" + 0.005*\"ข้อหา\" + 0.005*\"จำหน่าย\" + 0.005*\"บริษัท\" + 0.005*\"ทนาย\" + 0.004*\"ยา\"')]"
      ]
     },
     "execution_count": 17,
     "metadata": {},
     "output_type": "execute_result"
    }
   ],
   "source": [
    "num_topics = 5\n",
    "lda_model = gensim.models.ldamodel.LdaModel(corpus=corpus,\n",
    "                                            id2word=id2word,\n",
    "                                            num_topics=num_topics,\n",
    "                                            iterations=1000, # number of iterations performed within each pass\n",
    "                                            chunksize=len(corpus),\n",
    "                                            passes=10, # number of times the model goes through the entire training corpus\n",
    "                                            alpha='auto', # how sparse of topic distribution\n",
    "                                            eta='auto', # how sparse of word distribution\n",
    "                                            random_state=RANDOM_STATE, \n",
    "                                            update_every=0, # frequency of parameter updates during training.\n",
    "                                            minimum_probability=0, \n",
    "                                            eval_every=1,\n",
    "                                            callbacks=[perplexity_logger, coherence_cv_logger]\n",
    "                                            )\n",
    "with open(f'lda/lda_model_{num_topics}.pkl', 'wb') as f:\n",
    "    pickle.dump(lda_model, f)\n",
    "lda_model.show_topics(num_topics=num_topics, num_words=20)"
   ]
  },
  {
   "cell_type": "code",
   "execution_count": 17,
   "metadata": {},
   "outputs": [],
   "source": [
    "topic_dict = {\n",
    "    0 : \"labor\",\n",
    "    1 : \"personal_rights/court\",\n",
    "    2 : \"family/succession\",\n",
    "    3 : \"contract\",\n",
    "    4 : \"criminal\"\n",
    "}\n",
    "num_topics = len(topic_dict)\n",
    "with open(f'lda/topic_dict_{num_topics}.pkl', 'wb') as f:\n",
    "    pickle.dump(topic_dict, f)"
   ]
  },
  {
   "cell_type": "code",
   "execution_count": 18,
   "metadata": {},
   "outputs": [
    {
     "data": {
      "text/plain": [
       "[(0,\n",
       "  '0.035*\"บริษัท\" + 0.018*\"จ่าย\" + 0.016*\"เงิน\" + 0.014*\"ทำงาน\" + 0.011*\"สัญญา\" + 0.011*\"แจ้ง\" + 0.010*\"พนักงาน\" + 0.009*\"วันที่\" + 0.008*\"งาน\" + 0.007*\"นายจ้าง\" + 0.007*\"รถ\" + 0.007*\"บาท\" + 0.006*\"ค่า\" + 0.006*\"เงินเดือน\" + 0.006*\"เอกสาร\" + 0.006*\"ทราบ\" + 0.005*\"ฟ้อง\" + 0.005*\"โอน\" + 0.004*\"หัก\" + 0.004*\"ลาออก\"'),\n",
       " (1,\n",
       "  '0.029*\"ศาล\" + 0.016*\"จำเลย\" + 0.014*\"บาท\" + 0.010*\"เงิน\" + 0.010*\"มาตรา\" + 0.010*\"ฟ้อง\" + 0.009*\"จำคุก\" + 0.007*\"ความผิด\" + 0.007*\"เช็ค\" + 0.006*\"จ่าย\" + 0.006*\"โจทก์\" + 0.006*\"กระทำความผิด\" + 0.006*\"ทนาย\" + 0.006*\"รถ\" + 0.005*\"ยื่น\" + 0.005*\"คำพิพากษา\" + 0.005*\"ลงโทษ\" + 0.005*\"อุทธรณ์\" + 0.005*\"รอ\" + 0.005*\"บ้าน\"'),\n",
       " (2,\n",
       "  '0.031*\"ที่ดิน\" + 0.021*\"บุตร\" + 0.020*\"สามี\" + 0.014*\"บ้าน\" + 0.014*\"พ่อ\" + 0.013*\"แม่\" + 0.013*\"สิทธิ\" + 0.013*\"มาตรา\" + 0.012*\"ลูก\" + 0.009*\"ภรรยา\" + 0.009*\"โอน\" + 0.009*\"บิดา\" + 0.009*\"แบ่ง\" + 0.008*\"ปพพ\" + 0.008*\"มรดก\" + 0.008*\"ผู้จัดการมรดก\" + 0.008*\"จดทะเบียน\" + 0.008*\"ทรัพย์สิน\" + 0.007*\"ศาล\" + 0.007*\"ทายาท\"'),\n",
       " (3,\n",
       "  '0.017*\"ธนาคาร\" + 0.017*\"เจ้าหนี้\" + 0.014*\"ชำระหนี้\" + 0.013*\"หนี้\" + 0.012*\"ลูกหนี้\" + 0.012*\"บ้าน\" + 0.011*\"ฟ้อง\" + 0.010*\"เงิน\" + 0.008*\"กู้\" + 0.008*\"บาท\" + 0.008*\"ยึด\" + 0.007*\"บังคับ\" + 0.007*\"รถ\" + 0.007*\"ผ่อน\" + 0.006*\"ทรัพย์สิน\" + 0.005*\"สัญญา\" + 0.005*\"ค้ำประกัน\" + 0.005*\"ผู้ค้ำประกัน\" + 0.005*\"แฟน\" + 0.005*\"ชำระ\"'),\n",
       " (4,\n",
       "  '0.015*\"ตำรวจ\" + 0.014*\"โดน\" + 0.012*\"รถ\" + 0.010*\"แฟน\" + 0.008*\"เพื่อน\" + 0.008*\"ศาล\" + 0.008*\"ทราบ\" + 0.006*\"ซื้อ\" + 0.006*\"แจ้งความ\" + 0.006*\"ถาม\" + 0.006*\"แจ้ง\" + 0.005*\"ข้อหา\" + 0.005*\"เงิน\" + 0.005*\"โทร\" + 0.005*\"จำหน่าย\" + 0.005*\"ยา\" + 0.005*\"จ่าย\" + 0.005*\"วันที่\" + 0.004*\"ทนาย\" + 0.004*\"คืน\"'),\n",
       " (5,\n",
       "  '0.038*\"นายจ้าง\" + 0.035*\"ลูกจ้าง\" + 0.027*\"มาตรา\" + 0.022*\"สิทธิ\" + 0.018*\"สัญญา\" + 0.012*\"จ่าย\" + 0.012*\"กรณี\" + 0.011*\"ค่าจ้าง\" + 0.011*\"เลิกจ้าง\" + 0.010*\"คุ้มครอง\" + 0.009*\"ทำงาน\" + 0.009*\"เช่าซื้อ\" + 0.007*\"บริษัท\" + 0.007*\"กฎหมาย\" + 0.007*\"แรงงาน\" + 0.006*\"ค่าชดเชย\" + 0.006*\"รบ\" + 0.006*\"ดังนั้น\" + 0.006*\"ตามพ\" + 0.006*\"การทำงาน\"')]"
      ]
     },
     "execution_count": 18,
     "metadata": {},
     "output_type": "execute_result"
    }
   ],
   "source": [
    "num_topics = 6\n",
    "lda_model = gensim.models.ldamodel.LdaModel(corpus=corpus,\n",
    "                                            id2word=id2word,\n",
    "                                            num_topics=num_topics,\n",
    "                                            iterations=1000, # number of iterations performed within each pass\n",
    "                                            chunksize=len(corpus),\n",
    "                                            passes=10, # number of times the model goes through the entire training corpus\n",
    "                                            alpha='auto', # how sparse of topic distribution\n",
    "                                            eta='auto', # how sparse of word distribution\n",
    "                                            random_state=RANDOM_STATE, \n",
    "                                            update_every=0, # frequency of parameter updates during training.\n",
    "                                            minimum_probability=0, \n",
    "                                            eval_every=1,\n",
    "                                            callbacks=[perplexity_logger, coherence_cv_logger]\n",
    "                                            )\n",
    "with open(f'lda/lda_model_{num_topics}.pkl', 'wb') as f:\n",
    "    pickle.dump(lda_model, f)\n",
    "lda_model.show_topics(num_topics=num_topics, num_words=20)"
   ]
  },
  {
   "cell_type": "code",
   "execution_count": 18,
   "metadata": {},
   "outputs": [],
   "source": [
    "topic_dict = {\n",
    "    0 : \"labor\",\n",
    "    1 : \"personal_rights/court\",\n",
    "    2 : \"family/succession\",\n",
    "    3 : \"contract\",\n",
    "    4 : \"criminal\",\n",
    "    5 : \"labor\"\n",
    "}\n",
    "\n",
    "num_topics = len(topic_dict)\n",
    "with open(f'lda/topic_dict_{num_topics}.pkl', 'wb') as f:\n",
    "    pickle.dump(topic_dict, f)"
   ]
  },
  {
   "cell_type": "code",
   "execution_count": 19,
   "metadata": {},
   "outputs": [
    {
     "data": {
      "text/plain": [
       "[(0,\n",
       "  '0.032*\"บริษัท\" + 0.020*\"เงิน\" + 0.018*\"จ่าย\" + 0.015*\"รถ\" + 0.012*\"สัญญา\" + 0.011*\"แจ้ง\" + 0.011*\"ทำงาน\" + 0.010*\"บาท\" + 0.009*\"วันที่\" + 0.008*\"พนักงาน\" + 0.008*\"ค่า\" + 0.007*\"งาน\" + 0.007*\"เอกสาร\" + 0.007*\"ทราบ\" + 0.006*\"โอน\" + 0.006*\"คืน\" + 0.006*\"ขาย\" + 0.006*\"ฟ้อง\" + 0.005*\"เงินเดือน\" + 0.005*\"จำนวน\"'),\n",
       " (1,\n",
       "  '0.034*\"ศาล\" + 0.019*\"จำเลย\" + 0.013*\"บาท\" + 0.012*\"มาตรา\" + 0.011*\"จำคุก\" + 0.009*\"ความผิด\" + 0.009*\"ฟ้อง\" + 0.008*\"เช็ค\" + 0.008*\"กระทำความผิด\" + 0.007*\"โจทก์\" + 0.007*\"เงิน\" + 0.006*\"ยื่น\" + 0.006*\"คำพิพากษา\" + 0.006*\"ลงโทษ\" + 0.006*\"อุทธรณ์\" + 0.006*\"ทนาย\" + 0.006*\"รอ\" + 0.006*\"ฐาน\" + 0.005*\"โทษ\" + 0.005*\"กรณี\"'),\n",
       " (2,\n",
       "  '0.030*\"ที่ดิน\" + 0.022*\"บุตร\" + 0.021*\"สามี\" + 0.015*\"บ้าน\" + 0.014*\"พ่อ\" + 0.014*\"แม่\" + 0.013*\"ลูก\" + 0.013*\"สิทธิ\" + 0.012*\"มาตรา\" + 0.010*\"ภรรยา\" + 0.009*\"บิดา\" + 0.009*\"แบ่ง\" + 0.009*\"โอน\" + 0.008*\"มรดก\" + 0.008*\"จดทะเบียน\" + 0.008*\"ทรัพย์สิน\" + 0.008*\"ปพพ\" + 0.008*\"ผู้จัดการมรดก\" + 0.007*\"เด็ก\" + 0.007*\"ทายาท\"'),\n",
       " (3,\n",
       "  '0.023*\"ธนาคาร\" + 0.021*\"เจ้าหนี้\" + 0.016*\"หนี้\" + 0.016*\"ชำระหนี้\" + 0.015*\"ลูกหนี้\" + 0.013*\"ฟ้อง\" + 0.012*\"บ้าน\" + 0.010*\"บาท\" + 0.010*\"ยึด\" + 0.010*\"เงิน\" + 0.008*\"กู้\" + 0.008*\"บังคับ\" + 0.007*\"ผ่อน\" + 0.007*\"ทรัพย์สิน\" + 0.006*\"ใช้หนี้\" + 0.006*\"ชำระ\" + 0.005*\"จำนอง\" + 0.005*\"ศาล\" + 0.005*\"ค้ำประกัน\" + 0.005*\"ผู้ค้ำประกัน\"'),\n",
       " (4,\n",
       "  '0.015*\"ตำรวจ\" + 0.014*\"โดน\" + 0.013*\"แฟน\" + 0.010*\"รถ\" + 0.009*\"เพื่อน\" + 0.008*\"ทราบ\" + 0.007*\"แจ้งความ\" + 0.007*\"โทร\" + 0.007*\"ซื้อ\" + 0.007*\"ศาล\" + 0.006*\"เงิน\" + 0.006*\"ถาม\" + 0.006*\"บ้าน\" + 0.006*\"ข้อหา\" + 0.005*\"จ่าย\" + 0.005*\"แจ้ง\" + 0.005*\"รู้\" + 0.005*\"ทนาย\" + 0.004*\"ยา\" + 0.004*\"วันที่\"'),\n",
       " (5,\n",
       "  '0.034*\"สัญญา\" + 0.024*\"มาตรา\" + 0.018*\"เช่าซื้อ\" + 0.017*\"สิทธิ\" + 0.012*\"ปพพ\" + 0.010*\"กู้ยืม\" + 0.010*\"รับผิด\" + 0.009*\"กรณี\" + 0.009*\"บังคับ\" + 0.008*\"ชำระหนี้\" + 0.007*\"ฟ้อง\" + 0.007*\"ผู้ซื้อ\" + 0.006*\"ผู้ขาย\" + 0.006*\"กฎหมาย\" + 0.006*\"ทำสัญญา\" + 0.006*\"หนังสือ\" + 0.006*\"ลูกจ้าง\" + 0.006*\"ดังนั้น\" + 0.006*\"เงิน\" + 0.006*\"ตกลง\"'),\n",
       " (6,\n",
       "  '0.042*\"นายจ้าง\" + 0.035*\"ลูกจ้าง\" + 0.018*\"มาตรา\" + 0.017*\"จ่าย\" + 0.016*\"สิทธิ\" + 0.015*\"เลิกจ้าง\" + 0.015*\"ทำงาน\" + 0.012*\"บริษัท\" + 0.011*\"กรณี\" + 0.011*\"ค่าจ้าง\" + 0.011*\"คุ้มครอง\" + 0.009*\"ค่าชดเชย\" + 0.009*\"แรงงาน\" + 0.007*\"งา\" + 0.007*\"สัญญาจ้าง\" + 0.007*\"พนักงาน\" + 0.006*\"ศาล\" + 0.006*\"แรง\" + 0.006*\"การทำงาน\" + 0.006*\"นพ\"')]"
      ]
     },
     "execution_count": 19,
     "metadata": {},
     "output_type": "execute_result"
    }
   ],
   "source": [
    "num_topics = 7\n",
    "lda_model = gensim.models.ldamodel.LdaModel(corpus=corpus,\n",
    "                                            id2word=id2word,\n",
    "                                            num_topics=num_topics,\n",
    "                                            iterations=1000, # number of iterations performed within each pass\n",
    "                                            chunksize=len(corpus),\n",
    "                                            passes=10, # number of times the model goes through the entire training corpus\n",
    "                                            alpha='auto', # how sparse of topic distribution\n",
    "                                            eta='auto', # how sparse of word distribution\n",
    "                                            random_state=RANDOM_STATE, \n",
    "                                            update_every=0, # frequency of parameter updates during training.\n",
    "                                            minimum_probability=0, \n",
    "                                            eval_every=1,\n",
    "                                            callbacks=[perplexity_logger, coherence_cv_logger]\n",
    "                                            )\n",
    "with open(f'lda/lda_model_{num_topics}.pkl', 'wb') as f:\n",
    "    pickle.dump(lda_model, f)\n",
    "lda_model.show_topics(num_topics=num_topics, num_words=20)"
   ]
  },
  {
   "cell_type": "code",
   "execution_count": 19,
   "metadata": {},
   "outputs": [],
   "source": [
    "topic_dict = {\n",
    "    0 : \"labor\",\n",
    "    1 : \"personal_rights/court\",\n",
    "    2 : \"family/succession\",\n",
    "    3 : \"contract\",\n",
    "    4 : \"criminal\",\n",
    "    5 : \"contract\",\n",
    "    6 : \"labor\"\n",
    "}\n",
    "\n",
    "num_topics = len(topic_dict)\n",
    "with open(f'lda/topic_dict_{num_topics}.pkl', 'wb') as f:\n",
    "    pickle.dump(topic_dict, f)"
   ]
  },
  {
   "cell_type": "code",
   "execution_count": 5,
   "metadata": {},
   "outputs": [
    {
     "data": {
      "text/plain": [
       "[(0,\n",
       "  '0.029*\"บริษัท\" + 0.023*\"เงิน\" + 0.019*\"รถ\" + 0.018*\"จ่าย\" + 0.014*\"สัญญา\" + 0.011*\"บาท\" + 0.010*\"แจ้ง\" + 0.009*\"คืน\" + 0.008*\"ค่า\" + 0.008*\"โอน\" + 0.008*\"เอกสาร\" + 0.008*\"ขาย\" + 0.007*\"วันที่\" + 0.007*\"ทราบ\" + 0.007*\"ฟ้อง\" + 0.007*\"เพื่อน\" + 0.006*\"จำนวน\" + 0.006*\"ทำงาน\" + 0.005*\"ซื้อ\" + 0.005*\"งวด\"'),\n",
       " (1,\n",
       "  '0.035*\"ศาล\" + 0.021*\"จำเลย\" + 0.013*\"บาท\" + 0.013*\"มาตรา\" + 0.010*\"จำคุก\" + 0.010*\"ฟ้อง\" + 0.009*\"ความผิด\" + 0.009*\"เช็ค\" + 0.008*\"โจทก์\" + 0.008*\"กระทำความผิด\" + 0.008*\"เงิน\" + 0.007*\"คำพิพากษา\" + 0.007*\"ยื่น\" + 0.007*\"อุทธรณ์\" + 0.006*\"ลงโทษ\" + 0.006*\"ฐาน\" + 0.005*\"ทนาย\" + 0.005*\"รอ\" + 0.005*\"บ้าน\" + 0.005*\"กรณี\"'),\n",
       " (2,\n",
       "  '0.031*\"ที่ดิน\" + 0.022*\"บุตร\" + 0.021*\"สามี\" + 0.015*\"พ่อ\" + 0.014*\"บ้าน\" + 0.014*\"แม่\" + 0.013*\"สิทธิ\" + 0.013*\"ลูก\" + 0.012*\"มาตรา\" + 0.010*\"ภรรยา\" + 0.009*\"บิดา\" + 0.009*\"แบ่ง\" + 0.009*\"โอน\" + 0.008*\"มรดก\" + 0.008*\"ผู้จัดการมรดก\" + 0.008*\"จดทะเบียน\" + 0.008*\"ปพพ\" + 0.008*\"ทรัพย์สิน\" + 0.007*\"เด็ก\" + 0.007*\"ทายาท\"'),\n",
       " (3,\n",
       "  '0.021*\"ธนาคาร\" + 0.018*\"เจ้าหนี้\" + 0.015*\"บ้าน\" + 0.015*\"หนี้\" + 0.014*\"ลูกหนี้\" + 0.013*\"ชำระหนี้\" + 0.011*\"ฟ้อง\" + 0.010*\"เงิน\" + 0.010*\"บาท\" + 0.009*\"ยึด\" + 0.008*\"ผ่อน\" + 0.006*\"แฟน\" + 0.006*\"กู้\" + 0.006*\"ทรัพย์สิน\" + 0.006*\"บังคับ\" + 0.006*\"รถ\" + 0.006*\"โดน\" + 0.005*\"แม่\" + 0.005*\"ใช้หนี้\" + 0.005*\"เพื่อน\"'),\n",
       " (4,\n",
       "  '0.021*\"ตำรวจ\" + 0.015*\"โดน\" + 0.010*\"แฟน\" + 0.008*\"ศาล\" + 0.008*\"เพื่อน\" + 0.008*\"ทราบ\" + 0.008*\"แจ้งความ\" + 0.008*\"รถ\" + 0.007*\"ซื้อ\" + 0.007*\"ข้อหา\" + 0.006*\"จำหน่าย\" + 0.006*\"ยา\" + 0.006*\"แจ้ง\" + 0.005*\"ถาม\" + 0.005*\"เงิน\" + 0.005*\"ยาบ้า\" + 0.004*\"บ้าน\" + 0.004*\"เม็ด\" + 0.004*\"กี่\" + 0.004*\"ครอบครอง\"'),\n",
       " (5,\n",
       "  '0.036*\"สัญญา\" + 0.025*\"มาตรา\" + 0.020*\"เช่าซื้อ\" + 0.018*\"สิทธิ\" + 0.013*\"ปพพ\" + 0.012*\"รับผิด\" + 0.010*\"บังคับ\" + 0.010*\"ชำระหนี้\" + 0.010*\"กรณี\" + 0.009*\"กู้ยืม\" + 0.007*\"ผู้ซื้อ\" + 0.007*\"ฟ้อง\" + 0.007*\"ผู้ขาย\" + 0.007*\"ทำสัญญา\" + 0.006*\"ดังนั้น\" + 0.006*\"กฎหมาย\" + 0.006*\"ตกลง\" + 0.006*\"หนังสือ\" + 0.006*\"ข้อตกลง\" + 0.006*\"เวลา\"'),\n",
       " (6,\n",
       "  '0.046*\"นายจ้าง\" + 0.037*\"ลูกจ้าง\" + 0.018*\"จ่าย\" + 0.018*\"มาตรา\" + 0.016*\"สิทธิ\" + 0.016*\"ทำงาน\" + 0.016*\"เลิกจ้าง\" + 0.014*\"บริษัท\" + 0.012*\"ค่าจ้าง\" + 0.011*\"กรณี\" + 0.011*\"คุ้มครอง\" + 0.010*\"ค่าชดเชย\" + 0.009*\"แรงงาน\" + 0.007*\"พนักงาน\" + 0.007*\"สัญญาจ้าง\" + 0.007*\"งา\" + 0.007*\"การทำงาน\" + 0.007*\"แรง\" + 0.006*\"งาน\" + 0.006*\"นพ\"'),\n",
       " (7,\n",
       "  '0.014*\"ทำงาน\" + 0.014*\"บริษัท\" + 0.010*\"งาน\" + 0.009*\"พนักงาน\" + 0.009*\"ทนาย\" + 0.008*\"จ่าย\" + 0.008*\"วันที่\" + 0.007*\"ศาล\" + 0.007*\"แจ้ง\" + 0.006*\"โดน\" + 0.006*\"รอ\" + 0.006*\"ถาม\" + 0.005*\"ใบ\" + 0.005*\"ทราบ\" + 0.005*\"หัวหน้า\" + 0.005*\"ตอบ\" + 0.005*\"ลาออก\" + 0.004*\"โทร\" + 0.004*\"เงิน\" + 0.004*\"จำคุก\"')]"
      ]
     },
     "execution_count": 5,
     "metadata": {},
     "output_type": "execute_result"
    }
   ],
   "source": [
    "num_topics = 8\n",
    "lda_model = gensim.models.ldamodel.LdaModel(corpus=corpus,\n",
    "                                            id2word=id2word,\n",
    "                                            num_topics=num_topics,\n",
    "                                            iterations=1000, # number of iterations performed within each pass\n",
    "                                            chunksize=len(corpus),\n",
    "                                            passes=10, # number of times the model goes through the entire training corpus\n",
    "                                            alpha='auto', # how sparse of topic distribution\n",
    "                                            eta='auto', # how sparse of word distribution\n",
    "                                            random_state=RANDOM_STATE, \n",
    "                                            update_every=0, # frequency of parameter updates during training.\n",
    "                                            minimum_probability=0, \n",
    "                                            eval_every=1,\n",
    "                                            callbacks=[perplexity_logger, coherence_cv_logger]\n",
    "                                            )\n",
    "with open(f'lda/lda_model_{num_topics}.pkl', 'wb') as f:\n",
    "    pickle.dump(lda_model, f)\n",
    "lda_model.show_topics(num_topics=num_topics, num_words=20)"
   ]
  },
  {
   "cell_type": "code",
   "execution_count": 20,
   "metadata": {},
   "outputs": [],
   "source": [
    "topic_dict = {\n",
    "    0 : \"contract\",\n",
    "    1 : \"personal_rights/court\",\n",
    "    2 : \"family/succession\",\n",
    "    3 : \"contract\",\n",
    "    4 : \"criminal\",\n",
    "    5 : \"contract\",\n",
    "    6 : \"labor\",\n",
    "    7 : \"labor\"\n",
    "}\n",
    "\n",
    "num_topics = len(topic_dict)\n",
    "with open(f'lda/topic_dict_{num_topics}.pkl', 'wb') as f:\n",
    "    pickle.dump(topic_dict, f)"
   ]
  },
  {
   "cell_type": "code",
   "execution_count": 20,
   "metadata": {},
   "outputs": [
    {
     "data": {
      "text/plain": [
       "[(0,\n",
       "  '0.025*\"รถ\" + 0.024*\"เงิน\" + 0.016*\"จ่าย\" + 0.014*\"บริษัท\" + 0.013*\"บาท\" + 0.011*\"สัญญา\" + 0.011*\"คืน\" + 0.010*\"โอน\" + 0.009*\"ขาย\" + 0.009*\"เพื่อน\" + 0.008*\"แจ้ง\" + 0.008*\"ฟ้อง\" + 0.008*\"ซื้อ\" + 0.008*\"เอกสาร\" + 0.007*\"ชื่อ\" + 0.007*\"ทราบ\" + 0.007*\"ค่า\" + 0.006*\"จำนวน\" + 0.006*\"งวด\" + 0.006*\"กู้\"'),\n",
       " (1,\n",
       "  '0.034*\"ศาล\" + 0.024*\"จำเลย\" + 0.015*\"มาตรา\" + 0.012*\"บาท\" + 0.011*\"จำคุก\" + 0.011*\"ความผิด\" + 0.010*\"เช็ค\" + 0.009*\"โจทก์\" + 0.009*\"กระทำความผิด\" + 0.008*\"ฟ้อง\" + 0.008*\"อุทธรณ์\" + 0.008*\"คำพิพากษา\" + 0.007*\"ลงโทษ\" + 0.007*\"ยื่น\" + 0.006*\"ฐาน\" + 0.006*\"เงิน\" + 0.005*\"รอ\" + 0.005*\"พิจารณา\" + 0.005*\"กรณี\" + 0.005*\"ทนาย\"'),\n",
       " (2,\n",
       "  '0.034*\"ที่ดิน\" + 0.024*\"บุตร\" + 0.018*\"สามี\" + 0.017*\"พ่อ\" + 0.016*\"บ้าน\" + 0.016*\"แม่\" + 0.015*\"ลูก\" + 0.013*\"สิทธิ\" + 0.011*\"ภรรยา\" + 0.010*\"บิดา\" + 0.010*\"แบ่ง\" + 0.010*\"มาตรา\" + 0.009*\"โอน\" + 0.009*\"มรดก\" + 0.008*\"จดทะเบียน\" + 0.008*\"ทรัพย์สิน\" + 0.008*\"เด็ก\" + 0.008*\"มารดา\" + 0.008*\"ชื่อ\" + 0.007*\"จดทะเบียนสมรส\"'),\n",
       " (3,\n",
       "  '0.023*\"ธนาคาร\" + 0.019*\"เจ้าหนี้\" + 0.016*\"หนี้\" + 0.015*\"บ้าน\" + 0.014*\"ชำระหนี้\" + 0.014*\"ลูกหนี้\" + 0.011*\"บาท\" + 0.011*\"ฟ้อง\" + 0.010*\"เงิน\" + 0.009*\"ยึด\" + 0.007*\"แฟน\" + 0.007*\"บังคับ\" + 0.006*\"ผ่อน\" + 0.006*\"ทรัพย์สิน\" + 0.006*\"ใช้หนี้\" + 0.005*\"โดน\" + 0.005*\"ทราบ\" + 0.005*\"กู้\" + 0.005*\"โทร\" + 0.005*\"จ่าย\"'),\n",
       " (4,\n",
       "  '0.022*\"ตำรวจ\" + 0.017*\"โดน\" + 0.010*\"แฟน\" + 0.009*\"ศาล\" + 0.008*\"ทราบ\" + 0.008*\"แจ้งความ\" + 0.007*\"เพื่อน\" + 0.007*\"ข้อหา\" + 0.007*\"จำหน่าย\" + 0.007*\"ซื้อ\" + 0.006*\"ยา\" + 0.006*\"รถ\" + 0.005*\"ถาม\" + 0.005*\"ยาบ้า\" + 0.005*\"บ้าน\" + 0.005*\"เม็ด\" + 0.005*\"แจ้ง\" + 0.005*\"กี่\" + 0.005*\"ประกันตัว\" + 0.004*\"ยาเสพติด\"'),\n",
       " (5,\n",
       "  '0.040*\"สัญญา\" + 0.022*\"มาตรา\" + 0.019*\"เช่าซื้อ\" + 0.017*\"สิทธิ\" + 0.013*\"ปพพ\" + 0.012*\"ชำระหนี้\" + 0.012*\"รับผิด\" + 0.011*\"กู้ยืม\" + 0.011*\"บังคับ\" + 0.010*\"กรณี\" + 0.009*\"ฟ้อง\" + 0.008*\"เงิน\" + 0.008*\"ผู้ซื้อ\" + 0.007*\"ทำสัญญา\" + 0.007*\"ผู้ขาย\" + 0.007*\"หนังสือ\" + 0.007*\"ขาย\" + 0.007*\"ที่ดิน\" + 0.006*\"ดอกเบี้ย\" + 0.006*\"ซื้อ\"'),\n",
       " (6,\n",
       "  '0.025*\"ศาล\" + 0.024*\"มาตรา\" + 0.019*\"สามี\" + 0.013*\"ภริยา\" + 0.012*\"ฟ้อง\" + 0.011*\"สิทธิ\" + 0.010*\"ผู้จัดการมรดก\" + 0.010*\"ฟ้องหย่า\" + 0.009*\"กรณี\" + 0.008*\"ทายาท\" + 0.007*\"ปพพ\" + 0.007*\"หย่า\" + 0.006*\"คำสั่ง\" + 0.006*\"ขอให้\" + 0.006*\"บุตร\" + 0.005*\"ตามกฎหมาย\" + 0.005*\"พินัยกรรม\" + 0.005*\"ค่าทดแทน\" + 0.005*\"ทรัพย์สิน\" + 0.004*\"ล้มละลาย\"'),\n",
       " (7,\n",
       "  '0.014*\"ทนาย\" + 0.012*\"ศาล\" + 0.010*\"จ่าย\" + 0.009*\"รอ\" + 0.006*\"ถาม\" + 0.006*\"ตอบ\" + 0.006*\"ใบ\" + 0.006*\"โดน\" + 0.006*\"เ\" + 0.006*\"วันที่\" + 0.005*\"เงิน\" + 0.005*\"ฟ้อง\" + 0.005*\"จำคุก\" + 0.005*\"ผู้เช่า\" + 0.005*\"โทษ\" + 0.005*\"แจ้ง\" + 0.005*\"ทราบ\" + 0.004*\"โทร\" + 0.004*\"แฟน\" + 0.004*\"งาน\"'),\n",
       " (8,\n",
       "  '0.039*\"นายจ้าง\" + 0.033*\"บริษัท\" + 0.031*\"ลูกจ้าง\" + 0.023*\"ทำงาน\" + 0.019*\"จ่าย\" + 0.014*\"พนักงาน\" + 0.013*\"เลิกจ้าง\" + 0.012*\"งาน\" + 0.012*\"สิทธิ\" + 0.011*\"มาตรา\" + 0.010*\"ค่าจ้าง\" + 0.009*\"วันที่\" + 0.009*\"คุ้มครอง\" + 0.008*\"แจ้ง\" + 0.008*\"ค่าชดเชย\" + 0.008*\"แรงงาน\" + 0.008*\"กรณี\" + 0.007*\"การทำงาน\" + 0.007*\"ลาออก\" + 0.007*\"เงิน\"')]"
      ]
     },
     "execution_count": 20,
     "metadata": {},
     "output_type": "execute_result"
    }
   ],
   "source": [
    "num_topics = 9\n",
    "lda_model = gensim.models.ldamodel.LdaModel(corpus=corpus,\n",
    "                                            id2word=id2word,\n",
    "                                            num_topics=num_topics,\n",
    "                                            iterations=1000, # number of iterations performed within each pass\n",
    "                                            chunksize=len(corpus),\n",
    "                                            passes=10, # number of times the model goes through the entire training corpus\n",
    "                                            alpha='auto', # how sparse of topic distribution\n",
    "                                            eta='auto', # how sparse of word distribution\n",
    "                                            random_state=RANDOM_STATE, \n",
    "                                            update_every=0, # frequency of parameter updates during training.\n",
    "                                            minimum_probability=0, \n",
    "                                            eval_every=1,\n",
    "                                            callbacks=[perplexity_logger, coherence_cv_logger]\n",
    "                                            )\n",
    "with open(f'lda/lda_model_{num_topics}.pkl', 'wb') as f:\n",
    "    pickle.dump(lda_model, f)\n",
    "lda_model.show_topics(num_topics=num_topics, num_words=20)"
   ]
  },
  {
   "cell_type": "code",
   "execution_count": 21,
   "metadata": {},
   "outputs": [],
   "source": [
    "topic_dict = {\n",
    "    0 : \"contract\",\n",
    "    1 : \"personal_rights/court\",\n",
    "    2 : \"family/succession\",\n",
    "    3 : \"contract\",\n",
    "    4 : \"criminal\",\n",
    "    5 : \"contract\",\n",
    "    6 : \"family/succession\",\n",
    "    7 : \"personal_rights/court\",\n",
    "    8 : \"labor\"\n",
    "}\n",
    "\n",
    "num_topics = len(topic_dict)\n",
    "with open(f'lda/topic_dict_{num_topics}.pkl', 'wb') as f:\n",
    "    pickle.dump(topic_dict, f)"
   ]
  },
  {
   "cell_type": "code",
   "execution_count": 21,
   "metadata": {},
   "outputs": [
    {
     "data": {
      "text/plain": [
       "[(0,\n",
       "  '0.028*\"รถ\" + 0.022*\"เงิน\" + 0.017*\"จ่าย\" + 0.014*\"บริษัท\" + 0.013*\"บาท\" + 0.011*\"คืน\" + 0.011*\"โอน\" + 0.010*\"ขาย\" + 0.009*\"สัญญา\" + 0.009*\"ซื้อ\" + 0.009*\"เพื่อน\" + 0.008*\"ฟ้อง\" + 0.008*\"แจ้ง\" + 0.007*\"ชื่อ\" + 0.007*\"งวด\" + 0.007*\"ค่า\" + 0.007*\"ทราบ\" + 0.006*\"ที่ดิน\" + 0.006*\"ผ่อน\" + 0.006*\"เอกสาร\"'),\n",
       " (1,\n",
       "  '0.034*\"ศาล\" + 0.025*\"จำเลย\" + 0.015*\"มาตรา\" + 0.013*\"บาท\" + 0.012*\"จำคุก\" + 0.011*\"ความผิด\" + 0.010*\"เช็ค\" + 0.009*\"กระทำความผิด\" + 0.009*\"โจทก์\" + 0.008*\"อุทธรณ์\" + 0.008*\"ฟ้อง\" + 0.008*\"คำพิพากษา\" + 0.007*\"ลงโทษ\" + 0.007*\"ยื่น\" + 0.007*\"ฐาน\" + 0.006*\"เงิน\" + 0.005*\"พิจารณา\" + 0.005*\"พิพากษา\" + 0.005*\"รอ\" + 0.005*\"กรณี\"'),\n",
       " (2,\n",
       "  '0.035*\"ที่ดิน\" + 0.025*\"บุตร\" + 0.018*\"สามี\" + 0.017*\"พ่อ\" + 0.015*\"แม่\" + 0.015*\"บ้าน\" + 0.014*\"สิทธิ\" + 0.014*\"ลูก\" + 0.011*\"บิดา\" + 0.011*\"แบ่ง\" + 0.011*\"มาตรา\" + 0.010*\"ภรรยา\" + 0.010*\"โอน\" + 0.010*\"มรดก\" + 0.009*\"ทรัพย์สิน\" + 0.009*\"จดทะเบียน\" + 0.008*\"เด็ก\" + 0.008*\"พินัยกรรม\" + 0.008*\"มารดา\" + 0.008*\"ผู้จัดการมรดก\"'),\n",
       " (3,\n",
       "  '0.021*\"บ้าน\" + 0.021*\"ธนาคาร\" + 0.012*\"บาท\" + 0.012*\"แฟน\" + 0.010*\"เงิน\" + 0.010*\"หนี้\" + 0.008*\"ฟ้อง\" + 0.008*\"แม่\" + 0.007*\"ลูก\" + 0.007*\"โดน\" + 0.007*\"โทร\" + 0.006*\"ทราบ\" + 0.006*\"รู้\" + 0.006*\"ยึด\" + 0.006*\"ผ่อน\" + 0.006*\"จ่าย\" + 0.006*\"ถาม\" + 0.005*\"รบกวน\" + 0.005*\"เพื่อน\" + 0.004*\"ซื้อ\"'),\n",
       " (4,\n",
       "  '0.024*\"ตำรวจ\" + 0.016*\"โดน\" + 0.010*\"ศาล\" + 0.008*\"ทราบ\" + 0.008*\"แฟน\" + 0.008*\"แจ้งความ\" + 0.007*\"ข้อหา\" + 0.007*\"เพื่อน\" + 0.007*\"จำหน่าย\" + 0.007*\"ซื้อ\" + 0.006*\"ยา\" + 0.005*\"เม็ด\" + 0.005*\"ยาบ้า\" + 0.005*\"รถ\" + 0.005*\"แจ้ง\" + 0.005*\"ถาม\" + 0.005*\"กี่\" + 0.005*\"น้อง\" + 0.005*\"ประกันตัว\" + 0.005*\"ร้าน\"'),\n",
       " (5,\n",
       "  '0.014*\"สัญญา\" + 0.012*\"ผู้ขาย\" + 0.011*\"ที่ดิน\" + 0.010*\"ผู้ซื้อ\" + 0.009*\"มาตรา\" + 0.008*\"กรณี\" + 0.008*\"ซื้อ\" + 0.007*\"ยกเลิก\" + 0.007*\"ขาย\" + 0.007*\"สินค้า\" + 0.006*\"งาน\" + 0.006*\"กฎหมาย\" + 0.006*\"เจ้าของ\" + 0.005*\"หนังสือ\" + 0.005*\"น้ำ\" + 0.004*\"จ่าย\" + 0.004*\"สิทธิ\" + 0.004*\"เจ้าของที่ดิน\" + 0.004*\"บริการ\" + 0.004*\"บ้าน\"'),\n",
       " (6,\n",
       "  '0.025*\"สามี\" + 0.024*\"ศาล\" + 0.021*\"มาตรา\" + 0.014*\"ภริยา\" + 0.012*\"ฟ้องหย่า\" + 0.012*\"ฟ้อง\" + 0.009*\"หย่า\" + 0.008*\"กรณี\" + 0.008*\"ผู้จัดการมรดก\" + 0.007*\"สิทธิ\" + 0.007*\"บุตร\" + 0.006*\"ปพพ\" + 0.006*\"ล้มละลาย\" + 0.005*\"คำสั่ง\" + 0.005*\"ค่าทดแทน\" + 0.005*\"หญิง\" + 0.005*\"อุปการะ\" + 0.005*\"ตามกฎหมาย\" + 0.004*\"ขอให้\" + 0.004*\"ทายาท\"'),\n",
       " (7,\n",
       "  '0.015*\"ศาล\" + 0.014*\"ทนาย\" + 0.010*\"รอ\" + 0.009*\"จ่าย\" + 0.007*\"โดน\" + 0.007*\"ตอบ\" + 0.006*\"จำคุก\" + 0.006*\"ถาม\" + 0.006*\"เ\" + 0.006*\"โทษ\" + 0.006*\"ฟ้อง\" + 0.005*\"ทราบ\" + 0.005*\"เงิน\" + 0.005*\"ใบ\" + 0.005*\"แฟน\" + 0.005*\"วันที่\" + 0.004*\"ลงอาญา\" + 0.004*\"เสพ\" + 0.004*\"ไม่ต้อง\" + 0.004*\"โทร\"'),\n",
       " (8,\n",
       "  '0.039*\"นายจ้าง\" + 0.035*\"บริษัท\" + 0.031*\"ลูกจ้าง\" + 0.023*\"ทำงาน\" + 0.019*\"จ่าย\" + 0.014*\"พนักงาน\" + 0.014*\"เลิกจ้าง\" + 0.012*\"สิทธิ\" + 0.012*\"งาน\" + 0.011*\"มาตรา\" + 0.010*\"ค่าจ้าง\" + 0.009*\"วันที่\" + 0.009*\"คุ้มครอง\" + 0.009*\"แจ้ง\" + 0.008*\"ค่าชดเชย\" + 0.008*\"แรงงาน\" + 0.008*\"กรณี\" + 0.007*\"การทำงาน\" + 0.007*\"ลาออก\" + 0.007*\"เงิน\"'),\n",
       " (9,\n",
       "  '0.033*\"สัญญา\" + 0.024*\"ชำระหนี้\" + 0.023*\"เจ้าหนี้\" + 0.020*\"มาตรา\" + 0.019*\"สิทธิ\" + 0.018*\"ลูกหนี้\" + 0.015*\"บังคับ\" + 0.014*\"เงิน\" + 0.014*\"เช่าซื้อ\" + 0.013*\"ฟ้อง\" + 0.013*\"รับผิด\" + 0.012*\"กู้ยืม\" + 0.012*\"ปพพ\" + 0.010*\"หนี้\" + 0.009*\"กรณี\" + 0.009*\"ทรัพย์สิน\" + 0.008*\"กู้\" + 0.008*\"ศาล\" + 0.008*\"ผู้ค้ำประกัน\" + 0.007*\"ดอกเบี้ย\"')]"
      ]
     },
     "execution_count": 21,
     "metadata": {},
     "output_type": "execute_result"
    }
   ],
   "source": [
    "num_topics = 10\n",
    "lda_model = gensim.models.ldamodel.LdaModel(corpus=corpus,\n",
    "                                            id2word=id2word,\n",
    "                                            num_topics=num_topics,\n",
    "                                            iterations=1000, # number of iterations performed within each pass\n",
    "                                            chunksize=len(corpus),\n",
    "                                            passes=10, # number of times the model goes through the entire training corpus\n",
    "                                            alpha='auto', # how sparse of topic distribution\n",
    "                                            eta='auto', # how sparse of word distribution\n",
    "                                            random_state=RANDOM_STATE, \n",
    "                                            update_every=0, # frequency of parameter updates during training.\n",
    "                                            minimum_probability=0, \n",
    "                                            eval_every=1,\n",
    "                                            callbacks=[perplexity_logger, coherence_cv_logger]\n",
    "                                            )\n",
    "with open(f'lda/lda_model_{num_topics}.pkl', 'wb') as f:\n",
    "    pickle.dump(lda_model, f)\n",
    "lda_model.show_topics(num_topics=num_topics, num_words=20)"
   ]
  },
  {
   "cell_type": "code",
   "execution_count": 15,
   "metadata": {},
   "outputs": [],
   "source": [
    "topic_dict = {\n",
    "    0 : \"contract\",\n",
    "    1 : \"personal_rights/court\",\n",
    "    2 : \"family/succession\",\n",
    "    3 : \"contract\",\n",
    "    4 : \"criminal\",\n",
    "    5 : \"contract\",\n",
    "    6 : \"family/succession\",\n",
    "    7 : \"personal_rights/court\",\n",
    "    8 : \"labor\",\n",
    "    9 : \"contract\"\n",
    "}\n",
    "\n",
    "num_topics = len(topic_dict)\n",
    "with open(f'lda/topic_dict_{num_topics}.pkl', 'wb') as f:\n",
    "    pickle.dump(topic_dict, f)"
   ]
  },
  {
   "cell_type": "code",
   "execution_count": null,
   "metadata": {},
   "outputs": [],
   "source": []
  },
  {
   "cell_type": "code",
   "execution_count": null,
   "metadata": {},
   "outputs": [],
   "source": []
  },
  {
   "cell_type": "code",
   "execution_count": null,
   "metadata": {},
   "outputs": [],
   "source": []
  }
 ],
 "metadata": {
  "kernelspec": {
   "display_name": "base",
   "language": "python",
   "name": "python3"
  },
  "language_info": {
   "codemirror_mode": {
    "name": "ipython",
    "version": 3
   },
   "file_extension": ".py",
   "mimetype": "text/x-python",
   "name": "python",
   "nbconvert_exporter": "python",
   "pygments_lexer": "ipython3",
   "version": "3.9.13"
  },
  "orig_nbformat": 4
 },
 "nbformat": 4,
 "nbformat_minor": 2
}
