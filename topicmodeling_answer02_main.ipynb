{
  "cells": [
    {
      "cell_type": "markdown",
      "metadata": {
        "colab_type": "text",
        "id": "view-in-github"
      },
      "source": [
        "<a href=\"https://colab.research.google.com/github/PreamJ/LDA_TopicModelling_Legal/blob/main/topicmodelling_answer02_main.ipynb\" target=\"_parent\"><img src=\"https://colab.research.google.com/assets/colab-badge.svg\" alt=\"Open In Colab\"/></a>"
      ]
    },
    {
      "cell_type": "code",
      "execution_count": 40,
      "metadata": {
        "colab": {
          "base_uri": "https://localhost:8080/"
        },
        "id": "CTEJbmAqNPj9",
        "outputId": "79284c71-967c-4c0c-8a20-f8fcca02aa11"
      },
      "outputs": [],
      "source": [
        "import pandas as pd\n",
        "import numpy as np\n",
        "import re\n",
        "import gensim\n",
        "from pythainlp.tokenize import word_tokenize\n",
        "from pythainlp.corpus import thai_stopwords\n",
        "from wordcloud import WordCloud\n",
        "from gensim import corpora, models, similarities\n",
        "import pyLDAvis\n",
        "from pprint import pprint\n",
        "import pickle \n",
        "import os\n",
        "import matplotlib.pyplot as plt\n",
        "from gensim.models import CoherenceModel\n",
        "from gensim.test.utils import datapath\n",
        "import random\n",
        "from gensim.models.ldamodel import LdaModel\n",
        "from sklearn.metrics.pairwise import cosine_similarity\n",
        "from sklearn.decomposition import LatentDirichletAllocation\n",
        "from sklearn.feature_extraction.text import CountVectorizer\n",
        "from gensim.corpora import MmCorpus"
      ]
    },
    {
      "cell_type": "code",
      "execution_count": 43,
      "metadata": {
        "colab": {
          "base_uri": "https://localhost:8080/"
        },
        "id": "uaboNqBXqTVn",
        "outputId": "37fc4357-9b3d-46ed-e7ea-7a9379f332b5"
      },
      "outputs": [
        {
          "data": {
            "text/plain": [
              "0    ดอกเบี้ยของเงินฝากสินส่วนตัวของภริยาย่อมเป็นดอ...\n",
              "1    คุณสามารถร้องขอเป็นผู้จัดการมรดกของบิดาได้ส่วน...\n",
              "2    เช็คลงวันที่ไม่ตรงกับวันครบกำหนดสัญญา้จะฟ้องร้...\n",
              "3    คุณมีทางเลือกอยู่ประการประการแรกยื่นคำร้องเพื่...\n",
              "4    คดีที่มีการฟ้องร้องแล้วและศาลอ่านคำพิพากษาเกิน...\n",
              "Name: answer, dtype: object"
            ]
          },
          "execution_count": 43,
          "metadata": {},
          "output_type": "execute_result"
        }
      ],
      "source": [
        "data = pd.read_csv('dataset/DatasetLegal.csv')\n",
        "data.answer.head()"
      ]
    },
    {
      "cell_type": "code",
      "execution_count": 44,
      "metadata": {
        "colab": {
          "base_uri": "https://localhost:8080/"
        },
        "id": "ggv0bXhgqXdP",
        "outputId": "08daf61c-9865-4634-e86b-35ef005d4b40"
      },
      "outputs": [
        {
          "name": "stderr",
          "output_type": "stream",
          "text": [
            "<>:2: DeprecationWarning: invalid escape sequence \\.\n",
            "<>:2: DeprecationWarning: invalid escape sequence \\.\n",
            "C:\\Users\\User\\AppData\\Local\\Temp\\ipykernel_12524\\1645713181.py:2: DeprecationWarning: invalid escape sequence \\.\n",
            "  str_answer = str_answer.map(lambda x: re.sub('[,\\.!?#]', '', x))\n"
          ]
        }
      ],
      "source": [
        "str_answer = data['answer'].astype(str)\n",
        "str_answer = str_answer.map(lambda x: re.sub('[,\\.!?#]', '', x))"
      ]
    },
    {
      "cell_type": "code",
      "execution_count": 45,
      "metadata": {
        "colab": {
          "base_uri": "https://localhost:8080/"
        },
        "id": "e93ptt4KtzMS",
        "outputId": "a712f91d-6a2d-4e8f-ba75-555252b2c8c9"
      },
      "outputs": [
        {
          "name": "stdout",
          "output_type": "stream",
          "text": [
            "['ดอกเบี้ยของเงินฝากสินส่วนตัวของภริยาย่อมเป็นดอกผลนิตินัยของสินส่วนตัวดอกเบี้ยดังกล่าวจึงเป็นสินสมรสตามความปพพมาตราแต่การที่ท่านประสงค์จะทำข้อตกลงหรือจดแจ้งไว้ในทะเบียนสมรสเกี่ยวด้วยเรื่องการเปลี่ยนดอกเบี้ยเงินฝากสินสมรสให้เป็นสินส่วนตัวของภริยาแต่เพียงฝ่ายเดียวไม่อาจกระทำได้โดยชอบเพราะเป็นการที่มีวัตถุประสงค์ต้องห้ามชัดแจ้งโดยกฎหมายและขัดต่อความสงบเรียบร้อยหรือศีลธรรมอันดีของประชาชนหากท่านและสามีฝ่าฝืนกระทำไปซึ่งเป็นการทำสัญญาระหว่างสมรสเกี่ยวกับทรัพย์สินระหว่างสามีภริยานั้นสัญญานั้นย่อมตกเป็นมฆะตามมาตราแต่อย่างไรก็ตามสามีอาจทำสัญญาการสละสิทธิแห่งดอกเบี้ยเงินฝากดังกล่าวที่เป็นสินสมรสในส่วนของตนให้แก่ภริยาได้อันเป็นการทำสัญญาระหว่างสมรสได้แต่อาจถูกบอกล้างเสียในระหว่างที่เป็นสามีภริยากันอยู่หรือภายในกำหนดปีนับแต่วันที่ขาดจากการเป็นสามีภริยากันก็ได้ตามปพพมาตราส่วนเงินเดือนค่าจ้างของสามีที่ได้มาระหว่างสมรสกับสินสมรสแต่ตราบใดที่ยังเป็นสามีภริยากันตามกฎหมายสามีหรือภริยาจะเรียกให้แบ่งแยกทรัพย์ที่เป็นสินสมรสรวมทั้งเงินเดือนค่าจ้างนี้ไม่อาจกระทำได้โดยชอบตามมาตรา', 'คุณสามารถร้องขอเป็นผู้จัดการมรดกของบิดาได้ส่วนพี่น้องที่อยู่ห่างไกลก็ใช้วิธ่ส่งเอกสารคำยินยอมให้คุณเป็นผู้จัดการมรดกให้เขาลงลายมือชื่อและส่งสำเนาบัตรประชาชนที่เขารับรองสำเนามาพร้อมเอกสารก็ได้เอกสารจะทำอย่างไรควรให้ทนายทำให้จะสะดวกตามข้อเท็จจริงมรดกของพ่อต้องแบ่งให้แม่ก่อนครึ่งหนึ่งที่เหลือครึ่งหนึ่งแบ่งส่วนเท่าๆกันแม่และลูกๆคนจะตกลงกันแบ่งให้คุณคนเดียวก็ได้แต่คุณควรทำสัญญาประนะประนอมให้พวกเขาลงลายมือชื่อไว้ให้ครบถ้วนทุกคนเพื่อป้องกันไม่ให้คุณถูกทายาทฟ้องร้องในภายหลัง', 'เช็คลงวันที่ไม่ตรงกับวันครบกำหนดสัญญา้จะฟ้องร้องบังคับคดีอาญาแพ่งได้หรือไม่ตอบฟ้องได้ทั้งแพ่งและอาญานายกจ่ายเช็คเพื่อชำระหนี้ทั้งของตนเองและของบุตรชายโดยเช็คแต่ละฉบับรวมยอดดอกเบี้ยตามระยะเวลาที่ยืดออกไปด้วยแล้วจะบังคับคดีได้หรือไม่ตอบได้การบังคับคดีเป็นการฟ้องทางแพ่งซึ่งมีสองข้อหาคือผิดสัญญา้กับผิดสัญญาตั๋วเงินเช็คซึ่งผู้ที่ลงลายมือชื่อในช่องผู้้และลงชื่อในเช็คต้องรับผิดชอบอยู่แล้วนายกชำระหนี้แทนนายขผู้เป็นบุตรชายโดยไม่มีลายลักษณ์อักษรว่ายินยอมรับภาระหนี้แทนบุตรชายเพียงแต่สั่งจ่ายเช็คเพื่อการชำระหนี้แทนบุตรชายเช็คฉบับดังกล่าวจะมีผลใช้ฟ้องร้องบังคับคดีได้หรือไม่ตอบได้ขอให้เป็นเช็คที่สั่งจ่ายโดยมีมูลหนี้ก็ฟ้องได้หมดแต่ถ้าเช็คไม่มีมูลหนี้เช่นทำเช็คหายหรือตีเช็คไว้ล่วงหน้าแต่ไม่มีการส่งมอบเงินหรือเช็คชำระหนี้พนันแบบนี้ฟ้องไม่ได้หากนายกปฏิเสธว่าไม่ได้สั่งจ่ายเพื่อการชำระหนี้แทนบุตรชายหากแต่เช็คฉบับดังกล่าวเขียนไว้เพื่อสั่งจ่ายค่าวัสดุก่อสร้างและได้หายไปก่อนหน้านี้แต่ไม่ได้แจ้งความเราจะนำพิสูจน์อย่างไรว่าเช็คฉบับดังกล่าวจ่ายให้เราจริงตอบก็พิสูจน์จากเงินที่ส่งมอบให้แก่บุตรชายสิเช่นคุณบอกว่าให้เงินบุตรชายเค้ายืมหากเค้าต่อสู้ว่าไม่ได้รับเงินก็นำพยานบุคคลที่รู้เห็นว่ามีการส่งมอบเงินมาเป็นพยานหรือไม่ก็เป็นหลักฐานการเบิกถอนเงินจากธนาคารมาแสดง', 'คุณมีทางเลือกอยู่ประการประการแรกยื่นคำร้องเพื่อขอเป็นผู้จัดการมรดกร่วมกับน้องชายประการที่สองปล่อยให้น้องชายเป็นผู้จัดการมรดกเพียงผู้เดียวแต่หากจัดการแบ่งมรดกไม่ถูกต้องคุณมีสิทธิคัดค้านและร้องศาลเพื่อขอถอดถอนน้องชายออกจากการเป็นผู้จัดการมรดกและคุณขอเข้าเป็นผู้จัดการมรดกแทนคุณและน้องชายมีสิทธิได้รับมรดกกันคนละครึ่ง', 'คดีที่มีการฟ้องร้องแล้วและศาลอ่านคำพิพากษาเกินกำหนดปีถือว่าขาดอายุความแล้วลูกหนี้ก็ไม่ต้องชำระหนี้หรือไม่มีภาระผูกพันกับหนี้แล้วยอดหนี้อาจจะน้อยเกินกว่าที่นโยบายของสถาบันการเงินจะให้ฟ้องแต่ถ้าเป็นบุตรเครดิตไม่ฟ้องภายในปีถือว่าขาดอายุความฟ้องมาสู้เรื่องอายุความลูกหนี้ก็ชนะหากลูกหนี้เป็นบุคคลล้มละลายและบรรดาเจ้าหนี้บัครเครดิตไม่ไปขอรับชำระหนี้ถือว่าตัดเป็นหนี้สูญลูกหนี้ไม่ต้องชำระหนี้ตามกฎหมายบัตรเครดิตเป็นคดีแพ่งไม่สามารถติดคุดได้และหากท่านคิดว่าการทวงหนี้ของเจ้าหนี้ส่งผลให้ท่านเกิดความเดือดร้อนรำคาญหากแน่ใจว่าหนี้ขาดอายุความแล้วก็แจ้งไปกับเจ้าหน้าที่ทวงหนี้หรือหากไม่หยุดการกระทำทวงหนี้ละเมิดหรือทวงหนี้โหดท่านสามารถร้องเรียนได้ที่ธนาคารแห่งประเทศไทยคดีที่มีการฟ้องร้องแล้วและศาลอ่านคำพิพากษาเกินกำหนดปีถือว่าขาดอายุความแล้วลูกหนี้ก็ไม่ต้องชำระหนี้หรือไม่มีภาระผูกพันกับหนี้แล้วยอดหนี้อาจจะน้อยเกินกว่าที่นโยบายของสถาบันการเงินจะให้ฟ้องแต่ถ้าเป็นบุตรเครดิตไม่ฟ้องภายในปีถือว่าขาดอายุความฟ้องมาสู้เรื่องอายุความลูกหนี้ก็ชนะหากลูกหนี้เป็นบุคคลล้มละลายและบรรดาเจ้าหนี้บัครเครดิตไม่ไปขอรับชำระหนี้ถือว่าตัดเป็นหนี้สูญลูกหนี้ไม่ต้องชำระหนี้ตามกฎหมายบัตรเครดิตเป็นคดีแพ่งไม่สามารถติดคุดได้และหากท่านคิดว่าการทวงหนี้ของเจ้าหนี้ส่งผลให้ท่านเกิดความเดือดร้อนรำคาญหากแน่ใจว่าหนี้ขาดอายุความแล้วก็แจ้งไปกับเจ้าหน้าที่ทวงหนี้หรือหากไม่หยุดการกระทำทวงหนี้ละเมิดหรือทวงหนี้โหดท่านสามารถร้องเรียนได้ที่ธนาคารแห่งประเทศไทย']\n"
          ]
        }
      ],
      "source": [
        "sentense_token_answer = []\n",
        "for each_answer in str_answer:\n",
        "  sentense_token_answer.append(each_answer)\n",
        "print(sentense_token_answer[:5])\n",
        "train_data = sentense_token_answer[:6030]\n",
        "test_data = sentense_token_answer[6031:7030]"
      ]
    },
    {
      "cell_type": "code",
      "execution_count": 46,
      "metadata": {
        "colab": {
          "base_uri": "https://localhost:8080/"
        },
        "id": "mtM0Ulb2uRt7",
        "outputId": "95d6887c-cf00-42c7-e347-342da07f6937"
      },
      "outputs": [
        {
          "name": "stdout",
          "output_type": "stream",
          "text": [
            "['ดอกเบี้ย', 'ของ', 'เงินฝาก', 'สินส่วนตัว', 'ของ', 'ภริยา', 'ย่อม', 'เป็น', 'ดอกผลนิตินัย', 'ของ']\n"
          ]
        }
      ],
      "source": [
        "word_token_answer = []\n",
        "for sentense in train_data:\n",
        "  word = word_tokenize(sentense, engine='newmm')\n",
        "  word_token_answer.append(word)\n",
        "\n",
        "print(word_token_answer[0][:10])"
      ]
    },
    {
      "cell_type": "code",
      "execution_count": 59,
      "metadata": {
        "colab": {
          "base_uri": "https://localhost:8080/"
        },
        "id": "kFG5jbVixAaR",
        "outputId": "8be9dfb5-2cd8-45cc-cbf8-04f60f553e46"
      },
      "outputs": [
        {
          "name": "stdout",
          "output_type": "stream",
          "text": [
            "['ดอกเบี้ย', 'เงินฝาก', 'สินส่วนตัว', 'ภริยา', 'ดอกผลนิตินัย', 'สินส่วนตัว', 'ดอกเบี้ย', 'สินสมรส']\n"
          ]
        }
      ],
      "source": [
        "stopwords = list(thai_stopwords())\n",
        "read_stopwords = pd.read_csv('dataset/add_stopwords.csv')\n",
        "add_stopwords = read_stopwords['stopword'].values.tolist()\n",
        "processed_answer = []\n",
        "for sentense in word_token_answer:\n",
        "  each_sentense = []\n",
        "  for word in sentense:\n",
        "    if(word not in stopwords + add_stopwords):\n",
        "      each_sentense.append(word)\n",
        "  processed_answer.append(each_sentense)\n",
        "print(processed_answer[0][:8])"
      ]
    },
    {
      "cell_type": "code",
      "execution_count": 60,
      "metadata": {},
      "outputs": [],
      "source": [
        "id2word = corpora.Dictionary(processed_answer)\n",
        "# print(id2word)\n",
        "with open('model/id2word.pkl', 'wb') as f:\n",
        "    pickle.dump(id2word, f)"
      ]
    },
    {
      "cell_type": "code",
      "execution_count": 61,
      "metadata": {
        "colab": {
          "base_uri": "https://localhost:8080/"
        },
        "id": "j2w7Cu2fsyNZ",
        "outputId": "eedb1809-ff6f-4c29-909b-95356fc5270c"
      },
      "outputs": [],
      "source": [
        "corpus = []\n",
        "for text in processed_answer:\n",
        "  vec = id2word.doc2bow(text)\n",
        "  corpus.append(vec)\n",
        "MmCorpus.serialize('model/corpus.mm', corpus)"
      ]
    },
    {
      "cell_type": "code",
      "execution_count": 62,
      "metadata": {
        "id": "OlPsfclys6vH"
      },
      "outputs": [],
      "source": [
        "num_topics = 7\n",
        "lda_model = gensim.models.ldamodel.LdaModel(corpus=corpus,\n",
        "                                       id2word=id2word,\n",
        "                                       num_topics=num_topics,\n",
        "                                       iterations=100,\n",
        "                                       chunksize=800,\n",
        "                                       passes=5,\n",
        "                                       alpha=0.5,\n",
        "                                       eta=0.01\n",
        "                                       )"
      ]
    },
    {
      "cell_type": "code",
      "execution_count": 63,
      "metadata": {
        "id": "sY1YzEHHEbrf"
      },
      "outputs": [],
      "source": [
        "# from gensim.test.utils import datapath\n",
        "\n",
        "#saving model to disk.\n",
        "# temp_file = datapath(\"lda_model.pickle\")\n",
        "# lda_model.save(temp_file)\n",
        "with open('model/lda_model.pkl', 'wb') as f:\n",
        "    pickle.dump(lda_model, f)"
      ]
    },
    {
      "cell_type": "code",
      "execution_count": 2,
      "metadata": {
        "colab": {
          "base_uri": "https://localhost:8080/"
        },
        "id": "WikRXQyw6xIl",
        "outputId": "73f4903f-92a0-490d-889e-e99b2bf3cfaf"
      },
      "outputs": [],
      "source": [
        "topic_dict = {\n",
        "    0 : \"Contract\",\n",
        "    1 : \"Family\",\n",
        "    2 : \"Labor\",\n",
        "    3 : \"Children\",\n",
        "    4 : \"Sentence\",\n",
        "    5 : \"lawyer\",\n",
        "    6 : \"Succession\"\n",
        "}\n",
        "\n",
        "with open('model/topic_dict.pkl', 'wb') as f:\n",
        "    pickle.dump(topic_dict, f)\n"
      ]
    },
    {
      "cell_type": "code",
      "execution_count": 65,
      "metadata": {
        "colab": {
          "base_uri": "https://localhost:8080/"
        },
        "id": "fCaXNgktK3RJ",
        "outputId": "40af04c7-a29a-45f4-f161-83103dfca2c1"
      },
      "outputs": [
        {
          "data": {
            "text/plain": [
              "[(0,\n",
              "  '0.026*\"สัญญา\" + 0.025*\"เงิน\" + 0.021*\"ชำระหนี้\" + 0.020*\"ฟ้อง\" + 0.018*\"เจ้าหนี้\" + 0.018*\"เช่าซื้อ\" + 0.015*\"บังคับ\" + 0.015*\"ลูกหนี้\" + 0.014*\"รับผิด\" + 0.013*\"หนี้\"'),\n",
              " (1,\n",
              "  '0.063*\"สามี\" + 0.050*\"มาตรา\" + 0.035*\"ภริยา\" + 0.026*\"ปพพ\" + 0.021*\"ฟ้องหย่า\" + 0.017*\"หญิง\" + 0.015*\"ตามกฎหมาย\" + 0.013*\"สิทธิ\" + 0.013*\"ภรรยา\" + 0.012*\"สินสมรส\"'),\n",
              " (2,\n",
              "  '0.066*\"นายจ้าง\" + 0.054*\"ลูกจ้าง\" + 0.025*\"มาตรา\" + 0.025*\"จ่าย\" + 0.023*\"สิทธิ\" + 0.021*\"เลิกจ้าง\" + 0.020*\"ทำงาน\" + 0.019*\"บริษัท\" + 0.018*\"คุ้มครอง\" + 0.018*\"ค่าจ้าง\"'),\n",
              " (3,\n",
              "  '0.071*\"บุตร\" + 0.034*\"บิดา\" + 0.024*\"มารดา\" + 0.022*\"เด็ก\" + 0.019*\"จดทะเบียน\" + 0.016*\"แม่\" + 0.014*\"พ่อ\" + 0.012*\"ผู้เยาว์\" + 0.011*\"ลูก\" + 0.010*\"ปกครอง\"'),\n",
              " (4,\n",
              "  '0.043*\"ศาล\" + 0.021*\"มาตรา\" + 0.019*\"จำเลย\" + 0.018*\"ความผิด\" + 0.017*\"จำคุก\" + 0.014*\"กระทำความผิด\" + 0.013*\"ฐาน\" + 0.010*\"คำพิพากษา\" + 0.010*\"บาท\" + 0.010*\"ลงโทษ\"'),\n",
              " (5,\n",
              "  '0.034*\"ตอบ\" + 0.031*\"ทนาย\" + 0.021*\"สัญญา\" + 0.014*\"ถาม\" + 0.014*\"จ่าย\" + 0.011*\"กฎหมาย\" + 0.011*\"บริษัท\" + 0.011*\"แจ้ง\" + 0.009*\"ทราบ\" + 0.008*\"ไม่ต้อง\"'),\n",
              " (6,\n",
              "  '0.062*\"ที่ดิน\" + 0.036*\"สิทธิ\" + 0.034*\"มาตรา\" + 0.021*\"ทายาท\" + 0.019*\"ปพพ\" + 0.018*\"ผู้จัดการมรดก\" + 0.018*\"ทรัพย์สิน\" + 0.017*\"มรดก\" + 0.017*\"บ้าน\" + 0.013*\"พินัยกรรม\"')]"
            ]
          },
          "execution_count": 65,
          "metadata": {},
          "output_type": "execute_result"
        }
      ],
      "source": [
        "lda_model.show_topics(num_topics=10, num_words=10)"
      ]
    },
    {
      "cell_type": "code",
      "execution_count": 67,
      "metadata": {
        "colab": {
          "base_uri": "https://localhost:8080/"
        },
        "id": "YTJeDJr6D3am",
        "outputId": "c8740eaf-69e2-4938-97d2-0cde7a77609d"
      },
      "outputs": [
        {
          "data": {
            "text/plain": [
              "-12.387011152418845"
            ]
          },
          "execution_count": 67,
          "metadata": {},
          "output_type": "execute_result"
        }
      ],
      "source": [
        "lda_model.log_perplexity(corpus)"
      ]
    },
    {
      "cell_type": "code",
      "execution_count": 71,
      "metadata": {
        "id": "u3lQ2hki2XrR"
      },
      "outputs": [
        {
          "name": "stderr",
          "output_type": "stream",
          "text": [
            "<>:2: DeprecationWarning: invalid escape sequence \\P\n",
            "<>:2: DeprecationWarning: invalid escape sequence \\P\n",
            "C:\\Users\\User\\AppData\\Local\\Temp\\ipykernel_12524\\1390831608.py:2: DeprecationWarning: invalid escape sequence \\P\n",
            "  font_path = 'C:\\Pream\\THSarabun.ttf'\n"
          ]
        }
      ],
      "source": [
        "from matplotlib.font_manager import FontProperties\n",
        "font_path = 'C:\\Pream\\THSarabun.ttf'\n",
        "font = FontProperties(fname=font_path, size = 20)\n",
        "def plotWordDist(n):\n",
        "  topic_num = n\n",
        "  topic_words = lda_model.show_topic(topic_num, topn=10)\n",
        "  words = [word_prob[0] for word_prob in topic_words]\n",
        "  probs = [word_prob[1] for word_prob in topic_words]\n",
        "\n",
        "  fig, ax = plt.subplots(figsize=(10, 6))\n",
        "  ax.bar(words, probs, width=0.6)\n",
        "  ax.set_title(f\"Word Distribution for Topic {topic_dict.get(topic_num)}\")\n",
        "  ax.set_xlabel(\"Words\")\n",
        "  ax.set_ylabel(\"Probabilities\")\n",
        "  plt.xticks(fontproperties=font) \n",
        "  plt.show()"
      ]
    },
    {
      "cell_type": "code",
      "execution_count": 68,
      "metadata": {
        "id": "lH2d-lG5bJpk"
      },
      "outputs": [],
      "source": [
        "# load saved model using pickle\n",
        "with open('model/lda_model.pkl', 'rb') as f:\n",
        "    lda_model = pickle.load(f)"
      ]
    },
    {
      "cell_type": "code",
      "execution_count": null,
      "metadata": {
        "colab": {
          "base_uri": "https://localhost:8080/",
          "height": 1000
        },
        "id": "b9rkxtqQ6KKb",
        "outputId": "fe5e9774-2b41-4152-8443-d04ed6265009"
      },
      "outputs": [],
      "source": [
        "plotWordDist(0)\n",
        "plotWordDist(1)\n",
        "plotWordDist(2)\n",
        "plotWordDist(3)\n",
        "plotWordDist(4)\n",
        "plotWordDist(5)\n",
        "plotWordDist(6)"
      ]
    },
    {
      "cell_type": "code",
      "execution_count": 75,
      "metadata": {
        "colab": {
          "base_uri": "https://localhost:8080/"
        },
        "id": "bahoCRN8gjFV",
        "outputId": "f1d3e7c6-c4c8-489f-e585-c8879d7b686f"
      },
      "outputs": [
        {
          "name": "stdout",
          "output_type": "stream",
          "text": [
            "Topic Contract:\n",
            "สัญญา: 0.0261\n",
            "เงิน: 0.0250\n",
            "ชำระหนี้: 0.0214\n",
            "ฟ้อง: 0.0202\n",
            "เจ้าหนี้: 0.0182\n",
            "เช่าซื้อ: 0.0175\n",
            "บังคับ: 0.0154\n",
            "ลูกหนี้: 0.0151\n",
            "รับผิด: 0.0136\n",
            "หนี้: 0.0131\n",
            "\n",
            "\n",
            "Topic Family:\n",
            "สามี: 0.0627\n",
            "มาตรา: 0.0498\n",
            "ภริยา: 0.0350\n",
            "ปพพ: 0.0265\n",
            "ฟ้องหย่า: 0.0207\n",
            "หญิง: 0.0170\n",
            "ตามกฎหมาย: 0.0154\n",
            "สิทธิ: 0.0130\n",
            "ภรรยา: 0.0129\n",
            "สินสมรส: 0.0123\n",
            "\n",
            "\n",
            "Topic Labor:\n",
            "นายจ้าง: 0.0655\n",
            "ลูกจ้าง: 0.0540\n",
            "มาตรา: 0.0251\n",
            "จ่าย: 0.0248\n",
            "สิทธิ: 0.0227\n",
            "เลิกจ้าง: 0.0205\n",
            "ทำงาน: 0.0201\n",
            "บริษัท: 0.0189\n",
            "คุ้มครอง: 0.0178\n",
            "ค่าจ้าง: 0.0177\n",
            "\n",
            "\n",
            "Topic Children:\n",
            "บุตร: 0.0711\n",
            "บิดา: 0.0340\n",
            "มารดา: 0.0239\n",
            "เด็ก: 0.0216\n",
            "จดทะเบียน: 0.0189\n",
            "แม่: 0.0161\n",
            "พ่อ: 0.0139\n",
            "ผู้เยาว์: 0.0116\n",
            "ลูก: 0.0114\n",
            "ปกครอง: 0.0104\n",
            "\n",
            "\n",
            "Topic Sentence:\n",
            "ศาล: 0.0434\n",
            "มาตรา: 0.0214\n",
            "จำเลย: 0.0194\n",
            "ความผิด: 0.0184\n",
            "จำคุก: 0.0167\n",
            "กระทำความผิด: 0.0137\n",
            "ฐาน: 0.0134\n",
            "คำพิพากษา: 0.0104\n",
            "บาท: 0.0103\n",
            "ลงโทษ: 0.0103\n",
            "\n",
            "\n",
            "Topic lawyer:\n",
            "ตอบ: 0.0341\n",
            "ทนาย: 0.0310\n",
            "สัญญา: 0.0208\n",
            "ถาม: 0.0144\n",
            "จ่าย: 0.0142\n",
            "กฎหมาย: 0.0111\n",
            "บริษัท: 0.0111\n",
            "แจ้ง: 0.0111\n",
            "ทราบ: 0.0086\n",
            "ไม่ต้อง: 0.0084\n",
            "\n",
            "\n",
            "Topic Succession:\n",
            "ที่ดิน: 0.0619\n",
            "สิทธิ: 0.0363\n",
            "มาตรา: 0.0336\n",
            "ทายาท: 0.0209\n",
            "ปพพ: 0.0190\n",
            "ผู้จัดการมรดก: 0.0180\n",
            "ทรัพย์สิน: 0.0178\n",
            "มรดก: 0.0172\n",
            "บ้าน: 0.0172\n",
            "พินัยกรรม: 0.0135\n",
            "\n",
            "\n"
          ]
        }
      ],
      "source": [
        "# word-topic distribution\n",
        "for i in range(lda_model.num_topics):\n",
        "    print(f\"Topic {topic_dict.get(i)}:\")\n",
        "    for word, prob in lda_model.show_topic(i):\n",
        "        print(f\"{word}: {prob:.4f}\")\n",
        "    print(\"\\n\")"
      ]
    },
    {
      "cell_type": "code",
      "execution_count": 76,
      "metadata": {
        "colab": {
          "base_uri": "https://localhost:8080/"
        },
        "id": "_-slRUFJiyjK",
        "outputId": "5744c459-c8d7-4ef7-b2a5-ab5bc28e87c0"
      },
      "outputs": [
        {
          "name": "stdout",
          "output_type": "stream",
          "text": [
            "Document 0:\n",
            "Topic Contract: 0.1729\n",
            "Topic Family: 0.6798\n",
            "Topic Labor: 0.0614\n",
            "Topic lawyer: 0.0148\n",
            "Topic Succession: 0.0577\n",
            "\n",
            "\n",
            "Document 1:\n",
            "Topic Contract: 0.1592\n",
            "Topic Family: 0.0130\n",
            "Topic Labor: 0.0123\n",
            "Topic Children: 0.3718\n",
            "Topic Sentence: 0.0514\n",
            "Topic lawyer: 0.0521\n",
            "Topic Succession: 0.3402\n",
            "\n",
            "\n",
            "Document 2:\n",
            "Topic Contract: 0.6605\n",
            "Topic Children: 0.1231\n",
            "Topic Sentence: 0.0188\n",
            "Topic lawyer: 0.1458\n",
            "Topic Succession: 0.0425\n",
            "\n",
            "\n",
            "Document 3:\n",
            "Topic Contract: 0.0174\n",
            "Topic Family: 0.0174\n",
            "Topic Labor: 0.0170\n",
            "Topic Children: 0.1159\n",
            "Topic Sentence: 0.0187\n",
            "Topic lawyer: 0.0537\n",
            "Topic Succession: 0.7600\n",
            "\n",
            "\n",
            "Document 4:\n",
            "Topic Contract: 0.6618\n",
            "Topic Family: 0.0330\n",
            "Topic Labor: 0.0511\n",
            "Topic Children: 0.1103\n",
            "Topic Sentence: 0.0608\n",
            "Topic lawyer: 0.0790\n",
            "\n",
            "\n"
          ]
        }
      ],
      "source": [
        "#topic-document distribution\n",
        "for i, doc in enumerate(corpus[:5]):\n",
        "    print(f\"Document {i}:\")\n",
        "    for topic, prob in lda_model.get_document_topics(doc):\n",
        "        print(f\"Topic {topic_dict.get(topic)}: {prob:.4f}\")\n",
        "    print(\"\\n\")"
      ]
    },
    {
      "cell_type": "markdown",
      "metadata": {
        "id": "VLsrjbfl-Jtu"
      },
      "source": [
        "Find optimize number of topics between 2-10\n",
        "and plot coherence value each topic"
      ]
    },
    {
      "cell_type": "code",
      "execution_count": null,
      "metadata": {
        "colab": {
          "base_uri": "https://localhost:8080/",
          "height": 314
        },
        "id": "lSb-Wdpzre73",
        "outputId": "cfb9fa84-6d81-4b45-cbe2-2362e3d345af"
      },
      "outputs": [],
      "source": [
        "min_topics, max_topics = 2, 20\n",
        "step_size = 1\n",
        "\n",
        "coherence_scores = []\n",
        "num_topics_list = []\n",
        "\n",
        "for num_topics in range(min_topics, max_topics+1, step_size):\n",
        "  lda_model = gensim.models.ldamodel.LdaModel(corpus=corpus,\n",
        "                                              id2word=id2word,\n",
        "                                              num_topics=num_topics,\n",
        "                                              passes=10,\n",
        "                                              iterations=100,\n",
        "                                              chunksize=200,\n",
        "                                              alpha=0.5,\n",
        "                                              eta=0.01)\n",
        "  coherence_model_lda = CoherenceModel(model=lda_model, texts=processed_answer, dictionary=id2word, coherence='c_v')\n",
        "  coherence_score = coherence_model_lda.get_coherence()\n",
        "  coherence_scores.append(coherence_score)\n",
        "  num_topics_list.append(num_topics)\n",
        "\n",
        "coherence_model_lda = CoherenceModel(model=lda_model, texts=processed_answer, dictionary=id2word, coherence='c_v')\n",
        "coherence_lda = coherence_model_lda.get_coherence()\n",
        "\n",
        "plt.plot(num_topics_list, coherence_scores)\n",
        "plt.xlabel(\"Number of Topics\")\n",
        "plt.ylabel(\"Coherence Score\")\n",
        "plt.show()\n",
        "# Find the optimal number of topics with the highest coherence score\n",
        "optimal_num_topics = num_topics_list[coherence_scores.index(max(coherence_scores))]\n",
        "print(f\"Optimal number of topics: {optimal_num_topics}\\nMax coherence score : {max(coherence_scores)}\")"
      ]
    },
    {
      "cell_type": "markdown",
      "metadata": {
        "id": "E0DWwk5l8lFT"
      },
      "source": [
        "word distribution as bar plot"
      ]
    },
    {
      "cell_type": "markdown",
      "metadata": {
        "id": "h5WBD3hbT1iy"
      },
      "source": [
        "bar plot for topic-document distribution"
      ]
    },
    {
      "cell_type": "code",
      "execution_count": 77,
      "metadata": {
        "colab": {
          "base_uri": "https://localhost:8080/",
          "height": 404
        },
        "id": "cinEux5QEUrA",
        "outputId": "bd56f1ab-61f9-46c0-d24b-ec918d10b230"
      },
      "outputs": [
        {
          "data": {
            "image/png": "[encoded data removed]",
            "text/plain": [
              "<Figure size 800x600 with 1 Axes>"
            ]
          },
          "metadata": {},
          "output_type": "display_data"
        }
      ],
      "source": [
        "doc_id = np.random.randint(len(train_data)) \n",
        "doc_topics = lda_model.get_document_topics(corpus[doc_id]) \n",
        "\n",
        "# plot the bar chart\n",
        "plt.figure(figsize=(8,6))\n",
        "plt.bar([t[0] for t in doc_topics], [t[1] for t in doc_topics])\n",
        "plt.xlabel('Topic ID')\n",
        "plt.ylabel('Topic Proportion')\n",
        "plt.title(f'Topic Distribution for Document {doc_id}')\n",
        "plt.show()"
      ]
    },
    {
      "cell_type": "markdown",
      "metadata": {
        "id": "zCKqzoUi-uGM"
      },
      "source": [
        "topic for each document"
      ]
    },
    {
      "cell_type": "code",
      "execution_count": 78,
      "metadata": {
        "id": "C2UBP4-WfpmL"
      },
      "outputs": [
        {
          "name": "stderr",
          "output_type": "stream",
          "text": [
            "C:\\Users\\User\\AppData\\Local\\Temp\\ipykernel_12524\\1531488701.py:9: FutureWarning: The frame.append method is deprecated and will be removed from pandas in a future version. Use pandas.concat instead.\n",
            "  sent_topics_df = sent_topics_df.append(pd.Series([int(topic_num), round(prop_topic,4)]), ignore_index=True)\n",
            "C:\\Users\\User\\AppData\\Local\\Temp\\ipykernel_12524\\1531488701.py:9: FutureWarning: The frame.append method is deprecated and will be removed from pandas in a future version. Use pandas.concat instead.\n",
            "  sent_topics_df = sent_topics_df.append(pd.Series([int(topic_num), round(prop_topic,4)]), ignore_index=True)\n"
          ]
        },
        {
          "data": {
            "text/html": [
              "<div>\n",
              "<style scoped>\n",
              "    .dataframe tbody tr th:only-of-type {\n",
              "        vertical-align: middle;\n",
              "    }\n",
              "\n",
              "    .dataframe tbody tr th {\n",
              "        vertical-align: top;\n",
              "    }\n",
              "\n",
              "    .dataframe thead th {\n",
              "        text-align: right;\n",
              "    }\n",
              "</style>\n",
              "<table border=\"1\" class=\"dataframe\">\n",
              "  <thead>\n",
              "    <tr style=\"text-align: right;\">\n",
              "      <th></th>\n",
              "      <th>Document_No</th>\n",
              "      <th>Dominant_Topic</th>\n",
              "      <th>Topic_Perc_Contrib</th>\n",
              "    </tr>\n",
              "  </thead>\n",
              "  <tbody>\n",
              "    <tr>\n",
              "      <th>0</th>\n",
              "      <td>0</td>\n",
              "      <td>1.0</td>\n",
              "      <td>0.6798</td>\n",
              "    </tr>\n",
              "    <tr>\n",
              "      <th>1</th>\n",
              "      <td>1</td>\n",
              "      <td>3.0</td>\n",
              "      <td>0.3718</td>\n",
              "    </tr>\n",
              "    <tr>\n",
              "      <th>2</th>\n",
              "      <td>2</td>\n",
              "      <td>0.0</td>\n",
              "      <td>0.6605</td>\n",
              "    </tr>\n",
              "    <tr>\n",
              "      <th>3</th>\n",
              "      <td>3</td>\n",
              "      <td>6.0</td>\n",
              "      <td>0.7600</td>\n",
              "    </tr>\n",
              "    <tr>\n",
              "      <th>4</th>\n",
              "      <td>4</td>\n",
              "      <td>0.0</td>\n",
              "      <td>0.6618</td>\n",
              "    </tr>\n",
              "    <tr>\n",
              "      <th>5</th>\n",
              "      <td>5</td>\n",
              "      <td>4.0</td>\n",
              "      <td>0.9174</td>\n",
              "    </tr>\n",
              "    <tr>\n",
              "      <th>6</th>\n",
              "      <td>6</td>\n",
              "      <td>0.0</td>\n",
              "      <td>0.5227</td>\n",
              "    </tr>\n",
              "    <tr>\n",
              "      <th>7</th>\n",
              "      <td>7</td>\n",
              "      <td>4.0</td>\n",
              "      <td>0.5974</td>\n",
              "    </tr>\n",
              "    <tr>\n",
              "      <th>8</th>\n",
              "      <td>8</td>\n",
              "      <td>6.0</td>\n",
              "      <td>0.8922</td>\n",
              "    </tr>\n",
              "    <tr>\n",
              "      <th>9</th>\n",
              "      <td>9</td>\n",
              "      <td>4.0</td>\n",
              "      <td>0.6309</td>\n",
              "    </tr>\n",
              "    <tr>\n",
              "      <th>10</th>\n",
              "      <td>10</td>\n",
              "      <td>2.0</td>\n",
              "      <td>0.4862</td>\n",
              "    </tr>\n",
              "    <tr>\n",
              "      <th>11</th>\n",
              "      <td>11</td>\n",
              "      <td>5.0</td>\n",
              "      <td>0.4073</td>\n",
              "    </tr>\n",
              "    <tr>\n",
              "      <th>12</th>\n",
              "      <td>12</td>\n",
              "      <td>4.0</td>\n",
              "      <td>0.3390</td>\n",
              "    </tr>\n",
              "    <tr>\n",
              "      <th>13</th>\n",
              "      <td>13</td>\n",
              "      <td>2.0</td>\n",
              "      <td>0.8229</td>\n",
              "    </tr>\n",
              "    <tr>\n",
              "      <th>14</th>\n",
              "      <td>14</td>\n",
              "      <td>0.0</td>\n",
              "      <td>0.3742</td>\n",
              "    </tr>\n",
              "    <tr>\n",
              "      <th>15</th>\n",
              "      <td>15</td>\n",
              "      <td>3.0</td>\n",
              "      <td>0.3066</td>\n",
              "    </tr>\n",
              "    <tr>\n",
              "      <th>16</th>\n",
              "      <td>16</td>\n",
              "      <td>6.0</td>\n",
              "      <td>0.3565</td>\n",
              "    </tr>\n",
              "    <tr>\n",
              "      <th>17</th>\n",
              "      <td>17</td>\n",
              "      <td>3.0</td>\n",
              "      <td>0.4587</td>\n",
              "    </tr>\n",
              "    <tr>\n",
              "      <th>18</th>\n",
              "      <td>18</td>\n",
              "      <td>6.0</td>\n",
              "      <td>0.4098</td>\n",
              "    </tr>\n",
              "    <tr>\n",
              "      <th>19</th>\n",
              "      <td>19</td>\n",
              "      <td>0.0</td>\n",
              "      <td>0.7528</td>\n",
              "    </tr>\n",
              "  </tbody>\n",
              "</table>\n",
              "</div>"
            ],
            "text/plain": [
              "    Document_No  Dominant_Topic  Topic_Perc_Contrib\n",
              "0             0             1.0              0.6798\n",
              "1             1             3.0              0.3718\n",
              "2             2             0.0              0.6605\n",
              "3             3             6.0              0.7600\n",
              "4             4             0.0              0.6618\n",
              "5             5             4.0              0.9174\n",
              "6             6             0.0              0.5227\n",
              "7             7             4.0              0.5974\n",
              "8             8             6.0              0.8922\n",
              "9             9             4.0              0.6309\n",
              "10           10             2.0              0.4862\n",
              "11           11             5.0              0.4073\n",
              "12           12             4.0              0.3390\n",
              "13           13             2.0              0.8229\n",
              "14           14             0.0              0.3742\n",
              "15           15             3.0              0.3066\n",
              "16           16             6.0              0.3565\n",
              "17           17             3.0              0.4587\n",
              "18           18             6.0              0.4098\n",
              "19           19             0.0              0.7528"
            ]
          },
          "execution_count": 78,
          "metadata": {},
          "output_type": "execute_result"
        }
      ],
      "source": [
        "def format_topics_sentences(ldamodel=lda_model, corpus=corpus):\n",
        "  sent_topics_df = pd.DataFrame()\n",
        "  for i, row in enumerate(ldamodel[corpus]):\n",
        "      row = sorted(row, key=lambda x: (x[1]), reverse=True)\n",
        "      for j, (topic_num, prop_topic) in enumerate(row):\n",
        "          if j == 0:  # => dominant topic\n",
        "              wp = ldamodel.show_topic(topic_num)\n",
        "              topic_keywords = \", \".join([word for word, prop in wp])\n",
        "              sent_topics_df = sent_topics_df.append(pd.Series([int(topic_num), round(prop_topic,4)]), ignore_index=True)\n",
        "          else:\n",
        "            break\n",
        "  return(sent_topics_df)\n",
        "\n",
        "\n",
        "df_topic_sents_keywords = format_topics_sentences(ldamodel=lda_model, corpus=corpus)\n",
        "\n",
        "# Format\n",
        "df_dominant_topic = df_topic_sents_keywords.reset_index()\n",
        "df_dominant_topic.columns = ['Document_No', 'Dominant_Topic', 'Topic_Perc_Contrib']\n",
        "\n",
        "# Show\n",
        "df_dominant_topic.head(20)\n",
        " "
      ]
    },
    {
      "cell_type": "markdown",
      "metadata": {
        "id": "CnGK-y4c_STX"
      },
      "source": [
        "lda visualization"
      ]
    },
    {
      "cell_type": "code",
      "execution_count": 79,
      "metadata": {
        "colab": {
          "base_uri": "https://localhost:8080/",
          "height": 897
        },
        "id": "LiY90t3FVJWp",
        "outputId": "0bc4e5da-26a1-4337-caab-d87e2bc900a0"
      },
      "outputs": [
        {
          "name": "stderr",
          "output_type": "stream",
          "text": [
            "c:\\Users\\User\\anaconda3\\lib\\site-packages\\pyLDAvis\\_prepare.py:243: FutureWarning: In a future version of pandas all arguments of DataFrame.drop except for the argument 'labels' will be keyword-only.\n",
            "  default_term_info = default_term_info.sort_values(\n"
          ]
        },
        {
          "data": {
            "text/html": [
              "\n",
              "<link rel=\"stylesheet\" type=\"text/css\" href=\"https://cdn.jsdelivr.net/gh/bmabey/pyLDAvis@3.4.0/pyLDAvis/js/ldavis.v1.0.0.css\">\n",
              "\n",
              "\n",
              "<div id=\"ldavis_el1252424010464802568256571200\" style=\"background-color:white;\"></div>\n",
              "<script type=\"text/javascript\">\n",
              "\n",
              "var ldavis_el1252424010464802568256571200_data = {\"mdsDat\": {\"x\": [-0.05551508107036285, -0.00276358682853879, -0.1930348117190704, 0.23724824782446702, 0.10816400124606164, -0.2522005953687808, 0.1581018259162242], \"y\": [-0.09871369537894735, 0.09540235212931714, 0.20278858094902302, 0.003765010984755181, -0.24829797868147505, -0.12861020097031264, 0.1736659309676393], \"topics\": [1, 2, 3, 4, 5, 6, 7], \"cluster\": [1, 1, 1, 1, 1, 1, 1], \"Freq\": [19.823129491103458, 19.760643935147964, 15.454064581842008, 15.351420526351914, 10.347805228290223, 10.080594628329893, 9.182341608934538]}, \"tinfo\": {\"Term\": [\"\\u0e19\\u0e32\\u0e22\\u0e08\\u0e49\\u0e32\\u0e07\", \"\\u0e17\\u0e35\\u0e48\\u0e14\\u0e34\\u0e19\", \"\\u0e1a\\u0e38\\u0e15\\u0e23\", \"\\u0e25\\u0e39\\u0e01\\u0e08\\u0e49\\u0e32\\u0e07\", \"\\u0e2a\\u0e32\\u0e21\\u0e35\", \"\\u0e21\\u0e32\\u0e15\\u0e23\\u0e32\", \"\\u0e2a\\u0e31\\u0e0d\\u0e0d\\u0e32\", \"\\u0e1a\\u0e34\\u0e14\\u0e32\", \"\\u0e20\\u0e23\\u0e34\\u0e22\\u0e32\", \"\\u0e15\\u0e2d\\u0e1a\", \"\\u0e17\\u0e19\\u0e32\\u0e22\", \"\\u0e1b\\u0e1e\\u0e1e\", \"\\u0e0a\\u0e33\\u0e23\\u0e30\\u0e2b\\u0e19\\u0e35\\u0e49\", \"\\u0e08\\u0e48\\u0e32\\u0e22\", \"\\u0e08\\u0e33\\u0e40\\u0e25\\u0e22\", \"\\u0e17\\u0e32\\u0e22\\u0e32\\u0e17\", \"\\u0e40\\u0e08\\u0e49\\u0e32\\u0e2b\\u0e19\\u0e35\\u0e49\", \"\\u0e40\\u0e0a\\u0e48\\u0e32\\u0e0b\\u0e37\\u0e49\\u0e2d\", \"\\u0e28\\u0e32\\u0e25\", \"\\u0e21\\u0e32\\u0e23\\u0e14\\u0e32\", \"\\u0e17\\u0e33\\u0e07\\u0e32\\u0e19\", \"\\u0e40\\u0e25\\u0e34\\u0e01\\u0e08\\u0e49\\u0e32\\u0e07\", \"\\u0e04\\u0e27\\u0e32\\u0e21\\u0e1c\\u0e34\\u0e14\", \"\\u0e40\\u0e07\\u0e34\\u0e19\", \"\\u0e04\\u0e38\\u0e49\\u0e21\\u0e04\\u0e23\\u0e2d\\u0e07\", \"\\u0e40\\u0e14\\u0e47\\u0e01\", \"\\u0e1c\\u0e39\\u0e49\\u0e08\\u0e31\\u0e14\\u0e01\\u0e32\\u0e23\\u0e21\\u0e23\\u0e14\\u0e01\", \"\\u0e1a\\u0e23\\u0e34\\u0e29\\u0e31\\u0e17\", \"\\u0e04\\u0e48\\u0e32\\u0e08\\u0e49\\u0e32\\u0e07\", \"\\u0e08\\u0e33\\u0e04\\u0e38\\u0e01\", \"\\u0e0a\\u0e33\\u0e23\\u0e30\\u0e2b\\u0e19\\u0e35\\u0e49\", \"\\u0e40\\u0e08\\u0e49\\u0e32\\u0e2b\\u0e19\\u0e35\\u0e49\", \"\\u0e25\\u0e39\\u0e01\\u0e2b\\u0e19\\u0e35\\u0e49\", \"\\u0e2b\\u0e19\\u0e35\\u0e49\", \"\\u0e18\\u0e19\\u0e32\\u0e04\\u0e32\\u0e23\", \"\\u0e01\\u0e39\\u0e49\\u0e22\\u0e37\\u0e21\", \"\\u0e01\\u0e39\\u0e49\", \"\\u0e40\\u0e0a\\u0e48\\u0e32\\u0e0b\\u0e37\\u0e49\\u0e2d\", \"\\u0e04\\u0e49\\u0e33\\u0e1b\\u0e23\\u0e30\\u0e01\\u0e31\\u0e19\", \"\\u0e1c\\u0e39\\u0e49\\u0e04\\u0e49\\u0e33\\u0e1b\\u0e23\\u0e30\\u0e01\\u0e31\\u0e19\", \"\\u0e44\\u0e1f\\u0e41\\u0e19\\u0e19\\u0e0b\\u0e4c\", \"\\u0e43\\u0e0a\\u0e49\\u0e2b\\u0e19\\u0e35\\u0e49\", \"\\u0e1c\\u0e34\\u0e14\\u0e19\\u0e31\\u0e14\", \"\\u0e01\\u0e32\\u0e23\\u0e0a\\u0e33\\u0e23\\u0e30\\u0e2b\\u0e19\\u0e35\\u0e49\", \"\\u0e40\\u0e0a\\u0e47\\u0e04\", \"\\u0e02\\u0e32\\u0e22\\u0e17\\u0e2d\\u0e14\\u0e15\\u0e25\\u0e32\\u0e14\", \"\\u0e1c\\u0e48\\u0e2d\\u0e19\", \"\\u0e40\\u0e07\\u0e34\\u0e19\\u0e01\\u0e39\\u0e49\", \"\\u0e2d\\u0e32\\u0e22\\u0e31\\u0e14\", \"\\u0e2a\\u0e34\\u0e19\\u0e40\\u0e0a\\u0e37\\u0e48\\u0e2d\", \"\\u0e22\\u0e36\\u0e14\\u0e17\\u0e23\\u0e31\\u0e1e\\u0e22\\u0e4c\", \"\\u0e40\\u0e1b\\u0e47\\u0e19\\u0e2b\\u0e19\\u0e35\\u0e49\", \"\\u0e1b\\u0e23\\u0e30\\u0e19\\u0e2d\\u0e21\\u0e2b\\u0e19\\u0e35\\u0e49\", \"\\u0e04\\u0e48\\u0e32\\u0e07\\u0e27\\u0e14\", \"\\u0e1c\\u0e48\\u0e2d\\u0e19\\u0e2a\\u0e48\\u0e07\", \"\\u0e08\\u0e33\\u0e19\\u0e33\", \"\\u0e1c\\u0e48\\u0e2d\\u0e19\\u0e0a\\u0e33\\u0e23\\u0e30\", \"\\u0e22\\u0e2d\\u0e14\", \"\\u0e1c\\u0e39\\u0e49\\u0e22\\u0e37\\u0e21\", \"\\u0e40\\u0e07\\u0e34\\u0e19\\u0e21\\u0e31\\u0e14\\u0e08\\u0e33\", \"\\u0e23\\u0e16\\u0e22\\u0e19\\u0e15\\u0e4c\", \"\\u0e1c\\u0e39\\u0e49\\u0e02\\u0e32\\u0e22\", \"\\u0e22\\u0e36\\u0e14\", \"\\u0e1c\\u0e39\\u0e49\\u0e0b\\u0e37\\u0e49\\u0e2d\", \"\\u0e04\\u0e31\\u0e19\", \"\\u0e23\\u0e16\", \"\\u0e23\\u0e31\\u0e1a\\u0e1c\\u0e34\\u0e14\", \"\\u0e0a\\u0e33\\u0e23\\u0e30\", \"\\u0e14\\u0e2d\\u0e01\\u0e40\\u0e1a\\u0e35\\u0e49\\u0e22\", \"\\u0e40\\u0e1e\\u0e37\\u0e48\\u0e2d\\u0e19\", \"\\u0e17\\u0e33\\u0e2a\\u0e31\\u0e0d\\u0e0d\\u0e32\", \"\\u0e40\\u0e07\\u0e34\\u0e19\", \"\\u0e2a\\u0e31\\u0e0d\\u0e0d\\u0e32\", \"\\u0e1a\\u0e31\\u0e07\\u0e04\\u0e31\\u0e1a\", \"\\u0e04\\u0e37\\u0e19\", \"\\u0e1f\\u0e49\\u0e2d\\u0e07\", \"\\u0e40\\u0e08\\u0e23\\u0e08\\u0e32\", \"\\u0e1f\\u0e49\\u0e2d\\u0e07\\u0e23\\u0e49\\u0e2d\\u0e07\", \"\\u0e0b\\u0e37\\u0e49\\u0e2d\", \"\\u0e02\\u0e32\\u0e22\", \"\\u0e2b\\u0e25\\u0e31\\u0e01\\u0e10\\u0e32\\u0e19\", \"\\u0e08\\u0e33\\u0e19\\u0e27\\u0e19\", \"\\u0e2a\\u0e34\\u0e17\\u0e18\\u0e34\", \"\\u0e17\\u0e23\\u0e31\\u0e1e\\u0e22\\u0e4c\\u0e2a\\u0e34\\u0e19\", \"\\u0e21\\u0e32\\u0e15\\u0e23\\u0e32\", \"\\u0e04\\u0e48\\u0e32\", \"\\u0e2d\\u0e38\\u0e17\\u0e18\\u0e23\\u0e13\\u0e4c\", \"\\u0e25\\u0e07\\u0e42\\u0e17\\u0e29\", \"\\u0e42\\u0e17\\u0e29\", \"\\u0e27\\u0e34\", \"\\u0e1e\\u0e19\\u0e31\\u0e01\\u0e07\\u0e32\\u0e19\\u0e2a\\u0e2d\\u0e1a\\u0e2a\\u0e27\\u0e19\", \"\\u0e22\\u0e32\\u0e40\\u0e2a\\u0e1e\\u0e15\\u0e34\\u0e14\\u0e43\\u0e2b\\u0e49\\u0e42\\u0e17\\u0e29\", \"\\u0e2d\", \"\\u0e08\\u0e33\\u0e40\\u0e25\\u0e22\", \"\\u0e28\\u0e32\\u0e25\\u0e2d\\u0e38\\u0e17\\u0e18\\u0e23\\u0e13\\u0e4c\", \"\\u0e1c\\u0e39\\u0e49\\u0e15\\u0e49\\u0e2d\\u0e07\\u0e2b\\u0e32\", \"\\u0e22\\u0e32\\u0e40\\u0e2a\\u0e1e\\u0e15\\u0e34\\u0e14\", \"\\u0e28\\u0e32\\u0e25\\u0e0a\\u0e31\\u0e49\\u0e19\\u0e15\\u0e49\\u0e19\", \"\\u0e1b\\u0e23\\u0e30\\u0e01\\u0e31\\u0e19\\u0e15\\u0e31\\u0e27\", \"\\u0e23\\u0e31\\u0e1a\\u0e42\\u0e17\\u0e29\", \"\\u0e14\\u0e38\\u0e25\\u0e1e\\u0e34\\u0e19\\u0e34\\u0e08\", \"\\u0e21\\u0e35\\u0e42\\u0e17\\u0e29\", \"\\u0e23\\u0e31\\u0e1a\\u0e2a\\u0e32\\u0e23\\u0e20\\u0e32\\u0e1e\", \"\\u0e25\\u0e31\\u0e01\\u0e17\\u0e23\\u0e31\\u0e1e\\u0e22\\u0e4c\", \"\\u0e40\\u0e2a\\u0e1e\", \"\\u0e04\\u0e2d\\u0e21\\u0e1e\\u0e34\\u0e27\\u0e40\\u0e15\\u0e2d\\u0e23\\u0e4c\", \"\\u0e1c\\u0e39\\u0e49\\u0e40\\u0e2a\\u0e35\\u0e22\\u0e2b\\u0e32\\u0e22\", \"\\u0e1b\\u0e2d\\u0e21\", \"\\u0e2a\\u0e33\\u0e19\\u0e27\\u0e19\", \"\\u0e40\\u0e08\\u0e49\\u0e32\\u0e1e\\u0e19\\u0e31\\u0e01\\u0e07\\u0e32\\u0e19\\u0e1e\\u0e34\\u0e17\\u0e31\\u0e01\\u0e29\\u0e4c\\u0e17\\u0e23\\u0e31\\u0e1e\\u0e22\\u0e4c\", \"\\u0e16\\u0e36\\u0e07\\u0e17\\u0e35\\u0e48\\u0e2a\\u0e38\\u0e14\", \"\\u0e01\\u0e23\\u0e30\\u0e1a\\u0e27\\u0e19\", \"\\u0e1b\\u0e25\\u0e48\\u0e2d\\u0e22\\u0e15\\u0e31\\u0e27\", \"\\u0e1a\\u0e23\\u0e34\\u0e2a\\u0e38\\u0e17\\u0e18\\u0e34\\u0e4c\", \"\\u0e2a\\u0e32\\u0e23\", \"\\u0e41\\u0e16\\u0e25\\u0e07\", \"\\u0e1b\", \"\\u0e23\\u0e30\\u0e27\\u0e32\\u0e07\\u0e42\\u0e17\\u0e29\", \"\\u0e28\\u0e32\\u0e25\\u0e0e\\u0e35\\u0e01\\u0e32\", \"\\u0e2b\\u0e21\\u0e32\\u0e22\\u0e40\\u0e23\\u0e35\\u0e22\\u0e01\", \"\\u0e01\\u0e23\\u0e31\\u0e21\", \"\\u0e04\\u0e27\\u0e32\\u0e21\\u0e1c\\u0e34\\u0e14\", \"\\u0e08\\u0e33\\u0e04\\u0e38\\u0e01\", \"\\u0e1b\\u0e2d\", \"\\u0e23\\u0e49\\u0e2d\\u0e07\\u0e17\\u0e38\\u0e01\\u0e02\\u0e4c\", \"\\u0e42\\u0e08\\u0e17\\u0e01\\u0e4c\", \"\\u0e01\\u0e23\\u0e30\\u0e17\\u0e33\\u0e04\\u0e27\\u0e32\\u0e21\\u0e1c\\u0e34\\u0e14\", \"\\u0e0e\\u0e35\\u0e01\\u0e32\", \"\\u0e15\\u0e33\\u0e23\\u0e27\\u0e08\", \"\\u0e1b\\u0e23\\u0e34\\u0e21\\u0e32\\u0e13\", \"\\u0e10\\u0e32\\u0e19\", \"\\u0e1e\\u0e22\\u0e32\\u0e19\\u0e2b\\u0e25\\u0e31\\u0e01\\u0e10\\u0e32\\u0e19\", \"\\u0e23\\u0e2d\", \"\\u0e28\\u0e32\\u0e25\", \"\\u0e2d\\u0e32\\u0e0d\\u0e32\", \"\\u0e1e\\u0e34\\u0e1e\\u0e32\\u0e01\\u0e29\\u0e32\", \"\\u0e04\\u0e33\\u0e1e\\u0e34\\u0e1e\\u0e32\\u0e01\\u0e29\\u0e32\", \"\\u0e21\\u0e35\\u0e04\\u0e27\\u0e32\\u0e21\\u0e1c\\u0e34\\u0e14\", \"\\u0e41\\u0e08\\u0e49\\u0e07\\u0e04\\u0e27\\u0e32\\u0e21\", \"\\u0e1e\\u0e34\\u0e08\\u0e32\\u0e23\\u0e13\\u0e32\", \"\\u0e04\\u0e14\\u0e35\\u0e2d\\u0e32\\u0e0d\\u0e32\", \"\\u0e1a\\u0e32\\u0e17\", \"\\u0e02\\u0e49\\u0e2d\\u0e2b\\u0e32\", \"\\u0e14\\u0e33\\u0e40\\u0e19\\u0e34\\u0e19\\u0e04\\u0e14\\u0e35\", \"\\u0e22\\u0e37\\u0e48\\u0e19\", \"\\u0e21\\u0e32\\u0e15\\u0e23\\u0e32\", \"\\u0e17\\u0e19\\u0e32\\u0e22\\u0e04\\u0e27\\u0e32\\u0e21\", \"\\u0e1f\\u0e49\\u0e2d\\u0e07\", \"\\u0e02\\u0e49\\u0e2d\\u0e40\\u0e17\\u0e47\\u0e08\\u0e08\\u0e23\\u0e34\\u0e07\", \"\\u0e01\\u0e23\\u0e13\\u0e35\", \"\\u0e01\\u0e32\\u0e23\\u0e17\\u0e33\\u0e07\\u0e32\\u0e19\", \"\\u0e25\\u0e39\\u0e01\\u0e08\\u0e49\\u0e32\\u0e07\", \"\\u0e28\", \"\\u0e27\\u0e31\\u0e19\\u0e2b\\u0e22\\u0e38\\u0e14\", \"\\u0e19\\u0e1e\", \"\\u0e07\\u0e32\", \"\\u0e28\\u0e32\\u0e25\\u0e41\\u0e23\\u0e07\\u0e07\\u0e32\\u0e19\", \"\\u0e0a\\u0e31\\u0e48\\u0e27\\u0e42\\u0e21\\u0e07\", \"\\u0e41\\u0e23\\u0e07\", \"\\u0e27\\u0e31\\u0e19\\u0e17\\u0e33\\u0e07\\u0e32\\u0e19\", \"\\u0e02\\u0e49\\u0e2d\\u0e1a\\u0e31\\u0e07\\u0e04\\u0e31\\u0e1a\", \"\\u0e23\\u0e30\\u0e40\\u0e1a\\u0e35\\u0e22\\u0e1a\", \"\\u0e04\\u0e48\\u0e32\\u0e25\\u0e48\\u0e27\\u0e07\\u0e40\\u0e27\\u0e25\\u0e32\", \"\\u0e25\\u0e32\", \"\\u0e2b\\u0e22\\u0e38\\u0e14\", \"\\u0e2d\\u0e31\\u0e15\\u0e23\\u0e32\\u0e04\\u0e48\\u0e32\\u0e08\\u0e49\\u0e32\\u0e07\", \"\\u0e25\\u0e48\\u0e27\\u0e07\\u0e40\\u0e27\\u0e25\\u0e32\", \"\\u0e2b\\u0e19\\u0e48\\u0e27\\u0e22\", \"\\u0e40\\u0e27\\u0e25\\u0e32\\u0e17\\u0e33\\u0e07\\u0e32\\u0e19\", \"\\u0e01\\u0e32\\u0e23\\u0e1d\\u0e48\\u0e32\\u0e1d\\u0e37\\u0e19\", \"\\u0e1c\\u0e25\\u0e07\\u0e32\\u0e19\", \"\\u0e1b\\u0e23\\u0e30\\u0e08\\u0e33\\u0e1b\\u0e35\", \"\\u0e1e\\u0e31\\u0e01\\u0e1c\\u0e48\\u0e2d\\u0e19\", \"\\u0e2a\\u0e20\\u0e32\\u0e1e\\u0e01\\u0e32\\u0e23\\u0e08\\u0e49\\u0e32\\u0e07\", \"\\u0e22\\u0e32\\u0e1a\\u0e49\\u0e32\", \"\\u0e2d\\u0e2d\\u0e01\\u0e08\\u0e32\\u0e01\\u0e07\\u0e32\\u0e19\", \"\\u0e04\\u0e2d\\u0e21\\u0e21\\u0e34\\u0e0a\\u0e0a\\u0e31\\u0e48\\u0e19\", \"\\u0e2a\\u0e30\\u0e2a\\u0e21\", \"\\u0e1b\\u0e0f\\u0e34\\u0e1a\\u0e31\\u0e15\\u0e34\\u0e07\\u0e32\\u0e19\", \"\\u0e51\\u0e51\\u0e58\", \"\\u0e19\\u0e32\\u0e22\\u0e08\\u0e49\\u0e32\\u0e07\", \"\\u0e04\\u0e38\\u0e49\\u0e21\\u0e04\\u0e23\\u0e2d\\u0e07\", \"\\u0e04\\u0e48\\u0e32\\u0e08\\u0e49\\u0e32\\u0e07\", \"\\u0e08\\u0e49\\u0e32\\u0e07\\u0e41\\u0e23\\u0e07\\u0e07\\u0e32\\u0e19\", \"\\u0e17\\u0e33\\u0e07\\u0e32\\u0e19\", \"\\u0e40\\u0e25\\u0e34\\u0e01\\u0e08\\u0e49\\u0e32\\u0e07\", \"\\u0e41\\u0e23\\u0e07\\u0e07\\u0e32\\u0e19\", \"\\u0e04\\u0e48\\u0e32\\u0e0a\\u0e14\\u0e40\\u0e0a\\u0e22\", \"\\u0e2a\\u0e31\\u0e0d\\u0e0d\\u0e32\\u0e08\\u0e49\\u0e32\\u0e07\", \"\\u0e07\\u0e32\\u0e19\", \"\\u0e25\\u0e32\\u0e2d\\u0e2d\\u0e01\", \"\\u0e08\\u0e48\\u0e32\\u0e22\", \"\\u0e40\\u0e1b\\u0e47\\u0e19\\u0e18\\u0e23\\u0e23\\u0e21\", \"\\u0e1a\", \"\\u0e1a\\u0e23\\u0e34\\u0e29\\u0e31\\u0e17\", \"\\u0e15\\u0e32\\u0e21\\u0e1e\", \"\\u0e23\\u0e1a\", \"\\u0e2a\\u0e34\\u0e17\\u0e18\\u0e34\", \"\\u0e21\\u0e32\\u0e15\\u0e23\\u0e32\", \"\\u0e01\\u0e23\\u0e13\\u0e35\", \"\\u0e1e\\u0e19\\u0e31\\u0e01\\u0e07\\u0e32\\u0e19\", \"\\u0e40\\u0e07\\u0e34\\u0e19\", \"\\u0e14\\u0e31\\u0e07\\u0e19\\u0e31\\u0e49\\u0e19\", \"\\u0e17\\u0e32\\u0e22\\u0e32\\u0e17\\u0e42\\u0e14\\u0e22\\u0e18\\u0e23\\u0e23\\u0e21\", \"\\u0e01\\u0e32\\u0e23\\u0e04\\u0e23\\u0e2d\\u0e1a\\u0e04\\u0e23\\u0e2d\\u0e07\", \"\\u0e40\\u0e08\\u0e49\\u0e32\\u0e21\\u0e23\\u0e14\\u0e01\", \"\\u0e40\\u0e08\\u0e49\\u0e32\\u0e02\\u0e2d\\u0e07\\u0e17\\u0e35\\u0e48\\u0e14\\u0e34\\u0e19\", \"\\u0e04\\u0e23\\u0e2d\\u0e1a\\u0e04\\u0e23\\u0e2d\\u0e07\\u0e1b\\u0e23\\u0e1b\\u0e31\\u0e01\\u0e29\\u0e4c\", \"\\u0e17\\u0e23\\u0e31\\u0e1e\\u0e22\\u0e4c\\u0e21\\u0e23\\u0e14\\u0e01\", \"\\u0e2a\\u0e34\\u0e17\\u0e18\\u0e34\\u0e04\\u0e23\\u0e2d\\u0e1a\\u0e04\\u0e23\\u0e2d\\u0e07\", \"\\u0e1c\\u0e39\\u0e49\\u0e15\\u0e32\\u0e22\", \"\\u0e40\\u0e08\\u0e49\\u0e32\\u0e02\\u0e2d\\u0e07\\u0e23\\u0e27\\u0e21\", \"\\u0e40\\u0e1b\\u0e47\\u0e19\\u0e40\\u0e08\\u0e49\\u0e32\\u0e02\\u0e2d\\u0e07\", \"\\u0e22\\u0e36\\u0e14\\u0e16\\u0e37\\u0e2d\", \"\\u0e19\\u0e32\\u0e22\\u0e01\", \"\\u0e1c\\u0e39\\u0e49\\u0e04\\u0e23\\u0e2d\\u0e1a\\u0e04\\u0e23\\u0e2d\\u0e07\", \"\\u0e21\\u0e35\\u0e0a\\u0e35\\u0e27\\u0e34\\u0e15\", \"\\u0e25\\u0e33\\u0e14\\u0e31\\u0e1a\", \"\\u0e01\\u0e23\\u0e23\\u0e21\\u0e2a\\u0e34\\u0e17\\u0e18\\u0e34\\u0e4c\", \"\\u0e15\\u0e01\\u0e17\\u0e2d\\u0e14\", \"\\u0e2a\\u0e34\\u0e48\\u0e07\\u0e1b\\u0e25\\u0e39\\u0e01\\u0e2a\\u0e23\\u0e49\\u0e32\\u0e07\", \"\\u0e01\\u0e2d\\u0e07\\u0e21\\u0e23\\u0e14\\u0e01\", \"\\u0e04\\u0e38\\u0e13\\u0e1b\\u0e39\\u0e48\", \"\\u0e42\\u0e09\\u0e19\\u0e14\", \"\\u0e02\\u0e49\\u0e2d\\u0e01\\u0e33\\u0e2b\\u0e19\\u0e14\\u0e1e\\u0e34\\u0e19\\u0e31\\u0e22\\u0e01\\u0e23\\u0e23\\u0e21\", \"\\u0e40\\u0e2d\\u0e32\\u0e04\\u0e37\\u0e19\", \"\\u0e04\\u0e38\\u0e13\\u0e22\\u0e32\\u0e22\", \"\\u0e1b\\u0e25\\u0e39\\u0e01\", \"\\u0e40\\u0e08\\u0e49\\u0e32\\u0e1a\\u0e49\\u0e32\\u0e19\", \"\\u0e1c\\u0e39\\u0e49\\u0e21\\u0e35\\u0e2a\\u0e48\\u0e27\\u0e19\", \"\\u0e01\\u0e23\\u0e23\\u0e21\\u0e2a\\u0e34\\u0e17\\u0e18\\u0e34\\u0e4c\\u0e23\\u0e27\\u0e21\", \"\\u0e40\\u0e08\\u0e49\\u0e32\\u0e02\\u0e2d\\u0e07\\u0e1a\\u0e49\\u0e32\\u0e19\", \"\\u0e17\\u0e33\\u0e1b\\u0e23\\u0e30\\u0e42\\u0e22\\u0e0a\\u0e19\\u0e4c\", \"\\u0e17\\u0e35\\u0e48\\u0e14\\u0e34\\u0e19\", \"\\u0e17\\u0e32\\u0e22\\u0e32\\u0e17\", \"\\u0e04\\u0e38\\u0e13\\u0e41\\u0e21\\u0e48\", \"\\u0e1c\\u0e39\\u0e49\\u0e08\\u0e31\\u0e14\\u0e01\\u0e32\\u0e23\\u0e21\\u0e23\\u0e14\\u0e01\", \"\\u0e1e\\u0e34\\u0e19\\u0e31\\u0e22\\u0e01\\u0e23\\u0e23\\u0e21\", \"\\u0e41\\u0e1b\\u0e25\\u0e07\", \"\\u0e42\\u0e09\\u0e19\\u0e14\\u0e17\\u0e35\\u0e48\\u0e14\\u0e34\\u0e19\", \"\\u0e19\\u0e49\\u0e32\", \"\\u0e41\\u0e17\\u0e19\\u0e17\\u0e35\\u0e48\", \"\\u0e21\\u0e23\\u0e14\\u0e01\", \"\\u0e04\\u0e38\\u0e13\\u0e1e\\u0e48\\u0e2d\", \"\\u0e44\\u0e14\\u0e49\\u0e40\\u0e2a\\u0e35\\u0e22\", \"\\u0e2a\\u0e48\\u0e27\\u0e19\\u0e41\\u0e1a\\u0e48\\u0e07\", \"\\u0e1c\\u0e39\\u0e49\\u0e2a\\u0e37\\u0e1a\\u0e2a\\u0e31\\u0e19\\u0e14\\u0e32\\u0e19\", \"\\u0e25\\u0e38\\u0e07\", \"\\u0e23\\u0e31\\u0e1a\\u0e21\\u0e23\\u0e14\\u0e01\", \"\\u0e41\\u0e1a\\u0e48\\u0e07\\u0e1b\\u0e31\\u0e19\", \"\\u0e41\\u0e1a\\u0e48\\u0e07\", \"\\u0e15\\u0e32\\u0e22\", \"\\u0e04\\u0e23\\u0e2d\\u0e1a\\u0e04\\u0e23\\u0e2d\\u0e07\", \"\\u0e1a\\u0e49\\u0e32\\u0e19\", \"\\u0e17\\u0e23\\u0e31\\u0e1e\\u0e22\\u0e4c\\u0e2a\\u0e34\\u0e19\", \"\\u0e2a\\u0e34\\u0e17\\u0e18\\u0e34\", \"\\u0e42\\u0e2d\\u0e19\", \"\\u0e1b\\u0e1e\\u0e1e\", \"\\u0e21\\u0e32\\u0e15\\u0e23\\u0e32\", \"\\u0e1a\\u0e38\\u0e04\\u0e04\\u0e25\", \"\\u0e28\\u0e32\\u0e25\", \"\\u0e15\\u0e32\\u0e21\\u0e01\\u0e0e\\u0e2b\\u0e21\\u0e32\\u0e22\", \"\\u0e10\\u0e32\\u0e19\\u0e30\", \"\\u0e01\\u0e23\\u0e13\\u0e35\", \"\\u0e40\\u0e14\\u0e47\\u0e01\", \"\\u0e1a\\u0e38\\u0e15\\u0e23\\u0e1a\\u0e38\\u0e0d\\u0e18\\u0e23\\u0e23\\u0e21\", \"\\u0e2a\\u0e31\\u0e0d\\u0e0d\\u0e32\\u0e40\\u0e0a\\u0e48\\u0e32\", \"\\u0e2b\\u0e38\\u0e49\\u0e19\\u0e2a\\u0e48\\u0e27\\u0e19\", \"\\u0e42\\u0e17\\u0e23\\u0e28\\u0e31\\u0e1e\\u0e17\\u0e4c\", \"\\u0e40\\u0e19\\u0e23\\u0e04\\u0e38\\u0e13\", \"\\u0e22\\u0e48\\u0e32\", \"\\u0e08\\u0e2d\\u0e07\", \"\\u0e01\\u0e32\\u0e23\\u0e1b\\u0e01\\u0e04\\u0e23\\u0e2d\\u0e07\", \"\\u0e43\\u0e0a\\u0e49\\u0e2d\\u0e33\\u0e19\\u0e32\\u0e08\", \"\\u0e2a\\u0e23\\u0e23\\u0e1e\\u0e32\\u0e01\\u0e23\", \"\\u0e22\\u0e49\\u0e32\\u0e22\\u0e2d\\u0e2d\\u0e01\", \"\\u0e1b\\u0e39\\u0e48\", \"\\u0e01\\u0e32\\u0e23\\u0e40\\u0e0a\\u0e48\\u0e32\", \"\\u0e19\\u0e2d\\u0e01\\u0e01\\u0e0e\\u0e2b\\u0e21\\u0e32\\u0e22\", \"\\u0e1a\\u0e23\\u0e23\\u0e25\\u0e38\\u0e19\\u0e34\\u0e15\\u0e34\\u0e20\\u0e32\\u0e27\\u0e30\", \"\\u0e18\\u0e23\\u0e23\\u0e21\", \"\\u0e2a\\u0e33\\u0e19\\u0e31\\u0e01\\u0e07\\u0e32\\u0e19\\u0e40\\u0e02\\u0e15\", \"\\u0e40\\u0e0a\\u0e48\\u0e32\", \"\\u0e40\\u0e2a\\u0e35\\u0e22\\u0e20\\u0e32\\u0e29\\u0e35\", \"\\u0e40\\u0e1b\\u0e34\\u0e14\\u0e1a\\u0e31\\u0e0d\\u0e0a\\u0e35\", \"\\u0e23\\u0e32\\u0e29\\u0e0e\\u0e23\\u0e4c\", \"\\u0e04\\u0e48\\u0e32\\u0e40\\u0e25\\u0e35\\u0e49\\u0e22\\u0e07\\u0e14\\u0e39\", \"\\u0e25\\u0e32\\u0e22\\u0e21\\u0e37\\u0e2d\", \"\\u0e2a\\u0e39\\u0e15\\u0e34\\u0e1a\\u0e31\\u0e15\\u0e23\", \"\\u0e2a\\u0e33\\u0e19\\u0e31\\u0e01\", \"\\u0e25\\u0e39\\u0e01\\u0e2a\\u0e32\\u0e27\", \"\\u0e2a\\u0e33\\u0e40\\u0e19\\u0e32\\u0e17\\u0e30\\u0e40\\u0e1a\\u0e35\\u0e22\\u0e19\\u0e1a\\u0e49\\u0e32\\u0e19\", \"\\u0e14\\u0e34\\u0e19\", \"\\u0e17\\u0e35\\u0e48\\u0e27\\u0e48\\u0e32\\u0e01\\u0e32\\u0e23\\u0e2d\\u0e33\\u0e40\\u0e20\\u0e2d\", \"\\u0e1b\\u0e01\\u0e04\\u0e23\\u0e2d\\u0e07\", \"\\u0e19\\u0e32\\u0e21\\u0e2a\\u0e01\\u0e38\\u0e25\", \"\\u0e19\\u0e32\\u0e22\\u0e17\\u0e30\\u0e40\\u0e1a\\u0e35\\u0e22\\u0e19\", \"\\u0e1c\\u0e39\\u0e49\\u0e40\\u0e0a\\u0e48\\u0e32\", \"\\u0e1a\\u0e38\\u0e15\\u0e23\", \"\\u0e1c\\u0e39\\u0e49\\u0e40\\u0e22\\u0e32\\u0e27\\u0e4c\", \"\\u0e20\\u0e32\\u0e29\\u0e35\", \"\\u0e41\\u0e21\\u0e48\", \"\\u0e25\\u0e39\\u0e01\", \"\\u0e1c\\u0e39\\u0e49\\u0e1b\\u0e01\\u0e04\\u0e23\\u0e2d\\u0e07\", \"\\u0e40\\u0e2d\\u0e01\\u0e2a\\u0e32\\u0e23\\u0e2a\\u0e34\\u0e17\\u0e18\\u0e34\\u0e4c\", \"\\u0e1a\\u0e34\\u0e14\\u0e32\", \"\\u0e1e\\u0e48\\u0e2d\\u0e41\\u0e21\\u0e48\", \"\\u0e21\\u0e32\\u0e23\\u0e14\\u0e32\", \"\\u0e04\\u0e48\\u0e32\\u0e40\\u0e0a\\u0e48\\u0e32\", \"\\u0e1e\\u0e48\\u0e2d\", \"\\u0e43\\u0e2b\\u0e49\\u0e40\\u0e0a\\u0e48\\u0e32\", \"\\u0e21\\u0e2d\\u0e1a\", \"\\u0e08\\u0e14\\u0e17\\u0e30\\u0e40\\u0e1a\\u0e35\\u0e22\\u0e19\", \"\\u0e1c\\u0e39\\u0e49\\u0e43\\u0e0a\\u0e49\\u0e2d\\u0e33\\u0e19\\u0e32\\u0e08\\u0e1b\\u0e01\\u0e04\\u0e23\\u0e2d\\u0e07\", \"\\u0e0a\\u0e2d\\u0e1a\\u0e14\\u0e49\\u0e27\\u0e22\\u0e01\\u0e0e\\u0e2b\\u0e21\\u0e32\\u0e22\", \"\\u0e2b\\u0e38\\u0e49\\u0e19\", \"\\u0e2d\\u0e33\\u0e19\\u0e32\\u0e08\", \"\\u0e04\\u0e27\\u0e32\\u0e21\\u0e22\\u0e34\\u0e19\\u0e22\\u0e2d\\u0e21\", \"\\u0e14\\u0e39\\u0e41\\u0e25\", \"\\u0e21\\u0e35\\u0e1b\\u0e31\\u0e0d\\u0e2b\\u0e32\", \"\\u0e17\\u0e30\\u0e40\\u0e1a\\u0e35\\u0e22\\u0e19\", \"\\u0e2a\\u0e33\\u0e19\\u0e31\\u0e01\\u0e07\\u0e32\\u0e19\", \"\\u0e0a\\u0e37\\u0e48\\u0e2d\", \"\\u0e17\\u0e33\\u0e44\\u0e14\\u0e49\", \"\\u0e14\\u0e33\\u0e40\\u0e19\\u0e34\\u0e19\\u0e01\\u0e32\\u0e23\", \"\\u0e20\\u0e23\\u0e23\\u0e22\\u0e32\", \"\\u0e42\\u0e2d\\u0e19\", \"\\u0e22\\u0e34\\u0e19\\u0e22\\u0e2d\\u0e21\", \"\\u0e08\\u0e14\\u0e17\\u0e30\\u0e40\\u0e1a\\u0e35\\u0e22\\u0e19\\u0e2a\\u0e21\\u0e23\\u0e2a\", \"\\u0e15\\u0e01\\u0e25\\u0e07\", \"\\u0e10\\u0e32\\u0e19\\u0e30\", \"\\u0e40\\u0e08\\u0e23\\u0e08\\u0e32\", \"\\u0e1f\\u0e49\\u0e2d\\u0e07\", \"\\u0e28\\u0e32\\u0e25\", \"\\u0e41\\u0e08\\u0e49\\u0e07\", \"\\u0e2a\\u0e34\\u0e17\\u0e18\\u0e34\", \"\\u0e01\\u0e23\\u0e13\\u0e35\", \"\\u0e40\\u0e0b\\u0e47\\u0e19\\u0e15\\u0e4c\", \"\\u0e2d\\u0e18\\u0e34\\u0e1a\\u0e32\\u0e22\", \"\\u0e40\\u0e2d\\u0e32\\u0e40\\u0e1b\\u0e47\\u0e19\\u0e27\\u0e48\\u0e32\", \"\\u0e1c\\u0e39\\u0e49\\u0e16\\u0e32\\u0e21\", \"\\u0e57\", \"\\u0e43\\u0e2b\\u0e49\\u0e01\\u0e33\\u0e25\\u0e31\\u0e07\\u0e43\\u0e08\", \"\\u0e23\\u0e31\\u0e10\", \"\\u0e23\\u0e49\\u0e32\\u0e19\", \"\\u0e2d\\u0e31\\u0e19\\u0e19\\u0e35\\u0e49\", \"\\u0e40\\u0e07\\u0e34\\u0e19\\u0e0a\\u0e14\\u0e40\\u0e0a\\u0e22\", \"\\u0e52\\u0e55\\u0e54\\u0e51\", \"\\u0e1a\\u0e01\\u0e1e\\u0e23\\u0e48\\u0e2d\\u0e07\", \"\\u0e04\\u0e33\\u0e16\\u0e32\\u0e21\", \"\\u0e22\\u0e34\\u0e19\\u0e14\\u0e35\", \"\\u0e0b\\u0e31\\u0e01\", \"\\u0e1c\\u0e39\\u0e49\\u0e1b\\u0e23\\u0e30\\u0e01\\u0e2d\\u0e1a\\u0e18\\u0e38\\u0e23\\u0e01\\u0e34\\u0e08\", \"\\u0e01\\u0e23\\u0e21\", \"\\u0e1b\\u0e23\\u0e30\\u0e08\\u0e33\", \"\\u0e17\\u0e35\\u0e48\\u0e2a\\u0e39\\u0e07\", \"\\u0e2a\\u0e16\\u0e32\\u0e19\\u0e01\\u0e32\\u0e23\\u0e13\\u0e4c\", \"\\u0e41\\u0e25\\u0e49\\u0e27\\u0e44\\u0e1b\", \"\\u0e0f\", \"\\u0e59\", \"\\u0e21\\u0e34\\u0e40\\u0e0a\\u0e48\\u0e19\\u0e19\\u0e31\\u0e49\\u0e19\", \"\\u0e02\\u0e49\\u0e2d\\u0e41\\u0e19\\u0e30\\u0e19\\u0e33\", \"\\u0e40\\u0e2a\\u0e37\\u0e48\\u0e2d\\u0e21\", \"\\u0e25\\u0e48\\u0e27\\u0e07\", \"\\u0e04\\u0e33\\u0e15\\u0e2d\\u0e1a\", \"\\u0e25\\u0e48\\u0e30\", \"\\u0e40\\u0e04\\u0e23\\u0e14\\u0e34\\u0e15\\u0e1a\\u0e39\\u0e42\\u0e23\", \"\\u0e16\\u0e32\\u0e21\", \"\\u0e08\\u0e33\\u0e01\\u0e31\\u0e14\", \"\\u0e15\\u0e2d\\u0e1a\", \"\\u0e40\\u0e2b\\u0e21\\u0e37\\u0e2d\\u0e19\\u0e01\\u0e31\\u0e19\", \"\\u0e40\\u0e0b\\u0e47\\u0e19\", \"\\u0e04\\u0e27\\u0e32\\u0e21\\u0e40\\u0e1b\\u0e47\\u0e19\\u0e18\\u0e23\\u0e23\\u0e21\", \"\\u201d\", \"\\u201c\", \"\\u0e17\\u0e19\\u0e32\\u0e22\", \"\\u0e1b\\u0e23\\u0e30\\u0e40\\u0e14\\u0e47\\u0e19\", \"\\u0e43\\u0e1a\", \"\\u0e43\\u0e1a\\u0e25\\u0e32\\u0e2d\\u0e2d\\u0e01\", \"\\u0e40\\u0e25\\u0e48\\u0e32\", \"\\u0e42\\u0e0a\\u0e04\\u0e14\\u0e35\", \"\\u0e40\\u0e25\\u0e34\\u0e01\", \"\\u0e02\\u0e49\\u0e2d\\u0e01\\u0e0e\\u0e2b\\u0e21\\u0e32\\u0e22\", \"\\u0e01\\u0e35\\u0e48\", \"\\u0e42\\u0e17\\u0e23\", \"\\u0e41\\u0e25\\u0e49\\u0e27\\u0e01\\u0e47\", \"\\u0e41\\u0e19\\u0e48\\u0e19\\u0e2d\\u0e19\", \"\\u0e09\\u0e1a\\u0e31\\u0e1a\", \"\\u0e0a\\u0e31\\u0e14\\u0e40\\u0e08\\u0e19\", \"\\u0e40\\u0e25\\u0e37\\u0e2d\\u0e01\", \"\\u0e41\\u0e19\\u0e30\\u0e19\\u0e33\", \"\\u0e23\\u0e32\\u0e22\\u0e25\\u0e30\\u0e40\\u0e2d\\u0e35\\u0e22\\u0e14\", \"\\u0e04\\u0e27\\u0e23\\u0e08\\u0e30\", \"\\u0e2a\\u0e31\\u0e0d\\u0e0d\\u0e32\", \"\\u0e04\\u0e48\\u0e32\\u0e40\\u0e2a\\u0e35\\u0e22\\u0e2b\\u0e32\\u0e22\", \"\\u0e41\\u0e08\\u0e49\\u0e07\", \"\\u0e17\\u0e23\\u0e32\\u0e1a\", \"\\u0e08\\u0e48\\u0e32\\u0e22\", \"\\u0e44\\u0e21\\u0e48\\u0e15\\u0e49\\u0e2d\\u0e07\", \"\\u0e23\\u0e30\\u0e22\\u0e30\\u0e40\\u0e27\\u0e25\\u0e32\", \"\\u0e01\\u0e0e\\u0e2b\\u0e21\\u0e32\\u0e22\", \"\\u0e1a\\u0e23\\u0e34\\u0e29\\u0e31\\u0e17\", \"\\u0e2b\\u0e32\", \"\\u0e02\\u0e2d\\u0e43\\u0e2b\\u0e49\", \"\\u0e1b\\u0e31\\u0e0d\\u0e2b\\u0e32\", \"\\u0e40\\u0e07\\u0e37\\u0e48\\u0e2d\\u0e19\\u0e44\\u0e02\", \"\\u0e01\\u0e23\\u0e13\\u0e35\", \"\\u0e40\\u0e23\\u0e35\\u0e22\\u0e01\\u0e23\\u0e49\\u0e2d\\u0e07\", \"\\u0e23\\u0e30\\u0e1a\\u0e38\", \"\\u0e40\\u0e07\\u0e34\\u0e19\", \"\\u0e20\\u0e23\\u0e34\\u0e22\\u0e32\", \"\\u0e1f\\u0e49\\u0e2d\\u0e07\\u0e2b\\u0e22\\u0e48\\u0e32\", \"\\u0e41\\u0e22\\u0e01\\u0e01\\u0e31\\u0e19\", \"\\u0e04\\u0e38\\u0e13\\u0e2a\\u0e21\\u0e1a\\u0e31\\u0e15\\u0e34\", \"\\u0e17\\u0e33\\u0e23\\u0e49\\u0e32\\u0e22\", \"\\u0e14\\u0e39\\u0e2b\\u0e21\\u0e34\\u0e48\\u0e19\", \"\\u0e01\\u0e32\\u0e23\\u0e2a\\u0e21\\u0e23\\u0e2a\", \"\\u0e40\\u0e01\\u0e25\\u0e35\\u0e22\\u0e14\\u0e0a\\u0e31\\u0e07\", \"\\u0e04\\u0e27\\u0e32\\u0e21\\u0e2a\\u0e31\\u0e21\\u0e1e\\u0e31\\u0e19\\u0e18\\u0e4c\", \"\\u0e40\\u0e2a\\u0e35\\u0e22\\u0e0a\\u0e37\\u0e48\\u0e2d\\u0e40\\u0e2a\\u0e35\\u0e22\\u0e07\", \"\\u0e0a\\u0e31\\u0e48\\u0e27\", \"\\u0e01\\u0e32\\u0e22\", \"\\u0e2a\\u0e32\\u0e21\\u0e35\", \"\\u0e0a\\u0e39\\u0e49\\u0e2a\\u0e32\\u0e27\", \"\\u0e23\\u0e48\\u0e27\\u0e21\\u0e1b\\u0e23\\u0e30\\u0e40\\u0e27\\u0e13\\u0e35\", \"\\u0e1a\\u0e38\\u0e04\\u0e04\\u0e25\\u0e17\\u0e35\\u0e48\\u0e2a\\u0e32\\u0e21\", \"\\u0e22\\u0e01\\u0e22\\u0e48\\u0e2d\\u0e07\", \"\\u0e04\\u0e23\\u0e39\", \"\\u0e43\\u0e2a\\u0e48\\u0e04\\u0e27\\u0e32\\u0e21\", \"\\u0e14\\u0e39\\u0e2b\\u0e23\\u0e37\\u0e2d\", \"\\u0e2b\\u0e22\\u0e48\\u0e32\", \"\\u0e23\\u0e31\\u0e1a\\u0e23\\u0e32\\u0e0a\\u0e01\\u0e32\\u0e23\", \"\\u0e21\\u0e35\\u0e0a\\u0e39\\u0e49\", \"\\u0e2b\\u0e0d\\u0e34\\u0e07\", \"\\u0e04\\u0e33\\u0e19\\u0e36\\u0e07\", \"\\u0e04\\u0e27\\u0e32\\u0e21\\u0e40\\u0e1b\\u0e47\\u0e19\\u0e2d\\u0e22\\u0e39\\u0e48\", \"\\u0e23\\u0e49\\u0e32\\u0e07\", \"\\u0e41\\u0e2a\\u0e14\\u0e07\\u0e15\\u0e19\", \"\\u0e41\\u0e15\\u0e48\\u0e07\\u0e07\\u0e32\\u0e19\", \"\\u0e2d\\u0e22\\u0e39\\u0e48\\u0e01\\u0e34\\u0e19\", \"\\u0e2b\\u0e22\\u0e48\\u0e32\\u0e01\\u0e31\\u0e19\", \"\\u0e2a\\u0e38\\u0e02\", \"\\u0e04\\u0e27\\u0e32\\u0e21\\u0e15\\u0e01\\u0e25\\u0e07\", \"\\u0e2b\\u0e21\\u0e34\\u0e48\\u0e19\\u0e1b\\u0e23\\u0e30\\u0e21\\u0e32\\u0e17\", \"\\u0e0a\\u0e32\\u0e22\", \"\\u0e2d\\u0e38\\u0e1b\\u0e01\\u0e32\\u0e23\\u0e30\", \"\\u0e2a\\u0e32\\u0e21\\u0e35\\u0e20\\u0e23\\u0e23\\u0e22\\u0e32\", \"\\u0e01\\u0e32\\u0e23\\u0e2b\\u0e22\\u0e48\\u0e32\", \"\\u0e1d\\u0e48\\u0e32\\u0e22\\u0e43\\u0e14\\u0e1d\\u0e48\\u0e32\\u0e22\\u0e2b\\u0e19\\u0e36\\u0e48\\u0e07\", \"\\u0e2a\\u0e21\\u0e31\\u0e04\\u0e23\\u0e43\\u0e08\", \"\\u0e04\\u0e48\\u0e32\\u0e17\\u0e14\\u0e41\\u0e17\\u0e19\", \"\\u0e2a\\u0e34\\u0e19\\u0e2a\\u0e21\\u0e23\\u0e2a\", \"\\u0e20\\u0e23\\u0e23\\u0e22\\u0e32\", \"\\u0e2a\\u0e21\\u0e23\\u0e2a\", \"\\u0e1b\\u0e1e\\u0e1e\", \"\\u0e44\\u0e17\\u0e22\", \"\\u0e21\\u0e32\\u0e15\\u0e23\\u0e32\", \"\\u0e40\\u0e25\\u0e35\\u0e49\\u0e22\\u0e07\\u0e14\\u0e39\", \"\\u0e08\\u0e14\\u0e17\\u0e30\\u0e40\\u0e1a\\u0e35\\u0e22\\u0e19\\u0e2a\\u0e21\\u0e23\\u0e2a\", \"\\u0e40\\u0e1b\\u0e47\\u0e19\\u0e40\\u0e2b\\u0e15\\u0e38\\u0e43\\u0e2b\\u0e49\", \"\\u0e41\\u0e1f\\u0e19\", \"\\u0e17\\u0e31\\u0e49\\u0e07\\u0e2a\\u0e2d\\u0e07\\u0e1d\\u0e48\\u0e32\\u0e22\", \"\\u0e15\\u0e32\\u0e21\\u0e01\\u0e0e\\u0e2b\\u0e21\\u0e32\\u0e22\", \"\\u0e1e\\u0e24\\u0e15\\u0e34\\u0e01\\u0e32\\u0e23\\u0e13\\u0e4c\", \"\\u0e04\\u0e39\\u0e48\\u0e2a\\u0e21\\u0e23\\u0e2a\", \"\\u0e01\\u0e32\\u0e23\\u0e01\\u0e23\\u0e30\\u0e17\\u0e33\", \"\\u0e2a\\u0e34\\u0e17\\u0e18\\u0e34\", \"\\u0e23\\u0e49\\u0e32\\u0e22\\u0e41\\u0e23\\u0e07\", \"\\u0e1c\\u0e39\\u0e49\\u0e2d\\u0e37\\u0e48\\u0e19\", \"\\u0e43\\u0e14\", \"\\u0e27\\u0e23\\u0e23\\u0e04\", \"\\u0e1f\\u0e49\\u0e2d\\u0e07\", \"\\u0e28\\u0e32\\u0e25\", \"\\u0e01\\u0e23\\u0e13\\u0e35\", \"\\u0e01\\u0e0e\\u0e2b\\u0e21\\u0e32\\u0e22\", \"\\u0e1a\\u0e49\\u0e32\\u0e19\"], \"Freq\": [2935.0, 2763.0, 2259.0, 2415.0, 1669.0, 5664.0, 2219.0, 1187.0, 931.0, 1030.0, 1034.0, 1961.0, 1227.0, 1669.0, 1109.0, 937.0, 1046.0, 1006.0, 3946.0, 859.0, 922.0, 975.0, 1089.0, 1974.0, 798.0, 645.0, 804.0, 1469.0, 798.0, 988.0, 1227.252415274375, 1046.3137762465242, 863.7373925419745, 750.0244232582364, 693.5634120274314, 532.9057526436402, 403.67084613962555, 1006.6756838931509, 371.0769051264142, 367.53827456896556, 403.74975910556054, 351.7709936506703, 320.0348069146623, 235.46231423041698, 371.61703003920735, 221.5753825811812, 220.9764804694128, 202.86250752265005, 154.1277784713082, 138.25456765224544, 130.84588811421042, 129.80366509205308, 120.49258982478365, 111.21008142530444, 102.71608137584296, 103.78483363841073, 100.1583312353015, 98.86252047516918, 93.45290705386256, 91.48254141983452, 289.5005931873878, 233.04623597910827, 461.0487228838845, 307.1032352344949, 114.0661134912663, 657.0550084374996, 777.8711601287041, 477.10859373242783, 431.6762640773882, 379.366774996893, 399.7788843137744, 1436.7116378875653, 1496.2274600861633, 885.3349600646948, 576.1016359325777, 1161.2497495258533, 480.94360888357267, 362.74483966730986, 385.4637836849608, 397.7748744453704, 403.22369048131526, 414.36752138664855, 590.5082627748445, 420.6569889912974, 469.73492130085225, 399.67375610246785, 454.03304283063596, 588.3791171353594, 440.8096486979856, 456.7480639326968, 348.7579664044895, 300.41442106833, 262.82560389572564, 1108.828789895113, 226.78982567769495, 200.60588192980046, 170.25122942646334, 150.84471570983192, 149.60902414918337, 153.56346623648355, 133.35588543713408, 191.87507253352098, 121.34018554195464, 124.00736345426571, 106.50181736777722, 104.7943535963997, 364.82408779268656, 103.58829764187404, 90.78246586965155, 90.58457327730524, 82.62175229956128, 109.31917787642016, 79.29994715689975, 96.19669797738328, 121.44211870764376, 78.69727214303568, 453.78892535242477, 323.5966575181238, 203.97813419973858, 122.97754945039972, 92.65130717081993, 1054.6613484793024, 954.9444199919697, 404.6175809508557, 276.28856028083703, 511.8895244966214, 784.6426968204224, 196.6404646787047, 438.5997248792467, 140.24754241586217, 768.8689889588866, 302.9585013303995, 425.8515127169512, 2484.063378015571, 243.29974859219044, 398.29058549391317, 594.8552096596904, 404.04069224416196, 418.47335230036066, 476.74955406528716, 281.04853144099064, 590.2415384984822, 306.5806250479174, 397.37405276199104, 416.8647182806378, 1226.704180159785, 322.20012120262595, 326.9224518131601, 311.71401816459263, 313.7248972651742, 582.0529011572709, 2415.3641014140894, 467.8955702732961, 405.15009422154105, 464.51422126341424, 494.40694983177934, 330.6568334669756, 282.53718249650217, 494.09111892602226, 201.19572437934804, 305.1871542349874, 186.9759795101388, 144.65871102405134, 136.97387425880447, 145.0099583242535, 115.76039147901061, 115.51213297053738, 114.32330877488289, 111.5651112252618, 109.84731192881063, 106.25075623974207, 90.06370357521625, 79.72560074547836, 77.64598131342453, 76.69181677243505, 98.72794947908132, 68.81465856876491, 65.21125918229919, 64.86343893908895, 60.89512569079994, 2932.057463278789, 796.0367147433199, 791.5993321837792, 182.34441094317333, 897.8916818538211, 918.1574427514385, 612.2129610041765, 556.7653038590768, 480.52876483723287, 433.65316680457494, 272.4423017556157, 1110.0498844720935, 348.9823801110269, 349.82068616754134, 846.4321607213129, 428.5226229062251, 427.2072580165357, 1017.4169298116204, 1121.8963767495395, 635.4848654622901, 343.2072786669502, 330.3184819009861, 288.950612367518, 408.6031738739091, 295.3015142004379, 272.1802469463886, 210.95316525149988, 201.1712705296019, 556.846702528025, 210.28081183747722, 196.15644408538353, 151.7087593855732, 371.65955880449076, 155.61210941745728, 165.06122137983076, 125.6737882140778, 124.35739187482511, 116.09702036711575, 565.2813656560643, 119.25510919841554, 93.06347837768037, 84.71522122064353, 80.97586714521923, 179.3643301346304, 75.27062589875176, 68.7230544840964, 69.59912752653602, 65.20238755245403, 65.2242619579027, 100.91878018335605, 62.074823553733985, 61.444252944442525, 60.530877521850364, 2749.1471318588674, 930.1815055340958, 429.1689642287872, 798.0913043851472, 597.8017151892589, 321.9198925280388, 262.94378441938676, 111.30591507720473, 117.32275277990615, 765.3715811319029, 395.24020926776393, 135.54266318772673, 202.7404538722184, 235.0692730152262, 172.70627434713765, 413.8898265391004, 319.0300083274058, 525.1380858986324, 339.74436666403983, 405.92332121622655, 763.4988671320341, 789.0437026189067, 1612.32289855036, 591.3474618093901, 842.8756831620126, 1491.08827982765, 410.4251856094929, 468.2901277278369, 325.4518536477357, 266.6902678540136, 296.2613184107539, 645.7315867969099, 205.82494710746542, 148.69644733676947, 113.94388740178087, 89.03485835998681, 79.74619967463808, 74.45823698430037, 62.96150719394603, 59.275381069036506, 59.086029550588684, 60.28067107408001, 63.61669078894066, 55.49759578029606, 47.97983552333621, 46.14774031349525, 64.83573011748321, 45.301503352016056, 43.86804163302551, 47.69602795145612, 42.400490642397514, 34.84884687001777, 33.78898264381267, 66.09143590147293, 29.954025025739796, 28.967307134875853, 27.430758063496235, 26.50817159572969, 28.221025846406672, 25.84933844341857, 26.5500063683704, 311.89169137548, 55.696882882876366, 67.43554013635436, 141.70144736814262, 2130.8081527089034, 348.45511526857257, 89.3876570378315, 481.88223328040834, 342.1744869377261, 96.70464107517888, 66.38336561285622, 1019.3209330310884, 98.61288003508965, 715.1576683801975, 58.230327803101915, 415.1007956470581, 92.93347834672892, 96.31638955483123, 565.6631519612181, 107.52109198678379, 290.38928781770994, 84.28229427209095, 238.75284695559318, 281.31224417102726, 86.7908182782376, 184.45135391667247, 122.78293736522805, 192.2272789409753, 158.87079237907184, 213.08076226250884, 214.79264004300083, 206.18261418666108, 272.2120442313858, 178.49273755369472, 155.92126653822584, 226.9746356848352, 197.898687523393, 185.24548921899427, 274.0502075059479, 307.634588259459, 199.27944426414754, 232.14683085995276, 178.20692473054183, 147.0357639906279, 106.81476487243528, 96.152835313804, 74.1771695659642, 69.24731838864777, 70.26122697959906, 67.51316717400796, 65.77310458982815, 66.92445591992313, 65.64227307202056, 56.015369962421374, 49.6422748986092, 193.13068038570708, 46.551467771879324, 43.86493377224761, 43.394646954614025, 46.564020938804774, 41.259718474517804, 41.36640850269827, 35.26521265635416, 35.8969613985612, 35.201515950891306, 41.920776058691246, 31.72829077766717, 34.990276217984515, 31.102399047579066, 30.122521599548552, 90.40154158414536, 107.87985097531212, 27.947110430119817, 419.94350187028, 66.5534257531404, 996.4975284846378, 94.62043166741883, 101.23372538020614, 53.41251921250757, 185.1443657797526, 186.42695630831312, 903.6995720463995, 238.75189903498134, 135.00029714332942, 124.7399805955033, 120.08909170305357, 110.48424411704843, 119.48857809392166, 118.01602196812071, 105.13403341333965, 100.07625884024219, 161.35123927482488, 204.05326057298635, 188.236881767907, 229.57976369930384, 88.09864187830406, 230.6391082995815, 140.89576713766525, 113.72113341553133, 607.0014391222278, 198.65774295882622, 323.78612091714007, 250.63019139929227, 414.97485308368385, 244.6671823092926, 203.04705035179234, 324.3089034141599, 324.1595292210941, 173.86638318424463, 204.69026160100307, 170.2351715640559, 142.26566927379923, 229.13150522655377, 161.41983834019936, 152.19189152245116, 164.08846156959265, 931.3540249480254, 551.5595167050493, 140.9026445368474, 115.85234502120966, 108.48716929542161, 87.46963770771099, 169.41462615739187, 86.12210144338684, 76.67876402127645, 74.81179719158527, 71.3464015526991, 71.44016828567868, 1667.408247513775, 61.41721629084197, 59.726772298861036, 61.144890465686785, 57.44510275124489, 58.173302007709864, 52.16409226837919, 51.706888154060124, 324.74272862766094, 49.80017103773123, 49.415699581010145, 452.1214251183697, 44.803617257686724, 44.51788866947759, 43.55767709381534, 41.31303766919701, 43.583984387447664, 44.23107077796784, 95.50765627677792, 84.20179588730502, 58.039521946102376, 170.474852486954, 325.08246747298864, 257.17190801792304, 150.39180077904012, 121.37120116623193, 70.53706776800779, 107.1861821795291, 183.52039832897455, 327.70083076806935, 342.7459166028453, 172.86591036715637, 703.4239441405093, 104.59349178269252, 1324.229085280001, 175.51804206455634, 195.96270533293654, 140.3586365657601, 204.9284760960742, 125.53198079965186, 409.11330463432915, 171.20774317467962, 134.88174335470492, 187.9120359914465, 345.1363431822711, 147.02022138691993, 173.27553792197617, 197.42967503926116, 189.64687528215103, 221.37440597544838, 242.75624143576036, 204.45960529583655, 167.4790579766548, 161.60689620883346], \"Total\": [2935.0, 2763.0, 2259.0, 2415.0, 1669.0, 5664.0, 2219.0, 1187.0, 931.0, 1030.0, 1034.0, 1961.0, 1227.0, 1669.0, 1109.0, 937.0, 1046.0, 1006.0, 3946.0, 859.0, 922.0, 975.0, 1089.0, 1974.0, 798.0, 645.0, 804.0, 1469.0, 798.0, 988.0, 1227.3174044297698, 1046.3854619441584, 863.8078976066645, 750.1009090493843, 693.6398533401548, 532.969863029567, 403.7345366980436, 1006.8371895817226, 371.14074346132725, 367.60202415946907, 403.82054880120285, 351.83492176061185, 320.0986950677302, 235.52661422454636, 371.7199420976944, 221.63941649238694, 221.04123668010925, 202.9262284129688, 154.1976762941008, 138.3184782455065, 130.90951583050978, 129.86750184139837, 120.55666884211654, 111.27378352306356, 102.77982382154833, 103.8499712173756, 100.2220679894442, 98.92622541325647, 93.51650169576645, 91.54614911195623, 289.90354147946954, 233.36697846525277, 466.94714485687814, 309.85903607962763, 114.17682885598548, 671.0905683109886, 818.7829631869893, 501.1718729312147, 459.87031961037223, 409.22616723558895, 452.11340845165813, 1974.7127562653575, 2219.0634289686113, 1200.0353157463283, 787.063357265974, 2426.2674628194895, 685.5653705373013, 499.81468740327205, 556.2420017347872, 643.5746254927317, 680.5879758506902, 800.185991191743, 4043.9216239034527, 1394.423795844071, 5664.968889345435, 893.8249101094011, 454.09659143665505, 588.4644800994905, 440.8751538295694, 456.8245295435642, 348.8242063343419, 300.48232290172854, 262.8887514717712, 1109.120853909514, 226.85256486292874, 200.66862363465506, 170.31443645357342, 150.90747025835608, 149.6717861492012, 153.63401565676423, 133.4190610530352, 191.9691187674296, 121.40292293380531, 124.0723670331411, 106.56609329141841, 104.85774204704352, 365.05949966014686, 103.65990702475277, 90.84525462985262, 90.64729945516648, 82.6845620605895, 109.4035150225848, 79.3626634958927, 96.27287916234518, 121.53842023650148, 78.76003106196312, 456.90060370358754, 325.28307517809526, 204.19607155791536, 123.37450331238172, 92.72702953297409, 1089.4046816857976, 988.9677222485112, 413.62827633255984, 282.9387804663298, 538.276042216705, 846.0771577060011, 204.034799575264, 483.99577063175445, 142.0482253777385, 920.3774402251017, 334.03939472737994, 493.60041039445366, 3946.6095162133743, 263.89617101970737, 471.3048245080003, 781.3052468705802, 497.32905623451614, 523.7756735512818, 648.4597643188431, 319.8297076637281, 976.2214973000971, 378.76304621216855, 592.857711289724, 668.6876894242505, 5664.968889345435, 460.19193676461197, 2426.2674628194895, 735.1700960746123, 2234.6824681246226, 582.121348129908, 2415.730748231272, 467.9678860035759, 405.2134110919696, 464.5873645877917, 494.5014707730705, 330.7265581920932, 282.6003287802664, 494.20383148790796, 201.25874310606068, 305.28327300610175, 187.0432405959262, 144.7218356757549, 137.03686877372303, 145.07854739495707, 115.82334796394035, 115.57541316148618, 114.38643910983053, 111.62807235091975, 109.91186132289002, 106.31487614828501, 90.12668305228517, 79.78853979643556, 77.70898224627142, 76.75475933121481, 98.81102480706888, 68.87759644540797, 65.27420608884711, 64.92638863356434, 60.95832599998701, 2935.8577465132935, 798.6085476514588, 798.4522155023642, 183.31988885592187, 922.6996048351175, 975.0904590902878, 642.7591130062103, 587.615442932558, 509.9226586094513, 542.9065765016712, 317.8793213307543, 1669.1725244518095, 445.9488190119354, 465.36215980088235, 1469.1205096534875, 630.9438410157941, 633.0475120809247, 4043.9216239034527, 5664.968889345435, 2234.6824681246226, 651.8673602147323, 1974.7127562653575, 1090.2904915036054, 408.67068358591695, 295.36572540493165, 272.2464112763403, 211.0194008657107, 201.23583751264889, 557.026333615672, 210.35625316277572, 196.23081311108334, 151.7727492587364, 371.81992265901346, 155.68091129886068, 165.1351455409262, 125.73780432003448, 124.42171865224091, 116.16122950974213, 565.627239619954, 119.33448905710335, 93.12734875750381, 84.78062891941231, 81.03967485248683, 179.5148312703122, 75.33452009860947, 68.78688902674648, 69.66427834184728, 65.26622006296029, 65.2882939513393, 101.01879964976497, 62.13877644622726, 61.50864035554893, 60.59518619059107, 2763.5297088849197, 937.6011454085858, 429.95040876469994, 804.8854648403616, 603.6683745421741, 324.8337603778435, 265.63889415566877, 111.54583856538564, 117.85523961607905, 795.1803050348831, 405.9775443987492, 136.39550695796117, 209.983485087887, 247.53408977828417, 178.5729533554429, 486.3462867850636, 363.200689186969, 662.078030266363, 401.70848662872277, 500.2770906202213, 1120.6440471617136, 1394.423795844071, 4043.9216239034527, 1073.4635151218915, 1961.8699454635696, 5664.968889345435, 896.808893723879, 3946.6095162133743, 1376.0142951178232, 771.7323491441441, 2234.6824681246226, 645.8662651190929, 205.8977820889389, 148.7588973240889, 114.00693746416974, 89.0970068749165, 79.80835428213403, 74.5203911806006, 63.02366121817095, 59.33758299561082, 59.14855701680025, 60.34552848747874, 63.6852194852211, 55.55975243871359, 48.04278728232658, 46.20989535785698, 64.92307630200939, 45.363943597024814, 43.93388159679665, 47.767668799458846, 42.472663908848205, 34.911080419360864, 33.851155655767606, 66.22804860389569, 30.016174138882608, 29.02955135305172, 27.494583617589, 26.57032090534475, 28.28847895570623, 25.911493831782614, 26.614736072138797, 313.48520220736316, 55.949677819135154, 67.98963491699732, 144.0172670912129, 2259.63698793017, 359.27673637089885, 91.26281249807698, 512.852003076711, 362.34900531324683, 99.0676239951537, 67.4754426954048, 1187.9481759847383, 102.22813602066907, 859.3390713265279, 59.26173240448136, 505.23031142208276, 98.8908102546273, 103.60410351485315, 831.4080832931992, 119.29700630430072, 414.0937056388793, 91.31089025914278, 362.6303775174846, 481.7712393953437, 102.33301533351636, 334.16155438575026, 178.96404761535786, 405.0567928882707, 322.6621689982741, 574.7454203433841, 618.8759842379994, 569.757318842546, 1073.4635151218915, 458.9181826363802, 352.7259597516114, 959.8956811624394, 771.7323491441441, 685.5653705373013, 2426.2674628194895, 3946.6095162133743, 892.7793930121062, 4043.9216239034527, 2234.6824681246226, 147.09888489604018, 106.88550139785495, 96.22337049445241, 74.24034189628725, 69.31048436329526, 70.32566040107966, 67.57703071092223, 65.83598992766755, 66.98871750557387, 65.70934911759215, 56.08270932325685, 49.70516361913288, 193.38087599182774, 46.61447128626621, 43.927999211646636, 43.457523788309054, 46.63184233765813, 41.32297063141851, 41.43549216671018, 35.32849886163891, 35.96213493205951, 35.26798295682519, 42.003387245870364, 31.791139648661048, 35.05963356726368, 31.165293812176834, 30.185383641585613, 90.59084441233001, 108.1076684932745, 28.009955187227476, 421.51156774224626, 66.77051612027944, 1030.8586059293884, 95.80721903007554, 102.82161341635577, 53.77324730445735, 192.1318285758152, 195.3750682412027, 1034.5800404889258, 261.21413128957306, 144.66130204387588, 137.61514304131774, 132.95247464634713, 122.6673540937931, 134.01255429266183, 139.48557331121572, 122.11105703216707, 115.08887104348133, 225.94421033131678, 317.2674318286937, 284.2120317965088, 379.52455440748207, 100.34222124485872, 437.0956616731462, 205.09842624161007, 148.17486464399454, 2219.0634289686113, 384.2047785883259, 892.7793930121062, 581.1656850345178, 1669.1725244518095, 698.6692126244179, 483.98042572425874, 1361.87849931925, 1469.1205096534875, 402.99306174087974, 654.3164332873904, 535.0395333481428, 280.804645980303, 2234.6824681246226, 522.4065019543792, 402.9537097248647, 1974.7127562653575, 931.4170762956942, 551.622040696321, 140.9652608349696, 115.91487706615467, 108.55012935633889, 87.53216181423372, 169.5358180890493, 86.18460507213081, 76.74133602672791, 74.87507073033048, 71.40889471838257, 71.50339299973848, 1669.0041082342102, 61.479710008250876, 59.789265323643185, 61.2089359718336, 57.50759083697511, 58.23676798991985, 52.22664238420535, 51.769381297187785, 325.1490190989584, 49.86267685063472, 49.478187432378974, 452.71427723667836, 44.866109798915524, 44.58039843982659, 43.620165280681825, 41.37552680941875, 43.65067208177287, 44.29995775801747, 95.87068039025003, 84.44851412559265, 58.13173383000512, 174.18105432655474, 338.8417163156979, 268.86200075890474, 154.795774015155, 126.94969308711356, 71.73161479187033, 112.48810100117913, 219.9217195806749, 436.47804372405193, 569.757318842546, 240.3071495546698, 1961.8699454635696, 130.5928215613283, 5664.968889345435, 279.8957880690582, 352.7259597516114, 209.9395306241976, 396.98004477467794, 178.81286423127983, 1376.0142951178232, 333.6502016418618, 228.55468615834596, 577.9165745508304, 4043.9216239034527, 300.56564163809685, 510.9249336641733, 863.7298183997099, 884.7834196613637, 2426.2674628194895, 3946.6095162133743, 2234.6824681246226, 1361.87849931925, 1120.6440471617136], \"Category\": [\"Default\", \"Default\", \"Default\", \"Default\", \"Default\", \"Default\", \"Default\", \"Default\", \"Default\", \"Default\", \"Default\", \"Default\", \"Default\", \"Default\", \"Default\", \"Default\", \"Default\", \"Default\", \"Default\", \"Default\", \"Default\", \"Default\", \"Default\", \"Default\", \"Default\", \"Default\", \"Default\", \"Default\", \"Default\", \"Default\", \"Topic1\", \"Topic1\", \"Topic1\", \"Topic1\", \"Topic1\", \"Topic1\", \"Topic1\", \"Topic1\", \"Topic1\", \"Topic1\", \"Topic1\", \"Topic1\", \"Topic1\", \"Topic1\", \"Topic1\", \"Topic1\", \"Topic1\", \"Topic1\", \"Topic1\", \"Topic1\", \"Topic1\", \"Topic1\", \"Topic1\", \"Topic1\", \"Topic1\", \"Topic1\", \"Topic1\", \"Topic1\", \"Topic1\", \"Topic1\", \"Topic1\", \"Topic1\", \"Topic1\", \"Topic1\", \"Topic1\", \"Topic1\", \"Topic1\", \"Topic1\", \"Topic1\", \"Topic1\", \"Topic1\", \"Topic1\", \"Topic1\", \"Topic1\", \"Topic1\", \"Topic1\", \"Topic1\", \"Topic1\", \"Topic1\", \"Topic1\", \"Topic1\", \"Topic1\", \"Topic1\", \"Topic1\", \"Topic1\", \"Topic1\", \"Topic2\", \"Topic2\", \"Topic2\", \"Topic2\", \"Topic2\", \"Topic2\", \"Topic2\", \"Topic2\", \"Topic2\", \"Topic2\", \"Topic2\", \"Topic2\", \"Topic2\", \"Topic2\", \"Topic2\", \"Topic2\", \"Topic2\", \"Topic2\", \"Topic2\", \"Topic2\", \"Topic2\", \"Topic2\", \"Topic2\", \"Topic2\", \"Topic2\", \"Topic2\", \"Topic2\", \"Topic2\", \"Topic2\", \"Topic2\", \"Topic2\", \"Topic2\", \"Topic2\", \"Topic2\", \"Topic2\", \"Topic2\", \"Topic2\", \"Topic2\", \"Topic2\", \"Topic2\", \"Topic2\", \"Topic2\", \"Topic2\", \"Topic2\", \"Topic2\", \"Topic2\", \"Topic2\", \"Topic2\", \"Topic2\", \"Topic2\", \"Topic2\", \"Topic2\", \"Topic2\", \"Topic2\", \"Topic2\", \"Topic2\", \"Topic2\", \"Topic2\", \"Topic2\", \"Topic2\", \"Topic2\", \"Topic2\", \"Topic2\", \"Topic2\", \"Topic3\", \"Topic3\", \"Topic3\", \"Topic3\", \"Topic3\", \"Topic3\", \"Topic3\", \"Topic3\", \"Topic3\", \"Topic3\", \"Topic3\", \"Topic3\", \"Topic3\", \"Topic3\", \"Topic3\", \"Topic3\", \"Topic3\", \"Topic3\", \"Topic3\", \"Topic3\", \"Topic3\", \"Topic3\", \"Topic3\", \"Topic3\", \"Topic3\", \"Topic3\", \"Topic3\", \"Topic3\", \"Topic3\", \"Topic3\", \"Topic3\", \"Topic3\", \"Topic3\", \"Topic3\", \"Topic3\", \"Topic3\", \"Topic3\", \"Topic3\", \"Topic3\", \"Topic3\", \"Topic3\", \"Topic3\", \"Topic3\", \"Topic3\", \"Topic3\", \"Topic3\", \"Topic3\", \"Topic3\", \"Topic3\", \"Topic3\", \"Topic3\", \"Topic3\", \"Topic3\", \"Topic4\", \"Topic4\", \"Topic4\", \"Topic4\", \"Topic4\", \"Topic4\", \"Topic4\", \"Topic4\", \"Topic4\", \"Topic4\", \"Topic4\", \"Topic4\", \"Topic4\", \"Topic4\", \"Topic4\", \"Topic4\", \"Topic4\", \"Topic4\", \"Topic4\", \"Topic4\", \"Topic4\", \"Topic4\", \"Topic4\", \"Topic4\", \"Topic4\", \"Topic4\", \"Topic4\", \"Topic4\", \"Topic4\", \"Topic4\", \"Topic4\", \"Topic4\", \"Topic4\", \"Topic4\", \"Topic4\", \"Topic4\", \"Topic4\", \"Topic4\", \"Topic4\", \"Topic4\", \"Topic4\", \"Topic4\", \"Topic4\", \"Topic4\", \"Topic4\", \"Topic4\", \"Topic4\", \"Topic4\", \"Topic4\", \"Topic4\", \"Topic4\", \"Topic4\", \"Topic4\", \"Topic4\", \"Topic4\", \"Topic4\", \"Topic4\", \"Topic4\", \"Topic4\", \"Topic4\", \"Topic4\", \"Topic5\", \"Topic5\", \"Topic5\", \"Topic5\", \"Topic5\", \"Topic5\", \"Topic5\", \"Topic5\", \"Topic5\", \"Topic5\", \"Topic5\", \"Topic5\", \"Topic5\", \"Topic5\", \"Topic5\", \"Topic5\", \"Topic5\", \"Topic5\", \"Topic5\", \"Topic5\", \"Topic5\", \"Topic5\", \"Topic5\", \"Topic5\", \"Topic5\", \"Topic5\", \"Topic5\", \"Topic5\", \"Topic5\", \"Topic5\", \"Topic5\", \"Topic5\", \"Topic5\", \"Topic5\", \"Topic5\", \"Topic5\", \"Topic5\", \"Topic5\", \"Topic5\", \"Topic5\", \"Topic5\", \"Topic5\", \"Topic5\", \"Topic5\", \"Topic5\", \"Topic5\", \"Topic5\", \"Topic5\", \"Topic5\", \"Topic5\", \"Topic5\", \"Topic5\", \"Topic5\", \"Topic5\", \"Topic5\", \"Topic5\", \"Topic5\", \"Topic5\", \"Topic5\", \"Topic5\", \"Topic5\", \"Topic5\", \"Topic5\", \"Topic5\", \"Topic5\", \"Topic5\", \"Topic5\", \"Topic5\", \"Topic5\", \"Topic5\", \"Topic5\", \"Topic5\", \"Topic5\", \"Topic6\", \"Topic6\", \"Topic6\", \"Topic6\", \"Topic6\", \"Topic6\", \"Topic6\", \"Topic6\", \"Topic6\", \"Topic6\", \"Topic6\", \"Topic6\", \"Topic6\", \"Topic6\", \"Topic6\", \"Topic6\", \"Topic6\", \"Topic6\", \"Topic6\", \"Topic6\", \"Topic6\", \"Topic6\", \"Topic6\", \"Topic6\", \"Topic6\", \"Topic6\", \"Topic6\", \"Topic6\", \"Topic6\", \"Topic6\", \"Topic6\", \"Topic6\", \"Topic6\", \"Topic6\", \"Topic6\", \"Topic6\", \"Topic6\", \"Topic6\", \"Topic6\", \"Topic6\", \"Topic6\", \"Topic6\", \"Topic6\", \"Topic6\", \"Topic6\", \"Topic6\", \"Topic6\", \"Topic6\", \"Topic6\", \"Topic6\", \"Topic6\", \"Topic6\", \"Topic6\", \"Topic6\", \"Topic6\", \"Topic6\", \"Topic6\", \"Topic6\", \"Topic6\", \"Topic6\", \"Topic6\", \"Topic6\", \"Topic6\", \"Topic6\", \"Topic6\", \"Topic6\", \"Topic6\", \"Topic6\", \"Topic6\", \"Topic6\", \"Topic6\", \"Topic6\", \"Topic6\", \"Topic7\", \"Topic7\", \"Topic7\", \"Topic7\", \"Topic7\", \"Topic7\", \"Topic7\", \"Topic7\", \"Topic7\", \"Topic7\", \"Topic7\", \"Topic7\", \"Topic7\", \"Topic7\", \"Topic7\", \"Topic7\", \"Topic7\", \"Topic7\", \"Topic7\", \"Topic7\", \"Topic7\", \"Topic7\", \"Topic7\", \"Topic7\", \"Topic7\", \"Topic7\", \"Topic7\", \"Topic7\", \"Topic7\", \"Topic7\", \"Topic7\", \"Topic7\", \"Topic7\", \"Topic7\", \"Topic7\", \"Topic7\", \"Topic7\", \"Topic7\", \"Topic7\", \"Topic7\", \"Topic7\", \"Topic7\", \"Topic7\", \"Topic7\", \"Topic7\", \"Topic7\", \"Topic7\", \"Topic7\", \"Topic7\", \"Topic7\", \"Topic7\", \"Topic7\", \"Topic7\", \"Topic7\", \"Topic7\", \"Topic7\", \"Topic7\", \"Topic7\", \"Topic7\", \"Topic7\", \"Topic7\", \"Topic7\", \"Topic7\", \"Topic7\", \"Topic7\", \"Topic7\"], \"logprob\": [30.0, 29.0, 28.0, 27.0, 26.0, 25.0, 24.0, 23.0, 22.0, 21.0, 20.0, 19.0, 18.0, 17.0, 16.0, 15.0, 14.0, 13.0, 12.0, 11.0, 10.0, 9.0, 8.0, 7.0, 6.0, 5.0, 4.0, 3.0, 2.0, 1.0, -3.845, -4.0045, -4.1963, -4.3375, -4.4157, -4.6792, -4.957, -4.0432, -5.0412, -5.0507, -4.9568, -5.0946, -5.1891, -5.496, -5.0397, -5.5568, -5.5595, -5.645, -5.9198, -6.0285, -6.0836, -6.0916, -6.166, -6.2462, -6.3256, -6.3153, -6.3508, -6.3638, -6.4201, -6.4414, -5.2894, -5.5063, -4.8241, -5.2304, -6.2208, -4.4698, -4.301, -4.7898, -4.8899, -5.0191, -4.9667, -3.6875, -3.6469, -4.1716, -4.6013, -3.9003, -4.7818, -5.0639, -5.0031, -4.9717, -4.9581, -4.9308, -4.5766, -4.9158, -4.8054, -4.9669, -4.8362, -4.577, -4.8658, -4.8303, -5.1, -5.2493, -5.3829, -3.9434, -5.5304, -5.6531, -5.8171, -5.9382, -5.9464, -5.9203, -6.0614, -5.6976, -6.1558, -6.1341, -6.2863, -6.3024, -5.055, -6.314, -6.446, -6.4481, -6.5401, -6.2601, -6.5812, -6.388, -6.155, -6.5888, -4.8368, -5.1749, -5.6364, -6.1424, -6.4256, -3.9934, -4.0928, -4.9515, -5.333, -4.7163, -4.2892, -5.673, -4.8708, -6.011, -4.3095, -5.2408, -4.9003, -3.1368, -5.4601, -4.9672, -4.5661, -4.9529, -4.9178, -4.7874, -5.3159, -4.5739, -5.2289, -4.9695, -4.9217, -3.8423, -5.1792, -5.1647, -5.2123, -5.2059, -4.342, -2.919, -4.5604, -4.7043, -4.5676, -4.5052, -4.9075, -5.0648, -4.5059, -5.4043, -4.9877, -5.4776, -5.7342, -5.7888, -5.7318, -5.9571, -5.9592, -5.9696, -5.994, -6.0095, -6.0428, -6.2081, -6.33, -6.3564, -6.3688, -6.1162, -6.4772, -6.531, -6.5363, -6.5994, -2.7251, -4.029, -4.0345, -5.5027, -3.9085, -3.8862, -4.2915, -4.3865, -4.5337, -4.6364, -5.1012, -3.6964, -4.8536, -4.8512, -3.9676, -4.6483, -4.6513, -3.7836, -3.6858, -4.2542, -4.8703, -4.9085, -5.0423, -4.6892, -5.0139, -5.0955, -5.3503, -5.3978, -4.3796, -5.3535, -5.423, -5.68, -4.784, -5.6546, -5.5956, -5.8682, -5.8788, -5.9475, -4.3646, -5.9207, -6.1687, -6.2626, -6.3078, -5.5125, -6.3808, -6.4718, -6.4592, -6.5244, -6.5241, -6.0876, -6.5736, -6.5838, -6.5988, -2.7829, -3.8666, -4.6401, -4.0197, -4.3087, -4.9276, -5.13, -5.9897, -5.937, -4.0616, -4.7224, -5.7926, -5.39, -5.2421, -5.5503, -4.6763, -4.9366, -4.4383, -4.8737, -4.6958, -4.064, -4.0311, -3.3165, -4.3195, -3.9651, -3.3947, -4.6847, -4.5528, -4.9167, -5.1158, -5.0107, -3.8371, -4.9805, -5.3056, -5.5718, -5.8185, -5.9287, -5.9973, -6.165, -6.2253, -6.2285, -6.2085, -6.1546, -6.2912, -6.4367, -6.4757, -6.1356, -6.4942, -6.5263, -6.4427, -6.5603, -6.7565, -6.7874, -6.1165, -6.9078, -6.9413, -6.9958, -7.03, -6.9674, -7.0552, -7.0285, -4.5648, -6.2876, -6.0963, -5.3538, -2.6432, -4.454, -5.8145, -4.1298, -4.4722, -5.7358, -6.1121, -3.3806, -5.7163, -3.735, -6.2431, -4.279, -5.7756, -5.7399, -3.9695, -5.6298, -4.6363, -5.8733, -4.8321, -4.668, -5.844, -5.0901, -5.4971, -5.0488, -5.2394, -4.9458, -4.9378, -4.9787, -4.7009, -5.123, -5.2581, -4.8827, -5.0197, -5.0858, -4.6942, -4.5786, -5.0128, -4.8601, -5.1246, -5.2907, -5.6102, -5.7154, -5.9749, -6.0437, -6.0291, -6.069, -6.0951, -6.0778, -6.0971, -6.2557, -6.3765, -5.018, -6.4408, -6.5002, -6.511, -6.4405, -6.5615, -6.5589, -6.7184, -6.7007, -6.7202, -6.5456, -6.8241, -6.7263, -6.8441, -6.8761, -5.7771, -5.6003, -6.951, -4.2412, -6.0833, -3.3771, -5.7315, -5.6639, -6.3033, -5.0602, -5.0533, -3.4748, -4.8059, -5.3761, -5.4551, -5.4931, -5.5765, -5.4981, -5.5105, -5.6261, -5.6754, -5.1978, -4.963, -5.0436, -4.8451, -5.8029, -4.8405, -5.3333, -5.5476, -3.8728, -4.9898, -4.5013, -4.7574, -4.2531, -4.7814, -4.9679, -4.4996, -4.5001, -5.1231, -4.9598, -5.1442, -5.3236, -4.847, -5.1973, -5.2562, -5.1809, -3.3514, -3.8753, -5.2399, -5.4357, -5.5014, -5.7167, -5.0557, -5.7322, -5.8484, -5.873, -5.9205, -5.9191, -2.769, -6.0703, -6.0982, -6.0748, -6.1372, -6.1246, -6.2336, -6.2424, -4.405, -6.28, -6.2877, -4.0741, -6.3857, -6.3921, -6.4139, -6.4668, -6.4133, -6.3986, -5.6288, -5.7548, -6.1269, -5.0494, -4.4039, -4.6383, -5.1748, -5.3892, -5.9319, -5.5134, -4.9757, -4.3959, -4.351, -5.0355, -3.632, -5.5379, -2.9994, -5.0203, -4.9101, -5.2438, -4.8653, -5.3554, -4.174, -5.0451, -5.2836, -4.952, -4.3441, -5.1974, -5.0331, -4.9026, -4.9428, -4.7882, -4.696, -4.8676, -5.0672, -5.1028], \"loglift\": [30.0, 29.0, 28.0, 27.0, 26.0, 25.0, 24.0, 23.0, 22.0, 21.0, 20.0, 19.0, 18.0, 17.0, 16.0, 15.0, 14.0, 13.0, 12.0, 11.0, 10.0, 9.0, 8.0, 7.0, 6.0, 5.0, 4.0, 3.0, 2.0, 1.0, 1.6183, 1.6183, 1.6182, 1.6182, 1.6182, 1.6182, 1.6182, 1.6182, 1.6181, 1.6181, 1.6181, 1.6181, 1.6181, 1.618, 1.618, 1.618, 1.618, 1.618, 1.6179, 1.6179, 1.6178, 1.6178, 1.6178, 1.6177, 1.6177, 1.6177, 1.6177, 1.6177, 1.6176, 1.6176, 1.6169, 1.6169, 1.6056, 1.6094, 1.6174, 1.5972, 1.5671, 1.5691, 1.5551, 1.5426, 1.4953, 1.3003, 1.2242, 1.3142, 1.3063, 0.8815, 1.2638, 1.2978, 1.2516, 1.1372, 1.0949, 0.9602, -0.3057, 0.4199, -0.8716, 0.8135, 1.6213, 1.6213, 1.6213, 1.6213, 1.6213, 1.6213, 1.6212, 1.6212, 1.6212, 1.6212, 1.6211, 1.6211, 1.6211, 1.621, 1.621, 1.621, 1.621, 1.621, 1.6209, 1.6209, 1.6208, 1.6208, 1.6208, 1.6208, 1.6207, 1.6207, 1.6207, 1.6207, 1.6207, 1.6207, 1.6146, 1.6163, 1.6204, 1.6183, 1.6207, 1.5891, 1.5865, 1.5995, 1.5977, 1.5712, 1.5461, 1.5846, 1.523, 1.6087, 1.4416, 1.5238, 1.4738, 1.1585, 1.5402, 1.4532, 1.3488, 1.4137, 1.397, 1.3139, 1.4922, 1.1183, 1.41, 1.2214, 1.1489, 0.0915, 1.265, -0.3829, 0.7635, -0.3419, 1.8672, 1.8671, 1.8671, 1.8671, 1.8671, 1.8671, 1.8671, 1.8671, 1.8671, 1.867, 1.867, 1.8669, 1.8669, 1.8668, 1.8668, 1.8668, 1.8668, 1.8667, 1.8667, 1.8667, 1.8667, 1.8666, 1.8665, 1.8665, 1.8665, 1.8665, 1.8664, 1.8663, 1.8663, 1.8663, 1.866, 1.8641, 1.8587, 1.862, 1.84, 1.8071, 1.8186, 1.8134, 1.8079, 1.6426, 1.7131, 1.4594, 1.6221, 1.5819, 1.3159, 1.4804, 1.474, 0.4874, 0.248, 0.6098, 1.2258, 0.0792, 0.5394, 1.8738, 1.8737, 1.8737, 1.8736, 1.8736, 1.8736, 1.8736, 1.8736, 1.8735, 1.8735, 1.8735, 1.8735, 1.8735, 1.8734, 1.8734, 1.8734, 1.8733, 1.8733, 1.8732, 1.8732, 1.8731, 1.8731, 1.873, 1.873, 1.873, 1.873, 1.873, 1.8729, 1.8729, 1.8729, 1.8687, 1.866, 1.8721, 1.8655, 1.8642, 1.865, 1.8638, 1.8718, 1.8694, 1.8358, 1.8472, 1.8677, 1.8389, 1.8223, 1.8406, 1.7126, 1.7443, 1.6422, 1.7064, 1.665, 1.4902, 1.3045, 0.9544, 1.2777, 1.0291, 0.5392, 1.0923, -0.2576, 0.4322, 0.8114, -0.1467, 2.2682, 2.268, 2.268, 2.2678, 2.2677, 2.2676, 2.2676, 2.2674, 2.2673, 2.2673, 2.2673, 2.2673, 2.2673, 2.2671, 2.267, 2.267, 2.267, 2.2669, 2.2669, 2.2667, 2.2666, 2.2666, 2.2663, 2.2663, 2.2662, 2.2661, 2.2661, 2.266, 2.266, 2.266, 2.2633, 2.2639, 2.2602, 2.2522, 2.2097, 2.2378, 2.2476, 2.2061, 2.2111, 2.2443, 2.2521, 2.1153, 2.2324, 2.0847, 2.2508, 2.0719, 2.2063, 2.1955, 1.8833, 2.1645, 1.9135, 2.1883, 1.8504, 1.7304, 2.1037, 1.6742, 1.8916, 1.523, 1.5599, 1.2761, 1.2102, 1.2519, 0.8963, 1.3241, 1.4521, 0.8264, 0.9075, 0.9598, 0.0876, -0.2833, 0.7688, -0.5892, -0.2605, 2.2941, 2.2939, 2.2938, 2.2937, 2.2936, 2.2936, 2.2936, 2.2936, 2.2936, 2.2935, 2.2934, 2.2933, 2.2933, 2.2932, 2.2931, 2.2931, 2.2931, 2.293, 2.2929, 2.2928, 2.2927, 2.2927, 2.2926, 2.2926, 2.2926, 2.2925, 2.2925, 2.2925, 2.2924, 2.2923, 2.2908, 2.2913, 2.2607, 2.2821, 2.279, 2.2878, 2.2575, 2.2477, 2.1593, 2.2046, 2.2254, 2.1963, 2.1928, 2.19, 2.1798, 2.1274, 2.1449, 2.1548, 1.9579, 1.8532, 1.8825, 1.7919, 2.1644, 1.6553, 1.9191, 2.0299, 0.9982, 1.635, 1.2803, 1.4535, 0.9027, 1.2453, 1.426, 0.8596, 0.7834, 1.4539, 1.1325, 1.1494, 1.6146, 0.017, 1.1201, 1.3209, -0.1932, 2.3878, 2.3878, 2.3874, 2.3873, 2.3873, 2.3872, 2.3872, 2.3872, 2.3871, 2.387, 2.387, 2.387, 2.3869, 2.3869, 2.3868, 2.3868, 2.3868, 2.3868, 2.3867, 2.3867, 2.3866, 2.3866, 2.3866, 2.3866, 2.3865, 2.3865, 2.3865, 2.3864, 2.3864, 2.3863, 2.3841, 2.385, 2.3863, 2.3664, 2.3464, 2.3434, 2.359, 2.343, 2.3711, 2.3396, 2.2069, 2.1013, 1.8797, 2.0585, 1.3622, 2.1659, 0.9344, 1.9212, 1.8001, 1.9853, 1.7267, 2.0341, 1.1749, 1.7207, 1.8605, 1.2644, -0.0731, 1.6728, 1.3065, 0.912, 0.8477, -0.0064, -0.4007, -0.0036, 0.2921, 0.4514]}, \"token.table\": {\"Topic\": [1, 2, 3, 4, 5, 6, 7, 1, 2, 3, 4, 5, 6, 7, 6, 4, 4, 2, 3, 7, 2, 2, 4, 7, 1, 2, 3, 6, 7, 4, 1, 3, 5, 3, 7, 5, 7, 5, 2, 5, 6, 1, 1, 1, 2, 3, 4, 5, 6, 7, 1, 3, 4, 6, 1, 2, 5, 6, 4, 3, 1, 2, 5, 6, 1, 2, 3, 4, 5, 6, 7, 6, 1, 2, 2, 4, 4, 7, 1, 2, 4, 6, 7, 1, 2, 7, 3, 4, 5, 7, 7, 6, 7, 2, 3, 1, 6, 6, 7, 1, 2, 7, 1, 2, 3, 4, 5, 4, 4, 5, 4, 7, 4, 5, 3, 6, 4, 5, 7, 1, 3, 4, 5, 6, 7, 1, 3, 6, 3, 6, 3, 7, 3, 1, 5, 5, 1, 2, 3, 6, 1, 3, 3, 6, 1, 4, 5, 7, 4, 5, 7, 5, 6, 2, 7, 1, 2, 3, 4, 6, 7, 1, 2, 1, 3, 5, 6, 7, 3, 6, 1, 2, 4, 5, 6, 7, 3, 5, 7, 1, 2, 3, 4, 5, 6, 7, 3, 5, 7, 1, 2, 3, 1, 1, 4, 5, 6, 7, 6, 1, 2, 4, 6, 7, 2, 4, 6, 1, 2, 3, 4, 5, 6, 7, 1, 2, 3, 4, 5, 7, 1, 3, 1, 2, 3, 4, 5, 6, 7, 1, 2, 3, 4, 5, 6, 7, 1, 2, 7, 5, 2, 7, 7, 2, 4, 5, 6, 4, 1, 3, 4, 5, 6, 7, 1, 2, 4, 5, 6, 1, 2, 3, 4, 5, 6, 7, 2, 3, 4, 5, 7, 1, 2, 2, 6, 2, 2, 3, 6, 1, 2, 4, 5, 6, 4, 1, 2, 4, 5, 7, 1, 2, 3, 4, 5, 6, 7, 2, 4, 5, 1, 5, 6, 7, 4, 5, 4, 3, 6, 4, 7, 1, 3, 5, 6, 1, 2, 3, 4, 5, 6, 7, 4, 5, 5, 6, 1, 5, 3, 5, 5, 4, 3, 6, 5, 4, 1, 2, 3, 6, 6, 5, 1, 3, 6, 2, 1, 2, 3, 4, 5, 6, 7, 1, 2, 3, 4, 5, 6, 7, 4, 5, 1, 2, 3, 4, 5, 6, 7, 7, 4, 5, 7, 5, 1, 4, 5, 7, 1, 2, 5, 7, 3, 1, 3, 4, 5, 7, 2, 6, 3, 1, 2, 5, 6, 7, 2, 3, 4, 2, 2, 7, 2, 1, 2, 3, 4, 5, 6, 7, 5, 3, 1, 1, 4, 1, 4, 5, 1, 4, 4, 2, 6, 5, 7, 6, 4, 1, 4, 5, 1, 2, 4, 5, 7, 1, 5, 4, 5, 7, 2, 5, 7, 1, 1, 1, 4, 7, 2, 3, 4, 6, 2, 1, 2, 1, 2, 3, 4, 5, 7, 3, 1, 2, 3, 6, 7, 4, 5, 1, 2, 3, 5, 7, 4, 5, 4, 5, 1, 2, 3, 4, 5, 6, 7, 1, 2, 3, 4, 5, 6, 7, 7, 4, 5, 7, 7, 3, 5, 4, 5, 1, 2, 5, 1, 2, 3, 4, 5, 6, 7, 4, 5, 7, 6, 1, 2, 3, 5, 6, 7, 4, 7, 1, 2, 4, 5, 6, 7, 2, 7, 1, 3, 2, 2, 6, 1, 3, 4, 5, 6, 7, 1, 2, 4, 1, 1, 2, 3, 4, 5, 6, 5, 5, 1, 2, 1, 2, 3, 1, 2, 5, 6, 1, 2, 3, 4, 5, 6, 2, 3, 6, 2, 7, 3, 6, 1, 2, 4, 7, 4, 5, 7, 2, 2, 1, 2, 3, 5, 6, 5, 7, 1, 2, 7, 7, 6, 2, 3, 5, 7, 2, 2, 3, 5, 3, 6, 4, 4, 5, 4, 5, 3, 5, 1, 6, 3, 6, 1, 2, 3, 4, 7, 3, 3, 2, 3, 1, 2, 3, 4, 5, 6, 7, 2, 2, 2, 3, 6, 3, 4, 5, 7, 6, 7, 5, 3, 1, 3, 6, 7, 3, 6, 5, 5, 7, 5, 7, 2, 2, 5, 1, 2, 3, 4, 5, 6, 5, 5, 1, 2, 3, 4, 5, 6, 7, 4, 4, 7, 1, 4, 7, 5, 4, 5, 5, 7, 1, 3, 2, 2, 7, 3, 7, 7, 1, 2, 4, 5, 6, 7, 1, 2, 4, 5, 6, 7, 3, 5, 5, 2, 6, 7, 3, 3, 6, 2, 7, 1, 1, 2, 3, 5, 6, 7, 2, 5, 7, 7, 6, 1, 3, 4, 5, 6, 7, 1, 6, 1, 1, 2, 3, 4, 5, 6, 7, 1, 5, 6, 7, 4, 4, 4, 4, 2, 4, 1, 1, 5, 1, 1, 6, 6, 5, 5, 5, 3, 6, 1, 4, 2, 3, 6, 7, 1, 2, 6, 1, 2, 3, 4, 5, 6, 7, 3, 6, 7, 3, 6, 5, 7, 1, 5, 6, 2, 5, 6, 3, 2, 7, 5, 6, 2, 6, 4, 5, 4, 6, 1, 2, 3, 4, 5, 6, 1, 2, 5, 7, 7, 2, 4, 1, 2, 4, 5, 6, 7, 1, 2, 3, 5, 6, 4, 5, 7, 4, 5, 4, 5, 1, 2, 7, 4, 5, 7, 3, 3, 6, 1, 2, 3, 4, 5, 6, 7, 6, 7, 1, 2, 7, 4, 4, 5, 2, 6, 1, 2, 3, 6, 5, 2, 1, 4, 5, 1, 5, 1, 2, 3, 4, 5, 6, 7, 1, 5, 6, 3, 6, 7, 6, 1, 5, 4, 5, 6, 7, 1, 1, 2, 3, 4, 5, 6, 7, 3, 6, 6, 6, 3, 6, 3, 6], \"Freq\": [0.08811358726933667, 0.16815009570565081, 0.18650709305342927, 0.13510750047964956, 0.06021095130071339, 0.237906685627209, 0.1226247422831602, 0.16870405768045596, 0.14051213292218348, 0.28415670192861947, 0.13245729727696276, 0.07965337471384923, 0.10247540904197457, 0.09128813731250136, 1.0078949842829728, 0.9988910724660724, 0.9977666691530794, 0.9278113619429205, 0.028366207244114764, 0.043731236168010265, 0.9963116813705528, 1.002943806874875, 1.0025875141926137, 0.9929598725512183, 0.027685656900281075, 0.4844989957549188, 0.15919252717661617, 0.0034607071125351344, 0.3253064685783026, 0.9987617879344997, 0.9977640988629662, 0.9997915415225745, 0.9943108064304575, 1.0008019032345477, 0.9968394991979345, 0.04726281611317302, 0.9531334582823225, 0.9991093921742064, 0.0982711991170374, 0.0327570663723458, 0.8598729922740772, 1.0006575194287997, 1.0000565453556074, 0.0580758759322029, 0.17881256537020365, 0.0015283125245316553, 0.29954925480820443, 0.10545356419268422, 0.3133040675289893, 0.042792750686886344, 0.6184209013760983, 0.004661464080724359, 0.3760247691784316, 0.001553821360241453, 1.0016268925145155, 0.10753800299140961, 0.05018440139599115, 0.8459656235324222, 0.9955595376704915, 0.9990720978476404, 0.13200865422333707, 0.8105331369312897, 0.05280346168933483, 0.0052803461689334835, 0.028564818008958725, 0.42439158184738673, 0.06529101259190566, 0.1618673020507661, 0.08569445402687617, 0.16050707262176805, 0.07345238916589386, 0.9982990818443874, 0.12193989196589881, 0.8785925549337837, 0.18789587163278448, 0.811550254073516, 0.9988280541102225, 0.9959343899379713, 0.06748782949136506, 0.04049269769481904, 0.1214780930844571, 0.7693612562015616, 0.9977338740593847, 0.0009179325339896204, 0.9684188233590495, 0.031209706155647093, 0.10170802238319249, 0.06019454385944045, 0.583264373258716, 0.2532322189948874, 1.003370595127273, 0.9856202230064456, 1.0094122433818034, 1.0013566757225485, 1.0017771171020615, 0.9984512719633463, 0.9934778794020205, 0.9980304361024622, 1.0029842168550953, 0.1702279621603909, 0.761546146507012, 0.06783520296617082, 0.731834349398318, 0.01143491170934872, 0.05082182981932764, 0.015246548945798293, 0.19058186182247866, 0.9995104268056474, 0.9729602177504499, 0.027095094671531518, 1.0048191363801304, 1.000734357280099, 0.9977894921243811, 0.002325849631991564, 0.9967336341952137, 0.003756533797218142, 0.3456503182142924, 0.06562980725587829, 0.5906682653029046, 0.4475149388609469, 0.22375746943047345, 0.0011187873471523672, 0.014544235512980775, 0.14879871717126483, 0.16558052737855036, 0.9975395505176939, 0.991919096250106, 0.00876696170928124, 0.9478988455787201, 0.052755591046571494, 0.16369460946668324, 0.8366613372741587, 1.0019220618847615, 0.016874295762645986, 0.9787091542334672, 0.9965566159851753, 0.08068613855845971, 0.24466119433855527, 0.1561667197905672, 0.5179529539720479, 0.9996207814318239, 0.9989859064073429, 0.7994008891853311, 0.20077119106267535, 0.0012027787798730677, 0.2682196679116941, 0.6807727894081563, 0.05051670875466885, 0.0028350620994955886, 0.44226968752131185, 0.5556721715011353, 0.9996245661119394, 1.003436904386169, 0.9656533560354402, 0.03437928178555494, 0.5173797149127997, 0.09497791867964438, 0.31242736407777755, 0.03374215532039997, 0.019995351300977765, 0.019995351300977765, 1.0014446685046292, 0.9998910363022316, 0.06949551247741559, 0.6650001624994077, 0.0017972977364848859, 0.24862618688040922, 0.014977481137374049, 0.9928000782448694, 0.00545494548486192, 0.19703599332520547, 0.014073999523228962, 0.04222199856968689, 0.08444399713937378, 0.6614779775917613, 0.0035184998808072405, 0.14972456513035876, 0.7003245788355491, 0.14972456513035876, 0.03425338321072728, 0.0816811445794266, 0.0026348756315944066, 0.013174378157972032, 0.26085268752784624, 0.6060213952667135, 0.9942738965503508, 1.001414263109525, 0.04131722667511292, 0.9591499049579786, 0.9517692946536681, 0.03791114590863667, 0.009976617344378073, 0.9997413835829068, 0.23863969004811303, 0.254135773817471, 0.492775463865584, 0.01239686701548639, 0.9921972629964179, 1.001639063687068, 0.692144783743903, 0.01438222927260058, 0.27685791349756117, 0.003595557318150145, 0.010786671954450437, 0.9655215698993102, 0.034307873042107466, 0.992401523014422, 0.05649855996826919, 0.8355267810692116, 0.0010865107686205612, 0.003259532305861684, 0.0010865107686205612, 0.005432553843102807, 0.09778596917585052, 0.24101620232231438, 0.014253646373900314, 0.0025915720679818752, 0.34597487107558034, 0.25656563473020566, 0.13994489167102125, 0.9393952633560141, 0.060886730032334246, 0.17976860435579783, 0.11464834461466698, 0.26506697274911006, 0.20636702030640058, 0.06053432595654417, 0.03943903054744544, 0.13390926650993104, 0.21652157041606576, 0.10826078520803288, 0.009694995690271602, 0.09210245905758022, 0.3474040122347324, 0.20197907688065836, 0.024237489225679004, 0.23951784263898349, 0.6696379121667355, 0.08939750464694454, 1.0034157107572403, 0.996859061593391, 0.9939203853394698, 1.0044547316779453, 0.10749219070843946, 0.03908806934852344, 0.8501655083303848, 0.00977201733713086, 0.9971970462207007, 0.2958654836909718, 0.25002716931631425, 0.025002716931631423, 0.2364840309783472, 0.12918070414676236, 0.06354857220122986, 0.0009700651420554739, 0.0029101954261664216, 0.0019401302841109479, 0.02716182397755327, 0.966184881487252, 0.13226606776233818, 0.08502818641864597, 0.17950394910603037, 0.23618940671846103, 0.05377851106820344, 0.015261469357192867, 0.2972352841472325, 0.320155276695923, 0.6799337312007473, 0.8463849067601189, 0.10455342965860293, 0.04978734745647758, 0.09297601906988151, 0.9070327193706219, 0.002372414131731489, 0.9964139353272256, 1.0038149556767242, 0.12468827442199319, 0.0009665757707131255, 0.8737844967246654, 0.11516933645690859, 0.6997080441344258, 0.04346012696487117, 0.060844177750819635, 0.08040123488501166, 0.9999527246485798, 0.301916821309809, 0.013625699774076891, 0.5658251116708772, 0.011474273493959488, 0.1075713140058702, 0.16002321264800132, 0.1909954473540661, 0.09119602441230183, 0.012044757941247411, 0.06538582882391453, 0.4318906061790143, 0.04989971147088214, 0.11734200404952105, 0.19557000674920175, 0.6872888808614804, 0.03914707160524017, 0.08388658201122894, 0.17336560282320645, 0.704647288894323, 0.9918929862172113, 0.007465861186581161, 1.0008058234351274, 0.9732311526896869, 0.027094408482452308, 1.0066806265457402, 0.9949320248662904, 0.8847337692767625, 0.08183787365810054, 0.013271006539151437, 0.019906509808727157, 0.14267186322425804, 0.029578313107468134, 0.1217930539719276, 0.08699503855137686, 0.3705988642288654, 0.18442948172891893, 0.06611622929904641, 0.9947423366435303, 0.005065984981087459, 1.0144755870137863, 0.9894898758543029, 1.0005192127558862, 0.9919772495914865, 1.0008881761400774, 0.995457783311745, 1.0008994185994693, 0.9991816064322133, 0.9986859899741821, 0.0013624638335254873, 0.985444326650592, 0.9951065985750273, 0.038679552303311, 0.20629094561765865, 0.7521024058977138, 0.002148864016850611, 1.0059317052676118, 1.0011848437007633, 0.20284244760172018, 0.5758547337954876, 0.2205401108152931, 0.9971655655806759, 0.7374782961696416, 0.025832573086168237, 0.11166338043698527, 0.09166396901543568, 0.0008333088092312334, 0.027499190704630704, 0.004166544046156167, 0.3339406076403841, 0.6043710383675663, 0.025608942303710438, 0.0010243576921484174, 0.00819486153718734, 0.017414080766523097, 0.009219219229335758, 0.1422620981423782, 0.8577815266691324, 0.09032024611582333, 0.272075803114332, 0.0011150647668620164, 0.45717655441342675, 0.0613285621774109, 0.0066903886011720985, 0.11150647668620164, 0.9965865119444366, 0.01637431153660307, 0.9430718347162472, 0.04027195540083458, 1.0004964497918534, 0.16062192134593586, 0.6808584777052725, 0.013385160112161322, 0.14455972921134227, 0.006565979505569308, 0.9936515651761553, 0.9952622892662706, 0.0063798864696555805, 1.001133766531373, 0.17687207085381365, 0.0010194355668807704, 0.4296920914402447, 0.034151091490505804, 0.35833160175859075, 1.002192890585749, 0.9921842349065547, 0.998594389053332, 0.995382513074863, 0.06890898249316312, 0.015313107220702914, 0.9149581564369991, 0.0038282768051757284, 0.9855807746116376, 0.014079725351594824, 0.9959210130033044, 0.9954303008503302, 0.9791400229958587, 0.021758667177685747, 1.0032808535624678, 0.1476526407415876, 0.09158201767516193, 0.044856498453140534, 0.07662985152411508, 0.2616629076433198, 0.31773353070974547, 0.059808664604187385, 0.9899252171915086, 0.9970382682114417, 0.9996916730081973, 0.9984274618985676, 1.0020852573447057, 1.0010826269018538, 0.9914454103830447, 0.00869688956476355, 0.9907731072948509, 0.009681821895389423, 0.9988237672390794, 1.001651361131316, 0.9967626510041804, 0.979129165394591, 0.020188230214321465, 0.9894719314764056, 0.9998138994936571, 0.9944768924585442, 0.9493641874155154, 0.04847817127228164, 0.013700642773094808, 0.418848221920327, 0.225081988415129, 0.003914469363741374, 0.3386015999636288, 0.01388722366696006, 0.9859928803541643, 0.011133479001185886, 0.9686126731031721, 0.01670021850177883, 0.9998370138013057, 0.9053035222402437, 0.10058928024891596, 0.9998134434971112, 0.9977842405979132, 1.0021422120632737, 0.013940854432198486, 0.9898006646860925, 0.297606555935082, 0.5261806633285213, 0.03988541471294914, 0.13653084267124896, 1.0005039606267736, 0.09280342525258159, 0.9070786403720071, 0.008991452680793469, 0.2847293348917932, 0.07193162144634775, 0.08092307412714123, 0.0389629616167717, 0.5125128028052277, 1.002650257845349, 0.029300198787133743, 0.7355892011296208, 0.0678530919280992, 0.14650099393566873, 0.021589620158940653, 0.9906101184338619, 0.009939231957530388, 0.016974152573870378, 0.8444640905500512, 0.008487076286935189, 0.01485238350213658, 0.11457552987362504, 0.17813658041750313, 0.8214075652584867, 0.03912817112493626, 0.9684222353421724, 0.4785127846749584, 0.13477491868106062, 0.06429629148087296, 0.059762578620042174, 0.11293066580614866, 0.058526111476179234, 0.09108641293123669, 0.7262691736529862, 0.018006673726933542, 0.002000741525214838, 0.06202298728165998, 0.11804374998767544, 0.02200815677736322, 0.05201927965558579, 1.000685178030961, 0.03685779770703289, 0.3615574441737512, 0.6020106958815372, 0.9995522131746254, 0.02191473115122485, 0.9752055362295057, 0.9620459600875564, 0.03772729255245319, 0.028956382017917916, 0.03860850935722389, 0.9266042245733733, 0.08296603373832591, 0.21659430509984232, 0.19805934011574822, 0.26319650277413603, 0.004766133853052765, 0.0007060939041559651, 0.23371708227562446, 0.16640695712724493, 0.8320347856362247, 0.0011636850148758386, 1.0065697660935458, 0.06032223459281145, 0.8123394258498609, 0.03619334075568687, 0.02010741153093715, 0.06032223459281145, 0.010053705765468575, 0.9966105704308778, 0.9903353890432526, 0.22743490088110774, 0.005985128970555467, 0.011970257941110934, 0.5506318652911029, 0.18254643360194173, 0.020947951396944133, 1.0001608656265586, 0.9911734984966758, 1.0007457535798554, 1.0031951200280222, 0.9981537886034744, 0.998394837682727, 1.0082705799957743, 0.180860125269354, 0.017432301230781107, 0.05011786603849568, 0.38786870238487964, 0.21790376538476386, 0.14599552280779177, 0.9872637729507887, 0.012849420038405059, 1.0020496327936235, 1.0006911962733662, 0.05234132548504892, 0.6236095064932972, 0.08374612077607828, 0.097205318757948, 0.08524158721850825, 0.0583231912547688, 0.9930167948348604, 1.0049427562207265, 0.9790034773600649, 0.020861565727611733, 1.000332726257976, 0.3254100143650297, 0.674514932688678, 0.002025930244265527, 0.8630462840571146, 0.006077790732796582, 0.12763360538872823, 0.12656540632129334, 0.0397067941400136, 0.05707851657626955, 0.21342401850257312, 0.18612559753131375, 0.3772145443301292, 0.08058177134258673, 0.4979540229118821, 0.41943845083448994, 0.9960555120262782, 0.0061484908149770255, 0.9997688203231059, 1.0062590688674549, 0.950190752591813, 0.0012213248747966747, 0.0024426497495933495, 0.04641034524227364, 0.8512453189201865, 0.14804266416003245, 1.0027540268200328, 0.9966811101078266, 1.0023821830189834, 0.03412995471624857, 0.10238986414874572, 0.004875707816606939, 0.16577406576463594, 0.6874748021415784, 1.0043970240114102, 1.003524623947394, 0.017671667318842527, 0.9754760360001075, 0.00706866692753701, 1.0087077780855267, 1.0024911917100758, 0.07984944609503226, 0.39592017022120163, 0.03327060253959678, 0.48907785733207265, 0.9992106913582753, 0.9994167352902861, 0.9997309572668075, 0.9994611525503626, 0.8556706326832227, 0.14156315614244494, 0.9986120196004933, 0.9687917276904182, 0.03359971309908965, 0.05519540472509429, 0.9438414207991124, 0.9996975042720273, 1.0161713927425249, 1.0002223901794227, 0.9938584964237388, 1.003673677877496, 0.9990040623872931, 0.044078583677490936, 0.3062896455538473, 0.22152313848174932, 0.21361159782168684, 0.2147418179159815, 0.9987143758225484, 0.9994733365527205, 1.0003841090946037, 1.0000686243594583, 0.08032210906544152, 0.6294010060522294, 0.0012669102376252604, 0.11858279824172438, 0.07804167063771604, 0.030912609798056354, 0.06157183754858766, 1.0006131554752427, 0.9990397878058112, 1.0006499161125215, 1.0008267911999615, 0.9907015901545817, 1.0037449693113507, 0.24135777943970418, 0.03745206922340237, 0.7199119972942901, 0.04444914578073986, 0.9512117197078329, 0.9942741658555458, 0.9957991662361412, 0.6741582869919672, 0.05182366510967663, 0.27353882366585835, 0.0004506405661711011, 0.9432803031574969, 0.05687136962903828, 1.001620761381323, 0.0005991596995276363, 0.9987992191125697, 0.025840498718061822, 0.9690187019273183, 0.9955699585739738, 1.0017033951941452, 0.9820115981944676, 0.012343948028490861, 0.08147005698803968, 0.019750316845585376, 0.0790012673823415, 0.47400760429404903, 0.3308178071635551, 1.0015049524603847, 0.9898022457779393, 0.14614526565169403, 0.04154383186038003, 0.25148855358337197, 0.39862295808888454, 0.057370053521477185, 0.0195354923629168, 0.08531322614185184, 0.9983064294147698, 0.24972619257089473, 0.7514696436995731, 0.9976975003662112, 0.9986325310534135, 0.9946889044734923, 0.9989820251545634, 0.9667426936696278, 0.0333359549541251, 0.0022088987475806987, 0.9984222339064758, 0.9998654727008501, 0.996621635284411, 0.9969644999385855, 0.02296461010335141, 0.975995929392435, 0.999458587114584, 0.9995416898400268, 1.0013488963385215, 0.5921350571853352, 0.10872951422261738, 0.0426102150331879, 0.07199657022848989, 0.1704408601327516, 0.013223859837885899, 0.2481432299802197, 0.13896020878892304, 0.002481432299802197, 0.151367370287934, 0.4317692201655823, 0.029777187597626365, 0.07666117349347717, 0.9199340819217261, 0.9999391487542421, 1.0004231772093937, 1.00107122669256, 0.9932289380577753, 1.0019124909725419, 1.001525185026724, 1.0001684238009958, 0.9208166949184463, 0.07578738229781451, 0.9987180332489332, 0.0027576288750155355, 0.2895510318766312, 0.0027576288750155355, 0.659073301128713, 0.046879690875264106, 0.0027576288750155355, 0.9997872887872832, 0.04463256230381436, 0.9558807093400242, 0.9978580272894875, 0.9996445839644893, 0.7277007734115731, 0.167112912474474, 0.01367287465700242, 0.0010128055301483272, 0.08305005347216284, 0.007596041476112455, 1.0003635389452026, 1.0044232804967783, 0.9940341661855343, 0.19942689980965667, 0.19586570517019852, 0.05341791959187232, 0.003561194639458155, 0.0391731410340397, 0.505689638803058, 0.003561194639458155, 0.7016107007024344, 0.26985026950093627, 0.027714352002798863, 0.0014586501054104663, 0.9999080612226595, 0.9917305869125257, 1.0014973092493447, 0.9955842933872009, 1.0038909106719496, 0.9990948961450581, 0.9996316252870695, 1.0007534110242382, 1.0048637751512752, 1.0001617048118228, 0.019451163364859837, 0.9822837499254217, 0.9993277658351383, 1.0002070628056141, 1.002401324016637, 1.0025470303287956, 0.7826010185950494, 0.2175137501539249, 1.0010202564669601, 1.0004843133194659, 0.13813501399082134, 0.17624122474690998, 0.01428982903353324, 0.6668586882315513, 0.9261382344150345, 0.0684218220676015, 0.004887273004828678, 0.3388166099346464, 0.009571090676119954, 0.04019858083970381, 0.13399526946567936, 0.10911043370776749, 0.30818911977106256, 0.05551232592149574, 0.08954384955452706, 0.8879765080823933, 0.014923974925754509, 0.9414511150652111, 0.05845611498770918, 0.3715668632153202, 0.6288054608259265, 0.049829472957338854, 0.0697612621402744, 0.8769987240491639, 0.02256445401245809, 0.07521484670819363, 0.9025781604983236, 1.0033318469202894, 1.0040717145123732, 1.001668502860177, 0.9888713382833109, 0.9946962215991607, 0.010437626831502986, 0.9915745489927837, 0.014820206582625384, 0.9781336344532753, 1.0030981336162863, 0.997678625334941, 0.10752936363832294, 0.19153667898076274, 0.11424994886571813, 0.0011200975378991974, 0.22289941004194028, 0.36291160227933994, 0.18901221457797832, 0.7980515726625752, 0.005727642865999343, 0.005727642865999343, 1.0080028073238534, 1.0030468365083312, 0.9927433042530392, 0.13040623597546427, 0.08236183324766165, 0.018302629610591477, 0.24022201363901313, 0.5284884300058289, 0.0022878287013239347, 0.2174821399167629, 0.0094557452137723, 0.031519150712574336, 0.09770936720898044, 0.6429906745365164, 0.7929578931788226, 0.09968613514248056, 0.10723811507751696, 0.8783022981429001, 0.12114514457143448, 0.9912762750566713, 0.009235493245869609, 0.1939644095805986, 0.28968710521777713, 0.5163987527795157, 0.060446288235249626, 0.939842288044849, 1.0002464377735665, 0.9995875558323895, 0.9521451934577034, 0.04667378399302468, 0.11064678295292835, 0.07966568372610841, 0.004425871318117134, 0.04425871318117134, 0.039832841863054205, 0.7125652822168586, 0.004425871318117134, 1.0010529149065266, 0.9909239388987485, 0.044586788409092554, 0.9511848193939746, 0.0037155657007577132, 0.9971320961801927, 0.9900658592784145, 0.011293526911921078, 0.09782553873970934, 0.8967341051140023, 0.05213362461200232, 0.017377874870667442, 0.05213362461200232, 0.868893743533372, 0.998911221843258, 1.0002831780592445, 0.19562844665116966, 0.5505543427182917, 0.2533854166148483, 1.0004691923091718, 0.9974884084364383, 0.06830839776877595, 0.23965827691756986, 0.1852431125932907, 0.17598095696362617, 0.024313158527869406, 0.07757055339844049, 0.2280805823804892, 0.013825397474947368, 0.04838889116231579, 0.9332143295589473, 0.09446634805369394, 0.9083302697470572, 0.9956604067606327, 0.9953692521446317, 0.06067297845523768, 0.9404311660561842, 0.9971002933543619, 0.00733161980407619, 0.19909210697151544, 0.8040258166157355, 1.000444383524637, 0.27910203638073533, 0.05725169977040725, 0.10019047459821269, 0.0028625849885203624, 0.1989496567021652, 0.3506666610937444, 0.010019047459821268, 1.000683647382525, 0.9985252259697348, 0.9955203838763003, 0.999919357792491, 0.046065243027267624, 0.952015022563531, 0.03643331795615426, 0.9628805459840768], \"Term\": [\"\\u0e01\\u0e0e\\u0e2b\\u0e21\\u0e32\\u0e22\", \"\\u0e01\\u0e0e\\u0e2b\\u0e21\\u0e32\\u0e22\", \"\\u0e01\\u0e0e\\u0e2b\\u0e21\\u0e32\\u0e22\", \"\\u0e01\\u0e0e\\u0e2b\\u0e21\\u0e32\\u0e22\", \"\\u0e01\\u0e0e\\u0e2b\\u0e21\\u0e32\\u0e22\", \"\\u0e01\\u0e0e\\u0e2b\\u0e21\\u0e32\\u0e22\", \"\\u0e01\\u0e0e\\u0e2b\\u0e21\\u0e32\\u0e22\", \"\\u0e01\\u0e23\\u0e13\\u0e35\", \"\\u0e01\\u0e23\\u0e13\\u0e35\", \"\\u0e01\\u0e23\\u0e13\\u0e35\", \"\\u0e01\\u0e23\\u0e13\\u0e35\", \"\\u0e01\\u0e23\\u0e13\\u0e35\", \"\\u0e01\\u0e23\\u0e13\\u0e35\", \"\\u0e01\\u0e23\\u0e13\\u0e35\", \"\\u0e01\\u0e23\\u0e21\", \"\\u0e01\\u0e23\\u0e23\\u0e21\\u0e2a\\u0e34\\u0e17\\u0e18\\u0e34\\u0e4c\", \"\\u0e01\\u0e23\\u0e23\\u0e21\\u0e2a\\u0e34\\u0e17\\u0e18\\u0e34\\u0e4c\\u0e23\\u0e27\\u0e21\", \"\\u0e01\\u0e23\\u0e30\\u0e17\\u0e33\\u0e04\\u0e27\\u0e32\\u0e21\\u0e1c\\u0e34\\u0e14\", \"\\u0e01\\u0e23\\u0e30\\u0e17\\u0e33\\u0e04\\u0e27\\u0e32\\u0e21\\u0e1c\\u0e34\\u0e14\", \"\\u0e01\\u0e23\\u0e30\\u0e17\\u0e33\\u0e04\\u0e27\\u0e32\\u0e21\\u0e1c\\u0e34\\u0e14\", \"\\u0e01\\u0e23\\u0e30\\u0e1a\\u0e27\\u0e19\", \"\\u0e01\\u0e23\\u0e31\\u0e21\", \"\\u0e01\\u0e2d\\u0e07\\u0e21\\u0e23\\u0e14\\u0e01\", \"\\u0e01\\u0e32\\u0e22\", \"\\u0e01\\u0e32\\u0e23\\u0e01\\u0e23\\u0e30\\u0e17\\u0e33\", \"\\u0e01\\u0e32\\u0e23\\u0e01\\u0e23\\u0e30\\u0e17\\u0e33\", \"\\u0e01\\u0e32\\u0e23\\u0e01\\u0e23\\u0e30\\u0e17\\u0e33\", \"\\u0e01\\u0e32\\u0e23\\u0e01\\u0e23\\u0e30\\u0e17\\u0e33\", \"\\u0e01\\u0e32\\u0e23\\u0e01\\u0e23\\u0e30\\u0e17\\u0e33\", \"\\u0e01\\u0e32\\u0e23\\u0e04\\u0e23\\u0e2d\\u0e1a\\u0e04\\u0e23\\u0e2d\\u0e07\", \"\\u0e01\\u0e32\\u0e23\\u0e0a\\u0e33\\u0e23\\u0e30\\u0e2b\\u0e19\\u0e35\\u0e49\", \"\\u0e01\\u0e32\\u0e23\\u0e17\\u0e33\\u0e07\\u0e32\\u0e19\", \"\\u0e01\\u0e32\\u0e23\\u0e1b\\u0e01\\u0e04\\u0e23\\u0e2d\\u0e07\", \"\\u0e01\\u0e32\\u0e23\\u0e1d\\u0e48\\u0e32\\u0e1d\\u0e37\\u0e19\", \"\\u0e01\\u0e32\\u0e23\\u0e2a\\u0e21\\u0e23\\u0e2a\", \"\\u0e01\\u0e32\\u0e23\\u0e2b\\u0e22\\u0e48\\u0e32\", \"\\u0e01\\u0e32\\u0e23\\u0e2b\\u0e22\\u0e48\\u0e32\", \"\\u0e01\\u0e32\\u0e23\\u0e40\\u0e0a\\u0e48\\u0e32\", \"\\u0e01\\u0e35\\u0e48\", \"\\u0e01\\u0e35\\u0e48\", \"\\u0e01\\u0e35\\u0e48\", \"\\u0e01\\u0e39\\u0e49\", \"\\u0e01\\u0e39\\u0e49\\u0e22\\u0e37\\u0e21\", \"\\u0e02\\u0e2d\\u0e43\\u0e2b\\u0e49\", \"\\u0e02\\u0e2d\\u0e43\\u0e2b\\u0e49\", \"\\u0e02\\u0e2d\\u0e43\\u0e2b\\u0e49\", \"\\u0e02\\u0e2d\\u0e43\\u0e2b\\u0e49\", \"\\u0e02\\u0e2d\\u0e43\\u0e2b\\u0e49\", \"\\u0e02\\u0e2d\\u0e43\\u0e2b\\u0e49\", \"\\u0e02\\u0e2d\\u0e43\\u0e2b\\u0e49\", \"\\u0e02\\u0e32\\u0e22\", \"\\u0e02\\u0e32\\u0e22\", \"\\u0e02\\u0e32\\u0e22\", \"\\u0e02\\u0e32\\u0e22\", \"\\u0e02\\u0e32\\u0e22\\u0e17\\u0e2d\\u0e14\\u0e15\\u0e25\\u0e32\\u0e14\", \"\\u0e02\\u0e49\\u0e2d\\u0e01\\u0e0e\\u0e2b\\u0e21\\u0e32\\u0e22\", \"\\u0e02\\u0e49\\u0e2d\\u0e01\\u0e0e\\u0e2b\\u0e21\\u0e32\\u0e22\", \"\\u0e02\\u0e49\\u0e2d\\u0e01\\u0e0e\\u0e2b\\u0e21\\u0e32\\u0e22\", \"\\u0e02\\u0e49\\u0e2d\\u0e01\\u0e33\\u0e2b\\u0e19\\u0e14\\u0e1e\\u0e34\\u0e19\\u0e31\\u0e22\\u0e01\\u0e23\\u0e23\\u0e21\", \"\\u0e02\\u0e49\\u0e2d\\u0e1a\\u0e31\\u0e07\\u0e04\\u0e31\\u0e1a\", \"\\u0e02\\u0e49\\u0e2d\\u0e2b\\u0e32\", \"\\u0e02\\u0e49\\u0e2d\\u0e2b\\u0e32\", \"\\u0e02\\u0e49\\u0e2d\\u0e2b\\u0e32\", \"\\u0e02\\u0e49\\u0e2d\\u0e2b\\u0e32\", \"\\u0e02\\u0e49\\u0e2d\\u0e40\\u0e17\\u0e47\\u0e08\\u0e08\\u0e23\\u0e34\\u0e07\", \"\\u0e02\\u0e49\\u0e2d\\u0e40\\u0e17\\u0e47\\u0e08\\u0e08\\u0e23\\u0e34\\u0e07\", \"\\u0e02\\u0e49\\u0e2d\\u0e40\\u0e17\\u0e47\\u0e08\\u0e08\\u0e23\\u0e34\\u0e07\", \"\\u0e02\\u0e49\\u0e2d\\u0e40\\u0e17\\u0e47\\u0e08\\u0e08\\u0e23\\u0e34\\u0e07\", \"\\u0e02\\u0e49\\u0e2d\\u0e40\\u0e17\\u0e47\\u0e08\\u0e08\\u0e23\\u0e34\\u0e07\", \"\\u0e02\\u0e49\\u0e2d\\u0e40\\u0e17\\u0e47\\u0e08\\u0e08\\u0e23\\u0e34\\u0e07\", \"\\u0e02\\u0e49\\u0e2d\\u0e40\\u0e17\\u0e47\\u0e08\\u0e08\\u0e23\\u0e34\\u0e07\", \"\\u0e02\\u0e49\\u0e2d\\u0e41\\u0e19\\u0e30\\u0e19\\u0e33\", \"\\u0e04\\u0e14\\u0e35\\u0e2d\\u0e32\\u0e0d\\u0e32\", \"\\u0e04\\u0e14\\u0e35\\u0e2d\\u0e32\\u0e0d\\u0e32\", \"\\u0e04\\u0e23\\u0e2d\\u0e1a\\u0e04\\u0e23\\u0e2d\\u0e07\", \"\\u0e04\\u0e23\\u0e2d\\u0e1a\\u0e04\\u0e23\\u0e2d\\u0e07\", \"\\u0e04\\u0e23\\u0e2d\\u0e1a\\u0e04\\u0e23\\u0e2d\\u0e07\\u0e1b\\u0e23\\u0e1b\\u0e31\\u0e01\\u0e29\\u0e4c\", \"\\u0e04\\u0e23\\u0e39\", \"\\u0e04\\u0e27\\u0e23\\u0e08\\u0e30\", \"\\u0e04\\u0e27\\u0e23\\u0e08\\u0e30\", \"\\u0e04\\u0e27\\u0e23\\u0e08\\u0e30\", \"\\u0e04\\u0e27\\u0e23\\u0e08\\u0e30\", \"\\u0e04\\u0e27\\u0e32\\u0e21\\u0e15\\u0e01\\u0e25\\u0e07\", \"\\u0e04\\u0e27\\u0e32\\u0e21\\u0e1c\\u0e34\\u0e14\", \"\\u0e04\\u0e27\\u0e32\\u0e21\\u0e1c\\u0e34\\u0e14\", \"\\u0e04\\u0e27\\u0e32\\u0e21\\u0e1c\\u0e34\\u0e14\", \"\\u0e04\\u0e27\\u0e32\\u0e21\\u0e22\\u0e34\\u0e19\\u0e22\\u0e2d\\u0e21\", \"\\u0e04\\u0e27\\u0e32\\u0e21\\u0e22\\u0e34\\u0e19\\u0e22\\u0e2d\\u0e21\", \"\\u0e04\\u0e27\\u0e32\\u0e21\\u0e22\\u0e34\\u0e19\\u0e22\\u0e2d\\u0e21\", \"\\u0e04\\u0e27\\u0e32\\u0e21\\u0e22\\u0e34\\u0e19\\u0e22\\u0e2d\\u0e21\", \"\\u0e04\\u0e27\\u0e32\\u0e21\\u0e2a\\u0e31\\u0e21\\u0e1e\\u0e31\\u0e19\\u0e18\\u0e4c\", \"\\u0e04\\u0e27\\u0e32\\u0e21\\u0e40\\u0e1b\\u0e47\\u0e19\\u0e18\\u0e23\\u0e23\\u0e21\", \"\\u0e04\\u0e27\\u0e32\\u0e21\\u0e40\\u0e1b\\u0e47\\u0e19\\u0e2d\\u0e22\\u0e39\\u0e48\", \"\\u0e04\\u0e2d\\u0e21\\u0e1e\\u0e34\\u0e27\\u0e40\\u0e15\\u0e2d\\u0e23\\u0e4c\", \"\\u0e04\\u0e2d\\u0e21\\u0e21\\u0e34\\u0e0a\\u0e0a\\u0e31\\u0e48\\u0e19\", \"\\u0e04\\u0e31\\u0e19\", \"\\u0e04\\u0e33\\u0e15\\u0e2d\\u0e1a\", \"\\u0e04\\u0e33\\u0e16\\u0e32\\u0e21\", \"\\u0e04\\u0e33\\u0e19\\u0e36\\u0e07\", \"\\u0e04\\u0e33\\u0e1e\\u0e34\\u0e1e\\u0e32\\u0e01\\u0e29\\u0e32\", \"\\u0e04\\u0e33\\u0e1e\\u0e34\\u0e1e\\u0e32\\u0e01\\u0e29\\u0e32\", \"\\u0e04\\u0e33\\u0e1e\\u0e34\\u0e1e\\u0e32\\u0e01\\u0e29\\u0e32\", \"\\u0e04\\u0e37\\u0e19\", \"\\u0e04\\u0e37\\u0e19\", \"\\u0e04\\u0e37\\u0e19\", \"\\u0e04\\u0e37\\u0e19\", \"\\u0e04\\u0e37\\u0e19\", \"\\u0e04\\u0e38\\u0e13\\u0e1b\\u0e39\\u0e48\", \"\\u0e04\\u0e38\\u0e13\\u0e1e\\u0e48\\u0e2d\", \"\\u0e04\\u0e38\\u0e13\\u0e1e\\u0e48\\u0e2d\", \"\\u0e04\\u0e38\\u0e13\\u0e22\\u0e32\\u0e22\", \"\\u0e04\\u0e38\\u0e13\\u0e2a\\u0e21\\u0e1a\\u0e31\\u0e15\\u0e34\", \"\\u0e04\\u0e38\\u0e13\\u0e41\\u0e21\\u0e48\", \"\\u0e04\\u0e38\\u0e13\\u0e41\\u0e21\\u0e48\", \"\\u0e04\\u0e38\\u0e49\\u0e21\\u0e04\\u0e23\\u0e2d\\u0e07\", \"\\u0e04\\u0e38\\u0e49\\u0e21\\u0e04\\u0e23\\u0e2d\\u0e07\", \"\\u0e04\\u0e39\\u0e48\\u0e2a\\u0e21\\u0e23\\u0e2a\", \"\\u0e04\\u0e39\\u0e48\\u0e2a\\u0e21\\u0e23\\u0e2a\", \"\\u0e04\\u0e39\\u0e48\\u0e2a\\u0e21\\u0e23\\u0e2a\", \"\\u0e04\\u0e48\\u0e32\", \"\\u0e04\\u0e48\\u0e32\", \"\\u0e04\\u0e48\\u0e32\", \"\\u0e04\\u0e48\\u0e32\", \"\\u0e04\\u0e48\\u0e32\", \"\\u0e04\\u0e48\\u0e32\", \"\\u0e04\\u0e48\\u0e32\\u0e07\\u0e27\\u0e14\", \"\\u0e04\\u0e48\\u0e32\\u0e08\\u0e49\\u0e32\\u0e07\", \"\\u0e04\\u0e48\\u0e32\\u0e08\\u0e49\\u0e32\\u0e07\", \"\\u0e04\\u0e48\\u0e32\\u0e0a\\u0e14\\u0e40\\u0e0a\\u0e22\", \"\\u0e04\\u0e48\\u0e32\\u0e0a\\u0e14\\u0e40\\u0e0a\\u0e22\", \"\\u0e04\\u0e48\\u0e32\\u0e17\\u0e14\\u0e41\\u0e17\\u0e19\", \"\\u0e04\\u0e48\\u0e32\\u0e17\\u0e14\\u0e41\\u0e17\\u0e19\", \"\\u0e04\\u0e48\\u0e32\\u0e25\\u0e48\\u0e27\\u0e07\\u0e40\\u0e27\\u0e25\\u0e32\", \"\\u0e04\\u0e48\\u0e32\\u0e40\\u0e0a\\u0e48\\u0e32\", \"\\u0e04\\u0e48\\u0e32\\u0e40\\u0e0a\\u0e48\\u0e32\", \"\\u0e04\\u0e48\\u0e32\\u0e40\\u0e25\\u0e35\\u0e49\\u0e22\\u0e07\\u0e14\\u0e39\", \"\\u0e04\\u0e48\\u0e32\\u0e40\\u0e2a\\u0e35\\u0e22\\u0e2b\\u0e32\\u0e22\", \"\\u0e04\\u0e48\\u0e32\\u0e40\\u0e2a\\u0e35\\u0e22\\u0e2b\\u0e32\\u0e22\", \"\\u0e04\\u0e48\\u0e32\\u0e40\\u0e2a\\u0e35\\u0e22\\u0e2b\\u0e32\\u0e22\", \"\\u0e04\\u0e48\\u0e32\\u0e40\\u0e2a\\u0e35\\u0e22\\u0e2b\\u0e32\\u0e22\", \"\\u0e04\\u0e49\\u0e33\\u0e1b\\u0e23\\u0e30\\u0e01\\u0e31\\u0e19\", \"\\u0e07\\u0e32\", \"\\u0e07\\u0e32\\u0e19\", \"\\u0e07\\u0e32\\u0e19\", \"\\u0e08\\u0e14\\u0e17\\u0e30\\u0e40\\u0e1a\\u0e35\\u0e22\\u0e19\", \"\\u0e08\\u0e14\\u0e17\\u0e30\\u0e40\\u0e1a\\u0e35\\u0e22\\u0e19\", \"\\u0e08\\u0e14\\u0e17\\u0e30\\u0e40\\u0e1a\\u0e35\\u0e22\\u0e19\", \"\\u0e08\\u0e14\\u0e17\\u0e30\\u0e40\\u0e1a\\u0e35\\u0e22\\u0e19\", \"\\u0e08\\u0e14\\u0e17\\u0e30\\u0e40\\u0e1a\\u0e35\\u0e22\\u0e19\\u0e2a\\u0e21\\u0e23\\u0e2a\", \"\\u0e08\\u0e14\\u0e17\\u0e30\\u0e40\\u0e1a\\u0e35\\u0e22\\u0e19\\u0e2a\\u0e21\\u0e23\\u0e2a\", \"\\u0e08\\u0e14\\u0e17\\u0e30\\u0e40\\u0e1a\\u0e35\\u0e22\\u0e19\\u0e2a\\u0e21\\u0e23\\u0e2a\", \"\\u0e08\\u0e2d\\u0e07\", \"\\u0e08\\u0e33\\u0e01\\u0e31\\u0e14\", \"\\u0e08\\u0e33\\u0e04\\u0e38\\u0e01\", \"\\u0e08\\u0e33\\u0e04\\u0e38\\u0e01\", \"\\u0e08\\u0e33\\u0e19\\u0e27\\u0e19\", \"\\u0e08\\u0e33\\u0e19\\u0e27\\u0e19\", \"\\u0e08\\u0e33\\u0e19\\u0e27\\u0e19\", \"\\u0e08\\u0e33\\u0e19\\u0e27\\u0e19\", \"\\u0e08\\u0e33\\u0e19\\u0e27\\u0e19\", \"\\u0e08\\u0e33\\u0e19\\u0e27\\u0e19\", \"\\u0e08\\u0e33\\u0e19\\u0e33\", \"\\u0e08\\u0e33\\u0e40\\u0e25\\u0e22\", \"\\u0e08\\u0e48\\u0e32\\u0e22\", \"\\u0e08\\u0e48\\u0e32\\u0e22\", \"\\u0e08\\u0e48\\u0e32\\u0e22\", \"\\u0e08\\u0e48\\u0e32\\u0e22\", \"\\u0e08\\u0e48\\u0e32\\u0e22\", \"\\u0e08\\u0e49\\u0e32\\u0e07\\u0e41\\u0e23\\u0e07\\u0e07\\u0e32\\u0e19\", \"\\u0e08\\u0e49\\u0e32\\u0e07\\u0e41\\u0e23\\u0e07\\u0e07\\u0e32\\u0e19\", \"\\u0e09\\u0e1a\\u0e31\\u0e1a\", \"\\u0e09\\u0e1a\\u0e31\\u0e1a\", \"\\u0e09\\u0e1a\\u0e31\\u0e1a\", \"\\u0e09\\u0e1a\\u0e31\\u0e1a\", \"\\u0e09\\u0e1a\\u0e31\\u0e1a\", \"\\u0e09\\u0e1a\\u0e31\\u0e1a\", \"\\u0e0a\\u0e2d\\u0e1a\\u0e14\\u0e49\\u0e27\\u0e22\\u0e01\\u0e0e\\u0e2b\\u0e21\\u0e32\\u0e22\", \"\\u0e0a\\u0e2d\\u0e1a\\u0e14\\u0e49\\u0e27\\u0e22\\u0e01\\u0e0e\\u0e2b\\u0e21\\u0e32\\u0e22\", \"\\u0e0a\\u0e2d\\u0e1a\\u0e14\\u0e49\\u0e27\\u0e22\\u0e01\\u0e0e\\u0e2b\\u0e21\\u0e32\\u0e22\", \"\\u0e0a\\u0e31\\u0e14\\u0e40\\u0e08\\u0e19\", \"\\u0e0a\\u0e31\\u0e14\\u0e40\\u0e08\\u0e19\", \"\\u0e0a\\u0e31\\u0e14\\u0e40\\u0e08\\u0e19\", \"\\u0e0a\\u0e31\\u0e14\\u0e40\\u0e08\\u0e19\", \"\\u0e0a\\u0e31\\u0e14\\u0e40\\u0e08\\u0e19\", \"\\u0e0a\\u0e31\\u0e14\\u0e40\\u0e08\\u0e19\", \"\\u0e0a\\u0e31\\u0e48\\u0e27\", \"\\u0e0a\\u0e31\\u0e48\\u0e27\\u0e42\\u0e21\\u0e07\", \"\\u0e0a\\u0e32\\u0e22\", \"\\u0e0a\\u0e32\\u0e22\", \"\\u0e0a\\u0e33\\u0e23\\u0e30\", \"\\u0e0a\\u0e33\\u0e23\\u0e30\", \"\\u0e0a\\u0e33\\u0e23\\u0e30\", \"\\u0e0a\\u0e33\\u0e23\\u0e30\\u0e2b\\u0e19\\u0e35\\u0e49\", \"\\u0e0a\\u0e37\\u0e48\\u0e2d\", \"\\u0e0a\\u0e37\\u0e48\\u0e2d\", \"\\u0e0a\\u0e37\\u0e48\\u0e2d\", \"\\u0e0a\\u0e37\\u0e48\\u0e2d\", \"\\u0e0a\\u0e39\\u0e49\\u0e2a\\u0e32\\u0e27\", \"\\u0e0b\\u0e31\\u0e01\", \"\\u0e0b\\u0e37\\u0e49\\u0e2d\", \"\\u0e0b\\u0e37\\u0e49\\u0e2d\", \"\\u0e0b\\u0e37\\u0e49\\u0e2d\", \"\\u0e0b\\u0e37\\u0e49\\u0e2d\", \"\\u0e0b\\u0e37\\u0e49\\u0e2d\", \"\\u0e0e\\u0e35\\u0e01\\u0e32\", \"\\u0e0e\\u0e35\\u0e01\\u0e32\", \"\\u0e0f\", \"\\u0e10\\u0e32\\u0e19\", \"\\u0e10\\u0e32\\u0e19\", \"\\u0e10\\u0e32\\u0e19\", \"\\u0e10\\u0e32\\u0e19\", \"\\u0e10\\u0e32\\u0e19\", \"\\u0e10\\u0e32\\u0e19\", \"\\u0e10\\u0e32\\u0e19\", \"\\u0e10\\u0e32\\u0e19\\u0e30\", \"\\u0e10\\u0e32\\u0e19\\u0e30\", \"\\u0e10\\u0e32\\u0e19\\u0e30\", \"\\u0e10\\u0e32\\u0e19\\u0e30\", \"\\u0e10\\u0e32\\u0e19\\u0e30\", \"\\u0e10\\u0e32\\u0e19\\u0e30\", \"\\u0e14\\u0e2d\\u0e01\\u0e40\\u0e1a\\u0e35\\u0e49\\u0e22\", \"\\u0e14\\u0e2d\\u0e01\\u0e40\\u0e1a\\u0e35\\u0e49\\u0e22\", \"\\u0e14\\u0e31\\u0e07\\u0e19\\u0e31\\u0e49\\u0e19\", \"\\u0e14\\u0e31\\u0e07\\u0e19\\u0e31\\u0e49\\u0e19\", \"\\u0e14\\u0e31\\u0e07\\u0e19\\u0e31\\u0e49\\u0e19\", \"\\u0e14\\u0e31\\u0e07\\u0e19\\u0e31\\u0e49\\u0e19\", \"\\u0e14\\u0e31\\u0e07\\u0e19\\u0e31\\u0e49\\u0e19\", \"\\u0e14\\u0e31\\u0e07\\u0e19\\u0e31\\u0e49\\u0e19\", \"\\u0e14\\u0e31\\u0e07\\u0e19\\u0e31\\u0e49\\u0e19\", \"\\u0e14\\u0e33\\u0e40\\u0e19\\u0e34\\u0e19\\u0e01\\u0e32\\u0e23\", \"\\u0e14\\u0e33\\u0e40\\u0e19\\u0e34\\u0e19\\u0e01\\u0e32\\u0e23\", \"\\u0e14\\u0e33\\u0e40\\u0e19\\u0e34\\u0e19\\u0e01\\u0e32\\u0e23\", \"\\u0e14\\u0e33\\u0e40\\u0e19\\u0e34\\u0e19\\u0e01\\u0e32\\u0e23\", \"\\u0e14\\u0e33\\u0e40\\u0e19\\u0e34\\u0e19\\u0e01\\u0e32\\u0e23\", \"\\u0e14\\u0e33\\u0e40\\u0e19\\u0e34\\u0e19\\u0e01\\u0e32\\u0e23\", \"\\u0e14\\u0e33\\u0e40\\u0e19\\u0e34\\u0e19\\u0e01\\u0e32\\u0e23\", \"\\u0e14\\u0e33\\u0e40\\u0e19\\u0e34\\u0e19\\u0e04\\u0e14\\u0e35\", \"\\u0e14\\u0e33\\u0e40\\u0e19\\u0e34\\u0e19\\u0e04\\u0e14\\u0e35\", \"\\u0e14\\u0e33\\u0e40\\u0e19\\u0e34\\u0e19\\u0e04\\u0e14\\u0e35\", \"\\u0e14\\u0e34\\u0e19\", \"\\u0e14\\u0e38\\u0e25\\u0e1e\\u0e34\\u0e19\\u0e34\\u0e08\", \"\\u0e14\\u0e39\\u0e2b\\u0e21\\u0e34\\u0e48\\u0e19\", \"\\u0e14\\u0e39\\u0e2b\\u0e23\\u0e37\\u0e2d\", \"\\u0e14\\u0e39\\u0e41\\u0e25\", \"\\u0e14\\u0e39\\u0e41\\u0e25\", \"\\u0e14\\u0e39\\u0e41\\u0e25\", \"\\u0e14\\u0e39\\u0e41\\u0e25\", \"\\u0e15\\u0e01\\u0e17\\u0e2d\\u0e14\", \"\\u0e15\\u0e01\\u0e25\\u0e07\", \"\\u0e15\\u0e01\\u0e25\\u0e07\", \"\\u0e15\\u0e01\\u0e25\\u0e07\", \"\\u0e15\\u0e01\\u0e25\\u0e07\", \"\\u0e15\\u0e01\\u0e25\\u0e07\", \"\\u0e15\\u0e01\\u0e25\\u0e07\", \"\\u0e15\\u0e2d\\u0e1a\", \"\\u0e15\\u0e2d\\u0e1a\", \"\\u0e15\\u0e2d\\u0e1a\", \"\\u0e15\\u0e2d\\u0e1a\", \"\\u0e15\\u0e2d\\u0e1a\", \"\\u0e15\\u0e32\\u0e21\\u0e01\\u0e0e\\u0e2b\\u0e21\\u0e32\\u0e22\", \"\\u0e15\\u0e32\\u0e21\\u0e01\\u0e0e\\u0e2b\\u0e21\\u0e32\\u0e22\", \"\\u0e15\\u0e32\\u0e21\\u0e01\\u0e0e\\u0e2b\\u0e21\\u0e32\\u0e22\", \"\\u0e15\\u0e32\\u0e21\\u0e01\\u0e0e\\u0e2b\\u0e21\\u0e32\\u0e22\", \"\\u0e15\\u0e32\\u0e21\\u0e01\\u0e0e\\u0e2b\\u0e21\\u0e32\\u0e22\", \"\\u0e15\\u0e32\\u0e21\\u0e01\\u0e0e\\u0e2b\\u0e21\\u0e32\\u0e22\", \"\\u0e15\\u0e32\\u0e21\\u0e01\\u0e0e\\u0e2b\\u0e21\\u0e32\\u0e22\", \"\\u0e15\\u0e32\\u0e21\\u0e1e\", \"\\u0e15\\u0e32\\u0e21\\u0e1e\", \"\\u0e15\\u0e32\\u0e22\", \"\\u0e15\\u0e32\\u0e22\", \"\\u0e15\\u0e32\\u0e22\", \"\\u0e15\\u0e33\\u0e23\\u0e27\\u0e08\", \"\\u0e15\\u0e33\\u0e23\\u0e27\\u0e08\", \"\\u0e16\\u0e32\\u0e21\", \"\\u0e16\\u0e32\\u0e21\", \"\\u0e16\\u0e36\\u0e07\\u0e17\\u0e35\\u0e48\\u0e2a\\u0e38\\u0e14\", \"\\u0e17\\u0e19\\u0e32\\u0e22\", \"\\u0e17\\u0e19\\u0e32\\u0e22\", \"\\u0e17\\u0e19\\u0e32\\u0e22\", \"\\u0e17\\u0e19\\u0e32\\u0e22\\u0e04\\u0e27\\u0e32\\u0e21\", \"\\u0e17\\u0e19\\u0e32\\u0e22\\u0e04\\u0e27\\u0e32\\u0e21\", \"\\u0e17\\u0e19\\u0e32\\u0e22\\u0e04\\u0e27\\u0e32\\u0e21\", \"\\u0e17\\u0e19\\u0e32\\u0e22\\u0e04\\u0e27\\u0e32\\u0e21\", \"\\u0e17\\u0e19\\u0e32\\u0e22\\u0e04\\u0e27\\u0e32\\u0e21\", \"\\u0e17\\u0e23\\u0e31\\u0e1e\\u0e22\\u0e4c\\u0e21\\u0e23\\u0e14\\u0e01\", \"\\u0e17\\u0e23\\u0e31\\u0e1e\\u0e22\\u0e4c\\u0e2a\\u0e34\\u0e19\", \"\\u0e17\\u0e23\\u0e31\\u0e1e\\u0e22\\u0e4c\\u0e2a\\u0e34\\u0e19\", \"\\u0e17\\u0e23\\u0e31\\u0e1e\\u0e22\\u0e4c\\u0e2a\\u0e34\\u0e19\", \"\\u0e17\\u0e23\\u0e31\\u0e1e\\u0e22\\u0e4c\\u0e2a\\u0e34\\u0e19\", \"\\u0e17\\u0e23\\u0e31\\u0e1e\\u0e22\\u0e4c\\u0e2a\\u0e34\\u0e19\", \"\\u0e17\\u0e23\\u0e32\\u0e1a\", \"\\u0e17\\u0e23\\u0e32\\u0e1a\", \"\\u0e17\\u0e23\\u0e32\\u0e1a\", \"\\u0e17\\u0e23\\u0e32\\u0e1a\", \"\\u0e17\\u0e23\\u0e32\\u0e1a\", \"\\u0e17\\u0e23\\u0e32\\u0e1a\", \"\\u0e17\\u0e23\\u0e32\\u0e1a\", \"\\u0e17\\u0e30\\u0e40\\u0e1a\\u0e35\\u0e22\\u0e19\", \"\\u0e17\\u0e30\\u0e40\\u0e1a\\u0e35\\u0e22\\u0e19\", \"\\u0e17\\u0e30\\u0e40\\u0e1a\\u0e35\\u0e22\\u0e19\", \"\\u0e17\\u0e31\\u0e49\\u0e07\\u0e2a\\u0e2d\\u0e07\\u0e1d\\u0e48\\u0e32\\u0e22\", \"\\u0e17\\u0e31\\u0e49\\u0e07\\u0e2a\\u0e2d\\u0e07\\u0e1d\\u0e48\\u0e32\\u0e22\", \"\\u0e17\\u0e31\\u0e49\\u0e07\\u0e2a\\u0e2d\\u0e07\\u0e1d\\u0e48\\u0e32\\u0e22\", \"\\u0e17\\u0e31\\u0e49\\u0e07\\u0e2a\\u0e2d\\u0e07\\u0e1d\\u0e48\\u0e32\\u0e22\", \"\\u0e17\\u0e32\\u0e22\\u0e32\\u0e17\", \"\\u0e17\\u0e32\\u0e22\\u0e32\\u0e17\", \"\\u0e17\\u0e32\\u0e22\\u0e32\\u0e17\\u0e42\\u0e14\\u0e22\\u0e18\\u0e23\\u0e23\\u0e21\", \"\\u0e17\\u0e33\\u0e07\\u0e32\\u0e19\", \"\\u0e17\\u0e33\\u0e07\\u0e32\\u0e19\", \"\\u0e17\\u0e33\\u0e1b\\u0e23\\u0e30\\u0e42\\u0e22\\u0e0a\\u0e19\\u0e4c\", \"\\u0e17\\u0e33\\u0e23\\u0e49\\u0e32\\u0e22\", \"\\u0e17\\u0e33\\u0e2a\\u0e31\\u0e0d\\u0e0d\\u0e32\", \"\\u0e17\\u0e33\\u0e2a\\u0e31\\u0e0d\\u0e0d\\u0e32\", \"\\u0e17\\u0e33\\u0e2a\\u0e31\\u0e0d\\u0e0d\\u0e32\", \"\\u0e17\\u0e33\\u0e2a\\u0e31\\u0e0d\\u0e0d\\u0e32\", \"\\u0e17\\u0e33\\u0e44\\u0e14\\u0e49\", \"\\u0e17\\u0e33\\u0e44\\u0e14\\u0e49\", \"\\u0e17\\u0e33\\u0e44\\u0e14\\u0e49\", \"\\u0e17\\u0e33\\u0e44\\u0e14\\u0e49\", \"\\u0e17\\u0e33\\u0e44\\u0e14\\u0e49\", \"\\u0e17\\u0e33\\u0e44\\u0e14\\u0e49\", \"\\u0e17\\u0e33\\u0e44\\u0e14\\u0e49\", \"\\u0e17\\u0e35\\u0e48\\u0e14\\u0e34\\u0e19\", \"\\u0e17\\u0e35\\u0e48\\u0e14\\u0e34\\u0e19\", \"\\u0e17\\u0e35\\u0e48\\u0e27\\u0e48\\u0e32\\u0e01\\u0e32\\u0e23\\u0e2d\\u0e33\\u0e40\\u0e20\\u0e2d\", \"\\u0e17\\u0e35\\u0e48\\u0e2a\\u0e39\\u0e07\", \"\\u0e18\\u0e19\\u0e32\\u0e04\\u0e32\\u0e23\", \"\\u0e18\\u0e23\\u0e23\\u0e21\", \"\\u0e19\\u0e1e\", \"\\u0e19\\u0e2d\\u0e01\\u0e01\\u0e0e\\u0e2b\\u0e21\\u0e32\\u0e22\", \"\\u0e19\\u0e32\\u0e21\\u0e2a\\u0e01\\u0e38\\u0e25\", \"\\u0e19\\u0e32\\u0e22\\u0e01\", \"\\u0e19\\u0e32\\u0e22\\u0e08\\u0e49\\u0e32\\u0e07\", \"\\u0e19\\u0e32\\u0e22\\u0e08\\u0e49\\u0e32\\u0e07\", \"\\u0e19\\u0e32\\u0e22\\u0e17\\u0e30\\u0e40\\u0e1a\\u0e35\\u0e22\\u0e19\", \"\\u0e19\\u0e49\\u0e32\", \"\\u0e1a\", \"\\u0e1a\", \"\\u0e1a\", \"\\u0e1a\", \"\\u0e1a\\u0e01\\u0e1e\\u0e23\\u0e48\\u0e2d\\u0e07\", \"\\u0e1a\\u0e23\\u0e23\\u0e25\\u0e38\\u0e19\\u0e34\\u0e15\\u0e34\\u0e20\\u0e32\\u0e27\\u0e30\", \"\\u0e1a\\u0e23\\u0e34\\u0e29\\u0e31\\u0e17\", \"\\u0e1a\\u0e23\\u0e34\\u0e29\\u0e31\\u0e17\", \"\\u0e1a\\u0e23\\u0e34\\u0e29\\u0e31\\u0e17\", \"\\u0e1a\\u0e23\\u0e34\\u0e2a\\u0e38\\u0e17\\u0e18\\u0e34\\u0e4c\", \"\\u0e1a\\u0e31\\u0e07\\u0e04\\u0e31\\u0e1a\", \"\\u0e1a\\u0e31\\u0e07\\u0e04\\u0e31\\u0e1a\", \"\\u0e1a\\u0e31\\u0e07\\u0e04\\u0e31\\u0e1a\", \"\\u0e1a\\u0e31\\u0e07\\u0e04\\u0e31\\u0e1a\", \"\\u0e1a\\u0e31\\u0e07\\u0e04\\u0e31\\u0e1a\", \"\\u0e1a\\u0e31\\u0e07\\u0e04\\u0e31\\u0e1a\", \"\\u0e1a\\u0e31\\u0e07\\u0e04\\u0e31\\u0e1a\", \"\\u0e1a\\u0e32\\u0e17\", \"\\u0e1a\\u0e32\\u0e17\", \"\\u0e1a\\u0e32\\u0e17\", \"\\u0e1a\\u0e32\\u0e17\", \"\\u0e1a\\u0e32\\u0e17\", \"\\u0e1a\\u0e32\\u0e17\", \"\\u0e1a\\u0e32\\u0e17\", \"\\u0e1a\\u0e34\\u0e14\\u0e32\", \"\\u0e1a\\u0e34\\u0e14\\u0e32\", \"\\u0e1a\\u0e38\\u0e04\\u0e04\\u0e25\", \"\\u0e1a\\u0e38\\u0e04\\u0e04\\u0e25\", \"\\u0e1a\\u0e38\\u0e04\\u0e04\\u0e25\", \"\\u0e1a\\u0e38\\u0e04\\u0e04\\u0e25\", \"\\u0e1a\\u0e38\\u0e04\\u0e04\\u0e25\", \"\\u0e1a\\u0e38\\u0e04\\u0e04\\u0e25\", \"\\u0e1a\\u0e38\\u0e04\\u0e04\\u0e25\", \"\\u0e1a\\u0e38\\u0e04\\u0e04\\u0e25\\u0e17\\u0e35\\u0e48\\u0e2a\\u0e32\\u0e21\", \"\\u0e1a\\u0e38\\u0e15\\u0e23\", \"\\u0e1a\\u0e38\\u0e15\\u0e23\", \"\\u0e1a\\u0e38\\u0e15\\u0e23\", \"\\u0e1a\\u0e38\\u0e15\\u0e23\\u0e1a\\u0e38\\u0e0d\\u0e18\\u0e23\\u0e23\\u0e21\", \"\\u0e1a\\u0e49\\u0e32\\u0e19\", \"\\u0e1a\\u0e49\\u0e32\\u0e19\", \"\\u0e1a\\u0e49\\u0e32\\u0e19\", \"\\u0e1a\\u0e49\\u0e32\\u0e19\", \"\\u0e1b\", \"\\u0e1b\", \"\\u0e1b\\u0e01\\u0e04\\u0e23\\u0e2d\\u0e07\", \"\\u0e1b\\u0e01\\u0e04\\u0e23\\u0e2d\\u0e07\", \"\\u0e1b\\u0e0f\\u0e34\\u0e1a\\u0e31\\u0e15\\u0e34\\u0e07\\u0e32\\u0e19\", \"\\u0e1b\\u0e1e\\u0e1e\", \"\\u0e1b\\u0e1e\\u0e1e\", \"\\u0e1b\\u0e1e\\u0e1e\", \"\\u0e1b\\u0e1e\\u0e1e\", \"\\u0e1b\\u0e1e\\u0e1e\", \"\\u0e1b\\u0e23\\u0e30\\u0e01\\u0e31\\u0e19\\u0e15\\u0e31\\u0e27\", \"\\u0e1b\\u0e23\\u0e30\\u0e08\\u0e33\", \"\\u0e1b\\u0e23\\u0e30\\u0e08\\u0e33\\u0e1b\\u0e35\", \"\\u0e1b\\u0e23\\u0e30\\u0e19\\u0e2d\\u0e21\\u0e2b\\u0e19\\u0e35\\u0e49\", \"\\u0e1b\\u0e23\\u0e30\\u0e40\\u0e14\\u0e47\\u0e19\", \"\\u0e1b\\u0e23\\u0e30\\u0e40\\u0e14\\u0e47\\u0e19\", \"\\u0e1b\\u0e23\\u0e30\\u0e40\\u0e14\\u0e47\\u0e19\", \"\\u0e1b\\u0e23\\u0e30\\u0e40\\u0e14\\u0e47\\u0e19\", \"\\u0e1b\\u0e23\\u0e34\\u0e21\\u0e32\\u0e13\", \"\\u0e1b\\u0e23\\u0e34\\u0e21\\u0e32\\u0e13\", \"\\u0e1b\\u0e25\\u0e39\\u0e01\", \"\\u0e1b\\u0e25\\u0e48\\u0e2d\\u0e22\\u0e15\\u0e31\\u0e27\", \"\\u0e1b\\u0e2d\", \"\\u0e1b\\u0e2d\", \"\\u0e1b\\u0e2d\\u0e21\", \"\\u0e1b\\u0e31\\u0e0d\\u0e2b\\u0e32\", \"\\u0e1b\\u0e31\\u0e0d\\u0e2b\\u0e32\", \"\\u0e1b\\u0e31\\u0e0d\\u0e2b\\u0e32\", \"\\u0e1b\\u0e31\\u0e0d\\u0e2b\\u0e32\", \"\\u0e1b\\u0e31\\u0e0d\\u0e2b\\u0e32\", \"\\u0e1b\\u0e31\\u0e0d\\u0e2b\\u0e32\", \"\\u0e1b\\u0e31\\u0e0d\\u0e2b\\u0e32\", \"\\u0e1b\\u0e39\\u0e48\", \"\\u0e1c\\u0e25\\u0e07\\u0e32\\u0e19\", \"\\u0e1c\\u0e34\\u0e14\\u0e19\\u0e31\\u0e14\", \"\\u0e1c\\u0e39\\u0e49\\u0e02\\u0e32\\u0e22\", \"\\u0e1c\\u0e39\\u0e49\\u0e04\\u0e23\\u0e2d\\u0e1a\\u0e04\\u0e23\\u0e2d\\u0e07\", \"\\u0e1c\\u0e39\\u0e49\\u0e04\\u0e49\\u0e33\\u0e1b\\u0e23\\u0e30\\u0e01\\u0e31\\u0e19\", \"\\u0e1c\\u0e39\\u0e49\\u0e08\\u0e31\\u0e14\\u0e01\\u0e32\\u0e23\\u0e21\\u0e23\\u0e14\\u0e01\", \"\\u0e1c\\u0e39\\u0e49\\u0e08\\u0e31\\u0e14\\u0e01\\u0e32\\u0e23\\u0e21\\u0e23\\u0e14\\u0e01\", \"\\u0e1c\\u0e39\\u0e49\\u0e0b\\u0e37\\u0e49\\u0e2d\", \"\\u0e1c\\u0e39\\u0e49\\u0e0b\\u0e37\\u0e49\\u0e2d\", \"\\u0e1c\\u0e39\\u0e49\\u0e15\\u0e32\\u0e22\", \"\\u0e1c\\u0e39\\u0e49\\u0e15\\u0e49\\u0e2d\\u0e07\\u0e2b\\u0e32\", \"\\u0e1c\\u0e39\\u0e49\\u0e16\\u0e32\\u0e21\", \"\\u0e1c\\u0e39\\u0e49\\u0e1b\\u0e01\\u0e04\\u0e23\\u0e2d\\u0e07\", \"\\u0e1c\\u0e39\\u0e49\\u0e1b\\u0e01\\u0e04\\u0e23\\u0e2d\\u0e07\", \"\\u0e1c\\u0e39\\u0e49\\u0e1b\\u0e23\\u0e30\\u0e01\\u0e2d\\u0e1a\\u0e18\\u0e38\\u0e23\\u0e01\\u0e34\\u0e08\", \"\\u0e1c\\u0e39\\u0e49\\u0e21\\u0e35\\u0e2a\\u0e48\\u0e27\\u0e19\", \"\\u0e1c\\u0e39\\u0e49\\u0e22\\u0e37\\u0e21\", \"\\u0e1c\\u0e39\\u0e49\\u0e2a\\u0e37\\u0e1a\\u0e2a\\u0e31\\u0e19\\u0e14\\u0e32\\u0e19\", \"\\u0e1c\\u0e39\\u0e49\\u0e2a\\u0e37\\u0e1a\\u0e2a\\u0e31\\u0e19\\u0e14\\u0e32\\u0e19\", \"\\u0e1c\\u0e39\\u0e49\\u0e2d\\u0e37\\u0e48\\u0e19\", \"\\u0e1c\\u0e39\\u0e49\\u0e2d\\u0e37\\u0e48\\u0e19\", \"\\u0e1c\\u0e39\\u0e49\\u0e2d\\u0e37\\u0e48\\u0e19\", \"\\u0e1c\\u0e39\\u0e49\\u0e2d\\u0e37\\u0e48\\u0e19\", \"\\u0e1c\\u0e39\\u0e49\\u0e2d\\u0e37\\u0e48\\u0e19\", \"\\u0e1c\\u0e39\\u0e49\\u0e40\\u0e0a\\u0e48\\u0e32\", \"\\u0e1c\\u0e39\\u0e49\\u0e40\\u0e0a\\u0e48\\u0e32\", \"\\u0e1c\\u0e39\\u0e49\\u0e40\\u0e22\\u0e32\\u0e27\\u0e4c\", \"\\u0e1c\\u0e39\\u0e49\\u0e40\\u0e22\\u0e32\\u0e27\\u0e4c\", \"\\u0e1c\\u0e39\\u0e49\\u0e40\\u0e22\\u0e32\\u0e27\\u0e4c\", \"\\u0e1c\\u0e39\\u0e49\\u0e40\\u0e2a\\u0e35\\u0e22\\u0e2b\\u0e32\\u0e22\", \"\\u0e1c\\u0e39\\u0e49\\u0e43\\u0e0a\\u0e49\\u0e2d\\u0e33\\u0e19\\u0e32\\u0e08\\u0e1b\\u0e01\\u0e04\\u0e23\\u0e2d\\u0e07\", \"\\u0e1c\\u0e39\\u0e49\\u0e43\\u0e0a\\u0e49\\u0e2d\\u0e33\\u0e19\\u0e32\\u0e08\\u0e1b\\u0e01\\u0e04\\u0e23\\u0e2d\\u0e07\", \"\\u0e1c\\u0e48\\u0e2d\\u0e19\", \"\\u0e1c\\u0e48\\u0e2d\\u0e19\\u0e0a\\u0e33\\u0e23\\u0e30\", \"\\u0e1c\\u0e48\\u0e2d\\u0e19\\u0e2a\\u0e48\\u0e07\", \"\\u0e1d\\u0e48\\u0e32\\u0e22\\u0e43\\u0e14\\u0e1d\\u0e48\\u0e32\\u0e22\\u0e2b\\u0e19\\u0e36\\u0e48\\u0e07\", \"\\u0e1d\\u0e48\\u0e32\\u0e22\\u0e43\\u0e14\\u0e1d\\u0e48\\u0e32\\u0e22\\u0e2b\\u0e19\\u0e36\\u0e48\\u0e07\", \"\\u0e1e\\u0e19\\u0e31\\u0e01\\u0e07\\u0e32\\u0e19\", \"\\u0e1e\\u0e19\\u0e31\\u0e01\\u0e07\\u0e32\\u0e19\", \"\\u0e1e\\u0e19\\u0e31\\u0e01\\u0e07\\u0e32\\u0e19\", \"\\u0e1e\\u0e19\\u0e31\\u0e01\\u0e07\\u0e32\\u0e19\", \"\\u0e1e\\u0e19\\u0e31\\u0e01\\u0e07\\u0e32\\u0e19\\u0e2a\\u0e2d\\u0e1a\\u0e2a\\u0e27\\u0e19\", \"\\u0e1e\\u0e22\\u0e32\\u0e19\\u0e2b\\u0e25\\u0e31\\u0e01\\u0e10\\u0e32\\u0e19\", \"\\u0e1e\\u0e22\\u0e32\\u0e19\\u0e2b\\u0e25\\u0e31\\u0e01\\u0e10\\u0e32\\u0e19\", \"\\u0e1e\\u0e24\\u0e15\\u0e34\\u0e01\\u0e32\\u0e23\\u0e13\\u0e4c\", \"\\u0e1e\\u0e24\\u0e15\\u0e34\\u0e01\\u0e32\\u0e23\\u0e13\\u0e4c\", \"\\u0e1e\\u0e24\\u0e15\\u0e34\\u0e01\\u0e32\\u0e23\\u0e13\\u0e4c\", \"\\u0e1e\\u0e24\\u0e15\\u0e34\\u0e01\\u0e32\\u0e23\\u0e13\\u0e4c\", \"\\u0e1e\\u0e24\\u0e15\\u0e34\\u0e01\\u0e32\\u0e23\\u0e13\\u0e4c\", \"\\u0e1e\\u0e24\\u0e15\\u0e34\\u0e01\\u0e32\\u0e23\\u0e13\\u0e4c\", \"\\u0e1e\\u0e31\\u0e01\\u0e1c\\u0e48\\u0e2d\\u0e19\", \"\\u0e1e\\u0e34\\u0e08\\u0e32\\u0e23\\u0e13\\u0e32\", \"\\u0e1e\\u0e34\\u0e08\\u0e32\\u0e23\\u0e13\\u0e32\", \"\\u0e1e\\u0e34\\u0e08\\u0e32\\u0e23\\u0e13\\u0e32\", \"\\u0e1e\\u0e34\\u0e08\\u0e32\\u0e23\\u0e13\\u0e32\", \"\\u0e1e\\u0e34\\u0e08\\u0e32\\u0e23\\u0e13\\u0e32\", \"\\u0e1e\\u0e34\\u0e19\\u0e31\\u0e22\\u0e01\\u0e23\\u0e23\\u0e21\", \"\\u0e1e\\u0e34\\u0e19\\u0e31\\u0e22\\u0e01\\u0e23\\u0e23\\u0e21\", \"\\u0e1e\\u0e34\\u0e1e\\u0e32\\u0e01\\u0e29\\u0e32\", \"\\u0e1e\\u0e34\\u0e1e\\u0e32\\u0e01\\u0e29\\u0e32\", \"\\u0e1e\\u0e34\\u0e1e\\u0e32\\u0e01\\u0e29\\u0e32\", \"\\u0e1e\\u0e34\\u0e1e\\u0e32\\u0e01\\u0e29\\u0e32\", \"\\u0e1e\\u0e34\\u0e1e\\u0e32\\u0e01\\u0e29\\u0e32\", \"\\u0e1e\\u0e48\\u0e2d\", \"\\u0e1e\\u0e48\\u0e2d\", \"\\u0e1e\\u0e48\\u0e2d\\u0e41\\u0e21\\u0e48\", \"\\u0e1e\\u0e48\\u0e2d\\u0e41\\u0e21\\u0e48\", \"\\u0e1f\\u0e49\\u0e2d\\u0e07\", \"\\u0e1f\\u0e49\\u0e2d\\u0e07\", \"\\u0e1f\\u0e49\\u0e2d\\u0e07\", \"\\u0e1f\\u0e49\\u0e2d\\u0e07\", \"\\u0e1f\\u0e49\\u0e2d\\u0e07\", \"\\u0e1f\\u0e49\\u0e2d\\u0e07\", \"\\u0e1f\\u0e49\\u0e2d\\u0e07\", \"\\u0e1f\\u0e49\\u0e2d\\u0e07\\u0e23\\u0e49\\u0e2d\\u0e07\", \"\\u0e1f\\u0e49\\u0e2d\\u0e07\\u0e23\\u0e49\\u0e2d\\u0e07\", \"\\u0e1f\\u0e49\\u0e2d\\u0e07\\u0e23\\u0e49\\u0e2d\\u0e07\", \"\\u0e1f\\u0e49\\u0e2d\\u0e07\\u0e23\\u0e49\\u0e2d\\u0e07\", \"\\u0e1f\\u0e49\\u0e2d\\u0e07\\u0e23\\u0e49\\u0e2d\\u0e07\", \"\\u0e1f\\u0e49\\u0e2d\\u0e07\\u0e23\\u0e49\\u0e2d\\u0e07\", \"\\u0e1f\\u0e49\\u0e2d\\u0e07\\u0e23\\u0e49\\u0e2d\\u0e07\", \"\\u0e1f\\u0e49\\u0e2d\\u0e07\\u0e2b\\u0e22\\u0e48\\u0e32\", \"\\u0e20\\u0e23\\u0e23\\u0e22\\u0e32\", \"\\u0e20\\u0e23\\u0e23\\u0e22\\u0e32\", \"\\u0e20\\u0e23\\u0e23\\u0e22\\u0e32\", \"\\u0e20\\u0e23\\u0e34\\u0e22\\u0e32\", \"\\u0e20\\u0e32\\u0e29\\u0e35\", \"\\u0e20\\u0e32\\u0e29\\u0e35\", \"\\u0e21\\u0e23\\u0e14\\u0e01\", \"\\u0e21\\u0e23\\u0e14\\u0e01\", \"\\u0e21\\u0e2d\\u0e1a\", \"\\u0e21\\u0e2d\\u0e1a\", \"\\u0e21\\u0e2d\\u0e1a\", \"\\u0e21\\u0e32\\u0e15\\u0e23\\u0e32\", \"\\u0e21\\u0e32\\u0e15\\u0e23\\u0e32\", \"\\u0e21\\u0e32\\u0e15\\u0e23\\u0e32\", \"\\u0e21\\u0e32\\u0e15\\u0e23\\u0e32\", \"\\u0e21\\u0e32\\u0e15\\u0e23\\u0e32\", \"\\u0e21\\u0e32\\u0e15\\u0e23\\u0e32\", \"\\u0e21\\u0e32\\u0e15\\u0e23\\u0e32\", \"\\u0e21\\u0e32\\u0e23\\u0e14\\u0e32\", \"\\u0e21\\u0e32\\u0e23\\u0e14\\u0e32\", \"\\u0e21\\u0e32\\u0e23\\u0e14\\u0e32\", \"\\u0e21\\u0e34\\u0e40\\u0e0a\\u0e48\\u0e19\\u0e19\\u0e31\\u0e49\\u0e19\", \"\\u0e21\\u0e35\\u0e04\\u0e27\\u0e32\\u0e21\\u0e1c\\u0e34\\u0e14\", \"\\u0e21\\u0e35\\u0e04\\u0e27\\u0e32\\u0e21\\u0e1c\\u0e34\\u0e14\", \"\\u0e21\\u0e35\\u0e04\\u0e27\\u0e32\\u0e21\\u0e1c\\u0e34\\u0e14\", \"\\u0e21\\u0e35\\u0e04\\u0e27\\u0e32\\u0e21\\u0e1c\\u0e34\\u0e14\", \"\\u0e21\\u0e35\\u0e04\\u0e27\\u0e32\\u0e21\\u0e1c\\u0e34\\u0e14\", \"\\u0e21\\u0e35\\u0e04\\u0e27\\u0e32\\u0e21\\u0e1c\\u0e34\\u0e14\", \"\\u0e21\\u0e35\\u0e0a\\u0e35\\u0e27\\u0e34\\u0e15\", \"\\u0e21\\u0e35\\u0e0a\\u0e39\\u0e49\", \"\\u0e21\\u0e35\\u0e1b\\u0e31\\u0e0d\\u0e2b\\u0e32\", \"\\u0e21\\u0e35\\u0e1b\\u0e31\\u0e0d\\u0e2b\\u0e32\", \"\\u0e21\\u0e35\\u0e1b\\u0e31\\u0e0d\\u0e2b\\u0e32\", \"\\u0e21\\u0e35\\u0e1b\\u0e31\\u0e0d\\u0e2b\\u0e32\", \"\\u0e21\\u0e35\\u0e1b\\u0e31\\u0e0d\\u0e2b\\u0e32\", \"\\u0e21\\u0e35\\u0e1b\\u0e31\\u0e0d\\u0e2b\\u0e32\", \"\\u0e21\\u0e35\\u0e42\\u0e17\\u0e29\", \"\\u0e22\\u0e01\\u0e22\\u0e48\\u0e2d\\u0e07\", \"\\u0e22\\u0e2d\\u0e14\", \"\\u0e22\\u0e32\\u0e1a\\u0e49\\u0e32\", \"\\u0e22\\u0e32\\u0e40\\u0e2a\\u0e1e\\u0e15\\u0e34\\u0e14\", \"\\u0e22\\u0e32\\u0e40\\u0e2a\\u0e1e\\u0e15\\u0e34\\u0e14\\u0e43\\u0e2b\\u0e49\\u0e42\\u0e17\\u0e29\", \"\\u0e22\\u0e34\\u0e19\\u0e14\\u0e35\", \"\\u0e22\\u0e34\\u0e19\\u0e22\\u0e2d\\u0e21\", \"\\u0e22\\u0e34\\u0e19\\u0e22\\u0e2d\\u0e21\", \"\\u0e22\\u0e34\\u0e19\\u0e22\\u0e2d\\u0e21\", \"\\u0e22\\u0e34\\u0e19\\u0e22\\u0e2d\\u0e21\", \"\\u0e22\\u0e34\\u0e19\\u0e22\\u0e2d\\u0e21\", \"\\u0e22\\u0e34\\u0e19\\u0e22\\u0e2d\\u0e21\", \"\\u0e22\\u0e36\\u0e14\", \"\\u0e22\\u0e36\\u0e14\", \"\\u0e22\\u0e36\\u0e14\\u0e16\\u0e37\\u0e2d\", \"\\u0e22\\u0e36\\u0e14\\u0e17\\u0e23\\u0e31\\u0e1e\\u0e22\\u0e4c\", \"\\u0e22\\u0e37\\u0e48\\u0e19\", \"\\u0e22\\u0e37\\u0e48\\u0e19\", \"\\u0e22\\u0e37\\u0e48\\u0e19\", \"\\u0e22\\u0e37\\u0e48\\u0e19\", \"\\u0e22\\u0e37\\u0e48\\u0e19\", \"\\u0e22\\u0e37\\u0e48\\u0e19\", \"\\u0e22\\u0e48\\u0e32\", \"\\u0e22\\u0e49\\u0e32\\u0e22\\u0e2d\\u0e2d\\u0e01\", \"\\u0e23\\u0e16\", \"\\u0e23\\u0e16\", \"\\u0e23\\u0e16\\u0e22\\u0e19\\u0e15\\u0e4c\", \"\\u0e23\\u0e1a\", \"\\u0e23\\u0e1a\", \"\\u0e23\\u0e2d\", \"\\u0e23\\u0e2d\", \"\\u0e23\\u0e2d\", \"\\u0e23\\u0e2d\", \"\\u0e23\\u0e30\\u0e1a\\u0e38\", \"\\u0e23\\u0e30\\u0e1a\\u0e38\", \"\\u0e23\\u0e30\\u0e1a\\u0e38\", \"\\u0e23\\u0e30\\u0e1a\\u0e38\", \"\\u0e23\\u0e30\\u0e1a\\u0e38\", \"\\u0e23\\u0e30\\u0e1a\\u0e38\", \"\\u0e23\\u0e30\\u0e22\\u0e30\\u0e40\\u0e27\\u0e25\\u0e32\", \"\\u0e23\\u0e30\\u0e22\\u0e30\\u0e40\\u0e27\\u0e25\\u0e32\", \"\\u0e23\\u0e30\\u0e22\\u0e30\\u0e40\\u0e27\\u0e25\\u0e32\", \"\\u0e23\\u0e30\\u0e27\\u0e32\\u0e07\\u0e42\\u0e17\\u0e29\", \"\\u0e23\\u0e30\\u0e27\\u0e32\\u0e07\\u0e42\\u0e17\\u0e29\", \"\\u0e23\\u0e30\\u0e40\\u0e1a\\u0e35\\u0e22\\u0e1a\", \"\\u0e23\\u0e31\\u0e10\", \"\\u0e23\\u0e31\\u0e1a\\u0e1c\\u0e34\\u0e14\", \"\\u0e23\\u0e31\\u0e1a\\u0e1c\\u0e34\\u0e14\", \"\\u0e23\\u0e31\\u0e1a\\u0e1c\\u0e34\\u0e14\", \"\\u0e23\\u0e31\\u0e1a\\u0e1c\\u0e34\\u0e14\", \"\\u0e23\\u0e31\\u0e1a\\u0e21\\u0e23\\u0e14\\u0e01\", \"\\u0e23\\u0e31\\u0e1a\\u0e21\\u0e23\\u0e14\\u0e01\", \"\\u0e23\\u0e31\\u0e1a\\u0e23\\u0e32\\u0e0a\\u0e01\\u0e32\\u0e23\", \"\\u0e23\\u0e31\\u0e1a\\u0e2a\\u0e32\\u0e23\\u0e20\\u0e32\\u0e1e\", \"\\u0e23\\u0e31\\u0e1a\\u0e42\\u0e17\\u0e29\", \"\\u0e23\\u0e32\\u0e22\\u0e25\\u0e30\\u0e40\\u0e2d\\u0e35\\u0e22\\u0e14\", \"\\u0e23\\u0e32\\u0e22\\u0e25\\u0e30\\u0e40\\u0e2d\\u0e35\\u0e22\\u0e14\", \"\\u0e23\\u0e32\\u0e22\\u0e25\\u0e30\\u0e40\\u0e2d\\u0e35\\u0e22\\u0e14\", \"\\u0e23\\u0e32\\u0e22\\u0e25\\u0e30\\u0e40\\u0e2d\\u0e35\\u0e22\\u0e14\", \"\\u0e23\\u0e32\\u0e22\\u0e25\\u0e30\\u0e40\\u0e2d\\u0e35\\u0e22\\u0e14\", \"\\u0e23\\u0e32\\u0e29\\u0e0e\\u0e23\\u0e4c\", \"\\u0e23\\u0e48\\u0e27\\u0e21\\u0e1b\\u0e23\\u0e30\\u0e40\\u0e27\\u0e13\\u0e35\", \"\\u0e23\\u0e49\\u0e2d\\u0e07\\u0e17\\u0e38\\u0e01\\u0e02\\u0e4c\", \"\\u0e23\\u0e49\\u0e2d\\u0e07\\u0e17\\u0e38\\u0e01\\u0e02\\u0e4c\", \"\\u0e23\\u0e49\\u0e2d\\u0e07\\u0e17\\u0e38\\u0e01\\u0e02\\u0e4c\", \"\\u0e23\\u0e49\\u0e32\\u0e07\", \"\\u0e23\\u0e49\\u0e32\\u0e19\", \"\\u0e23\\u0e49\\u0e32\\u0e22\\u0e41\\u0e23\\u0e07\", \"\\u0e23\\u0e49\\u0e32\\u0e22\\u0e41\\u0e23\\u0e07\", \"\\u0e23\\u0e49\\u0e32\\u0e22\\u0e41\\u0e23\\u0e07\", \"\\u0e23\\u0e49\\u0e32\\u0e22\\u0e41\\u0e23\\u0e07\", \"\\u0e25\\u0e07\\u0e42\\u0e17\\u0e29\", \"\\u0e25\\u0e31\\u0e01\\u0e17\\u0e23\\u0e31\\u0e1e\\u0e22\\u0e4c\", \"\\u0e25\\u0e32\", \"\\u0e25\\u0e32\\u0e22\\u0e21\\u0e37\\u0e2d\", \"\\u0e25\\u0e32\\u0e2d\\u0e2d\\u0e01\", \"\\u0e25\\u0e32\\u0e2d\\u0e2d\\u0e01\", \"\\u0e25\\u0e33\\u0e14\\u0e31\\u0e1a\", \"\\u0e25\\u0e38\\u0e07\", \"\\u0e25\\u0e38\\u0e07\", \"\\u0e25\\u0e39\\u0e01\", \"\\u0e25\\u0e39\\u0e01\", \"\\u0e25\\u0e39\\u0e01\\u0e08\\u0e49\\u0e32\\u0e07\", \"\\u0e25\\u0e39\\u0e01\\u0e2a\\u0e32\\u0e27\", \"\\u0e25\\u0e39\\u0e01\\u0e2b\\u0e19\\u0e35\\u0e49\", \"\\u0e25\\u0e48\\u0e27\\u0e07\", \"\\u0e25\\u0e48\\u0e27\\u0e07\\u0e40\\u0e27\\u0e25\\u0e32\", \"\\u0e25\\u0e48\\u0e30\", \"\\u0e27\\u0e23\\u0e23\\u0e04\", \"\\u0e27\\u0e23\\u0e23\\u0e04\", \"\\u0e27\\u0e23\\u0e23\\u0e04\", \"\\u0e27\\u0e23\\u0e23\\u0e04\", \"\\u0e27\\u0e23\\u0e23\\u0e04\", \"\\u0e27\\u0e31\\u0e19\\u0e17\\u0e33\\u0e07\\u0e32\\u0e19\", \"\\u0e27\\u0e31\\u0e19\\u0e2b\\u0e22\\u0e38\\u0e14\", \"\\u0e27\\u0e34\", \"\\u0e28\", \"\\u0e28\\u0e32\\u0e25\", \"\\u0e28\\u0e32\\u0e25\", \"\\u0e28\\u0e32\\u0e25\", \"\\u0e28\\u0e32\\u0e25\", \"\\u0e28\\u0e32\\u0e25\", \"\\u0e28\\u0e32\\u0e25\", \"\\u0e28\\u0e32\\u0e25\", \"\\u0e28\\u0e32\\u0e25\\u0e0a\\u0e31\\u0e49\\u0e19\\u0e15\\u0e49\\u0e19\", \"\\u0e28\\u0e32\\u0e25\\u0e0e\\u0e35\\u0e01\\u0e32\", \"\\u0e28\\u0e32\\u0e25\\u0e2d\\u0e38\\u0e17\\u0e18\\u0e23\\u0e13\\u0e4c\", \"\\u0e28\\u0e32\\u0e25\\u0e41\\u0e23\\u0e07\\u0e07\\u0e32\\u0e19\", \"\\u0e2a\\u0e16\\u0e32\\u0e19\\u0e01\\u0e32\\u0e23\\u0e13\\u0e4c\", \"\\u0e2a\\u0e20\\u0e32\\u0e1e\\u0e01\\u0e32\\u0e23\\u0e08\\u0e49\\u0e32\\u0e07\", \"\\u0e2a\\u0e21\\u0e23\\u0e2a\", \"\\u0e2a\\u0e21\\u0e23\\u0e2a\", \"\\u0e2a\\u0e21\\u0e23\\u0e2a\", \"\\u0e2a\\u0e21\\u0e31\\u0e04\\u0e23\\u0e43\\u0e08\", \"\\u0e2a\\u0e21\\u0e31\\u0e04\\u0e23\\u0e43\\u0e08\", \"\\u0e2a\\u0e23\\u0e23\\u0e1e\\u0e32\\u0e01\\u0e23\", \"\\u0e2a\\u0e30\\u0e2a\\u0e21\", \"\\u0e2a\\u0e31\\u0e0d\\u0e0d\\u0e32\", \"\\u0e2a\\u0e31\\u0e0d\\u0e0d\\u0e32\", \"\\u0e2a\\u0e31\\u0e0d\\u0e0d\\u0e32\", \"\\u0e2a\\u0e31\\u0e0d\\u0e0d\\u0e32\", \"\\u0e2a\\u0e31\\u0e0d\\u0e0d\\u0e32\\u0e08\\u0e49\\u0e32\\u0e07\", \"\\u0e2a\\u0e31\\u0e0d\\u0e0d\\u0e32\\u0e08\\u0e49\\u0e32\\u0e07\", \"\\u0e2a\\u0e31\\u0e0d\\u0e0d\\u0e32\\u0e40\\u0e0a\\u0e48\\u0e32\", \"\\u0e2a\\u0e32\\u0e21\\u0e35\", \"\\u0e2a\\u0e32\\u0e21\\u0e35\", \"\\u0e2a\\u0e32\\u0e21\\u0e35\\u0e20\\u0e23\\u0e23\\u0e22\\u0e32\", \"\\u0e2a\\u0e32\\u0e21\\u0e35\\u0e20\\u0e23\\u0e23\\u0e22\\u0e32\", \"\\u0e2a\\u0e32\\u0e23\", \"\\u0e2a\\u0e33\\u0e19\\u0e27\\u0e19\", \"\\u0e2a\\u0e33\\u0e19\\u0e31\\u0e01\", \"\\u0e2a\\u0e33\\u0e19\\u0e31\\u0e01\\u0e07\\u0e32\\u0e19\", \"\\u0e2a\\u0e33\\u0e19\\u0e31\\u0e01\\u0e07\\u0e32\\u0e19\", \"\\u0e2a\\u0e33\\u0e19\\u0e31\\u0e01\\u0e07\\u0e32\\u0e19\", \"\\u0e2a\\u0e33\\u0e19\\u0e31\\u0e01\\u0e07\\u0e32\\u0e19\", \"\\u0e2a\\u0e33\\u0e19\\u0e31\\u0e01\\u0e07\\u0e32\\u0e19\", \"\\u0e2a\\u0e33\\u0e19\\u0e31\\u0e01\\u0e07\\u0e32\\u0e19\", \"\\u0e2a\\u0e33\\u0e19\\u0e31\\u0e01\\u0e07\\u0e32\\u0e19\\u0e40\\u0e02\\u0e15\", \"\\u0e2a\\u0e33\\u0e40\\u0e19\\u0e32\\u0e17\\u0e30\\u0e40\\u0e1a\\u0e35\\u0e22\\u0e19\\u0e1a\\u0e49\\u0e32\\u0e19\", \"\\u0e2a\\u0e34\\u0e17\\u0e18\\u0e34\", \"\\u0e2a\\u0e34\\u0e17\\u0e18\\u0e34\", \"\\u0e2a\\u0e34\\u0e17\\u0e18\\u0e34\", \"\\u0e2a\\u0e34\\u0e17\\u0e18\\u0e34\", \"\\u0e2a\\u0e34\\u0e17\\u0e18\\u0e34\", \"\\u0e2a\\u0e34\\u0e17\\u0e18\\u0e34\", \"\\u0e2a\\u0e34\\u0e17\\u0e18\\u0e34\", \"\\u0e2a\\u0e34\\u0e17\\u0e18\\u0e34\\u0e04\\u0e23\\u0e2d\\u0e1a\\u0e04\\u0e23\\u0e2d\\u0e07\", \"\\u0e2a\\u0e34\\u0e19\\u0e2a\\u0e21\\u0e23\\u0e2a\", \"\\u0e2a\\u0e34\\u0e19\\u0e2a\\u0e21\\u0e23\\u0e2a\", \"\\u0e2a\\u0e34\\u0e19\\u0e40\\u0e0a\\u0e37\\u0e48\\u0e2d\", \"\\u0e2a\\u0e34\\u0e48\\u0e07\\u0e1b\\u0e25\\u0e39\\u0e01\\u0e2a\\u0e23\\u0e49\\u0e32\\u0e07\", \"\\u0e2a\\u0e38\\u0e02\", \"\\u0e2a\\u0e39\\u0e15\\u0e34\\u0e1a\\u0e31\\u0e15\\u0e23\", \"\\u0e2a\\u0e48\\u0e27\\u0e19\\u0e41\\u0e1a\\u0e48\\u0e07\", \"\\u0e2a\\u0e48\\u0e27\\u0e19\\u0e41\\u0e1a\\u0e48\\u0e07\", \"\\u0e2b\\u0e0d\\u0e34\\u0e07\", \"\\u0e2b\\u0e0d\\u0e34\\u0e07\", \"\\u0e2b\\u0e19\\u0e35\\u0e49\", \"\\u0e2b\\u0e19\\u0e48\\u0e27\\u0e22\", \"\\u0e2b\\u0e21\\u0e32\\u0e22\\u0e40\\u0e23\\u0e35\\u0e22\\u0e01\", \"\\u0e2b\\u0e21\\u0e34\\u0e48\\u0e19\\u0e1b\\u0e23\\u0e30\\u0e21\\u0e32\\u0e17\", \"\\u0e2b\\u0e21\\u0e34\\u0e48\\u0e19\\u0e1b\\u0e23\\u0e30\\u0e21\\u0e32\\u0e17\", \"\\u0e2b\\u0e22\\u0e38\\u0e14\", \"\\u0e2b\\u0e22\\u0e48\\u0e32\", \"\\u0e2b\\u0e22\\u0e48\\u0e32\\u0e01\\u0e31\\u0e19\", \"\\u0e2b\\u0e25\\u0e31\\u0e01\\u0e10\\u0e32\\u0e19\", \"\\u0e2b\\u0e25\\u0e31\\u0e01\\u0e10\\u0e32\\u0e19\", \"\\u0e2b\\u0e25\\u0e31\\u0e01\\u0e10\\u0e32\\u0e19\", \"\\u0e2b\\u0e25\\u0e31\\u0e01\\u0e10\\u0e32\\u0e19\", \"\\u0e2b\\u0e25\\u0e31\\u0e01\\u0e10\\u0e32\\u0e19\", \"\\u0e2b\\u0e25\\u0e31\\u0e01\\u0e10\\u0e32\\u0e19\", \"\\u0e2b\\u0e32\", \"\\u0e2b\\u0e32\", \"\\u0e2b\\u0e32\", \"\\u0e2b\\u0e32\", \"\\u0e2b\\u0e32\", \"\\u0e2b\\u0e32\", \"\\u0e2b\\u0e38\\u0e49\\u0e19\", \"\\u0e2b\\u0e38\\u0e49\\u0e19\", \"\\u0e2b\\u0e38\\u0e49\\u0e19\\u0e2a\\u0e48\\u0e27\\u0e19\", \"\\u0e2d\", \"\\u0e2d\\u0e18\\u0e34\\u0e1a\\u0e32\\u0e22\", \"\\u0e2d\\u0e22\\u0e39\\u0e48\\u0e01\\u0e34\\u0e19\", \"\\u0e2d\\u0e2d\\u0e01\\u0e08\\u0e32\\u0e01\\u0e07\\u0e32\\u0e19\", \"\\u0e2d\\u0e31\\u0e15\\u0e23\\u0e32\\u0e04\\u0e48\\u0e32\\u0e08\\u0e49\\u0e32\\u0e07\", \"\\u0e2d\\u0e31\\u0e19\\u0e19\\u0e35\\u0e49\", \"\\u0e2d\\u0e32\\u0e0d\\u0e32\", \"\\u0e2d\\u0e32\\u0e0d\\u0e32\", \"\\u0e2d\\u0e32\\u0e22\\u0e31\\u0e14\", \"\\u0e2d\\u0e33\\u0e19\\u0e32\\u0e08\", \"\\u0e2d\\u0e33\\u0e19\\u0e32\\u0e08\", \"\\u0e2d\\u0e33\\u0e19\\u0e32\\u0e08\", \"\\u0e2d\\u0e33\\u0e19\\u0e32\\u0e08\", \"\\u0e2d\\u0e33\\u0e19\\u0e32\\u0e08\", \"\\u0e2d\\u0e33\\u0e19\\u0e32\\u0e08\", \"\\u0e2d\\u0e38\\u0e17\\u0e18\\u0e23\\u0e13\\u0e4c\", \"\\u0e2d\\u0e38\\u0e1b\\u0e01\\u0e32\\u0e23\\u0e30\", \"\\u0e2d\\u0e38\\u0e1b\\u0e01\\u0e32\\u0e23\\u0e30\", \"\\u0e40\\u0e01\\u0e25\\u0e35\\u0e22\\u0e14\\u0e0a\\u0e31\\u0e07\", \"\\u0e40\\u0e04\\u0e23\\u0e14\\u0e34\\u0e15\\u0e1a\\u0e39\\u0e42\\u0e23\", \"\\u0e40\\u0e07\\u0e34\\u0e19\", \"\\u0e40\\u0e07\\u0e34\\u0e19\", \"\\u0e40\\u0e07\\u0e34\\u0e19\", \"\\u0e40\\u0e07\\u0e34\\u0e19\", \"\\u0e40\\u0e07\\u0e34\\u0e19\", \"\\u0e40\\u0e07\\u0e34\\u0e19\", \"\\u0e40\\u0e07\\u0e34\\u0e19\\u0e01\\u0e39\\u0e49\", \"\\u0e40\\u0e07\\u0e34\\u0e19\\u0e0a\\u0e14\\u0e40\\u0e0a\\u0e22\", \"\\u0e40\\u0e07\\u0e34\\u0e19\\u0e21\\u0e31\\u0e14\\u0e08\\u0e33\", \"\\u0e40\\u0e07\\u0e37\\u0e48\\u0e2d\\u0e19\\u0e44\\u0e02\", \"\\u0e40\\u0e07\\u0e37\\u0e48\\u0e2d\\u0e19\\u0e44\\u0e02\", \"\\u0e40\\u0e07\\u0e37\\u0e48\\u0e2d\\u0e19\\u0e44\\u0e02\", \"\\u0e40\\u0e07\\u0e37\\u0e48\\u0e2d\\u0e19\\u0e44\\u0e02\", \"\\u0e40\\u0e07\\u0e37\\u0e48\\u0e2d\\u0e19\\u0e44\\u0e02\", \"\\u0e40\\u0e07\\u0e37\\u0e48\\u0e2d\\u0e19\\u0e44\\u0e02\", \"\\u0e40\\u0e07\\u0e37\\u0e48\\u0e2d\\u0e19\\u0e44\\u0e02\", \"\\u0e40\\u0e08\\u0e23\\u0e08\\u0e32\", \"\\u0e40\\u0e08\\u0e23\\u0e08\\u0e32\", \"\\u0e40\\u0e08\\u0e23\\u0e08\\u0e32\", \"\\u0e40\\u0e08\\u0e23\\u0e08\\u0e32\", \"\\u0e40\\u0e08\\u0e49\\u0e32\\u0e02\\u0e2d\\u0e07\\u0e17\\u0e35\\u0e48\\u0e14\\u0e34\\u0e19\", \"\\u0e40\\u0e08\\u0e49\\u0e32\\u0e02\\u0e2d\\u0e07\\u0e1a\\u0e49\\u0e32\\u0e19\", \"\\u0e40\\u0e08\\u0e49\\u0e32\\u0e02\\u0e2d\\u0e07\\u0e23\\u0e27\\u0e21\", \"\\u0e40\\u0e08\\u0e49\\u0e32\\u0e1a\\u0e49\\u0e32\\u0e19\", \"\\u0e40\\u0e08\\u0e49\\u0e32\\u0e1e\\u0e19\\u0e31\\u0e01\\u0e07\\u0e32\\u0e19\\u0e1e\\u0e34\\u0e17\\u0e31\\u0e01\\u0e29\\u0e4c\\u0e17\\u0e23\\u0e31\\u0e1e\\u0e22\\u0e4c\", \"\\u0e40\\u0e08\\u0e49\\u0e32\\u0e21\\u0e23\\u0e14\\u0e01\", \"\\u0e40\\u0e08\\u0e49\\u0e32\\u0e2b\\u0e19\\u0e35\\u0e49\", \"\\u0e40\\u0e0a\\u0e47\\u0e04\", \"\\u0e40\\u0e0a\\u0e48\\u0e32\", \"\\u0e40\\u0e0a\\u0e48\\u0e32\\u0e0b\\u0e37\\u0e49\\u0e2d\", \"\\u0e40\\u0e0b\\u0e47\\u0e19\", \"\\u0e40\\u0e0b\\u0e47\\u0e19\", \"\\u0e40\\u0e0b\\u0e47\\u0e19\\u0e15\\u0e4c\", \"\\u0e40\\u0e14\\u0e47\\u0e01\", \"\\u0e40\\u0e19\\u0e23\\u0e04\\u0e38\\u0e13\", \"\\u0e40\\u0e1b\\u0e34\\u0e14\\u0e1a\\u0e31\\u0e0d\\u0e0a\\u0e35\", \"\\u0e40\\u0e1b\\u0e47\\u0e19\\u0e18\\u0e23\\u0e23\\u0e21\", \"\\u0e40\\u0e1b\\u0e47\\u0e19\\u0e18\\u0e23\\u0e23\\u0e21\", \"\\u0e40\\u0e1b\\u0e47\\u0e19\\u0e2b\\u0e19\\u0e35\\u0e49\", \"\\u0e40\\u0e1b\\u0e47\\u0e19\\u0e40\\u0e08\\u0e49\\u0e32\\u0e02\\u0e2d\\u0e07\", \"\\u0e40\\u0e1b\\u0e47\\u0e19\\u0e40\\u0e2b\\u0e15\\u0e38\\u0e43\\u0e2b\\u0e49\", \"\\u0e40\\u0e1b\\u0e47\\u0e19\\u0e40\\u0e2b\\u0e15\\u0e38\\u0e43\\u0e2b\\u0e49\", \"\\u0e40\\u0e1b\\u0e47\\u0e19\\u0e40\\u0e2b\\u0e15\\u0e38\\u0e43\\u0e2b\\u0e49\", \"\\u0e40\\u0e1b\\u0e47\\u0e19\\u0e40\\u0e2b\\u0e15\\u0e38\\u0e43\\u0e2b\\u0e49\", \"\\u0e40\\u0e1e\\u0e37\\u0e48\\u0e2d\\u0e19\", \"\\u0e40\\u0e1e\\u0e37\\u0e48\\u0e2d\\u0e19\", \"\\u0e40\\u0e1e\\u0e37\\u0e48\\u0e2d\\u0e19\", \"\\u0e40\\u0e23\\u0e35\\u0e22\\u0e01\\u0e23\\u0e49\\u0e2d\\u0e07\", \"\\u0e40\\u0e23\\u0e35\\u0e22\\u0e01\\u0e23\\u0e49\\u0e2d\\u0e07\", \"\\u0e40\\u0e23\\u0e35\\u0e22\\u0e01\\u0e23\\u0e49\\u0e2d\\u0e07\", \"\\u0e40\\u0e23\\u0e35\\u0e22\\u0e01\\u0e23\\u0e49\\u0e2d\\u0e07\", \"\\u0e40\\u0e23\\u0e35\\u0e22\\u0e01\\u0e23\\u0e49\\u0e2d\\u0e07\", \"\\u0e40\\u0e23\\u0e35\\u0e22\\u0e01\\u0e23\\u0e49\\u0e2d\\u0e07\", \"\\u0e40\\u0e23\\u0e35\\u0e22\\u0e01\\u0e23\\u0e49\\u0e2d\\u0e07\", \"\\u0e40\\u0e25\\u0e34\\u0e01\", \"\\u0e40\\u0e25\\u0e34\\u0e01\", \"\\u0e40\\u0e25\\u0e34\\u0e01\", \"\\u0e40\\u0e25\\u0e34\\u0e01\\u0e08\\u0e49\\u0e32\\u0e07\", \"\\u0e40\\u0e25\\u0e34\\u0e01\\u0e08\\u0e49\\u0e32\\u0e07\", \"\\u0e40\\u0e25\\u0e35\\u0e49\\u0e22\\u0e07\\u0e14\\u0e39\", \"\\u0e40\\u0e25\\u0e35\\u0e49\\u0e22\\u0e07\\u0e14\\u0e39\", \"\\u0e40\\u0e25\\u0e37\\u0e2d\\u0e01\", \"\\u0e40\\u0e25\\u0e37\\u0e2d\\u0e01\", \"\\u0e40\\u0e25\\u0e37\\u0e2d\\u0e01\", \"\\u0e40\\u0e25\\u0e48\\u0e32\", \"\\u0e40\\u0e25\\u0e48\\u0e32\", \"\\u0e40\\u0e25\\u0e48\\u0e32\", \"\\u0e40\\u0e27\\u0e25\\u0e32\\u0e17\\u0e33\\u0e07\\u0e32\\u0e19\", \"\\u0e40\\u0e2a\\u0e1e\", \"\\u0e40\\u0e2a\\u0e35\\u0e22\\u0e0a\\u0e37\\u0e48\\u0e2d\\u0e40\\u0e2a\\u0e35\\u0e22\\u0e07\", \"\\u0e40\\u0e2a\\u0e35\\u0e22\\u0e20\\u0e32\\u0e29\\u0e35\", \"\\u0e40\\u0e2a\\u0e37\\u0e48\\u0e2d\\u0e21\", \"\\u0e40\\u0e2b\\u0e21\\u0e37\\u0e2d\\u0e19\\u0e01\\u0e31\\u0e19\", \"\\u0e40\\u0e2b\\u0e21\\u0e37\\u0e2d\\u0e19\\u0e01\\u0e31\\u0e19\", \"\\u0e40\\u0e2d\\u0e01\\u0e2a\\u0e32\\u0e23\\u0e2a\\u0e34\\u0e17\\u0e18\\u0e34\\u0e4c\", \"\\u0e40\\u0e2d\\u0e01\\u0e2a\\u0e32\\u0e23\\u0e2a\\u0e34\\u0e17\\u0e18\\u0e34\\u0e4c\", \"\\u0e40\\u0e2d\\u0e32\\u0e04\\u0e37\\u0e19\", \"\\u0e40\\u0e2d\\u0e32\\u0e40\\u0e1b\\u0e47\\u0e19\\u0e27\\u0e48\\u0e32\", \"\\u0e41\\u0e08\\u0e49\\u0e07\", \"\\u0e41\\u0e08\\u0e49\\u0e07\", \"\\u0e41\\u0e08\\u0e49\\u0e07\", \"\\u0e41\\u0e08\\u0e49\\u0e07\", \"\\u0e41\\u0e08\\u0e49\\u0e07\", \"\\u0e41\\u0e08\\u0e49\\u0e07\", \"\\u0e41\\u0e08\\u0e49\\u0e07\\u0e04\\u0e27\\u0e32\\u0e21\", \"\\u0e41\\u0e08\\u0e49\\u0e07\\u0e04\\u0e27\\u0e32\\u0e21\", \"\\u0e41\\u0e08\\u0e49\\u0e07\\u0e04\\u0e27\\u0e32\\u0e21\", \"\\u0e41\\u0e08\\u0e49\\u0e07\\u0e04\\u0e27\\u0e32\\u0e21\", \"\\u0e41\\u0e15\\u0e48\\u0e07\\u0e07\\u0e32\\u0e19\", \"\\u0e41\\u0e16\\u0e25\\u0e07\", \"\\u0e41\\u0e17\\u0e19\\u0e17\\u0e35\\u0e48\", \"\\u0e41\\u0e19\\u0e30\\u0e19\\u0e33\", \"\\u0e41\\u0e19\\u0e30\\u0e19\\u0e33\", \"\\u0e41\\u0e19\\u0e30\\u0e19\\u0e33\", \"\\u0e41\\u0e19\\u0e30\\u0e19\\u0e33\", \"\\u0e41\\u0e19\\u0e30\\u0e19\\u0e33\", \"\\u0e41\\u0e19\\u0e30\\u0e19\\u0e33\", \"\\u0e41\\u0e19\\u0e48\\u0e19\\u0e2d\\u0e19\", \"\\u0e41\\u0e19\\u0e48\\u0e19\\u0e2d\\u0e19\", \"\\u0e41\\u0e19\\u0e48\\u0e19\\u0e2d\\u0e19\", \"\\u0e41\\u0e19\\u0e48\\u0e19\\u0e2d\\u0e19\", \"\\u0e41\\u0e19\\u0e48\\u0e19\\u0e2d\\u0e19\", \"\\u0e41\\u0e1a\\u0e48\\u0e07\", \"\\u0e41\\u0e1a\\u0e48\\u0e07\", \"\\u0e41\\u0e1a\\u0e48\\u0e07\", \"\\u0e41\\u0e1a\\u0e48\\u0e07\\u0e1b\\u0e31\\u0e19\", \"\\u0e41\\u0e1a\\u0e48\\u0e07\\u0e1b\\u0e31\\u0e19\", \"\\u0e41\\u0e1b\\u0e25\\u0e07\", \"\\u0e41\\u0e1b\\u0e25\\u0e07\", \"\\u0e41\\u0e1f\\u0e19\", \"\\u0e41\\u0e1f\\u0e19\", \"\\u0e41\\u0e1f\\u0e19\", \"\\u0e41\\u0e21\\u0e48\", \"\\u0e41\\u0e21\\u0e48\", \"\\u0e41\\u0e22\\u0e01\\u0e01\\u0e31\\u0e19\", \"\\u0e41\\u0e23\\u0e07\", \"\\u0e41\\u0e23\\u0e07\\u0e07\\u0e32\\u0e19\", \"\\u0e41\\u0e23\\u0e07\\u0e07\\u0e32\\u0e19\", \"\\u0e41\\u0e25\\u0e49\\u0e27\\u0e01\\u0e47\", \"\\u0e41\\u0e25\\u0e49\\u0e27\\u0e01\\u0e47\", \"\\u0e41\\u0e25\\u0e49\\u0e27\\u0e01\\u0e47\", \"\\u0e41\\u0e25\\u0e49\\u0e27\\u0e01\\u0e47\", \"\\u0e41\\u0e25\\u0e49\\u0e27\\u0e01\\u0e47\", \"\\u0e41\\u0e25\\u0e49\\u0e27\\u0e01\\u0e47\", \"\\u0e41\\u0e25\\u0e49\\u0e27\\u0e01\\u0e47\", \"\\u0e41\\u0e25\\u0e49\\u0e27\\u0e44\\u0e1b\", \"\\u0e41\\u0e2a\\u0e14\\u0e07\\u0e15\\u0e19\", \"\\u0e42\\u0e08\\u0e17\\u0e01\\u0e4c\", \"\\u0e42\\u0e08\\u0e17\\u0e01\\u0e4c\", \"\\u0e42\\u0e08\\u0e17\\u0e01\\u0e4c\", \"\\u0e42\\u0e09\\u0e19\\u0e14\", \"\\u0e42\\u0e09\\u0e19\\u0e14\\u0e17\\u0e35\\u0e48\\u0e14\\u0e34\\u0e19\", \"\\u0e42\\u0e09\\u0e19\\u0e14\\u0e17\\u0e35\\u0e48\\u0e14\\u0e34\\u0e19\", \"\\u0e42\\u0e0a\\u0e04\\u0e14\\u0e35\", \"\\u0e42\\u0e0a\\u0e04\\u0e14\\u0e35\", \"\\u0e42\\u0e17\\u0e23\", \"\\u0e42\\u0e17\\u0e23\", \"\\u0e42\\u0e17\\u0e23\", \"\\u0e42\\u0e17\\u0e23\", \"\\u0e42\\u0e17\\u0e23\\u0e28\\u0e31\\u0e1e\\u0e17\\u0e4c\", \"\\u0e42\\u0e17\\u0e29\", \"\\u0e42\\u0e2d\\u0e19\", \"\\u0e42\\u0e2d\\u0e19\", \"\\u0e42\\u0e2d\\u0e19\", \"\\u0e43\\u0e0a\\u0e49\\u0e2b\\u0e19\\u0e35\\u0e49\", \"\\u0e43\\u0e0a\\u0e49\\u0e2d\\u0e33\\u0e19\\u0e32\\u0e08\", \"\\u0e43\\u0e14\", \"\\u0e43\\u0e14\", \"\\u0e43\\u0e14\", \"\\u0e43\\u0e14\", \"\\u0e43\\u0e14\", \"\\u0e43\\u0e14\", \"\\u0e43\\u0e14\", \"\\u0e43\\u0e1a\", \"\\u0e43\\u0e1a\", \"\\u0e43\\u0e1a\", \"\\u0e43\\u0e1a\\u0e25\\u0e32\\u0e2d\\u0e2d\\u0e01\", \"\\u0e43\\u0e1a\\u0e25\\u0e32\\u0e2d\\u0e2d\\u0e01\", \"\\u0e43\\u0e2a\\u0e48\\u0e04\\u0e27\\u0e32\\u0e21\", \"\\u0e43\\u0e2b\\u0e49\\u0e01\\u0e33\\u0e25\\u0e31\\u0e07\\u0e43\\u0e08\", \"\\u0e43\\u0e2b\\u0e49\\u0e40\\u0e0a\\u0e48\\u0e32\", \"\\u0e43\\u0e2b\\u0e49\\u0e40\\u0e0a\\u0e48\\u0e32\", \"\\u0e44\\u0e14\\u0e49\\u0e40\\u0e2a\\u0e35\\u0e22\", \"\\u0e44\\u0e14\\u0e49\\u0e40\\u0e2a\\u0e35\\u0e22\", \"\\u0e44\\u0e17\\u0e22\", \"\\u0e44\\u0e17\\u0e22\", \"\\u0e44\\u0e1f\\u0e41\\u0e19\\u0e19\\u0e0b\\u0e4c\", \"\\u0e44\\u0e21\\u0e48\\u0e15\\u0e49\\u0e2d\\u0e07\", \"\\u0e44\\u0e21\\u0e48\\u0e15\\u0e49\\u0e2d\\u0e07\", \"\\u0e44\\u0e21\\u0e48\\u0e15\\u0e49\\u0e2d\\u0e07\", \"\\u0e44\\u0e21\\u0e48\\u0e15\\u0e49\\u0e2d\\u0e07\", \"\\u0e44\\u0e21\\u0e48\\u0e15\\u0e49\\u0e2d\\u0e07\", \"\\u0e44\\u0e21\\u0e48\\u0e15\\u0e49\\u0e2d\\u0e07\", \"\\u0e44\\u0e21\\u0e48\\u0e15\\u0e49\\u0e2d\\u0e07\", \"\\u0e51\\u0e51\\u0e58\", \"\\u0e52\\u0e55\\u0e54\\u0e51\", \"\\u0e57\", \"\\u0e59\", \"\\u201c\", \"\\u201c\", \"\\u201d\", \"\\u201d\"]}, \"R\": 30, \"lambda.step\": 0.01, \"plot.opts\": {\"xlab\": \"PC1\", \"ylab\": \"PC2\"}, \"topic.order\": [1, 5, 3, 7, 4, 6, 2]};\n",
              "\n",
              "function LDAvis_load_lib(url, callback){\n",
              "  var s = document.createElement('script');\n",
              "  s.src = url;\n",
              "  s.async = true;\n",
              "  s.onreadystatechange = s.onload = callback;\n",
              "  s.onerror = function(){console.warn(\"failed to load library \" + url);};\n",
              "  document.getElementsByTagName(\"head\")[0].appendChild(s);\n",
              "}\n",
              "\n",
              "if(typeof(LDAvis) !== \"undefined\"){\n",
              "   // already loaded: just create the visualization\n",
              "   !function(LDAvis){\n",
              "       new LDAvis(\"#\" + \"ldavis_el1252424010464802568256571200\", ldavis_el1252424010464802568256571200_data);\n",
              "   }(LDAvis);\n",
              "}else if(typeof define === \"function\" && define.amd){\n",
              "   // require.js is available: use it to load d3/LDAvis\n",
              "   require.config({paths: {d3: \"https://d3js.org/d3.v5\"}});\n",
              "   require([\"d3\"], function(d3){\n",
              "      window.d3 = d3;\n",
              "      LDAvis_load_lib(\"https://cdn.jsdelivr.net/gh/bmabey/pyLDAvis@3.4.0/pyLDAvis/js/ldavis.v3.0.0.js\", function(){\n",
              "        new LDAvis(\"#\" + \"ldavis_el1252424010464802568256571200\", ldavis_el1252424010464802568256571200_data);\n",
              "      });\n",
              "    });\n",
              "}else{\n",
              "    // require.js not available: dynamically load d3 & LDAvis\n",
              "    LDAvis_load_lib(\"https://d3js.org/d3.v5.js\", function(){\n",
              "         LDAvis_load_lib(\"https://cdn.jsdelivr.net/gh/bmabey/pyLDAvis@3.4.0/pyLDAvis/js/ldavis.v3.0.0.js\", function(){\n",
              "                 new LDAvis(\"#\" + \"ldavis_el1252424010464802568256571200\", ldavis_el1252424010464802568256571200_data);\n",
              "            })\n",
              "         });\n",
              "}\n",
              "</script>"
            ],
            "text/plain": [
              "PreparedData(topic_coordinates=              x         y  topics  cluster       Freq\n",
              "topic                                                \n",
              "0     -0.055515 -0.098714       1        1  19.823129\n",
              "4     -0.002764  0.095402       2        1  19.760644\n",
              "2     -0.193035  0.202789       3        1  15.454065\n",
              "6      0.237248  0.003765       4        1  15.351421\n",
              "3      0.108164 -0.248298       5        1  10.347805\n",
              "5     -0.252201 -0.128610       6        1  10.080595\n",
              "1      0.158102  0.173666       7        1   9.182342, topic_info=        Term         Freq        Total Category  logprob  loglift\n",
              "377  นายจ้าง  2935.000000  2935.000000  Default  30.0000  30.0000\n",
              "306   ที่ดิน  2763.000000  2763.000000  Default  29.0000  29.0000\n",
              "178     บุตร  2259.000000  2259.000000  Default  28.0000  28.0000\n",
              "379  ลูกจ้าง  2415.000000  2415.000000  Default  27.0000  27.0000\n",
              "35      สามี  1669.000000  1669.000000  Default  26.0000  26.0000\n",
              "..       ...          ...          ...      ...      ...      ...\n",
              "104     ฟ้อง   221.374406  2426.267463   Topic7  -4.7882  -0.0064\n",
              "157      ศาล   242.756241  3946.609516   Topic7  -4.6960  -0.4007\n",
              "345     กรณี   204.459605  2234.682468   Topic7  -4.8676  -0.0036\n",
              "0     กฎหมาย   167.479058  1361.878499   Topic7  -5.0672   0.2921\n",
              "556     บ้าน   161.606896  1120.644047   Topic7  -5.1028   0.4514\n",
              "\n",
              "[476 rows x 6 columns], token_table=      Topic      Freq    Term\n",
              "term                         \n",
              "0         1  0.088114  กฎหมาย\n",
              "0         2  0.168150  กฎหมาย\n",
              "0         3  0.186507  กฎหมาย\n",
              "0         4  0.135108  กฎหมาย\n",
              "0         5  0.060211  กฎหมาย\n",
              "...     ...       ...     ...\n",
              "4262      6  0.999919       ๙\n",
              "2093      3  0.046065       “\n",
              "2093      6  0.952015       “\n",
              "2094      3  0.036433       ”\n",
              "2094      6  0.962881       ”\n",
              "\n",
              "[912 rows x 3 columns], R=30, lambda_step=0.01, plot_opts={'xlab': 'PC1', 'ylab': 'PC2'}, topic_order=[1, 5, 3, 7, 4, 6, 2])"
            ]
          },
          "execution_count": 79,
          "metadata": {},
          "output_type": "execute_result"
        }
      ],
      "source": [
        "import pyLDAvis.gensim_models as gensimvis\n",
        "pyLDAvis.enable_notebook()\n",
        "LDAvis_data_filepath = os.path.join('./ldavis_prepared_'+str(num_topics))\n",
        "\n",
        "LDAvis_data_filepath\n",
        "if 1 == 1:\n",
        "    LDAvis_prepared = gensimvis.prepare(lda_model, corpus, id2word)\n",
        "    with open(LDAvis_data_filepath, 'wb') as f:\n",
        "        pickle.dump(LDAvis_prepared, f)\n",
        "with open(LDAvis_data_filepath, 'rb') as f:\n",
        "    LDAvis_prepared = pickle.load(f)\n",
        "pyLDAvis.save_html(LDAvis_prepared, './ldavis_prepared_'+ str(num_topics) +'.html')\n",
        "LDAvis_prepared"
      ]
    },
    {
      "attachments": {},
      "cell_type": "markdown",
      "metadata": {
        "id": "puyLE_GLBfcl"
      },
      "source": [
        "The sections below are in the process of being updated with new documents."
      ]
    },
    {
      "cell_type": "code",
      "execution_count": 80,
      "metadata": {
        "id": "Ribu5U_2cA1j"
      },
      "outputs": [],
      "source": [
        "def preprocess(text):\n",
        "  result = []\n",
        "  str_text = str(text).replace(' ','')\n",
        "  word_token = word_tokenize(str_text, engine='newmm')\n",
        "  stopwords = list(thai_stopwords())\n",
        "  read_stopwords = pd.read_csv('dataset/add_stopwords.csv')\n",
        "  add_stopwords = read_stopwords['stopword'].values.tolist()\n",
        "  for word in word_token:\n",
        "    if(word not in stopwords + add_stopwords):\n",
        "      result.append(word)\n",
        "  #result = map(lambda x: re.sub('[,/.?# ]', '', x), result)\n",
        "  return result"
      ]
    },
    {
      "cell_type": "code",
      "execution_count": 81,
      "metadata": {
        "id": "SvimBQcrdVsm"
      },
      "outputs": [],
      "source": [
        "def bow(text):\n",
        "  with open('model/id2word.pkl', 'rb') as f:\n",
        "    id2word = pickle.load(f)\n",
        "  vector = id2word.doc2bow(text)\n",
        "  return vector"
      ]
    },
    {
      "cell_type": "code",
      "execution_count": 82,
      "metadata": {
        "id": "8LczN4et4g4T"
      },
      "outputs": [],
      "source": [
        "new_doc = random.choice(test_data)\n",
        "test_doc = preprocess(new_doc)\n",
        "test_doc = bow(test_doc)"
      ]
    },
    {
      "cell_type": "code",
      "execution_count": 84,
      "metadata": {
        "colab": {
          "base_uri": "https://localhost:8080/"
        },
        "id": "wyAeDtk9Rs0l",
        "outputId": "9eb730a9-873c-4407-d471-a69813721c4e"
      },
      "outputs": [
        {
          "name": "stderr",
          "output_type": "stream",
          "text": [
            "WARNING:root:failed to load state from model/lda_model.pkl.state: [Errno 2] No such file or directory: 'model/lda_model.pkl.state'\n"
          ]
        },
        {
          "name": "stdout",
          "output_type": "stream",
          "text": [
            "{'Contract': 0.65052676, 'Family': 0.036553934, 'Labor': 0.07191045, 'Children': 0.047396403, 'Sentence': 0.087560296, 'lawyer': 0.069334775, 'Succession': 0.036717333}\n"
          ]
        }
      ],
      "source": [
        "lda_model = LdaModel.load('model/lda_model.pkl')\n",
        "new_doc_topics = lda_model.get_document_topics(test_doc)\n",
        "new_doc_topics_dict = {topic_dict[topic]: prob for topic, prob in new_doc_topics}\n",
        "print(new_doc_topics_dict)"
      ]
    },
    {
      "cell_type": "code",
      "execution_count": 85,
      "metadata": {
        "colab": {
          "base_uri": "https://localhost:8080/",
          "height": 404
        },
        "id": "xtV8rRWYXDp8",
        "outputId": "fc12b47d-0c97-4d01-a863-ccb1e8e2a856"
      },
      "outputs": [
        {
          "data": {
            "image/png": "[encoded data removed]",
            "text/plain": [
              "<Figure size 800x600 with 1 Axes>"
            ]
          },
          "metadata": {},
          "output_type": "display_data"
        }
      ],
      "source": [
        "# plot the bar chart\n",
        "plt.figure(figsize=(8,6))\n",
        "plt.bar([t[0] for t in new_doc_topics], [t[1] for t in new_doc_topics])\n",
        "plt.xlabel('Topic ID')\n",
        "plt.ylabel('Topic Proportion')\n",
        "plt.title(f'Topic Distribution for new document')\n",
        "plt.show()"
      ]
    },
    {
      "cell_type": "markdown",
      "metadata": {
        "id": "raQT0EwfbMNS"
      },
      "source": [
        "Similarity query"
      ]
    },
    {
      "cell_type": "code",
      "execution_count": 89,
      "metadata": {
        "colab": {
          "base_uri": "https://localhost:8080/"
        },
        "id": "WbBHB4JNk85z",
        "outputId": "caa897b4-66c1-4c5e-c47b-fc772fad8f5c"
      },
      "outputs": [
        {
          "name": "stdout",
          "output_type": "stream",
          "text": [
            "<class 'numpy.ndarray'>\n",
            "Topic distribution for new document : [(0, 0.65052676), (1, 0.036553934), (2, 0.07191045), (3, 0.047396403), (4, 0.087560296), (5, 0.069334775), (6, 0.036717333)]\n",
            "น่าจะมีอายุความปีอย่าได้ไปหวังหลุดหนี้โดยใช้อายุความไฟแนนซ์เขามีทีมกฎหมายที่เข้มแข็งคงไม่ปล่อยให้หนี้สูญได้ง่ายๆ\n",
            "\n",
            "Document ID: 3728, Similarity score: 0.9983065724372864\n",
            "หากรถไม่ได้เปลี่ยนแปลงชื่อผู้เช่าซื้อก็จะติดอยู่ตลอดไปแต่หากเปลี่ยนแล้วข้อมูลก็จะถูกแก้ไขหลังจากมีการเปลี่ยนแปลงข้อมูลไม่มียอดค้างชำระ\n",
            "Topic distribution for similar document : \n",
            "\t(Contract, 0.63458)\n",
            "\t(Family, 0.04780)\n",
            "\t(Labor, 0.05280)\n",
            "\t(Children, 0.06163)\n",
            "\t(Sentence, 0.06910)\n",
            "\t(lawyer, 0.08248)\n",
            "\t(Succession, 0.05162)\n",
            "Document ID: 5023, Similarity score: 0.9980394244194031\n",
            "เมื่อมีหลักฐานการกู้ยืมก็ฟ้องได้แต่เขาจะมีทรัพย์สินอะไรให้คุณยึดมาขายทอดตลาดเพื่อใช้หนี้หรือไม่ก็เป็นเรื่องที่คุณต้องพิจารณาให้ดี\n",
            "Topic distribution for similar document : \n",
            "\t(Contract, 0.68603)\n",
            "\t(Family, 0.04265)\n",
            "\t(Labor, 0.04164)\n",
            "\t(Children, 0.04136)\n",
            "\t(Sentence, 0.09575)\n",
            "\t(lawyer, 0.04775)\n",
            "\t(Succession, 0.04482)\n",
            "Document ID: 3120, Similarity score: 0.9980273246765137\n",
            "ค่าส่วนต่างก็ไปศาลตามนัดเจรจาขอผ่อนส่งใช้หนี้ค่าส่วนต่างคือทางออกที่ดีที่สุด\n",
            "Topic distribution for similar document : \n",
            "\t(Contract, 0.67543)\n",
            "\t(Family, 0.04922)\n",
            "\t(Labor, 0.04580)\n",
            "\t(Children, 0.05986)\n",
            "\t(Sentence, 0.06870)\n",
            "\t(lawyer, 0.05522)\n",
            "\t(Succession, 0.04577)\n",
            "Document ID: 2005, Similarity score: 0.9980084300041199\n",
            "คงไม่สามารถแจ้งความดำเนินคดีกับเขาได้เป็นเรื่องทางแพ่งเมื่อไม่มีสัญญากู้ยืมเงินก็ไม่สามารถฟ้องได้เช่นกัน\n",
            "Topic distribution for similar document : \n",
            "\t(Contract, 0.69354)\n",
            "\t(Family, 0.04567)\n",
            "\t(Labor, 0.04462)\n",
            "\t(Children, 0.04468)\n",
            "\t(Sentence, 0.08120)\n",
            "\t(lawyer, 0.04626)\n",
            "\t(Succession, 0.04404)\n",
            "Document ID: 5401, Similarity score: 0.9978703260421753\n",
            "ท่านสบายใจได้เลยแม้มีคำพิพากษาของศาลแล้วธนาคารก็อายัดเงินเดือนท่านไม่ได้ตามกฎหมายเพราะเงินเดือนท่านไม่ถึงเกณฑ์ที่จะอายัดได้\n",
            "Topic distribution for similar document : \n",
            "\t(Contract, 0.66394)\n",
            "\t(Family, 0.05389)\n",
            "\t(Labor, 0.04785)\n",
            "\t(Children, 0.04250)\n",
            "\t(Sentence, 0.10351)\n",
            "\t(lawyer, 0.04326)\n",
            "\t(Succession, 0.04505)\n"
          ]
        }
      ],
      "source": [
        "corpus = gensim.corpora.MmCorpus('model/corpus.mm')\n",
        "data = pd.read_csv('dataset/DatasetLegal.csv')\n",
        "with open('model/id2word.pkl', 'rb') as f:\n",
        "  id2word = pickle.load(f)\n",
        "corpus_lda = lda_model[corpus]\n",
        "index = similarities.MatrixSimilarity(corpus_lda, num_features=len(id2word))\n",
        "sims = index[new_doc_topics]\n",
        "print(type(sims))\n",
        "sims_sorted = sorted(enumerate(sims), key=lambda item: -item[1])\n",
        "print(f\"Topic distribution for new document : {new_doc_topics}\\n{new_doc}\\n\")\n",
        "for doc_id, similarity in sims_sorted[:5]:\n",
        "    print(f\"Document ID: {doc_id}, Similarity score: {similarity}\")\n",
        "    print(data.answer[doc_id])\n",
        "    print(\"Topic distribution for similar document : \")\n",
        "    for num, dis in corpus_lda[doc_id]:\n",
        "      print(f\"\\t({topic_dict.get(num)}, {'%.5f' %dis})\")\n",
        "    #print(\"\\n\")\n",
        "    #print(f\"Topic distribution for similar document : \\n{corpus_lda[doc_id]}\\n\")"
      ]
    },
    {
      "cell_type": "code",
      "execution_count": 52,
      "metadata": {
        "colab": {
          "base_uri": "https://localhost:8080/"
        },
        "id": "n3HFMPHOBEWI",
        "outputId": "4963e0fe-4fe6-4a3a-88e4-b9de4f6b1791"
      },
      "outputs": [
        {
          "name": "stdout",
          "output_type": "stream",
          "text": [
            "[(1, 0.64718866), (2, 0.012049023), (5, 0.21010305), (6, 0.1107332)]\n",
            "[(4925, 0.99957275), (5070, 0.998647), (3420, 0.9981044), (382, 0.99796355), (1776, 0.99787885), (3704, 0.99778986), (1421, 0.9972182), (4434, 0.99717665), (4, 0.99705076), (5727, 0.99703896)]\n",
            "MatrixSimilarity<6030 docs, 10043 features>\n",
            "[0.3106109  0.42493957 0.90341425 ... 0.35561863 0.15369038 0.15746737]\n"
          ]
        }
      ],
      "source": [
        "print(corpus_lda[0])\n",
        "print(sims_sorted[:10])\n",
        "print(index)\n",
        "print(index[new_doc_topics])  "
      ]
    },
    {
      "cell_type": "code",
      "execution_count": null,
      "metadata": {
        "colab": {
          "base_uri": "https://localhost:8080/"
        },
        "id": "XkVvNHK--toB",
        "outputId": "0433855f-ae4d-43f8-d2fb-cb415b43f5e6"
      },
      "outputs": [
        {
          "name": "stderr",
          "output_type": "stream",
          "text": [
            "WARNING:gensim.models.ldamodel:too few updates, training might not converge; consider increasing the number of passes or iterations to improve accuracy\n",
            "/usr/local/lib/python3.9/dist-packages/gensim/models/ldamodel.py:850: RuntimeWarning: overflow encountered in exp2\n",
            "  perwordbound, np.exp2(-perwordbound), len(chunk), corpus_words\n"
          ]
        }
      ],
      "source": [
        "lda_model.update([new_doc_topics])"
      ]
    }
  ],
  "metadata": {
    "colab": {
      "authorship_tag": "ABX9TyMPpjpsEXqve4syXEIdYtxU",
      "include_colab_link": true,
      "mount_file_id": "1MCeMFOnUO7TA9AjiorQXjLUw-4a8Y_1R",
      "provenance": []
    },
    "kernelspec": {
      "display_name": "Python 3",
      "name": "python3"
    },
    "language_info": {
      "codemirror_mode": {
        "name": "ipython",
        "version": 3
      },
      "file_extension": ".py",
      "mimetype": "text/x-python",
      "name": "python",
      "nbconvert_exporter": "python",
      "pygments_lexer": "ipython3",
      "version": "3.9.13"
    }
  },
  "nbformat": 4,
  "nbformat_minor": 0
}
