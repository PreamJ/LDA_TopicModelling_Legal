{
 "cells": [
  {
   "cell_type": "code",
   "execution_count": 2,
   "metadata": {},
   "outputs": [],
   "source": [
    "import numpy as np\n",
    "import pandas as pd\n",
    "import pickle\n",
    "import umap.umap_ as umap\n",
    "import matplotlib.pyplot as plt\n",
    "import seaborn as sns"
   ]
  },
  {
   "cell_type": "code",
   "execution_count": 3,
   "metadata": {},
   "outputs": [
    {
     "data": {
      "text/html": [
       "<div>\n",
       "<style scoped>\n",
       "    .dataframe tbody tr th:only-of-type {\n",
       "        vertical-align: middle;\n",
       "    }\n",
       "\n",
       "    .dataframe tbody tr th {\n",
       "        vertical-align: top;\n",
       "    }\n",
       "\n",
       "    .dataframe thead th {\n",
       "        text-align: right;\n",
       "    }\n",
       "</style>\n",
       "<table border=\"1\" class=\"dataframe\">\n",
       "  <thead>\n",
       "    <tr style=\"text-align: right;\">\n",
       "      <th></th>\n",
       "      <th>0</th>\n",
       "      <th>1</th>\n",
       "      <th>2</th>\n",
       "      <th>3</th>\n",
       "      <th>4</th>\n",
       "      <th>5</th>\n",
       "    </tr>\n",
       "  </thead>\n",
       "  <tbody>\n",
       "    <tr>\n",
       "      <th>0</th>\n",
       "      <td>0.035494</td>\n",
       "      <td>0.026652</td>\n",
       "      <td>0.602592</td>\n",
       "      <td>0.059402</td>\n",
       "      <td>0.216486</td>\n",
       "      <td>0.059373</td>\n",
       "    </tr>\n",
       "    <tr>\n",
       "      <th>1</th>\n",
       "      <td>0.278622</td>\n",
       "      <td>0.067144</td>\n",
       "      <td>0.540052</td>\n",
       "      <td>0.017607</td>\n",
       "      <td>0.072253</td>\n",
       "      <td>0.024322</td>\n",
       "    </tr>\n",
       "    <tr>\n",
       "      <th>2</th>\n",
       "      <td>0.111220</td>\n",
       "      <td>0.010002</td>\n",
       "      <td>0.023806</td>\n",
       "      <td>0.203242</td>\n",
       "      <td>0.640339</td>\n",
       "      <td>0.011392</td>\n",
       "    </tr>\n",
       "    <tr>\n",
       "      <th>3</th>\n",
       "      <td>0.800639</td>\n",
       "      <td>0.029094</td>\n",
       "      <td>0.077192</td>\n",
       "      <td>0.039709</td>\n",
       "      <td>0.026180</td>\n",
       "      <td>0.027186</td>\n",
       "    </tr>\n",
       "    <tr>\n",
       "      <th>4</th>\n",
       "      <td>0.033127</td>\n",
       "      <td>0.236562</td>\n",
       "      <td>0.019031</td>\n",
       "      <td>0.061575</td>\n",
       "      <td>0.560622</td>\n",
       "      <td>0.089084</td>\n",
       "    </tr>\n",
       "    <tr>\n",
       "      <th>...</th>\n",
       "      <td>...</td>\n",
       "      <td>...</td>\n",
       "      <td>...</td>\n",
       "      <td>...</td>\n",
       "      <td>...</td>\n",
       "      <td>...</td>\n",
       "    </tr>\n",
       "    <tr>\n",
       "      <th>6526</th>\n",
       "      <td>0.051822</td>\n",
       "      <td>0.050537</td>\n",
       "      <td>0.048493</td>\n",
       "      <td>0.178873</td>\n",
       "      <td>0.624873</td>\n",
       "      <td>0.045403</td>\n",
       "    </tr>\n",
       "    <tr>\n",
       "      <th>6527</th>\n",
       "      <td>0.060200</td>\n",
       "      <td>0.107875</td>\n",
       "      <td>0.053167</td>\n",
       "      <td>0.312189</td>\n",
       "      <td>0.411099</td>\n",
       "      <td>0.055471</td>\n",
       "    </tr>\n",
       "    <tr>\n",
       "      <th>6528</th>\n",
       "      <td>0.035010</td>\n",
       "      <td>0.042009</td>\n",
       "      <td>0.030580</td>\n",
       "      <td>0.432117</td>\n",
       "      <td>0.421827</td>\n",
       "      <td>0.038457</td>\n",
       "    </tr>\n",
       "    <tr>\n",
       "      <th>6529</th>\n",
       "      <td>0.096552</td>\n",
       "      <td>0.095839</td>\n",
       "      <td>0.095855</td>\n",
       "      <td>0.505646</td>\n",
       "      <td>0.109766</td>\n",
       "      <td>0.096342</td>\n",
       "    </tr>\n",
       "    <tr>\n",
       "      <th>6530</th>\n",
       "      <td>0.057551</td>\n",
       "      <td>0.102727</td>\n",
       "      <td>0.055107</td>\n",
       "      <td>0.632862</td>\n",
       "      <td>0.094690</td>\n",
       "      <td>0.057063</td>\n",
       "    </tr>\n",
       "  </tbody>\n",
       "</table>\n",
       "<p>6531 rows × 6 columns</p>\n",
       "</div>"
      ],
      "text/plain": [
       "             0         1         2         3         4         5\n",
       "0     0.035494  0.026652  0.602592  0.059402  0.216486  0.059373\n",
       "1     0.278622  0.067144  0.540052  0.017607  0.072253  0.024322\n",
       "2     0.111220  0.010002  0.023806  0.203242  0.640339  0.011392\n",
       "3     0.800639  0.029094  0.077192  0.039709  0.026180  0.027186\n",
       "4     0.033127  0.236562  0.019031  0.061575  0.560622  0.089084\n",
       "...        ...       ...       ...       ...       ...       ...\n",
       "6526  0.051822  0.050537  0.048493  0.178873  0.624873  0.045403\n",
       "6527  0.060200  0.107875  0.053167  0.312189  0.411099  0.055471\n",
       "6528  0.035010  0.042009  0.030580  0.432117  0.421827  0.038457\n",
       "6529  0.096552  0.095839  0.095855  0.505646  0.109766  0.096342\n",
       "6530  0.057551  0.102727  0.055107  0.632862  0.094690  0.057063\n",
       "\n",
       "[6531 rows x 6 columns]"
      ]
     },
     "execution_count": 3,
     "metadata": {},
     "output_type": "execute_result"
    }
   ],
   "source": [
    "with open('model\\lda_model.pkl', 'rb') as f:\n",
    "  lda_model = pickle.load(f) #import lda model\n",
    "  \n",
    "data = pd.read_csv('dataset/DatasetLegal.csv') #read data\n",
    "question_data = data['question']\n",
    "\n",
    "with open('model/topic_dict.pkl', 'rb') as f:\n",
    "  topic_dict = pickle.load(f)\n",
    "\n",
    "with open('model/question_lda.pkl', 'rb') as f:\n",
    "   question_lda = pickle.load(f)\n",
    "\n",
    "with open('model/id2word.pkl', 'rb') as f:\n",
    "   id2word = pickle.load(f)\n",
    "\n",
    "for each_doc in question_lda:\n",
    "    i = 0\n",
    "    for each_topic in each_doc:\n",
    "        if(each_topic[0] == i): i+=1\n",
    "        else: \n",
    "            each_doc.insert(i, (i, 0))\n",
    "            i+=1\n",
    "    while(i < 6):\n",
    "        each_doc.append((i, 0))\n",
    "        i+=1\n",
    "list_topic = []\n",
    "for each_doc in question_lda:\n",
    "    list_topic_each_doc = []\n",
    "    for each_topic in each_doc:\n",
    "        list_topic_each_doc.append(each_topic[1])\n",
    "    list_topic.append(list_topic_each_doc)\n",
    "doc_topic_dist = np.array(list_topic)\n",
    "df = pd.DataFrame(list_topic)\n",
    "df"
   ]
  },
  {
   "cell_type": "code",
   "execution_count": 4,
   "metadata": {},
   "outputs": [
    {
     "data": {
      "text/plain": [
       "array([[ 1.        , -0.33749527, -0.03992881, -0.17662171, -0.3771355 ,\n",
       "        -0.2065795 ],\n",
       "       [-0.33749527,  1.        , -0.14726582, -0.02187331, -0.44984629,\n",
       "        -0.17534838],\n",
       "       [-0.03992881, -0.14726582,  1.        , -0.14462529, -0.35653624,\n",
       "        -0.12339545],\n",
       "       [-0.17662171, -0.02187331, -0.14462529,  1.        , -0.11586161,\n",
       "        -0.05389124],\n",
       "       [-0.3771355 , -0.44984629, -0.35653624, -0.11586161,  1.        ,\n",
       "         0.03120157],\n",
       "       [-0.2065795 , -0.17534838, -0.12339545, -0.05389124,  0.03120157,\n",
       "         1.        ]])"
      ]
     },
     "execution_count": 4,
     "metadata": {},
     "output_type": "execute_result"
    }
   ],
   "source": [
    "topic_corr = np.corrcoef(list_topic, rowvar=False)\n",
    "topic_corr"
   ]
  },
  {
   "cell_type": "code",
   "execution_count": 5,
   "metadata": {},
   "outputs": [
    {
     "data": {
      "image/png": "[encoded data removed]",
      "text/plain": [
       "<Figure size 640x480 with 2 Axes>"
      ]
     },
     "metadata": {},
     "output_type": "display_data"
    }
   ],
   "source": [
    "num_topics = 6\n",
    "sns.heatmap(topic_corr, cmap='coolwarm', annot=True, fmt='.2f', xticklabels=range(num_topics), yticklabels=range(num_topics))\n",
    "plt.title('Topic Correlation Matrix')\n",
    "plt.show()"
   ]
  },
  {
   "cell_type": "code",
   "execution_count": 16,
   "metadata": {},
   "outputs": [],
   "source": [
    "# fig, ax = plt.subplots()\n",
    "# heatmap = ax.pcolor(doc_topic_dist, cmap='Blues')\n",
    "\n",
    "# cbar = plt.colorbar(heatmap)\n",
    "\n",
    "# # Set the x-axis and y-axis labels\n",
    "# ax.set_xlabel('Topic')\n",
    "# ax.set_ylabel('Document')\n",
    "\n",
    "# # Set the x-axis and y-axis tick labels\n",
    "# topics = range(doc_topic_dist.shape[1])\n",
    "# documents = range(doc_topic_dist.shape[0])\n",
    "# ax.set_xticks(np.arange(len(topics))+0.5, minor=False)\n",
    "# ax.set_yticks(np.arange(len(documents))+0.5, minor=False)\n",
    "# ax.set_xticklabels(topics, minor=False)\n",
    "# ax.set_yticklabels(documents, minor=False)\n",
    "# plt.xticks(rotation=90)\n",
    "# plt.show()"
   ]
  },
  {
   "cell_type": "code",
   "execution_count": 10,
   "metadata": {},
   "outputs": [
    {
     "ename": "ValueError",
     "evalue": "too many values to unpack (expected 2)",
     "output_type": "error",
     "traceback": [
      "\u001b[1;31m---------------------------------------------------------------------------\u001b[0m",
      "\u001b[1;31mValueError\u001b[0m                                Traceback (most recent call last)",
      "Cell \u001b[1;32mIn[10], line 4\u001b[0m\n\u001b[0;32m      2\u001b[0m \u001b[39mwith\u001b[39;00m \u001b[39mopen\u001b[39m(\u001b[39m'\u001b[39m\u001b[39mmodel/topic_dict.pkl\u001b[39m\u001b[39m'\u001b[39m, \u001b[39m'\u001b[39m\u001b[39mrb\u001b[39m\u001b[39m'\u001b[39m) \u001b[39mas\u001b[39;00m f:\n\u001b[0;32m      3\u001b[0m     topic_dict \u001b[39m=\u001b[39m pickle\u001b[39m.\u001b[39mload(f)\n\u001b[1;32m----> 4\u001b[0m sub_list_topic \u001b[39m=\u001b[39m {topic_dict[topic]: prob \u001b[39mfor\u001b[39;00m topic, prob \u001b[39min\u001b[39;00m list_topic}\n\u001b[0;32m      5\u001b[0m sns\u001b[39m.\u001b[39mset(style\u001b[39m=\u001b[39m\u001b[39m\"\u001b[39m\u001b[39mwhite\u001b[39m\u001b[39m\"\u001b[39m)\n\u001b[0;32m      6\u001b[0m sns\u001b[39m.\u001b[39mheatmap(sub_list_topic, cmap\u001b[39m=\u001b[39m\u001b[39m\"\u001b[39m\u001b[39mRdYlGn\u001b[39m\u001b[39m\"\u001b[39m)\n",
      "Cell \u001b[1;32mIn[10], line 4\u001b[0m, in \u001b[0;36m<dictcomp>\u001b[1;34m(.0)\u001b[0m\n\u001b[0;32m      2\u001b[0m \u001b[39mwith\u001b[39;00m \u001b[39mopen\u001b[39m(\u001b[39m'\u001b[39m\u001b[39mmodel/topic_dict.pkl\u001b[39m\u001b[39m'\u001b[39m, \u001b[39m'\u001b[39m\u001b[39mrb\u001b[39m\u001b[39m'\u001b[39m) \u001b[39mas\u001b[39;00m f:\n\u001b[0;32m      3\u001b[0m     topic_dict \u001b[39m=\u001b[39m pickle\u001b[39m.\u001b[39mload(f)\n\u001b[1;32m----> 4\u001b[0m sub_list_topic \u001b[39m=\u001b[39m {topic_dict[topic]: prob \u001b[39mfor\u001b[39;00m topic, prob \u001b[39min\u001b[39;00m list_topic}\n\u001b[0;32m      5\u001b[0m sns\u001b[39m.\u001b[39mset(style\u001b[39m=\u001b[39m\u001b[39m\"\u001b[39m\u001b[39mwhite\u001b[39m\u001b[39m\"\u001b[39m)\n\u001b[0;32m      6\u001b[0m sns\u001b[39m.\u001b[39mheatmap(sub_list_topic, cmap\u001b[39m=\u001b[39m\u001b[39m\"\u001b[39m\u001b[39mRdYlGn\u001b[39m\u001b[39m\"\u001b[39m)\n",
      "\u001b[1;31mValueError\u001b[0m: too many values to unpack (expected 2)"
     ]
    }
   ],
   "source": [
    "# Create heatmap\n",
    "with open('model/topic_dict.pkl', 'rb') as f:\n",
    "    topic_dict = pickle.load(f)\n",
    "sub_list_topic = {topic_dict[topic]: prob for topic, prob in list_topic}\n",
    "sns.set(style=\"white\")\n",
    "sns.heatmap(sub_list_topic, cmap=\"RdYlGn\")\n",
    "\n",
    "# Set title and axis labels\n",
    "plt.title(\"LDA Topic Distributions\")\n",
    "plt.xlabel(\"Document ID\")\n",
    "plt.ylabel(\"Topic ID\")\n",
    "\n",
    "# Show the plot\n",
    "plt.show()"
   ]
  },
  {
   "cell_type": "code",
   "execution_count": null,
   "metadata": {},
   "outputs": [],
   "source": []
  },
  {
   "cell_type": "code",
   "execution_count": 9,
   "metadata": {},
   "outputs": [
    {
     "ename": "ValueError",
     "evalue": "setting an array element with a sequence. The requested array would exceed the maximum number of dimension of 1.",
     "output_type": "error",
     "traceback": [
      "\u001b[1;31m---------------------------------------------------------------------------\u001b[0m",
      "\u001b[1;31mValueError\u001b[0m                                Traceback (most recent call last)",
      "Cell \u001b[1;32mIn[9], line 5\u001b[0m\n\u001b[0;32m      3\u001b[0m topic_word_matrix \u001b[39m=\u001b[39m np\u001b[39m.\u001b[39mzeros((num_topics, num_words))\n\u001b[0;32m      4\u001b[0m \u001b[39mfor\u001b[39;00m i \u001b[39min\u001b[39;00m \u001b[39mrange\u001b[39m(num_topics):\n\u001b[1;32m----> 5\u001b[0m     topic_word_matrix[i] \u001b[39m=\u001b[39m lda_model\u001b[39m.\u001b[39mget_topic_terms(i, topn\u001b[39m=\u001b[39mnum_words)\n",
      "\u001b[1;31mValueError\u001b[0m: setting an array element with a sequence. The requested array would exceed the maximum number of dimension of 1."
     ]
    }
   ],
   "source": []
  },
  {
   "cell_type": "code",
   "execution_count": null,
   "metadata": {},
   "outputs": [],
   "source": []
  },
  {
   "cell_type": "code",
   "execution_count": null,
   "metadata": {},
   "outputs": [],
   "source": []
  }
 ],
 "metadata": {
  "kernelspec": {
   "display_name": "base",
   "language": "python",
   "name": "python3"
  },
  "language_info": {
   "codemirror_mode": {
    "name": "ipython",
    "version": 3
   },
   "file_extension": ".py",
   "mimetype": "text/x-python",
   "name": "python",
   "nbconvert_exporter": "python",
   "pygments_lexer": "ipython3",
   "version": "3.9.13"
  },
  "orig_nbformat": 4
 },
 "nbformat": 4,
 "nbformat_minor": 2
}
