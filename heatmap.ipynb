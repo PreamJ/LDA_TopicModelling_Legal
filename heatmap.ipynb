{
 "cells": [
  {
   "cell_type": "code",
   "execution_count": 1,
   "metadata": {},
   "outputs": [],
   "source": [
    "import numpy as np\n",
    "import pandas as pd\n",
    "import pickle\n",
    "import umap.umap_ as umap\n",
    "import matplotlib.pyplot as plt"
   ]
  },
  {
   "cell_type": "code",
   "execution_count": 2,
   "metadata": {},
   "outputs": [],
   "source": [
    "with open('model\\lda_model.pkl', 'rb') as f:\n",
    "  lda_model = pickle.load(f) #import lda model\n",
    "  \n",
    "data = pd.read_csv('dataset/DatasetLegal.csv') #read data\n",
    "question_data = data['question']\n",
    "\n",
    "with open('model/topic_dict.pkl', 'rb') as f:\n",
    "  topic_dict = pickle.load(f)\n",
    "\n",
    "with open('model/question_lda.pkl', 'rb') as f:\n",
    "   question_lda = pickle.load(f)\n",
    "\n",
    "for each_doc in question_lda:\n",
    "    i = 0\n",
    "    for each_topic in each_doc:\n",
    "        if(each_topic[0] == i): i+=1\n",
    "        else: \n",
    "            each_doc.insert(i, (i, 0))\n",
    "            i+=1\n",
    "    while(i < 6):\n",
    "        each_doc.append((i, 0))\n",
    "        i+=1\n",
    "list_topic = []\n",
    "for each_doc in question_lda:\n",
    "    list_topic_each_doc = []\n",
    "    for each_topic in each_doc:\n",
    "        list_topic_each_doc.append(each_topic[1])\n",
    "    list_topic.append(list_topic_each_doc)\n",
    "doc_topic_dist = np.array(list_topic)\n"
   ]
  },
  {
   "cell_type": "code",
   "execution_count": 3,
   "metadata": {},
   "outputs": [],
   "source": [
    "fig, ax = plt.subplots()\n",
    "heatmap = ax.pcolor(doc_topic_dist, cmap='Blues')\n",
    "\n",
    "cbar = plt.colorbar(heatmap)\n",
    "\n",
    "# Set the x-axis and y-axis labels\n",
    "ax.set_xlabel('Topic')\n",
    "ax.set_ylabel('Document')\n",
    "\n",
    "# Set the x-axis and y-axis tick labels\n",
    "topics = range(doc_topic_dist.shape[1])\n",
    "documents = range(doc_topic_dist.shape[0])\n",
    "ax.set_xticks(np.arange(len(topics))+0.5, minor=False)\n",
    "ax.set_yticks(np.arange(len(documents))+0.5, minor=False)\n",
    "ax.set_xticklabels(topics, minor=False)\n",
    "ax.set_yticklabels(documents, minor=False)\n",
    "plt.xticks(rotation=90)\n",
    "plt.show()"
   ]
  },
  {
   "cell_type": "code",
   "execution_count": null,
   "metadata": {},
   "outputs": [],
   "source": [
    "fig, ax = plt.subplots(figsize=(10, 10))\n",
    "im = ax.imshow(topic_term_matrix, cmap='YlGnBu')\n",
    "\n",
    "x_labels = ['Term ' + str(i+1) for i in range(list_topic.shape[1])]\n",
    "ax.set_xticks(np.arange(len(x_labels)))\n",
    "ax.set_xticklabels(x_labels, rotation=90)\n",
    "\n",
    "y_labels = ['Topic ' + str(i+1) for i in range(topic_term_matrix.shape[0])]\n",
    "ax.set_yticks(np.arange(len(y_labels)))\n",
    "ax.set_yticklabels(y_labels)\n",
    "\n",
    "cbar = ax.figure.colorbar(im, ax=ax)\n",
    "cbar.ax.set_ylabel(\"Probability\", rotation=-90, va=\"bottom\")\n",
    "\n",
    "ax.set_title(\"Heatmap\")\n",
    "plt.show()"
   ]
  },
  {
   "cell_type": "code",
   "execution_count": null,
   "metadata": {},
   "outputs": [],
   "source": []
  },
  {
   "cell_type": "code",
   "execution_count": null,
   "metadata": {},
   "outputs": [],
   "source": []
  },
  {
   "cell_type": "code",
   "execution_count": null,
   "metadata": {},
   "outputs": [],
   "source": []
  },
  {
   "cell_type": "code",
   "execution_count": null,
   "metadata": {},
   "outputs": [],
   "source": []
  },
  {
   "cell_type": "code",
   "execution_count": null,
   "metadata": {},
   "outputs": [],
   "source": []
  }
 ],
 "metadata": {
  "kernelspec": {
   "display_name": "base",
   "language": "python",
   "name": "python3"
  },
  "language_info": {
   "codemirror_mode": {
    "name": "ipython",
    "version": 3
   },
   "file_extension": ".py",
   "mimetype": "text/x-python",
   "name": "python",
   "nbconvert_exporter": "python",
   "pygments_lexer": "ipython3",
   "version": "3.9.13"
  },
  "orig_nbformat": 4
 },
 "nbformat": 4,
 "nbformat_minor": 2
}
