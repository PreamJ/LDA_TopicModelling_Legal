{
  "nbformat": 4,
  "nbformat_minor": 0,
  "metadata": {
    "colab": {
      "provenance": [],
      "mount_file_id": "19XoE5afKQHbbujCQRuvOAsl77XouBQOG",
      "authorship_tag": "ABX9TyMocFdrNJnsDhWsYYDBoNTM",
      "include_colab_link": true
    },
    "kernelspec": {
      "name": "python3",
      "display_name": "Python 3"
    },
    "language_info": {
      "name": "python"
    },
    "gpuClass": "standard"
  },
  "cells": [
    {
      "cell_type": "markdown",
      "metadata": {
        "id": "view-in-github",
        "colab_type": "text"
      },
      "source": [
        "<a href=\"https://colab.research.google.com/github/PreamJ/LDA_TopicModelling_Legal/blob/main/topicmodeling_answer03_coherence.ipynb\" target=\"_parent\"><img src=\"https://colab.research.google.com/assets/colab-badge.svg\" alt=\"Open In Colab\"/></a>"
      ]
    },
    {
      "cell_type": "code",
      "execution_count": null,
      "metadata": {
        "colab": {
          "base_uri": "https://localhost:8080/"
        },
        "id": "FQmHuq7uno0I",
        "outputId": "bf53d6e1-9cba-49c5-936e-05f5c01ebb76"
      },
      "outputs": [
        {
          "output_type": "stream",
          "name": "stdout",
          "text": [
            "Looking in indexes: https://pypi.org/simple, https://us-python.pkg.dev/colab-wheels/public/simple/\n",
            "Requirement already satisfied: gensim in /usr/local/lib/python3.9/dist-packages (4.3.1)\n",
            "Requirement already satisfied: smart-open>=1.8.1 in /usr/local/lib/python3.9/dist-packages (from gensim) (6.3.0)\n",
            "Requirement already satisfied: scipy>=1.7.0 in /usr/local/lib/python3.9/dist-packages (from gensim) (1.10.1)\n",
            "Requirement already satisfied: numpy>=1.18.5 in /usr/local/lib/python3.9/dist-packages (from gensim) (1.22.4)\n"
          ]
        }
      ],
      "source": [
        "!pip install -U gensim"
      ]
    },
    {
      "cell_type": "code",
      "source": [
        "import pandas as pd\n",
        "import re\n",
        "!pip install pythainlp\n",
        "from pythainlp.tokenize import word_tokenize\n",
        "from pythainlp.corpus import thai_stopwords\n",
        "from wordcloud import WordCloud\n",
        "from sklearn.feature_extraction.text import CountVectorizer\n",
        "import gensim \n",
        "import gensim.corpora as corpora\n",
        "from gensim import models\n",
        "!pip install pyldavis\n",
        "import pyLDAvis\n",
        "import pyLDAvis.gensim\n",
        "from pprint import pprint\n",
        "import pickle \n",
        "import os\n",
        "import matplotlib.pyplot as plt\n",
        "from gensim.models import CoherenceModel"
      ],
      "metadata": {
        "colab": {
          "base_uri": "https://localhost:8080/"
        },
        "id": "4CPF0NVQnu26",
        "outputId": "e79c414f-cb2b-442e-e000-0cdd41881997"
      },
      "execution_count": null,
      "outputs": [
        {
          "output_type": "stream",
          "name": "stdout",
          "text": [
            "Looking in indexes: https://pypi.org/simple, https://us-python.pkg.dev/colab-wheels/public/simple/\n",
            "Collecting pythainlp\n",
            "  Downloading pythainlp-4.0.0-py3-none-any.whl (13.4 MB)\n",
            "\u001b[2K     \u001b[90m━━━━━━━━━━━━━━━━━━━━━━━━━━━━━━━━━━━━━━━\u001b[0m \u001b[32m13.4/13.4 MB\u001b[0m \u001b[31m102.0 MB/s\u001b[0m eta \u001b[36m0:00:00\u001b[0m\n",
            "\u001b[?25hRequirement already satisfied: requests>=2.22.0 in /usr/local/lib/python3.9/dist-packages (from pythainlp) (2.27.1)\n",
            "Requirement already satisfied: charset-normalizer~=2.0.0 in /usr/local/lib/python3.9/dist-packages (from requests>=2.22.0->pythainlp) (2.0.12)\n",
            "Requirement already satisfied: urllib3<1.27,>=1.21.1 in /usr/local/lib/python3.9/dist-packages (from requests>=2.22.0->pythainlp) (1.26.15)\n",
            "Requirement already satisfied: certifi>=2017.4.17 in /usr/local/lib/python3.9/dist-packages (from requests>=2.22.0->pythainlp) (2022.12.7)\n",
            "Requirement already satisfied: idna<4,>=2.5 in /usr/local/lib/python3.9/dist-packages (from requests>=2.22.0->pythainlp) (3.4)\n",
            "Installing collected packages: pythainlp\n",
            "Successfully installed pythainlp-4.0.0\n",
            "Looking in indexes: https://pypi.org/simple, https://us-python.pkg.dev/colab-wheels/public/simple/\n",
            "Collecting pyldavis\n",
            "  Downloading pyLDAvis-3.4.0-py3-none-any.whl (2.6 MB)\n",
            "\u001b[2K     \u001b[90m━━━━━━━━━━━━━━━━━━━━━━━━━━━━━━━━━━━━━━━━\u001b[0m \u001b[32m2.6/2.6 MB\u001b[0m \u001b[31m36.5 MB/s\u001b[0m eta \u001b[36m0:00:00\u001b[0m\n",
            "\u001b[?25hRequirement already satisfied: scipy in /usr/local/lib/python3.9/dist-packages (from pyldavis) (1.10.1)\n",
            "Collecting funcy\n",
            "  Downloading funcy-2.0-py2.py3-none-any.whl (30 kB)\n",
            "Requirement already satisfied: numexpr in /usr/local/lib/python3.9/dist-packages (from pyldavis) (2.8.4)\n",
            "Requirement already satisfied: joblib>=1.2.0 in /usr/local/lib/python3.9/dist-packages (from pyldavis) (1.2.0)\n",
            "Requirement already satisfied: scikit-learn>=1.0.0 in /usr/local/lib/python3.9/dist-packages (from pyldavis) (1.2.2)\n",
            "Requirement already satisfied: setuptools in /usr/local/lib/python3.9/dist-packages (from pyldavis) (67.6.1)\n",
            "Requirement already satisfied: gensim in /usr/local/lib/python3.9/dist-packages (from pyldavis) (4.3.1)\n",
            "Requirement already satisfied: jinja2 in /usr/local/lib/python3.9/dist-packages (from pyldavis) (3.1.2)\n",
            "Requirement already satisfied: pandas>=1.3.4 in /usr/local/lib/python3.9/dist-packages (from pyldavis) (1.5.3)\n",
            "Requirement already satisfied: numpy>=1.22.0 in /usr/local/lib/python3.9/dist-packages (from pyldavis) (1.22.4)\n",
            "Requirement already satisfied: pytz>=2020.1 in /usr/local/lib/python3.9/dist-packages (from pandas>=1.3.4->pyldavis) (2022.7.1)\n",
            "Requirement already satisfied: python-dateutil>=2.8.1 in /usr/local/lib/python3.9/dist-packages (from pandas>=1.3.4->pyldavis) (2.8.2)\n",
            "Requirement already satisfied: threadpoolctl>=2.0.0 in /usr/local/lib/python3.9/dist-packages (from scikit-learn>=1.0.0->pyldavis) (3.1.0)\n",
            "Requirement already satisfied: smart-open>=1.8.1 in /usr/local/lib/python3.9/dist-packages (from gensim->pyldavis) (6.3.0)\n",
            "Requirement already satisfied: MarkupSafe>=2.0 in /usr/local/lib/python3.9/dist-packages (from jinja2->pyldavis) (2.1.2)\n",
            "Requirement already satisfied: six>=1.5 in /usr/local/lib/python3.9/dist-packages (from python-dateutil>=2.8.1->pandas>=1.3.4->pyldavis) (1.16.0)\n",
            "Installing collected packages: funcy, pyldavis\n",
            "Successfully installed funcy-2.0 pyldavis-3.4.0\n"
          ]
        }
      ]
    },
    {
      "cell_type": "code",
      "source": [
        "data = pd.read_csv('/content/drive/MyDrive/dpst_project/dataset/DatasetLegal.csv')\n",
        "data.answer.head()"
      ],
      "metadata": {
        "colab": {
          "base_uri": "https://localhost:8080/"
        },
        "id": "oTJaU0Lbnu5T",
        "outputId": "385f0464-2843-46f4-d3d5-12803ea1fcbc"
      },
      "execution_count": null,
      "outputs": [
        {
          "output_type": "stream",
          "name": "stderr",
          "text": [
            "/usr/local/lib/python3.9/dist-packages/ipykernel/ipkernel.py:283: DeprecationWarning: `should_run_async` will not call `transform_cell` automatically in the future. Please pass the result to `transformed_cell` argument and any exception that happen during thetransform in `preprocessing_exc_tuple` in IPython 7.17 and above.\n",
            "  and should_run_async(code)\n"
          ]
        },
        {
          "output_type": "execute_result",
          "data": {
            "text/plain": [
              "0    ดอกเบี้ยของเงินฝากสินส่วนตัวของภริยาย่อมเป็นดอ...\n",
              "1    คุณสามารถร้องขอเป็นผู้จัดการมรดกของบิดาได้ส่วน...\n",
              "2    เช็คลงวันที่ไม่ตรงกับวันครบกำหนดสัญญา้จะฟ้องร้...\n",
              "3    คุณมีทางเลือกอยู่ประการประการแรกยื่นคำร้องเพื่...\n",
              "4    คดีที่มีการฟ้องร้องแล้วและศาลอ่านคำพิพากษาเกิน...\n",
              "Name: answer, dtype: object"
            ]
          },
          "metadata": {},
          "execution_count": 3
        }
      ]
    },
    {
      "cell_type": "code",
      "source": [
        "str_answer = data['answer'].astype(str)\n",
        "str_answer = str_answer.map(lambda x: re.sub('[,.!?#/]', '', x))\n",
        "str_question = data['question'].astype(str)\n",
        "str_question = str_question.map(lambda x: re.sub('[,.!?*/]', '', x))"
      ],
      "metadata": {
        "colab": {
          "base_uri": "https://localhost:8080/"
        },
        "id": "pB6XRF04nu7-",
        "outputId": "a194a3ea-c6f7-4f45-bcf7-cfca2d4a675d"
      },
      "execution_count": null,
      "outputs": [
        {
          "output_type": "stream",
          "name": "stderr",
          "text": [
            "/usr/local/lib/python3.9/dist-packages/ipykernel/ipkernel.py:283: DeprecationWarning: `should_run_async` will not call `transform_cell` automatically in the future. Please pass the result to `transformed_cell` argument and any exception that happen during thetransform in `preprocessing_exc_tuple` in IPython 7.17 and above.\n",
            "  and should_run_async(code)\n"
          ]
        }
      ]
    },
    {
      "cell_type": "code",
      "source": [
        "sentense_token = []\n",
        "for i in range(len(str_answer)):\n",
        "  sentense_token.append(str_question[i])\n",
        "  sentense_token.append(str_answer[i])\n",
        "\n",
        "train_data = sentense_token[:13061]\n",
        "test_data = sentense_token[13062:]"
      ],
      "metadata": {
        "colab": {
          "base_uri": "https://localhost:8080/"
        },
        "id": "1nROxYfWnu-g",
        "outputId": "51c64419-5a30-4a54-c51f-06a299047d19"
      },
      "execution_count": null,
      "outputs": [
        {
          "output_type": "stream",
          "name": "stderr",
          "text": [
            "/usr/local/lib/python3.9/dist-packages/ipykernel/ipkernel.py:283: DeprecationWarning: `should_run_async` will not call `transform_cell` automatically in the future. Please pass the result to `transformed_cell` argument and any exception that happen during thetransform in `preprocessing_exc_tuple` in IPython 7.17 and above.\n",
            "  and should_run_async(code)\n"
          ]
        }
      ]
    },
    {
      "cell_type": "code",
      "source": [
        "word_token_answer = []\n",
        "for sentense in train_data:\n",
        "  word = word_tokenize(sentense, engine='newmm')\n",
        "  word_token_answer.append(word)\n",
        "\n",
        "print(word_token_answer[0][:10])"
      ],
      "metadata": {
        "colab": {
          "base_uri": "https://localhost:8080/"
        },
        "id": "ryLP1eX1nvBJ",
        "outputId": "7335f87c-81e0-4a85-ac3b-c99778450949"
      },
      "execution_count": null,
      "outputs": [
        {
          "output_type": "stream",
          "name": "stderr",
          "text": [
            "/usr/local/lib/python3.9/dist-packages/ipykernel/ipkernel.py:283: DeprecationWarning: `should_run_async` will not call `transform_cell` automatically in the future. Please pass the result to `transformed_cell` argument and any exception that happen during thetransform in `preprocessing_exc_tuple` in IPython 7.17 and above.\n",
            "  and should_run_async(code)\n"
          ]
        },
        {
          "output_type": "stream",
          "name": "stdout",
          "text": [
            "['ดิฉัน', 'มีเรื่อง', 'ปรึกษา', 'เกี่ยวกับ', 'คดี', 'ครอบครัว', 'คือ', 'ว่า', 'ดิฉัน', 'พอ']\n"
          ]
        }
      ]
    },
    {
      "cell_type": "code",
      "source": [
        "stopwords = list(thai_stopwords())\n",
        "read_stopwords = pd.read_csv('/content/drive/MyDrive/dpst_project/dataset/add_stopwords.csv')\n",
        "add_stopwords = read_stopwords['stopword'].values.tolist()\n",
        "processed_answer = []\n",
        "for sentense in word_token_answer:\n",
        "  each_sentense = []\n",
        "  for word in sentense:\n",
        "    if(word not in stopwords + add_stopwords):\n",
        "      each_sentense.append(word)\n",
        "  processed_answer.append(each_sentense)\n",
        "print(processed_answer[0][:8])"
      ],
      "metadata": {
        "colab": {
          "base_uri": "https://localhost:8080/"
        },
        "id": "Acui5N_qnvDB",
        "outputId": "47f7a77d-1c65-4afc-a06f-2fe387489c91"
      },
      "execution_count": null,
      "outputs": [
        {
          "output_type": "stream",
          "name": "stderr",
          "text": [
            "/usr/local/lib/python3.9/dist-packages/ipykernel/ipkernel.py:283: DeprecationWarning: `should_run_async` will not call `transform_cell` automatically in the future. Please pass the result to `transformed_cell` argument and any exception that happen during thetransform in `preprocessing_exc_tuple` in IPython 7.17 and above.\n",
            "  and should_run_async(code)\n"
          ]
        },
        {
          "output_type": "stream",
          "name": "stdout",
          "text": [
            "['มีเรื่อง', 'ปรึกษา', 'ครอบครัว', 'สินสมรส', 'สินส่วนตัว', 'การทราบ', 'ข้อเท็จจริง', 'วิธีการ']\n"
          ]
        }
      ]
    },
    {
      "cell_type": "code",
      "source": [
        "id2word = corpora.Dictionary(processed_answer)\n",
        "corpus = []\n",
        "for text in processed_answer:\n",
        "  vec = id2word.doc2bow(text)\n",
        "  corpus.append(vec)"
      ],
      "metadata": {
        "colab": {
          "base_uri": "https://localhost:8080/"
        },
        "id": "bzk7urm1nvE-",
        "outputId": "b9bef6ff-02f7-4e89-cd48-0836002db8aa"
      },
      "execution_count": null,
      "outputs": [
        {
          "output_type": "stream",
          "name": "stderr",
          "text": [
            "/usr/local/lib/python3.9/dist-packages/ipykernel/ipkernel.py:283: DeprecationWarning: `should_run_async` will not call `transform_cell` automatically in the future. Please pass the result to `transformed_cell` argument and any exception that happen during thetransform in `preprocessing_exc_tuple` in IPython 7.17 and above.\n",
            "  and should_run_async(code)\n"
          ]
        }
      ]
    },
    {
      "cell_type": "code",
      "source": [
        "num_topics = range(4, 20)\n",
        "\n",
        "alpha_values = [0.01, 0.05, 0.1, 0.5, 0.9]\n",
        "\n",
        "beta_values = [0.01, 0.05, 0.1, 0.5, 0.9]\n",
        "\n",
        "# Initialize lists to store coherence scores and model parameters\n",
        "coherence_scores = []\n",
        "topic_params = []\n",
        "alpha_params = []\n",
        "beta_params = []\n",
        "\n",
        "# Loop over different combinations of topic, alpha, and beta parameter values\n",
        "for t in num_topics:\n",
        "    for a in alpha_values:\n",
        "        for b in beta_values:\n",
        "            \n",
        "            # Train the LDA model with the given parameters\n",
        "            lda_model = gensim.models.ldamodel.LdaModel(corpus=corpus,\n",
        "                                                        id2word=id2word,\n",
        "                                                        num_topics=t,\n",
        "                                                        iterations=100,\n",
        "                                                        chunksize=200,\n",
        "                                                        passes=5,\n",
        "                                                        alpha=a,\n",
        "                                                        eta=b)\n",
        "            \n",
        "            # Calculate coherence score using c_v coherence measure\n",
        "            coherence_model_lda = CoherenceModel(model=lda_model, texts=processed_answer, dictionary=id2word, coherence='c_v')\n",
        "            coherence_score = coherence_model_lda.get_coherence()\n",
        "            \n",
        "            # Append the coherence score and model parameters to the lists\n",
        "            coherence_scores.append(coherence_score)\n",
        "            topic_params.append(t)\n",
        "            alpha_params.append(a)\n",
        "            beta_params.append(b)\n",
        "\n",
        "# Find the combination of parameters that yields the highest coherence score\n",
        "max_score_index = coherence_scores.index(max(coherence_scores))\n",
        "optimal_topic_param = topic_params[max_score_index]\n",
        "optimal_alpha_param = alpha_params[max_score_index]\n",
        "optimal_beta_param = beta_params[max_score_index]\n",
        "\n",
        "print(f\"Optimal number of topics: {optimal_topic_param}\")\n",
        "print(f\"Optimal alpha value: {optimal_alpha_param}\")\n",
        "print(f\"Optimal beta value: {optimal_beta_param}\")\n",
        "print(f\"Coherence score: {max(coherence_scores)}\")"
      ],
      "metadata": {
        "id": "DKZUQZg6HELd",
        "colab": {
          "base_uri": "https://localhost:8080/"
        },
        "outputId": "1bb0e11b-258b-43f0-c409-53bf61ba35d3"
      },
      "execution_count": null,
      "outputs": [
        {
          "output_type": "stream",
          "name": "stderr",
          "text": [
            "/usr/local/lib/python3.9/dist-packages/ipykernel/ipkernel.py:283: DeprecationWarning: `should_run_async` will not call `transform_cell` automatically in the future. Please pass the result to `transformed_cell` argument and any exception that happen during thetransform in `preprocessing_exc_tuple` in IPython 7.17 and above.\n",
            "  and should_run_async(code)\n"
          ]
        },
        {
          "output_type": "stream",
          "name": "stdout",
          "text": [
            "Optimal number of topics: 6\n",
            "Optimal alpha value: 0.9\n",
            "Optimal beta value: 0.5\n",
            "Coherence score: 0.6583642700934113\n"
          ]
        }
      ]
    },
    {
      "cell_type": "code",
      "source": [
        "lda_model.log_perplexity(corpus)"
      ],
      "metadata": {
        "id": "pmxmMLOcbqPY",
        "colab": {
          "base_uri": "https://localhost:8080/"
        },
        "outputId": "ebade9de-6ef2-42a0-e4b4-028f744b8b8f"
      },
      "execution_count": null,
      "outputs": [
        {
          "output_type": "stream",
          "name": "stderr",
          "text": [
            "/usr/local/lib/python3.9/dist-packages/ipykernel/ipkernel.py:283: DeprecationWarning: `should_run_async` will not call `transform_cell` automatically in the future. Please pass the result to `transformed_cell` argument and any exception that happen during thetransform in `preprocessing_exc_tuple` in IPython 7.17 and above.\n",
            "  and should_run_async(code)\n"
          ]
        },
        {
          "output_type": "execute_result",
          "data": {
            "text/plain": [
              "-7.709774148696631"
            ]
          },
          "metadata": {},
          "execution_count": 11
        }
      ]
    }
  ]
}