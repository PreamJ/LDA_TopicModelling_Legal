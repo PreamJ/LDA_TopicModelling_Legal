{
  "cells": [
    {
      "cell_type": "markdown",
      "metadata": {
        "id": "view-in-github",
        "colab_type": "text"
      },
      "source": [
        "<a href=\"https://colab.research.google.com/github/PreamJ/LDA_TopicModelling_Legal/blob/main/topicmodelling_answer02_main.ipynb\" target=\"_parent\"><img src=\"https://colab.research.google.com/assets/colab-badge.svg\" alt=\"Open In Colab\"/></a>"
      ]
    },
    {
      "cell_type": "code",
      "execution_count": null,
      "metadata": {
        "colab": {
          "base_uri": "https://localhost:8080/"
        },
        "id": "5RmmUraP-rVk",
        "outputId": "4040e318-8ceb-431d-9a34-3750b00fdf27"
      },
      "outputs": [
        {
          "output_type": "stream",
          "name": "stdout",
          "text": [
            "Looking in indexes: https://pypi.org/simple, https://us-python.pkg.dev/colab-wheels/public/simple/\n",
            "Requirement already satisfied: gensim in /usr/local/lib/python3.9/dist-packages (4.3.1)\n",
            "Requirement already satisfied: scipy>=1.7.0 in /usr/local/lib/python3.9/dist-packages (from gensim) (1.10.1)\n",
            "Requirement already satisfied: numpy>=1.18.5 in /usr/local/lib/python3.9/dist-packages (from gensim) (1.22.4)\n",
            "Requirement already satisfied: smart-open>=1.8.1 in /usr/local/lib/python3.9/dist-packages (from gensim) (6.3.0)\n"
          ]
        }
      ],
      "source": [
        "!pip install -U gensim"
      ]
    },
    {
      "cell_type": "code",
      "execution_count": null,
      "metadata": {
        "colab": {
          "base_uri": "https://localhost:8080/"
        },
        "id": "CTEJbmAqNPj9",
        "outputId": "79284c71-967c-4c0c-8a20-f8fcca02aa11"
      },
      "outputs": [
        {
          "output_type": "stream",
          "name": "stdout",
          "text": [
            "Looking in indexes: https://pypi.org/simple, https://us-python.pkg.dev/colab-wheels/public/simple/\n",
            "Collecting pythainlp\n",
            "  Downloading pythainlp-3.1.1-py3-none-any.whl (9.6 MB)\n",
            "\u001b[2K     \u001b[90m━━━━━━━━━━━━━━━━━━━━━━━━━━━━━━━━━━━━━━━━\u001b[0m \u001b[32m9.6/9.6 MB\u001b[0m \u001b[31m57.2 MB/s\u001b[0m eta \u001b[36m0:00:00\u001b[0m\n",
            "\u001b[?25hRequirement already satisfied: requests>=2.22.0 in /usr/local/lib/python3.9/dist-packages (from pythainlp) (2.27.1)\n",
            "Requirement already satisfied: urllib3<1.27,>=1.21.1 in /usr/local/lib/python3.9/dist-packages (from requests>=2.22.0->pythainlp) (1.26.15)\n",
            "Requirement already satisfied: certifi>=2017.4.17 in /usr/local/lib/python3.9/dist-packages (from requests>=2.22.0->pythainlp) (2022.12.7)\n",
            "Requirement already satisfied: charset-normalizer~=2.0.0 in /usr/local/lib/python3.9/dist-packages (from requests>=2.22.0->pythainlp) (2.0.12)\n",
            "Requirement already satisfied: idna<4,>=2.5 in /usr/local/lib/python3.9/dist-packages (from requests>=2.22.0->pythainlp) (3.4)\n",
            "Installing collected packages: pythainlp\n",
            "Successfully installed pythainlp-3.1.1\n",
            "Looking in indexes: https://pypi.org/simple, https://us-python.pkg.dev/colab-wheels/public/simple/\n",
            "Collecting pyldavis\n",
            "  Downloading pyLDAvis-3.4.0-py3-none-any.whl (2.6 MB)\n",
            "\u001b[2K     \u001b[90m━━━━━━━━━━━━━━━━━━━━━━━━━━━━━━━━━━━━━━━━\u001b[0m \u001b[32m2.6/2.6 MB\u001b[0m \u001b[31m29.8 MB/s\u001b[0m eta \u001b[36m0:00:00\u001b[0m\n",
            "\u001b[?25hRequirement already satisfied: scipy in /usr/local/lib/python3.9/dist-packages (from pyldavis) (1.10.1)\n",
            "Requirement already satisfied: numpy>=1.22.0 in /usr/local/lib/python3.9/dist-packages (from pyldavis) (1.22.4)\n",
            "Collecting joblib>=1.2.0\n",
            "  Downloading joblib-1.2.0-py3-none-any.whl (297 kB)\n",
            "\u001b[2K     \u001b[90m━━━━━━━━━━━━━━━━━━━━━━━━━━━━━━━━━━━━━━\u001b[0m \u001b[32m298.0/298.0 KB\u001b[0m \u001b[31m26.6 MB/s\u001b[0m eta \u001b[36m0:00:00\u001b[0m\n",
            "\u001b[?25hRequirement already satisfied: jinja2 in /usr/local/lib/python3.9/dist-packages (from pyldavis) (3.1.2)\n",
            "Requirement already satisfied: gensim in /usr/local/lib/python3.9/dist-packages (from pyldavis) (4.3.1)\n",
            "Requirement already satisfied: pandas>=1.3.4 in /usr/local/lib/python3.9/dist-packages (from pyldavis) (1.4.4)\n",
            "Requirement already satisfied: numexpr in /usr/local/lib/python3.9/dist-packages (from pyldavis) (2.8.4)\n",
            "Requirement already satisfied: setuptools in /usr/local/lib/python3.9/dist-packages (from pyldavis) (67.6.1)\n",
            "Collecting funcy\n",
            "  Downloading funcy-2.0-py2.py3-none-any.whl (30 kB)\n",
            "Requirement already satisfied: scikit-learn>=1.0.0 in /usr/local/lib/python3.9/dist-packages (from pyldavis) (1.2.2)\n",
            "Requirement already satisfied: python-dateutil>=2.8.1 in /usr/local/lib/python3.9/dist-packages (from pandas>=1.3.4->pyldavis) (2.8.2)\n",
            "Requirement already satisfied: pytz>=2020.1 in /usr/local/lib/python3.9/dist-packages (from pandas>=1.3.4->pyldavis) (2022.7.1)\n",
            "Requirement already satisfied: threadpoolctl>=2.0.0 in /usr/local/lib/python3.9/dist-packages (from scikit-learn>=1.0.0->pyldavis) (3.1.0)\n",
            "Requirement already satisfied: smart-open>=1.8.1 in /usr/local/lib/python3.9/dist-packages (from gensim->pyldavis) (6.3.0)\n",
            "Requirement already satisfied: MarkupSafe>=2.0 in /usr/local/lib/python3.9/dist-packages (from jinja2->pyldavis) (2.1.2)\n",
            "Requirement already satisfied: six>=1.5 in /usr/local/lib/python3.9/dist-packages (from python-dateutil>=2.8.1->pandas>=1.3.4->pyldavis) (1.16.0)\n",
            "Installing collected packages: funcy, joblib, pyldavis\n",
            "  Attempting uninstall: joblib\n",
            "    Found existing installation: joblib 1.1.1\n",
            "    Uninstalling joblib-1.1.1:\n",
            "      Successfully uninstalled joblib-1.1.1\n",
            "\u001b[31mERROR: pip's dependency resolver does not currently take into account all the packages that are installed. This behaviour is the source of the following dependency conflicts.\n",
            "pandas-profiling 3.2.0 requires joblib~=1.1.0, but you have joblib 1.2.0 which is incompatible.\u001b[0m\u001b[31m\n",
            "\u001b[0mSuccessfully installed funcy-2.0 joblib-1.2.0 pyldavis-3.4.0\n"
          ]
        }
      ],
      "source": [
        "import pandas as pd\n",
        "import numpy as np\n",
        "import re\n",
        "!pip install pythainlp\n",
        "from pythainlp.tokenize import word_tokenize\n",
        "from pythainlp.corpus import thai_stopwords\n",
        "from wordcloud import WordCloud\n",
        "from gensim import corpora, models, similarities\n",
        "!pip install pyldavis\n",
        "import pyLDAvis\n",
        "import pyLDAvis.gensim\n",
        "from pprint import pprint\n",
        "import pickle \n",
        "import os\n",
        "import matplotlib.pyplot as plt\n",
        "from gensim.models import CoherenceModel\n",
        "from gensim.test.utils import datapath\n",
        "import gensim\n",
        "import random\n",
        "from gensim.models.ldamodel import LdaModel\n",
        "from sklearn.metrics.pairwise import cosine_similarity\n",
        "from sklearn.decomposition import LatentDirichletAllocation\n",
        "from sklearn.feature_extraction.text import CountVectorizer"
      ]
    },
    {
      "cell_type": "code",
      "execution_count": null,
      "metadata": {
        "colab": {
          "base_uri": "https://localhost:8080/"
        },
        "id": "uaboNqBXqTVn",
        "outputId": "37fc4357-9b3d-46ed-e7ea-7a9379f332b5"
      },
      "outputs": [
        {
          "output_type": "stream",
          "name": "stderr",
          "text": [
            "/usr/local/lib/python3.9/dist-packages/ipykernel/ipkernel.py:283: DeprecationWarning: `should_run_async` will not call `transform_cell` automatically in the future. Please pass the result to `transformed_cell` argument and any exception that happen during thetransform in `preprocessing_exc_tuple` in IPython 7.17 and above.\n",
            "  and should_run_async(code)\n"
          ]
        },
        {
          "output_type": "execute_result",
          "data": {
            "text/plain": [
              "0    ดอกเบี้ยของเงินฝากสินส่วนตัวของภริยาย่อมเป็นดอ...\n",
              "1    คุณสามารถร้องขอเป็นผู้จัดการมรดกของบิดาได้ส่วน...\n",
              "2    เช็คลงวันที่ไม่ตรงกับวันครบกำหนดสัญญา้จะฟ้องร้...\n",
              "3    คุณมีทางเลือกอยู่ประการประการแรกยื่นคำร้องเพื่...\n",
              "4    คดีที่มีการฟ้องร้องแล้วและศาลอ่านคำพิพากษาเกิน...\n",
              "Name: answer, dtype: object"
            ]
          },
          "metadata": {},
          "execution_count": 3
        }
      ],
      "source": [
        "data = pd.read_csv('/content/drive/MyDrive/dpst_project/dataset/DatasetLegal.csv')\n",
        "data.answer.head()"
      ]
    },
    {
      "cell_type": "code",
      "execution_count": null,
      "metadata": {
        "colab": {
          "base_uri": "https://localhost:8080/"
        },
        "id": "ggv0bXhgqXdP",
        "outputId": "08daf61c-9865-4634-e86b-35ef005d4b40"
      },
      "outputs": [
        {
          "output_type": "stream",
          "name": "stderr",
          "text": [
            "/usr/local/lib/python3.9/dist-packages/ipykernel/ipkernel.py:283: DeprecationWarning: `should_run_async` will not call `transform_cell` automatically in the future. Please pass the result to `transformed_cell` argument and any exception that happen during thetransform in `preprocessing_exc_tuple` in IPython 7.17 and above.\n",
            "  and should_run_async(code)\n",
            "<>:2: DeprecationWarning: invalid escape sequence \\.\n",
            "<>:2: DeprecationWarning: invalid escape sequence \\.\n",
            "<ipython-input-4-fb7c88273203>:2: DeprecationWarning: invalid escape sequence \\.\n",
            "  str_answer = str_answer.map(lambda x: re.sub('[,\\.!?#]', '', x))\n"
          ]
        }
      ],
      "source": [
        "str_answer = data['answer'].astype(str)\n",
        "str_answer = str_answer.map(lambda x: re.sub('[,\\.!?#]', '', x))"
      ]
    },
    {
      "cell_type": "code",
      "execution_count": null,
      "metadata": {
        "colab": {
          "base_uri": "https://localhost:8080/"
        },
        "id": "e93ptt4KtzMS",
        "outputId": "a712f91d-6a2d-4e8f-ba75-555252b2c8c9"
      },
      "outputs": [
        {
          "output_type": "stream",
          "name": "stdout",
          "text": [
            "['ดอกเบี้ยของเงินฝากสินส่วนตัวของภริยาย่อมเป็นดอกผลนิตินัยของสินส่วนตัวดอกเบี้ยดังกล่าวจึงเป็นสินสมรสตามความปพพมาตราแต่การที่ท่านประสงค์จะทำข้อตกลงหรือจดแจ้งไว้ในทะเบียนสมรสเกี่ยวด้วยเรื่องการเปลี่ยนดอกเบี้ยเงินฝากสินสมรสให้เป็นสินส่วนตัวของภริยาแต่เพียงฝ่ายเดียวไม่อาจกระทำได้โดยชอบเพราะเป็นการที่มีวัตถุประสงค์ต้องห้ามชัดแจ้งโดยกฎหมายและขัดต่อความสงบเรียบร้อยหรือศีลธรรมอันดีของประชาชนหากท่านและสามีฝ่าฝืนกระทำไปซึ่งเป็นการทำสัญญาระหว่างสมรสเกี่ยวกับทรัพย์สินระหว่างสามีภริยานั้นสัญญานั้นย่อมตกเป็นมฆะตามมาตราแต่อย่างไรก็ตามสามีอาจทำสัญญาการสละสิทธิแห่งดอกเบี้ยเงินฝากดังกล่าวที่เป็นสินสมรสในส่วนของตนให้แก่ภริยาได้อันเป็นการทำสัญญาระหว่างสมรสได้แต่อาจถูกบอกล้างเสียในระหว่างที่เป็นสามีภริยากันอยู่หรือภายในกำหนดปีนับแต่วันที่ขาดจากการเป็นสามีภริยากันก็ได้ตามปพพมาตราส่วนเงินเดือนค่าจ้างของสามีที่ได้มาระหว่างสมรสกับสินสมรสแต่ตราบใดที่ยังเป็นสามีภริยากันตามกฎหมายสามีหรือภริยาจะเรียกให้แบ่งแยกทรัพย์ที่เป็นสินสมรสรวมทั้งเงินเดือนค่าจ้างนี้ไม่อาจกระทำได้โดยชอบตามมาตรา', 'คุณสามารถร้องขอเป็นผู้จัดการมรดกของบิดาได้ส่วนพี่น้องที่อยู่ห่างไกลก็ใช้วิธ่ส่งเอกสารคำยินยอมให้คุณเป็นผู้จัดการมรดกให้เขาลงลายมือชื่อและส่งสำเนาบัตรประชาชนที่เขารับรองสำเนามาพร้อมเอกสารก็ได้เอกสารจะทำอย่างไรควรให้ทนายทำให้จะสะดวกตามข้อเท็จจริงมรดกของพ่อต้องแบ่งให้แม่ก่อนครึ่งหนึ่งที่เหลือครึ่งหนึ่งแบ่งส่วนเท่าๆกันแม่และลูกๆคนจะตกลงกันแบ่งให้คุณคนเดียวก็ได้แต่คุณควรทำสัญญาประนะประนอมให้พวกเขาลงลายมือชื่อไว้ให้ครบถ้วนทุกคนเพื่อป้องกันไม่ให้คุณถูกทายาทฟ้องร้องในภายหลัง', 'เช็คลงวันที่ไม่ตรงกับวันครบกำหนดสัญญา้จะฟ้องร้องบังคับคดีอาญาแพ่งได้หรือไม่ตอบฟ้องได้ทั้งแพ่งและอาญานายกจ่ายเช็คเพื่อชำระหนี้ทั้งของตนเองและของบุตรชายโดยเช็คแต่ละฉบับรวมยอดดอกเบี้ยตามระยะเวลาที่ยืดออกไปด้วยแล้วจะบังคับคดีได้หรือไม่ตอบได้การบังคับคดีเป็นการฟ้องทางแพ่งซึ่งมีสองข้อหาคือผิดสัญญา้กับผิดสัญญาตั๋วเงินเช็คซึ่งผู้ที่ลงลายมือชื่อในช่องผู้้และลงชื่อในเช็คต้องรับผิดชอบอยู่แล้วนายกชำระหนี้แทนนายขผู้เป็นบุตรชายโดยไม่มีลายลักษณ์อักษรว่ายินยอมรับภาระหนี้แทนบุตรชายเพียงแต่สั่งจ่ายเช็คเพื่อการชำระหนี้แทนบุตรชายเช็คฉบับดังกล่าวจะมีผลใช้ฟ้องร้องบังคับคดีได้หรือไม่ตอบได้ขอให้เป็นเช็คที่สั่งจ่ายโดยมีมูลหนี้ก็ฟ้องได้หมดแต่ถ้าเช็คไม่มีมูลหนี้เช่นทำเช็คหายหรือตีเช็คไว้ล่วงหน้าแต่ไม่มีการส่งมอบเงินหรือเช็คชำระหนี้พนันแบบนี้ฟ้องไม่ได้หากนายกปฏิเสธว่าไม่ได้สั่งจ่ายเพื่อการชำระหนี้แทนบุตรชายหากแต่เช็คฉบับดังกล่าวเขียนไว้เพื่อสั่งจ่ายค่าวัสดุก่อสร้างและได้หายไปก่อนหน้านี้แต่ไม่ได้แจ้งความเราจะนำพิสูจน์อย่างไรว่าเช็คฉบับดังกล่าวจ่ายให้เราจริงตอบก็พิสูจน์จากเงินที่ส่งมอบให้แก่บุตรชายสิเช่นคุณบอกว่าให้เงินบุตรชายเค้ายืมหากเค้าต่อสู้ว่าไม่ได้รับเงินก็นำพยานบุคคลที่รู้เห็นว่ามีการส่งมอบเงินมาเป็นพยานหรือไม่ก็เป็นหลักฐานการเบิกถอนเงินจากธนาคารมาแสดง', 'คุณมีทางเลือกอยู่ประการประการแรกยื่นคำร้องเพื่อขอเป็นผู้จัดการมรดกร่วมกับน้องชายประการที่สองปล่อยให้น้องชายเป็นผู้จัดการมรดกเพียงผู้เดียวแต่หากจัดการแบ่งมรดกไม่ถูกต้องคุณมีสิทธิคัดค้านและร้องศาลเพื่อขอถอดถอนน้องชายออกจากการเป็นผู้จัดการมรดกและคุณขอเข้าเป็นผู้จัดการมรดกแทนคุณและน้องชายมีสิทธิได้รับมรดกกันคนละครึ่ง', 'คดีที่มีการฟ้องร้องแล้วและศาลอ่านคำพิพากษาเกินกำหนดปีถือว่าขาดอายุความแล้วลูกหนี้ก็ไม่ต้องชำระหนี้หรือไม่มีภาระผูกพันกับหนี้แล้วยอดหนี้อาจจะน้อยเกินกว่าที่นโยบายของสถาบันการเงินจะให้ฟ้องแต่ถ้าเป็นบุตรเครดิตไม่ฟ้องภายในปีถือว่าขาดอายุความฟ้องมาสู้เรื่องอายุความลูกหนี้ก็ชนะหากลูกหนี้เป็นบุคคลล้มละลายและบรรดาเจ้าหนี้บัครเครดิตไม่ไปขอรับชำระหนี้ถือว่าตัดเป็นหนี้สูญลูกหนี้ไม่ต้องชำระหนี้ตามกฎหมายบัตรเครดิตเป็นคดีแพ่งไม่สามารถติดคุดได้และหากท่านคิดว่าการทวงหนี้ของเจ้าหนี้ส่งผลให้ท่านเกิดความเดือดร้อนรำคาญหากแน่ใจว่าหนี้ขาดอายุความแล้วก็แจ้งไปกับเจ้าหน้าที่ทวงหนี้หรือหากไม่หยุดการกระทำทวงหนี้ละเมิดหรือทวงหนี้โหดท่านสามารถร้องเรียนได้ที่ธนาคารแห่งประเทศไทยคดีที่มีการฟ้องร้องแล้วและศาลอ่านคำพิพากษาเกินกำหนดปีถือว่าขาดอายุความแล้วลูกหนี้ก็ไม่ต้องชำระหนี้หรือไม่มีภาระผูกพันกับหนี้แล้วยอดหนี้อาจจะน้อยเกินกว่าที่นโยบายของสถาบันการเงินจะให้ฟ้องแต่ถ้าเป็นบุตรเครดิตไม่ฟ้องภายในปีถือว่าขาดอายุความฟ้องมาสู้เรื่องอายุความลูกหนี้ก็ชนะหากลูกหนี้เป็นบุคคลล้มละลายและบรรดาเจ้าหนี้บัครเครดิตไม่ไปขอรับชำระหนี้ถือว่าตัดเป็นหนี้สูญลูกหนี้ไม่ต้องชำระหนี้ตามกฎหมายบัตรเครดิตเป็นคดีแพ่งไม่สามารถติดคุดได้และหากท่านคิดว่าการทวงหนี้ของเจ้าหนี้ส่งผลให้ท่านเกิดความเดือดร้อนรำคาญหากแน่ใจว่าหนี้ขาดอายุความแล้วก็แจ้งไปกับเจ้าหน้าที่ทวงหนี้หรือหากไม่หยุดการกระทำทวงหนี้ละเมิดหรือทวงหนี้โหดท่านสามารถร้องเรียนได้ที่ธนาคารแห่งประเทศไทย']\n"
          ]
        },
        {
          "output_type": "stream",
          "name": "stderr",
          "text": [
            "/usr/local/lib/python3.9/dist-packages/ipykernel/ipkernel.py:283: DeprecationWarning: `should_run_async` will not call `transform_cell` automatically in the future. Please pass the result to `transformed_cell` argument and any exception that happen during thetransform in `preprocessing_exc_tuple` in IPython 7.17 and above.\n",
            "  and should_run_async(code)\n"
          ]
        }
      ],
      "source": [
        "sentense_token_answer = []\n",
        "for each_answer in str_answer:\n",
        "  sentense_token_answer.append(each_answer)\n",
        "print(sentense_token_answer[:5])\n",
        "train_data = sentense_token_answer[:6030]\n",
        "test_data = sentense_token_answer[6031:7030]"
      ]
    },
    {
      "cell_type": "code",
      "execution_count": null,
      "metadata": {
        "colab": {
          "base_uri": "https://localhost:8080/"
        },
        "id": "mtM0Ulb2uRt7",
        "outputId": "95d6887c-cf00-42c7-e347-342da07f6937"
      },
      "outputs": [
        {
          "output_type": "stream",
          "name": "stderr",
          "text": [
            "/usr/local/lib/python3.9/dist-packages/ipykernel/ipkernel.py:283: DeprecationWarning: `should_run_async` will not call `transform_cell` automatically in the future. Please pass the result to `transformed_cell` argument and any exception that happen during thetransform in `preprocessing_exc_tuple` in IPython 7.17 and above.\n",
            "  and should_run_async(code)\n"
          ]
        },
        {
          "output_type": "stream",
          "name": "stdout",
          "text": [
            "['ดอกเบี้ย', 'ของ', 'เงินฝาก', 'สินส่วนตัว', 'ของ', 'ภริยา', 'ย่อม', 'เป็น', 'ดอกผลนิตินัย', 'ของ']\n"
          ]
        }
      ],
      "source": [
        "word_token_answer = []\n",
        "for sentense in train_data:\n",
        "  word = word_tokenize(sentense, engine='newmm')\n",
        "  word_token_answer.append(word)\n",
        "\n",
        "print(word_token_answer[0][:10])"
      ]
    },
    {
      "cell_type": "code",
      "execution_count": null,
      "metadata": {
        "colab": {
          "base_uri": "https://localhost:8080/"
        },
        "id": "kFG5jbVixAaR",
        "outputId": "8be9dfb5-2cd8-45cc-cbf8-04f60f553e46"
      },
      "outputs": [
        {
          "output_type": "stream",
          "name": "stderr",
          "text": [
            "/usr/local/lib/python3.9/dist-packages/ipykernel/ipkernel.py:283: DeprecationWarning: `should_run_async` will not call `transform_cell` automatically in the future. Please pass the result to `transformed_cell` argument and any exception that happen during thetransform in `preprocessing_exc_tuple` in IPython 7.17 and above.\n",
            "  and should_run_async(code)\n"
          ]
        },
        {
          "output_type": "stream",
          "name": "stdout",
          "text": [
            "['ดอกเบี้ย', 'เงินฝาก', 'สินส่วนตัว', 'ภริยา', 'ดอกผลนิตินัย', 'สินส่วนตัว', 'ดอกเบี้ย', 'สินสมรส']\n"
          ]
        }
      ],
      "source": [
        "stopwords = list(thai_stopwords())\n",
        "read_stopwords = pd.read_csv('/content/drive/MyDrive/dpst_project/dataset/add_stopwords.csv')\n",
        "add_stopwords = read_stopwords['stopword'].values.tolist()\n",
        "processed_answer = []\n",
        "for sentense in word_token_answer:\n",
        "  each_sentense = []\n",
        "  for word in sentense:\n",
        "    if(word not in stopwords + add_stopwords):\n",
        "      each_sentense.append(word)\n",
        "  processed_answer.append(each_sentense)\n",
        "print(processed_answer[0][:8])"
      ]
    },
    {
      "cell_type": "code",
      "execution_count": null,
      "metadata": {
        "id": "j2w7Cu2fsyNZ",
        "colab": {
          "base_uri": "https://localhost:8080/"
        },
        "outputId": "eedb1809-ff6f-4c29-909b-95356fc5270c"
      },
      "outputs": [
        {
          "output_type": "stream",
          "name": "stderr",
          "text": [
            "/usr/local/lib/python3.9/dist-packages/ipykernel/ipkernel.py:283: DeprecationWarning: `should_run_async` will not call `transform_cell` automatically in the future. Please pass the result to `transformed_cell` argument and any exception that happen during thetransform in `preprocessing_exc_tuple` in IPython 7.17 and above.\n",
            "  and should_run_async(code)\n"
          ]
        }
      ],
      "source": [
        "id2word = corpora.Dictionary(processed_answer)\n",
        "corpus = []\n",
        "for text in processed_answer:\n",
        "  vec = id2word.doc2bow(text)\n",
        "  corpus.append(vec)"
      ]
    },
    {
      "cell_type": "code",
      "execution_count": null,
      "metadata": {
        "id": "OlPsfclys6vH"
      },
      "outputs": [],
      "source": [
        "num_topics = 5\n",
        "lda_model = gensim.models.ldamodel.LdaModel(corpus=corpus,\n",
        "                                       id2word=id2word,\n",
        "                                       num_topics=num_topics,\n",
        "                                       iterations=100,\n",
        "                                       chunksize=200,\n",
        "                                       passes=5,\n",
        "                                       alpha=0.5,\n",
        "                                       eta=0.01\n",
        "                                       )"
      ]
    },
    {
      "cell_type": "code",
      "execution_count": null,
      "metadata": {
        "id": "sY1YzEHHEbrf"
      },
      "outputs": [],
      "source": [
        "from gensim.test.utils import datapath\n",
        "\n",
        "#saving model to disk.\n",
        "\n",
        "temp_file = datapath(\"/content/drive/MyDrive/dpst_project/lda_model.pickle\")\n",
        "lda_model.save(temp_file)"
      ]
    },
    {
      "cell_type": "code",
      "execution_count": null,
      "metadata": {
        "id": "WikRXQyw6xIl",
        "colab": {
          "base_uri": "https://localhost:8080/"
        },
        "outputId": "73f4903f-92a0-490d-889e-e99b2bf3cfaf"
      },
      "outputs": [
        {
          "output_type": "stream",
          "name": "stderr",
          "text": [
            "/usr/local/lib/python3.9/dist-packages/ipykernel/ipkernel.py:283: DeprecationWarning: `should_run_async` will not call `transform_cell` automatically in the future. Please pass the result to `transformed_cell` argument and any exception that happen during thetransform in `preprocessing_exc_tuple` in IPython 7.17 and above.\n",
            "  and should_run_async(code)\n"
          ]
        }
      ],
      "source": [
        "topic_dict = {\n",
        "    0 : \"Contract\",\n",
        "    1 : \"Criminal\",\n",
        "    2 : \"Labor\",\n",
        "    3 : \"Family\",\n",
        "    4 : \"Succession\"\n",
        "}"
      ]
    },
    {
      "cell_type": "code",
      "execution_count": null,
      "metadata": {
        "colab": {
          "base_uri": "https://localhost:8080/"
        },
        "id": "fCaXNgktK3RJ",
        "outputId": "40af04c7-a29a-45f4-f161-83103dfca2c1"
      },
      "outputs": [
        {
          "output_type": "execute_result",
          "data": {
            "text/plain": [
              "[(0,\n",
              "  '0.026*\"เงิน\" + 0.026*\"สัญญา\" + 0.024*\"ฟ้อง\" + 0.019*\"ชำระหนี้\" + 0.016*\"เจ้าหนี้\" + 0.016*\"เช่าซื้อ\" + 0.015*\"รถ\" + 0.014*\"บังคับ\" + 0.014*\"รับผิด\" + 0.012*\"คืน\"'),\n",
              " (1,\n",
              "  '0.060*\"นายจ้าง\" + 0.048*\"ลูกจ้าง\" + 0.028*\"จ่าย\" + 0.022*\"เลิกจ้าง\" + 0.022*\"สิทธิ\" + 0.022*\"มาตรา\" + 0.021*\"บริษัท\" + 0.018*\"ทำงาน\" + 0.016*\"คุ้มครอง\" + 0.015*\"ค่าจ้าง\"'),\n",
              " (2,\n",
              "  '0.047*\"ศาล\" + 0.028*\"มาตรา\" + 0.021*\"ความผิด\" + 0.018*\"จำคุก\" + 0.016*\"ฐาน\" + 0.016*\"จำเลย\" + 0.015*\"กระทำความผิด\" + 0.012*\"ทนาย\" + 0.011*\"คำพิพากษา\" + 0.010*\"บาท\"'),\n",
              " (3,\n",
              "  '0.056*\"ที่ดิน\" + 0.033*\"สิทธิ\" + 0.028*\"มาตรา\" + 0.022*\"ทายาท\" + 0.021*\"ผู้จัดการมรดก\" + 0.019*\"มรดก\" + 0.016*\"โอน\" + 0.014*\"ปพพ\" + 0.014*\"พินัยกรรม\" + 0.013*\"ทรัพย์มรดก\"'),\n",
              " (4,\n",
              "  '0.061*\"บุตร\" + 0.044*\"มาตรา\" + 0.042*\"สามี\" + 0.033*\"บิดา\" + 0.031*\"ปพพ\" + 0.030*\"มารดา\" + 0.027*\"เด็ก\" + 0.026*\"ภริยา\" + 0.016*\"สิทธิ\" + 0.015*\"ภรรยา\"')]"
            ]
          },
          "metadata": {},
          "execution_count": 41
        }
      ],
      "source": [
        "lda_model.show_topics(num_topics=10, num_words=10)"
      ]
    },
    {
      "cell_type": "code",
      "execution_count": null,
      "metadata": {
        "colab": {
          "base_uri": "https://localhost:8080/"
        },
        "id": "YTJeDJr6D3am",
        "outputId": "c8740eaf-69e2-4938-97d2-0cde7a77609d"
      },
      "outputs": [
        {
          "data": {
            "text/plain": [
              "-23.005046000316916"
            ]
          },
          "execution_count": 25,
          "metadata": {},
          "output_type": "execute_result"
        }
      ],
      "source": [
        "lda_model.log_perplexity(corpus)"
      ]
    },
    {
      "cell_type": "code",
      "execution_count": null,
      "metadata": {
        "id": "u3lQ2hki2XrR"
      },
      "outputs": [],
      "source": [
        "from matplotlib.font_manager import FontProperties\n",
        "font_path = '/content/drive/MyDrive/dpst_project/THSarabun.ttf'\n",
        "font = FontProperties(fname=font_path, size = 20)\n",
        "def plotWordDist(n):\n",
        "  topic_num = n\n",
        "  topic_words = lda_model.show_topic(topic_num, topn=10)\n",
        "  words = [word_prob[0] for word_prob in topic_words]\n",
        "  probs = [word_prob[1] for word_prob in topic_words]\n",
        "\n",
        "  fig, ax = plt.subplots(figsize=(10, 6))\n",
        "  ax.bar(words, probs, width=0.6)\n",
        "  ax.set_title(f\"Word Distribution for Topic {topic_dict.get(topic_num)}\")\n",
        "  ax.set_xlabel(\"Words\")\n",
        "  ax.set_ylabel(\"Probabilities\")\n",
        "  plt.xticks(fontproperties=font) \n",
        "  plt.show()"
      ]
    },
    {
      "cell_type": "code",
      "execution_count": null,
      "metadata": {
        "id": "lH2d-lG5bJpk"
      },
      "outputs": [],
      "source": [
        "lda_model = LdaModel.load('/content/drive/MyDrive/dpst_project/lda_model.pickle')"
      ]
    },
    {
      "cell_type": "code",
      "execution_count": null,
      "metadata": {
        "colab": {
          "base_uri": "https://localhost:8080/",
          "height": 1000
        },
        "id": "b9rkxtqQ6KKb",
        "outputId": "fe5e9774-2b41-4152-8443-d04ed6265009"
      },
      "outputs": [
        {
          "output_type": "display_data",
          "data": {
            "text/plain": [
              "<Figure size 720x432 with 1 Axes>"
            ],
            "image/png": "[encoded data removed]"
          },
          "metadata": {
            "needs_background": "light"
          }
        },
        {
          "output_type": "display_data",
          "data": {
            "text/plain": [
              "<Figure size 720x432 with 1 Axes>"
            ],
            "image/png": "[encoded data removed]"
          },
          "metadata": {
            "needs_background": "light"
          }
        },
        {
          "output_type": "display_data",
          "data": {
            "text/plain": [
              "<Figure size 720x432 with 1 Axes>"
            ],
            "image/png": "[encoded data removed]"
          },
          "metadata": {
            "needs_background": "light"
          }
        },
        {
          "output_type": "display_data",
          "data": {
            "text/plain": [
              "<Figure size 720x432 with 1 Axes>"
            ],
            "image/png": "[encoded data removed]"
          },
          "metadata": {
            "needs_background": "light"
          }
        },
        {
          "output_type": "display_data",
          "data": {
            "text/plain": [
              "<Figure size 720x432 with 1 Axes>"
            ],
            "image/png": "[encoded data removed]"
          },
          "metadata": {
            "needs_background": "light"
          }
        }
      ],
      "source": [
        "plotWordDist(0)\n",
        "plotWordDist(1)\n",
        "plotWordDist(2)\n",
        "plotWordDist(3)\n",
        "plotWordDist(4)"
      ]
    },
    {
      "cell_type": "code",
      "execution_count": null,
      "metadata": {
        "colab": {
          "base_uri": "https://localhost:8080/"
        },
        "id": "bahoCRN8gjFV",
        "outputId": "f1d3e7c6-c4c8-489f-e585-c8879d7b686f"
      },
      "outputs": [
        {
          "name": "stdout",
          "output_type": "stream",
          "text": [
            "Topic Contract:\n",
            "เงิน: 0.0324\n",
            "สัญญา: 0.0322\n",
            "ฟ้อง: 0.0246\n",
            "ชำระหนี้: 0.0239\n",
            "เจ้าหนี้: 0.0200\n",
            "เช่าซื้อ: 0.0197\n",
            "รถ: 0.0189\n",
            "บังคับ: 0.0189\n",
            "รับผิด: 0.0177\n",
            "คืน: 0.0161\n",
            "\n",
            "\n",
            "Topic Criminal:\n",
            "ศาล: 0.0390\n",
            "มาตรา: 0.0213\n",
            "ความผิด: 0.0180\n",
            "จำคุก: 0.0159\n",
            "ฐาน: 0.0151\n",
            "จำเลย: 0.0136\n",
            "กระทำความผิด: 0.0128\n",
            "บาท: 0.0106\n",
            "ทนาย: 0.0091\n",
            "ลงโทษ: 0.0088\n",
            "\n",
            "\n",
            "Topic Labor:\n",
            "นายจ้าง: 0.0544\n",
            "ลูกจ้าง: 0.0437\n",
            "จ่าย: 0.0276\n",
            "มาตรา: 0.0211\n",
            "เลิกจ้าง: 0.0199\n",
            "บริษัท: 0.0198\n",
            "สิทธิ: 0.0197\n",
            "ทำงาน: 0.0164\n",
            "คุ้มครอง: 0.0142\n",
            "กรณี: 0.0142\n",
            "\n",
            "\n",
            "Topic Family:\n",
            "มาตรา: 0.0648\n",
            "บุตร: 0.0442\n",
            "ปพพ: 0.0374\n",
            "สามี: 0.0299\n",
            "สิทธิ: 0.0267\n",
            "บิดา: 0.0240\n",
            "มารดา: 0.0217\n",
            "เด็ก: 0.0194\n",
            "ภริยา: 0.0184\n",
            "ทรัพย์สิน: 0.0178\n",
            "\n",
            "\n",
            "Topic Succession:\n",
            "ที่ดิน: 0.0684\n",
            "ทายาท: 0.0265\n",
            "ผู้จัดการมรดก: 0.0250\n",
            "สิทธิ: 0.0245\n",
            "มรดก: 0.0232\n",
            "โอน: 0.0185\n",
            "พินัยกรรม: 0.0168\n",
            "แม่: 0.0165\n",
            "ศาล: 0.0164\n",
            "ทรัพย์มรดก: 0.0163\n",
            "\n",
            "\n"
          ]
        }
      ],
      "source": [
        "# word-topic distribution\n",
        "for i in range(lda_model.num_topics):\n",
        "    print(f\"Topic {topic_dict.get(i)}:\")\n",
        "    for word, prob in lda_model.show_topic(i):\n",
        "        print(f\"{word}: {prob:.4f}\")\n",
        "    print(\"\\n\")"
      ]
    },
    {
      "cell_type": "code",
      "execution_count": null,
      "metadata": {
        "colab": {
          "base_uri": "https://localhost:8080/"
        },
        "id": "_-slRUFJiyjK",
        "outputId": "5744c459-c8d7-4ef7-b2a5-ab5bc28e87c0"
      },
      "outputs": [
        {
          "name": "stdout",
          "output_type": "stream",
          "text": [
            "Document 0:\n",
            "Topic Contract: 0.2478\n",
            "Topic Labor: 0.1017\n",
            "Topic Family: 0.6373\n",
            "\n",
            "\n",
            "Document 1:\n",
            "Topic Contract: 0.0267\n",
            "Topic Criminal: 0.1022\n",
            "Topic Labor: 0.0132\n",
            "Topic Family: 0.0623\n",
            "Topic Succession: 0.7955\n",
            "\n",
            "\n",
            "Document 2:\n",
            "Topic Contract: 0.3402\n",
            "Topic Criminal: 0.5063\n",
            "Topic Labor: 0.0651\n",
            "Topic Family: 0.0459\n",
            "Topic Succession: 0.0425\n",
            "\n",
            "\n",
            "Document 3:\n",
            "Topic Contract: 0.0173\n",
            "Topic Criminal: 0.0645\n",
            "Topic Labor: 0.0210\n",
            "Topic Family: 0.1269\n",
            "Topic Succession: 0.7702\n",
            "\n",
            "\n",
            "Document 4:\n",
            "Topic Contract: 0.4582\n",
            "Topic Criminal: 0.4095\n",
            "Topic Labor: 0.0767\n",
            "Topic Family: 0.0227\n",
            "Topic Succession: 0.0329\n",
            "\n",
            "\n"
          ]
        }
      ],
      "source": [
        "#topic-document distribution\n",
        "for i, doc in enumerate(corpus[:5]):\n",
        "    print(f\"Document {i}:\")\n",
        "    for topic, prob in lda_model.get_document_topics(doc):\n",
        "        print(f\"Topic {topic_dict.get(topic)}: {prob:.4f}\")\n",
        "    print(\"\\n\")"
      ]
    },
    {
      "cell_type": "markdown",
      "metadata": {
        "id": "VLsrjbfl-Jtu"
      },
      "source": [
        "Find optimize number of topics between 2-10\n",
        "and plot coherence value each topic"
      ]
    },
    {
      "cell_type": "code",
      "execution_count": null,
      "metadata": {
        "colab": {
          "base_uri": "https://localhost:8080/",
          "height": 314
        },
        "id": "lSb-Wdpzre73",
        "outputId": "cfb9fa84-6d81-4b45-cbe2-2362e3d345af"
      },
      "outputs": [
        {
          "output_type": "display_data",
          "data": {
            "text/plain": [
              "<Figure size 432x288 with 1 Axes>"
            ],
            "image/png": "[encoded data removed]"
          },
          "metadata": {
            "needs_background": "light"
          }
        },
        {
          "output_type": "stream",
          "name": "stdout",
          "text": [
            "Optimal number of topics: 7\n",
            "Max coherence score : 0.6642221280750534\n"
          ]
        }
      ],
      "source": [
        "min_topics, max_topics = 2, 20\n",
        "step_size = 1\n",
        "\n",
        "coherence_scores = []\n",
        "num_topics_list = []\n",
        "\n",
        "for num_topics in range(min_topics, max_topics+1, step_size):\n",
        "  lda_model = gensim.models.ldamodel.LdaModel(corpus=corpus,\n",
        "                                              id2word=id2word,\n",
        "                                              num_topics=num_topics,\n",
        "                                              passes=10,\n",
        "                                              iterations=100,\n",
        "                                              chunksize=200,\n",
        "                                              alpha=0.5,\n",
        "                                              eta=0.01)\n",
        "  coherence_model_lda = CoherenceModel(model=lda_model, texts=processed_answer, dictionary=id2word, coherence='c_v')\n",
        "  coherence_score = coherence_model_lda.get_coherence()\n",
        "  coherence_scores.append(coherence_score)\n",
        "  num_topics_list.append(num_topics)\n",
        "\n",
        "coherence_model_lda = CoherenceModel(model=lda_model, texts=processed_answer, dictionary=id2word, coherence='c_v')\n",
        "coherence_lda = coherence_model_lda.get_coherence()\n",
        "\n",
        "plt.plot(num_topics_list, coherence_scores)\n",
        "plt.xlabel(\"Number of Topics\")\n",
        "plt.ylabel(\"Coherence Score\")\n",
        "plt.show()\n",
        "# Find the optimal number of topics with the highest coherence score\n",
        "optimal_num_topics = num_topics_list[coherence_scores.index(max(coherence_scores))]\n",
        "print(f\"Optimal number of topics: {optimal_num_topics}\\nMax coherence score : {max(coherence_scores)}\")"
      ]
    },
    {
      "cell_type": "markdown",
      "metadata": {
        "id": "E0DWwk5l8lFT"
      },
      "source": [
        "word distribution as bar plot"
      ]
    },
    {
      "cell_type": "markdown",
      "metadata": {
        "id": "h5WBD3hbT1iy"
      },
      "source": [
        "bar plot for topic-document distribution"
      ]
    },
    {
      "cell_type": "code",
      "execution_count": null,
      "metadata": {
        "colab": {
          "base_uri": "https://localhost:8080/",
          "height": 404
        },
        "id": "cinEux5QEUrA",
        "outputId": "bd56f1ab-61f9-46c0-d24b-ec918d10b230"
      },
      "outputs": [
        {
          "output_type": "display_data",
          "data": {
            "text/plain": [
              "<Figure size 576x432 with 1 Axes>"
            ],
            "image/png": "[encoded data removed]"
          },
          "metadata": {
            "needs_background": "light"
          }
        }
      ],
      "source": [
        "doc_id = np.random.randint(len(train_data)) \n",
        "doc_topics = lda_model.get_document_topics(corpus[doc_id]) \n",
        "\n",
        "# plot the bar chart\n",
        "plt.figure(figsize=(8,6))\n",
        "plt.bar([t[0] for t in doc_topics], [t[1] for t in doc_topics])\n",
        "plt.xlabel('Topic ID')\n",
        "plt.ylabel('Topic Proportion')\n",
        "plt.title(f'Topic Distribution for Document {doc_id}')\n",
        "plt.show()"
      ]
    },
    {
      "cell_type": "markdown",
      "metadata": {
        "id": "zCKqzoUi-uGM"
      },
      "source": [
        "topic for each document"
      ]
    },
    {
      "cell_type": "code",
      "execution_count": null,
      "metadata": {
        "id": "C2UBP4-WfpmL"
      },
      "outputs": [],
      "source": [
        "def format_topics_sentences(ldamodel=lda_model, corpus=corpus):\n",
        "  sent_topics_df = pd.DataFrame()\n",
        "  for i, row in enumerate(ldamodel[corpus]):\n",
        "      row = sorted(row, key=lambda x: (x[1]), reverse=True)\n",
        "      for j, (topic_num, prop_topic) in enumerate(row):\n",
        "          if j == 0:  # => dominant topic\n",
        "              wp = ldamodel.show_topic(topic_num)\n",
        "              topic_keywords = \", \".join([word for word, prop in wp])\n",
        "              sent_topics_df = sent_topics_df.append(pd.Series([int(topic_num), round(prop_topic,4)]), ignore_index=True)\n",
        "          else:\n",
        "            break\n",
        "  return(sent_topics_df)\n",
        "\n",
        "\n",
        "df_topic_sents_keywords = format_topics_sentences(ldamodel=lda_model, corpus=corpus)\n",
        "\n",
        "# Format\n",
        "df_dominant_topic = df_topic_sents_keywords.reset_index()\n",
        "df_dominant_topic.columns = ['Document_No', 'Dominant_Topic', 'Topic_Perc_Contrib']\n",
        "\n",
        "# Show\n",
        "df_dominant_topic.head(20)\n",
        " "
      ]
    },
    {
      "cell_type": "markdown",
      "metadata": {
        "id": "CnGK-y4c_STX"
      },
      "source": [
        "lda visualization"
      ]
    },
    {
      "cell_type": "code",
      "execution_count": null,
      "metadata": {
        "colab": {
          "base_uri": "https://localhost:8080/",
          "height": 897
        },
        "id": "LiY90t3FVJWp",
        "outputId": "0bc4e5da-26a1-4337-caab-d87e2bc900a0"
      },
      "outputs": [
        {
          "name": "stderr",
          "output_type": "stream",
          "text": [
            "/usr/local/lib/python3.9/dist-packages/pyLDAvis/_prepare.py:243: FutureWarning: In a future version of pandas all arguments of DataFrame.drop except for the argument 'labels' will be keyword-only.\n",
            "  default_term_info = default_term_info.sort_values(\n"
          ]
        },
        {
          "data": {
            "text/html": [
              "\n",
              "<link rel=\"stylesheet\" type=\"text/css\" href=\"https://cdn.jsdelivr.net/gh/bmabey/pyLDAvis@3.4.0/pyLDAvis/js/ldavis.v1.0.0.css\">\n",
              "\n",
              "\n",
              "<div id=\"ldavis_el1311398230823798564518243996\" style=\"background-color:white;\"></div>\n",
              "<script type=\"text/javascript\">\n",
              "\n",
              "var ldavis_el1311398230823798564518243996_data = {\"mdsDat\": {\"x\": [-0.07968866479217773, -0.12640565910842805, -0.2184696513315365, 0.21750780248801793, 0.20705617274412452], \"y\": [0.24618331243078756, -0.04139205477989909, -0.1308698424002369, 0.10530663724467007, -0.17922805249532195], \"topics\": [1, 2, 3, 4, 5], \"cluster\": [1, 1, 1, 1, 1], \"Freq\": [25.943120968810906, 22.703340187065553, 19.790651321197778, 17.274266951037344, 14.288620571888424]}, \"tinfo\": {\"Term\": [\"\\u0e17\\u0e35\\u0e48\\u0e14\\u0e34\\u0e19\", \"\\u0e19\\u0e32\\u0e22\\u0e08\\u0e49\\u0e32\\u0e07\", \"\\u0e25\\u0e39\\u0e01\\u0e08\\u0e49\\u0e32\\u0e07\", \"\\u0e1a\\u0e38\\u0e15\\u0e23\", \"\\u0e2a\\u0e32\\u0e21\\u0e35\", \"\\u0e2a\\u0e31\\u0e0d\\u0e0d\\u0e32\", \"\\u0e40\\u0e07\\u0e34\\u0e19\", \"\\u0e08\\u0e48\\u0e32\\u0e22\", \"\\u0e1b\\u0e1e\\u0e1e\", \"\\u0e28\\u0e32\\u0e25\", \"\\u0e17\\u0e32\\u0e22\\u0e32\\u0e17\", \"\\u0e40\\u0e14\\u0e47\\u0e01\", \"\\u0e04\\u0e27\\u0e32\\u0e21\\u0e1c\\u0e34\\u0e14\", \"\\u0e1c\\u0e39\\u0e49\\u0e08\\u0e31\\u0e14\\u0e01\\u0e32\\u0e23\\u0e21\\u0e23\\u0e14\\u0e01\", \"\\u0e20\\u0e23\\u0e34\\u0e22\\u0e32\", \"\\u0e40\\u0e25\\u0e34\\u0e01\\u0e08\\u0e49\\u0e32\\u0e07\", \"\\u0e0a\\u0e33\\u0e23\\u0e30\\u0e2b\\u0e19\\u0e35\\u0e49\", \"\\u0e21\\u0e32\\u0e23\\u0e14\\u0e32\", \"\\u0e21\\u0e23\\u0e14\\u0e01\", \"\\u0e1a\\u0e34\\u0e14\\u0e32\", \"\\u0e08\\u0e33\\u0e04\\u0e38\\u0e01\", \"\\u0e10\\u0e32\\u0e19\", \"\\u0e40\\u0e08\\u0e49\\u0e32\\u0e2b\\u0e19\\u0e35\\u0e49\", \"\\u0e17\\u0e33\\u0e07\\u0e32\\u0e19\", \"\\u0e1a\\u0e23\\u0e34\\u0e29\\u0e31\\u0e17\", \"\\u0e40\\u0e0a\\u0e48\\u0e32\\u0e0b\\u0e37\\u0e49\\u0e2d\", \"\\u0e08\\u0e33\\u0e40\\u0e25\\u0e22\", \"\\u0e23\\u0e16\", \"\\u0e21\\u0e32\\u0e15\\u0e23\\u0e32\", \"\\u0e01\\u0e23\\u0e30\\u0e17\\u0e33\\u0e04\\u0e27\\u0e32\\u0e21\\u0e1c\\u0e34\\u0e14\", \"\\u0e0a\\u0e33\\u0e23\\u0e30\\u0e2b\\u0e19\\u0e35\\u0e49\", \"\\u0e40\\u0e08\\u0e49\\u0e32\\u0e2b\\u0e19\\u0e35\\u0e49\", \"\\u0e40\\u0e0a\\u0e48\\u0e32\\u0e0b\\u0e37\\u0e49\\u0e2d\", \"\\u0e23\\u0e16\", \"\\u0e25\\u0e39\\u0e01\\u0e2b\\u0e19\\u0e35\\u0e49\", \"\\u0e2b\\u0e19\\u0e35\\u0e49\", \"\\u0e22\\u0e36\\u0e14\", \"\\u0e01\\u0e39\\u0e49\\u0e22\\u0e37\\u0e21\", \"\\u0e18\\u0e19\\u0e32\\u0e04\\u0e32\\u0e23\", \"\\u0e44\\u0e1f\\u0e41\\u0e19\\u0e19\\u0e0b\\u0e4c\", \"\\u0e0a\\u0e33\\u0e23\\u0e30\", \"\\u0e40\\u0e0a\\u0e47\\u0e04\", \"\\u0e04\\u0e49\\u0e33\\u0e1b\\u0e23\\u0e30\\u0e01\\u0e31\\u0e19\", \"\\u0e01\\u0e39\\u0e49\", \"\\u0e43\\u0e0a\\u0e49\\u0e2b\\u0e19\\u0e35\\u0e49\", \"\\u0e1c\\u0e39\\u0e49\\u0e04\\u0e49\\u0e33\\u0e1b\\u0e23\\u0e30\\u0e01\\u0e31\\u0e19\", \"\\u0e23\\u0e16\\u0e22\\u0e19\\u0e15\\u0e4c\", \"\\u0e1c\\u0e34\\u0e14\\u0e19\\u0e31\\u0e14\", \"\\u0e01\\u0e32\\u0e23\\u0e0a\\u0e33\\u0e23\\u0e30\\u0e2b\\u0e19\\u0e35\\u0e49\", \"\\u0e04\\u0e39\\u0e48\\u0e2a\\u0e31\\u0e0d\\u0e0d\\u0e32\", \"\\u0e02\\u0e32\\u0e22\\u0e17\\u0e2d\\u0e14\\u0e15\\u0e25\\u0e32\\u0e14\", \"\\u0e1c\\u0e48\\u0e2d\\u0e19\", \"\\u0e2d\\u0e32\\u0e22\\u0e31\\u0e14\", \"\\u0e44\\u0e01\\u0e25\\u0e48\\u0e40\\u0e01\\u0e25\\u0e35\\u0e48\\u0e22\", \"\\u0e40\\u0e07\\u0e34\\u0e19\\u0e01\\u0e39\\u0e49\", \"\\u0e04\\u0e31\\u0e19\", \"\\u0e25\\u0e49\\u0e21\\u0e25\\u0e30\\u0e25\\u0e32\\u0e22\", \"\\u0e08\\u0e49\\u0e32\\u0e07\\u0e17\\u0e33\\u0e02\\u0e2d\\u0e07\", \"\\u0e40\\u0e1b\\u0e47\\u0e19\\u0e2b\\u0e19\\u0e35\\u0e49\", \"\\u0e1c\\u0e39\\u0e49\\u0e1a\\u0e23\\u0e34\\u0e42\\u0e20\\u0e04\", \"\\u0e23\\u0e31\\u0e1a\\u0e1c\\u0e34\\u0e14\", \"\\u0e40\\u0e08\\u0e23\\u0e08\\u0e32\", \"\\u0e14\\u0e2d\\u0e01\\u0e40\\u0e1a\\u0e35\\u0e49\\u0e22\", \"\\u0e2a\\u0e31\\u0e0d\\u0e0d\\u0e32\", \"\\u0e40\\u0e07\\u0e34\\u0e19\", \"\\u0e04\\u0e37\\u0e19\", \"\\u0e17\\u0e33\\u0e2a\\u0e31\\u0e0d\\u0e0d\\u0e32\", \"\\u0e1f\\u0e49\\u0e2d\\u0e07\\u0e23\\u0e49\\u0e2d\\u0e07\", \"\\u0e25\\u0e07\\u0e25\\u0e32\\u0e22\\u0e21\\u0e37\\u0e2d\\u0e0a\\u0e37\\u0e48\\u0e2d\", \"\\u0e1a\\u0e31\\u0e07\\u0e04\\u0e31\\u0e1a\", \"\\u0e2b\\u0e25\\u0e31\\u0e01\\u0e10\\u0e32\\u0e19\", \"\\u0e1f\\u0e49\\u0e2d\\u0e07\", \"\\u0e0b\\u0e37\\u0e49\\u0e2d\", \"\\u0e02\\u0e32\\u0e22\", \"\\u0e04\\u0e48\\u0e32\", \"\\u0e08\\u0e33\\u0e19\\u0e27\\u0e19\", \"\\u0e17\\u0e23\\u0e31\\u0e1e\\u0e22\\u0e4c\\u0e2a\\u0e34\\u0e19\", \"\\u0e2a\\u0e34\\u0e17\\u0e18\\u0e34\", \"\\u0e01\\u0e23\\u0e13\\u0e35\", \"\\u0e21\\u0e32\\u0e15\\u0e23\\u0e32\", \"\\u0e04\\u0e27\\u0e32\\u0e21\\u0e1c\\u0e34\\u0e14\", \"\\u0e08\\u0e33\\u0e04\\u0e38\\u0e01\", \"\\u0e08\\u0e33\\u0e40\\u0e25\\u0e22\", \"\\u0e01\\u0e23\\u0e30\\u0e17\\u0e33\\u0e04\\u0e27\\u0e32\\u0e21\\u0e1c\\u0e34\\u0e14\", \"\\u0e25\\u0e07\\u0e42\\u0e17\\u0e29\", \"\\u0e27\\u0e34\", \"\\u0e1b\", \"\\u0e1b\\u0e2d\", \"\\u0e42\\u0e17\\u0e29\", \"\\u0e42\\u0e08\\u0e17\\u0e01\\u0e4c\", \"\\u0e23\\u0e2d\", \"\\u0e1c\\u0e39\\u0e49\\u0e40\\u0e2a\\u0e35\\u0e22\\u0e2b\\u0e32\\u0e22\", \"\\u0e2d\\u0e38\\u0e17\\u0e18\\u0e23\\u0e13\\u0e4c\", \"\\u0e23\\u0e30\\u0e27\\u0e32\\u0e07\\u0e42\\u0e17\\u0e29\", \"\\u0e2d\", \"\\u0e1e\\u0e19\\u0e31\\u0e01\\u0e07\\u0e32\\u0e19\\u0e2a\\u0e2d\\u0e1a\\u0e2a\\u0e27\\u0e19\", \"\\u0e21\\u0e35\\u0e42\\u0e17\\u0e29\", \"\\u0e04\\u0e48\\u0e32\\u0e2a\\u0e34\\u0e19\\u0e44\\u0e2b\\u0e21\\u0e17\\u0e14\\u0e41\\u0e17\\u0e19\", \"\\u0e2d\\u0e32\\u0e0d\\u0e32\", \"\\u0e28\\u0e32\\u0e25\\u0e0e\\u0e35\\u0e01\\u0e32\", \"\\u0e2b\\u0e49\\u0e32\", \"\\u0e23\\u0e31\\u0e1a\\u0e42\\u0e17\\u0e29\", \"\\u0e0e\\u0e35\\u0e01\\u0e32\", \"\\u0e1c\\u0e39\\u0e49\\u0e15\\u0e49\\u0e2d\\u0e07\\u0e2b\\u0e32\", \"\\u0e28\\u0e32\\u0e25\\u0e2d\\u0e38\\u0e17\\u0e18\\u0e23\\u0e13\\u0e4c\", \"\\u0e04\\u0e38\\u0e13\\u0e2a\\u0e21\\u0e1a\\u0e31\\u0e15\\u0e34\", \"\\u0e22\\u0e32\", \"\\u0e01\\u0e23\\u0e30\\u0e1a\\u0e27\\u0e19\", \"\\u0e22\\u0e2d\\u0e21\\u0e04\\u0e27\\u0e32\\u0e21\", \"\\u0e04\\u0e2d\\u0e21\\u0e1e\\u0e34\\u0e27\\u0e40\\u0e15\\u0e2d\\u0e23\\u0e4c\", \"\\u0e10\\u0e32\\u0e19\", \"\\u0e21\\u0e35\\u0e04\\u0e27\\u0e32\\u0e21\\u0e1c\\u0e34\\u0e14\", \"\\u0e04\\u0e14\\u0e35\\u0e2d\\u0e32\\u0e0d\\u0e32\", \"\\u0e15\\u0e33\\u0e23\\u0e27\\u0e08\", \"\\u0e28\\u0e32\\u0e25\", \"\\u0e1e\\u0e22\\u0e32\\u0e19\\u0e2b\\u0e25\\u0e31\\u0e01\\u0e10\\u0e32\\u0e19\", \"\\u0e1e\\u0e34\\u0e08\\u0e32\\u0e23\\u0e13\\u0e32\", \"\\u0e41\\u0e08\\u0e49\\u0e07\\u0e04\\u0e27\\u0e32\\u0e21\", \"\\u0e1e\\u0e34\\u0e1e\\u0e32\\u0e01\\u0e29\\u0e32\", \"\\u0e04\\u0e33\\u0e1e\\u0e34\\u0e1e\\u0e32\\u0e01\\u0e29\\u0e32\", \"\\u0e1a\\u0e32\\u0e17\", \"\\u0e14\\u0e33\\u0e40\\u0e19\\u0e34\\u0e19\\u0e04\\u0e14\\u0e35\", \"\\u0e17\\u0e19\\u0e32\\u0e22\\u0e04\\u0e27\\u0e32\\u0e21\", \"\\u0e17\\u0e19\\u0e32\\u0e22\", \"\\u0e21\\u0e32\\u0e15\\u0e23\\u0e32\", \"\\u0e02\\u0e49\\u0e2d\\u0e2b\\u0e32\", \"\\u0e02\\u0e49\\u0e2d\\u0e40\\u0e17\\u0e47\\u0e08\\u0e08\\u0e23\\u0e34\\u0e07\", \"\\u0e1c\\u0e39\\u0e49\\u0e2d\\u0e37\\u0e48\\u0e19\", \"\\u0e22\\u0e37\\u0e48\\u0e19\", \"\\u0e01\\u0e23\\u0e13\\u0e35\", \"\\u0e19\\u0e32\\u0e22\\u0e08\\u0e49\\u0e32\\u0e07\", \"\\u0e25\\u0e39\\u0e01\\u0e08\\u0e49\\u0e32\\u0e07\", \"\\u0e40\\u0e25\\u0e34\\u0e01\\u0e08\\u0e49\\u0e32\\u0e07\", \"\\u0e17\\u0e33\\u0e07\\u0e32\\u0e19\", \"\\u0e04\\u0e38\\u0e49\\u0e21\\u0e04\\u0e23\\u0e2d\\u0e07\", \"\\u0e04\\u0e48\\u0e32\\u0e08\\u0e49\\u0e32\\u0e07\", \"\\u0e41\\u0e23\\u0e07\\u0e07\\u0e32\\u0e19\", \"\\u0e01\\u0e32\\u0e23\\u0e17\\u0e33\\u0e07\\u0e32\\u0e19\", \"\\u0e04\\u0e48\\u0e32\\u0e0a\\u0e14\\u0e40\\u0e0a\\u0e22\", \"\\u0e07\\u0e32\\u0e19\", \"\\u0e07\\u0e32\", \"\\u0e41\\u0e23\\u0e07\", \"\\u0e40\\u0e1b\\u0e47\\u0e19\\u0e18\\u0e23\\u0e23\\u0e21\", \"\\u0e28\", \"\\u0e2a\\u0e31\\u0e0d\\u0e0d\\u0e32\\u0e08\\u0e49\\u0e32\\u0e07\", \"\\u0e19\\u0e1e\", \"\\u0e28\\u0e32\\u0e25\\u0e41\\u0e23\\u0e07\\u0e07\\u0e32\\u0e19\", \"\\u0e27\\u0e31\\u0e19\\u0e2b\\u0e22\\u0e38\\u0e14\", \"\\u0e1e\\u0e23\\u0e30\\u0e23\\u0e32\\u0e0a\\u0e1a\\u0e31\\u0e0d\\u0e0d\\u0e31\\u0e15\\u0e34\", \"\\u0e25\\u0e32\\u0e2d\\u0e2d\\u0e01\", \"\\u0e02\\u0e49\\u0e2d\\u0e1a\\u0e31\\u0e07\\u0e04\\u0e31\\u0e1a\", \"\\u0e15\\u0e23\\u0e27\\u0e08\", \"\\u0e0a\\u0e31\\u0e48\\u0e27\\u0e42\\u0e21\\u0e07\", \"\\u0e25\\u0e48\\u0e27\\u0e07\\u0e2b\\u0e19\\u0e49\\u0e32\", \"\\u0e08\\u0e49\\u0e32\\u0e07\", \"\\u0e27\\u0e31\\u0e19\\u0e17\\u0e33\\u0e07\\u0e32\\u0e19\", \"\\u0e08\\u0e49\\u0e32\\u0e07\\u0e41\\u0e23\\u0e07\\u0e07\\u0e32\\u0e19\", \"\\u0e43\\u0e1a\\u0e25\\u0e32\\u0e2d\\u0e2d\\u0e01\", \"\\u0e23\\u0e30\\u0e40\\u0e1a\\u0e35\\u0e22\\u0e1a\", \"\\u0e04\\u0e13\\u0e30\\u0e01\\u0e23\\u0e23\\u0e21\\u0e01\\u0e32\\u0e23\", \"\\u0e1b\\u0e01\\u0e15\\u0e34\", \"\\u0e08\\u0e48\\u0e32\\u0e22\", \"\\u0e23\\u0e30\\u0e22\\u0e30\\u0e40\\u0e27\\u0e25\\u0e32\", \"\\u0e1e\\u0e23\", \"\\u0e1a\\u0e23\\u0e34\\u0e29\\u0e31\\u0e17\", \"\\u0e1a\", \"\\u0e1e\\u0e19\\u0e31\\u0e01\\u0e07\\u0e32\\u0e19\", \"\\u0e2a\\u0e34\\u0e17\\u0e18\\u0e34\", \"\\u0e01\\u0e23\\u0e13\\u0e35\", \"\\u0e15\\u0e32\\u0e21\\u0e1e\", \"\\u0e21\\u0e32\\u0e15\\u0e23\\u0e32\", \"\\u0e23\\u0e1a\", \"\\u0e15\\u0e2d\\u0e1a\", \"\\u0e17\\u0e19\\u0e32\\u0e22\", \"\\u0e01\\u0e0e\\u0e2b\\u0e21\\u0e32\\u0e22\", \"\\u0e17\\u0e35\\u0e48\\u0e14\\u0e34\\u0e19\", \"\\u0e17\\u0e32\\u0e22\\u0e32\\u0e17\", \"\\u0e1c\\u0e39\\u0e49\\u0e08\\u0e31\\u0e14\\u0e01\\u0e32\\u0e23\\u0e21\\u0e23\\u0e14\\u0e01\", \"\\u0e21\\u0e23\\u0e14\\u0e01\", \"\\u0e1e\\u0e34\\u0e19\\u0e31\\u0e22\\u0e01\\u0e23\\u0e23\\u0e21\", \"\\u0e17\\u0e23\\u0e31\\u0e1e\\u0e22\\u0e4c\\u0e21\\u0e23\\u0e14\\u0e01\", \"\\u0e01\\u0e23\\u0e23\\u0e21\\u0e2a\\u0e34\\u0e17\\u0e18\\u0e34\\u0e4c\", \"\\u0e17\\u0e32\\u0e22\\u0e32\\u0e17\\u0e42\\u0e14\\u0e22\\u0e18\\u0e23\\u0e23\\u0e21\", \"\\u0e1e\\u0e48\\u0e2d\", \"\\u0e23\\u0e31\\u0e1a\\u0e21\\u0e23\\u0e14\\u0e01\", \"\\u0e04\\u0e38\\u0e13\\u0e1e\\u0e48\\u0e2d\", \"\\u0e41\\u0e1b\\u0e25\\u0e07\", \"\\u0e41\\u0e1a\\u0e48\\u0e07\\u0e1b\\u0e31\\u0e19\", \"\\u0e04\\u0e38\\u0e13\\u0e41\\u0e21\\u0e48\", \"\\u0e40\\u0e1b\\u0e47\\u0e19\\u0e40\\u0e08\\u0e49\\u0e32\\u0e02\\u0e2d\\u0e07\", \"\\u0e01\\u0e32\\u0e23\\u0e04\\u0e23\\u0e2d\\u0e1a\\u0e04\\u0e23\\u0e2d\\u0e07\", \"\\u0e40\\u0e08\\u0e49\\u0e32\\u0e21\\u0e23\\u0e14\\u0e01\", \"\\u0e42\\u0e09\\u0e19\\u0e14\\u0e17\\u0e35\\u0e48\\u0e14\\u0e34\\u0e19\", \"\\u0e04\\u0e23\\u0e2d\\u0e1a\\u0e04\\u0e23\\u0e2d\\u0e07\\u0e1b\\u0e23\\u0e1b\\u0e31\\u0e01\\u0e29\\u0e4c\", \"\\u0e42\\u0e09\\u0e19\\u0e14\", \"\\u0e04\\u0e19\\u0e25\\u0e30\", \"\\u0e2a\\u0e48\\u0e27\\u0e19\\u0e41\\u0e1a\\u0e48\\u0e07\", \"\\u0e44\\u0e14\\u0e49\\u0e40\\u0e2a\\u0e35\\u0e22\", \"\\u0e1b\\u0e49\\u0e32\", \"\\u0e1c\\u0e39\\u0e49\\u0e15\\u0e32\\u0e22\", \"\\u0e40\\u0e17\\u0e48\\u0e32\\u0e46\", \"\\u0e40\\u0e08\\u0e49\\u0e32\\u0e02\\u0e2d\\u0e07\\u0e17\\u0e35\\u0e48\\u0e14\\u0e34\\u0e19\", \"\\u0e02\\u0e49\\u0e2d\\u0e01\\u0e33\\u0e2b\\u0e19\\u0e14\\u0e1e\\u0e34\\u0e19\\u0e31\\u0e22\\u0e01\\u0e23\\u0e23\\u0e21\", \"\\u0e2a\\u0e34\\u0e17\\u0e18\\u0e34\\u0e04\\u0e23\\u0e2d\\u0e1a\\u0e04\\u0e23\\u0e2d\\u0e07\", \"\\u0e1c\\u0e39\\u0e49\\u0e21\\u0e35\\u0e2a\\u0e48\\u0e27\\u0e19\", \"\\u0e41\\u0e21\\u0e48\", \"\\u0e1c\\u0e39\\u0e49\\u0e2a\\u0e37\\u0e1a\\u0e2a\\u0e31\\u0e19\\u0e14\\u0e32\\u0e19\", \"\\u0e15\\u0e32\\u0e22\", \"\\u0e41\\u0e1a\\u0e48\\u0e07\", \"\\u0e42\\u0e2d\\u0e19\", \"\\u0e04\\u0e23\\u0e2d\\u0e1a\\u0e04\\u0e23\\u0e2d\\u0e07\", \"\\u0e25\\u0e39\\u0e01\", \"\\u0e1a\\u0e49\\u0e32\\u0e19\", \"\\u0e2a\\u0e34\\u0e17\\u0e18\\u0e34\", \"\\u0e21\\u0e32\\u0e15\\u0e23\\u0e32\", \"\\u0e1b\\u0e1e\\u0e1e\", \"\\u0e17\\u0e23\\u0e31\\u0e1e\\u0e22\\u0e4c\\u0e2a\\u0e34\\u0e19\", \"\\u0e1a\\u0e38\\u0e04\\u0e04\\u0e25\", \"\\u0e28\\u0e32\\u0e25\", \"\\u0e08\\u0e14\\u0e17\\u0e30\\u0e40\\u0e1a\\u0e35\\u0e22\\u0e19\", \"\\u0e15\\u0e32\\u0e21\\u0e01\\u0e0e\\u0e2b\\u0e21\\u0e32\\u0e22\", \"\\u0e10\\u0e32\\u0e19\\u0e30\", \"\\u0e2a\\u0e32\\u0e21\\u0e35\", \"\\u0e40\\u0e14\\u0e47\\u0e01\", \"\\u0e20\\u0e23\\u0e34\\u0e22\\u0e32\", \"\\u0e1f\\u0e49\\u0e2d\\u0e07\\u0e2b\\u0e22\\u0e48\\u0e32\", \"\\u0e2b\\u0e0d\\u0e34\\u0e07\", \"\\u0e0a\\u0e32\\u0e22\", \"\\u0e08\\u0e14\\u0e17\\u0e30\\u0e40\\u0e1a\\u0e35\\u0e22\\u0e19\\u0e2a\\u0e21\\u0e23\\u0e2a\", \"\\u0e40\\u0e25\\u0e35\\u0e49\\u0e22\\u0e07\\u0e14\\u0e39\", \"\\u0e1c\\u0e39\\u0e49\\u0e40\\u0e22\\u0e32\\u0e27\\u0e4c\", \"\\u0e2b\\u0e22\\u0e48\\u0e32\", \"\\u0e1b\\u0e01\\u0e04\\u0e23\\u0e2d\\u0e07\", \"\\u0e2d\\u0e38\\u0e1b\\u0e01\\u0e32\\u0e23\\u0e30\", \"\\u0e2b\\u0e25\\u0e2d\\u0e01\\u0e25\\u0e27\\u0e07\", \"\\u0e2a\\u0e21\\u0e23\\u0e2a\", \"\\u0e2a\\u0e38\\u0e19\\u0e31\\u0e02\", \"\\u0e01\\u0e32\\u0e23\\u0e2a\\u0e21\\u0e23\\u0e2a\", \"\\u0e40\\u0e14\\u0e37\\u0e2d\\u0e14\\u0e23\\u0e49\\u0e2d\\u0e19\", \"\\u0e1b\\u0e23\\u0e30\\u0e19\\u0e2d\\u0e21\\u0e2b\\u0e19\\u0e35\\u0e49\", \"\\u0e41\\u0e22\\u0e01\\u0e01\\u0e31\\u0e19\", \"\\u0e1c\\u0e39\\u0e49\\u0e40\\u0e0a\\u0e48\\u0e32\", \"\\u0e2a\\u0e32\\u0e21\\u0e35\\u0e20\\u0e23\\u0e23\\u0e22\\u0e32\", \"\\u0e1a\\u0e38\\u0e15\\u0e23\\u0e1a\\u0e38\\u0e0d\\u0e18\\u0e23\\u0e23\\u0e21\", \"\\u0e42\\u0e14\\u0e22\\u0e0a\\u0e2d\\u0e1a\\u0e14\\u0e49\\u0e27\\u0e22\\u0e01\\u0e0e\\u0e2b\\u0e21\\u0e32\\u0e22\", \"\\u0e40\\u0e25\\u0e35\\u0e49\\u0e22\\u0e07\", \"\\u0e04\", \"\\u0e01\\u0e32\\u0e23\\u0e07\\u0e32\\u0e19\", \"\\u0e01\\u0e32\\u0e23\\u0e2b\\u0e22\\u0e48\\u0e32\", \"\\u0e04\\u0e27\\u0e32\\u0e21\\u0e2a\\u0e31\\u0e21\\u0e1e\\u0e31\\u0e19\\u0e18\\u0e4c\", \"\\u0e43\\u0e2b\\u0e49\\u0e40\\u0e0a\\u0e48\\u0e32\", \"\\u0e02\\u0e32\\u0e22\\u0e1d\\u0e32\\u0e01\", \"\\u0e2a\\u0e34\\u0e19\\u0e2a\\u0e21\\u0e23\\u0e2a\", \"\\u0e1a\\u0e38\\u0e15\\u0e23\", \"\\u0e20\\u0e23\\u0e23\\u0e22\\u0e32\", \"\\u0e21\\u0e32\\u0e23\\u0e14\\u0e32\", \"\\u0e1a\\u0e34\\u0e14\\u0e32\", \"\\u0e04\\u0e27\\u0e32\\u0e21\\u0e22\\u0e34\\u0e19\\u0e22\\u0e2d\\u0e21\", \"\\u0e0a\\u0e2d\\u0e1a\\u0e14\\u0e49\\u0e27\\u0e22\\u0e01\\u0e0e\\u0e2b\\u0e21\\u0e32\\u0e22\", \"\\u0e1b\\u0e1e\\u0e1e\", \"\\u0e08\\u0e14\\u0e17\\u0e30\\u0e40\\u0e1a\\u0e35\\u0e22\\u0e19\", \"\\u0e2d\\u0e33\\u0e19\\u0e32\\u0e08\", \"\\u0e21\\u0e32\\u0e15\\u0e23\\u0e32\", \"\\u0e04\\u0e39\\u0e48\\u0e2a\\u0e21\\u0e23\\u0e2a\", \"\\u0e15\\u0e32\\u0e21\\u0e01\\u0e0e\\u0e2b\\u0e21\\u0e32\\u0e22\", \"\\u0e2a\\u0e34\\u0e17\\u0e18\\u0e34\", \"\\u0e28\\u0e32\\u0e25\", \"\\u0e01\\u0e23\\u0e13\\u0e35\", \"\\u0e01\\u0e0e\\u0e2b\\u0e21\\u0e32\\u0e22\", \"\\u0e17\\u0e23\\u0e31\\u0e1e\\u0e22\\u0e4c\\u0e2a\\u0e34\\u0e19\", \"\\u0e1f\\u0e49\\u0e2d\\u0e07\"], \"Freq\": [3066.0, 3280.0, 2635.0, 2358.0, 1628.0, 2361.0, 2409.0, 1781.0, 2363.0, 4305.0, 1187.0, 1058.0, 1382.0, 1122.0, 1003.0, 1198.0, 1429.0, 1137.0, 1041.0, 1220.0, 1221.0, 1181.0, 1198.0, 991.0, 1550.0, 1180.0, 1045.0, 1129.0, 6722.0, 984.0, 1429.6733710371445, 1198.2431215031836, 1180.7590616074608, 1128.9859548974475, 891.6720569246855, 769.317877817241, 750.0978275281008, 698.155005631902, 684.4342508817936, 664.7741720565656, 514.2314960996196, 501.709076296905, 406.04616511006145, 393.3388908757075, 391.0303681764126, 387.5167898366486, 358.3398205240466, 321.4052966829074, 293.0111112532332, 276.2774344254014, 259.74530764569084, 256.75520055235467, 230.30959164969, 229.16005247122968, 219.3205510302071, 203.91742994300836, 198.98935794330777, 194.75107665761414, 193.6247592423324, 179.60231611728088, 1047.1747458594741, 688.6153001601407, 456.3632159792777, 2015.0693664372686, 2014.453892439847, 912.473804643062, 504.56834210768585, 528.8921928344112, 345.3873824807197, 1105.6577925358615, 693.0687851125191, 1717.375912946409, 520.813955129976, 547.3948268237981, 536.2811350338029, 472.8029155431686, 533.9112064230411, 689.5466467321013, 508.1323610175833, 489.27307045831117, 1382.77430149685, 1221.7397570084293, 1045.1924004120306, 984.2978090232566, 674.6752116122098, 588.2934906676644, 585.1765280732789, 528.2803681532796, 519.226646446613, 471.47704167738374, 620.3034775119944, 422.72481094799645, 396.5941930174252, 367.44294382893065, 361.7699196095348, 334.13338163155, 323.09000922358325, 281.827570858934, 280.11171536039996, 278.8825621765175, 275.0892681649201, 232.89787626324272, 221.7167859517026, 221.23485067619475, 213.44071072145135, 194.72618177768868, 177.24106913360538, 171.09740814056818, 168.15496870652134, 167.93429193992776, 1171.4071289837082, 639.8809643599647, 324.2896934382138, 505.8850039849912, 2746.1696602305847, 406.1685125443429, 580.4246567814032, 485.90151398501627, 393.0634266615271, 592.4221799333005, 719.448109984197, 499.68949370256644, 450.5315074595715, 704.2754292146016, 1841.7351723544623, 430.8125881320717, 493.29107470853813, 426.34856552199625, 422.6655325066966, 451.6826545483753, 3280.650615526951, 2634.958920212806, 1198.2226309213067, 991.0574348400429, 858.6412369828333, 823.2637059715709, 727.0553215105404, 675.4894696571395, 624.1626376726236, 603.1562504827057, 575.8293555022988, 573.8175734584299, 569.2281653144131, 548.7326837688244, 546.7818844415597, 542.5973367753878, 437.37422270759373, 425.98480992616027, 371.60263590576164, 360.4415305425531, 357.37034919045493, 317.2421836052154, 300.61422054996535, 290.62716739890254, 241.16678431151658, 216.6451482619094, 199.90656633642973, 199.6114207814665, 199.05001551141828, 176.75167169333588, 258.6932980140765, 1545.6989121117688, 511.49566560418594, 713.9568815880252, 1127.3760408568696, 429.985869772461, 460.0428746280292, 1188.4053849541335, 823.2375319737363, 461.93468801790596, 1208.6168921149688, 459.9893393582315, 514.0462002673999, 496.70962344190946, 479.3381839306435, 3066.0697315645893, 1187.6786027238227, 1122.631745445739, 1041.1256150892598, 754.6776620457697, 731.7316408588745, 606.2473009407892, 577.695396879287, 544.1676405583288, 532.9352898835956, 504.875775356312, 495.8107299976976, 427.6659591916879, 425.0848356360102, 422.8364153502249, 337.3076984956959, 316.30956710302246, 304.6654237077175, 281.4599005650192, 234.3627450515869, 230.07658200721346, 220.25966871112396, 217.25255024941893, 200.64965374331572, 194.81050644955167, 194.06694078466873, 182.4809368500553, 174.18378693671454, 167.41124045439966, 162.95065902795147, 715.3191902426445, 280.56831892253194, 449.3403312954719, 607.7019533091235, 809.3993656298449, 446.1135382338599, 346.5040493002716, 672.2120009505526, 1778.821325947796, 1536.4724070287427, 813.9311581802148, 621.4089700299836, 423.58971999302804, 694.3451295523519, 372.39755390148633, 399.78907110888565, 348.00933964328163, 1628.1764891721828, 1058.377168742906, 1003.6933821916473, 538.3027825779742, 469.092176007839, 431.07691903280994, 417.0925106199501, 377.20953578453697, 376.3994445769591, 303.6353620734344, 283.0751724150887, 251.19133685788827, 237.86619174319674, 234.60714388974867, 211.9756323305592, 191.93050186479547, 178.3660231325508, 174.96834296143825, 171.40352863444554, 168.67625533734505, 161.2132934968448, 160.73925318352684, 160.2791618217895, 120.16210370744197, 113.62467233791489, 113.25140151070138, 109.93554479858138, 105.3880599517524, 102.42053739362912, 99.00851863541695, 446.8797174493469, 2232.2008481017474, 549.215460413151, 1032.1504902497927, 999.1712723579939, 489.17523749137854, 350.4843186448479, 1162.6711418981606, 500.979323466951, 276.56757738542996, 1646.4168863592108, 219.99094148281085, 568.1413823323287, 598.195021929626, 486.9530292357974, 380.7239312753696, 309.02657341401994, 305.13721218146617, 272.71951751789146], \"Total\": [3066.0, 3280.0, 2635.0, 2358.0, 1628.0, 2361.0, 2409.0, 1781.0, 2363.0, 4305.0, 1187.0, 1058.0, 1382.0, 1122.0, 1003.0, 1198.0, 1429.0, 1137.0, 1041.0, 1220.0, 1221.0, 1181.0, 1198.0, 991.0, 1550.0, 1180.0, 1045.0, 1129.0, 6722.0, 984.0, 1429.7215945229123, 1198.2913449889513, 1180.8072850932285, 1129.0341792400268, 891.7202804104531, 769.3661013030086, 750.1460510148131, 698.2032291176696, 684.48247436828, 664.8223955423332, 514.2797214948006, 501.75729978267265, 406.0943885958291, 393.38711436147514, 391.07859166218026, 387.5650133224163, 358.3880440124223, 321.4535201686751, 293.05933473900086, 276.32565866028517, 259.7935311314585, 256.80342403812233, 230.3578151364023, 229.20827596432875, 219.36877451597474, 203.965653428776, 199.0375814290754, 194.79930014338177, 193.67298272810004, 179.65053960304851, 1056.7785160020246, 694.4230292805894, 480.4270608360957, 2361.2241156094983, 2409.353815886347, 1024.2330668764919, 542.6209811903557, 577.0640895779475, 360.9213000217563, 1400.030852254734, 820.1918395872781, 2741.583732954358, 648.0288230546523, 808.8855276789486, 997.4409191175323, 846.7826929035805, 1460.496626798349, 4450.410623243888, 2467.5378615832697, 6722.514428315695, 1382.8220221692852, 1221.7874776792175, 1045.2401211961633, 984.345792480161, 674.722932282998, 588.3412261336667, 585.2251521038281, 528.3280888240679, 519.2743671174013, 471.5251603443965, 620.3722270907327, 422.7725316187847, 396.64191368821344, 367.4906644997189, 361.817640280323, 334.1811023023382, 323.1377298943715, 281.87529152972223, 280.1594360311882, 278.93028284730576, 275.1369888378673, 232.945596934031, 221.76450662357033, 221.28257134698302, 213.48843139223962, 194.77390244847695, 177.28878980439364, 171.1451288124359, 168.2026893956606, 167.98201261071603, 1181.1067514011538, 702.2876162346711, 340.7963860746384, 564.6533601426528, 4305.557091401523, 457.9606433800649, 717.6338221962911, 590.0000960058879, 455.01533492051163, 804.0783120425403, 1109.5139941250113, 659.9649077280208, 567.9530782198005, 1209.8918032407714, 6722.514428315695, 575.096510920637, 851.0776152568039, 576.1044095712698, 629.8820546271517, 2467.5378615832697, 3280.6965724199035, 2635.0048771057586, 1198.2685878142593, 991.1033917329953, 858.6871938757857, 823.3096628645233, 727.1012784034928, 675.5354265500919, 624.208594565576, 603.2022073756581, 575.8753123952512, 573.8635303513823, 569.2741222073655, 548.7786406617768, 546.8278413345121, 542.6432936683402, 437.4201796005462, 426.0307668191127, 371.6485927987141, 360.48748743550556, 357.4163060834074, 317.2881404981679, 300.6601774429178, 290.67312430912654, 241.212741204469, 216.69110515486184, 199.95252322938217, 199.65737767441894, 199.0959724043707, 176.7976285862883, 265.11087002930816, 1781.7677770223045, 581.3193568172693, 899.965943957626, 1550.854263278274, 571.3461470392087, 700.631397698865, 4450.410623243888, 2467.5378615832697, 741.8149541487937, 6722.514428315695, 743.1931294614651, 1088.8345389056801, 1209.8918032407714, 1547.9434511508575, 3066.120354245798, 1187.729225405031, 1122.6823681269473, 1041.176237770468, 754.7282847269781, 731.7822635400829, 606.2979236219976, 577.7460195604955, 544.2182632395372, 532.9859138085747, 504.92639803752036, 495.861352678906, 427.71658187289626, 425.1354583172186, 422.88703809080414, 337.35832117690427, 316.36018978423084, 304.71604638892586, 281.5105232462276, 234.4133677327953, 230.12720468842187, 220.31029139233237, 217.3031729317068, 200.70027642452413, 194.86112913170473, 194.11756346587714, 182.5315595312637, 174.23440961792295, 167.46186313560807, 163.00128170915988, 749.505552819369, 288.2450308192661, 493.0779876391672, 693.3536765217376, 1083.6031743028664, 546.9326774905502, 415.6660710285505, 1018.1386361324367, 4450.410623243888, 6722.514428315695, 2363.72448256721, 1460.496626798349, 913.8780186927379, 4305.557091401523, 873.4146016644861, 1710.428586654149, 806.1267404975281, 1628.223465902209, 1058.4241454729322, 1003.7403589216734, 538.3497593080003, 469.139152851225, 431.1238963523073, 417.1394873550076, 377.2565125145631, 376.44642130986034, 303.68233880346054, 283.1221491451148, 251.2383135879144, 237.91316847322287, 234.6541206197748, 212.02260906058532, 191.9774785948216, 178.41299986257692, 175.01531969146438, 171.45050536447167, 168.72323206737119, 161.26027022687094, 160.78622991355297, 160.32613859243625, 120.2090804374681, 113.67164907333837, 113.29837824072752, 109.9825215286075, 105.43503668177853, 102.46751412365525, 99.05549536544308, 454.59248721145315, 2358.2232272819506, 576.6174575085963, 1137.834279993063, 1220.003473035381, 572.3229063161261, 410.0314626433074, 2363.72448256721, 873.4146016644861, 377.4448874430793, 6722.514428315695, 266.6314474560427, 1710.428586654149, 4450.410623243888, 4305.557091401523, 2467.5378615832697, 1547.9434511508575, 1460.496626798349, 2741.583732954358], \"Category\": [\"Default\", \"Default\", \"Default\", \"Default\", \"Default\", \"Default\", \"Default\", \"Default\", \"Default\", \"Default\", \"Default\", \"Default\", \"Default\", \"Default\", \"Default\", \"Default\", \"Default\", \"Default\", \"Default\", \"Default\", \"Default\", \"Default\", \"Default\", \"Default\", \"Default\", \"Default\", \"Default\", \"Default\", \"Default\", \"Default\", \"Topic1\", \"Topic1\", \"Topic1\", \"Topic1\", \"Topic1\", \"Topic1\", \"Topic1\", \"Topic1\", \"Topic1\", \"Topic1\", \"Topic1\", \"Topic1\", \"Topic1\", \"Topic1\", \"Topic1\", \"Topic1\", \"Topic1\", \"Topic1\", \"Topic1\", \"Topic1\", \"Topic1\", \"Topic1\", \"Topic1\", \"Topic1\", \"Topic1\", \"Topic1\", \"Topic1\", \"Topic1\", \"Topic1\", \"Topic1\", \"Topic1\", \"Topic1\", \"Topic1\", \"Topic1\", \"Topic1\", \"Topic1\", \"Topic1\", \"Topic1\", \"Topic1\", \"Topic1\", \"Topic1\", \"Topic1\", \"Topic1\", \"Topic1\", \"Topic1\", \"Topic1\", \"Topic1\", \"Topic1\", \"Topic1\", \"Topic1\", \"Topic2\", \"Topic2\", \"Topic2\", \"Topic2\", \"Topic2\", \"Topic2\", \"Topic2\", \"Topic2\", \"Topic2\", \"Topic2\", \"Topic2\", \"Topic2\", \"Topic2\", \"Topic2\", \"Topic2\", \"Topic2\", \"Topic2\", \"Topic2\", \"Topic2\", \"Topic2\", \"Topic2\", \"Topic2\", \"Topic2\", \"Topic2\", \"Topic2\", \"Topic2\", \"Topic2\", \"Topic2\", \"Topic2\", \"Topic2\", \"Topic2\", \"Topic2\", \"Topic2\", \"Topic2\", \"Topic2\", \"Topic2\", \"Topic2\", \"Topic2\", \"Topic2\", \"Topic2\", \"Topic2\", \"Topic2\", \"Topic2\", \"Topic2\", \"Topic2\", \"Topic2\", \"Topic2\", \"Topic2\", \"Topic2\", \"Topic2\", \"Topic3\", \"Topic3\", \"Topic3\", \"Topic3\", \"Topic3\", \"Topic3\", \"Topic3\", \"Topic3\", \"Topic3\", \"Topic3\", \"Topic3\", \"Topic3\", \"Topic3\", \"Topic3\", \"Topic3\", \"Topic3\", \"Topic3\", \"Topic3\", \"Topic3\", \"Topic3\", \"Topic3\", \"Topic3\", \"Topic3\", \"Topic3\", \"Topic3\", \"Topic3\", \"Topic3\", \"Topic3\", \"Topic3\", \"Topic3\", \"Topic3\", \"Topic3\", \"Topic3\", \"Topic3\", \"Topic3\", \"Topic3\", \"Topic3\", \"Topic3\", \"Topic3\", \"Topic3\", \"Topic3\", \"Topic3\", \"Topic3\", \"Topic3\", \"Topic3\", \"Topic4\", \"Topic4\", \"Topic4\", \"Topic4\", \"Topic4\", \"Topic4\", \"Topic4\", \"Topic4\", \"Topic4\", \"Topic4\", \"Topic4\", \"Topic4\", \"Topic4\", \"Topic4\", \"Topic4\", \"Topic4\", \"Topic4\", \"Topic4\", \"Topic4\", \"Topic4\", \"Topic4\", \"Topic4\", \"Topic4\", \"Topic4\", \"Topic4\", \"Topic4\", \"Topic4\", \"Topic4\", \"Topic4\", \"Topic4\", \"Topic4\", \"Topic4\", \"Topic4\", \"Topic4\", \"Topic4\", \"Topic4\", \"Topic4\", \"Topic4\", \"Topic4\", \"Topic4\", \"Topic4\", \"Topic4\", \"Topic4\", \"Topic4\", \"Topic4\", \"Topic4\", \"Topic4\", \"Topic5\", \"Topic5\", \"Topic5\", \"Topic5\", \"Topic5\", \"Topic5\", \"Topic5\", \"Topic5\", \"Topic5\", \"Topic5\", \"Topic5\", \"Topic5\", \"Topic5\", \"Topic5\", \"Topic5\", \"Topic5\", \"Topic5\", \"Topic5\", \"Topic5\", \"Topic5\", \"Topic5\", \"Topic5\", \"Topic5\", \"Topic5\", \"Topic5\", \"Topic5\", \"Topic5\", \"Topic5\", \"Topic5\", \"Topic5\", \"Topic5\", \"Topic5\", \"Topic5\", \"Topic5\", \"Topic5\", \"Topic5\", \"Topic5\", \"Topic5\", \"Topic5\", \"Topic5\", \"Topic5\", \"Topic5\", \"Topic5\", \"Topic5\", \"Topic5\", \"Topic5\", \"Topic5\", \"Topic5\", \"Topic5\"], \"logprob\": [30.0, 29.0, 28.0, 27.0, 26.0, 25.0, 24.0, 23.0, 22.0, 21.0, 20.0, 19.0, 18.0, 17.0, 16.0, 15.0, 14.0, 13.0, 12.0, 11.0, 10.0, 9.0, 8.0, 7.0, 6.0, 5.0, 4.0, 3.0, 2.0, 1.0, -3.9728, -4.1494, -4.1641, -4.2089, -4.4449, -4.5925, -4.6178, -4.6895, -4.7094, -4.7385, -4.9953, -5.02, -5.2315, -5.2633, -5.2692, -5.2782, -5.3565, -5.4653, -5.5578, -5.6166, -5.6783, -5.6899, -5.7986, -5.8036, -5.8474, -5.9203, -5.9447, -5.9663, -5.9721, -6.0472, -4.2841, -4.7033, -5.1147, -3.6296, -3.6299, -4.4218, -5.0143, -4.9672, -5.3933, -4.2298, -4.6968, -3.7894, -4.9826, -4.9328, -4.9533, -5.0793, -4.9577, -4.7019, -5.0072, -5.0451, -3.8727, -3.9965, -4.1526, -4.2127, -4.5903, -4.7274, -4.7327, -4.835, -4.8522, -4.9487, -4.6744, -5.0579, -5.1217, -5.198, -5.2136, -5.293, -5.3266, -5.4633, -5.4694, -5.4738, -5.4875, -5.654, -5.7032, -5.7054, -5.7412, -5.833, -5.9271, -5.9623, -5.9797, -5.981, -4.0386, -4.6433, -5.3229, -4.8783, -3.1866, -5.0978, -4.7408, -4.9186, -5.1306, -4.7204, -4.5261, -4.8906, -4.9942, -4.5474, -3.5861, -5.0389, -4.9035, -5.0493, -5.058, -4.9916, -2.8715, -3.0907, -3.8787, -4.0685, -4.2119, -4.254, -4.3783, -4.4518, -4.5309, -4.5651, -4.6115, -4.615, -4.623, -4.6597, -4.6632, -4.6709, -4.8865, -4.9129, -5.0495, -5.0799, -5.0885, -5.2076, -5.2614, -5.2952, -5.4818, -5.589, -5.6694, -5.6709, -5.6737, -5.7925, -5.4116, -3.624, -4.7299, -4.3965, -3.9396, -4.9035, -4.836, -3.8869, -4.254, -4.8319, -3.87, -4.8361, -4.725, -4.7593, -4.7949, -2.8031, -3.7515, -3.8079, -3.8832, -4.205, -4.2359, -4.424, -4.4722, -4.532, -4.5529, -4.607, -4.6251, -4.7729, -4.779, -4.7843, -5.0103, -5.0746, -5.1121, -5.1913, -5.3744, -5.3929, -5.4365, -5.4502, -5.5297, -5.5593, -5.5631, -5.6246, -5.6712, -5.7108, -5.7378, -4.2586, -5.1945, -4.7235, -4.4216, -4.135, -4.7307, -4.9834, -4.3207, -3.3476, -3.494, -4.1294, -4.3993, -4.7825, -4.2883, -4.9113, -4.8403, -4.9791, -3.2463, -3.677, -3.7301, -4.3531, -4.4907, -4.5752, -4.6082, -4.7087, -4.7109, -4.9257, -4.9958, -5.1153, -5.1698, -5.1836, -5.2851, -5.3844, -5.4577, -5.4769, -5.4975, -5.5136, -5.5588, -5.5617, -5.5646, -5.8527, -5.9086, -5.9119, -5.9416, -5.9839, -6.0124, -6.0463, -4.5392, -2.9308, -4.333, -3.7021, -3.7346, -4.4488, -4.7822, -3.5831, -4.425, -5.0191, -3.2352, -5.2479, -4.2992, -4.2476, -4.4534, -4.6995, -4.9081, -4.9208, -5.0331], \"loglift\": [30.0, 29.0, 28.0, 27.0, 26.0, 25.0, 24.0, 23.0, 22.0, 21.0, 20.0, 19.0, 18.0, 17.0, 16.0, 15.0, 14.0, 13.0, 12.0, 11.0, 10.0, 9.0, 8.0, 7.0, 6.0, 5.0, 4.0, 3.0, 2.0, 1.0, 1.3492, 1.3492, 1.3492, 1.3492, 1.3492, 1.3492, 1.3492, 1.3492, 1.3492, 1.3492, 1.3492, 1.3492, 1.3491, 1.3491, 1.3491, 1.3491, 1.3491, 1.3491, 1.3491, 1.3491, 1.3491, 1.3491, 1.3491, 1.3491, 1.349, 1.349, 1.349, 1.349, 1.349, 1.349, 1.3401, 1.3409, 1.2979, 1.1907, 1.1703, 1.2337, 1.2766, 1.2621, 1.3053, 1.1132, 1.1809, 0.8815, 1.1307, 0.9588, 0.7287, 0.7665, 0.343, -0.5155, -0.231, -1.271, 1.4826, 1.4826, 1.4826, 1.4826, 1.4826, 1.4826, 1.4826, 1.4826, 1.4826, 1.4826, 1.4825, 1.4825, 1.4825, 1.4825, 1.4825, 1.4825, 1.4825, 1.4825, 1.4825, 1.4825, 1.4825, 1.4825, 1.4824, 1.4824, 1.4824, 1.4824, 1.4824, 1.4824, 1.4824, 1.4824, 1.4744, 1.3896, 1.433, 1.3728, 1.033, 1.3626, 1.2705, 1.2885, 1.3363, 1.1772, 1.0495, 1.2045, 1.251, 0.9415, 0.1879, 1.1938, 0.9373, 1.1816, 1.0837, -0.2153, 1.6199, 1.6199, 1.6199, 1.6199, 1.6199, 1.6199, 1.6199, 1.6199, 1.6199, 1.6199, 1.6199, 1.6199, 1.6199, 1.6199, 1.6199, 1.6199, 1.6199, 1.6199, 1.6198, 1.6198, 1.6198, 1.6198, 1.6198, 1.6198, 1.6198, 1.6197, 1.6197, 1.6197, 1.6197, 1.6197, 1.5955, 1.4778, 1.492, 1.3884, 1.301, 1.3357, 1.1993, 0.2996, 0.5222, 1.1463, -0.096, 1.1402, 0.8694, 0.7297, 0.4477, 1.7559, 1.7559, 1.7559, 1.7559, 1.7559, 1.7559, 1.7559, 1.7559, 1.7559, 1.7559, 1.7559, 1.7559, 1.7558, 1.7558, 1.7558, 1.7558, 1.7558, 1.7558, 1.7558, 1.7557, 1.7557, 1.7557, 1.7557, 1.7557, 1.7557, 1.7557, 1.7557, 1.7557, 1.7556, 1.7556, 1.7093, 1.729, 1.6631, 1.6241, 1.4642, 1.5522, 1.574, 1.3408, 0.8389, 0.28, 0.6898, 0.9014, 0.987, -0.0687, 0.9035, 0.3024, 0.9159, 1.9457, 1.9457, 1.9457, 1.9456, 1.9456, 1.9456, 1.9456, 1.9456, 1.9456, 1.9456, 1.9455, 1.9455, 1.9455, 1.9455, 1.9455, 1.9455, 1.9454, 1.9454, 1.9454, 1.9454, 1.9454, 1.9454, 1.9454, 1.9453, 1.9453, 1.9453, 1.9453, 1.9453, 1.9452, 1.9452, 1.9286, 1.8908, 1.897, 1.8482, 1.746, 1.7887, 1.7888, 1.2362, 1.3899, 1.6347, 0.5388, 1.7534, 0.8436, -0.0611, -0.2338, 0.0768, 0.3345, 0.3799, -0.3621]}, \"token.table\": {\"Topic\": [1, 2, 3, 4, 5, 1, 2, 3, 4, 5, 4, 2, 2, 4, 5, 1, 3, 5, 5, 1, 1, 1, 4, 1, 5, 4, 3, 1, 2, 1, 2, 3, 4, 5, 5, 3, 1, 2, 4, 2, 4, 4, 2, 3, 4, 5, 5, 2, 1, 1, 2, 5, 1, 3, 4, 5, 4, 2, 4, 3, 4, 5, 1, 1, 3, 5, 3, 3, 2, 1, 3, 3, 4, 5, 5, 2, 1, 2, 3, 4, 5, 2, 1, 3, 5, 3, 1, 3, 3, 5, 3, 5, 1, 1, 1, 4, 2, 1, 2, 1, 2, 4, 5, 1, 3, 1, 2, 3, 1, 2, 3, 4, 1, 2, 3, 4, 5, 2, 3, 4, 5, 1, 2, 1, 2, 3, 1, 2, 4, 4, 1, 4, 5, 4, 4, 3, 1, 3, 4, 1, 3, 3, 2, 3, 1, 3, 1, 3, 4, 5, 1, 2, 4, 5, 1, 2, 4, 5, 4, 5, 5, 1, 4, 5, 2, 5, 1, 3, 1, 4, 5, 5, 2, 4, 1, 1, 4, 4, 2, 1, 4, 4, 5, 2, 4, 5, 5, 5, 2, 1, 2, 3, 4, 2, 1, 2, 2, 3, 3, 1, 2, 3, 4, 1, 2, 5, 4, 1, 2, 3, 4, 5, 1, 4, 5, 5, 4, 5, 5, 4, 1, 2, 3, 4, 5, 4, 5, 1, 2, 3, 2, 2, 2, 1, 1, 2, 3, 4, 1, 1, 2, 3, 2, 2, 3, 2, 3, 1, 5, 4, 2, 1, 4, 2, 3, 4, 5, 3, 1, 3, 1, 3, 3, 2, 3, 1, 2, 4, 5, 2, 2, 3, 5, 1, 3, 3, 5, 5, 1, 2, 3, 4, 5, 4, 4, 5, 5, 4, 5, 1, 5, 5, 1, 2, 4, 2, 2, 2, 1, 2, 5, 2, 5, 1, 3, 1, 1, 4, 4, 4, 1, 1, 1, 5, 5, 4, 3, 1, 4, 3, 5, 5, 1, 2, 4, 5, 4, 4, 4, 5, 5, 3, 3, 2, 4, 4, 5, 2, 1, 4, 1, 3, 5, 1, 4, 1], \"Freq\": [0.1479382207597727, 0.22223034035529174, 0.30944282857611843, 0.12015942821536124, 0.19961969526100334, 0.20587323416956493, 0.18317854693827432, 0.3335308498455747, 0.1231997306841491, 0.1544049256271737, 0.9995086184359369, 0.9996487083270913, 0.9991520131864521, 0.9989378617499215, 0.9973664385548967, 0.9997975333594007, 0.999207404187777, 1.0001173127459702, 1.0001589204461725, 0.9990159454965791, 0.999708925554632, 0.6762390737408612, 0.3226661759531349, 1.0007947421463586, 0.9994397548037255, 0.9986546307446561, 0.9988352347771446, 0.25039275541678935, 0.7494394276710848, 0.07754874387112763, 0.5792656170979685, 0.10692326806473659, 0.15862243064548834, 0.07637376290338328, 1.0028885912128342, 1.0011446500461, 0.04694885466448524, 0.9507143069558261, 0.9994472418478549, 0.18466623801563778, 0.8154568530195491, 0.9981864861024003, 1.0001287062455337, 0.09609959586279498, 0.04892343062105927, 0.8544127704892136, 0.9958738888374313, 1.0001070792580968, 1.000168393896946, 0.2002292532813423, 0.7362466952953705, 0.06218299791346034, 0.8904223359837828, 0.015621444490943558, 0.029290208420519173, 0.06443845852514218, 1.0001457677054828, 1.0011608205651825, 0.9996813761012672, 1.0003642841379785, 0.1762732807717608, 0.8251089738252634, 0.9988214678945703, 0.5373751865666553, 0.2977619970341355, 0.16442076603905123, 0.9996238804443933, 0.9996658255471135, 1.00044242427068, 0.9997675698101728, 1.0002165184060943, 0.9996647767975886, 0.4259145648482074, 0.5736107445939568, 0.9996656098038283, 1.0001739437706352, 0.5585848694877122, 0.14171286329497984, 0.28814948869979234, 0.007085643164748992, 0.003542821582374496, 0.9997702717382408, 0.11898295767493058, 0.8676776064407673, 0.013469768793388367, 0.9991180349619729, 1.001030290439804, 1.000237440217563, 0.14633023430251962, 0.8535930334313645, 1.0011302546282395, 0.9997126200766053, 0.9994560907554598, 1.0001947270560607, 0.803976584782342, 0.1959789371734308, 1.0010619074261031, 0.008466635203072831, 0.9914429822798285, 0.295238934578836, 0.004961998900484639, 0.43169390434216354, 0.26918844035129164, 0.9491555267649061, 0.04995555404025822, 0.24243713283303522, 0.757616040103235, 0.9990918648969499, 0.17449850570588732, 0.2424610816123908, 0.47206437859382144, 0.11112799573901244, 0.16779420213118304, 0.09120521091451064, 0.17480998758614538, 0.2338595151654119, 0.3320805115348849, 0.37745262269792074, 0.6227968274515692, 0.9106064583207002, 0.08923537676193943, 0.10448888497731487, 0.8961250135342598, 0.007438681686984682, 0.5818702119596907, 0.41078053315904295, 0.1496602505728556, 0.794079682451269, 0.05810339139887335, 1.0002975426855303, 0.36562905398187506, 0.42519783243959625, 0.20883307390350542, 1.0002279767047717, 1.000439605693342, 0.9998956801743817, 0.9306680307351441, 0.07003046567908015, 0.9999607470575539, 0.9992951253153336, 1.000657349562451, 1.00009248876676, 0.24678559701624075, 0.7526085582764789, 0.27275290142726966, 0.7266962645591795, 0.7899825908970501, 0.13428275505302478, 0.06714137752651239, 0.009285509657921928, 0.3515052555128546, 0.648031483881391, 0.18114702530325572, 0.818850127954536, 0.08535055927001675, 0.32389443005032, 0.4639568862882962, 0.1280258389050251, 0.05343005638411319, 0.9464752845185765, 1.001329529814599, 0.1758110277397588, 0.6600279924084799, 0.16402481358960735, 0.9996152726809182, 0.9995685637966382, 0.022632040698054728, 0.9769497567993625, 0.16372466539741737, 0.34437177683074355, 0.4920201184940476, 0.9999124665686902, 0.9993790055251498, 1.0014933889520006, 0.9985891578712931, 1.0011223579596487, 1.0002829222958072, 1.0007126658298353, 0.9987230293589642, 1.001945223196789, 0.9999921368154505, 0.9748650278595475, 0.027754164494221994, 0.7394492958611865, 0.18052283279240233, 0.07984663758125488, 1.0016403664702103, 0.9988141172698441, 1.0005380396411856, 1.0007654725111783, 0.27546581645339335, 0.6565506506143054, 0.0685096331075797, 0.9994580713837781, 0.11354687515548104, 0.8865390637139481, 0.20667448723899448, 0.7933633542400111, 1.0009455362083832, 0.0390171130930076, 0.8082116283551575, 0.15188804739777959, 1.0003600173446794, 0.002197728127502986, 0.8637071541086735, 0.13406141577768213, 0.9995989417219517, 0.6262803427673331, 0.145901069951621, 0.07842182509899628, 0.04960636378355114, 0.09957748024198133, 0.9167092694797547, 0.04332274430433624, 0.03985692475998934, 0.9993503121308164, 0.04682480498710444, 0.9521043680711235, 1.0002586735464194, 0.9998307320470111, 0.07274063971366104, 0.27400461830790107, 0.17984342211414356, 0.22848593578769602, 0.24484886087665864, 0.0931594361884107, 0.9069862089286778, 0.04129362291119994, 0.9113075401092399, 0.046989295036882685, 0.9995737734048682, 0.9987949693528156, 0.9983710769038907, 0.9998053032277974, 0.0968435273745145, 0.6715542963839284, 0.12224510832520682, 0.11113191665927893, 0.9999697270103464, 0.9989172517920021, 0.3807893113934844, 0.6189508241731548, 0.9993999939480233, 0.1204157390926235, 0.8790348953761515, 0.9986648245870766, 0.9995179590867073, 0.9907468633645029, 0.009462720758018175, 1.0000264288249658, 1.000233544083619, 0.9558870589771329, 0.041560306912049254, 1.0004106392472307, 0.9986476994278677, 0.8348047247189582, 0.16599863402192538, 0.9999981491093998, 1.00031368535144, 1.0011245473473007, 0.9998111842557291, 1.001425507728697, 0.9999277826356475, 0.9994200200181294, 1.0004033672629027, 0.08779351707004199, 0.6377804176569717, 0.16118703927674377, 0.11310963707172077, 1.000249944724476, 0.9977121411729227, 0.9990394142288317, 1.0014739966181359, 0.8533709217516915, 0.14653416323875199, 1.0003148315657588, 0.9998627547711424, 0.998386023869954, 0.15504187330405514, 0.04381618158592863, 0.2669416601235036, 0.3997383950839335, 0.13436962353018111, 0.997241980192027, 0.01759817908358615, 0.9832982562953763, 0.9998933648600709, 0.9985915710502157, 0.9997033868301562, 0.9995241520228295, 1.0010460311843985, 1.0003649715034033, 0.8449242805789421, 0.1402110999517725, 0.014630723473228434, 0.9995021067925257, 1.0005040100298472, 0.9994309096511372, 0.9984466985146979, 0.2675887350977335, 0.7338819764561603, 1.0009027949377736, 0.999051444087046, 0.8359087763368183, 0.1639443727174991, 0.9983189288594586, 0.992190597010863, 0.008640266447119271, 0.9970878486294166, 0.9988614566691324, 0.999756866316218, 1.000483700421364, 1.0001632060618226, 0.997685147030233, 0.999599267009595, 0.9993943697634665, 0.9995184706336157, 1.0016885022747808, 1.0002671207651714, 0.9997758534130072, 0.998260693479168, 0.9993200580876568, 0.17627115775751015, 0.8237286795206724, 0.8768973477577549, 0.12403482221573506, 1.0006626306744122, 1.0002796090486685, 0.9539622452567942, 0.04536323963458882, 0.997372388238145, 1.0002378085405323, 0.9998607093585159, 0.998886251702851, 0.9982365863483242, 1.0009318630063602, 0.9979657802819956, 0.9994716336203453, 0.25286009352665223, 0.7465832688432906, 0.999799038700006, 1.0017160514155394, 0.9954374405619808, 0.9990913244146509, 0.9986048389095447, 1.0002671457202068], \"Term\": [\"\\u0e01\\u0e0e\\u0e2b\\u0e21\\u0e32\\u0e22\", \"\\u0e01\\u0e0e\\u0e2b\\u0e21\\u0e32\\u0e22\", \"\\u0e01\\u0e0e\\u0e2b\\u0e21\\u0e32\\u0e22\", \"\\u0e01\\u0e0e\\u0e2b\\u0e21\\u0e32\\u0e22\", \"\\u0e01\\u0e0e\\u0e2b\\u0e21\\u0e32\\u0e22\", \"\\u0e01\\u0e23\\u0e13\\u0e35\", \"\\u0e01\\u0e23\\u0e13\\u0e35\", \"\\u0e01\\u0e23\\u0e13\\u0e35\", \"\\u0e01\\u0e23\\u0e13\\u0e35\", \"\\u0e01\\u0e23\\u0e13\\u0e35\", \"\\u0e01\\u0e23\\u0e23\\u0e21\\u0e2a\\u0e34\\u0e17\\u0e18\\u0e34\\u0e4c\", \"\\u0e01\\u0e23\\u0e30\\u0e17\\u0e33\\u0e04\\u0e27\\u0e32\\u0e21\\u0e1c\\u0e34\\u0e14\", \"\\u0e01\\u0e23\\u0e30\\u0e1a\\u0e27\\u0e19\", \"\\u0e01\\u0e32\\u0e23\\u0e04\\u0e23\\u0e2d\\u0e1a\\u0e04\\u0e23\\u0e2d\\u0e07\", \"\\u0e01\\u0e32\\u0e23\\u0e07\\u0e32\\u0e19\", \"\\u0e01\\u0e32\\u0e23\\u0e0a\\u0e33\\u0e23\\u0e30\\u0e2b\\u0e19\\u0e35\\u0e49\", \"\\u0e01\\u0e32\\u0e23\\u0e17\\u0e33\\u0e07\\u0e32\\u0e19\", \"\\u0e01\\u0e32\\u0e23\\u0e2a\\u0e21\\u0e23\\u0e2a\", \"\\u0e01\\u0e32\\u0e23\\u0e2b\\u0e22\\u0e48\\u0e32\", \"\\u0e01\\u0e39\\u0e49\", \"\\u0e01\\u0e39\\u0e49\\u0e22\\u0e37\\u0e21\", \"\\u0e02\\u0e32\\u0e22\", \"\\u0e02\\u0e32\\u0e22\", \"\\u0e02\\u0e32\\u0e22\\u0e17\\u0e2d\\u0e14\\u0e15\\u0e25\\u0e32\\u0e14\", \"\\u0e02\\u0e32\\u0e22\\u0e1d\\u0e32\\u0e01\", \"\\u0e02\\u0e49\\u0e2d\\u0e01\\u0e33\\u0e2b\\u0e19\\u0e14\\u0e1e\\u0e34\\u0e19\\u0e31\\u0e22\\u0e01\\u0e23\\u0e23\\u0e21\", \"\\u0e02\\u0e49\\u0e2d\\u0e1a\\u0e31\\u0e07\\u0e04\\u0e31\\u0e1a\", \"\\u0e02\\u0e49\\u0e2d\\u0e2b\\u0e32\", \"\\u0e02\\u0e49\\u0e2d\\u0e2b\\u0e32\", \"\\u0e02\\u0e49\\u0e2d\\u0e40\\u0e17\\u0e47\\u0e08\\u0e08\\u0e23\\u0e34\\u0e07\", \"\\u0e02\\u0e49\\u0e2d\\u0e40\\u0e17\\u0e47\\u0e08\\u0e08\\u0e23\\u0e34\\u0e07\", \"\\u0e02\\u0e49\\u0e2d\\u0e40\\u0e17\\u0e47\\u0e08\\u0e08\\u0e23\\u0e34\\u0e07\", \"\\u0e02\\u0e49\\u0e2d\\u0e40\\u0e17\\u0e47\\u0e08\\u0e08\\u0e23\\u0e34\\u0e07\", \"\\u0e02\\u0e49\\u0e2d\\u0e40\\u0e17\\u0e47\\u0e08\\u0e08\\u0e23\\u0e34\\u0e07\", \"\\u0e04\", \"\\u0e04\\u0e13\\u0e30\\u0e01\\u0e23\\u0e23\\u0e21\\u0e01\\u0e32\\u0e23\", \"\\u0e04\\u0e14\\u0e35\\u0e2d\\u0e32\\u0e0d\\u0e32\", \"\\u0e04\\u0e14\\u0e35\\u0e2d\\u0e32\\u0e0d\\u0e32\", \"\\u0e04\\u0e19\\u0e25\\u0e30\", \"\\u0e04\\u0e23\\u0e2d\\u0e1a\\u0e04\\u0e23\\u0e2d\\u0e07\", \"\\u0e04\\u0e23\\u0e2d\\u0e1a\\u0e04\\u0e23\\u0e2d\\u0e07\", \"\\u0e04\\u0e23\\u0e2d\\u0e1a\\u0e04\\u0e23\\u0e2d\\u0e07\\u0e1b\\u0e23\\u0e1b\\u0e31\\u0e01\\u0e29\\u0e4c\", \"\\u0e04\\u0e27\\u0e32\\u0e21\\u0e1c\\u0e34\\u0e14\", \"\\u0e04\\u0e27\\u0e32\\u0e21\\u0e22\\u0e34\\u0e19\\u0e22\\u0e2d\\u0e21\", \"\\u0e04\\u0e27\\u0e32\\u0e21\\u0e22\\u0e34\\u0e19\\u0e22\\u0e2d\\u0e21\", \"\\u0e04\\u0e27\\u0e32\\u0e21\\u0e22\\u0e34\\u0e19\\u0e22\\u0e2d\\u0e21\", \"\\u0e04\\u0e27\\u0e32\\u0e21\\u0e2a\\u0e31\\u0e21\\u0e1e\\u0e31\\u0e19\\u0e18\\u0e4c\", \"\\u0e04\\u0e2d\\u0e21\\u0e1e\\u0e34\\u0e27\\u0e40\\u0e15\\u0e2d\\u0e23\\u0e4c\", \"\\u0e04\\u0e31\\u0e19\", \"\\u0e04\\u0e33\\u0e1e\\u0e34\\u0e1e\\u0e32\\u0e01\\u0e29\\u0e32\", \"\\u0e04\\u0e33\\u0e1e\\u0e34\\u0e1e\\u0e32\\u0e01\\u0e29\\u0e32\", \"\\u0e04\\u0e33\\u0e1e\\u0e34\\u0e1e\\u0e32\\u0e01\\u0e29\\u0e32\", \"\\u0e04\\u0e37\\u0e19\", \"\\u0e04\\u0e37\\u0e19\", \"\\u0e04\\u0e37\\u0e19\", \"\\u0e04\\u0e37\\u0e19\", \"\\u0e04\\u0e38\\u0e13\\u0e1e\\u0e48\\u0e2d\", \"\\u0e04\\u0e38\\u0e13\\u0e2a\\u0e21\\u0e1a\\u0e31\\u0e15\\u0e34\", \"\\u0e04\\u0e38\\u0e13\\u0e41\\u0e21\\u0e48\", \"\\u0e04\\u0e38\\u0e49\\u0e21\\u0e04\\u0e23\\u0e2d\\u0e07\", \"\\u0e04\\u0e39\\u0e48\\u0e2a\\u0e21\\u0e23\\u0e2a\", \"\\u0e04\\u0e39\\u0e48\\u0e2a\\u0e21\\u0e23\\u0e2a\", \"\\u0e04\\u0e39\\u0e48\\u0e2a\\u0e31\\u0e0d\\u0e0d\\u0e32\", \"\\u0e04\\u0e48\\u0e32\", \"\\u0e04\\u0e48\\u0e32\", \"\\u0e04\\u0e48\\u0e32\", \"\\u0e04\\u0e48\\u0e32\\u0e08\\u0e49\\u0e32\\u0e07\", \"\\u0e04\\u0e48\\u0e32\\u0e0a\\u0e14\\u0e40\\u0e0a\\u0e22\", \"\\u0e04\\u0e48\\u0e32\\u0e2a\\u0e34\\u0e19\\u0e44\\u0e2b\\u0e21\\u0e17\\u0e14\\u0e41\\u0e17\\u0e19\", \"\\u0e04\\u0e49\\u0e33\\u0e1b\\u0e23\\u0e30\\u0e01\\u0e31\\u0e19\", \"\\u0e07\\u0e32\", \"\\u0e07\\u0e32\\u0e19\", \"\\u0e08\\u0e14\\u0e17\\u0e30\\u0e40\\u0e1a\\u0e35\\u0e22\\u0e19\", \"\\u0e08\\u0e14\\u0e17\\u0e30\\u0e40\\u0e1a\\u0e35\\u0e22\\u0e19\", \"\\u0e08\\u0e14\\u0e17\\u0e30\\u0e40\\u0e1a\\u0e35\\u0e22\\u0e19\\u0e2a\\u0e21\\u0e23\\u0e2a\", \"\\u0e08\\u0e33\\u0e04\\u0e38\\u0e01\", \"\\u0e08\\u0e33\\u0e19\\u0e27\\u0e19\", \"\\u0e08\\u0e33\\u0e19\\u0e27\\u0e19\", \"\\u0e08\\u0e33\\u0e19\\u0e27\\u0e19\", \"\\u0e08\\u0e33\\u0e19\\u0e27\\u0e19\", \"\\u0e08\\u0e33\\u0e19\\u0e27\\u0e19\", \"\\u0e08\\u0e33\\u0e40\\u0e25\\u0e22\", \"\\u0e08\\u0e48\\u0e32\\u0e22\", \"\\u0e08\\u0e48\\u0e32\\u0e22\", \"\\u0e08\\u0e48\\u0e32\\u0e22\", \"\\u0e08\\u0e49\\u0e32\\u0e07\", \"\\u0e08\\u0e49\\u0e32\\u0e07\\u0e17\\u0e33\\u0e02\\u0e2d\\u0e07\", \"\\u0e08\\u0e49\\u0e32\\u0e07\\u0e41\\u0e23\\u0e07\\u0e07\\u0e32\\u0e19\", \"\\u0e0a\\u0e2d\\u0e1a\\u0e14\\u0e49\\u0e27\\u0e22\\u0e01\\u0e0e\\u0e2b\\u0e21\\u0e32\\u0e22\", \"\\u0e0a\\u0e2d\\u0e1a\\u0e14\\u0e49\\u0e27\\u0e22\\u0e01\\u0e0e\\u0e2b\\u0e21\\u0e32\\u0e22\", \"\\u0e0a\\u0e31\\u0e48\\u0e27\\u0e42\\u0e21\\u0e07\", \"\\u0e0a\\u0e32\\u0e22\", \"\\u0e0a\\u0e33\\u0e23\\u0e30\", \"\\u0e0a\\u0e33\\u0e23\\u0e30\\u0e2b\\u0e19\\u0e35\\u0e49\", \"\\u0e0b\\u0e37\\u0e49\\u0e2d\", \"\\u0e0b\\u0e37\\u0e49\\u0e2d\", \"\\u0e0e\\u0e35\\u0e01\\u0e32\", \"\\u0e10\\u0e32\\u0e19\", \"\\u0e10\\u0e32\\u0e19\", \"\\u0e10\\u0e32\\u0e19\\u0e30\", \"\\u0e10\\u0e32\\u0e19\\u0e30\", \"\\u0e10\\u0e32\\u0e19\\u0e30\", \"\\u0e10\\u0e32\\u0e19\\u0e30\", \"\\u0e14\\u0e2d\\u0e01\\u0e40\\u0e1a\\u0e35\\u0e49\\u0e22\", \"\\u0e14\\u0e2d\\u0e01\\u0e40\\u0e1a\\u0e35\\u0e49\\u0e22\", \"\\u0e14\\u0e33\\u0e40\\u0e19\\u0e34\\u0e19\\u0e04\\u0e14\\u0e35\", \"\\u0e14\\u0e33\\u0e40\\u0e19\\u0e34\\u0e19\\u0e04\\u0e14\\u0e35\", \"\\u0e15\\u0e23\\u0e27\\u0e08\", \"\\u0e15\\u0e2d\\u0e1a\", \"\\u0e15\\u0e2d\\u0e1a\", \"\\u0e15\\u0e2d\\u0e1a\", \"\\u0e15\\u0e2d\\u0e1a\", \"\\u0e15\\u0e32\\u0e21\\u0e01\\u0e0e\\u0e2b\\u0e21\\u0e32\\u0e22\", \"\\u0e15\\u0e32\\u0e21\\u0e01\\u0e0e\\u0e2b\\u0e21\\u0e32\\u0e22\", \"\\u0e15\\u0e32\\u0e21\\u0e01\\u0e0e\\u0e2b\\u0e21\\u0e32\\u0e22\", \"\\u0e15\\u0e32\\u0e21\\u0e01\\u0e0e\\u0e2b\\u0e21\\u0e32\\u0e22\", \"\\u0e15\\u0e32\\u0e21\\u0e01\\u0e0e\\u0e2b\\u0e21\\u0e32\\u0e22\", \"\\u0e15\\u0e32\\u0e21\\u0e1e\", \"\\u0e15\\u0e32\\u0e21\\u0e1e\", \"\\u0e15\\u0e32\\u0e22\", \"\\u0e15\\u0e32\\u0e22\", \"\\u0e15\\u0e33\\u0e23\\u0e27\\u0e08\", \"\\u0e15\\u0e33\\u0e23\\u0e27\\u0e08\", \"\\u0e17\\u0e19\\u0e32\\u0e22\", \"\\u0e17\\u0e19\\u0e32\\u0e22\", \"\\u0e17\\u0e19\\u0e32\\u0e22\", \"\\u0e17\\u0e19\\u0e32\\u0e22\\u0e04\\u0e27\\u0e32\\u0e21\", \"\\u0e17\\u0e19\\u0e32\\u0e22\\u0e04\\u0e27\\u0e32\\u0e21\", \"\\u0e17\\u0e19\\u0e32\\u0e22\\u0e04\\u0e27\\u0e32\\u0e21\", \"\\u0e17\\u0e23\\u0e31\\u0e1e\\u0e22\\u0e4c\\u0e21\\u0e23\\u0e14\\u0e01\", \"\\u0e17\\u0e23\\u0e31\\u0e1e\\u0e22\\u0e4c\\u0e2a\\u0e34\\u0e19\", \"\\u0e17\\u0e23\\u0e31\\u0e1e\\u0e22\\u0e4c\\u0e2a\\u0e34\\u0e19\", \"\\u0e17\\u0e23\\u0e31\\u0e1e\\u0e22\\u0e4c\\u0e2a\\u0e34\\u0e19\", \"\\u0e17\\u0e32\\u0e22\\u0e32\\u0e17\", \"\\u0e17\\u0e32\\u0e22\\u0e32\\u0e17\\u0e42\\u0e14\\u0e22\\u0e18\\u0e23\\u0e23\\u0e21\", \"\\u0e17\\u0e33\\u0e07\\u0e32\\u0e19\", \"\\u0e17\\u0e33\\u0e2a\\u0e31\\u0e0d\\u0e0d\\u0e32\", \"\\u0e17\\u0e33\\u0e2a\\u0e31\\u0e0d\\u0e0d\\u0e32\", \"\\u0e17\\u0e35\\u0e48\\u0e14\\u0e34\\u0e19\", \"\\u0e18\\u0e19\\u0e32\\u0e04\\u0e32\\u0e23\", \"\\u0e19\\u0e1e\", \"\\u0e19\\u0e32\\u0e22\\u0e08\\u0e49\\u0e32\\u0e07\", \"\\u0e1a\", \"\\u0e1a\", \"\\u0e1a\\u0e23\\u0e34\\u0e29\\u0e31\\u0e17\", \"\\u0e1a\\u0e23\\u0e34\\u0e29\\u0e31\\u0e17\", \"\\u0e1a\\u0e31\\u0e07\\u0e04\\u0e31\\u0e1a\", \"\\u0e1a\\u0e31\\u0e07\\u0e04\\u0e31\\u0e1a\", \"\\u0e1a\\u0e31\\u0e07\\u0e04\\u0e31\\u0e1a\", \"\\u0e1a\\u0e31\\u0e07\\u0e04\\u0e31\\u0e1a\", \"\\u0e1a\\u0e32\\u0e17\", \"\\u0e1a\\u0e32\\u0e17\", \"\\u0e1a\\u0e34\\u0e14\\u0e32\", \"\\u0e1a\\u0e34\\u0e14\\u0e32\", \"\\u0e1a\\u0e38\\u0e04\\u0e04\\u0e25\", \"\\u0e1a\\u0e38\\u0e04\\u0e04\\u0e25\", \"\\u0e1a\\u0e38\\u0e04\\u0e04\\u0e25\", \"\\u0e1a\\u0e38\\u0e04\\u0e04\\u0e25\", \"\\u0e1a\\u0e38\\u0e15\\u0e23\", \"\\u0e1a\\u0e38\\u0e15\\u0e23\", \"\\u0e1a\\u0e38\\u0e15\\u0e23\\u0e1a\\u0e38\\u0e0d\\u0e18\\u0e23\\u0e23\\u0e21\", \"\\u0e1a\\u0e49\\u0e32\\u0e19\", \"\\u0e1a\\u0e49\\u0e32\\u0e19\", \"\\u0e1a\\u0e49\\u0e32\\u0e19\", \"\\u0e1b\", \"\\u0e1b\\u0e01\\u0e04\\u0e23\\u0e2d\\u0e07\", \"\\u0e1b\\u0e01\\u0e15\\u0e34\", \"\\u0e1b\\u0e01\\u0e15\\u0e34\", \"\\u0e1b\\u0e1e\\u0e1e\", \"\\u0e1b\\u0e1e\\u0e1e\", \"\\u0e1b\\u0e1e\\u0e1e\", \"\\u0e1b\\u0e23\\u0e30\\u0e19\\u0e2d\\u0e21\\u0e2b\\u0e19\\u0e35\\u0e49\", \"\\u0e1b\\u0e2d\", \"\\u0e1b\\u0e49\\u0e32\", \"\\u0e1c\\u0e34\\u0e14\\u0e19\\u0e31\\u0e14\", \"\\u0e1c\\u0e39\\u0e49\\u0e04\\u0e49\\u0e33\\u0e1b\\u0e23\\u0e30\\u0e01\\u0e31\\u0e19\", \"\\u0e1c\\u0e39\\u0e49\\u0e08\\u0e31\\u0e14\\u0e01\\u0e32\\u0e23\\u0e21\\u0e23\\u0e14\\u0e01\", \"\\u0e1c\\u0e39\\u0e49\\u0e15\\u0e32\\u0e22\", \"\\u0e1c\\u0e39\\u0e49\\u0e15\\u0e49\\u0e2d\\u0e07\\u0e2b\\u0e32\", \"\\u0e1c\\u0e39\\u0e49\\u0e1a\\u0e23\\u0e34\\u0e42\\u0e20\\u0e04\", \"\\u0e1c\\u0e39\\u0e49\\u0e21\\u0e35\\u0e2a\\u0e48\\u0e27\\u0e19\", \"\\u0e1c\\u0e39\\u0e49\\u0e2a\\u0e37\\u0e1a\\u0e2a\\u0e31\\u0e19\\u0e14\\u0e32\\u0e19\", \"\\u0e1c\\u0e39\\u0e49\\u0e2a\\u0e37\\u0e1a\\u0e2a\\u0e31\\u0e19\\u0e14\\u0e32\\u0e19\", \"\\u0e1c\\u0e39\\u0e49\\u0e2d\\u0e37\\u0e48\\u0e19\", \"\\u0e1c\\u0e39\\u0e49\\u0e2d\\u0e37\\u0e48\\u0e19\", \"\\u0e1c\\u0e39\\u0e49\\u0e2d\\u0e37\\u0e48\\u0e19\", \"\\u0e1c\\u0e39\\u0e49\\u0e40\\u0e0a\\u0e48\\u0e32\", \"\\u0e1c\\u0e39\\u0e49\\u0e40\\u0e22\\u0e32\\u0e27\\u0e4c\", \"\\u0e1c\\u0e39\\u0e49\\u0e40\\u0e2a\\u0e35\\u0e22\\u0e2b\\u0e32\\u0e22\", \"\\u0e1c\\u0e48\\u0e2d\\u0e19\", \"\\u0e1e\\u0e19\\u0e31\\u0e01\\u0e07\\u0e32\\u0e19\", \"\\u0e1e\\u0e19\\u0e31\\u0e01\\u0e07\\u0e32\\u0e19\", \"\\u0e1e\\u0e19\\u0e31\\u0e01\\u0e07\\u0e32\\u0e19\", \"\\u0e1e\\u0e19\\u0e31\\u0e01\\u0e07\\u0e32\\u0e19\\u0e2a\\u0e2d\\u0e1a\\u0e2a\\u0e27\\u0e19\", \"\\u0e1e\\u0e22\\u0e32\\u0e19\\u0e2b\\u0e25\\u0e31\\u0e01\\u0e10\\u0e32\\u0e19\", \"\\u0e1e\\u0e22\\u0e32\\u0e19\\u0e2b\\u0e25\\u0e31\\u0e01\\u0e10\\u0e32\\u0e19\", \"\\u0e1e\\u0e23\", \"\\u0e1e\\u0e23\", \"\\u0e1e\\u0e23\\u0e30\\u0e23\\u0e32\\u0e0a\\u0e1a\\u0e31\\u0e0d\\u0e0d\\u0e31\\u0e15\\u0e34\", \"\\u0e1e\\u0e34\\u0e08\\u0e32\\u0e23\\u0e13\\u0e32\", \"\\u0e1e\\u0e34\\u0e08\\u0e32\\u0e23\\u0e13\\u0e32\", \"\\u0e1e\\u0e34\\u0e08\\u0e32\\u0e23\\u0e13\\u0e32\", \"\\u0e1e\\u0e34\\u0e19\\u0e31\\u0e22\\u0e01\\u0e23\\u0e23\\u0e21\", \"\\u0e1e\\u0e34\\u0e1e\\u0e32\\u0e01\\u0e29\\u0e32\", \"\\u0e1e\\u0e34\\u0e1e\\u0e32\\u0e01\\u0e29\\u0e32\", \"\\u0e1e\\u0e34\\u0e1e\\u0e32\\u0e01\\u0e29\\u0e32\", \"\\u0e1e\\u0e48\\u0e2d\", \"\\u0e1f\\u0e49\\u0e2d\\u0e07\", \"\\u0e1f\\u0e49\\u0e2d\\u0e07\", \"\\u0e1f\\u0e49\\u0e2d\\u0e07\", \"\\u0e1f\\u0e49\\u0e2d\\u0e07\", \"\\u0e1f\\u0e49\\u0e2d\\u0e07\", \"\\u0e1f\\u0e49\\u0e2d\\u0e07\\u0e23\\u0e49\\u0e2d\\u0e07\", \"\\u0e1f\\u0e49\\u0e2d\\u0e07\\u0e23\\u0e49\\u0e2d\\u0e07\", \"\\u0e1f\\u0e49\\u0e2d\\u0e07\\u0e23\\u0e49\\u0e2d\\u0e07\", \"\\u0e1f\\u0e49\\u0e2d\\u0e07\\u0e2b\\u0e22\\u0e48\\u0e32\", \"\\u0e20\\u0e23\\u0e23\\u0e22\\u0e32\", \"\\u0e20\\u0e23\\u0e23\\u0e22\\u0e32\", \"\\u0e20\\u0e23\\u0e34\\u0e22\\u0e32\", \"\\u0e21\\u0e23\\u0e14\\u0e01\", \"\\u0e21\\u0e32\\u0e15\\u0e23\\u0e32\", \"\\u0e21\\u0e32\\u0e15\\u0e23\\u0e32\", \"\\u0e21\\u0e32\\u0e15\\u0e23\\u0e32\", \"\\u0e21\\u0e32\\u0e15\\u0e23\\u0e32\", \"\\u0e21\\u0e32\\u0e15\\u0e23\\u0e32\", \"\\u0e21\\u0e32\\u0e23\\u0e14\\u0e32\", \"\\u0e21\\u0e32\\u0e23\\u0e14\\u0e32\", \"\\u0e21\\u0e35\\u0e04\\u0e27\\u0e32\\u0e21\\u0e1c\\u0e34\\u0e14\", \"\\u0e21\\u0e35\\u0e04\\u0e27\\u0e32\\u0e21\\u0e1c\\u0e34\\u0e14\", \"\\u0e21\\u0e35\\u0e04\\u0e27\\u0e32\\u0e21\\u0e1c\\u0e34\\u0e14\", \"\\u0e21\\u0e35\\u0e42\\u0e17\\u0e29\", \"\\u0e22\\u0e2d\\u0e21\\u0e04\\u0e27\\u0e32\\u0e21\", \"\\u0e22\\u0e32\", \"\\u0e22\\u0e36\\u0e14\", \"\\u0e22\\u0e37\\u0e48\\u0e19\", \"\\u0e22\\u0e37\\u0e48\\u0e19\", \"\\u0e22\\u0e37\\u0e48\\u0e19\", \"\\u0e22\\u0e37\\u0e48\\u0e19\", \"\\u0e23\\u0e16\", \"\\u0e23\\u0e16\\u0e22\\u0e19\\u0e15\\u0e4c\", \"\\u0e23\\u0e1a\", \"\\u0e23\\u0e1a\", \"\\u0e23\\u0e2d\", \"\\u0e23\\u0e30\\u0e22\\u0e30\\u0e40\\u0e27\\u0e25\\u0e32\", \"\\u0e23\\u0e30\\u0e22\\u0e30\\u0e40\\u0e27\\u0e25\\u0e32\", \"\\u0e23\\u0e30\\u0e27\\u0e32\\u0e07\\u0e42\\u0e17\\u0e29\", \"\\u0e23\\u0e30\\u0e40\\u0e1a\\u0e35\\u0e22\\u0e1a\", \"\\u0e23\\u0e31\\u0e1a\\u0e1c\\u0e34\\u0e14\", \"\\u0e23\\u0e31\\u0e1a\\u0e1c\\u0e34\\u0e14\", \"\\u0e23\\u0e31\\u0e1a\\u0e21\\u0e23\\u0e14\\u0e01\", \"\\u0e23\\u0e31\\u0e1a\\u0e42\\u0e17\\u0e29\", \"\\u0e25\\u0e07\\u0e25\\u0e32\\u0e22\\u0e21\\u0e37\\u0e2d\\u0e0a\\u0e37\\u0e48\\u0e2d\", \"\\u0e25\\u0e07\\u0e25\\u0e32\\u0e22\\u0e21\\u0e37\\u0e2d\\u0e0a\\u0e37\\u0e48\\u0e2d\", \"\\u0e25\\u0e07\\u0e42\\u0e17\\u0e29\", \"\\u0e25\\u0e32\\u0e2d\\u0e2d\\u0e01\", \"\\u0e25\\u0e39\\u0e01\", \"\\u0e25\\u0e39\\u0e01\", \"\\u0e25\\u0e39\\u0e01\\u0e08\\u0e49\\u0e32\\u0e07\", \"\\u0e25\\u0e39\\u0e01\\u0e2b\\u0e19\\u0e35\\u0e49\", \"\\u0e25\\u0e48\\u0e27\\u0e07\\u0e2b\\u0e19\\u0e49\\u0e32\", \"\\u0e25\\u0e49\\u0e21\\u0e25\\u0e30\\u0e25\\u0e32\\u0e22\", \"\\u0e27\\u0e31\\u0e19\\u0e17\\u0e33\\u0e07\\u0e32\\u0e19\", \"\\u0e27\\u0e31\\u0e19\\u0e2b\\u0e22\\u0e38\\u0e14\", \"\\u0e27\\u0e34\", \"\\u0e28\", \"\\u0e28\\u0e32\\u0e25\", \"\\u0e28\\u0e32\\u0e25\", \"\\u0e28\\u0e32\\u0e25\", \"\\u0e28\\u0e32\\u0e25\", \"\\u0e28\\u0e32\\u0e25\\u0e0e\\u0e35\\u0e01\\u0e32\", \"\\u0e28\\u0e32\\u0e25\\u0e2d\\u0e38\\u0e17\\u0e18\\u0e23\\u0e13\\u0e4c\", \"\\u0e28\\u0e32\\u0e25\\u0e41\\u0e23\\u0e07\\u0e07\\u0e32\\u0e19\", \"\\u0e2a\\u0e21\\u0e23\\u0e2a\", \"\\u0e2a\\u0e31\\u0e0d\\u0e0d\\u0e32\", \"\\u0e2a\\u0e31\\u0e0d\\u0e0d\\u0e32\", \"\\u0e2a\\u0e31\\u0e0d\\u0e0d\\u0e32\\u0e08\\u0e49\\u0e32\\u0e07\", \"\\u0e2a\\u0e32\\u0e21\\u0e35\", \"\\u0e2a\\u0e32\\u0e21\\u0e35\\u0e20\\u0e23\\u0e23\\u0e22\\u0e32\", \"\\u0e2a\\u0e34\\u0e17\\u0e18\\u0e34\", \"\\u0e2a\\u0e34\\u0e17\\u0e18\\u0e34\", \"\\u0e2a\\u0e34\\u0e17\\u0e18\\u0e34\", \"\\u0e2a\\u0e34\\u0e17\\u0e18\\u0e34\", \"\\u0e2a\\u0e34\\u0e17\\u0e18\\u0e34\", \"\\u0e2a\\u0e34\\u0e17\\u0e18\\u0e34\\u0e04\\u0e23\\u0e2d\\u0e1a\\u0e04\\u0e23\\u0e2d\\u0e07\", \"\\u0e2a\\u0e34\\u0e19\\u0e2a\\u0e21\\u0e23\\u0e2a\", \"\\u0e2a\\u0e34\\u0e19\\u0e2a\\u0e21\\u0e23\\u0e2a\", \"\\u0e2a\\u0e38\\u0e19\\u0e31\\u0e02\", \"\\u0e2a\\u0e48\\u0e27\\u0e19\\u0e41\\u0e1a\\u0e48\\u0e07\", \"\\u0e2b\\u0e0d\\u0e34\\u0e07\", \"\\u0e2b\\u0e19\\u0e35\\u0e49\", \"\\u0e2b\\u0e22\\u0e48\\u0e32\", \"\\u0e2b\\u0e25\\u0e2d\\u0e01\\u0e25\\u0e27\\u0e07\", \"\\u0e2b\\u0e25\\u0e31\\u0e01\\u0e10\\u0e32\\u0e19\", \"\\u0e2b\\u0e25\\u0e31\\u0e01\\u0e10\\u0e32\\u0e19\", \"\\u0e2b\\u0e25\\u0e31\\u0e01\\u0e10\\u0e32\\u0e19\", \"\\u0e2b\\u0e49\\u0e32\", \"\\u0e2d\", \"\\u0e2d\\u0e32\\u0e0d\\u0e32\", \"\\u0e2d\\u0e32\\u0e22\\u0e31\\u0e14\", \"\\u0e2d\\u0e33\\u0e19\\u0e32\\u0e08\", \"\\u0e2d\\u0e33\\u0e19\\u0e32\\u0e08\", \"\\u0e2d\\u0e38\\u0e17\\u0e18\\u0e23\\u0e13\\u0e4c\", \"\\u0e2d\\u0e38\\u0e1b\\u0e01\\u0e32\\u0e23\\u0e30\", \"\\u0e40\\u0e07\\u0e34\\u0e19\", \"\\u0e40\\u0e07\\u0e34\\u0e19\", \"\\u0e40\\u0e07\\u0e34\\u0e19\\u0e01\\u0e39\\u0e49\", \"\\u0e40\\u0e08\\u0e23\\u0e08\\u0e32\", \"\\u0e40\\u0e08\\u0e23\\u0e08\\u0e32\", \"\\u0e40\\u0e08\\u0e49\\u0e32\\u0e02\\u0e2d\\u0e07\\u0e17\\u0e35\\u0e48\\u0e14\\u0e34\\u0e19\", \"\\u0e40\\u0e08\\u0e49\\u0e32\\u0e21\\u0e23\\u0e14\\u0e01\", \"\\u0e40\\u0e08\\u0e49\\u0e32\\u0e2b\\u0e19\\u0e35\\u0e49\", \"\\u0e40\\u0e0a\\u0e47\\u0e04\", \"\\u0e40\\u0e0a\\u0e48\\u0e32\\u0e0b\\u0e37\\u0e49\\u0e2d\", \"\\u0e40\\u0e14\\u0e37\\u0e2d\\u0e14\\u0e23\\u0e49\\u0e2d\\u0e19\", \"\\u0e40\\u0e14\\u0e47\\u0e01\", \"\\u0e40\\u0e17\\u0e48\\u0e32\\u0e46\", \"\\u0e40\\u0e1b\\u0e47\\u0e19\\u0e18\\u0e23\\u0e23\\u0e21\", \"\\u0e40\\u0e1b\\u0e47\\u0e19\\u0e2b\\u0e19\\u0e35\\u0e49\", \"\\u0e40\\u0e1b\\u0e47\\u0e19\\u0e40\\u0e08\\u0e49\\u0e32\\u0e02\\u0e2d\\u0e07\", \"\\u0e40\\u0e25\\u0e34\\u0e01\\u0e08\\u0e49\\u0e32\\u0e07\", \"\\u0e40\\u0e25\\u0e35\\u0e49\\u0e22\\u0e07\", \"\\u0e40\\u0e25\\u0e35\\u0e49\\u0e22\\u0e07\\u0e14\\u0e39\", \"\\u0e41\\u0e08\\u0e49\\u0e07\\u0e04\\u0e27\\u0e32\\u0e21\", \"\\u0e41\\u0e08\\u0e49\\u0e07\\u0e04\\u0e27\\u0e32\\u0e21\", \"\\u0e41\\u0e1a\\u0e48\\u0e07\", \"\\u0e41\\u0e1a\\u0e48\\u0e07\", \"\\u0e41\\u0e1a\\u0e48\\u0e07\\u0e1b\\u0e31\\u0e19\", \"\\u0e41\\u0e1b\\u0e25\\u0e07\", \"\\u0e41\\u0e21\\u0e48\", \"\\u0e41\\u0e21\\u0e48\", \"\\u0e41\\u0e22\\u0e01\\u0e01\\u0e31\\u0e19\", \"\\u0e41\\u0e23\\u0e07\", \"\\u0e41\\u0e23\\u0e07\\u0e07\\u0e32\\u0e19\", \"\\u0e42\\u0e08\\u0e17\\u0e01\\u0e4c\", \"\\u0e42\\u0e09\\u0e19\\u0e14\", \"\\u0e42\\u0e09\\u0e19\\u0e14\\u0e17\\u0e35\\u0e48\\u0e14\\u0e34\\u0e19\", \"\\u0e42\\u0e14\\u0e22\\u0e0a\\u0e2d\\u0e1a\\u0e14\\u0e49\\u0e27\\u0e22\\u0e01\\u0e0e\\u0e2b\\u0e21\\u0e32\\u0e22\", \"\\u0e42\\u0e17\\u0e29\", \"\\u0e42\\u0e2d\\u0e19\", \"\\u0e42\\u0e2d\\u0e19\", \"\\u0e43\\u0e0a\\u0e49\\u0e2b\\u0e19\\u0e35\\u0e49\", \"\\u0e43\\u0e1a\\u0e25\\u0e32\\u0e2d\\u0e2d\\u0e01\", \"\\u0e43\\u0e2b\\u0e49\\u0e40\\u0e0a\\u0e48\\u0e32\", \"\\u0e44\\u0e01\\u0e25\\u0e48\\u0e40\\u0e01\\u0e25\\u0e35\\u0e48\\u0e22\", \"\\u0e44\\u0e14\\u0e49\\u0e40\\u0e2a\\u0e35\\u0e22\", \"\\u0e44\\u0e1f\\u0e41\\u0e19\\u0e19\\u0e0b\\u0e4c\"]}, \"R\": 30, \"lambda.step\": 0.01, \"plot.opts\": {\"xlab\": \"PC1\", \"ylab\": \"PC2\"}, \"topic.order\": [1, 3, 4, 5, 2]};\n",
              "\n",
              "function LDAvis_load_lib(url, callback){\n",
              "  var s = document.createElement('script');\n",
              "  s.src = url;\n",
              "  s.async = true;\n",
              "  s.onreadystatechange = s.onload = callback;\n",
              "  s.onerror = function(){console.warn(\"failed to load library \" + url);};\n",
              "  document.getElementsByTagName(\"head\")[0].appendChild(s);\n",
              "}\n",
              "\n",
              "if(typeof(LDAvis) !== \"undefined\"){\n",
              "   // already loaded: just create the visualization\n",
              "   !function(LDAvis){\n",
              "       new LDAvis(\"#\" + \"ldavis_el1311398230823798564518243996\", ldavis_el1311398230823798564518243996_data);\n",
              "   }(LDAvis);\n",
              "}else if(typeof define === \"function\" && define.amd){\n",
              "   // require.js is available: use it to load d3/LDAvis\n",
              "   require.config({paths: {d3: \"https://d3js.org/d3.v5\"}});\n",
              "   require([\"d3\"], function(d3){\n",
              "      window.d3 = d3;\n",
              "      LDAvis_load_lib(\"https://cdn.jsdelivr.net/gh/bmabey/pyLDAvis@3.4.0/pyLDAvis/js/ldavis.v3.0.0.js\", function(){\n",
              "        new LDAvis(\"#\" + \"ldavis_el1311398230823798564518243996\", ldavis_el1311398230823798564518243996_data);\n",
              "      });\n",
              "    });\n",
              "}else{\n",
              "    // require.js not available: dynamically load d3 & LDAvis\n",
              "    LDAvis_load_lib(\"https://d3js.org/d3.v5.js\", function(){\n",
              "         LDAvis_load_lib(\"https://cdn.jsdelivr.net/gh/bmabey/pyLDAvis@3.4.0/pyLDAvis/js/ldavis.v3.0.0.js\", function(){\n",
              "                 new LDAvis(\"#\" + \"ldavis_el1311398230823798564518243996\", ldavis_el1311398230823798564518243996_data);\n",
              "            })\n",
              "         });\n",
              "}\n",
              "</script>"
            ],
            "text/plain": [
              "PreparedData(topic_coordinates=              x         y  topics  cluster       Freq\n",
              "topic                                                \n",
              "0     -0.079689  0.246183       1        1  25.943121\n",
              "2     -0.126406 -0.041392       2        1  22.703340\n",
              "3     -0.218470 -0.130870       3        1  19.790651\n",
              "4      0.217508  0.105307       4        1  17.274267\n",
              "1      0.207056 -0.179228       5        1  14.288621, topic_info=          Term         Freq        Total Category  logprob  loglift\n",
              "308     ที่ดิน  3066.000000  3066.000000  Default  30.0000  30.0000\n",
              "383    นายจ้าง  3280.000000  3280.000000  Default  29.0000  29.0000\n",
              "385    ลูกจ้าง  2635.000000  2635.000000  Default  28.0000  28.0000\n",
              "179       บุตร  2358.000000  2358.000000  Default  27.0000  27.0000\n",
              "36        สามี  1628.000000  1628.000000  Default  26.0000  26.0000\n",
              "..         ...          ...          ...      ...      ...      ...\n",
              "158        ศาล   486.953029  4305.557091   Topic5  -4.4534  -0.2338\n",
              "351       กรณี   380.723931  2467.537862   Topic5  -4.6995   0.0768\n",
              "0       กฎหมาย   309.026573  1547.943451   Topic5  -4.9081   0.3345\n",
              "18   ทรัพย์สิน   305.137212  1460.496627   Topic5  -4.9208   0.3799\n",
              "105       ฟ้อง   272.719518  2741.583733   Topic5  -5.0331  -0.3621\n",
              "\n",
              "[271 rows x 6 columns], token_table=      Topic      Freq        Term\n",
              "term                             \n",
              "0         1  0.147938      กฎหมาย\n",
              "0         2  0.222230      กฎหมาย\n",
              "0         3  0.309443      กฎหมาย\n",
              "0         4  0.120159      กฎหมาย\n",
              "0         5  0.199620      กฎหมาย\n",
              "...     ...       ...         ...\n",
              "520       3  1.001716     ใบลาออก\n",
              "1742      5  0.995437     ให้เช่า\n",
              "271       1  0.999091  ไกล่เกลี่ย\n",
              "1006      4  0.998605     ได้เสีย\n",
              "745       1  1.000267     ไฟแนนซ์\n",
              "\n",
              "[346 rows x 3 columns], R=30, lambda_step=0.01, plot_opts={'xlab': 'PC1', 'ylab': 'PC2'}, topic_order=[1, 3, 4, 5, 2])"
            ]
          },
          "execution_count": 11,
          "metadata": {},
          "output_type": "execute_result"
        }
      ],
      "source": [
        "pyLDAvis.enable_notebook()\n",
        "LDAvis_data_filepath = os.path.join('./ldavis_prepared_'+str(num_topics))\n",
        "\n",
        "LDAvis_data_filepath\n",
        "if 1 == 1:\n",
        "    LDAvis_prepared = pyLDAvis.gensim.prepare(lda_model, corpus, id2word)\n",
        "    with open(LDAvis_data_filepath, 'wb') as f:\n",
        "        pickle.dump(LDAvis_prepared, f)\n",
        "with open(LDAvis_data_filepath, 'rb') as f:\n",
        "    LDAvis_prepared = pickle.load(f)\n",
        "pyLDAvis.save_html(LDAvis_prepared, './ldavis_prepared_'+ str(num_topics) +'.html')\n",
        "LDAvis_prepared"
      ]
    },
    {
      "cell_type": "code",
      "execution_count": null,
      "metadata": {
        "id": "gfnb1aisuANr"
      },
      "outputs": [],
      "source": [
        "pyLDAvis.enable_notebook()\n",
        "vis = pyLDAvis.gensim_models.prepare(lda_model, corpus, dictionary=lda_model.id2word)\n",
        "pyLDAvis.save_html(vis, 'topic_distribution.html')\n",
        "pyLDAvis.display(vis)"
      ]
    },
    {
      "cell_type": "markdown",
      "metadata": {
        "id": "puyLE_GLBfcl"
      },
      "source": [
        "\\The sections below are in the process of being updated with new documents."
      ]
    },
    {
      "cell_type": "code",
      "execution_count": null,
      "metadata": {
        "id": "Ribu5U_2cA1j"
      },
      "outputs": [],
      "source": [
        "def preprocess(text):\n",
        "  result = []\n",
        "  str_text = str(text).replace(' ','')\n",
        "  word_token = word_tokenize(str_text, engine='newmm')\n",
        "  for word in word_token:\n",
        "    if(word not in stopwords + add_stopwords):\n",
        "      result.append(word)\n",
        "  #result = map(lambda x: re.sub('[,/.?# ]', '', x), result)\n",
        "  return result"
      ]
    },
    {
      "cell_type": "code",
      "execution_count": null,
      "metadata": {
        "id": "SvimBQcrdVsm"
      },
      "outputs": [],
      "source": [
        "def bow(text):\n",
        "  vector = id2word.doc2bow(text)\n",
        "  return vector"
      ]
    },
    {
      "cell_type": "code",
      "execution_count": null,
      "metadata": {
        "id": "8LczN4et4g4T"
      },
      "outputs": [],
      "source": [
        "new_doc = random.choice(test_data)\n",
        "test_doc = preprocess(new_doc)\n",
        "test_doc = bow(test_doc)"
      ]
    },
    {
      "cell_type": "code",
      "execution_count": null,
      "metadata": {
        "colab": {
          "base_uri": "https://localhost:8080/"
        },
        "id": "wyAeDtk9Rs0l",
        "outputId": "9eb730a9-873c-4407-d471-a69813721c4e"
      },
      "outputs": [
        {
          "name": "stdout",
          "output_type": "stream",
          "text": [
            "{'Contract': 0.06951626, 'Criminal': 0.88550067, 'Labor': 0.01349232, 'Family': 0.018119017, 'Succession': 0.013371704}\n"
          ]
        }
      ],
      "source": [
        "lda_model = LdaModel.load('/content/drive/MyDrive/dpst_project/lda_model.pickle')\n",
        "\n",
        "new_doc_topics = lda_model.get_document_topics(test_doc)\n",
        "new_doc_topics_dict = {topic_dict[topic]: prob for topic, prob in new_doc_topics}\n",
        "print(new_doc_topics_dict)"
      ]
    },
    {
      "cell_type": "code",
      "execution_count": null,
      "metadata": {
        "colab": {
          "base_uri": "https://localhost:8080/",
          "height": 404
        },
        "id": "xtV8rRWYXDp8",
        "outputId": "fc12b47d-0c97-4d01-a863-ccb1e8e2a856"
      },
      "outputs": [
        {
          "data": {
            "image/png": "[encoded data removed]",
            "text/plain": [
              "<Figure size 576x432 with 1 Axes>"
            ]
          },
          "metadata": {},
          "output_type": "display_data"
        }
      ],
      "source": [
        "# plot the bar chart\n",
        "plt.figure(figsize=(8,6))\n",
        "plt.bar([t[0] for t in new_doc_topics], [t[1] for t in new_doc_topics])\n",
        "plt.xlabel('Topic ID')\n",
        "plt.ylabel('Topic Proportion')\n",
        "plt.title(f'Topic Distribution for new document')\n",
        "plt.show()"
      ]
    },
    {
      "cell_type": "markdown",
      "metadata": {
        "id": "raQT0EwfbMNS"
      },
      "source": [
        "Similarity query"
      ]
    },
    {
      "cell_type": "code",
      "execution_count": null,
      "metadata": {
        "colab": {
          "base_uri": "https://localhost:8080/"
        },
        "id": "WbBHB4JNk85z",
        "outputId": "caa897b4-66c1-4c5e-c47b-fc772fad8f5c"
      },
      "outputs": [
        {
          "name": "stdout",
          "output_type": "stream",
          "text": [
            "Topic distribution for new document : [(0, 0.06951626), (1, 0.88550067), (2, 0.01349232), (3, 0.018119017), (4, 0.013371704)]\n",
            "ก็มีความผิดฐานลักทรัพย์ในสถานที่ราชการมีโทษจำคุกปีอาจถูกฟ้องเรียกราคาทรัพย์สินไปพร้อมด้วยก็ได้จะถูกจำคุกจริงกี่ปีก็อยู่ที่การพิจารณาของศาลถ้าไม่เคยต้องโทษมาก่อนหรืออายุยังน้อยมีเหตุอันควรปรานีอาจไม่ถูกจำคุกคือให้รอการลงโทษไว้แล้วปล่อยตัวไปที่เรียกกันว่ารออาญาโดยมีเงื่อนไขการคุมประพฤติเป็นต้นดังนั้นเมื่อถูกฟ้องควรหาทนายความช่วยเหลือเพื่อหาช่องทางให้ได้รับการลดโทษหรือรอการลงโทษการใช้ทนายอาสาที่ศาลจัดหาให้บางทีก็ติดต่อสื่อสารหรือพูดคุยกันอาจไม่ชัดเจนเหมือนทนายที่เราจัดหาเองเว้นแต่จะไปเจอทนายทั่มีจรรยาบรรรสูงที่ให้ความช่วยเหลืออย่างจริงจังถ้าเป็นเช่นนั้นก็ถือว่าโชคดี\n",
            "\n",
            "Document ID: 1547, Similarity score: 0.9999914169311523\n",
            "การที่ญาติของท่านได้เคยถูกฟ้องเป็นจำเลยในคดีอาญาในความผิดฐานลักทรัพย์และศาลมีคำพิพากษาลงโทษปรับญาติท่านเป็นเงินบาทและโทษจำคุกให้รอลงอาญามีกำหนดปีดังนั้นต่อข้อถามที่ว่าญาติของท่านมีความผิดฐานลักทรัพย์หรือไม่จึงตอบได้ว่าญาติของท่านมีความผิดฐานลักทรัพย์เพียงแต่ว่าเขายังไม่ต้องรับโทษจำคุกจริงๆเพราะโทษจำคุกนั้นศาลรอลงการโทษไว้\n",
            "Topic distribution for similar document : \n",
            "\t(Contract, 0.07042)\n",
            "\t(Criminal, 0.88698)\n",
            "\t(Labor, 0.01441)\n",
            "\t(Family, 0.01467)\n",
            "\t(Succession, 0.01351)\n",
            "Document ID: 2439, Similarity score: 0.9999532103538513\n",
            "การสืบเสาะความประพฤติของผู้ต้องหาหรือจำเลยอันเป็นการให้ทราบความเป็นมาแห่งชีวิตของผู้กระทำความผิดว่าเคยทำคุณงามความดีมาก่อนหรือไม่อันเป็นข้อมูลที่เป็นข้อเท็จจริงที่ศาลจะนำมาพิเคราะห์แล้วใช้ดุลยพินิจการกำหนดโทษแก่ผู้กระทำความผิดนั้นประวัติการสืบเสาะความเป็นมาแห่งชีวิตของผู้กระทำความผิดดังกล่าวสามารถใช้เป็นข้อมูลในการอุทธรณ์คำพิพากษาศาลชั้นต้นเพื่อให้รอการลงโทษหรือรอการลงโทษได้และเป็นดุลยพินืจของศาลอุทธรณ์ที่จะรอหรือไม่ก็ได้เมื่อมีการอุทธรณ์คำพิพากษาโดยยื่นขอประกันตัวต่อก็ไม่จำเป็นต้องถอนเงินประกันออกมาเพียงแต่กฎหมายให้ยื่นคำร้องต่อศาลเพื่อขอให้ถือเอาเงินดังกล่าวเป็นหลักประกันต่อไปได้ตามปวิอมาตรา\n",
            "Topic distribution for similar document : \n",
            "\t(Contract, 0.06679)\n",
            "\t(Criminal, 0.89905)\n",
            "\t(Labor, 0.01137)\n",
            "\t(Family, 0.01111)\n",
            "\t(Succession, 0.01168)\n",
            "Document ID: 2470, Similarity score: 0.9999436140060425\n",
            "กรณีที่ผู้ต้องหาที่เป็นผู้ชายจะให้การหรือไม่อย่าวไรย่อมเป็นสิทะของผู้ต้องหาแม้ตอนแรกจะให้การรับว่ายาไอซ์ของกลางเป็นของตนแต่สามารถที่จะปฏิเสธว่าไม่ใช่ของตนในภายหลังได้แต่ในการถามคำให้การผู้ต้องหานั้นพนักงานสอบสวนมีหน้าที่ต้องแจ้งให้ผู้ต้องหาทราบก่อนว่าผู้ต้องหามีสิทธิที่จะให้การหรือไม่ก็ได้ถ้าผู้ต้องหาให้การถ้อยคำให้การผู้ต้องหาให้การนั้นอาจใช้เป็นพยานหลักฐานในการพิจารณาคดีได้ตามปวิอมาตรา\n",
            "Topic distribution for similar document : \n",
            "\t(Contract, 0.06765)\n",
            "\t(Criminal, 0.87322)\n",
            "\t(Labor, 0.02059)\n",
            "\t(Family, 0.02011)\n",
            "\t(Succession, 0.01844)\n",
            "Document ID: 5850, Similarity score: 0.9999220371246338\n",
            "หมิ่นประมาทคือการใส่ความผู้อื่นต่อบุคคลที่สามโดยประการที่น่าจะทำให้ผู้อื่นนั้นเสียชื่อเสียงถูกดูหมิ่นหรือถูกเกลียดชังตามปอมาตราในการที่คุณเขียนบทความลงนั้นคุณถูกกล่าวหาว่าหมิ่นประมาทนั้นถ้าคุณไม่ได้ทำให้บุคคลอื่นเสียชื่อเสียงถูกดูหมิ่นหรือถูกเกลียดชังคุณก็ไม่ได้หมิ่นประมาทใครส่วนคู่กรณีนั้นได้กล่าวหาคุณถ้าไม่เป็นความจริงคุณก็ฟ้องกลับได้ที่ทำให้คุณได้รับความเสียหายเสียชื่อเสียงถูกเกลียดชังถูกดูหมิ่นเรียกค่าเสียหายได้ตามปอมาตราตัวบทกฎหมายอ้างอิงประมวลกฎหมายอาญามาตราผู้ใดใส่ความผู้อื่นต่อบุคคลที่สามโดยประการที่น่าจะทำให้ผู้อื่นนั้นเสียชื่อเสียงถูกดูหมิ่นหรือถูกเกลียดชังผู้นั้นกระทำความผิดฐานหมิ่นประมาทต้องระวางโทษจำคุกไม่เกินหนึ่งปีหรือปรับไม่เกินสองหมื่นบาทหรือทั้งจำทั้งปรับ\n",
            "Topic distribution for similar document : \n",
            "\t(Contract, 0.06210)\n",
            "\t(Criminal, 0.90341)\n",
            "\t(Labor, 0.01124)\n",
            "\t(Family, 0.01248)\n",
            "\t(Succession, 0.01077)\n",
            "Document ID: 2913, Similarity score: 0.9999096393585205\n",
            "ตามพฤติการณ์ที่ผู้ต้องหาในคดีดังกล่าวช่วยตำรวจโดยการนำไปล่อซื้อแต่ไม่สำเร็จยังไม่เข้าหลักเกณฑ์ตามมาตราแห่งพรบยาเสพติดให้โทษที่ผู้กระทำความผิดได้ให้ข้อมูลที่สำคัญและเป็นประโยชน์อย่างยิ่งในการปราบปรามการกระทำความผิดเกี่ยวกับยาเสพติดให้โทษต่อตำรวจซึ่งศาลจะลงโทษผู้นั้นน้อยกว่าอัตราโทษขั้นต่ำที่กำหนดไว้สำหรับความผิดนั้นได้ทั้งนี้คดีนี้หากจำเลยรับสารภาพอาจต้องระวางโทษจำคุกอย่างต่ำปี\n",
            "Topic distribution for similar document : \n",
            "\t(Contract, 0.06439)\n",
            "\t(Criminal, 0.87412)\n",
            "\t(Labor, 0.02193)\n",
            "\t(Family, 0.01976)\n",
            "\t(Succession, 0.01979)\n"
          ]
        }
      ],
      "source": [
        "corpus_lda = lda_model[corpus]\n",
        "index = similarities.MatrixSimilarity(corpus_lda, num_features=len(id2word))\n",
        "sims = index[new_doc_topics]\n",
        "sims_sorted = sorted(enumerate(sims), key=lambda item: -item[1])\n",
        "print(f\"Topic distribution for new document : {new_doc_topics}\\n{new_doc}\\n\")\n",
        "for doc_id, similarity in sims_sorted[:5]:\n",
        "    print(f\"Document ID: {doc_id}, Similarity score: {similarity}\")\n",
        "    print(data.answer[doc_id])\n",
        "    print(\"Topic distribution for similar document : \")\n",
        "    for num, dis in corpus_lda[doc_id]:\n",
        "      print(f\"\\t({topic_dict.get(num)}, {'%.5f' %dis})\")\n",
        "    #print(\"\\n\")\n",
        "    #print(f\"Topic distribution for similar document : \\n{corpus_lda[doc_id]}\\n\")"
      ]
    },
    {
      "cell_type": "code",
      "execution_count": null,
      "metadata": {
        "colab": {
          "base_uri": "https://localhost:8080/"
        },
        "id": "n3HFMPHOBEWI",
        "outputId": "4963e0fe-4fe6-4a3a-88e4-b9de4f6b1791"
      },
      "outputs": [
        {
          "name": "stdout",
          "output_type": "stream",
          "text": [
            "[(0, 0.24779722), (2, 0.10178224), (3, 0.63728493)]\n",
            "[(1547, 0.9999914), (2439, 0.9999532), (2470, 0.9999436), (5850, 0.99992204), (2913, 0.99990964), (5858, 0.999908), (1117, 0.99988633), (2590, 0.9998666), (2938, 0.9998646), (1548, 0.9998478)]\n",
            "MatrixSimilarity<6030 docs, 10049 features>\n",
            "[0.04907385 0.14580514 0.8655047  ... 0.96324885 0.9947504  0.9626954 ]\n"
          ]
        }
      ],
      "source": [
        "print(corpus_lda[0])\n",
        "print(sims_sorted[:10])\n",
        "print(index)\n",
        "print(index[new_doc_topics])  "
      ]
    },
    {
      "cell_type": "code",
      "execution_count": null,
      "metadata": {
        "colab": {
          "base_uri": "https://localhost:8080/"
        },
        "id": "XkVvNHK--toB",
        "outputId": "0433855f-ae4d-43f8-d2fb-cb415b43f5e6"
      },
      "outputs": [
        {
          "name": "stderr",
          "output_type": "stream",
          "text": [
            "WARNING:gensim.models.ldamodel:too few updates, training might not converge; consider increasing the number of passes or iterations to improve accuracy\n",
            "/usr/local/lib/python3.9/dist-packages/gensim/models/ldamodel.py:850: RuntimeWarning: overflow encountered in exp2\n",
            "  perwordbound, np.exp2(-perwordbound), len(chunk), corpus_words\n"
          ]
        }
      ],
      "source": [
        "lda_model.update([new_doc_topics])"
      ]
    },
    {
      "cell_type": "code",
      "execution_count": null,
      "metadata": {
        "id": "4yDVTarGPpCf"
      },
      "outputs": [],
      "source": []
    }
  ],
  "metadata": {
    "colab": {
      "provenance": [],
      "mount_file_id": "1MCeMFOnUO7TA9AjiorQXjLUw-4a8Y_1R",
      "authorship_tag": "ABX9TyMPpjpsEXqve4syXEIdYtxU",
      "include_colab_link": true
    },
    "kernelspec": {
      "display_name": "Python 3",
      "name": "python3"
    },
    "language_info": {
      "name": "python"
    }
  },
  "nbformat": 4,
  "nbformat_minor": 0
}