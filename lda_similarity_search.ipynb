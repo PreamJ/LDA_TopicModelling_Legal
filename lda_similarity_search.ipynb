{
 "cells": [
  {
   "cell_type": "code",
   "execution_count": 20,
   "metadata": {},
   "outputs": [],
   "source": [
    "import pandas as pd\n",
    "import numpy as np\n",
    "import re\n",
    "import gensim\n",
    "from pythainlp.tokenize import word_tokenize\n",
    "from pythainlp.corpus import thai_stopwords\n",
    "from wordcloud import WordCloud\n",
    "from gensim import corpora, models, similarities\n",
    "import pyLDAvis\n",
    "from pprint import pprint\n",
    "import pickle \n",
    "import os\n",
    "import matplotlib.pyplot as plt\n",
    "from gensim.models import CoherenceModel\n",
    "from gensim.test.utils import datapath\n",
    "import random\n",
    "from gensim.models.ldamodel import LdaModel\n",
    "import sklearn\n",
    "from sklearn.metrics.pairwise import cosine_similarity\n",
    "from sklearn.decomposition import LatentDirichletAllocation\n",
    "from sklearn.feature_extraction.text import CountVectorizer\n",
    "from gensim.corpora import MmCorpus\n",
    "import csv\n",
    "import pyLDAvis.gensim_models as gensimvis\n",
    "RANDOM_STATE = 1"
   ]
  },
  {
   "cell_type": "code",
   "execution_count": 21,
   "metadata": {},
   "outputs": [],
   "source": [
    "data = pd.read_csv('dataset/DatasetLegal.csv')\n",
    "with open('model/id2word.pkl', 'rb') as f:\n",
    "    id2word = pickle.load(f)\n",
    "with open(\"lda/topic_dict_5.pkl\", \"rb\") as f:\n",
    "   topic_dict = pickle.load(f)\n",
    "with open(\"lda/lda_model_5.pkl\", \"rb\") as f:\n",
    "    lda_model = pickle.load(f)\n",
    "corpus_question = corpora.MmCorpus('model/corpus_question.mm')\n",
    "\n",
    "str_answer = data['answer'].astype(str)\n",
    "str_answer = str_answer.map(lambda x: re.sub('[,.!?*#/]', '', x))\n",
    "str_question = data['question'].astype(str)\n",
    "str_question = str_question.map(lambda x: re.sub('[,.!?*#/]', '', x))\n",
    "\n",
    "train_answer = list(str_answer[:5625])\n",
    "test_answer = list(str_answer[5625:])\n",
    "train_question = list(str_question[:5625])\n",
    "test_question = list(str_question[5625:])"
   ]
  },
  {
   "cell_type": "code",
   "execution_count": 22,
   "metadata": {},
   "outputs": [],
   "source": [
    "def preprocess(text):\n",
    "  stopwords = list(thai_stopwords())\n",
    "  read_stopwords = pd.read_csv('dataset/add_stopwords.csv')\n",
    "  add_stopwords = read_stopwords['stopword'].values.tolist()\n",
    "  result = []\n",
    "  str_text = str(text).replace(' ','')\n",
    "  word_token = word_tokenize(str_text, engine='newmm')\n",
    "  for word in word_token:\n",
    "    if(word not in stopwords + add_stopwords):\n",
    "      result.append(word)\n",
    "  return result\n",
    "\n",
    "def bow(text):\n",
    "  vector = id2word.doc2bow(text)\n",
    "  return vector"
   ]
  },
  {
   "cell_type": "code",
   "execution_count": 23,
   "metadata": {},
   "outputs": [
    {
     "name": "stdout",
     "output_type": "stream",
     "text": [
      "{'labor': 0.61881447, 'personal_right/court': 0.049487174, 'family/succession': 0.0008540091, 'contract': 0.3303244, 'criminal': 0.0005199374}\n"
     ]
    }
   ],
   "source": [
    "new_doc = random.choice(test_question)\n",
    "test_doc = preprocess(new_doc)\n",
    "test_doc = bow(test_doc)\n",
    "# print(test_doc)\n",
    "new_doc_topics = lda_model.get_document_topics(test_doc)\n",
    "new_doc_topics_dict = {topic_dict[topic]: prob for topic, prob in new_doc_topics}\n",
    "print(new_doc_topics_dict)"
   ]
  },
  {
   "cell_type": "code",
   "execution_count": 6,
   "metadata": {},
   "outputs": [
    {
     "data": {
      "image/png": "[encoded data removed]",
      "text/plain": [
       "<Figure size 800x600 with 1 Axes>"
      ]
     },
     "metadata": {},
     "output_type": "display_data"
    }
   ],
   "source": [
    "# plot the bar chart\n",
    "plt.figure(figsize=(8,6))\n",
    "plt.bar([t[0] for t in new_doc_topics], [t[1] for t in new_doc_topics])\n",
    "plt.xlabel('Topic ID')\n",
    "plt.ylabel('Topic Proportion')\n",
    "plt.title(f'Topic Distribution for new document')\n",
    "plt.show()"
   ]
  },
  {
   "cell_type": "code",
   "execution_count": 32,
   "metadata": {},
   "outputs": [
    {
     "name": "stdout",
     "output_type": "stream",
     "text": [
      "Topic distribution for new document : [(0, 0.61881447), (1, 0.049487174), (2, 0.0008540091), (3, 0.3303244), (4, 0.0005199374)]\n",
      "อยากทราบว่าผมได้เข้าทดลองงานตำแหน่งเจ้าหน้าที่ธุรการในที่ทำงานแห่งหนึ่งเป็นระยะเวลาเดือนโดยสอบเข้าได้เป็นลำดับที่และมีคุณสมบัติครบถ้วนตามประกาศของที่ทำงานนั้นพอผมทดลองงานได้ครบเดือนกลับต้องผิดหวังเนื่องจากไม่ได้รับการพิจารณาบรรจุและเลิกจ้างซึ่งผมไม่ได้กระทำความผิดร้ายแรงใดๆที่ก่อให้เกิดความเสียหายต่อที่ทำงานเลยแม้แต่น้อยโดยที่ทำงานให้เหตุผลว่าวุฒิภาวะน้อยเกินไปและจะให้โยกตำแหน่งไปทำหน้าที่คนขับรถแทนควบตำแหน่งโดยที่ผลสอบเข้ามาเป็นเจ้าหน้าที่ธุรการและตอนสัมภาษณ์งานก็ไม่ได้พูดถึงเรื่องขับรถให้ฟังและในคุณสมบัติที่ประกาศก็บอกแต่เพียงอายุปีขึ้นสามารถขับรถยนต์ได้พิมพ์ดีดได้เท่านั้นไม่มีรายละเอียดปลีกย่อยใดๆซึ่งในการทดลองงานผมทุมเทกับงานมาตลอดเข้างานเลิกงานบางครั้งถึงนผมก็ไม่บ่นเพราะเป็นงานแรกของผมอยากจะถามว่าผมจะดำเนินการอย่างไรได้บ้างจากข้อสังเกตที่ทำงานนี้อาจจะไม่ต้องการผมตั้งแต่แรกแล้วก็ได้แล้วทำไมต้องหลอกลวงกันให้มาทดลองงานเสียเวลาไปเดือนสละสิทธิ์การเรียนอะไรต่างๆมากมายหวังจะหาเงินส่งตัวเองเรียนแต่สุดท้ายความหวังก็หายไปแล้วถ้าผมสอบไม่ได้ที่ผมจะไม่เสียใจเลยสักนิด\n",
      "\n",
      "Document ID: 116, Similarity score: 0.9977602958679199\n",
      "question: กรณีเราไม่เต็มใจจะลาออกจากธนาคารโดยธนาคารหาวิธีทางกดดันให้ลาออกโดยจะย้ายตัวพนักงานไปปฏิบัติหน้าที่ต่างจังหวัดและกล่าาวหาว่าเราทำงานไม่ได้ตามเป้าหมายที่กำหนดไว้จะทำอย่างไรโดยไม่มีตำแหน่งงานให้ทำ\n",
      "answer: ให้ท่านดำเนินการฟ้องธนาคารนายจ้างต่อศาลแรงงานฐานที่นายจ้างปฏิบัติต่อลูกจ้างไม่เท่าเทียมในการจ้างงานและบีบบังคับลูกจ้างไม่ชอบด้วยพรบคุ้มครองแรงงานพศ\n",
      "Topic distribution for similar document : \n"
     ]
    },
    {
     "ename": "ValueError",
     "evalue": "unable to parse line: b' 273 1\\r\\n'",
     "output_type": "error",
     "traceback": [
      "\u001b[1;31m---------------------------------------------------------------------------\u001b[0m",
      "\u001b[1;31mValueError\u001b[0m                                Traceback (most recent call last)",
      "Cell \u001b[1;32mIn[32], line 11\u001b[0m\n\u001b[0;32m      9\u001b[0m \u001b[39mprint\u001b[39m(\u001b[39mf\u001b[39m\u001b[39m\"\u001b[39m\u001b[39manswer: \u001b[39m\u001b[39m{\u001b[39;00mdata\u001b[39m.\u001b[39manswer[doc_id]\u001b[39m}\u001b[39;00m\u001b[39m\"\u001b[39m)\n\u001b[0;32m     10\u001b[0m \u001b[39mprint\u001b[39m(\u001b[39m\"\u001b[39m\u001b[39mTopic distribution for similar document : \u001b[39m\u001b[39m\"\u001b[39m)\n\u001b[1;32m---> 11\u001b[0m \u001b[39mfor\u001b[39;00m num, dis \u001b[39min\u001b[39;00m corpus_lda[doc_id]:\n\u001b[0;32m     12\u001b[0m   \u001b[39mprint\u001b[39m(\u001b[39mf\u001b[39m\u001b[39m\"\u001b[39m\u001b[39m\\t\u001b[39;00m\u001b[39m(\u001b[39m\u001b[39m{\u001b[39;00mtopic_dict\u001b[39m.\u001b[39mget(num)\u001b[39m}\u001b[39;00m\u001b[39m, \u001b[39m\u001b[39m{\u001b[39;00m\u001b[39m'\u001b[39m\u001b[39m%.5f\u001b[39;00m\u001b[39m'\u001b[39m\u001b[39m \u001b[39m\u001b[39m%\u001b[39mdis\u001b[39m}\u001b[39;00m\u001b[39m)\u001b[39m\u001b[39m\"\u001b[39m)\n",
      "File \u001b[1;32mc:\\Users\\User\\anaconda3\\lib\\site-packages\\gensim\\interfaces.py:204\u001b[0m, in \u001b[0;36mTransformedCorpus.__getitem__\u001b[1;34m(self, docno)\u001b[0m\n\u001b[0;32m    181\u001b[0m \u001b[39m\u001b[39m\u001b[39m\"\"\"Transform the document at position `docno` within `corpus` specified in the constructor.\u001b[39;00m\n\u001b[0;32m    182\u001b[0m \n\u001b[0;32m    183\u001b[0m \u001b[39mParameters\u001b[39;00m\n\u001b[1;32m   (...)\u001b[0m\n\u001b[0;32m    201\u001b[0m \n\u001b[0;32m    202\u001b[0m \u001b[39m\"\"\"\u001b[39;00m\n\u001b[0;32m    203\u001b[0m \u001b[39mif\u001b[39;00m \u001b[39mhasattr\u001b[39m(\u001b[39mself\u001b[39m\u001b[39m.\u001b[39mcorpus, \u001b[39m'\u001b[39m\u001b[39m__getitem__\u001b[39m\u001b[39m'\u001b[39m):\n\u001b[1;32m--> 204\u001b[0m     \u001b[39mreturn\u001b[39;00m \u001b[39mself\u001b[39m\u001b[39m.\u001b[39mobj[\u001b[39mself\u001b[39;49m\u001b[39m.\u001b[39;49mcorpus[docno]]\n\u001b[0;32m    205\u001b[0m \u001b[39melse\u001b[39;00m:\n\u001b[0;32m    206\u001b[0m     \u001b[39mraise\u001b[39;00m \u001b[39mRuntimeError\u001b[39;00m(\u001b[39m'\u001b[39m\u001b[39mType \u001b[39m\u001b[39m{}\u001b[39;00m\u001b[39m does not support slicing.\u001b[39m\u001b[39m'\u001b[39m\u001b[39m.\u001b[39mformat(\u001b[39mtype\u001b[39m(\u001b[39mself\u001b[39m\u001b[39m.\u001b[39mcorpus)))\n",
      "File \u001b[1;32mc:\\Users\\User\\anaconda3\\lib\\site-packages\\gensim\\corpora\\indexedcorpus.py:185\u001b[0m, in \u001b[0;36mIndexedCorpus.__getitem__\u001b[1;34m(self, docno)\u001b[0m\n\u001b[0;32m    183\u001b[0m     \u001b[39mreturn\u001b[39;00m utils\u001b[39m.\u001b[39mSlicedCorpus(\u001b[39mself\u001b[39m, docno)\n\u001b[0;32m    184\u001b[0m \u001b[39melif\u001b[39;00m \u001b[39misinstance\u001b[39m(docno, (\u001b[39mint\u001b[39m, numpy\u001b[39m.\u001b[39minteger,)):\n\u001b[1;32m--> 185\u001b[0m     \u001b[39mreturn\u001b[39;00m \u001b[39mself\u001b[39;49m\u001b[39m.\u001b[39;49mdocbyoffset(\u001b[39mself\u001b[39;49m\u001b[39m.\u001b[39;49mindex[docno])\n\u001b[0;32m    186\u001b[0m     \u001b[39m# TODO: no `docbyoffset` method, should be defined in this class\u001b[39;00m\n\u001b[0;32m    187\u001b[0m \u001b[39melse\u001b[39;00m:\n\u001b[0;32m    188\u001b[0m     \u001b[39mraise\u001b[39;00m \u001b[39mValueError\u001b[39;00m(\u001b[39m'\u001b[39m\u001b[39mUnrecognised value for docno, use either a single integer, a slice or a numpy.ndarray\u001b[39m\u001b[39m'\u001b[39m)\n",
      "File \u001b[1;32mc:\\Users\\User\\anaconda3\\lib\\site-packages\\gensim\\corpora\\_mmreader.pyx:194\u001b[0m, in \u001b[0;36mgensim.corpora._mmreader.MmReader.docbyoffset\u001b[1;34m()\u001b[0m\n",
      "\u001b[1;31mValueError\u001b[0m: unable to parse line: b' 273 1\\r\\n'"
     ]
    }
   ],
   "source": [
    "corpus_lda = lda_model[corpus_question]\n",
    "index = similarities.MatrixSimilarity(corpus_lda, num_features=len(id2word))\n",
    "sims = index[new_doc_topics]\n",
    "sims_sorted = sorted(enumerate(sims), key=lambda item: -item[1])\n",
    "print(f\"Topic distribution for new document : {new_doc_topics}\\n{new_doc}\\n\")\n",
    "for doc_id, similarity in sims_sorted[:5]:\n",
    "    print(f\"Document ID: {doc_id}, Similarity score: {similarity}\")\n",
    "    print(f\"question: {data.question[doc_id]}\")\n",
    "    print(f\"answer: {data.answer[doc_id]}\")\n",
    "    print(\"Topic distribution for similar document : \")\n",
    "    for num, dis in corpus_lda[doc_id]:\n",
    "      print(f\"\\t({topic_dict.get(num)}, {'%.5f' %dis})\")\n",
    "    #print(\"\\n\")\n",
    "    #print(f\"Topic distribution for similar document : \\n{corpus_lda[doc_id]}\\n\")"
   ]
  },
  {
   "cell_type": "code",
   "execution_count": 31,
   "metadata": {},
   "outputs": [
    {
     "data": {
      "text/plain": [
       "<gensim.interfaces.TransformedCorpus at 0x2211b631dc0>"
      ]
     },
     "execution_count": 31,
     "metadata": {},
     "output_type": "execute_result"
    }
   ],
   "source": [
    "corpus_lda"
   ]
  },
  {
   "cell_type": "code",
   "execution_count": null,
   "metadata": {},
   "outputs": [],
   "source": []
  }
 ],
 "metadata": {
  "kernelspec": {
   "display_name": "base",
   "language": "python",
   "name": "python3"
  },
  "language_info": {
   "codemirror_mode": {
    "name": "ipython",
    "version": 3
   },
   "file_extension": ".py",
   "mimetype": "text/x-python",
   "name": "python",
   "nbconvert_exporter": "python",
   "pygments_lexer": "ipython3",
   "version": "3.9.13"
  },
  "orig_nbformat": 4
 },
 "nbformat": 4,
 "nbformat_minor": 2
}
