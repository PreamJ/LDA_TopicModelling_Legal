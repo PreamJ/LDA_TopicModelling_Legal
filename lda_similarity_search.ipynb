{
 "cells": [
  {
   "cell_type": "code",
   "execution_count": 1,
   "metadata": {},
   "outputs": [],
   "source": [
    "import pandas as pd\n",
    "import numpy as np\n",
    "import re\n",
    "import gensim\n",
    "from pythainlp.tokenize import word_tokenize\n",
    "from pythainlp.corpus import thai_stopwords\n",
    "from wordcloud import WordCloud\n",
    "from gensim import corpora, models, similarities\n",
    "import pyLDAvis\n",
    "from pprint import pprint\n",
    "import pickle \n",
    "import os\n",
    "import matplotlib.pyplot as plt\n",
    "from gensim.models import CoherenceModel\n",
    "from gensim.test.utils import datapath\n",
    "import random\n",
    "from gensim.models.ldamodel import LdaModel\n",
    "import sklearn\n",
    "from sklearn.metrics.pairwise import cosine_similarity\n",
    "from sklearn.decomposition import LatentDirichletAllocation\n",
    "from sklearn.feature_extraction.text import CountVectorizer\n",
    "from gensim.corpora import MmCorpus\n",
    "import csv\n",
    "import pyLDAvis.gensim_models as gensimvis\n",
    "RANDOM_STATE = 1"
   ]
  },
  {
   "cell_type": "code",
   "execution_count": 22,
   "metadata": {},
   "outputs": [],
   "source": [
    "data = pd.read_csv('dataset/DatasetLegal.csv')\n",
    "with open('model/id2word.pkl', 'rb') as f:\n",
    "    id2word = pickle.load(f)\n",
    "with open(\"lda/topic_dict_5.pkl\", \"rb\") as f:\n",
    "   topic_dict = pickle.load(f)\n",
    "with open(\"lda/lda_model_5.pkl\", \"rb\") as f:\n",
    "    lda_model = pickle.load(f)\n",
    "corpus_question = corpora.MmCorpus('corpus_question.mm')\n",
    "\n",
    "str_answer = data['answer'].astype(str)\n",
    "str_answer = str_answer.map(lambda x: re.sub('[,.!?*#/]', '', x))\n",
    "str_question = data['question'].astype(str)\n",
    "str_question = str_question.map(lambda x: re.sub('[,.!?*#/]', '', x))\n",
    "\n",
    "train_answer = list(str_answer[:5625])\n",
    "test_answer = list(str_answer[5625:])\n",
    "train_question = list(str_question[:5625])\n",
    "test_question = list(str_question[5625:])"
   ]
  },
  {
   "cell_type": "code",
   "execution_count": 23,
   "metadata": {},
   "outputs": [],
   "source": [
    "def preprocess(text):\n",
    "  stopwords = list(thai_stopwords())\n",
    "  read_stopwords = pd.read_csv('dataset/add_stopwords.csv')\n",
    "  add_stopwords = read_stopwords['stopword'].values.tolist()\n",
    "  result = []\n",
    "  str_text = str(text).replace(' ','')\n",
    "  word_token = word_tokenize(str_text, engine='newmm')\n",
    "  for word in word_token:\n",
    "    if(word not in stopwords + add_stopwords):\n",
    "      result.append(word)\n",
    "  return result\n",
    "\n",
    "def bow(text):\n",
    "  vector = id2word.doc2bow(text)\n",
    "  return vector"
   ]
  },
  {
   "cell_type": "code",
   "execution_count": 24,
   "metadata": {},
   "outputs": [
    {
     "name": "stdout",
     "output_type": "stream",
     "text": [
      "{'labor': 0.006175399, 'personal_right/court': 0.007730632, 'family/succession': 0.35306707, 'contract': 0.62829155, 'criminal': 0.0047354074}\n"
     ]
    }
   ],
   "source": [
    "new_doc = random.choice(test_question)\n",
    "test_doc = preprocess(new_doc)\n",
    "test_doc = bow(test_doc)\n",
    "# print(test_doc)\n",
    "new_doc_topics = lda_model.get_document_topics(test_doc)\n",
    "new_doc_topics_dict = {topic_dict[topic]: prob for topic, prob in new_doc_topics}\n",
    "print(new_doc_topics_dict)"
   ]
  },
  {
   "cell_type": "code",
   "execution_count": 25,
   "metadata": {},
   "outputs": [
    {
     "data": {
      "image/png": "[encoded data removed]",
      "text/plain": [
       "<Figure size 800x600 with 1 Axes>"
      ]
     },
     "metadata": {},
     "output_type": "display_data"
    }
   ],
   "source": [
    "# plot the bar chart\n",
    "plt.figure(figsize=(8,6))\n",
    "plt.bar([t[0] for t in new_doc_topics], [t[1] for t in new_doc_topics])\n",
    "plt.xlabel('Topic ID')\n",
    "plt.ylabel('Topic Proportion')\n",
    "plt.title(f'Topic Distribution for new document')\n",
    "plt.show()"
   ]
  },
  {
   "cell_type": "code",
   "execution_count": 26,
   "metadata": {},
   "outputs": [
    {
     "name": "stdout",
     "output_type": "stream",
     "text": [
      "Topic distribution for new document : [(0, 0.006175399), (1, 0.007730632), (2, 0.35306707), (3, 0.62829155), (4, 0.0047354074)]\n",
      "สามีมีหนี้จากบัตรเครดิตถ้าหย่ากับภรรยาๆต้องร่วมรับหนี้นี้ด้วยไหมหรือต้องมีการพิสูจน์ว่าได้ใช้ไปในครัวเรือนและยังชีพ\n",
      "\n",
      "Document ID: 4764, Similarity score: 0.9999600648880005\n",
      "เห็นว่าประมวลกฎหมายแพ่งและพาณิชย์มาตรา๑๔๗๐บัญญัติว่าสินส่วนตัวนั้นได้แก่ทรัพย์สิน๑ที่ฝ่ายหนึ่งฝ่ายใดมีอยู่ก่อนสมรสมาตรา๑๔๗๔สินสมรสนั้นได้แก่ทรัพย์สิน๑ที่คู่สมรสได้มาระหว่างสมรสเห็นว่าแม้ในปัจจุบันชื่อผู้ถือกรรมสิทธิ์ที่ดินเป็นของแฟนแต่อยู่ในระหว่างกำลังผ่อนชำระหนี้สินอยู่แต่เมื่อได้จดทะเบียนสมรสกันกว่าจะส่งชำระหนี้เงินค่าซื้อบ้านหมดถือว่าเป็นการร่วมกันสร้างทรัพย์สินด้วยกันขึ้นมาและเป็นสินสมรสแต่ท่านต้องขอมีชื่อร่วมเป็นเจ้าของกรรมสิทธิ์ด้วยต่างกับกรณีที่แฟนมีที่ดินมาก่อนและไม่มีการผ่อนส่งที่ดินดังกล่าวนั้นเป็นสินส่วนตัวของแฟนท่านท่านควรจะพูดคุยเรื่อนี้ให้เข้าใจกันให้ดีเพื่อจะไม่ขัดใจกันในครอบครัว\n",
      "Topic distribution for similar document : \n",
      "\t(labor, 0.00351)\n",
      "\t(personal_right/court, 0.00439)\n",
      "\t(family/succession, 0.35916)\n",
      "\t(contract, 0.63025)\n",
      "\t(criminal, 0.00269)\n",
      "Document ID: 336, Similarity score: 0.9999432563781738\n",
      "กฎหมายไม่ได้กำหนดรูปแบบไว้ก็ออกแบบเอาเองได้ตามความเหมาะสมดังตัวอย่างที่วันที่เดือนพศบัญชีทรัพย์มรดกของผู้เป็นเจ้ามรดกลำดับที่ทรัพย์มรดกเอกสารสิทธิ์เลขที่ทะเบียนเนื้อที่ไร่งานตรวาที่ตั้งทรัพย์หมายเหตุที่ดินโฉนดที่ดินอจังหวัดรถยนต์อีซุซุคู่มือจดทะเบียนกกกทมลงชื่อผู้จัดการมรดกลงชื่อทายาทผู้มีส่วนได้เสียลงชื่อทายาทผู้มีส่วนได้เสียอย่างน้อยสองคนถ้าให้ทายาทลงลายมือชื่อได้ทุกคนจะปลอดภัย\n",
      "Topic distribution for similar document : \n",
      "\t(labor, 0.00556)\n",
      "\t(personal_right/court, 0.00695)\n",
      "\t(family/succession, 0.35940)\n",
      "\t(contract, 0.62383)\n",
      "\t(criminal, 0.00426)\n",
      "Document ID: 1550, Similarity score: 0.9999270439147949\n",
      "ขายฝากคือสัญญาซื้อขายซึ่งกรรมสิทธิ์ในทรัพย์สินตกไปยังผู้ซื้อโดยมีข้อตกลงกันว่าผู้ขายอาจไถ่ทรัพย์นั้นคืนได้ตามปพพมาตราการที่ท่านได้ออกเงินให้แก่ญาติเพื่อไปไถ่ถอนที่ดินที่จำนองไว้กับธนาคารเจ้าหนี้และจะโอนใส่เป็นชื่อท่านในโฉนดที่ดินแล้วมีข้อตกลงกันว่ามีลักษณะเป็นการทำสัญญาขายฝากอันเป็นการทำสัญญาซื้อขายซึ่งกรรมสิทธิ์ในที่ดินที่ไถ่ถอนจำนองมายกตกเป็นกรรมสิทธิ์ของท่านเมื่อได้จดทะเบียนกับพนักงานเจ้าหน้าที่และก็มีการตกลงกับโดยเงื่อนไขที่ญาติผู้ขายอาจไถ่ที่ดินคืนได้ภายในกำหนดตามความแห่งปพพมาตราดังกล่าวข้างต้นท่านในฐานะที่เป็นผู้ซื้อฝากย่อมมีสิทธิเรียกดอกเบี้ยเป็นประโยชน์ตอบแทนร้อยละต่อปีตามปพพมาตราตัวบทกฎหมายอ้างอิงประมวลกฎหมายแพ่งและพาณิชย์มาตราอันว่าขายฝากนั้นคือสัญญาซื้อขายซึ่งกรรมสิทธิ์ในทรัพย์สินตกไปยังผู้ซื้อโดยมีข้อตกลงกันว่าผู้ขายอาจไถ่ทรัพย์นั้นคืนได้มาตราสินไถ่นั้นถ้าไม่ได้กำหนดกันไว้ว่าเท่าใดไซร้ท่านให้ไถ่ตามราคาที่ขายฝากถ้าปรากฏในเวลาไถ่ว่าสินไถ่หรือราคาขายฝากที่กำหนดไว้สูงกว่าราคาขายฝากที่แท้จริงเกินอัตราร้อยละสิบห้าต่อปีให้ไถ่ได้ตามราคาขายฝากที่แท้จริงรวมประโยชน์ตอบแทนร้อยละสิบห้าต่อปี\n",
      "Topic distribution for similar document : \n",
      "\t(labor, 0.00313)\n",
      "\t(personal_right/court, 0.00391)\n",
      "\t(family/succession, 0.35136)\n",
      "\t(contract, 0.63921)\n",
      "\t(criminal, 0.00240)\n",
      "Document ID: 4306, Similarity score: 0.9999221563339233\n",
      "ชายมีความผิดฐานพรากผู้เยาว์อายุกว่าปีแต่ยังไม่เกินปีไปเสียจากบิดามารดาของท่านเพื่อการอนาจารโดยผู้เยาว์นั้นแต่ใจไปด้วยตามปอมาตราการกระทำของชายในความผิดอาญาฐานพรากนี้เป็นการละเมิดต่ออำนาจปกครองของบิดามารดาของท่านบิดามารดาของท่านจึงมีสิทธิดำเนินคดีอาญาแก่ชายและเรียกค่าสินไหมทดแทนเพื่อการเสียหายดังกล่าวได้\n",
      "Topic distribution for similar document : \n",
      "\t(labor, 0.00121)\n",
      "\t(personal_right/court, 0.00151)\n",
      "\t(family/succession, 0.35964)\n",
      "\t(contract, 0.63671)\n",
      "\t(criminal, 0.00093)\n",
      "Document ID: 4473, Similarity score: 0.9999215006828308\n",
      "ขอเรียนตามตรงไม่เข้าใจว่าโฉนดมีฉบับย่อและตัวจริงอย่างไรเท่าที่ทราบโฉนดก็มีฉบับจริงเพียงฉบับเดียวเท่านั้นถ้าไม่ใช่ฉบับจริงคงไม่มีใครรับจำนองแน่นอนเมื่อที่ดินเป็นเป็นของเขาเขาย่อมนำไปจำนองได้เสมอคงไปฟ้องให้มีการเพิกถอนการจำนองไม่ได้แต่ก็ยังสงสัยอยู่ดีว่าถ้าไม่ใช่ฉบับจริงทำไมจึงไปจำนองได้อย่างไรตามข้อการจำนองไม่เป็นโมฆะถ้ามีการฟ้องเรียกหนี้คืนเจ้าหนี้จำนองย่อมมีสิทธิ์ได้รับชำระหนี้ก่อนถ้ามีเดงินเหลือเจ้าหนี้สามัญจึงจะได้รับการชำระหนี้\n",
      "Topic distribution for similar document : \n",
      "\t(labor, 0.00129)\n",
      "\t(personal_right/court, 0.00162)\n",
      "\t(family/succession, 0.35660)\n",
      "\t(contract, 0.63951)\n",
      "\t(criminal, 0.00099)\n"
     ]
    }
   ],
   "source": [
    "corpus_lda = lda_model[corpus_question]\n",
    "index = similarities.MatrixSimilarity(corpus_lda, num_features=len(id2word))\n",
    "sims = index[new_doc_topics]\n",
    "sims_sorted = sorted(enumerate(sims), key=lambda item: -item[1])\n",
    "print(f\"Topic distribution for new document : {new_doc_topics}\\n{new_doc}\\n\")\n",
    "for doc_id, similarity in sims_sorted[:5]:\n",
    "    print(f\"Document ID: {doc_id}, Similarity score: {similarity}\")\n",
    "    print(data.answer[doc_id])\n",
    "    print(\"Topic distribution for similar document : \")\n",
    "    for num, dis in corpus_lda[doc_id]:\n",
    "      print(f\"\\t({topic_dict.get(num)}, {'%.5f' %dis})\")\n",
    "    #print(\"\\n\")\n",
    "    #print(f\"Topic distribution for similar document : \\n{corpus_lda[doc_id]}\\n\")"
   ]
  },
  {
   "cell_type": "code",
   "execution_count": null,
   "metadata": {},
   "outputs": [],
   "source": []
  }
 ],
 "metadata": {
  "kernelspec": {
   "display_name": "base",
   "language": "python",
   "name": "python3"
  },
  "language_info": {
   "codemirror_mode": {
    "name": "ipython",
    "version": 3
   },
   "file_extension": ".py",
   "mimetype": "text/x-python",
   "name": "python",
   "nbconvert_exporter": "python",
   "pygments_lexer": "ipython3",
   "version": "3.9.13"
  },
  "orig_nbformat": 4
 },
 "nbformat": 4,
 "nbformat_minor": 2
}
