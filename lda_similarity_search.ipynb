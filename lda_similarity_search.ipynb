{
 "cells": [
  {
   "cell_type": "code",
   "execution_count": 1,
   "metadata": {},
   "outputs": [],
   "source": [
    "import pandas as pd\n",
    "import numpy as np\n",
    "import re\n",
    "import gensim\n",
    "from pythainlp.tokenize import word_tokenize\n",
    "from pythainlp.corpus import thai_stopwords\n",
    "from wordcloud import WordCloud\n",
    "from gensim import corpora, models, similarities\n",
    "import pyLDAvis\n",
    "from pprint import pprint\n",
    "import pickle \n",
    "import os\n",
    "import matplotlib.pyplot as plt\n",
    "from gensim.models import CoherenceModel\n",
    "from gensim.test.utils import datapath\n",
    "import random\n",
    "from gensim.models.ldamodel import LdaModel\n",
    "import sklearn\n",
    "from sklearn.metrics.pairwise import cosine_similarity\n",
    "from sklearn.decomposition import LatentDirichletAllocation\n",
    "from sklearn.feature_extraction.text import CountVectorizer\n",
    "from gensim.corpora import MmCorpus\n",
    "import csv\n",
    "import pyLDAvis.gensim_models as gensimvis\n",
    "RANDOM_STATE = 1"
   ]
  },
  {
   "cell_type": "code",
   "execution_count": 20,
   "metadata": {},
   "outputs": [
    {
     "ename": "UnpicklingError",
     "evalue": "invalid load key, '%'.",
     "output_type": "error",
     "traceback": [
      "\u001b[1;31m---------------------------------------------------------------------------\u001b[0m",
      "\u001b[1;31mUnpicklingError\u001b[0m                           Traceback (most recent call last)",
      "Cell \u001b[1;32mIn[20], line 9\u001b[0m\n\u001b[0;32m      7\u001b[0m     lda_model \u001b[39m=\u001b[39m pickle\u001b[39m.\u001b[39mload(f)\n\u001b[0;32m      8\u001b[0m \u001b[39mwith\u001b[39;00m \u001b[39mopen\u001b[39m(\u001b[39m\"\u001b[39m\u001b[39mmodel/corpus_question.mm\u001b[39m\u001b[39m\"\u001b[39m, \u001b[39m\"\u001b[39m\u001b[39mrb\u001b[39m\u001b[39m\"\u001b[39m) \u001b[39mas\u001b[39;00m f:\n\u001b[1;32m----> 9\u001b[0m     corpus \u001b[39m=\u001b[39m pickle\u001b[39m.\u001b[39;49mload(f)\n\u001b[0;32m     11\u001b[0m str_answer \u001b[39m=\u001b[39m data[\u001b[39m'\u001b[39m\u001b[39manswer\u001b[39m\u001b[39m'\u001b[39m]\u001b[39m.\u001b[39mastype(\u001b[39mstr\u001b[39m)\n\u001b[0;32m     12\u001b[0m str_answer \u001b[39m=\u001b[39m str_answer\u001b[39m.\u001b[39mmap(\u001b[39mlambda\u001b[39;00m x: re\u001b[39m.\u001b[39msub(\u001b[39m'\u001b[39m\u001b[39m[,.!?*#/]\u001b[39m\u001b[39m'\u001b[39m, \u001b[39m'\u001b[39m\u001b[39m'\u001b[39m, x))\n",
      "\u001b[1;31mUnpicklingError\u001b[0m: invalid load key, '%'."
     ]
    }
   ],
   "source": [
    "data = pd.read_csv('dataset/DatasetLegal.csv')\n",
    "with open('model/id2word.pkl', 'rb') as f:\n",
    "    id2word = pickle.load(f)\n",
    "with open(\"lda/topic_dict_5.pkl\", \"rb\") as f:\n",
    "   topic_dict = pickle.load(f)\n",
    "with open(\"lda/lda_model_5.pkl\", \"rb\") as f:\n",
    "    lda_model = pickle.load(f)\n",
    "with open(\"model/corpus_question.mm\", \"rb\") as f:\n",
    "    corpus = pickle.load(f)\n",
    "\n",
    "str_answer = data['answer'].astype(str)\n",
    "str_answer = str_answer.map(lambda x: re.sub('[,.!?*#/]', '', x))\n",
    "str_question = data['question'].astype(str)\n",
    "str_question = str_question.map(lambda x: re.sub('[,.!?*#/]', '', x))\n",
    "\n",
    "train_answer = list(str_answer[:5625])\n",
    "test_answer = list(str_answer[5625:])\n",
    "train_question = list(str_question[:5625])\n",
    "test_question = list(str_question[5625:])"
   ]
  },
  {
   "cell_type": "code",
   "execution_count": 10,
   "metadata": {},
   "outputs": [],
   "source": [
    "def preprocess(text):\n",
    "  stopwords = list(thai_stopwords())\n",
    "  read_stopwords = pd.read_csv('dataset/add_stopwords.csv')\n",
    "  add_stopwords = read_stopwords['stopword'].values.tolist()\n",
    "  result = []\n",
    "  str_text = str(text).replace(' ','')\n",
    "  word_token = word_tokenize(str_text, engine='newmm')\n",
    "  for word in word_token:\n",
    "    if(word not in stopwords + add_stopwords):\n",
    "      result.append(word)\n",
    "  return result\n",
    "\n",
    "def bow(text):\n",
    "  vector = id2word.doc2bow(text)\n",
    "  return vector"
   ]
  },
  {
   "cell_type": "code",
   "execution_count": 17,
   "metadata": {},
   "outputs": [
    {
     "name": "stdout",
     "output_type": "stream",
     "text": [
      "{'labor': 0.0007324068, 'personal_right/court': 0.05095869, 'family/succession': 0.000922472, 'contract': 0.0006223353, 'criminal': 0.9467641}\n"
     ]
    }
   ],
   "source": [
    "new_doc = random.choice(test_question)\n",
    "test_doc = preprocess(new_doc)\n",
    "test_doc = bow(test_doc)\n",
    "# print(test_doc)\n",
    "new_doc_topics = lda_model.get_document_topics(test_doc)\n",
    "new_doc_topics_dict = {topic_dict[topic]: prob for topic, prob in new_doc_topics}\n",
    "print(new_doc_topics_dict)"
   ]
  },
  {
   "cell_type": "code",
   "execution_count": 18,
   "metadata": {},
   "outputs": [
    {
     "data": {
      "image/png": "[encoded data removed]",
      "text/plain": [
       "<Figure size 800x600 with 1 Axes>"
      ]
     },
     "metadata": {},
     "output_type": "display_data"
    }
   ],
   "source": [
    "# plot the bar chart\n",
    "plt.figure(figsize=(8,6))\n",
    "plt.bar([t[0] for t in new_doc_topics], [t[1] for t in new_doc_topics])\n",
    "plt.xlabel('Topic ID')\n",
    "plt.ylabel('Topic Proportion')\n",
    "plt.title(f'Topic Distribution for new document')\n",
    "plt.show()"
   ]
  },
  {
   "cell_type": "code",
   "execution_count": null,
   "metadata": {},
   "outputs": [],
   "source": [
    "corpus_lda = lda_model[corpus]\n",
    "index = similarities.MatrixSimilarity(corpus_lda, num_features=len(id2word))\n",
    "sims = index[new_doc_topics]\n",
    "sims_sorted = sorted(enumerate(sims), key=lambda item: -item[1])\n",
    "print(f\"Topic distribution for new document : {new_doc_topics}\\n{new_doc}\\n\")\n",
    "for doc_id, similarity in sims_sorted[:5]:\n",
    "    print(f\"Document ID: {doc_id}, Similarity score: {similarity}\")\n",
    "    print(data.answer[doc_id])\n",
    "    print(\"Topic distribution for similar document : \")\n",
    "    for num, dis in corpus_lda[doc_id]:\n",
    "      print(f\"\\t({topic_dict.get(num)}, {'%.5f' %dis})\")\n",
    "    #print(\"\\n\")\n",
    "    #print(f\"Topic distribution for similar document : \\n{corpus_lda[doc_id]}\\n\")"
   ]
  },
  {
   "cell_type": "code",
   "execution_count": null,
   "metadata": {},
   "outputs": [],
   "source": []
  }
 ],
 "metadata": {
  "kernelspec": {
   "display_name": "base",
   "language": "python",
   "name": "python3"
  },
  "language_info": {
   "codemirror_mode": {
    "name": "ipython",
    "version": 3
   },
   "file_extension": ".py",
   "mimetype": "text/x-python",
   "name": "python",
   "nbconvert_exporter": "python",
   "pygments_lexer": "ipython3",
   "version": "3.9.13"
  },
  "orig_nbformat": 4
 },
 "nbformat": 4,
 "nbformat_minor": 2
}
